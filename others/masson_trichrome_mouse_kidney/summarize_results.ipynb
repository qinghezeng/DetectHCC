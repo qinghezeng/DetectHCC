{
 "cells": [
  {
   "cell_type": "code",
   "execution_count": 12,
   "metadata": {},
   "outputs": [],
   "source": [
    "import os\n",
    "import pandas as pd"
   ]
  },
  {
   "cell_type": "code",
   "execution_count": 13,
   "metadata": {},
   "outputs": [],
   "source": [
    "path = \"/media/visiopharm5/WDRed(backup)/qupath_masson_trichrome_norm5x/results_norm5x\""
   ]
  },
  {
   "cell_type": "code",
   "execution_count": 14,
   "metadata": {},
   "outputs": [
    {
     "name": "stdout",
     "output_type": "stream",
     "text": [
      "12\n"
     ]
    }
   ],
   "source": [
    "txts = []\n",
    "for root, dirs, files in os.walk(path):\n",
    "    for file in files:\n",
    "        if file.endswith(\".txt\"):\n",
    "            txts.append(file)\n",
    "print(len(txts))"
   ]
  },
  {
   "cell_type": "code",
   "execution_count": 15,
   "metadata": {},
   "outputs": [],
   "source": [
    "def calcul_ratio(nfile):\n",
    "    df = pd.read_csv(os.path.join(root, nfile), \"\\t\")\n",
    "#     print(df.shape)\n",
    "#     display(df.head(5))\n",
    "    area_tissue = sum(df[df[\"Class\"]==\"Tissue*\"][\"Area µm^2\"])\n",
    "    area_fibrosis = sum(df[df[\"Class\"]==\"Fibrosis\"][\"Area µm^2\"])\n",
    "    ratio = area_fibrosis/area_tissue\n",
    "    return area_fibrosis, area_tissue, ratio"
   ]
  },
  {
   "cell_type": "code",
   "execution_count": 16,
   "metadata": {},
   "outputs": [
    {
     "data": {
      "text/html": [
       "<div>\n",
       "<style scoped>\n",
       "    .dataframe tbody tr th:only-of-type {\n",
       "        vertical-align: middle;\n",
       "    }\n",
       "\n",
       "    .dataframe tbody tr th {\n",
       "        vertical-align: top;\n",
       "    }\n",
       "\n",
       "    .dataframe thead th {\n",
       "        text-align: right;\n",
       "    }\n",
       "</style>\n",
       "<table border=\"1\" class=\"dataframe\">\n",
       "  <thead>\n",
       "    <tr style=\"text-align: right;\">\n",
       "      <th></th>\n",
       "      <th>Fibrosis Area µm^2</th>\n",
       "      <th>Tissue Area µm^2</th>\n",
       "      <th>Ratio Fibrosis/Tissue</th>\n",
       "    </tr>\n",
       "    <tr>\n",
       "      <th>Slide Name</th>\n",
       "      <th></th>\n",
       "      <th></th>\n",
       "      <th></th>\n",
       "    </tr>\n",
       "  </thead>\n",
       "  <tbody>\n",
       "  </tbody>\n",
       "</table>\n",
       "</div>"
      ],
      "text/plain": [
       "Empty DataFrame\n",
       "Columns: [Fibrosis Area µm^2, Tissue Area µm^2, Ratio Fibrosis/Tissue]\n",
       "Index: []"
      ]
     },
     "metadata": {},
     "output_type": "display_data"
    },
    {
     "name": "stdout",
     "output_type": "stream",
     "text": [
      "(12, 3)\n"
     ]
    },
    {
     "data": {
      "text/html": [
       "<div>\n",
       "<style scoped>\n",
       "    .dataframe tbody tr th:only-of-type {\n",
       "        vertical-align: middle;\n",
       "    }\n",
       "\n",
       "    .dataframe tbody tr th {\n",
       "        vertical-align: top;\n",
       "    }\n",
       "\n",
       "    .dataframe thead th {\n",
       "        text-align: right;\n",
       "    }\n",
       "</style>\n",
       "<table border=\"1\" class=\"dataframe\">\n",
       "  <thead>\n",
       "    <tr style=\"text-align: right;\">\n",
       "      <th></th>\n",
       "      <th>Fibrosis Area µm^2</th>\n",
       "      <th>Tissue Area µm^2</th>\n",
       "      <th>Ratio Fibrosis/Tissue</th>\n",
       "    </tr>\n",
       "    <tr>\n",
       "      <th>Slide Name</th>\n",
       "      <th></th>\n",
       "      <th></th>\n",
       "      <th></th>\n",
       "    </tr>\n",
       "  </thead>\n",
       "  <tbody>\n",
       "    <tr>\n",
       "      <th>KI-TCM-1.czi[--series, 1]_reinhard_stmask</th>\n",
       "      <td>841316.37</td>\n",
       "      <td>41008954.9</td>\n",
       "      <td>0.020515</td>\n",
       "    </tr>\n",
       "    <tr>\n",
       "      <th>KI-TCM-2.czi[--series, 0]_reinhard_stmask</th>\n",
       "      <td>1123837.70</td>\n",
       "      <td>41080285.8</td>\n",
       "      <td>0.027357</td>\n",
       "    </tr>\n",
       "    <tr>\n",
       "      <th>KI-TCM-3.czi - Scene #0</th>\n",
       "      <td>592712.60</td>\n",
       "      <td>28339740.4</td>\n",
       "      <td>0.020915</td>\n",
       "    </tr>\n",
       "    <tr>\n",
       "      <th>KI-TCM-3.czi[--series, 0]_reinhard_stmask</th>\n",
       "      <td>293812.61</td>\n",
       "      <td>28969766.0</td>\n",
       "      <td>0.010142</td>\n",
       "    </tr>\n",
       "    <tr>\n",
       "      <th>KI-TCM-4.czi[--series, 0]_reinhard_stmask</th>\n",
       "      <td>848691.70</td>\n",
       "      <td>38060867.2</td>\n",
       "      <td>0.022298</td>\n",
       "    </tr>\n",
       "    <tr>\n",
       "      <th>KI-TCM-5.czi[--series, 0]_reinhard_stmask</th>\n",
       "      <td>955842.40</td>\n",
       "      <td>41712665.0</td>\n",
       "      <td>0.022915</td>\n",
       "    </tr>\n",
       "    <tr>\n",
       "      <th>KI-TCM-6.czi[--series, 0]_reinhard_stmask</th>\n",
       "      <td>656756.93</td>\n",
       "      <td>39816257.1</td>\n",
       "      <td>0.016495</td>\n",
       "    </tr>\n",
       "    <tr>\n",
       "      <th>WT-TCM-1.czi - Scene #0</th>\n",
       "      <td>508080.91</td>\n",
       "      <td>40776750.3</td>\n",
       "      <td>0.012460</td>\n",
       "    </tr>\n",
       "    <tr>\n",
       "      <th>WT-TCM-1.czi[--series, 0]_reinhard_stmask</th>\n",
       "      <td>477486.95</td>\n",
       "      <td>40823269.2</td>\n",
       "      <td>0.011696</td>\n",
       "    </tr>\n",
       "    <tr>\n",
       "      <th>WT-TCM-2.czi[--series, 1]_reinhard_stmask</th>\n",
       "      <td>459705.20</td>\n",
       "      <td>48389290.2</td>\n",
       "      <td>0.009500</td>\n",
       "    </tr>\n",
       "    <tr>\n",
       "      <th>WT-TCM-3.czi[--series, 1]_reinhard_stmask</th>\n",
       "      <td>500361.60</td>\n",
       "      <td>42815503.0</td>\n",
       "      <td>0.011686</td>\n",
       "    </tr>\n",
       "    <tr>\n",
       "      <th>WT-TCM-4.czi[--series, 0]_reinhard_stmask</th>\n",
       "      <td>318947.30</td>\n",
       "      <td>43806333.4</td>\n",
       "      <td>0.007281</td>\n",
       "    </tr>\n",
       "  </tbody>\n",
       "</table>\n",
       "</div>"
      ],
      "text/plain": [
       "                                           Fibrosis Area µm^2  \\\n",
       "Slide Name                                                      \n",
       "KI-TCM-1.czi[--series, 1]_reinhard_stmask           841316.37   \n",
       "KI-TCM-2.czi[--series, 0]_reinhard_stmask          1123837.70   \n",
       "KI-TCM-3.czi - Scene #0                             592712.60   \n",
       "KI-TCM-3.czi[--series, 0]_reinhard_stmask           293812.61   \n",
       "KI-TCM-4.czi[--series, 0]_reinhard_stmask           848691.70   \n",
       "KI-TCM-5.czi[--series, 0]_reinhard_stmask           955842.40   \n",
       "KI-TCM-6.czi[--series, 0]_reinhard_stmask           656756.93   \n",
       "WT-TCM-1.czi - Scene #0                             508080.91   \n",
       "WT-TCM-1.czi[--series, 0]_reinhard_stmask           477486.95   \n",
       "WT-TCM-2.czi[--series, 1]_reinhard_stmask           459705.20   \n",
       "WT-TCM-3.czi[--series, 1]_reinhard_stmask           500361.60   \n",
       "WT-TCM-4.czi[--series, 0]_reinhard_stmask           318947.30   \n",
       "\n",
       "                                           Tissue Area µm^2  \\\n",
       "Slide Name                                                    \n",
       "KI-TCM-1.czi[--series, 1]_reinhard_stmask        41008954.9   \n",
       "KI-TCM-2.czi[--series, 0]_reinhard_stmask        41080285.8   \n",
       "KI-TCM-3.czi - Scene #0                          28339740.4   \n",
       "KI-TCM-3.czi[--series, 0]_reinhard_stmask        28969766.0   \n",
       "KI-TCM-4.czi[--series, 0]_reinhard_stmask        38060867.2   \n",
       "KI-TCM-5.czi[--series, 0]_reinhard_stmask        41712665.0   \n",
       "KI-TCM-6.czi[--series, 0]_reinhard_stmask        39816257.1   \n",
       "WT-TCM-1.czi - Scene #0                          40776750.3   \n",
       "WT-TCM-1.czi[--series, 0]_reinhard_stmask        40823269.2   \n",
       "WT-TCM-2.czi[--series, 1]_reinhard_stmask        48389290.2   \n",
       "WT-TCM-3.czi[--series, 1]_reinhard_stmask        42815503.0   \n",
       "WT-TCM-4.czi[--series, 0]_reinhard_stmask        43806333.4   \n",
       "\n",
       "                                           Ratio Fibrosis/Tissue  \n",
       "Slide Name                                                        \n",
       "KI-TCM-1.czi[--series, 1]_reinhard_stmask               0.020515  \n",
       "KI-TCM-2.czi[--series, 0]_reinhard_stmask               0.027357  \n",
       "KI-TCM-3.czi - Scene #0                                 0.020915  \n",
       "KI-TCM-3.czi[--series, 0]_reinhard_stmask               0.010142  \n",
       "KI-TCM-4.czi[--series, 0]_reinhard_stmask               0.022298  \n",
       "KI-TCM-5.czi[--series, 0]_reinhard_stmask               0.022915  \n",
       "KI-TCM-6.czi[--series, 0]_reinhard_stmask               0.016495  \n",
       "WT-TCM-1.czi - Scene #0                                 0.012460  \n",
       "WT-TCM-1.czi[--series, 0]_reinhard_stmask               0.011696  \n",
       "WT-TCM-2.czi[--series, 1]_reinhard_stmask               0.009500  \n",
       "WT-TCM-3.czi[--series, 1]_reinhard_stmask               0.011686  \n",
       "WT-TCM-4.czi[--series, 0]_reinhard_stmask               0.007281  "
      ]
     },
     "metadata": {},
     "output_type": "display_data"
    }
   ],
   "source": [
    "df_res = pd.DataFrame(columns=[\"Fibrosis Area µm^2\", \"Tissue Area µm^2\", \"Ratio Fibrosis/Tissue\"])\n",
    "df_res.index.name = \"Slide Name\"\n",
    "display(df_res)\n",
    "for txt in txts:\n",
    "#     print(calcul_ratio(txt))\n",
    "    df_res = df_res.append(pd.Series(calcul_ratio(txt), index = df_res.columns, name = txt[:-4]))\n",
    "print(df_res.shape)\n",
    "display(df_res)"
   ]
  },
  {
   "cell_type": "code",
   "execution_count": 17,
   "metadata": {},
   "outputs": [],
   "source": [
    "df_res.to_csv(os.path.join(path, \"summary.csv\"))"
   ]
  },
  {
   "cell_type": "code",
   "execution_count": null,
   "metadata": {},
   "outputs": [],
   "source": []
  },
  {
   "cell_type": "code",
   "execution_count": null,
   "metadata": {},
   "outputs": [],
   "source": []
  }
 ],
 "metadata": {
  "kernelspec": {
   "display_name": "Python 3",
   "language": "python",
   "name": "python3"
  },
  "language_info": {
   "codemirror_mode": {
    "name": "ipython",
    "version": 3
   },
   "file_extension": ".py",
   "mimetype": "text/x-python",
   "name": "python",
   "nbconvert_exporter": "python",
   "pygments_lexer": "ipython3",
   "version": "3.8.3"
  }
 },
 "nbformat": 4,
 "nbformat_minor": 4
}
