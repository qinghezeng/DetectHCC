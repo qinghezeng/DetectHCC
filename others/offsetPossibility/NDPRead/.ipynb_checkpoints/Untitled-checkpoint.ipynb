{
 "cells": [
  {
   "cell_type": "code",
   "execution_count": 1,
   "metadata": {},
   "outputs": [],
   "source": [
    "from NDPRead import *"
   ]
  },
  {
   "cell_type": "code",
   "execution_count": 2,
   "metadata": {},
   "outputs": [],
   "source": [
    "LoadNDPRead()"
   ]
  },
  {
   "cell_type": "code",
   "execution_count": 3,
   "metadata": {},
   "outputs": [
    {
     "data": {
      "text/plain": [
       "0"
      ]
     },
     "execution_count": 3,
     "metadata": {},
     "output_type": "execute_result"
    }
   ],
   "source": [
    "f= \"E:\\\\deeplearning\\\\Hepatocarcinomes\\\\Biopsy HCC\\\\R10_004_3- 2017-08-25 13.25.36.ndpi\"\n",
    "# f= \"E:\\\\deeplearning\\\\Hepatocarcinomes\\\\slides_annotations_hammamatsu\\\\HMNT0001.ndpi\"\n",
    "SetLowLevelParam (f,\"EnableImage0\",\"0.0\")"
   ]
  },
  {
   "cell_type": "code",
   "execution_count": 4,
   "metadata": {},
   "outputs": [
    {
     "name": "stdout",
     "output_type": "stream",
     "text": [
      "Width (nm) = 0\n",
      "Height (nm) = 0\n"
     ]
    }
   ],
   "source": [
    "w=GetImageWidth(f)\n",
    "print('Width (nm) =',w)\n",
    "\n",
    "h=GetImageHeight(f)\n",
    "print('Height (nm) =',h)"
   ]
  },
  {
   "cell_type": "code",
   "execution_count": 5,
   "metadata": {},
   "outputs": [
    {
     "name": "stdout",
     "output_type": "stream",
     "text": [
      "\n",
      "****Slide****\n",
      "Center x (nm) = 0\n",
      "Center y (nm) = 0\n",
      "Slide width (nm) = 0.000\n",
      "Slide height (nm) = 0.000\n",
      "Slide width (pix) = 600\n",
      "Slide height (pix) = 200\n",
      "Slide octet = 480000\n"
     ]
    },
    {
     "data": {
      "image/png": "[encoded data removed]",
      "text/plain": [
       "<Figure size 432x288 with 1 Axes>"
      ]
     },
     "metadata": {
      "needs_background": "light"
     },
     "output_type": "display_data"
    }
   ],
   "source": [
    "slide=GetSlideImage(f)\n",
    "#[buff,center_x.value,center_y.value,center_y.value,map_height.value,\n",
    "#  map_pwidth.value,map_pheight.value]\n",
    "print(\"\\n****Slide****\")\n",
    "print(\"Center x (nm) =\",slide[1])\n",
    "print(\"Center y (nm) =\",slide[2])\n",
    "print(\"Slide width (nm) = %2.3f\" %(slide[3] /1e6))\n",
    "print(\"Slide height (nm) = %2.3f\" %(slide[4] /1e6))\n",
    "print(\"Slide width (pix) =\",slide[5])\n",
    "print(\"Slide height (pix) =\",slide[6])\n",
    "print(\"Slide octet =\", sizeof(slide[0]))\n",
    "#creation d'une image PIL a partir du buffer \"L\", \"RGRBX\", \"RGBA\", and \"CMYK\"\n",
    "size=(slide[5]+1,slide[6])     #pourquoi +1??\n",
    "im2 =  Image.frombuffer('RGB', size, slide[0],'raw', 'RGB', 0,1)\n",
    "plt.imshow(im2)\n",
    "plt.show()\n"
   ]
  },
  {
   "cell_type": "code",
   "execution_count": 6,
   "metadata": {},
   "outputs": [
    {
     "name": "stdout",
     "output_type": "stream",
     "text": [
      "\n",
      "****Snapshot****\n",
      "pos x (mm) = 12.000\n",
      "pos y ((mm) = 2.500\n",
      "pos z (mm) = 0.000\n",
      "lens =  20.0\n",
      "width (mm) = 0.000\n",
      "height (mm) = 0.000\n",
      "\n"
     ]
    },
    {
     "data": {
      "image/png": "[encoded data removed]",
      "text/plain": [
       "<Figure size 432x288 with 1 Axes>"
      ]
     },
     "metadata": {
      "needs_background": "light"
     },
     "output_type": "display_data"
    }
   ],
   "source": [
    "x=512\n",
    "y=512\n",
    "SetCameraResolution(x,y)\n",
    "data=GetImageData(f,12000000,2500000,0,20.0)\n",
    "print(\"\\n****Snapshot****\")\n",
    "print(\"pos x (mm) = %2.3f\" %(data[1]/1e6))\n",
    "print(\"pos y ((mm) = %2.3f\" %(data[2]/1e6))\n",
    "print(\"pos z (mm) = %2.3f\" %(data[3] /1e6))\n",
    "print(\"lens = \",data[4])\n",
    "print(\"width (mm) = %2.3f\" %(data[5]/1e6))\n",
    "print(\"height (mm) = %2.3f\" %(data[6]/1e6))\n",
    "print('')\n",
    "size=(x,y)\n",
    "im3 =  Image.frombuffer('RGB', size, data[0],'raw', 'RGB', 0,1)\n",
    "plt.imshow(im3)\n",
    "plt.show()"
   ]
  },
  {
   "cell_type": "code",
   "execution_count": 7,
   "metadata": {},
   "outputs": [],
   "source": [
    "import openslide\n",
    "slide = openslide.OpenSlide(f)"
   ]
  },
  {
   "cell_type": "code",
   "execution_count": 8,
   "metadata": {},
   "outputs": [
    {
     "data": {
      "text/plain": [
       "<_PropertyMap {'hamamatsu.AHEX[0]': '6036105CB41854311C4AB41350321857B4144C2A1844B40A504C106EB0324C3C0854AC1C444D0866AC2A443C0C51AC1944540C6BA82B483C084CAC1B4C451056AC1F48211032AC0254001C1AB11354151422B5105437184DB41354351C47B4130B9E', 'hamamatsu.AHEX[0].fluorescence': '00570063005B0047005700530047005F0057003F004F004700670073007B00530057005B00630067006F005300530057006F006B006B0053004B0057005F005B005F0037003300370017001F001F002F0027002300570053004F0053004F004F0F14', 'hamamatsu.AHEX[0].ploidy': '60230C57A41B581F1843A415581F184FA417541B143FA40B543F1067A035542F084B9C1D4C3F045F9C2D4833084B981B484B0863982B4C330047981B4C3B08539821481B042B9803550710179D15540F0C17A111582F10479C13542F103F9C13BFA6', 'hamamatsu.AHEX[1]': '683A1C5EBC196031284BBC145C312455B817582B2444B80C5C4D1C6EB833583A1852B41E504B1466B42A503F1852B01950551869B02A543D1449B41B58421C58B41F54221C32B4045C07281EB9115C1A2421BD0E603A284CB8165C392847B818F3C3', 'hamamatsu.AHEX[1].fluorescence': '00570067005F004F00570057004F005F00570047004F004B006B0077007F00570057005F0067006B006F005700570057006F006F006F0057004F0057005F005F005F003B00370037001F0027001F003700270027005B005700530057005300530FB0', 'hamamatsu.AHEX[1].ploidy': '6C271857A81D641F2447A8196023244FA819601B243FA80F603F1C67A8375C2F144FA41F5443105FA42F5433144BA01B544B1463A02B54331047A01D583B1453A021541B102FA00360002017A5135C13181BA90F60331C47A41360331C43A417A2DF', 'hamamatsu.AHEX[2]': '60230C57A41B581F1843A415581F184FA417541B143FA40B543F1067A035542F084B9C1D4C3F045F9C2D4833084B981B484B0863982B4C330047981B4C3B08539821481B042B9803550710179D15540F0C17A111582F10479C13542F103F9C13BFA6', 'hamamatsu.AHEX[2].fluorescence': '60230C57A41B581F1843A415581F184FA417541B143FA40B543F1067A035542F084B9C1D4C3F045F9C2D4833084B981B484B0863982B4C330047981B4C3B08539821481B042B9803550710179D15540F0C17A111582F10479C13542F103F9C13BFA6', 'hamamatsu.AHEX[2].ploidy': '60230C57A41B581F1843A415581F184FA417541B143FA40B543F1067A035542F084B9C1D4C3F045F9C2D4833084B981B484B0863982B4C330047981B4C3B08539821481B042B9803550710179D15540F0C17A111582F10479C13542F103F9C13BFA6', 'hamamatsu.Created': '2012/01/25', 'hamamatsu.MHLN[0].24bit': '_1357CJIOJKPOVjx', 'hamamatsu.MHLN[0].36bit': '_1357GGEOJKPOVjx', 'hamamatsu.MHLN[1].24bit': '_1357FHHOJKPOVjx', 'hamamatsu.MHLN[1].36bit': '_1359CKJOJKPOVjx', 'hamamatsu.MHLN[2].24bit': '_1357CJIOJKPOVjx', 'hamamatsu.MHLN[2].36bit': '_1357DEEOJKPOVjx', 'hamamatsu.Macro.S/N': '9Y0431', 'hamamatsu.NDP.S/N': '810305', 'hamamatsu.Objective.Lens.Magnificant': '35.16', 'hamamatsu.PSHV': '182', 'hamamatsu.PSHV.10x': '170', 'hamamatsu.PSHV.40x': '182', 'hamamatsu.PSHV.ploidy': '200', 'hamamatsu.PSHV.ploidy.10x': '140', 'hamamatsu.Product': 'C9600-12', 'hamamatsu.Reference': 'R10_004_3_a', 'hamamatsu.SourceLens': '40', 'hamamatsu.Updated': '2017/04/13', 'hamamatsu.XOffsetFromSlideCentre': '11495798', 'hamamatsu.YOffsetFromSlideCentre': '-1793104', 'hamamatsu.YRNP[0]': '0,0,0,0', 'hamamatsu.YRNP[1]': '0,0,0,0', 'hamamatsu.YRNP[2]': '0,0,0,0', 'hamamatsu.calibration.version': '249', 'hamamatsu.ccd.height': '0', 'hamamatsu.ccd.width': '9373', 'hamamatsu.ccd.width.ploidy': '9302', 'hamamatsu.coarse.focus.pitch': '4870', 'hamamatsu.colorfilterID': '1', 'hamamatsu.cube.kind': '0', 'hamamatsu.exposure.barcode.macro': '510', 'hamamatsu.exposure.slide.darkfield.macro': '160', 'hamamatsu.exposure.slide.macro': '19', 'hamamatsu.fine.focus.pitch': '250', 'hamamatsu.focalplane.leftbottom': '100077,690008,108676', 'hamamatsu.focalplane.lefttop': '100077,490008,108268', 'hamamatsu.focalplane.rightbottom': '500077,690008,108545', 'hamamatsu.focalplane.righttop': '500077,490008,108152', 'hamamatsu.lane.shift.amount': '7', 'hamamatsu.roi.barcode.macro': '892,208,1199,612', 'hamamatsu.roi.slide.macro': '7,208,1198,615', 'hamamatsu.slant.leftbottom': '91280,690419,111224', 'hamamatsu.slant.lefttop': '91280,490419,110763', 'hamamatsu.slant.rightbottom': '491280,490419,110550', 'hamamatsu.slant.righttop': '491280,690419,110984', 'hamamatsu.slide.tickness': '0', 'hamamatsu.stage.center': '190077,590008', 'hamamatsu.system.version': '1.0', 'hamamatsu.target.white.intensity': '235', 'hamamatsu.valid.DDKP': '1', 'hamamatsu.valid.DLTP': '0', 'hamamatsu.valid.DSHP': '1', 'hamamatsu.variable.exposuretime': '0', 'hamamatsu.zCoarse[0]': '1,7392,0,100', 'hamamatsu.zCoarse[1]': '1,1946,0,100', 'hamamatsu.zCoarse[2]': '0,0,0,0', 'hamamatsu.zFine[0]': '1,295680,0,100', 'hamamatsu.zFine[1]': '1,77824,0,100', 'hamamatsu.zFine[2]': '0,0,0,0', 'openslide.level-count': '9', 'openslide.level[0].downsample': '1', 'openslide.level[0].height': '62720', 'openslide.level[0].tile-height': '8', 'openslide.level[0].tile-width': '3968', 'openslide.level[0].width': '162688', 'openslide.level[1].downsample': '2', 'openslide.level[1].height': '31360', 'openslide.level[1].tile-height': '4', 'openslide.level[1].tile-width': '1984', 'openslide.level[1].width': '81344', 'openslide.level[2].downsample': '4', 'openslide.level[2].height': '15680', 'openslide.level[2].tile-height': '2', 'openslide.level[2].tile-width': '992', 'openslide.level[2].width': '40672', 'openslide.level[3].downsample': '8', 'openslide.level[3].height': '7840', 'openslide.level[3].tile-height': '8', 'openslide.level[3].tile-width': '496', 'openslide.level[3].width': '20336', 'openslide.level[4].downsample': '16', 'openslide.level[4].height': '3920', 'openslide.level[4].tile-height': '4', 'openslide.level[4].tile-width': '248', 'openslide.level[4].width': '10168', 'openslide.level[5].downsample': '32', 'openslide.level[5].height': '1960', 'openslide.level[5].tile-height': '2', 'openslide.level[5].tile-width': '124', 'openslide.level[5].width': '5084', 'openslide.level[6].downsample': '64', 'openslide.level[6].height': '980', 'openslide.level[6].tile-height': '980', 'openslide.level[6].tile-width': '2542', 'openslide.level[6].width': '2542', 'openslide.level[7].downsample': '128', 'openslide.level[7].height': '490', 'openslide.level[7].tile-height': '490', 'openslide.level[7].tile-width': '1271', 'openslide.level[7].width': '1271', 'openslide.level[8].downsample': '513.65485856130726', 'openslide.level[8].height': '122', 'openslide.level[8].tile-height': '122', 'openslide.level[8].tile-width': '317', 'openslide.level[8].width': '317', 'openslide.mpp-x': '0.2288329519450801', 'openslide.mpp-y': '0.2288329519450801', 'openslide.objective-power': '40', 'openslide.quickhash-1': 'ff726cc98db1f243ea21e4126bddc3c8bd33f4f3d745291fdb3965bbb147d247', 'openslide.vendor': 'hamamatsu', 'tiff.DateTime': '2017:08:25 13:31:58', 'tiff.Make': 'Hamamatsu', 'tiff.Model': 'C9600-12', 'tiff.ResolutionUnit': 'centimeter', 'tiff.Software': 'NDP.scan 2.5.89', 'tiff.XResolution': '43700', 'tiff.YResolution': '43700'}>"
      ]
     },
     "execution_count": 8,
     "metadata": {},
     "output_type": "execute_result"
    }
   ],
   "source": [
    "slide.properties"
   ]
  },
  {
   "cell_type": "code",
   "execution_count": 11,
   "metadata": {},
   "outputs": [
    {
     "ename": "TypeError",
     "evalue": "bytes or integer address expected instead of str instance",
     "output_type": "error",
     "traceback": [
      "\u001b[1;31m---------------------------------------------------------------------------\u001b[0m",
      "\u001b[1;31mTypeError\u001b[0m                                 Traceback (most recent call last)",
      "\u001b[1;32m<ipython-input-11-8c83132932e6>\u001b[0m in \u001b[0;36m<module>\u001b[1;34m\u001b[0m\n\u001b[0;32m      6\u001b[0m \u001b[1;31m#test getInfo\u001b[0m\u001b[1;33m\u001b[0m\u001b[1;33m\u001b[0m\u001b[1;33m\u001b[0m\u001b[0m\n\u001b[0;32m      7\u001b[0m \u001b[1;31m#filename=(\"c:/qq.ndpis\")\u001b[0m\u001b[1;33m\u001b[0m\u001b[1;33m\u001b[0m\u001b[1;33m\u001b[0m\u001b[0m\n\u001b[1;32m----> 8\u001b[1;33m \u001b[0mtext\u001b[0m\u001b[1;33m=\u001b[0m\u001b[0mgetInfo\u001b[0m\u001b[1;33m(\u001b[0m\u001b[0mf\u001b[0m\u001b[1;33m)\u001b[0m\u001b[1;33m\u001b[0m\u001b[1;33m\u001b[0m\u001b[0m\n\u001b[0m\u001b[0;32m      9\u001b[0m \u001b[0mprint\u001b[0m\u001b[1;33m(\u001b[0m\u001b[0mtext\u001b[0m\u001b[1;33m)\u001b[0m\u001b[1;33m\u001b[0m\u001b[1;33m\u001b[0m\u001b[0m\n\u001b[0;32m     10\u001b[0m \u001b[1;33m\u001b[0m\u001b[0m\n",
      "\u001b[1;32mD:\\jupyter_notebook_ws\\NDPRead\\getNDPI.py\u001b[0m in \u001b[0;36mgetInfo\u001b[1;34m(NDPIfilename)\u001b[0m\n\u001b[0;32m     56\u001b[0m   de string\"\"\"\n\u001b[0;32m     57\u001b[0m   \u001b[0minfo\u001b[0m\u001b[1;33m=\u001b[0m\u001b[1;34m\"\"\u001b[0m\u001b[1;33m\u001b[0m\u001b[1;33m\u001b[0m\u001b[0m\n\u001b[1;32m---> 58\u001b[1;33m   \u001b[0minfo\u001b[0m\u001b[1;33m+=\u001b[0m\u001b[1;34m\"Ref : \"\u001b[0m\u001b[1;33m+\u001b[0m\u001b[0mGetReference\u001b[0m\u001b[1;33m(\u001b[0m\u001b[0mNDPIfilename\u001b[0m\u001b[1;33m,\u001b[0m\u001b[1;36m128\u001b[0m\u001b[1;33m)\u001b[0m\u001b[1;33m\u001b[0m\u001b[1;33m\u001b[0m\u001b[0m\n\u001b[0m\u001b[0;32m     59\u001b[0m   \u001b[0minfo\u001b[0m\u001b[1;33m+=\u001b[0m\u001b[1;34m\"\\nWidth (nm) = \"\u001b[0m\u001b[1;33m+\u001b[0m\u001b[0mstr\u001b[0m\u001b[1;33m(\u001b[0m\u001b[0mGetImageWidth\u001b[0m\u001b[1;33m(\u001b[0m\u001b[0mNDPIfilename\u001b[0m\u001b[1;33m)\u001b[0m\u001b[1;33m)\u001b[0m\u001b[1;33m\u001b[0m\u001b[1;33m\u001b[0m\u001b[0m\n\u001b[0;32m     60\u001b[0m   \u001b[0minfo\u001b[0m\u001b[1;33m+=\u001b[0m\u001b[1;34m\"\\nHeight (nm) = \"\u001b[0m\u001b[1;33m+\u001b[0m\u001b[0mstr\u001b[0m\u001b[1;33m(\u001b[0m\u001b[0mGetImageHeight\u001b[0m\u001b[1;33m(\u001b[0m\u001b[0mNDPIfilename\u001b[0m\u001b[1;33m)\u001b[0m\u001b[1;33m)\u001b[0m\u001b[1;33m\u001b[0m\u001b[1;33m\u001b[0m\u001b[0m\n",
      "\u001b[1;32mD:\\jupyter_notebook_ws\\NDPRead\\NDPRead.py\u001b[0m in \u001b[0;36mGetReference\u001b[1;34m(filename, length)\u001b[0m\n\u001b[0;32m    172\u001b[0m   \u001b[1;31m#on doit fournir un str* de taille connue (en nbre de char) et initiallise\u001b[0m\u001b[1;33m\u001b[0m\u001b[1;33m\u001b[0m\u001b[1;33m\u001b[0m\u001b[0m\n\u001b[0;32m    173\u001b[0m   \u001b[1;31m#retourne 0 en cas d'echec\u001b[0m\u001b[1;33m\u001b[0m\u001b[1;33m\u001b[0m\u001b[1;33m\u001b[0m\u001b[0m\n\u001b[1;32m--> 174\u001b[1;33m   \u001b[0mreference\u001b[0m\u001b[1;33m=\u001b[0m\u001b[0mc_char_p\u001b[0m\u001b[1;33m(\u001b[0m\u001b[1;34m'a'\u001b[0m\u001b[1;33m*\u001b[0m\u001b[0mlength\u001b[0m\u001b[1;33m)\u001b[0m\u001b[1;33m\u001b[0m\u001b[1;33m\u001b[0m\u001b[0m\n\u001b[0m\u001b[0;32m    175\u001b[0m   \u001b[0ml\u001b[0m\u001b[1;33m=\u001b[0m\u001b[0mc_long\u001b[0m\u001b[1;33m(\u001b[0m\u001b[0mlength\u001b[0m\u001b[1;33m)\u001b[0m\u001b[1;33m\u001b[0m\u001b[1;33m\u001b[0m\u001b[0m\n\u001b[0;32m    176\u001b[0m   \u001b[0ma\u001b[0m\u001b[1;33m=\u001b[0m\u001b[0mNDPRead\u001b[0m\u001b[1;33m.\u001b[0m\u001b[0mGetReferenceS\u001b[0m\u001b[1;33m(\u001b[0m\u001b[0mfilename\u001b[0m\u001b[1;33m,\u001b[0m\u001b[0mreference\u001b[0m\u001b[1;33m,\u001b[0m\u001b[0ml\u001b[0m\u001b[1;33m)\u001b[0m\u001b[1;33m\u001b[0m\u001b[1;33m\u001b[0m\u001b[0m\n",
      "\u001b[1;31mTypeError\u001b[0m: bytes or integer address expected instead of str instance"
     ]
    }
   ],
   "source": [
    "from getNDPI import *\n",
    "\n",
    "#initialisation : load DLL\n",
    "getNDPI_init()\n",
    "\n",
    "#test getInfo\n",
    "#filename=(\"c:/qq.ndpis\") \n",
    "text=getInfo(f)\n",
    "print(text)\n",
    "\n",
    "#test getSlide\n",
    "slide=getSlide(f)\n",
    "plt.imshow(slide)\n",
    "plt.show()\n",
    "\n",
    "#test getMap\n",
    "Map=getMap(f,512,512 )\n",
    "plt.imshow(Map)\n",
    "plt.show()\n"
   ]
  },
  {
   "cell_type": "code",
   "execution_count": 10,
   "metadata": {},
   "outputs": [
    {
     "data": {
      "text/plain": [
       "'E:\\\\deeplearning\\\\Hepatocarcinomes\\\\Biopsy HCC\\\\R10_004_3- 2017-08-25 13.25.36.ndpi'"
      ]
     },
     "execution_count": 10,
     "metadata": {},
     "output_type": "execute_result"
    }
   ],
   "source": [
    "f"
   ]
  },
  {
   "cell_type": "code",
   "execution_count": null,
   "metadata": {},
   "outputs": [],
   "source": []
  }
 ],
 "metadata": {
  "anaconda-cloud": {},
  "kernelspec": {
   "display_name": "Python [conda env:r-tensorflow]",
   "language": "python",
   "name": "conda-env-r-tensorflow-py"
  },
  "language_info": {
   "codemirror_mode": {
    "name": "ipython",
    "version": 3
   },
   "file_extension": ".py",
   "mimetype": "text/x-python",
   "name": "python",
   "nbconvert_exporter": "python",
   "pygments_lexer": "ipython3",
   "version": "3.6.8"
  }
 },
 "nbformat": 4,
 "nbformat_minor": 2
}
