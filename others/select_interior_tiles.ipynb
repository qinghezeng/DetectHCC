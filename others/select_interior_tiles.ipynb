{
 "cells": [
  {
   "cell_type": "markdown",
   "metadata": {},
   "source": [
    "select interior patches from annotated area\n",
    "1. copy interior patches;\n",
    "2. crop 2048x2048 to 512x512 by batch;\n",
    "3. change crop area to make sure no backgound."
   ]
  },
  {
   "cell_type": "code",
   "execution_count": 3,
   "metadata": {},
   "outputs": [],
   "source": [
    "import os\n",
    "from PIL import Image\n",
    "import numpy as np\n",
    "from shutil import copyfile"
   ]
  },
  {
   "cell_type": "code",
   "execution_count": 6,
   "metadata": {},
   "outputs": [],
   "source": [
    "path = 'E:\\\\deeplearning\\\\Hepatocarcinomes\\\\data\\\\20x\\\\test\\\\HMNT0885\\\\2048_image_label'"
   ]
  },
  {
   "cell_type": "code",
   "execution_count": 86,
   "metadata": {},
   "outputs": [],
   "source": [
    "llabel = []\n",
    "for root, dirs, files in os.walk(path):\n",
    "    for f in files:\n",
    "        if f.endswith('.tiff'):\n",
    "            llabel.append(path + '\\\\' + f)"
   ]
  },
  {
   "cell_type": "code",
   "execution_count": 88,
   "metadata": {},
   "outputs": [],
   "source": [
    "n = 0\n",
    "for i in range(len(llabel)):\n",
    "    if(n<60):\n",
    "        if((np.asarray(Image.open(llabel[i]))==2).all()):\n",
    "            copyfile(llabel[i][:-1].replace('label_', 'img_'), 'E:\\\\tiles\\\\20x_512_512\\\\NT\\\\'+'nor_'+path.split('\\\\')[-2]+'_'+str(n).zfill(2)+'.tif')\n",
    "#             copyfile(llabel[i], 'E:\\\\tiles_5x_512\\\\T\\\\'+'tum_'+path.split('\\\\')[-2]+'_'+str(n).zfill(2)+'.tiff')\n",
    "            n = n + 1"
   ]
  },
  {
   "cell_type": "markdown",
   "metadata": {},
   "source": [
    "crop image"
   ]
  },
  {
   "cell_type": "code",
   "execution_count": 39,
   "metadata": {},
   "outputs": [],
   "source": [
    "path = 'E:\\\\tiles\\\\tiles_20x_2048_2048\\\\NT'"
   ]
  },
  {
   "cell_type": "code",
   "execution_count": 12,
   "metadata": {},
   "outputs": [],
   "source": [
    "limages = []\n",
    "for root, dirs, files in os.walk(path):\n",
    "    for f in files:\n",
    "        if f.endswith('.tif'):\n",
    "            limages.append(f)"
   ]
  },
  {
   "cell_type": "code",
   "execution_count": 13,
   "metadata": {},
   "outputs": [],
   "source": [
    "for name in limages:\n",
    "    image = Image.open(path + '\\\\' + name)\n",
    "    im = image.crop((0,50,512,562))\n",
    "    im.save('E:\\\\tiles\\\\tiles_20x_512_512\\\\T\\\\' + name)"
   ]
  },
  {
   "cell_type": "markdown",
   "metadata": {},
   "source": [
    "modify one by one"
   ]
  },
  {
   "cell_type": "code",
   "execution_count": null,
   "metadata": {},
   "outputs": [],
   "source": [
    "path = 'E:\\\\tiles\\\\tiles_20x_2048_2048\\\\NT'"
   ]
  },
  {
   "cell_type": "code",
   "execution_count": null,
   "metadata": {},
   "outputs": [],
   "source": [
    "name = 'nor_HMNT0832_04.tif'"
   ]
  },
  {
   "cell_type": "code",
   "execution_count": 75,
   "metadata": {},
   "outputs": [],
   "source": [
    "image = Image.open(path + '\\\\' + name)\n",
    "im = image.crop((0,1300,512,1812))\n",
    "im.save('E:\\\\tiles\\\\tiles_20x_512_512\\\\NT\\\\' + name)"
   ]
  },
  {
   "cell_type": "code",
   "execution_count": null,
   "metadata": {},
   "outputs": [],
   "source": []
  },
  {
   "cell_type": "code",
   "execution_count": null,
   "metadata": {},
   "outputs": [],
   "source": []
  }
 ],
 "metadata": {
  "anaconda-cloud": {},
  "kernelspec": {
   "display_name": "Python [conda env:r-tensorflow]",
   "language": "python",
   "name": "conda-env-r-tensorflow-py"
  },
  "language_info": {
   "codemirror_mode": {
    "name": "ipython",
    "version": 3
   },
   "file_extension": ".py",
   "mimetype": "text/x-python",
   "name": "python",
   "nbconvert_exporter": "python",
   "pygments_lexer": "ipython3",
   "version": "3.6.8"
  }
 },
 "nbformat": 4,
 "nbformat_minor": 2
}
