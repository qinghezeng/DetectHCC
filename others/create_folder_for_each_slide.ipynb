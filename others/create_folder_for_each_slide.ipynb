{
 "cells": [
  {
   "cell_type": "code",
   "execution_count": 9,
   "metadata": {},
   "outputs": [],
   "source": [
    "import os"
   ]
  },
  {
   "cell_type": "code",
   "execution_count": 10,
   "metadata": {},
   "outputs": [],
   "source": [
    "Root = 'E:\\\\deeplearning\\\\Hepatocarcinomes\\\\data\\\\5x\\\\biopsy_HCC'"
   ]
  },
  {
   "cell_type": "code",
   "execution_count": 22,
   "metadata": {},
   "outputs": [
    {
     "name": "stdout",
     "output_type": "stream",
     "text": [
      "107\n",
      "0\n",
      "0\n",
      "0\n",
      "0\n"
     ]
    }
   ],
   "source": [
    "for root, dirs, files in os.walk('E:\\\\deeplearning\\\\Hepatocarcinomes\\\\Biopsy HCC'):\n",
    "    n = 0\n",
    "    for file in files:\n",
    "        if file.endswith('.ndpi'):\n",
    "            n = n + 1\n",
    "#             os.mkdir(Root+'\\\\'+os.path.splitext(file)[0].split('.')[0][:-2])\n",
    "            os.mkdir(Root+'\\\\'+os.path.splitext(file)[0].split('.')[0][:-3]+'\\\\512_image_label')\n",
    "            os.mkdir(Root+'\\\\'+os.path.splitext(file)[0].split('.')[0][:-3]+'\\\\results')\n",
    "            os.mkdir(Root+'\\\\'+os.path.splitext(file)[0].split('.')[0][:-3]+'\\\\results\\\\label')\n",
    "            with open(Root+'\\\\'+os.path.splitext(file)[0].split('.')[0][:-3]+'\\\\results\\\\record.txt', \"w\") as text_file:\n",
    "                text_file.write(str(0))\n",
    "    print(n)"
   ]
  },
  {
   "cell_type": "code",
   "execution_count": null,
   "metadata": {},
   "outputs": [],
   "source": []
  }
 ],
 "metadata": {
  "anaconda-cloud": {},
  "kernelspec": {
   "display_name": "Python [conda env:r-tensorflow]",
   "language": "python",
   "name": "conda-env-r-tensorflow-py"
  },
  "language_info": {
   "codemirror_mode": {
    "name": "ipython",
    "version": 3
   },
   "file_extension": ".py",
   "mimetype": "text/x-python",
   "name": "python",
   "nbconvert_exporter": "python",
   "pygments_lexer": "ipython3",
   "version": "3.6.8"
  }
 },
 "nbformat": 4,
 "nbformat_minor": 2
}
