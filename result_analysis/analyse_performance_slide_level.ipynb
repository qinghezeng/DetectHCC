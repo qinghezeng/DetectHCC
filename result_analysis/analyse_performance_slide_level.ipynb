{
 "cells": [
  {
   "cell_type": "markdown",
   "metadata": {},
   "source": [
    "# Performance analystics on slide level\n",
    "#### K-Means algorithm for slide clusting referring to their performance\n",
    "#### Calculate percentage of TP, FP, TN, FN"
   ]
  },
  {
   "cell_type": "code",
   "execution_count": 57,
   "metadata": {},
   "outputs": [],
   "source": [
    "import os\n",
    "import pandas as pd\n",
    "import numpy as np\n",
    "import matplotlib.pyplot as plt\n",
    "import matplotlib.cm as cm\n",
    "from sklearn.cluster import KMeans\n",
    "from sklearn.datasets.samples_generator import make_blobs"
   ]
  },
  {
   "cell_type": "code",
   "execution_count": 65,
   "metadata": {},
   "outputs": [],
   "source": [
    "# load data\n",
    "df = pd.read_csv(os.path.join('E:\\deeplearning\\Hepatocarcinomes\\SlidesClassification', 'vgg16_performance_training.csv'), delimiter=';')"
   ]
  },
  {
   "cell_type": "code",
   "execution_count": 66,
   "metadata": {},
   "outputs": [],
   "source": [
    "path = 'E:\\\\deeplearning\\\\Hepatocarcinomes\\\\SlidesClassification\\\\ResultsAnalysis\\\\Version1\\\\TrainingSet'"
   ]
  },
  {
   "cell_type": "code",
   "execution_count": 67,
   "metadata": {},
   "outputs": [
    {
     "data": {
      "text/html": [
       "<div>\n",
       "<style scoped>\n",
       "    .dataframe tbody tr th:only-of-type {\n",
       "        vertical-align: middle;\n",
       "    }\n",
       "\n",
       "    .dataframe tbody tr th {\n",
       "        vertical-align: top;\n",
       "    }\n",
       "\n",
       "    .dataframe thead th {\n",
       "        text-align: right;\n",
       "    }\n",
       "</style>\n",
       "<table border=\"1\" class=\"dataframe\">\n",
       "  <thead>\n",
       "    <tr style=\"text-align: right;\">\n",
       "      <th></th>\n",
       "      <th>Slide Name</th>\n",
       "      <th>Optimal Threshold</th>\n",
       "      <th>True Positive</th>\n",
       "      <th>True Negative</th>\n",
       "      <th>False Positive</th>\n",
       "      <th>False Negative</th>\n",
       "      <th>Sensitivity (TPR)</th>\n",
       "      <th>Specificity (TNR)</th>\n",
       "      <th>Precision (PPV)</th>\n",
       "      <th>Fall-Out (FPR)</th>\n",
       "      <th>Area under ROC (AUC)</th>\n",
       "      <th>Accuracy (ACC)</th>\n",
       "      <th>F1-Score</th>\n",
       "      <th>Intersection over Union (IoU)</th>\n",
       "    </tr>\n",
       "  </thead>\n",
       "  <tbody>\n",
       "    <tr>\n",
       "      <th>0</th>\n",
       "      <td>HMNT0001.ndpi</td>\n",
       "      <td>0.692998</td>\n",
       "      <td>7781</td>\n",
       "      <td>7801</td>\n",
       "      <td>335</td>\n",
       "      <td>929</td>\n",
       "      <td>0.893341</td>\n",
       "      <td>0.958825</td>\n",
       "      <td>0.958724</td>\n",
       "      <td>0.041175</td>\n",
       "      <td>0.975960</td>\n",
       "      <td>0.924967</td>\n",
       "      <td>0.924878</td>\n",
       "      <td>0.860254</td>\n",
       "    </tr>\n",
       "    <tr>\n",
       "      <th>1</th>\n",
       "      <td>HMNT0003 - 2017-05-29 15.41.33.ndpi</td>\n",
       "      <td>0.592499</td>\n",
       "      <td>6261</td>\n",
       "      <td>3872</td>\n",
       "      <td>504</td>\n",
       "      <td>1191</td>\n",
       "      <td>0.840177</td>\n",
       "      <td>0.884826</td>\n",
       "      <td>0.925499</td>\n",
       "      <td>0.115174</td>\n",
       "      <td>0.940180</td>\n",
       "      <td>0.856696</td>\n",
       "      <td>0.880777</td>\n",
       "      <td>0.786953</td>\n",
       "    </tr>\n",
       "    <tr>\n",
       "      <th>2</th>\n",
       "      <td>HMNT0003_bis.ndpi</td>\n",
       "      <td>0.300768</td>\n",
       "      <td>8264</td>\n",
       "      <td>6475</td>\n",
       "      <td>983</td>\n",
       "      <td>3283</td>\n",
       "      <td>0.715684</td>\n",
       "      <td>0.868195</td>\n",
       "      <td>0.893695</td>\n",
       "      <td>0.131805</td>\n",
       "      <td>0.881160</td>\n",
       "      <td>0.775533</td>\n",
       "      <td>0.794845</td>\n",
       "      <td>0.659537</td>\n",
       "    </tr>\n",
       "    <tr>\n",
       "      <th>3</th>\n",
       "      <td>HMNT0004 - 2017-07-08 21.07.19.ndpi</td>\n",
       "      <td>0.786007</td>\n",
       "      <td>7716</td>\n",
       "      <td>1156</td>\n",
       "      <td>229</td>\n",
       "      <td>2449</td>\n",
       "      <td>0.759075</td>\n",
       "      <td>0.834657</td>\n",
       "      <td>0.971177</td>\n",
       "      <td>0.165343</td>\n",
       "      <td>0.876073</td>\n",
       "      <td>0.768139</td>\n",
       "      <td>0.852126</td>\n",
       "      <td>0.742351</td>\n",
       "    </tr>\n",
       "    <tr>\n",
       "      <th>4</th>\n",
       "      <td>HMNT0023 - 2017-08-19 00.15.23.ndpi</td>\n",
       "      <td>0.740377</td>\n",
       "      <td>10554</td>\n",
       "      <td>10315</td>\n",
       "      <td>1264</td>\n",
       "      <td>1835</td>\n",
       "      <td>0.851885</td>\n",
       "      <td>0.890837</td>\n",
       "      <td>0.893045</td>\n",
       "      <td>0.109163</td>\n",
       "      <td>0.943608</td>\n",
       "      <td>0.870703</td>\n",
       "      <td>0.871979</td>\n",
       "      <td>0.773017</td>\n",
       "    </tr>\n",
       "  </tbody>\n",
       "</table>\n",
       "</div>"
      ],
      "text/plain": [
       "                            Slide Name  Optimal Threshold  True Positive  \\\n",
       "0                        HMNT0001.ndpi           0.692998           7781   \n",
       "1  HMNT0003 - 2017-05-29 15.41.33.ndpi           0.592499           6261   \n",
       "2                    HMNT0003_bis.ndpi           0.300768           8264   \n",
       "3  HMNT0004 - 2017-07-08 21.07.19.ndpi           0.786007           7716   \n",
       "4  HMNT0023 - 2017-08-19 00.15.23.ndpi           0.740377          10554   \n",
       "\n",
       "   True Negative  False Positive  False Negative  Sensitivity (TPR)  \\\n",
       "0           7801             335             929           0.893341   \n",
       "1           3872             504            1191           0.840177   \n",
       "2           6475             983            3283           0.715684   \n",
       "3           1156             229            2449           0.759075   \n",
       "4          10315            1264            1835           0.851885   \n",
       "\n",
       "   Specificity (TNR)  Precision (PPV)  Fall-Out (FPR)  Area under ROC (AUC)  \\\n",
       "0           0.958825         0.958724        0.041175              0.975960   \n",
       "1           0.884826         0.925499        0.115174              0.940180   \n",
       "2           0.868195         0.893695        0.131805              0.881160   \n",
       "3           0.834657         0.971177        0.165343              0.876073   \n",
       "4           0.890837         0.893045        0.109163              0.943608   \n",
       "\n",
       "   Accuracy (ACC)  F1-Score  Intersection over Union (IoU)  \n",
       "0        0.924967  0.924878                       0.860254  \n",
       "1        0.856696  0.880777                       0.786953  \n",
       "2        0.775533  0.794845                       0.659537  \n",
       "3        0.768139  0.852126                       0.742351  \n",
       "4        0.870703  0.871979                       0.773017  "
      ]
     },
     "execution_count": 67,
     "metadata": {},
     "output_type": "execute_result"
    }
   ],
   "source": [
    "# show data example\n",
    "df.head()"
   ]
  },
  {
   "cell_type": "code",
   "execution_count": 68,
   "metadata": {},
   "outputs": [
    {
     "name": "stdout",
     "output_type": "stream",
     "text": [
      "464    HMNT0588_bis - 2017-07-18 20.27.23.ndpi\n",
      "Name: Slide Name, dtype: object\n",
      "15    HMNT0055_bis - 2017-07-13 22.57.41.ndpi\n",
      "Name: Slide Name, dtype: object\n",
      "280    HMNT0391_bis - 2017-07-24 23.41.01.ndpi\n",
      "Name: Slide Name, dtype: object\n",
      "494    HMNT0649_bis - 2017-07-25 07.46.36.ndpi\n",
      "Name: Slide Name, dtype: object\n",
      "274    HMNT0367_bis - 2017-06-13 14.14.09.ndpi\n",
      "Name: Slide Name, dtype: object\n"
     ]
    }
   ],
   "source": [
    "from heapq import nlargest\n",
    "n=5\n",
    "for i in range(n):\n",
    "    print(df.loc[df['Area under ROC (AUC)']==nlargest(n, df['Area under ROC (AUC)'].values)[i]]['Slide Name'])"
   ]
  },
  {
   "cell_type": "code",
   "execution_count": 69,
   "metadata": {},
   "outputs": [],
   "source": [
    "# calculate the average of indicators\n",
    "m = {'Sensitivity (TPR)': [np.mean(df['Sensitivity (TPR)'].values)],\n",
    "     'Specificity (TNR)': [np.mean(df['Specificity (TNR)'].values)],\n",
    "     'Precision (PPV)': [np.mean(df['Precision (PPV)'].values)],\n",
    "     'Fall-Out (FPR)': [np.mean(df['Fall-Out (FPR)'].values)],\n",
    "     'Area under ROC (AUC)': [np.mean(df['Area under ROC (AUC)'].values)],\n",
    "     'Accuracy (ACC)': [np.mean(df['Accuracy (ACC)'].values)],\n",
    "     'F1-Score': [np.mean(df['F1-Score'].values)],\n",
    "     'Intersection over Union (IoU)': [np.mean(df['Intersection over Union (IoU)'].values)]}\n",
    "mean = pd.DataFrame(data=m)\n",
    "mean = mean.transpose()\n",
    "mean.columns = ['mean values']\n",
    "mean.to_csv(os.path.join(path, 'mean_performance.csv'), index=True, header=True)"
   ]
  },
  {
   "cell_type": "markdown",
   "metadata": {},
   "source": [
    "## 2D Scatter Plot"
   ]
  },
  {
   "cell_type": "code",
   "execution_count": 70,
   "metadata": {},
   "outputs": [],
   "source": [
    "# to observation how many classes we should have\n",
    "def plotscatter(x, y):\n",
    "    plt.rc('font', family='STXihei', size=10)\n",
    "    plt.scatter(df[x],df[y],50,color='blue',marker='+',linewidth=1,alpha=0.8)\n",
    "    plt.xlabel(x)\n",
    "    plt.ylabel(y)\n",
    "    plt.xlim(0,1)\n",
    "    plt.ylim(0,1)\n",
    "    plt.grid(color='#95a5a6',linestyle='--', linewidth=1,axis='both',alpha=0.4)\n",
    "    plt.show()"
   ]
  },
  {
   "cell_type": "code",
   "execution_count": 71,
   "metadata": {},
   "outputs": [],
   "source": [
    "def clustering(n, x, y, name):\n",
    "    data = np.array(df[[x, y]])\n",
    "    # set 3 classes\n",
    "    clf=KMeans(n_clusters = n)\n",
    "    # fit the model\n",
    "    clf=clf.fit(data)\n",
    "    \n",
    "    # mean of each class\n",
    "    clf.cluster_centers_\n",
    "    \n",
    "    idx = np.argsort(clf.cluster_centers_.sum(axis=1))\n",
    "    lut = np.zeros_like(idx)\n",
    "    lut[idx] = np.arange(n)\n",
    "    \n",
    "    # add a 'label' column to data\n",
    "    df['label']=lut[clf.labels_]\n",
    "    \n",
    "    # draw color map of clusting\n",
    "    plt.rc('font', family='STXihei', size=10)\n",
    "    for i in range(n):\n",
    "        plt.scatter(df.loc[df[\"label\"]==i][x],df.loc[df[\"label\"]==i][y],50,cmap='viridis',marker='+',linewidth=1,alpha=1)\n",
    "    plt.xlabel(x)\n",
    "    plt.ylabel(y)\n",
    "    plt.xlim(0,1)\n",
    "    plt.ylim(0,1)\n",
    "    plt.title(name.replace('_', '-'))\n",
    "    plt.grid(color='#95a5a6',linestyle='--', linewidth=1,axis='both',alpha=0.4)\n",
    "    \n",
    "    for i in range(n):\n",
    "        print(str(len(df.loc[df[\"label\"]==i][x])) + ' ' + str(clf.cluster_centers_[idx][i]))\n",
    "        plt.text(0.01, 0.06*i+0.02,str(len(df.loc[df[\"label\"]==i][x])) + ' ' + str(clf.cluster_centers_[idx][i]))\n",
    "        \n",
    "    plt.savefig(os.path.join(path, name+'.png'))\n",
    "    plt.show()\n",
    "        \n",
    "    nsample = 0\n",
    "    nlabel = 0\n",
    "    while(nsample<=20):\n",
    "        nsample = nsample + len(df.loc[df[\"label\"]==nlabel][x])\n",
    "        nlabel = nlabel + 1\n",
    "\n",
    "    for ii in range(nlabel):\n",
    "        data = df.loc[df[\"label\"]==ii][['Slide Name','label']]\n",
    "        if not ii == 0:\n",
    "            data.to_csv(os.path.join(path, name+'.csv'), index=False, header=False, mode='a')\n",
    "        else:\n",
    "            data.to_csv(os.path.join(path, name+'.csv'), index=False, header=True)"
   ]
  },
  {
   "cell_type": "code",
   "execution_count": 72,
   "metadata": {},
   "outputs": [
    {
     "data": {
      "text/plain": [
       "Index(['Slide Name', 'Optimal Threshold', 'True Positive', 'True Negative',\n",
       "       'False Positive', 'False Negative', 'Sensitivity (TPR)',\n",
       "       'Specificity (TNR)', 'Precision (PPV)', 'Fall-Out (FPR)',\n",
       "       'Area under ROC (AUC)', 'Accuracy (ACC)', 'F1-Score',\n",
       "       'Intersection over Union (IoU)'],\n",
       "      dtype='object')"
      ]
     },
     "execution_count": 72,
     "metadata": {},
     "output_type": "execute_result"
    }
   ],
   "source": [
    "# names of columns\n",
    "df.columns"
   ]
  },
  {
   "cell_type": "code",
   "execution_count": 82,
   "metadata": {},
   "outputs": [
    {
     "data": {
      "image/png": "[encoded data removed]",
      "text/plain": [
       "<Figure size 432x288 with 1 Axes>"
      ]
     },
     "metadata": {
      "needs_background": "light"
     },
     "output_type": "display_data"
    }
   ],
   "source": [
    "x_name = 'Area under ROC (AUC)'\n",
    "y_name = 'Intersection over Union (IoU)'\n",
    "indicators_name = 'AUC_IoU'\n",
    "\n",
    "plotscatter(x_name, y_name)"
   ]
  },
  {
   "cell_type": "code",
   "execution_count": 83,
   "metadata": {},
   "outputs": [
    {
     "name": "stdout",
     "output_type": "stream",
     "text": [
      "37 [0.88673269 0.38566863]\n",
      "84 [0.91736801 0.66593966]\n",
      "188 [0.95349717 0.80323515]\n",
      "232 [0.98319228 0.90607232]\n"
     ]
    },
    {
     "data": {
      "image/png": "[encoded data removed]",
      "text/plain": [
       "<Figure size 432x288 with 1 Axes>"
      ]
     },
     "metadata": {
      "needs_background": "light"
     },
     "output_type": "display_data"
    }
   ],
   "source": [
    "n_cluster = 4\n",
    "\n",
    "clustering(n_cluster, x_name, y_name, indicators_name)"
   ]
  },
  {
   "cell_type": "code",
   "execution_count": 84,
   "metadata": {},
   "outputs": [
    {
     "data": {
      "image/png": "[encoded data removed]",
      "text/plain": [
       "<Figure size 576x360 with 1 Axes>"
      ]
     },
     "metadata": {
      "needs_background": "light"
     },
     "output_type": "display_data"
    }
   ],
   "source": [
    "data = df[['Optimal Threshold']]\n",
    "label = ['Optimal Threshold']\n",
    "\n",
    "n_bins=10\n",
    "fig,ax=plt.subplots(figsize=(8,5))\n",
    "arr=ax.hist(data.values, n_bins, histtype='bar',label=label)\n",
    "ax.set_title('Optimal Threshold')\n",
    "plt.ylabel('Number of slides')\n",
    "ax.legend()\n",
    "for i in range(n_bins):\n",
    "    plt.text(arr[1][i]+0.04,arr[0][i],str(int(arr[0][i])))\n",
    "plt.savefig(os.path.join(path, 'optimal_threshold.png'))\n",
    "plt.show()\n"
   ]
  },
  {
   "cell_type": "code",
   "execution_count": 85,
   "metadata": {},
   "outputs": [
    {
     "name": "stdout",
     "output_type": "stream",
     "text": [
      "8          HMNT0025 - 2017-08-19 02.59.35.ndpi\n",
      "9      HMNT0025_bis - 2017-08-19 03.56.58.ndpi\n",
      "19     HMNT0060_bis - 2017-07-09 00.29.11.ndpi\n",
      "28         HMNT0067 - 2017-07-09 07.44.14.ndpi\n",
      "38         HMNT0073 - 2017-06-17 21.44.27.ndpi\n",
      "43         HMNT0076 - 2017-06-03 17.13.07.ndpi\n",
      "44     HMNT0076_bis - 2017-06-03 18.07.09.ndpi\n",
      "46     HMNT0077_bis - 2017-07-15 21.30.38.ndpi\n",
      "47         HMNT0082 - 2017-08-18 21.10.31.ndpi\n",
      "52         HMNT0091 - 2017-07-14 08.54.16.ndpi\n",
      "55     HMNT0096_bis - 2017-05-31 01.37.29.ndpi\n",
      "56         HMNT0097 - 2017-05-30 05.45.28.ndpi\n",
      "63         HMNT0102 - 2017-07-14 22.14.28.ndpi\n",
      "64     HMNT0102_bis - 2017-07-14 23.08.05.ndpi\n",
      "69     HMNT0106_bis - 2017-06-11 10.39.38.ndpi\n",
      "78         HMNT0114 - 2017-07-24 18.00.24.ndpi\n",
      "79     HMNT0114_bis - 2017-07-24 18.31.17.ndpi\n",
      "80         HMNT0115 - 2017-05-29 19.34.51.ndpi\n",
      "87         HMNT0119 - 2017-07-09 10.29.17.ndpi\n",
      "89     HMNT0120_bis - 2017-07-09 12.04.56.ndpi\n",
      "90         HMNT0121 - 2017-06-03 06.27.19.ndpi\n",
      "91     HMNT0121_bis - 2017-06-03 06.55.39.ndpi\n",
      "97         HMNT0125 - 2017-07-25 08.17.13.ndpi\n",
      "98     HMNT0125_bis - 2017-07-25 09.04.02.ndpi\n",
      "122    HMNT0146_bis - 2017-07-09 17.55.43.ndpi\n",
      "123        HMNT0148 - 2017-06-02 12.43.46.ndpi\n",
      "149        HMNT0169 - 2017-07-13 13.11.06.ndpi\n",
      "153        HMNT0171 - 2017-05-30 05.10.23.ndpi\n",
      "158        HMNT0174 - 2017-06-10 02.07.54.ndpi\n",
      "160        HMNT0179 - 2017-06-10 05.13.52.ndpi\n",
      "                        ...                   \n",
      "243        HMNT0321 - 2017-06-03 15.46.55.ndpi\n",
      "244    HMNT0321_bis - 2017-06-03 16.27.57.ndpi\n",
      "245        HMNT0332 - 2017-07-07 21.25.03.ndpi\n",
      "258        HMNT0345 - 2017-06-11 19.15.04.ndpi\n",
      "267        HMNT0361 - 2017-07-24 16.18.44.ndpi\n",
      "268    HMNT0361_bis - 2017-07-24 17.04.08.ndpi\n",
      "272    HMNT0366_bis - 2017-05-31 09.40.15.ndpi\n",
      "278    HMNT0383_bis - 2017-07-14 17.33.37.ndpi\n",
      "288        HMNT0397 - 2017-05-30 01.27.25.ndpi\n",
      "298        HMNT0404 - 2017-06-03 14.12.03.ndpi\n",
      "310    HMNT0415_bis - 2017-06-17 05.26.12.ndpi\n",
      "316    HMNT0422_bis - 2017-06-17 08.18.08.ndpi\n",
      "337        HMNT0455 - 2017-06-16 16.46.38.ndpi\n",
      "338    HMNT0455_bis - 2017-06-16 17.36.32.ndpi\n",
      "345        HMNT0463 - 2017-06-17 10.58.12.ndpi\n",
      "350        HMNT0475 - 2017-06-18 06.31.51.ndpi\n",
      "358        HMNT0486 - 2017-06-04 13.04.49.ndpi\n",
      "359    HMNT0486_bis - 2017-06-04 13.55.18.ndpi\n",
      "397        HMNT0521 - 2017-06-10 03.42.06.ndpi\n",
      "406    HMNT0530_bis - 2017-06-29 11.55.11.ndpi\n",
      "407        HMNT0531 - 2017-06-16 15.10.19.ndpi\n",
      "414        HMNT0538 - 2017-06-29 12.30.38.ndpi\n",
      "415    HMNT0538_bis - 2017-06-29 13.38.09.ndpi\n",
      "444    HMNT0568_bis - 2017-07-14 14.33.40.ndpi\n",
      "486        HMNT0628 - 2017-06-09 05.10.58.ndpi\n",
      "495        HMNT0650 - 2017-07-25 09.57.44.ndpi\n",
      "496    HMNT0650_bis - 2017-07-25 10.39.52.ndpi\n",
      "527        HMNT0732 - 2017-06-10 06.34.22.ndpi\n",
      "528    HMNT0732_bis - 2017-06-10 07.19.03.ndpi\n",
      "530    HMNT0741_bis - 2017-06-29 23.18.10.ndpi\n",
      "Name: Slide Name, Length: 70, dtype: object\n"
     ]
    }
   ],
   "source": [
    "print(df.loc[df['Optimal Threshold']<0.3]['Slide Name'])"
   ]
  },
  {
   "cell_type": "code",
   "execution_count": 86,
   "metadata": {},
   "outputs": [
    {
     "data": {
      "image/png": "[encoded data removed]",
      "text/plain": [
       "<Figure size 576x360 with 1 Axes>"
      ]
     },
     "metadata": {
      "needs_background": "light"
     },
     "output_type": "display_data"
    }
   ],
   "source": [
    "data = df[['Fall-Out (FPR)']]\n",
    "label = ['FPR']\n",
    "\n",
    "n_bins=10\n",
    "fig,ax=plt.subplots(figsize=(8,5))\n",
    "arr=ax.hist(data.values, n_bins, histtype='bar',label=label)\n",
    "ax.set_title('Fall-Out (FPR)')\n",
    "plt.ylabel('Number of slides')\n",
    "# plt.xlim(0,1)\n",
    "ax.legend()\n",
    "for i in range(n_bins):\n",
    "    plt.text(arr[1][i]+0.01,arr[0][i],str(int(arr[0][i])))\n",
    "plt.savefig(os.path.join(path, 'fpr.png'))\n",
    "plt.show()"
   ]
  },
  {
   "cell_type": "code",
   "execution_count": 87,
   "metadata": {},
   "outputs": [
    {
     "data": {
      "image/png": "[encoded data removed]",
      "text/plain": [
       "<Figure size 1080x720 with 1 Axes>"
      ]
     },
     "metadata": {
      "needs_background": "light"
     },
     "output_type": "display_data"
    }
   ],
   "source": [
    "data = df[['Area under ROC (AUC)', 'Accuracy (ACC)', 'F1-Score',\n",
    "       'Intersection over Union (IoU)']]\n",
    "label = ['AUC', 'ACC', 'F1-Score','IoU']\n",
    "\n",
    "n_bins=10\n",
    "fig,ax=plt.subplots(figsize=(15,10))\n",
    "ax.hist(data.values, n_bins, histtype='bar',label=label)\n",
    "ax.set_title('Comprehensive performance on test slides ')\n",
    "plt.ylabel('Number of slides')\n",
    "ax.legend()\n",
    "plt.savefig(os.path.join(path, 'comprehensive_performance.png'))\n",
    "plt.show()"
   ]
  },
  {
   "cell_type": "code",
   "execution_count": 88,
   "metadata": {},
   "outputs": [
    {
     "data": {
      "image/png": "[encoded data removed]",
      "text/plain": [
       "<Figure size 1080x720 with 1 Axes>"
      ]
     },
     "metadata": {
      "needs_background": "light"
     },
     "output_type": "display_data"
    }
   ],
   "source": [
    "data = df[['Sensitivity (TPR)',\n",
    "       'Specificity (TNR)', 'Precision (PPV)','Fall-Out (FPR)',\n",
    "       'Area under ROC (AUC)', 'Accuracy (ACC)', 'F1-Score',\n",
    "       'Intersection over Union (IoU)']]\n",
    "label = ['TPR', 'TNR', 'PPV', 'FPR', 'AUC', 'ACC', 'F1-Score','IoU']\n",
    "\n",
    "n_bins=10\n",
    "fig,ax=plt.subplots(figsize=(15,10))\n",
    "ax.hist(data.values, n_bins, histtype='bar',label=label)\n",
    "ax.set_title('Performance on test slides')\n",
    "plt.ylabel('Number of slides')\n",
    "ax.legend()\n",
    "plt.savefig(os.path.join(path, 'full_performance.png'))\n",
    "plt.show()"
   ]
  },
  {
   "cell_type": "markdown",
   "metadata": {},
   "source": [
    "## To find which class damages the performance:\n",
    "### Step 1: Confusion matrix. \n",
    "#### [[TP, FN], [FP, TN]] should be [[black, white], [black, white]]. If there are gray items, the problem is caused by an item in the column.\n",
    "### Step 2: Percentage of items. \n",
    "#### [TP, FP, TN, FN] should be [lower, lower, higher, higher] refering to 0.25. Look at the items in the column mentioned, the one matched is the wanted class. \n",
    "#### For example, [0.4,  ,  , 0.3], FN!"
   ]
  },
  {
   "cell_type": "code",
   "execution_count": null,
   "metadata": {},
   "outputs": [],
   "source": [
    "# calculate the percentage of TP, FP, TN, FN\n",
    "name = 'HMNT1550_bis - 2017-06-18 05.49.26.ndpi'\n",
    "\n",
    "tp = df['True Positive'][df[\"Slide Name\"] == name]\n",
    "fp = df['False Positive'][df[\"Slide Name\"] == name]\n",
    "tn = df['True Negative'][df[\"Slide Name\"] == name]\n",
    "fn = df['False Negative'][df[\"Slide Name\"] == name]\n",
    "\n",
    "sum = tp + fp + tn + fn\n",
    "\n",
    "print('TP: ' + str(tp/sum))\n",
    "print('FP: ' + str(fp/sum))\n",
    "print('TN: ' + str(tn/sum))\n",
    "print('FN: ' + str(fn/sum))"
   ]
  }
 ],
 "metadata": {
  "anaconda-cloud": {},
  "kernelspec": {
   "display_name": "Python [conda env:r-tensorflow]",
   "language": "python",
   "name": "conda-env-r-tensorflow-py"
  },
  "language_info": {
   "codemirror_mode": {
    "name": "ipython",
    "version": 3
   },
   "file_extension": ".py",
   "mimetype": "text/x-python",
   "name": "python",
   "nbconvert_exporter": "python",
   "pygments_lexer": "ipython3",
   "version": "3.6.8"
  }
 },
 "nbformat": 4,
 "nbformat_minor": 2
}
