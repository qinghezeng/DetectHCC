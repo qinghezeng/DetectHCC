{
 "cells": [
  {
   "cell_type": "markdown",
   "metadata": {},
   "source": [
    "# Prepare dataset splitting CSV and move WSI for CLAM demo\n",
    "## Ramdon selection"
   ]
  },
  {
   "cell_type": "code",
   "execution_count": 1,
   "metadata": {},
   "outputs": [],
   "source": [
    "import os\n",
    "import pandas as pd\n",
    "import random"
   ]
  },
  {
   "cell_type": "code",
   "execution_count": 2,
   "metadata": {},
   "outputs": [],
   "source": [
    "root = \"/media/visiopharm5/WDGold/deeplearning/MIL/CLAM/dataset_csv\"\n",
    "flabel = \"tcga_hcc_v1.csv\" # v1"
   ]
  },
  {
   "cell_type": "code",
   "execution_count": 3,
   "metadata": {},
   "outputs": [],
   "source": [
    "labels = pd.read_csv(os.path.join(root, flabel))\n",
    "labels.drop(\"Unnamed: 0\", axis=\"columns\", inplace=True)"
   ]
  },
  {
   "cell_type": "code",
   "execution_count": 4,
   "metadata": {},
   "outputs": [
    {
     "name": "stdout",
     "output_type": "stream",
     "text": [
      "(354, 3)\n"
     ]
    },
    {
     "data": {
      "text/html": [
       "<div>\n",
       "<style scoped>\n",
       "    .dataframe tbody tr th:only-of-type {\n",
       "        vertical-align: middle;\n",
       "    }\n",
       "\n",
       "    .dataframe tbody tr th {\n",
       "        vertical-align: top;\n",
       "    }\n",
       "\n",
       "    .dataframe thead th {\n",
       "        text-align: right;\n",
       "    }\n",
       "</style>\n",
       "<table border=\"1\" class=\"dataframe\">\n",
       "  <thead>\n",
       "    <tr style=\"text-align: right;\">\n",
       "      <th></th>\n",
       "      <th>case_id</th>\n",
       "      <th>slide_id</th>\n",
       "      <th>cluster</th>\n",
       "    </tr>\n",
       "  </thead>\n",
       "  <tbody>\n",
       "    <tr>\n",
       "      <th>0</th>\n",
       "      <td>TCGA-CC-5259</td>\n",
       "      <td>TCGA-CC-5259-01Z-00-DX1.D18B2F62-0CC0-4665-90E...</td>\n",
       "      <td>Cluster High</td>\n",
       "    </tr>\n",
       "    <tr>\n",
       "      <th>1</th>\n",
       "      <td>TCGA-DD-AADN</td>\n",
       "      <td>TCGA-DD-AADN-01Z-00-DX1.0C031278-22F9-40DE-9CF...</td>\n",
       "      <td>Cluster High</td>\n",
       "    </tr>\n",
       "    <tr>\n",
       "      <th>2</th>\n",
       "      <td>TCGA-FV-A4ZP</td>\n",
       "      <td>TCGA-FV-A4ZP-01Z-00-DX1.4B78C21C-8033-4870-82D...</td>\n",
       "      <td>Cluster High</td>\n",
       "    </tr>\n",
       "    <tr>\n",
       "      <th>3</th>\n",
       "      <td>TCGA-DD-AACI</td>\n",
       "      <td>TCGA-DD-AACI-01Z-00-DX1.C2931364-0514-49DB-AC9...</td>\n",
       "      <td>Cluster High</td>\n",
       "    </tr>\n",
       "    <tr>\n",
       "      <th>4</th>\n",
       "      <td>TCGA-DD-AADS</td>\n",
       "      <td>TCGA-DD-AADS-01Z-00-DX1.A147E3F6-065A-4313-A16...</td>\n",
       "      <td>Cluster High</td>\n",
       "    </tr>\n",
       "  </tbody>\n",
       "</table>\n",
       "</div>"
      ],
      "text/plain": [
       "        case_id                                           slide_id  \\\n",
       "0  TCGA-CC-5259  TCGA-CC-5259-01Z-00-DX1.D18B2F62-0CC0-4665-90E...   \n",
       "1  TCGA-DD-AADN  TCGA-DD-AADN-01Z-00-DX1.0C031278-22F9-40DE-9CF...   \n",
       "2  TCGA-FV-A4ZP  TCGA-FV-A4ZP-01Z-00-DX1.4B78C21C-8033-4870-82D...   \n",
       "3  TCGA-DD-AACI  TCGA-DD-AACI-01Z-00-DX1.C2931364-0514-49DB-AC9...   \n",
       "4  TCGA-DD-AADS  TCGA-DD-AADS-01Z-00-DX1.A147E3F6-065A-4313-A16...   \n",
       "\n",
       "        cluster  \n",
       "0  Cluster High  \n",
       "1  Cluster High  \n",
       "2  Cluster High  \n",
       "3  Cluster High  \n",
       "4  Cluster High  "
      ]
     },
     "metadata": {},
     "output_type": "display_data"
    }
   ],
   "source": [
    "print(labels.shape)\n",
    "display(labels.head(5))"
   ]
  },
  {
   "cell_type": "markdown",
   "metadata": {},
   "source": [
    "### Random sampling for each cluster"
   ]
  },
  {
   "cell_type": "code",
   "execution_count": 5,
   "metadata": {},
   "outputs": [],
   "source": [
    "index_high = labels[labels[\"cluster\"]==\"Cluster High\"].index.to_list()\n",
    "index_median = labels[labels[\"cluster\"]==\"Cluster Median\"].index.to_list()\n",
    "index_low = labels[labels[\"cluster\"]==\"Cluster Low\"].index.to_list()"
   ]
  },
  {
   "cell_type": "code",
   "execution_count": 6,
   "metadata": {},
   "outputs": [
    {
     "name": "stdout",
     "output_type": "stream",
     "text": [
      "Cluster High:\t71\n",
      "Cluster Median:\t162\n",
      "Cluster Low:\t121\n"
     ]
    }
   ],
   "source": [
    "print(\"Cluster High:\\t\" + str(len(index_high)))\n",
    "print(\"Cluster Median:\\t\" + str(len(index_median)))\n",
    "print(\"Cluster Low:\\t\" + str(len(index_low)))"
   ]
  },
  {
   "cell_type": "code",
   "execution_count": 7,
   "metadata": {},
   "outputs": [
    {
     "name": "stdout",
     "output_type": "stream",
     "text": [
      "[17, 8, 32, 15, 63, 57, 60, 48, 50, 13, 95, 195, 78, 170, 181, 226, 71, 185, 139, 129, 308, 353, 246, 348, 273, 236, 235, 316, 302, 234]\n"
     ]
    }
   ],
   "source": [
    "random.seed(1)\n",
    "l_index = []\n",
    "l_index.extend(random.sample(index_high,k=10))\n",
    "l_index.extend(random.sample(index_median,k=10))\n",
    "l_index.extend(random.sample(index_low,k=10))\n",
    "print(l_index)"
   ]
  },
  {
   "cell_type": "code",
   "execution_count": 8,
   "metadata": {},
   "outputs": [
    {
     "name": "stdout",
     "output_type": "stream",
     "text": [
      "(30, 3)\n"
     ]
    },
    {
     "data": {
      "text/html": [
       "<div>\n",
       "<style scoped>\n",
       "    .dataframe tbody tr th:only-of-type {\n",
       "        vertical-align: middle;\n",
       "    }\n",
       "\n",
       "    .dataframe tbody tr th {\n",
       "        vertical-align: top;\n",
       "    }\n",
       "\n",
       "    .dataframe thead th {\n",
       "        text-align: right;\n",
       "    }\n",
       "</style>\n",
       "<table border=\"1\" class=\"dataframe\">\n",
       "  <thead>\n",
       "    <tr style=\"text-align: right;\">\n",
       "      <th></th>\n",
       "      <th>case_id</th>\n",
       "      <th>slide_id</th>\n",
       "      <th>cluster</th>\n",
       "    </tr>\n",
       "  </thead>\n",
       "  <tbody>\n",
       "    <tr>\n",
       "      <th>0</th>\n",
       "      <td>TCGA-FV-A495</td>\n",
       "      <td>TCGA-FV-A495-01Z-00-DX1.DB7B5B88-DEAC-4422-A35...</td>\n",
       "      <td>Cluster High</td>\n",
       "    </tr>\n",
       "    <tr>\n",
       "      <th>1</th>\n",
       "      <td>TCGA-DD-AACB</td>\n",
       "      <td>TCGA-DD-AACB-01Z-00-DX1.D4A7846E-8B38-4FBA-BAB...</td>\n",
       "      <td>Cluster High</td>\n",
       "    </tr>\n",
       "    <tr>\n",
       "      <th>2</th>\n",
       "      <td>TCGA-DD-A116</td>\n",
       "      <td>TCGA-DD-A116-01Z-00-DX1.F6DC69B0-57AB-483D-908...</td>\n",
       "      <td>Cluster High</td>\n",
       "    </tr>\n",
       "    <tr>\n",
       "      <th>3</th>\n",
       "      <td>TCGA-DD-AACO</td>\n",
       "      <td>TCGA-DD-AACO-01Z-00-DX1.4A6AC96F-3D2B-440A-BB8...</td>\n",
       "      <td>Cluster High</td>\n",
       "    </tr>\n",
       "    <tr>\n",
       "      <th>4</th>\n",
       "      <td>TCGA-DD-AAEK</td>\n",
       "      <td>TCGA-DD-AAEK-01Z-00-DX1.EE268947-C582-475F-963...</td>\n",
       "      <td>Cluster High</td>\n",
       "    </tr>\n",
       "  </tbody>\n",
       "</table>\n",
       "</div>"
      ],
      "text/plain": [
       "        case_id                                           slide_id  \\\n",
       "0  TCGA-FV-A495  TCGA-FV-A495-01Z-00-DX1.DB7B5B88-DEAC-4422-A35...   \n",
       "1  TCGA-DD-AACB  TCGA-DD-AACB-01Z-00-DX1.D4A7846E-8B38-4FBA-BAB...   \n",
       "2  TCGA-DD-A116  TCGA-DD-A116-01Z-00-DX1.F6DC69B0-57AB-483D-908...   \n",
       "3  TCGA-DD-AACO  TCGA-DD-AACO-01Z-00-DX1.4A6AC96F-3D2B-440A-BB8...   \n",
       "4  TCGA-DD-AAEK  TCGA-DD-AAEK-01Z-00-DX1.EE268947-C582-475F-963...   \n",
       "\n",
       "        cluster  \n",
       "0  Cluster High  \n",
       "1  Cluster High  \n",
       "2  Cluster High  \n",
       "3  Cluster High  \n",
       "4  Cluster High  "
      ]
     },
     "metadata": {},
     "output_type": "display_data"
    }
   ],
   "source": [
    "labels = labels.iloc[l_index,:].reset_index(drop=True)\n",
    "print(labels.shape)\n",
    "display(labels.head(5))"
   ]
  },
  {
   "cell_type": "code",
   "execution_count": 9,
   "metadata": {},
   "outputs": [],
   "source": [
    "labels.to_csv(os.path.join(root, \"tcga_hcc_test.csv\"))"
   ]
  },
  {
   "cell_type": "markdown",
   "metadata": {},
   "source": [
    "### Move selected slides to the test folder"
   ]
  },
  {
   "cell_type": "code",
   "execution_count": 10,
   "metadata": {},
   "outputs": [],
   "source": [
    "slide_root = \"/media/visiopharm5/WDGold/deeplearning/MIL/CLAM/data\""
   ]
  },
  {
   "cell_type": "code",
   "execution_count": 11,
   "metadata": {},
   "outputs": [],
   "source": [
    "for i in range(labels.shape[0]):\n",
    "    os.rename(os.path.join(slide_root,\"data_tcga_hcc/\"+labels.iloc[i,1]+\".svs\"), os.path.join(slide_root,\"data_tcga_hcc_test/\"+labels.iloc[i,1]+\".svs\"))"
   ]
  }
 ],
 "metadata": {
  "kernelspec": {
   "display_name": "Python 3",
   "language": "python",
   "name": "python3"
  },
  "language_info": {
   "codemirror_mode": {
    "name": "ipython",
    "version": 3
   },
   "file_extension": ".py",
   "mimetype": "text/x-python",
   "name": "python",
   "nbconvert_exporter": "python",
   "pygments_lexer": "ipython3",
   "version": "3.8.3"
  }
 },
 "nbformat": 4,
 "nbformat_minor": 4
}
