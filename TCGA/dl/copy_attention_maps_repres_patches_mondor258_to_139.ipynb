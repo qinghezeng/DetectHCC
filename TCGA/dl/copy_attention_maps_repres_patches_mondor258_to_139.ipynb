{
 "cells": [
  {
   "cell_type": "markdown",
   "metadata": {},
   "source": [
    "### Copy attention maps and representative patches of Mondor 258 to Mondor 139"
   ]
  },
  {
   "cell_type": "code",
   "execution_count": 2,
   "metadata": {},
   "outputs": [],
   "source": [
    "import os\n",
    "import pandas as pd\n",
    "from shutil import copy, move\n",
    "from glob import glob"
   ]
  },
  {
   "cell_type": "code",
   "execution_count": 37,
   "metadata": {},
   "outputs": [],
   "source": [
    "root = \"/media/visiopharm5/WDGold/deeplearning/MIL/CLAM/eval_results\"\n",
    "target = \"EVAL_mondor_hcc_tumor_139_Inflammatory_cv_highvsrest_00X_CLAM_50_s1_cv\"\n",
    "path = os.path.join(root, target)\n",
    "fold = 8 # -1\n",
    "downscale = 8"
   ]
  },
  {
   "cell_type": "code",
   "execution_count": 38,
   "metadata": {},
   "outputs": [
    {
     "name": "stdout",
     "output_type": "stream",
     "text": [
      "(139, 3)\n"
     ]
    },
    {
     "data": {
      "text/html": [
       "<div>\n",
       "<style scoped>\n",
       "    .dataframe tbody tr th:only-of-type {\n",
       "        vertical-align: middle;\n",
       "    }\n",
       "\n",
       "    .dataframe tbody tr th {\n",
       "        vertical-align: top;\n",
       "    }\n",
       "\n",
       "    .dataframe thead th {\n",
       "        text-align: right;\n",
       "    }\n",
       "</style>\n",
       "<table border=\"1\" class=\"dataframe\">\n",
       "  <thead>\n",
       "    <tr style=\"text-align: right;\">\n",
       "      <th></th>\n",
       "      <th>case_id</th>\n",
       "      <th>slide_id</th>\n",
       "      <th>cluster</th>\n",
       "    </tr>\n",
       "  </thead>\n",
       "  <tbody>\n",
       "    <tr>\n",
       "      <th>1</th>\n",
       "      <td>EX128-ARN273</td>\n",
       "      <td>HMNT0343_bis - 2017-06-06 12.56.13</td>\n",
       "      <td>Cluster High</td>\n",
       "    </tr>\n",
       "    <tr>\n",
       "      <th>3</th>\n",
       "      <td>EX128-ARN293</td>\n",
       "      <td>HMNT0582_bis - 2017-07-16 22.01.02</td>\n",
       "      <td>Cluster High</td>\n",
       "    </tr>\n",
       "    <tr>\n",
       "      <th>5</th>\n",
       "      <td>EX128-ARN275</td>\n",
       "      <td>HMNT0499_bis - 2017-06-05 11.22.25</td>\n",
       "      <td>Cluster High</td>\n",
       "    </tr>\n",
       "    <tr>\n",
       "      <th>7</th>\n",
       "      <td>EX128-ARN280</td>\n",
       "      <td>HMNT0156_bis - 2017-06-05 03.33.14</td>\n",
       "      <td>Cluster High</td>\n",
       "    </tr>\n",
       "    <tr>\n",
       "      <th>9</th>\n",
       "      <td>EX128-ARN202</td>\n",
       "      <td>HMNT0998_bis - 2017-06-30 07.23.23</td>\n",
       "      <td>Cluster High</td>\n",
       "    </tr>\n",
       "  </tbody>\n",
       "</table>\n",
       "</div>"
      ],
      "text/plain": [
       "        case_id                            slide_id       cluster\n",
       "1  EX128-ARN273  HMNT0343_bis - 2017-06-06 12.56.13  Cluster High\n",
       "3  EX128-ARN293  HMNT0582_bis - 2017-07-16 22.01.02  Cluster High\n",
       "5  EX128-ARN275  HMNT0499_bis - 2017-06-05 11.22.25  Cluster High\n",
       "7  EX128-ARN280  HMNT0156_bis - 2017-06-05 03.33.14  Cluster High\n",
       "9  EX128-ARN202  HMNT0998_bis - 2017-06-30 07.23.23  Cluster High"
      ]
     },
     "metadata": {},
     "output_type": "display_data"
    },
    {
     "name": "stdout",
     "output_type": "stream",
     "text": [
      "139\n"
     ]
    }
   ],
   "source": [
    "file = \"mondor_hcc_139_T-cell_Exhaustion_highvsrest.csv\"\n",
    "ref = pd.read_csv(os.path.join(\"/media/visiopharm5/WDGold/deeplearning/MIL/CLAM/dataset_csv\", file), index_col=0)\n",
    "print(ref.shape)\n",
    "display(ref.head(5))\n",
    "\n",
    "slist = ref[\"slide_id\"].to_list()\n",
    "print(len(slist))"
   ]
  },
  {
   "cell_type": "code",
   "execution_count": 39,
   "metadata": {},
   "outputs": [],
   "source": [
    "os.makedirs(os.path.join(path, \"attention_maps_\"+str(fold)+\"_\"+str(downscale)))\n",
    "os.makedirs(os.path.join(path, \"repres_patches_\"+str(fold)))\n",
    "\n",
    "# build 4 subfolds\n",
    "# Attention maps\n",
    "os.makedirs(os.path.join(path, \"attention_maps_\"+str(fold)+\"_\"+str(downscale), \"tp\"))\n",
    "os.makedirs(os.path.join(path, \"attention_maps_\"+str(fold)+\"_\"+str(downscale), \"fp\"))\n",
    "os.makedirs(os.path.join(path, \"attention_maps_\"+str(fold)+\"_\"+str(downscale), \"tn\"))\n",
    "os.makedirs(os.path.join(path, \"attention_maps_\"+str(fold)+\"_\"+str(downscale), \"fn\"))\n",
    "# Representative patches\n",
    "os.makedirs(os.path.join(path, \"repres_patches_\"+str(fold), \"tp\"))\n",
    "os.makedirs(os.path.join(path, \"repres_patches_\"+str(fold), \"fp\"))\n",
    "os.makedirs(os.path.join(path, \"repres_patches_\"+str(fold), \"tn\"))\n",
    "os.makedirs(os.path.join(path, \"repres_patches_\"+str(fold), \"fn\"))"
   ]
  },
  {
   "cell_type": "code",
   "execution_count": 40,
   "metadata": {},
   "outputs": [],
   "source": [
    "for sname in slist:\n",
    "    # Attention maps\n",
    "    for file in glob(os.path.join(path.replace('139','258'), \"attention_maps_\"+str(fold)+\"_\"+str(downscale), '*', sname+'_*')):\n",
    "        copy(file, file.replace('_258_', '_139_'))\n",
    "    # Representative patches\n",
    "    for file in glob(os.path.join(path.replace('139','258'), \"repres_patches_\"+str(fold), '*', sname+'_*')):\n",
    "        copy(file, file.replace('_258_', '_139_'))"
   ]
  },
  {
   "cell_type": "code",
   "execution_count": null,
   "metadata": {},
   "outputs": [],
   "source": []
  },
  {
   "cell_type": "code",
   "execution_count": null,
   "metadata": {},
   "outputs": [],
   "source": []
  }
 ],
 "metadata": {
  "kernelspec": {
   "display_name": "Python 3",
   "language": "python",
   "name": "python3"
  },
  "language_info": {
   "codemirror_mode": {
    "name": "ipython",
    "version": 3
   },
   "file_extension": ".py",
   "mimetype": "text/x-python",
   "name": "python",
   "nbconvert_exporter": "python",
   "pygments_lexer": "ipython3",
   "version": "3.7.7"
  }
 },
 "nbformat": 4,
 "nbformat_minor": 4
}
