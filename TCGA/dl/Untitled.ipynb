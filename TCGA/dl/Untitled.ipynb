{
 "cells": [
  {
   "cell_type": "code",
   "execution_count": 2,
   "metadata": {},
   "outputs": [],
   "source": [
    "import os\n",
    "import re\n",
    "from PIL import Image\n",
    "import h5py\n",
    "import numpy as np\n",
    "# import sys\n",
    "# !conda install --yes --prefix {sys.prefix} ipywidgets # install in the current conda environment\n",
    "# !jupyter nbextension enable --py widgetsnbextension \n",
    "# Then restart jupyter\n",
    "from tqdm.notebook import tqdm\n",
    "# from numba import jit, njit, cuda"
   ]
  },
  {
   "cell_type": "code",
   "execution_count": 6,
   "metadata": {},
   "outputs": [
    {
     "name": "stdout",
     "output_type": "stream",
     "text": [
      "<bound method MappingHDF5.keys of <HDF5 file \"TCGA-HP-A5MZ-01Z-00-DX1.296DB311-8B9E-4A98-B53A-39BC2EB4A548.h5\" (mode r)>>\n"
     ]
    }
   ],
   "source": [
    "path_patch_anno = \"/media/visiopharm5/WDGold/deeplearning/MIL/CLAM/results/patches_tumor\"\n",
    "slide_id = \"TCGA-HP-A5MZ-01Z-00-DX1.296DB311-8B9E-4A98-B53A-39BC2EB4A548\"\n",
    "f = h5py.File(os.path.join(path_patch_anno, slide_id+'.h5'), \"r\")\n"
   ]
  },
  {
   "cell_type": "code",
   "execution_count": 7,
   "metadata": {},
   "outputs": [
    {
     "name": "stdout",
     "output_type": "stream",
     "text": [
      "<KeysViewHDF5 []>\n"
     ]
    }
   ],
   "source": [
    "print(f.keys())"
   ]
  },
  {
   "cell_type": "code",
   "execution_count": 8,
   "metadata": {},
   "outputs": [],
   "source": [
    "f.close()"
   ]
  }
 ],
 "metadata": {
  "kernelspec": {
   "display_name": "Python 3",
   "language": "python",
   "name": "python3"
  },
  "language_info": {
   "codemirror_mode": {
    "name": "ipython",
    "version": 3
   },
   "file_extension": ".py",
   "mimetype": "text/x-python",
   "name": "python",
   "nbconvert_exporter": "python",
   "pygments_lexer": "ipython3",
   "version": "3.7.7"
  }
 },
 "nbformat": 4,
 "nbformat_minor": 4
}
