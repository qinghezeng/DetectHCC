{
 "cells": [
  {
   "cell_type": "code",
   "execution_count": null,
   "metadata": {},
   "outputs": [],
   "source": [
    "# only conda environment deepai"
   ]
  },
  {
   "cell_type": "code",
   "execution_count": 1,
   "metadata": {},
   "outputs": [],
   "source": [
    "import os\n",
    "import pandas as pd\n",
    "from dateutil.relativedelta import relativedelta\n",
    "import math\n",
    "# !conda install openpyxl # install dependency for pandas to write excel"
   ]
  },
  {
   "cell_type": "code",
   "execution_count": 2,
   "metadata": {},
   "outputs": [],
   "source": [
    "path = '/media/visiopharm5/WDGold/deeplearning/Hepatocarcinomes/TCGA/data/clinicopathologic'\n",
    "fref = '/media/visiopharm5/WDGold/deeplearning/MIL/CLAM/dataset_csv/mondor_hcc_139_6G_Interferon_Gamma_highvsrest.csv'"
   ]
  },
  {
   "cell_type": "code",
   "execution_count": 3,
   "metadata": {},
   "outputs": [
    {
     "name": "stdout",
     "output_type": "stream",
     "text": [
      "(157, 22)\n"
     ]
    },
    {
     "data": {
      "text/html": [
       "<div>\n",
       "<style scoped>\n",
       "    .dataframe tbody tr th:only-of-type {\n",
       "        vertical-align: middle;\n",
       "    }\n",
       "\n",
       "    .dataframe tbody tr th {\n",
       "        vertical-align: top;\n",
       "    }\n",
       "\n",
       "    .dataframe thead th {\n",
       "        text-align: right;\n",
       "    }\n",
       "</style>\n",
       "<table border=\"1\" class=\"dataframe\">\n",
       "  <thead>\n",
       "    <tr style=\"text-align: right;\">\n",
       "      <th></th>\n",
       "      <th>Center</th>\n",
       "      <th>Tumor_ID</th>\n",
       "      <th>Gender</th>\n",
       "      <th>Birth_date</th>\n",
       "      <th>Age_at_intervention</th>\n",
       "      <th>Undetermined</th>\n",
       "      <th>Alcohol</th>\n",
       "      <th>HCV</th>\n",
       "      <th>HBV</th>\n",
       "      <th>NASH</th>\n",
       "      <th>...</th>\n",
       "      <th>Multinodularity</th>\n",
       "      <th>BCLC_before_intervention</th>\n",
       "      <th>Preop_AFP</th>\n",
       "      <th>Satellite nodules</th>\n",
       "      <th>Surgical margins</th>\n",
       "      <th>Macrovascular invasion</th>\n",
       "      <th>Microvascular invasion</th>\n",
       "      <th>WHO_differentiation</th>\n",
       "      <th>Score metavir fibrose</th>\n",
       "      <th>Cirrhosis</th>\n",
       "    </tr>\n",
       "  </thead>\n",
       "  <tbody>\n",
       "    <tr>\n",
       "      <th>0</th>\n",
       "      <td>Henri Mondor</td>\n",
       "      <td>HMNT2247</td>\n",
       "      <td>M</td>\n",
       "      <td>1954-05-05</td>\n",
       "      <td>NaN</td>\n",
       "      <td>0.0</td>\n",
       "      <td>1.0</td>\n",
       "      <td>0.0</td>\n",
       "      <td>1.0</td>\n",
       "      <td>1.0</td>\n",
       "      <td>...</td>\n",
       "      <td>0</td>\n",
       "      <td>C</td>\n",
       "      <td>3088.0</td>\n",
       "      <td>0.0</td>\n",
       "      <td>R0</td>\n",
       "      <td>1</td>\n",
       "      <td>1</td>\n",
       "      <td>Poorly_differentiated</td>\n",
       "      <td>3.0</td>\n",
       "      <td>0.0</td>\n",
       "    </tr>\n",
       "    <tr>\n",
       "      <th>1</th>\n",
       "      <td>Henri Mondor</td>\n",
       "      <td>HMNT2246</td>\n",
       "      <td>F</td>\n",
       "      <td>1922-03-12</td>\n",
       "      <td>NaN</td>\n",
       "      <td>NaN</td>\n",
       "      <td>NaN</td>\n",
       "      <td>NaN</td>\n",
       "      <td>NaN</td>\n",
       "      <td>NaN</td>\n",
       "      <td>...</td>\n",
       "      <td>0</td>\n",
       "      <td>A</td>\n",
       "      <td>8.0</td>\n",
       "      <td>0.0</td>\n",
       "      <td>R0</td>\n",
       "      <td>0</td>\n",
       "      <td>0</td>\n",
       "      <td>Poorly_differentiated</td>\n",
       "      <td>0.0</td>\n",
       "      <td>0.0</td>\n",
       "    </tr>\n",
       "    <tr>\n",
       "      <th>2</th>\n",
       "      <td>Henri Mondor</td>\n",
       "      <td>HMNT2066</td>\n",
       "      <td>M</td>\n",
       "      <td>1953-07-23</td>\n",
       "      <td>NaN</td>\n",
       "      <td>0.0</td>\n",
       "      <td>1.0</td>\n",
       "      <td>0.0</td>\n",
       "      <td>0.0</td>\n",
       "      <td>0.0</td>\n",
       "      <td>...</td>\n",
       "      <td>0</td>\n",
       "      <td>A</td>\n",
       "      <td>NaN</td>\n",
       "      <td>1.0</td>\n",
       "      <td>R0</td>\n",
       "      <td>0</td>\n",
       "      <td>0</td>\n",
       "      <td>Moderately_differentiated</td>\n",
       "      <td>3.0</td>\n",
       "      <td>0.0</td>\n",
       "    </tr>\n",
       "  </tbody>\n",
       "</table>\n",
       "<p>3 rows × 22 columns</p>\n",
       "</div>"
      ],
      "text/plain": [
       "         Center  Tumor_ID Gender Birth_date  Age_at_intervention  \\\n",
       "0  Henri Mondor  HMNT2247      M 1954-05-05                  NaN   \n",
       "1  Henri Mondor  HMNT2246      F 1922-03-12                  NaN   \n",
       "2  Henri Mondor  HMNT2066      M 1953-07-23                  NaN   \n",
       "\n",
       "   Undetermined  Alcohol  HCV  HBV  NASH  ... Multinodularity  \\\n",
       "0           0.0      1.0  0.0  1.0   1.0  ...               0   \n",
       "1           NaN      NaN  NaN  NaN   NaN  ...               0   \n",
       "2           0.0      1.0  0.0  0.0   0.0  ...               0   \n",
       "\n",
       "   BCLC_before_intervention  Preop_AFP Satellite nodules  Surgical margins  \\\n",
       "0                         C     3088.0               0.0                R0   \n",
       "1                         A        8.0               0.0                R0   \n",
       "2                         A        NaN               1.0                R0   \n",
       "\n",
       "   Macrovascular invasion Microvascular invasion        WHO_differentiation  \\\n",
       "0                       1                      1      Poorly_differentiated   \n",
       "1                       0                      0      Poorly_differentiated   \n",
       "2                       0                      0  Moderately_differentiated   \n",
       "\n",
       "   Score metavir fibrose Cirrhosis  \n",
       "0                    3.0       0.0  \n",
       "1                    0.0       0.0  \n",
       "2                    3.0       0.0  \n",
       "\n",
       "[3 rows x 22 columns]"
      ]
     },
     "metadata": {},
     "output_type": "display_data"
    }
   ],
   "source": [
    "# load mondor data\n",
    "df = pd.read_excel(os.path.join(path, \"Data Mondor Series.xlsx\"))\n",
    "print(df.shape) # (157, 22)\n",
    "display(df.head(3))"
   ]
  },
  {
   "cell_type": "code",
   "execution_count": 4,
   "metadata": {},
   "outputs": [
    {
     "name": "stdout",
     "output_type": "stream",
     "text": [
      "(15, 22)\n"
     ]
    },
    {
     "data": {
      "text/html": [
       "<div>\n",
       "<style scoped>\n",
       "    .dataframe tbody tr th:only-of-type {\n",
       "        vertical-align: middle;\n",
       "    }\n",
       "\n",
       "    .dataframe tbody tr th {\n",
       "        vertical-align: top;\n",
       "    }\n",
       "\n",
       "    .dataframe thead th {\n",
       "        text-align: right;\n",
       "    }\n",
       "</style>\n",
       "<table border=\"1\" class=\"dataframe\">\n",
       "  <thead>\n",
       "    <tr style=\"text-align: right;\">\n",
       "      <th></th>\n",
       "      <th>Center</th>\n",
       "      <th>Tumor_ID</th>\n",
       "      <th>Gender</th>\n",
       "      <th>Birth_date</th>\n",
       "      <th>Undetermined</th>\n",
       "      <th>Alcohol</th>\n",
       "      <th>HCV</th>\n",
       "      <th>HBV</th>\n",
       "      <th>NASH</th>\n",
       "      <th>Hemochromatosis</th>\n",
       "      <th>...</th>\n",
       "      <th>Largest nodule diameter</th>\n",
       "      <th>Multinodularity</th>\n",
       "      <th>BCLC_before_intervention</th>\n",
       "      <th>Preop_AFP</th>\n",
       "      <th>Satellite nodules</th>\n",
       "      <th>Surgical margins</th>\n",
       "      <th>Macrovascular invasion</th>\n",
       "      <th>Microvascular invasion</th>\n",
       "      <th>WHO_differentiation</th>\n",
       "      <th>Cirrhosis</th>\n",
       "    </tr>\n",
       "  </thead>\n",
       "  <tbody>\n",
       "    <tr>\n",
       "      <th>0</th>\n",
       "      <td>Henri Mondor</td>\n",
       "      <td>HMNT2387</td>\n",
       "      <td>M</td>\n",
       "      <td>1963-03-03</td>\n",
       "      <td>0</td>\n",
       "      <td>0</td>\n",
       "      <td>1</td>\n",
       "      <td>0</td>\n",
       "      <td>0</td>\n",
       "      <td>0</td>\n",
       "      <td>...</td>\n",
       "      <td>12</td>\n",
       "      <td>0</td>\n",
       "      <td>A</td>\n",
       "      <td>2.0</td>\n",
       "      <td>0</td>\n",
       "      <td>R0</td>\n",
       "      <td>0</td>\n",
       "      <td>0</td>\n",
       "      <td>Moderately_differentiated</td>\n",
       "      <td>1.0</td>\n",
       "    </tr>\n",
       "    <tr>\n",
       "      <th>1</th>\n",
       "      <td>Henri Mondor</td>\n",
       "      <td>HMNT2386</td>\n",
       "      <td>M</td>\n",
       "      <td>1959-12-26</td>\n",
       "      <td>0</td>\n",
       "      <td>0</td>\n",
       "      <td>0</td>\n",
       "      <td>0</td>\n",
       "      <td>1</td>\n",
       "      <td>0</td>\n",
       "      <td>...</td>\n",
       "      <td>16</td>\n",
       "      <td>0</td>\n",
       "      <td>A</td>\n",
       "      <td>NaN</td>\n",
       "      <td>1</td>\n",
       "      <td>R0</td>\n",
       "      <td>0</td>\n",
       "      <td>1</td>\n",
       "      <td>Moderately_differentiated</td>\n",
       "      <td>0.0</td>\n",
       "    </tr>\n",
       "    <tr>\n",
       "      <th>2</th>\n",
       "      <td>Henri Mondor</td>\n",
       "      <td>HMNT2326</td>\n",
       "      <td>M</td>\n",
       "      <td>1961-07-30</td>\n",
       "      <td>0</td>\n",
       "      <td>0</td>\n",
       "      <td>0</td>\n",
       "      <td>1</td>\n",
       "      <td>0</td>\n",
       "      <td>0</td>\n",
       "      <td>...</td>\n",
       "      <td>60</td>\n",
       "      <td>0</td>\n",
       "      <td>C</td>\n",
       "      <td>6027.0</td>\n",
       "      <td>1</td>\n",
       "      <td>R0</td>\n",
       "      <td>1</td>\n",
       "      <td>1</td>\n",
       "      <td>Moderately_differentiated</td>\n",
       "      <td>0.0</td>\n",
       "    </tr>\n",
       "  </tbody>\n",
       "</table>\n",
       "<p>3 rows × 22 columns</p>\n",
       "</div>"
      ],
      "text/plain": [
       "         Center  Tumor_ID Gender Birth_date  Undetermined  Alcohol  HCV  HBV  \\\n",
       "0  Henri Mondor  HMNT2387      M 1963-03-03             0        0    1    0   \n",
       "1  Henri Mondor  HMNT2386      M 1959-12-26             0        0    0    0   \n",
       "2  Henri Mondor  HMNT2326      M 1961-07-30             0        0    0    1   \n",
       "\n",
       "   NASH  Hemochromatosis  ...  Largest nodule diameter Multinodularity  \\\n",
       "0     0                0  ...                       12               0   \n",
       "1     1                0  ...                       16               0   \n",
       "2     0                0  ...                       60               0   \n",
       "\n",
       "   BCLC_before_intervention  Preop_AFP Satellite nodules  Surgical margins  \\\n",
       "0                         A        2.0                 0                R0   \n",
       "1                         A        NaN                 1                R0   \n",
       "2                         C     6027.0                 1                R0   \n",
       "\n",
       "   Macrovascular invasion Microvascular invasion        WHO_differentiation  \\\n",
       "0                       0                      0  Moderately_differentiated   \n",
       "1                       0                      1  Moderately_differentiated   \n",
       "2                       1                      1  Moderately_differentiated   \n",
       "\n",
       "   Cirrhosis  \n",
       "0        1.0  \n",
       "1        0.0  \n",
       "2        0.0  \n",
       "\n",
       "[3 rows x 22 columns]"
      ]
     },
     "metadata": {},
     "output_type": "display_data"
    }
   ],
   "source": [
    "# load modor data 2\n",
    "df_ = pd.read_excel(os.path.join(path, \"Classeur1.xlsx\"))\n",
    "print(df_.shape) # (15, 22)\n",
    "display(df_.head(3))"
   ]
  },
  {
   "cell_type": "code",
   "execution_count": 5,
   "metadata": {},
   "outputs": [
    {
     "data": {
      "text/plain": [
       "{'Age_at_intervention', 'Score metavir fibrose'}"
      ]
     },
     "execution_count": 5,
     "metadata": {},
     "output_type": "execute_result"
    }
   ],
   "source": [
    "# mondor data 2 lack columns: Julien said could skip 'Score metavir fibrose'\n",
    "set(df.columns.values) - set(df_.columns.values) # {'Age_at_intervention', 'Score metavir fibrose'}"
   ]
  },
  {
   "cell_type": "code",
   "execution_count": 6,
   "metadata": {},
   "outputs": [
    {
     "data": {
      "text/plain": [
       "{'Hemochromatosis', 'Other'}"
      ]
     },
     "execution_count": 6,
     "metadata": {},
     "output_type": "execute_result"
    }
   ],
   "source": [
    "# mondor data 1 lack columns: Julien said could skip this two\n",
    "set(df_.columns.values) - set(df.columns.values) # {'Hemochromatosis', 'Other'}"
   ]
  },
  {
   "cell_type": "code",
   "execution_count": 7,
   "metadata": {},
   "outputs": [
    {
     "name": "stdout",
     "output_type": "stream",
     "text": [
      "(172, 24)\n"
     ]
    },
    {
     "data": {
      "text/html": [
       "<div>\n",
       "<style scoped>\n",
       "    .dataframe tbody tr th:only-of-type {\n",
       "        vertical-align: middle;\n",
       "    }\n",
       "\n",
       "    .dataframe tbody tr th {\n",
       "        vertical-align: top;\n",
       "    }\n",
       "\n",
       "    .dataframe thead th {\n",
       "        text-align: right;\n",
       "    }\n",
       "</style>\n",
       "<table border=\"1\" class=\"dataframe\">\n",
       "  <thead>\n",
       "    <tr style=\"text-align: right;\">\n",
       "      <th></th>\n",
       "      <th>Center</th>\n",
       "      <th>Tumor_ID</th>\n",
       "      <th>Gender</th>\n",
       "      <th>Birth_date</th>\n",
       "      <th>Age_at_intervention</th>\n",
       "      <th>Undetermined</th>\n",
       "      <th>Alcohol</th>\n",
       "      <th>HCV</th>\n",
       "      <th>HBV</th>\n",
       "      <th>NASH</th>\n",
       "      <th>...</th>\n",
       "      <th>Preop_AFP</th>\n",
       "      <th>Satellite nodules</th>\n",
       "      <th>Surgical margins</th>\n",
       "      <th>Macrovascular invasion</th>\n",
       "      <th>Microvascular invasion</th>\n",
       "      <th>WHO_differentiation</th>\n",
       "      <th>Score metavir fibrose</th>\n",
       "      <th>Cirrhosis</th>\n",
       "      <th>Hemochromatosis</th>\n",
       "      <th>Other</th>\n",
       "    </tr>\n",
       "  </thead>\n",
       "  <tbody>\n",
       "    <tr>\n",
       "      <th>0</th>\n",
       "      <td>Henri Mondor</td>\n",
       "      <td>HMNT2247</td>\n",
       "      <td>M</td>\n",
       "      <td>1954-05-05</td>\n",
       "      <td>NaN</td>\n",
       "      <td>0.0</td>\n",
       "      <td>1.0</td>\n",
       "      <td>0.0</td>\n",
       "      <td>1.0</td>\n",
       "      <td>1.0</td>\n",
       "      <td>...</td>\n",
       "      <td>3088.0</td>\n",
       "      <td>0.0</td>\n",
       "      <td>R0</td>\n",
       "      <td>1</td>\n",
       "      <td>1</td>\n",
       "      <td>Poorly_differentiated</td>\n",
       "      <td>3.0</td>\n",
       "      <td>0.0</td>\n",
       "      <td>NaN</td>\n",
       "      <td>NaN</td>\n",
       "    </tr>\n",
       "    <tr>\n",
       "      <th>1</th>\n",
       "      <td>Henri Mondor</td>\n",
       "      <td>HMNT2246</td>\n",
       "      <td>F</td>\n",
       "      <td>1922-03-12</td>\n",
       "      <td>NaN</td>\n",
       "      <td>NaN</td>\n",
       "      <td>NaN</td>\n",
       "      <td>NaN</td>\n",
       "      <td>NaN</td>\n",
       "      <td>NaN</td>\n",
       "      <td>...</td>\n",
       "      <td>8.0</td>\n",
       "      <td>0.0</td>\n",
       "      <td>R0</td>\n",
       "      <td>0</td>\n",
       "      <td>0</td>\n",
       "      <td>Poorly_differentiated</td>\n",
       "      <td>0.0</td>\n",
       "      <td>0.0</td>\n",
       "      <td>NaN</td>\n",
       "      <td>NaN</td>\n",
       "    </tr>\n",
       "    <tr>\n",
       "      <th>2</th>\n",
       "      <td>Henri Mondor</td>\n",
       "      <td>HMNT2066</td>\n",
       "      <td>M</td>\n",
       "      <td>1953-07-23</td>\n",
       "      <td>NaN</td>\n",
       "      <td>0.0</td>\n",
       "      <td>1.0</td>\n",
       "      <td>0.0</td>\n",
       "      <td>0.0</td>\n",
       "      <td>0.0</td>\n",
       "      <td>...</td>\n",
       "      <td>NaN</td>\n",
       "      <td>1.0</td>\n",
       "      <td>R0</td>\n",
       "      <td>0</td>\n",
       "      <td>0</td>\n",
       "      <td>Moderately_differentiated</td>\n",
       "      <td>3.0</td>\n",
       "      <td>0.0</td>\n",
       "      <td>NaN</td>\n",
       "      <td>NaN</td>\n",
       "    </tr>\n",
       "  </tbody>\n",
       "</table>\n",
       "<p>3 rows × 24 columns</p>\n",
       "</div>"
      ],
      "text/plain": [
       "         Center  Tumor_ID Gender Birth_date  Age_at_intervention  \\\n",
       "0  Henri Mondor  HMNT2247      M 1954-05-05                  NaN   \n",
       "1  Henri Mondor  HMNT2246      F 1922-03-12                  NaN   \n",
       "2  Henri Mondor  HMNT2066      M 1953-07-23                  NaN   \n",
       "\n",
       "   Undetermined  Alcohol  HCV  HBV  NASH  ... Preop_AFP  Satellite nodules  \\\n",
       "0           0.0      1.0  0.0  1.0   1.0  ...    3088.0                0.0   \n",
       "1           NaN      NaN  NaN  NaN   NaN  ...       8.0                0.0   \n",
       "2           0.0      1.0  0.0  0.0   0.0  ...       NaN                1.0   \n",
       "\n",
       "   Surgical margins Macrovascular invasion  Microvascular invasion  \\\n",
       "0                R0                      1                       1   \n",
       "1                R0                      0                       0   \n",
       "2                R0                      0                       0   \n",
       "\n",
       "         WHO_differentiation Score metavir fibrose  Cirrhosis  \\\n",
       "0      Poorly_differentiated                   3.0        0.0   \n",
       "1      Poorly_differentiated                   0.0        0.0   \n",
       "2  Moderately_differentiated                   3.0        0.0   \n",
       "\n",
       "   Hemochromatosis Other  \n",
       "0              NaN   NaN  \n",
       "1              NaN   NaN  \n",
       "2              NaN   NaN  \n",
       "\n",
       "[3 rows x 24 columns]"
      ]
     },
     "metadata": {},
     "output_type": "display_data"
    }
   ],
   "source": [
    "# merge the two df by out join\n",
    "df = pd.concat([df, df_], ignore_index=True)\n",
    "print(df.shape) # (172, 24)\n",
    "display(df.head(3))"
   ]
  },
  {
   "cell_type": "code",
   "execution_count": 10,
   "metadata": {},
   "outputs": [],
   "source": [
    "# delete mondor data 2\n",
    "del df_"
   ]
  },
  {
   "cell_type": "code",
   "execution_count": 11,
   "metadata": {},
   "outputs": [
    {
     "name": "stdout",
     "output_type": "stream",
     "text": [
      "(172, 24)\n"
     ]
    },
    {
     "data": {
      "text/html": [
       "<div>\n",
       "<style scoped>\n",
       "    .dataframe tbody tr th:only-of-type {\n",
       "        vertical-align: middle;\n",
       "    }\n",
       "\n",
       "    .dataframe tbody tr th {\n",
       "        vertical-align: top;\n",
       "    }\n",
       "\n",
       "    .dataframe thead th {\n",
       "        text-align: right;\n",
       "    }\n",
       "</style>\n",
       "<table border=\"1\" class=\"dataframe\">\n",
       "  <thead>\n",
       "    <tr style=\"text-align: right;\">\n",
       "      <th></th>\n",
       "      <th>Center</th>\n",
       "      <th>Tumor_ID</th>\n",
       "      <th>Gender</th>\n",
       "      <th>Birth_date</th>\n",
       "      <th>Age_at_intervention</th>\n",
       "      <th>Undetermined</th>\n",
       "      <th>Alcohol</th>\n",
       "      <th>HCV</th>\n",
       "      <th>HBV</th>\n",
       "      <th>NASH</th>\n",
       "      <th>...</th>\n",
       "      <th>Preop_AFP</th>\n",
       "      <th>Satellite nodules</th>\n",
       "      <th>Surgical margins</th>\n",
       "      <th>Macrovascular invasion</th>\n",
       "      <th>Microvascular invasion</th>\n",
       "      <th>WHO_differentiation</th>\n",
       "      <th>Score metavir fibrose</th>\n",
       "      <th>Cirrhosis</th>\n",
       "      <th>Hemochromatosis</th>\n",
       "      <th>Other</th>\n",
       "    </tr>\n",
       "  </thead>\n",
       "  <tbody>\n",
       "    <tr>\n",
       "      <th>0</th>\n",
       "      <td>Henri Mondor</td>\n",
       "      <td>HMNT2247</td>\n",
       "      <td>M</td>\n",
       "      <td>1954-05-05</td>\n",
       "      <td>NaN</td>\n",
       "      <td>0.0</td>\n",
       "      <td>1.0</td>\n",
       "      <td>0.0</td>\n",
       "      <td>1.0</td>\n",
       "      <td>1.0</td>\n",
       "      <td>...</td>\n",
       "      <td>3088.0</td>\n",
       "      <td>0.0</td>\n",
       "      <td>R0</td>\n",
       "      <td>1</td>\n",
       "      <td>1</td>\n",
       "      <td>Poorly_differentiated</td>\n",
       "      <td>3.0</td>\n",
       "      <td>0.0</td>\n",
       "      <td>NaN</td>\n",
       "      <td>NaN</td>\n",
       "    </tr>\n",
       "    <tr>\n",
       "      <th>1</th>\n",
       "      <td>Henri Mondor</td>\n",
       "      <td>HMNT2246</td>\n",
       "      <td>F</td>\n",
       "      <td>1922-03-12</td>\n",
       "      <td>NaN</td>\n",
       "      <td>NaN</td>\n",
       "      <td>NaN</td>\n",
       "      <td>NaN</td>\n",
       "      <td>NaN</td>\n",
       "      <td>NaN</td>\n",
       "      <td>...</td>\n",
       "      <td>8.0</td>\n",
       "      <td>0.0</td>\n",
       "      <td>R0</td>\n",
       "      <td>0</td>\n",
       "      <td>0</td>\n",
       "      <td>Poorly_differentiated</td>\n",
       "      <td>0.0</td>\n",
       "      <td>0.0</td>\n",
       "      <td>NaN</td>\n",
       "      <td>NaN</td>\n",
       "    </tr>\n",
       "    <tr>\n",
       "      <th>2</th>\n",
       "      <td>Henri Mondor</td>\n",
       "      <td>HMNT2066</td>\n",
       "      <td>M</td>\n",
       "      <td>1953-07-23</td>\n",
       "      <td>NaN</td>\n",
       "      <td>0.0</td>\n",
       "      <td>1.0</td>\n",
       "      <td>0.0</td>\n",
       "      <td>0.0</td>\n",
       "      <td>0.0</td>\n",
       "      <td>...</td>\n",
       "      <td>NaN</td>\n",
       "      <td>1.0</td>\n",
       "      <td>R0</td>\n",
       "      <td>0</td>\n",
       "      <td>0</td>\n",
       "      <td>Moderately_differentiated</td>\n",
       "      <td>3.0</td>\n",
       "      <td>0.0</td>\n",
       "      <td>NaN</td>\n",
       "      <td>NaN</td>\n",
       "    </tr>\n",
       "  </tbody>\n",
       "</table>\n",
       "<p>3 rows × 24 columns</p>\n",
       "</div>"
      ],
      "text/plain": [
       "         Center  Tumor_ID Gender Birth_date  Age_at_intervention  \\\n",
       "0  Henri Mondor  HMNT2247      M 1954-05-05                  NaN   \n",
       "1  Henri Mondor  HMNT2246      F 1922-03-12                  NaN   \n",
       "2  Henri Mondor  HMNT2066      M 1953-07-23                  NaN   \n",
       "\n",
       "   Undetermined  Alcohol  HCV  HBV  NASH  ... Preop_AFP  Satellite nodules  \\\n",
       "0           0.0      1.0  0.0  1.0   1.0  ...    3088.0                0.0   \n",
       "1           NaN      NaN  NaN  NaN   NaN  ...       8.0                0.0   \n",
       "2           0.0      1.0  0.0  0.0   0.0  ...       NaN                1.0   \n",
       "\n",
       "   Surgical margins Macrovascular invasion  Microvascular invasion  \\\n",
       "0                R0                      1                       1   \n",
       "1                R0                      0                       0   \n",
       "2                R0                      0                       0   \n",
       "\n",
       "         WHO_differentiation Score metavir fibrose  Cirrhosis  \\\n",
       "0      Poorly_differentiated                   3.0        0.0   \n",
       "1      Poorly_differentiated                   0.0        0.0   \n",
       "2  Moderately_differentiated                   3.0        0.0   \n",
       "\n",
       "   Hemochromatosis Other  \n",
       "0              NaN   NaN  \n",
       "1              NaN   NaN  \n",
       "2              NaN   NaN  \n",
       "\n",
       "[3 rows x 24 columns]"
      ]
     },
     "metadata": {},
     "output_type": "display_data"
    }
   ],
   "source": [
    "# df_res as results and df as source data\n",
    "df_res = df.copy(deep=True)\n",
    "print(df_res.shape) # (172, 24)\n",
    "display(df_res.head(3))"
   ]
  },
  {
   "cell_type": "code",
   "execution_count": 20,
   "metadata": {},
   "outputs": [
    {
     "name": "stdout",
     "output_type": "stream",
     "text": [
      "(172, 24)\n"
     ]
    },
    {
     "data": {
      "text/html": [
       "<div>\n",
       "<style scoped>\n",
       "    .dataframe tbody tr th:only-of-type {\n",
       "        vertical-align: middle;\n",
       "    }\n",
       "\n",
       "    .dataframe tbody tr th {\n",
       "        vertical-align: top;\n",
       "    }\n",
       "\n",
       "    .dataframe thead th {\n",
       "        text-align: right;\n",
       "    }\n",
       "</style>\n",
       "<table border=\"1\" class=\"dataframe\">\n",
       "  <thead>\n",
       "    <tr style=\"text-align: right;\">\n",
       "      <th></th>\n",
       "      <th>Center</th>\n",
       "      <th>Tumor_ID</th>\n",
       "      <th>Gender</th>\n",
       "      <th>Birth_date</th>\n",
       "      <th>Age_at_intervention</th>\n",
       "      <th>Undetermined</th>\n",
       "      <th>Alcohol</th>\n",
       "      <th>HCV</th>\n",
       "      <th>HBV</th>\n",
       "      <th>NASH</th>\n",
       "      <th>...</th>\n",
       "      <th>Preop_AFP</th>\n",
       "      <th>Satellite nodules</th>\n",
       "      <th>Surgical margins</th>\n",
       "      <th>Macrovascular invasion</th>\n",
       "      <th>Microvascular invasion</th>\n",
       "      <th>WHO_differentiation</th>\n",
       "      <th>Score metavir fibrose</th>\n",
       "      <th>Cirrhosis</th>\n",
       "      <th>Hemochromatosis</th>\n",
       "      <th>Other</th>\n",
       "    </tr>\n",
       "  </thead>\n",
       "  <tbody>\n",
       "    <tr>\n",
       "      <th>0</th>\n",
       "      <td>Henri Mondor</td>\n",
       "      <td>HMNT2247</td>\n",
       "      <td>M</td>\n",
       "      <td>1954-05-05</td>\n",
       "      <td>64.0</td>\n",
       "      <td>0.0</td>\n",
       "      <td>1.0</td>\n",
       "      <td>0.0</td>\n",
       "      <td>1.0</td>\n",
       "      <td>1.0</td>\n",
       "      <td>...</td>\n",
       "      <td>3088.0</td>\n",
       "      <td>0.0</td>\n",
       "      <td>R0</td>\n",
       "      <td>1</td>\n",
       "      <td>1</td>\n",
       "      <td>Poorly_differentiated</td>\n",
       "      <td>3.0</td>\n",
       "      <td>0.0</td>\n",
       "      <td>NaN</td>\n",
       "      <td>NaN</td>\n",
       "    </tr>\n",
       "    <tr>\n",
       "      <th>1</th>\n",
       "      <td>Henri Mondor</td>\n",
       "      <td>HMNT2246</td>\n",
       "      <td>F</td>\n",
       "      <td>1922-03-12</td>\n",
       "      <td>76.0</td>\n",
       "      <td>NaN</td>\n",
       "      <td>NaN</td>\n",
       "      <td>NaN</td>\n",
       "      <td>NaN</td>\n",
       "      <td>NaN</td>\n",
       "      <td>...</td>\n",
       "      <td>8.0</td>\n",
       "      <td>0.0</td>\n",
       "      <td>R0</td>\n",
       "      <td>0</td>\n",
       "      <td>0</td>\n",
       "      <td>Poorly_differentiated</td>\n",
       "      <td>0.0</td>\n",
       "      <td>0.0</td>\n",
       "      <td>NaN</td>\n",
       "      <td>NaN</td>\n",
       "    </tr>\n",
       "    <tr>\n",
       "      <th>2</th>\n",
       "      <td>Henri Mondor</td>\n",
       "      <td>HMNT2066</td>\n",
       "      <td>M</td>\n",
       "      <td>1953-07-23</td>\n",
       "      <td>65.0</td>\n",
       "      <td>0.0</td>\n",
       "      <td>1.0</td>\n",
       "      <td>0.0</td>\n",
       "      <td>0.0</td>\n",
       "      <td>0.0</td>\n",
       "      <td>...</td>\n",
       "      <td>NaN</td>\n",
       "      <td>1.0</td>\n",
       "      <td>R0</td>\n",
       "      <td>0</td>\n",
       "      <td>0</td>\n",
       "      <td>Moderately_differentiated</td>\n",
       "      <td>3.0</td>\n",
       "      <td>0.0</td>\n",
       "      <td>NaN</td>\n",
       "      <td>NaN</td>\n",
       "    </tr>\n",
       "  </tbody>\n",
       "</table>\n",
       "<p>3 rows × 24 columns</p>\n",
       "</div>"
      ],
      "text/plain": [
       "         Center  Tumor_ID Gender Birth_date  Age_at_intervention  \\\n",
       "0  Henri Mondor  HMNT2247      M 1954-05-05                 64.0   \n",
       "1  Henri Mondor  HMNT2246      F 1922-03-12                 76.0   \n",
       "2  Henri Mondor  HMNT2066      M 1953-07-23                 65.0   \n",
       "\n",
       "   Undetermined  Alcohol  HCV  HBV  NASH  ... Preop_AFP  Satellite nodules  \\\n",
       "0           0.0      1.0  0.0  1.0   1.0  ...    3088.0                0.0   \n",
       "1           NaN      NaN  NaN  NaN   NaN  ...       8.0                0.0   \n",
       "2           0.0      1.0  0.0  0.0   0.0  ...       NaN                1.0   \n",
       "\n",
       "   Surgical margins Macrovascular invasion  Microvascular invasion  \\\n",
       "0                R0                      1                       1   \n",
       "1                R0                      0                       0   \n",
       "2                R0                      0                       0   \n",
       "\n",
       "         WHO_differentiation Score metavir fibrose  Cirrhosis  \\\n",
       "0      Poorly_differentiated                   3.0        0.0   \n",
       "1      Poorly_differentiated                   0.0        0.0   \n",
       "2  Moderately_differentiated                   3.0        0.0   \n",
       "\n",
       "   Hemochromatosis Other  \n",
       "0              NaN   NaN  \n",
       "1              NaN   NaN  \n",
       "2              NaN   NaN  \n",
       "\n",
       "[3 rows x 24 columns]"
      ]
     },
     "metadata": {},
     "output_type": "display_data"
    }
   ],
   "source": [
    "# calculate column 'Age_at_intervention' by columns 'Intervention_date' and 'Birth_date'\n",
    "for i in range(len(df_res)):\n",
    "    # there is two rows have data in column 'Age_at_intervention' but no data in column 'Birth_date'\n",
    "    if math.isnan(df_res.loc[i, \"Age_at_intervention\"]):\n",
    "        df_res.loc[i, \"Age_at_intervention\"] = relativedelta(df.loc[i,\"Intervention_date\"], df.loc[i,\"Birth_date\"]).years\n",
    "print(df_res.shape) # (172, 24)\n",
    "display(df_res.head(3))"
   ]
  },
  {
   "cell_type": "code",
   "execution_count": 21,
   "metadata": {},
   "outputs": [
    {
     "name": "stdout",
     "output_type": "stream",
     "text": [
      "(139, 3)\n"
     ]
    },
    {
     "data": {
      "text/html": [
       "<div>\n",
       "<style scoped>\n",
       "    .dataframe tbody tr th:only-of-type {\n",
       "        vertical-align: middle;\n",
       "    }\n",
       "\n",
       "    .dataframe tbody tr th {\n",
       "        vertical-align: top;\n",
       "    }\n",
       "\n",
       "    .dataframe thead th {\n",
       "        text-align: right;\n",
       "    }\n",
       "</style>\n",
       "<table border=\"1\" class=\"dataframe\">\n",
       "  <thead>\n",
       "    <tr style=\"text-align: right;\">\n",
       "      <th></th>\n",
       "      <th>case_id</th>\n",
       "      <th>slide_id</th>\n",
       "      <th>cluster</th>\n",
       "    </tr>\n",
       "  </thead>\n",
       "  <tbody>\n",
       "    <tr>\n",
       "      <th>1</th>\n",
       "      <td>EX128-ARN213</td>\n",
       "      <td>HMNT1641_bis - 2017-06-18 23.02.49</td>\n",
       "      <td>Cluster High</td>\n",
       "    </tr>\n",
       "    <tr>\n",
       "      <th>3</th>\n",
       "      <td>EX128-ARN236</td>\n",
       "      <td>HMNT0280_bis - 2017-06-16 01.55.56</td>\n",
       "      <td>Cluster High</td>\n",
       "    </tr>\n",
       "    <tr>\n",
       "      <th>4</th>\n",
       "      <td>EX128-ARN190</td>\n",
       "      <td>HMNT2066_P734242_01_HES - 2018-11-01 16.13.44</td>\n",
       "      <td>Cluster High</td>\n",
       "    </tr>\n",
       "  </tbody>\n",
       "</table>\n",
       "</div>"
      ],
      "text/plain": [
       "        case_id                                       slide_id       cluster\n",
       "1  EX128-ARN213             HMNT1641_bis - 2017-06-18 23.02.49  Cluster High\n",
       "3  EX128-ARN236             HMNT0280_bis - 2017-06-16 01.55.56  Cluster High\n",
       "4  EX128-ARN190  HMNT2066_P734242_01_HES - 2018-11-01 16.13.44  Cluster High"
      ]
     },
     "metadata": {},
     "output_type": "display_data"
    }
   ],
   "source": [
    "# load ref which include 139 used mondor cases\n",
    "df_ref = pd.read_csv(fref, index_col=0)\n",
    "print(df_ref.shape)\n",
    "display(df_ref.head(3))"
   ]
  },
  {
   "cell_type": "code",
   "execution_count": 22,
   "metadata": {},
   "outputs": [
    {
     "name": "stdout",
     "output_type": "stream",
     "text": [
      "139\n",
      "['HMNT1641', 'HMNT0280', 'HMNT2066', 'HMNT0439']\n"
     ]
    }
   ],
   "source": [
    "# extract mondor case list ('HMNTXXXX')\n",
    "list_tumor = [sid[:8] for sid in df_ref['slide_id']]\n",
    "print(len(list_tumor))\n",
    "print(list_tumor[:4])"
   ]
  },
  {
   "cell_type": "code",
   "execution_count": 107,
   "metadata": {},
   "outputs": [
    {
     "name": "stdout",
     "output_type": "stream",
     "text": [
      "(139, 24)\n"
     ]
    },
    {
     "data": {
      "text/html": [
       "<div>\n",
       "<style scoped>\n",
       "    .dataframe tbody tr th:only-of-type {\n",
       "        vertical-align: middle;\n",
       "    }\n",
       "\n",
       "    .dataframe tbody tr th {\n",
       "        vertical-align: top;\n",
       "    }\n",
       "\n",
       "    .dataframe thead th {\n",
       "        text-align: right;\n",
       "    }\n",
       "</style>\n",
       "<table border=\"1\" class=\"dataframe\">\n",
       "  <thead>\n",
       "    <tr style=\"text-align: right;\">\n",
       "      <th></th>\n",
       "      <th>Center</th>\n",
       "      <th>Tumor_ID</th>\n",
       "      <th>Gender</th>\n",
       "      <th>Birth_date</th>\n",
       "      <th>Age_at_intervention</th>\n",
       "      <th>Undetermined</th>\n",
       "      <th>Alcohol</th>\n",
       "      <th>HCV</th>\n",
       "      <th>HBV</th>\n",
       "      <th>NASH</th>\n",
       "      <th>...</th>\n",
       "      <th>Preop_AFP</th>\n",
       "      <th>Satellite nodules</th>\n",
       "      <th>Surgical margins</th>\n",
       "      <th>Macrovascular invasion</th>\n",
       "      <th>Microvascular invasion</th>\n",
       "      <th>WHO_differentiation</th>\n",
       "      <th>Score metavir fibrose</th>\n",
       "      <th>Cirrhosis</th>\n",
       "      <th>Hemochromatosis</th>\n",
       "      <th>Other</th>\n",
       "    </tr>\n",
       "  </thead>\n",
       "  <tbody>\n",
       "    <tr>\n",
       "      <th>0</th>\n",
       "      <td>Henri Mondor</td>\n",
       "      <td>HMNT2066</td>\n",
       "      <td>M</td>\n",
       "      <td>1953-07-23</td>\n",
       "      <td>65.0</td>\n",
       "      <td>0.0</td>\n",
       "      <td>1.0</td>\n",
       "      <td>0.0</td>\n",
       "      <td>0.0</td>\n",
       "      <td>0.0</td>\n",
       "      <td>...</td>\n",
       "      <td>NaN</td>\n",
       "      <td>1.0</td>\n",
       "      <td>R0</td>\n",
       "      <td>0</td>\n",
       "      <td>0</td>\n",
       "      <td>Moderately_differentiated</td>\n",
       "      <td>3.0</td>\n",
       "      <td>0.0</td>\n",
       "      <td>NaN</td>\n",
       "      <td>NaN</td>\n",
       "    </tr>\n",
       "    <tr>\n",
       "      <th>1</th>\n",
       "      <td>Henri Mondor</td>\n",
       "      <td>HMNT1729</td>\n",
       "      <td>M</td>\n",
       "      <td>1950-03-14</td>\n",
       "      <td>65.0</td>\n",
       "      <td>0.0</td>\n",
       "      <td>0.0</td>\n",
       "      <td>0.0</td>\n",
       "      <td>0.0</td>\n",
       "      <td>1.0</td>\n",
       "      <td>...</td>\n",
       "      <td>3.0</td>\n",
       "      <td>0.0</td>\n",
       "      <td>R0</td>\n",
       "      <td>0</td>\n",
       "      <td>0</td>\n",
       "      <td>Moderately_differentiated</td>\n",
       "      <td>4.0</td>\n",
       "      <td>1.0</td>\n",
       "      <td>NaN</td>\n",
       "      <td>NaN</td>\n",
       "    </tr>\n",
       "    <tr>\n",
       "      <th>2</th>\n",
       "      <td>Henri Mondor</td>\n",
       "      <td>HMNT0516</td>\n",
       "      <td>M</td>\n",
       "      <td>1943-11-13</td>\n",
       "      <td>68.0</td>\n",
       "      <td>0.0</td>\n",
       "      <td>0.0</td>\n",
       "      <td>0.0</td>\n",
       "      <td>0.0</td>\n",
       "      <td>1.0</td>\n",
       "      <td>...</td>\n",
       "      <td>2.0</td>\n",
       "      <td>0.0</td>\n",
       "      <td>R0</td>\n",
       "      <td>0</td>\n",
       "      <td>1</td>\n",
       "      <td>Moderately_differentiated</td>\n",
       "      <td>1.0</td>\n",
       "      <td>0.0</td>\n",
       "      <td>NaN</td>\n",
       "      <td>NaN</td>\n",
       "    </tr>\n",
       "  </tbody>\n",
       "</table>\n",
       "<p>3 rows × 24 columns</p>\n",
       "</div>"
      ],
      "text/plain": [
       "         Center  Tumor_ID Gender  Birth_date  Age_at_intervention  \\\n",
       "0  Henri Mondor  HMNT2066      M  1953-07-23                 65.0   \n",
       "1  Henri Mondor  HMNT1729      M  1950-03-14                 65.0   \n",
       "2  Henri Mondor  HMNT0516      M  1943-11-13                 68.0   \n",
       "\n",
       "   Undetermined  Alcohol  HCV  HBV  NASH  ... Preop_AFP  Satellite nodules  \\\n",
       "0           0.0      1.0  0.0  0.0   0.0  ...       NaN                1.0   \n",
       "1           0.0      0.0  0.0  0.0   1.0  ...       3.0                0.0   \n",
       "2           0.0      0.0  0.0  0.0   1.0  ...       2.0                0.0   \n",
       "\n",
       "   Surgical margins Macrovascular invasion  Microvascular invasion  \\\n",
       "0                R0                      0                       0   \n",
       "1                R0                      0                       0   \n",
       "2                R0                      0                       1   \n",
       "\n",
       "         WHO_differentiation Score metavir fibrose  Cirrhosis  \\\n",
       "0  Moderately_differentiated                   3.0        0.0   \n",
       "1  Moderately_differentiated                   4.0        1.0   \n",
       "2  Moderately_differentiated                   1.0        0.0   \n",
       "\n",
       "   Hemochromatosis Other  \n",
       "0              NaN   NaN  \n",
       "1              NaN   NaN  \n",
       "2              NaN   NaN  \n",
       "\n",
       "[3 rows x 24 columns]"
      ]
     },
     "metadata": {},
     "output_type": "display_data"
    }
   ],
   "source": [
    "# filter df by used mondor case list\n",
    "assert len(set(list_tumor) - set(df_res['Tumor_ID'].values))==0 # make sure no used cases missing in df_res\n",
    "df_res = df_res[df_res['Tumor_ID'].isin(list_tumor)].reset_index(drop=True)\n",
    "print(df_res.shape) # (139, 24)\n",
    "display(df_res.head(3))"
   ]
  },
  {
   "cell_type": "code",
   "execution_count": 28,
   "metadata": {},
   "outputs": [
    {
     "data": {
      "text/plain": [
       "datetime.date(1953, 7, 23)"
      ]
     },
     "execution_count": 28,
     "metadata": {},
     "output_type": "execute_result"
    }
   ],
   "source": [
    "df_res['Birth_date'][0]"
   ]
  },
  {
   "cell_type": "code",
   "execution_count": 27,
   "metadata": {},
   "outputs": [
    {
     "name": "stdout",
     "output_type": "stream",
     "text": [
      "(139, 24)\n"
     ]
    },
    {
     "data": {
      "text/html": [
       "<div>\n",
       "<style scoped>\n",
       "    .dataframe tbody tr th:only-of-type {\n",
       "        vertical-align: middle;\n",
       "    }\n",
       "\n",
       "    .dataframe tbody tr th {\n",
       "        vertical-align: top;\n",
       "    }\n",
       "\n",
       "    .dataframe thead th {\n",
       "        text-align: right;\n",
       "    }\n",
       "</style>\n",
       "<table border=\"1\" class=\"dataframe\">\n",
       "  <thead>\n",
       "    <tr style=\"text-align: right;\">\n",
       "      <th></th>\n",
       "      <th>Center</th>\n",
       "      <th>Tumor_ID</th>\n",
       "      <th>Gender</th>\n",
       "      <th>Birth_date</th>\n",
       "      <th>Age_at_intervention</th>\n",
       "      <th>Undetermined</th>\n",
       "      <th>Alcohol</th>\n",
       "      <th>HCV</th>\n",
       "      <th>HBV</th>\n",
       "      <th>NASH</th>\n",
       "      <th>...</th>\n",
       "      <th>Preop_AFP</th>\n",
       "      <th>Satellite nodules</th>\n",
       "      <th>Surgical margins</th>\n",
       "      <th>Macrovascular invasion</th>\n",
       "      <th>Microvascular invasion</th>\n",
       "      <th>WHO_differentiation</th>\n",
       "      <th>Score metavir fibrose</th>\n",
       "      <th>Cirrhosis</th>\n",
       "      <th>Hemochromatosis</th>\n",
       "      <th>Other</th>\n",
       "    </tr>\n",
       "  </thead>\n",
       "  <tbody>\n",
       "    <tr>\n",
       "      <th>0</th>\n",
       "      <td>Henri Mondor</td>\n",
       "      <td>HMNT2066</td>\n",
       "      <td>M</td>\n",
       "      <td>1953-07-23</td>\n",
       "      <td>65.0</td>\n",
       "      <td>0.0</td>\n",
       "      <td>1.0</td>\n",
       "      <td>0.0</td>\n",
       "      <td>0.0</td>\n",
       "      <td>0.0</td>\n",
       "      <td>...</td>\n",
       "      <td>NaN</td>\n",
       "      <td>1.0</td>\n",
       "      <td>R0</td>\n",
       "      <td>0</td>\n",
       "      <td>0</td>\n",
       "      <td>Moderately_differentiated</td>\n",
       "      <td>3.0</td>\n",
       "      <td>0.0</td>\n",
       "      <td>NaN</td>\n",
       "      <td>NaN</td>\n",
       "    </tr>\n",
       "    <tr>\n",
       "      <th>1</th>\n",
       "      <td>Henri Mondor</td>\n",
       "      <td>HMNT1729</td>\n",
       "      <td>M</td>\n",
       "      <td>1950-03-14</td>\n",
       "      <td>65.0</td>\n",
       "      <td>0.0</td>\n",
       "      <td>0.0</td>\n",
       "      <td>0.0</td>\n",
       "      <td>0.0</td>\n",
       "      <td>1.0</td>\n",
       "      <td>...</td>\n",
       "      <td>3.0</td>\n",
       "      <td>0.0</td>\n",
       "      <td>R0</td>\n",
       "      <td>0</td>\n",
       "      <td>0</td>\n",
       "      <td>Moderately_differentiated</td>\n",
       "      <td>4.0</td>\n",
       "      <td>1.0</td>\n",
       "      <td>NaN</td>\n",
       "      <td>NaN</td>\n",
       "    </tr>\n",
       "    <tr>\n",
       "      <th>2</th>\n",
       "      <td>Henri Mondor</td>\n",
       "      <td>HMNT0516</td>\n",
       "      <td>M</td>\n",
       "      <td>1943-11-13</td>\n",
       "      <td>68.0</td>\n",
       "      <td>0.0</td>\n",
       "      <td>0.0</td>\n",
       "      <td>0.0</td>\n",
       "      <td>0.0</td>\n",
       "      <td>1.0</td>\n",
       "      <td>...</td>\n",
       "      <td>2.0</td>\n",
       "      <td>0.0</td>\n",
       "      <td>R0</td>\n",
       "      <td>0</td>\n",
       "      <td>1</td>\n",
       "      <td>Moderately_differentiated</td>\n",
       "      <td>1.0</td>\n",
       "      <td>0.0</td>\n",
       "      <td>NaN</td>\n",
       "      <td>NaN</td>\n",
       "    </tr>\n",
       "  </tbody>\n",
       "</table>\n",
       "<p>3 rows × 24 columns</p>\n",
       "</div>"
      ],
      "text/plain": [
       "         Center  Tumor_ID Gender  Birth_date  Age_at_intervention  \\\n",
       "0  Henri Mondor  HMNT2066      M  1953-07-23                 65.0   \n",
       "1  Henri Mondor  HMNT1729      M  1950-03-14                 65.0   \n",
       "2  Henri Mondor  HMNT0516      M  1943-11-13                 68.0   \n",
       "\n",
       "   Undetermined  Alcohol  HCV  HBV  NASH  ... Preop_AFP  Satellite nodules  \\\n",
       "0           0.0      1.0  0.0  0.0   0.0  ...       NaN                1.0   \n",
       "1           0.0      0.0  0.0  0.0   1.0  ...       3.0                0.0   \n",
       "2           0.0      0.0  0.0  0.0   1.0  ...       2.0                0.0   \n",
       "\n",
       "   Surgical margins Macrovascular invasion  Microvascular invasion  \\\n",
       "0                R0                      0                       0   \n",
       "1                R0                      0                       0   \n",
       "2                R0                      0                       1   \n",
       "\n",
       "         WHO_differentiation Score metavir fibrose  Cirrhosis  \\\n",
       "0  Moderately_differentiated                   3.0        0.0   \n",
       "1  Moderately_differentiated                   4.0        1.0   \n",
       "2  Moderately_differentiated                   1.0        0.0   \n",
       "\n",
       "   Hemochromatosis Other  \n",
       "0              NaN   NaN  \n",
       "1              NaN   NaN  \n",
       "2              NaN   NaN  \n",
       "\n",
       "[3 rows x 24 columns]"
      ]
     },
     "metadata": {},
     "output_type": "display_data"
    }
   ],
   "source": [
    "# convert conlumns 'Birth_date' and 'Intervention_date': from type Timestamp (including time) to datetime.date (only date)\n",
    "df_res['Birth_date'] = df_res['Birth_date'].dt.date\n",
    "df_res['Intervention_date'] = df_res['Intervention_date'].dt.date\n",
    "print(df_res.shape) # (139, 24)\n",
    "display(df_res.head(3))"
   ]
  },
  {
   "cell_type": "code",
   "execution_count": 31,
   "metadata": {},
   "outputs": [],
   "source": [
    "df_res.to_excel(os.path.join(path, 'processed', 'Data Mondor Series.xlsx'))"
   ]
  },
  {
   "cell_type": "markdown",
   "metadata": {},
   "source": [
    "## Variable analysis"
   ]
  },
  {
   "cell_type": "code",
   "execution_count": 33,
   "metadata": {},
   "outputs": [
    {
     "data": {
      "text/plain": [
       "Center                      139\n",
       "Tumor_ID                    139\n",
       "Gender                      139\n",
       "Birth_date                  139\n",
       "Age_at_intervention         139\n",
       "Undetermined                138\n",
       "Alcohol                     138\n",
       "HCV                         138\n",
       "HBV                         138\n",
       "NASH                        138\n",
       "Intervention_date           139\n",
       "Largest nodule diameter     139\n",
       "Multinodularity             139\n",
       "BCLC_before_intervention    139\n",
       "Preop_AFP                   128\n",
       "Satellite nodules           138\n",
       "Surgical margins            139\n",
       "Macrovascular invasion      139\n",
       "Microvascular invasion      139\n",
       "WHO_differentiation         139\n",
       "Score metavir fibrose       118\n",
       "Cirrhosis                    97\n",
       "Hemochromatosis              15\n",
       "Other                        15\n",
       "dtype: int64"
      ]
     },
     "execution_count": 33,
     "metadata": {},
     "output_type": "execute_result"
    }
   ],
   "source": [
    "# available data\n",
    "len(df_res) - df_res.isna().sum()"
   ]
  },
  {
   "cell_type": "code",
   "execution_count": 36,
   "metadata": {},
   "outputs": [
    {
     "data": {
      "text/plain": [
       "Center                      100.00\n",
       "Tumor_ID                    100.00\n",
       "Gender                      100.00\n",
       "Birth_date                  100.00\n",
       "Age_at_intervention         100.00\n",
       "Undetermined                 99.28\n",
       "Alcohol                      99.28\n",
       "HCV                          99.28\n",
       "HBV                          99.28\n",
       "NASH                         99.28\n",
       "Intervention_date           100.00\n",
       "Largest nodule diameter     100.00\n",
       "Multinodularity             100.00\n",
       "BCLC_before_intervention    100.00\n",
       "Preop_AFP                    92.09\n",
       "Satellite nodules            99.28\n",
       "Surgical margins            100.00\n",
       "Macrovascular invasion      100.00\n",
       "Microvascular invasion      100.00\n",
       "WHO_differentiation         100.00\n",
       "Score metavir fibrose        84.89\n",
       "Cirrhosis                    69.78\n",
       "Hemochromatosis              10.79\n",
       "Other                        10.79\n",
       "dtype: float64"
      ]
     },
     "execution_count": 36,
     "metadata": {},
     "output_type": "execute_result"
    }
   ],
   "source": [
    "# available data (percentage corrected to 2 decimal places)\n",
    "round((len(df_res) - df_res.isna().sum()) / len(df_res) * 100, 2)"
   ]
  },
  {
   "cell_type": "code",
   "execution_count": 100,
   "metadata": {},
   "outputs": [
    {
     "data": {
      "text/plain": [
       "Center                       object\n",
       "Tumor_ID                     object\n",
       "Gender                       object\n",
       "Birth_date                   object\n",
       "Age_at_intervention         float64\n",
       "Undetermined                float64\n",
       "Alcohol                     float64\n",
       "HCV                         float64\n",
       "HBV                         float64\n",
       "NASH                        float64\n",
       "Intervention_date            object\n",
       "Largest nodule diameter       int64\n",
       "Multinodularity               int64\n",
       "BCLC_before_intervention     object\n",
       "Preop_AFP                   float64\n",
       "Satellite nodules           float64\n",
       "Surgical margins             object\n",
       "Macrovascular invasion        int64\n",
       "Microvascular invasion        int64\n",
       "WHO_differentiation          object\n",
       "Score metavir fibrose       float64\n",
       "Cirrhosis                   float64\n",
       "Hemochromatosis             float64\n",
       "Other                       float64\n",
       "dtype: object"
      ]
     },
     "execution_count": 100,
     "metadata": {},
     "output_type": "execute_result"
    }
   ],
   "source": [
    "# dtypes\n",
    "df_res.dtypes"
   ]
  },
  {
   "cell_type": "code",
   "execution_count": 71,
   "metadata": {},
   "outputs": [
    {
     "name": "stdout",
     "output_type": "stream",
     "text": [
      "Gender\n",
      "Male: 117 (84.17%)\n",
      "Female: 22 (15.83%)\n"
     ]
    }
   ],
   "source": [
    "# Gender\n",
    "print('Gender')\n",
    "n_male = len(df_res[df_res['Gender']=='M'])\n",
    "n_female = len(df_res[df_res['Gender']=='F'])\n",
    "print('Male: {} ({}%)'.format(n_male, round(n_male / len(df_res) * 100, 2)))\n",
    "print('Female: {} ({}%)'.format(n_female, round(n_female / len(df_res) * 100, 2)))"
   ]
  },
  {
   "cell_type": "code",
   "execution_count": 69,
   "metadata": {},
   "outputs": [
    {
     "name": "stdout",
     "output_type": "stream",
     "text": [
      "Age\n",
      "Median: 62.0\n",
      "Min: 28.0\n",
      "Max: 85.0\n"
     ]
    }
   ],
   "source": [
    "# Age\n",
    "print('Age')\n",
    "print('Median: {}'.format(df_res['Age_at_intervention'].median()))\n",
    "print('Min: {}'.format(df_res['Age_at_intervention'].min()))\n",
    "print('Max: {}'.format(df_res['Age_at_intervention'].max()))"
   ]
  },
  {
   "cell_type": "code",
   "execution_count": 53,
   "metadata": {},
   "outputs": [
    {
     "name": "stdout",
     "output_type": "stream",
     "text": [
      "Alcohol: 43 (30.94%)\n"
     ]
    }
   ],
   "source": [
    "# Alcohol\n",
    "n_alcohol = len(df_res[df_res['Alcohol']==1])\n",
    "print('Alcohol: {} ({}%)'.format(n_alcohol, round(n_alcohol/len(df_res)*100, 2)))"
   ]
  },
  {
   "cell_type": "code",
   "execution_count": 55,
   "metadata": {},
   "outputs": [
    {
     "name": "stdout",
     "output_type": "stream",
     "text": [
      "HBV: 34 (24.46%)\n"
     ]
    }
   ],
   "source": [
    "# HBV\n",
    "n_hbv = len(df_res[df_res['HBV']==1])\n",
    "print('HBV: {} ({}%)'.format(n_hbv, round(n_hbv/len(df_res)*100, 2)))"
   ]
  },
  {
   "cell_type": "code",
   "execution_count": 56,
   "metadata": {},
   "outputs": [
    {
     "name": "stdout",
     "output_type": "stream",
     "text": [
      "HCV: 33 (23.74%)\n"
     ]
    }
   ],
   "source": [
    "# HCV\n",
    "n_hcv = len(df_res[df_res['HCV']==1])\n",
    "print('HCV: {} ({}%)'.format(n_hcv, round(n_hcv/len(df_res)*100, 2)))"
   ]
  },
  {
   "cell_type": "code",
   "execution_count": 57,
   "metadata": {},
   "outputs": [
    {
     "name": "stdout",
     "output_type": "stream",
     "text": [
      "NASH: 32 (23.02%)\n"
     ]
    }
   ],
   "source": [
    "# NASH\n",
    "n_nash = len(df_res[df_res['NASH']==1])\n",
    "print('NASH: {} ({}%)'.format(n_nash, round(n_nash/len(df_res)*100, 2)))"
   ]
  },
  {
   "cell_type": "code",
   "execution_count": 60,
   "metadata": {},
   "outputs": [
    {
     "name": "stdout",
     "output_type": "stream",
     "text": [
      "Undetermined: 17 (12.23%)\n"
     ]
    }
   ],
   "source": [
    "# Undetermined\n",
    "n_undetermined = len(df_res[df_res['Undetermined']==1])\n",
    "print('Undetermined: {} ({}%)'.format(n_undetermined, round(n_undetermined/len(df_res)*100, 2)))"
   ]
  },
  {
   "cell_type": "code",
   "execution_count": 66,
   "metadata": {},
   "outputs": [
    {
     "name": "stdout",
     "output_type": "stream",
     "text": [
      "BCLC_before_intervention: {0, 'B', 'C', 'A'}\n",
      "0: 9 (6.47%)\n",
      "A: 100 (71.94%)\n",
      "B: 6 (4.32%)\n",
      "C: 24 (17.27%)\n"
     ]
    }
   ],
   "source": [
    "# BCLC_before_intervention\n",
    "print('BCLC_before_intervention: {}'.format(set(df_res['BCLC_before_intervention'])))\n",
    "n_bclc_0 = len(df_res[df_res['BCLC_before_intervention']==0])\n",
    "print('0: {} ({}%)'.format(n_bclc_0, round(n_bclc_0/len(df_res)*100, 2)))\n",
    "n_bclc_a = len(df_res[df_res['BCLC_before_intervention']=='A'])\n",
    "print('A: {} ({}%)'.format(n_bclc_a, round(n_bclc_a/len(df_res)*100, 2)))\n",
    "n_bclc_b = len(df_res[df_res['BCLC_before_intervention']=='B'])\n",
    "print('B: {} ({}%)'.format(n_bclc_b, round(n_bclc_b/len(df_res)*100, 2)))\n",
    "n_bclc_c = len(df_res[df_res['BCLC_before_intervention']=='C'])\n",
    "print('C: {} ({}%)'.format(n_bclc_c, round(n_bclc_c/len(df_res)*100, 2)))"
   ]
  },
  {
   "cell_type": "code",
   "execution_count": 94,
   "metadata": {},
   "outputs": [
    {
     "name": "stdout",
     "output_type": "stream",
     "text": [
      "Preop_AFP\n",
      "Median: 9.75\n",
      "Min: 1.0\n",
      "Max: 304500.0\n"
     ]
    }
   ],
   "source": [
    "# Preop_AFP\n",
    "print('Preop_AFP')\n",
    "print('Median: {}'.format(df_res['Preop_AFP'].median()))\n",
    "print('Min: {}'.format(df_res['Preop_AFP'].min()))\n",
    "print('Max: {}'.format(df_res['Preop_AFP'].max()))"
   ]
  },
  {
   "cell_type": "code",
   "execution_count": 99,
   "metadata": {},
   "outputs": [
    {
     "name": "stdout",
     "output_type": "stream",
     "text": [
      "Largest nodule diameter\n",
      "Median: 45.0\n",
      "Min: 11\n",
      "Max: 250\n"
     ]
    }
   ],
   "source": [
    "# Largest nodule diameter\n",
    "print('Largest nodule diameter')\n",
    "print('Median: {}'.format(df_res['Largest nodule diameter'].median()))\n",
    "print('Min: {}'.format(df_res['Largest nodule diameter'].min()))\n",
    "print('Max: {}'.format(df_res['Largest nodule diameter'].max()))"
   ]
  },
  {
   "cell_type": "code",
   "execution_count": 101,
   "metadata": {},
   "outputs": [
    {
     "name": "stdout",
     "output_type": "stream",
     "text": [
      "Satellite nodules: 50 (35.97%)\n"
     ]
    }
   ],
   "source": [
    "# Satellite nodules\n",
    "n_satellite = len(df_res[df_res['Satellite nodules']==1])\n",
    "print('Satellite nodules: {} ({}%)'.format(n_satellite, round(n_satellite/len(df_res)*100, 2)))"
   ]
  },
  {
   "cell_type": "code",
   "execution_count": 102,
   "metadata": {},
   "outputs": [
    {
     "name": "stdout",
     "output_type": "stream",
     "text": [
      "Macrovascular invasion: 24 (17.27%)\n"
     ]
    }
   ],
   "source": [
    "# Macrovascular invasion\n",
    "n_macrovascular = len(df_res[df_res['Macrovascular invasion']==1])\n",
    "print('Macrovascular invasion: {} ({}%)'.format(n_macrovascular, round(n_macrovascular/len(df_res)*100, 2)))"
   ]
  },
  {
   "cell_type": "code",
   "execution_count": 103,
   "metadata": {},
   "outputs": [
    {
     "name": "stdout",
     "output_type": "stream",
     "text": [
      "Microvascular invasion: 60 (43.17%)\n"
     ]
    }
   ],
   "source": [
    "# Microvascular invasion\n",
    "n_microvascular = len(df_res[df_res['Microvascular invasion']==1])\n",
    "print('Microvascular invasion: {} ({}%)'.format(n_microvascular, round(n_microvascular/len(df_res)*100, 2)))"
   ]
  },
  {
   "cell_type": "code",
   "execution_count": 105,
   "metadata": {},
   "outputs": [
    {
     "name": "stdout",
     "output_type": "stream",
     "text": [
      "WHO_differentiation\n",
      "Poorly_differentiated: 26 (18.71%)\n"
     ]
    }
   ],
   "source": [
    "# WHO_differentiation\n",
    "print('WHO_differentiation')\n",
    "n_differentiation = len(df_res[df_res['WHO_differentiation']=='Poorly_differentiated'])\n",
    "print('Poorly_differentiated: {} ({}%)'.format(n_differentiation, round(n_differentiation/len(df_res)*100, 2)))"
   ]
  },
  {
   "cell_type": "code",
   "execution_count": 106,
   "metadata": {},
   "outputs": [
    {
     "name": "stdout",
     "output_type": "stream",
     "text": [
      "Cirrhosis: 34 (24.46%)\n"
     ]
    }
   ],
   "source": [
    "# Cirrhosis\n",
    "n_cirrhosis = len(df_res[df_res['Cirrhosis']==1])\n",
    "print('Cirrhosis: {} ({}%)'.format(n_cirrhosis, round(n_cirrhosis/len(df_res)*100, 2)))"
   ]
  },
  {
   "cell_type": "code",
   "execution_count": null,
   "metadata": {},
   "outputs": [],
   "source": []
  }
 ],
 "metadata": {
  "kernelspec": {
   "display_name": "Python 3",
   "language": "python",
   "name": "python3"
  },
  "language_info": {
   "codemirror_mode": {
    "name": "ipython",
    "version": 3
   },
   "file_extension": ".py",
   "mimetype": "text/x-python",
   "name": "python",
   "nbconvert_exporter": "python",
   "pygments_lexer": "ipython3",
   "version": "3.8.5"
  }
 },
 "nbformat": 4,
 "nbformat_minor": 4
}
