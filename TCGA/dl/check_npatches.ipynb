{
 "cells": [
  {
   "cell_type": "markdown",
   "metadata": {},
   "source": [
    "## Extract the amount of patches in each slide"
   ]
  },
  {
   "cell_type": "code",
   "execution_count": 1,
   "metadata": {},
   "outputs": [],
   "source": [
    "import os\n",
    "import pandas as pd\n",
    "import h5py\n",
    "from tqdm.notebook import tqdm"
   ]
  },
  {
   "cell_type": "code",
   "execution_count": 76,
   "metadata": {},
   "outputs": [],
   "source": [
    "root_dir = \"/media/visiopharm5/WDGold/deeplearning/MIL/CLAM/results\"\n",
    "with_anno = False\n",
    "series = 'tcga' # tcga, mondor"
   ]
  },
  {
   "cell_type": "code",
   "execution_count": 77,
   "metadata": {},
   "outputs": [],
   "source": [
    "if series == 'tcga':\n",
    "    if with_anno:\n",
    "        path_patch = os.path.join(root_dir, \"patches_tumor\")\n",
    "        output = \"npatches_tumor.csv\"\n",
    "        output1 = \"npatches_tumor_349.csv\"\n",
    "    else:\n",
    "        path_patch = os.path.join(root_dir, \"patches\")\n",
    "        output = \"npatches.csv\"\n",
    "        output1 = \"npatches_349.csv\"\n",
    "elif series == 'mondor':\n",
    "    if with_anno:\n",
    "        path_patch = '/media/visiopharm5/WDRed(backup)/clam_extension/results/patches_mondor_tumor'\n",
    "        output = \"npatches_mondor_tumor.csv\"\n",
    "        output1 = \"npatches_mondor_tumor_139.csv\"\n",
    "#     else:\n",
    "#         path_patch = os.path.join(root_dir, \"patches\")\n",
    "#         output = \"npatches.csv\""
   ]
  },
  {
   "cell_type": "code",
   "execution_count": 78,
   "metadata": {},
   "outputs": [
    {
     "name": "stdout",
     "output_type": "stream",
     "text": [
      "(354, 1)\n"
     ]
    },
    {
     "data": {
      "text/html": [
       "<div>\n",
       "<style scoped>\n",
       "    .dataframe tbody tr th:only-of-type {\n",
       "        vertical-align: middle;\n",
       "    }\n",
       "\n",
       "    .dataframe tbody tr th {\n",
       "        vertical-align: top;\n",
       "    }\n",
       "\n",
       "    .dataframe thead th {\n",
       "        text-align: right;\n",
       "    }\n",
       "</style>\n",
       "<table border=\"1\" class=\"dataframe\">\n",
       "  <thead>\n",
       "    <tr style=\"text-align: right;\">\n",
       "      <th></th>\n",
       "      <th>slide_id</th>\n",
       "    </tr>\n",
       "  </thead>\n",
       "  <tbody>\n",
       "    <tr>\n",
       "      <th>0</th>\n",
       "      <td>TCGA-2V-A95S-01Z-00-DX1.9DFA6FC7-87A6-4C14-9A3...</td>\n",
       "    </tr>\n",
       "    <tr>\n",
       "      <th>1</th>\n",
       "      <td>TCGA-2Y-A9GS-01Z-00-DX1.75C5CEF1-6C8B-42FF-82F...</td>\n",
       "    </tr>\n",
       "    <tr>\n",
       "      <th>2</th>\n",
       "      <td>TCGA-2Y-A9GT-01Z-00-DX1.30666775-3556-4DFE-A5E...</td>\n",
       "    </tr>\n",
       "    <tr>\n",
       "      <th>3</th>\n",
       "      <td>TCGA-2Y-A9GU-01Z-00-DX1.700CBBD7-9F58-470D-A85...</td>\n",
       "    </tr>\n",
       "    <tr>\n",
       "      <th>4</th>\n",
       "      <td>TCGA-2Y-A9GV-01Z-00-DX1.524FA6DD-7C84-425C-A2B...</td>\n",
       "    </tr>\n",
       "  </tbody>\n",
       "</table>\n",
       "</div>"
      ],
      "text/plain": [
       "                                            slide_id\n",
       "0  TCGA-2V-A95S-01Z-00-DX1.9DFA6FC7-87A6-4C14-9A3...\n",
       "1  TCGA-2Y-A9GS-01Z-00-DX1.75C5CEF1-6C8B-42FF-82F...\n",
       "2  TCGA-2Y-A9GT-01Z-00-DX1.30666775-3556-4DFE-A5E...\n",
       "3  TCGA-2Y-A9GU-01Z-00-DX1.700CBBD7-9F58-470D-A85...\n",
       "4  TCGA-2Y-A9GV-01Z-00-DX1.524FA6DD-7C84-425C-A2B..."
      ]
     },
     "metadata": {},
     "output_type": "display_data"
    }
   ],
   "source": [
    "for root, dirs, files in os.walk(path_patch):\n",
    "    df = pd.DataFrame(files,columns=[\"slide_id\"])\n",
    "print(df.shape)\n",
    "display(df.head(5))"
   ]
  },
  {
   "cell_type": "markdown",
   "metadata": {},
   "source": [
    "### Iterate the patch file (h5) and read the patch number"
   ]
  },
  {
   "cell_type": "code",
   "execution_count": 79,
   "metadata": {},
   "outputs": [
    {
     "data": {
      "application/vnd.jupyter.widget-view+json": {
       "model_id": "00cef28d86a44f728315046027ec242a",
       "version_major": 2,
       "version_minor": 0
      },
      "text/plain": [
       "HBox(children=(IntProgress(value=0, max=354), HTML(value='')))"
      ]
     },
     "metadata": {},
     "output_type": "display_data"
    },
    {
     "name": "stdout",
     "output_type": "stream",
     "text": [
      "\n",
      "(354, 2)\n"
     ]
    },
    {
     "data": {
      "text/html": [
       "<div>\n",
       "<style scoped>\n",
       "    .dataframe tbody tr th:only-of-type {\n",
       "        vertical-align: middle;\n",
       "    }\n",
       "\n",
       "    .dataframe tbody tr th {\n",
       "        vertical-align: top;\n",
       "    }\n",
       "\n",
       "    .dataframe thead th {\n",
       "        text-align: right;\n",
       "    }\n",
       "</style>\n",
       "<table border=\"1\" class=\"dataframe\">\n",
       "  <thead>\n",
       "    <tr style=\"text-align: right;\">\n",
       "      <th></th>\n",
       "      <th>slide_id</th>\n",
       "      <th>n_patches</th>\n",
       "    </tr>\n",
       "  </thead>\n",
       "  <tbody>\n",
       "    <tr>\n",
       "      <th>0</th>\n",
       "      <td>TCGA-2V-A95S-01Z-00-DX1.9DFA6FC7-87A6-4C14-9A3...</td>\n",
       "      <td>1481</td>\n",
       "    </tr>\n",
       "    <tr>\n",
       "      <th>1</th>\n",
       "      <td>TCGA-2Y-A9GS-01Z-00-DX1.75C5CEF1-6C8B-42FF-82F...</td>\n",
       "      <td>10505</td>\n",
       "    </tr>\n",
       "    <tr>\n",
       "      <th>2</th>\n",
       "      <td>TCGA-2Y-A9GT-01Z-00-DX1.30666775-3556-4DFE-A5E...</td>\n",
       "      <td>8896</td>\n",
       "    </tr>\n",
       "    <tr>\n",
       "      <th>3</th>\n",
       "      <td>TCGA-2Y-A9GU-01Z-00-DX1.700CBBD7-9F58-470D-A85...</td>\n",
       "      <td>10135</td>\n",
       "    </tr>\n",
       "    <tr>\n",
       "      <th>4</th>\n",
       "      <td>TCGA-2Y-A9GV-01Z-00-DX1.524FA6DD-7C84-425C-A2B...</td>\n",
       "      <td>12966</td>\n",
       "    </tr>\n",
       "  </tbody>\n",
       "</table>\n",
       "</div>"
      ],
      "text/plain": [
       "                                            slide_id  n_patches\n",
       "0  TCGA-2V-A95S-01Z-00-DX1.9DFA6FC7-87A6-4C14-9A3...       1481\n",
       "1  TCGA-2Y-A9GS-01Z-00-DX1.75C5CEF1-6C8B-42FF-82F...      10505\n",
       "2  TCGA-2Y-A9GT-01Z-00-DX1.30666775-3556-4DFE-A5E...       8896\n",
       "3  TCGA-2Y-A9GU-01Z-00-DX1.700CBBD7-9F58-470D-A85...      10135\n",
       "4  TCGA-2Y-A9GV-01Z-00-DX1.524FA6DD-7C84-425C-A2B...      12966"
      ]
     },
     "metadata": {},
     "output_type": "display_data"
    }
   ],
   "source": [
    "list_amount = []\n",
    "for i in tqdm(range(df.shape[0])): # for each slide / bag\n",
    "    with h5py.File(os.path.join(path_patch, df.iloc[i, 0]), \"r\") as f: # create a h5 file for each bag\n",
    "        list_amount.append(f[\"coords\"].shape[0])\n",
    "df[\"n_patches\"] = list_amount\n",
    "\n",
    "print(df.shape)\n",
    "display(df.head(5))"
   ]
  },
  {
   "cell_type": "code",
   "execution_count": 80,
   "metadata": {},
   "outputs": [
    {
     "name": "stdout",
     "output_type": "stream",
     "text": [
      "max: 35364\n",
      "min: 662\n"
     ]
    }
   ],
   "source": [
    "print(\"max: \" + str(max(df[\"n_patches\"])))\n",
    "print(\"min: \" + str(min(df[\"n_patches\"])))"
   ]
  },
  {
   "cell_type": "code",
   "execution_count": 81,
   "metadata": {},
   "outputs": [
    {
     "data": {
      "image/png": "[encoded data removed]",
      "text/plain": [
       "<Figure size 432x288 with 1 Axes>"
      ]
     },
     "metadata": {
      "needs_background": "light"
     },
     "output_type": "display_data"
    }
   ],
   "source": [
    "hist = df.hist(bins=10)"
   ]
  },
  {
   "cell_type": "code",
   "execution_count": 82,
   "metadata": {},
   "outputs": [
    {
     "name": "stdout",
     "output_type": "stream",
     "text": [
      "(349, 3)\n"
     ]
    },
    {
     "data": {
      "text/html": [
       "<div>\n",
       "<style scoped>\n",
       "    .dataframe tbody tr th:only-of-type {\n",
       "        vertical-align: middle;\n",
       "    }\n",
       "\n",
       "    .dataframe tbody tr th {\n",
       "        vertical-align: top;\n",
       "    }\n",
       "\n",
       "    .dataframe thead th {\n",
       "        text-align: right;\n",
       "    }\n",
       "</style>\n",
       "<table border=\"1\" class=\"dataframe\">\n",
       "  <thead>\n",
       "    <tr style=\"text-align: right;\">\n",
       "      <th></th>\n",
       "      <th>case_id</th>\n",
       "      <th>slide_id</th>\n",
       "      <th>cluster</th>\n",
       "    </tr>\n",
       "  </thead>\n",
       "  <tbody>\n",
       "    <tr>\n",
       "      <th>0</th>\n",
       "      <td>TCGA-DD-AADN</td>\n",
       "      <td>TCGA-DD-AADN-01Z-00-DX1.0C031278-22F9-40DE-9CF...</td>\n",
       "      <td>Cluster High</td>\n",
       "    </tr>\n",
       "    <tr>\n",
       "      <th>1</th>\n",
       "      <td>TCGA-DD-AACC</td>\n",
       "      <td>TCGA-DD-AACC-01Z-00-DX1.5B3061BB-6716-4253-851...</td>\n",
       "      <td>Cluster High</td>\n",
       "    </tr>\n",
       "    <tr>\n",
       "      <th>2</th>\n",
       "      <td>TCGA-DD-AACB</td>\n",
       "      <td>TCGA-DD-AACB-01Z-00-DX1.D4A7846E-8B38-4FBA-BAB...</td>\n",
       "      <td>Cluster High</td>\n",
       "    </tr>\n",
       "  </tbody>\n",
       "</table>\n",
       "</div>"
      ],
      "text/plain": [
       "        case_id                                           slide_id  \\\n",
       "0  TCGA-DD-AADN  TCGA-DD-AADN-01Z-00-DX1.0C031278-22F9-40DE-9CF...   \n",
       "1  TCGA-DD-AACC  TCGA-DD-AACC-01Z-00-DX1.5B3061BB-6716-4253-851...   \n",
       "2  TCGA-DD-AACB  TCGA-DD-AACB-01Z-00-DX1.D4A7846E-8B38-4FBA-BAB...   \n",
       "\n",
       "        cluster  \n",
       "0  Cluster High  \n",
       "1  Cluster High  \n",
       "2  Cluster High  "
      ]
     },
     "metadata": {},
     "output_type": "display_data"
    },
    {
     "name": "stdout",
     "output_type": "stream",
     "text": [
      "(349, 2)\n"
     ]
    },
    {
     "data": {
      "text/html": [
       "<div>\n",
       "<style scoped>\n",
       "    .dataframe tbody tr th:only-of-type {\n",
       "        vertical-align: middle;\n",
       "    }\n",
       "\n",
       "    .dataframe tbody tr th {\n",
       "        vertical-align: top;\n",
       "    }\n",
       "\n",
       "    .dataframe thead th {\n",
       "        text-align: right;\n",
       "    }\n",
       "</style>\n",
       "<table border=\"1\" class=\"dataframe\">\n",
       "  <thead>\n",
       "    <tr style=\"text-align: right;\">\n",
       "      <th></th>\n",
       "      <th>slide_id</th>\n",
       "      <th>n_patches</th>\n",
       "    </tr>\n",
       "  </thead>\n",
       "  <tbody>\n",
       "    <tr>\n",
       "      <th>0</th>\n",
       "      <td>TCGA-2V-A95S-01Z-00-DX1.9DFA6FC7-87A6-4C14-9A3...</td>\n",
       "      <td>1481</td>\n",
       "    </tr>\n",
       "    <tr>\n",
       "      <th>1</th>\n",
       "      <td>TCGA-2Y-A9GS-01Z-00-DX1.75C5CEF1-6C8B-42FF-82F...</td>\n",
       "      <td>10505</td>\n",
       "    </tr>\n",
       "    <tr>\n",
       "      <th>2</th>\n",
       "      <td>TCGA-2Y-A9GT-01Z-00-DX1.30666775-3556-4DFE-A5E...</td>\n",
       "      <td>8896</td>\n",
       "    </tr>\n",
       "  </tbody>\n",
       "</table>\n",
       "</div>"
      ],
      "text/plain": [
       "                                            slide_id  n_patches\n",
       "0  TCGA-2V-A95S-01Z-00-DX1.9DFA6FC7-87A6-4C14-9A3...       1481\n",
       "1  TCGA-2Y-A9GS-01Z-00-DX1.75C5CEF1-6C8B-42FF-82F...      10505\n",
       "2  TCGA-2Y-A9GT-01Z-00-DX1.30666775-3556-4DFE-A5E...       8896"
      ]
     },
     "metadata": {},
     "output_type": "display_data"
    },
    {
     "name": "stdout",
     "output_type": "stream",
     "text": [
      "max: 35364\n",
      "min: 1481\n"
     ]
    },
    {
     "data": {
      "image/png": "[encoded data removed]",
      "text/plain": [
       "<Figure size 432x288 with 1 Axes>"
      ]
     },
     "metadata": {
      "needs_background": "light"
     },
     "output_type": "display_data"
    }
   ],
   "source": [
    "if series == 'tcga':\n",
    "    df_ref = pd.read_csv('/media/visiopharm5/WDGold/deeplearning/MIL/CLAM/dataset_csv/tcga_hcc_349_6G_Interferon_Gamma_highvsrest.csv'\n",
    "                        , index_col=0)\n",
    "    print(df_ref.shape)\n",
    "    display(df_ref.head(3))\n",
    "    \n",
    "    df_349 = df.copy(deep=True)\n",
    "    for i in range(len(df_349)):\n",
    "        if df_349.loc[i, 'slide_id'][:-3] not in list(df_ref['slide_id'].values):\n",
    "            df_349.drop(i, inplace=True)\n",
    "    print(df_349.shape)\n",
    "    display(df_349.head(3))\n",
    "    \n",
    "    print(\"max: \" + str(max(df_349[\"n_patches\"])))\n",
    "    print(\"min: \" + str(min(df_349[\"n_patches\"])))\n",
    "    \n",
    "    hist1 = df_349.hist(bins=10)\n",
    "elif series == 'mondor':\n",
    "    df_ref = pd.read_csv('/media/visiopharm5/WDGold/deeplearning/MIL/CLAM/dataset_csv/mondor_hcc_139_6G_Interferon_Gamma_highvsrest.csv'\n",
    "                        , index_col=0)\n",
    "    print(df_ref.shape)\n",
    "    display(df_ref.head(3))\n",
    "    \n",
    "    df_139 = df.copy(deep=True)\n",
    "    for i in range(len(df_139)):\n",
    "        if df_139.loc[i, 'slide_id'][:-3] not in list(df_ref['slide_id'].values):\n",
    "            df_139.drop(i, inplace=True)\n",
    "    print(df_139.shape)\n",
    "    display(df_139.head(3))\n",
    "    \n",
    "    print(\"max: \" + str(max(df_139[\"n_patches\"])))\n",
    "    print(\"min: \" + str(min(df_139[\"n_patches\"])))\n",
    "    \n",
    "    hist1 = df_139.hist(bins=10)"
   ]
  },
  {
   "cell_type": "markdown",
   "metadata": {},
   "source": [
    "### Export"
   ]
  },
  {
   "cell_type": "code",
   "execution_count": 83,
   "metadata": {},
   "outputs": [],
   "source": [
    "df.to_csv(os.path.join(root_dir, output), index=False)"
   ]
  },
  {
   "cell_type": "code",
   "execution_count": 84,
   "metadata": {},
   "outputs": [],
   "source": [
    "if series == 'tcga':\n",
    "    df_349.to_csv(os.path.join(root_dir, output1), index=False)\n",
    "elif series == 'mondor':\n",
    "    df_139.to_csv(os.path.join(root_dir, output1), index=False)"
   ]
  },
  {
   "cell_type": "code",
   "execution_count": null,
   "metadata": {},
   "outputs": [],
   "source": []
  },
  {
   "cell_type": "code",
   "execution_count": null,
   "metadata": {},
   "outputs": [],
   "source": []
  },
  {
   "cell_type": "markdown",
   "metadata": {},
   "source": [
    "## Compare"
   ]
  },
  {
   "cell_type": "code",
   "execution_count": null,
   "metadata": {},
   "outputs": [],
   "source": []
  }
 ],
 "metadata": {
  "kernelspec": {
   "display_name": "Python 3",
   "language": "python",
   "name": "python3"
  },
  "language_info": {
   "codemirror_mode": {
    "name": "ipython",
    "version": 3
   },
   "file_extension": ".py",
   "mimetype": "text/x-python",
   "name": "python",
   "nbconvert_exporter": "python",
   "pygments_lexer": "ipython3",
   "version": "3.7.7"
  }
 },
 "nbformat": 4,
 "nbformat_minor": 4
}
