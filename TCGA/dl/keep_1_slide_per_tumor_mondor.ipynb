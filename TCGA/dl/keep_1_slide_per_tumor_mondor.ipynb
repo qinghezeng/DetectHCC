{
 "cells": [
  {
   "cell_type": "markdown",
   "metadata": {},
   "source": [
    "## Keep only 1 slide for each tumor / case \n",
    "#### Very important to ensure that the same slide list is used for all the gene signatures"
   ]
  },
  {
   "cell_type": "code",
   "execution_count": 1,
   "metadata": {},
   "outputs": [],
   "source": [
    "import os\n",
    "import pandas as pd\n",
    "import random"
   ]
  },
  {
   "cell_type": "markdown",
   "metadata": {},
   "source": [
    "### Use the slide list of T-cell_Exhaustion as reference\n",
    "#### It is selected since there is the greatest increase compared to the whole series (258)"
   ]
  },
  {
   "cell_type": "code",
   "execution_count": 71,
   "metadata": {},
   "outputs": [],
   "source": [
    "path = \"/media/visiopharm5/WDGold/deeplearning/MIL/CLAM/dataset_csv\"\n",
    "file = \"mondor_hcc_258_Ribas_10G_Interferon_Gamma_highvsrest.csv\" # Inflammatory, Gajewski_13G_Inflammatory, \n",
    "                                                                # 6G_Interferon_Gamma, Interferon_Gamma_Biology,\n",
    "                                                                # T-cell_Exhaustion, Ribas_10G_Interferon_Gamma,\n",
    "                                                                # 10G_preliminary_IFN-γ, Expanded_immune_gene\n",
    "file_ref = \"ref_mondor_hcc_139_T-cell_Exhaustion.csv\""
   ]
  },
  {
   "cell_type": "code",
   "execution_count": 72,
   "metadata": {},
   "outputs": [
    {
     "name": "stdout",
     "output_type": "stream",
     "text": [
      "(139, 2)\n"
     ]
    },
    {
     "data": {
      "text/html": [
       "<div>\n",
       "<style scoped>\n",
       "    .dataframe tbody tr th:only-of-type {\n",
       "        vertical-align: middle;\n",
       "    }\n",
       "\n",
       "    .dataframe tbody tr th {\n",
       "        vertical-align: top;\n",
       "    }\n",
       "\n",
       "    .dataframe thead th {\n",
       "        text-align: right;\n",
       "    }\n",
       "</style>\n",
       "<table border=\"1\" class=\"dataframe\">\n",
       "  <thead>\n",
       "    <tr style=\"text-align: right;\">\n",
       "      <th></th>\n",
       "      <th>case_id</th>\n",
       "      <th>slide_id</th>\n",
       "    </tr>\n",
       "  </thead>\n",
       "  <tbody>\n",
       "    <tr>\n",
       "      <th>1</th>\n",
       "      <td>EX128-ARN273</td>\n",
       "      <td>HMNT0343_bis - 2017-06-06 12.56.13</td>\n",
       "    </tr>\n",
       "    <tr>\n",
       "      <th>3</th>\n",
       "      <td>EX128-ARN293</td>\n",
       "      <td>HMNT0582_bis - 2017-07-16 22.01.02</td>\n",
       "    </tr>\n",
       "    <tr>\n",
       "      <th>5</th>\n",
       "      <td>EX128-ARN275</td>\n",
       "      <td>HMNT0499_bis - 2017-06-05 11.22.25</td>\n",
       "    </tr>\n",
       "    <tr>\n",
       "      <th>7</th>\n",
       "      <td>EX128-ARN280</td>\n",
       "      <td>HMNT0156_bis - 2017-06-05 03.33.14</td>\n",
       "    </tr>\n",
       "    <tr>\n",
       "      <th>9</th>\n",
       "      <td>EX128-ARN202</td>\n",
       "      <td>HMNT0998_bis - 2017-06-30 07.23.23</td>\n",
       "    </tr>\n",
       "    <tr>\n",
       "      <th>10</th>\n",
       "      <td>EX128-ARN230</td>\n",
       "      <td>HMNT0455 - 2017-06-16 16.46.38</td>\n",
       "    </tr>\n",
       "    <tr>\n",
       "      <th>13</th>\n",
       "      <td>EX128-ARN236</td>\n",
       "      <td>HMNT0280_bis - 2017-06-16 01.55.56</td>\n",
       "    </tr>\n",
       "    <tr>\n",
       "      <th>14</th>\n",
       "      <td>EX128-ARN291</td>\n",
       "      <td>HMNT0672 - 2017-06-04 07.13.30</td>\n",
       "    </tr>\n",
       "    <tr>\n",
       "      <th>16</th>\n",
       "      <td>EX128-ARN295</td>\n",
       "      <td>HMNT1781_P705474_01_HES - 2018-11-01 10.08.24</td>\n",
       "    </tr>\n",
       "    <tr>\n",
       "      <th>18</th>\n",
       "      <td>EX128-ARN243</td>\n",
       "      <td>HMNT0071_bis - 2017-06-15 12.25.18</td>\n",
       "    </tr>\n",
       "  </tbody>\n",
       "</table>\n",
       "</div>"
      ],
      "text/plain": [
       "         case_id                                       slide_id\n",
       "1   EX128-ARN273             HMNT0343_bis - 2017-06-06 12.56.13\n",
       "3   EX128-ARN293             HMNT0582_bis - 2017-07-16 22.01.02\n",
       "5   EX128-ARN275             HMNT0499_bis - 2017-06-05 11.22.25\n",
       "7   EX128-ARN280             HMNT0156_bis - 2017-06-05 03.33.14\n",
       "9   EX128-ARN202             HMNT0998_bis - 2017-06-30 07.23.23\n",
       "10  EX128-ARN230                 HMNT0455 - 2017-06-16 16.46.38\n",
       "13  EX128-ARN236             HMNT0280_bis - 2017-06-16 01.55.56\n",
       "14  EX128-ARN291                 HMNT0672 - 2017-06-04 07.13.30\n",
       "16  EX128-ARN295  HMNT1781_P705474_01_HES - 2018-11-01 10.08.24\n",
       "18  EX128-ARN243             HMNT0071_bis - 2017-06-15 12.25.18"
      ]
     },
     "metadata": {},
     "output_type": "display_data"
    }
   ],
   "source": [
    "ref = pd.read_csv(os.path.join(path, file_ref), index_col=0)\n",
    "print(ref.shape)\n",
    "display(ref.head(10))"
   ]
  },
  {
   "cell_type": "code",
   "execution_count": 73,
   "metadata": {},
   "outputs": [
    {
     "name": "stdout",
     "output_type": "stream",
     "text": [
      "(258, 3)\n"
     ]
    },
    {
     "data": {
      "text/html": [
       "<div>\n",
       "<style scoped>\n",
       "    .dataframe tbody tr th:only-of-type {\n",
       "        vertical-align: middle;\n",
       "    }\n",
       "\n",
       "    .dataframe tbody tr th {\n",
       "        vertical-align: top;\n",
       "    }\n",
       "\n",
       "    .dataframe thead th {\n",
       "        text-align: right;\n",
       "    }\n",
       "</style>\n",
       "<table border=\"1\" class=\"dataframe\">\n",
       "  <thead>\n",
       "    <tr style=\"text-align: right;\">\n",
       "      <th></th>\n",
       "      <th>case_id</th>\n",
       "      <th>slide_id</th>\n",
       "      <th>cluster</th>\n",
       "    </tr>\n",
       "  </thead>\n",
       "  <tbody>\n",
       "    <tr>\n",
       "      <th>0</th>\n",
       "      <td>EX128-ARN217</td>\n",
       "      <td>HMNT0562 - 2017-06-18 08.12.49</td>\n",
       "      <td>Cluster High</td>\n",
       "    </tr>\n",
       "    <tr>\n",
       "      <th>1</th>\n",
       "      <td>EX128-ARN217</td>\n",
       "      <td>HMNT0562_bis - 2017-06-18 09.03.20</td>\n",
       "      <td>Cluster High</td>\n",
       "    </tr>\n",
       "    <tr>\n",
       "      <th>2</th>\n",
       "      <td>EX128-ARN322</td>\n",
       "      <td>HMNT2387_P761471-A03-HES</td>\n",
       "      <td>Cluster High</td>\n",
       "    </tr>\n",
       "    <tr>\n",
       "      <th>3</th>\n",
       "      <td>EX128-ARN268</td>\n",
       "      <td>HMNT0153 - 2017-06-08 16.41.05</td>\n",
       "      <td>Cluster High</td>\n",
       "    </tr>\n",
       "    <tr>\n",
       "      <th>4</th>\n",
       "      <td>EX128-ARN268</td>\n",
       "      <td>HMNT0153_bis - 2017-06-08 17.21.02</td>\n",
       "      <td>Cluster High</td>\n",
       "    </tr>\n",
       "  </tbody>\n",
       "</table>\n",
       "</div>"
      ],
      "text/plain": [
       "        case_id                            slide_id       cluster\n",
       "0  EX128-ARN217      HMNT0562 - 2017-06-18 08.12.49  Cluster High\n",
       "1  EX128-ARN217  HMNT0562_bis - 2017-06-18 09.03.20  Cluster High\n",
       "2  EX128-ARN322            HMNT2387_P761471-A03-HES  Cluster High\n",
       "3  EX128-ARN268      HMNT0153 - 2017-06-08 16.41.05  Cluster High\n",
       "4  EX128-ARN268  HMNT0153_bis - 2017-06-08 17.21.02  Cluster High"
      ]
     },
     "metadata": {},
     "output_type": "display_data"
    }
   ],
   "source": [
    "df = pd.read_csv(os.path.join(path, file), index_col=0)\n",
    "print(df.shape)\n",
    "display(df.head(5))"
   ]
  },
  {
   "cell_type": "code",
   "execution_count": 74,
   "metadata": {},
   "outputs": [
    {
     "name": "stdout",
     "output_type": "stream",
     "text": [
      "(139, 3)\n"
     ]
    },
    {
     "data": {
      "text/html": [
       "<div>\n",
       "<style scoped>\n",
       "    .dataframe tbody tr th:only-of-type {\n",
       "        vertical-align: middle;\n",
       "    }\n",
       "\n",
       "    .dataframe tbody tr th {\n",
       "        vertical-align: top;\n",
       "    }\n",
       "\n",
       "    .dataframe thead th {\n",
       "        text-align: right;\n",
       "    }\n",
       "</style>\n",
       "<table border=\"1\" class=\"dataframe\">\n",
       "  <thead>\n",
       "    <tr style=\"text-align: right;\">\n",
       "      <th></th>\n",
       "      <th>case_id</th>\n",
       "      <th>slide_id</th>\n",
       "      <th>cluster</th>\n",
       "    </tr>\n",
       "  </thead>\n",
       "  <tbody>\n",
       "    <tr>\n",
       "      <th>1</th>\n",
       "      <td>EX128-ARN217</td>\n",
       "      <td>HMNT0562_bis - 2017-06-18 09.03.20</td>\n",
       "      <td>Cluster High</td>\n",
       "    </tr>\n",
       "    <tr>\n",
       "      <th>2</th>\n",
       "      <td>EX128-ARN322</td>\n",
       "      <td>HMNT2387_P761471-A03-HES</td>\n",
       "      <td>Cluster High</td>\n",
       "    </tr>\n",
       "    <tr>\n",
       "      <th>3</th>\n",
       "      <td>EX128-ARN268</td>\n",
       "      <td>HMNT0153 - 2017-06-08 16.41.05</td>\n",
       "      <td>Cluster High</td>\n",
       "    </tr>\n",
       "    <tr>\n",
       "      <th>5</th>\n",
       "      <td>EX128-ARN291</td>\n",
       "      <td>HMNT0672 - 2017-06-04 07.13.30</td>\n",
       "      <td>Cluster High</td>\n",
       "    </tr>\n",
       "    <tr>\n",
       "      <th>8</th>\n",
       "      <td>EX128-ARN243</td>\n",
       "      <td>HMNT0071_bis - 2017-06-15 12.25.18</td>\n",
       "      <td>Cluster High</td>\n",
       "    </tr>\n",
       "  </tbody>\n",
       "</table>\n",
       "</div>"
      ],
      "text/plain": [
       "        case_id                            slide_id       cluster\n",
       "1  EX128-ARN217  HMNT0562_bis - 2017-06-18 09.03.20  Cluster High\n",
       "2  EX128-ARN322            HMNT2387_P761471-A03-HES  Cluster High\n",
       "3  EX128-ARN268      HMNT0153 - 2017-06-08 16.41.05  Cluster High\n",
       "5  EX128-ARN291      HMNT0672 - 2017-06-04 07.13.30  Cluster High\n",
       "8  EX128-ARN243  HMNT0071_bis - 2017-06-15 12.25.18  Cluster High"
      ]
     },
     "metadata": {},
     "output_type": "display_data"
    }
   ],
   "source": [
    "# keep only the slide which is in the ref\n",
    "df = df[df[\"slide_id\"].isin(ref[\"slide_id\"].to_list())]\n",
    "print(df.shape)\n",
    "display(df.head(5))"
   ]
  },
  {
   "cell_type": "code",
   "execution_count": 75,
   "metadata": {},
   "outputs": [],
   "source": [
    "# check if the slide list exactly the same as the in the ref\n",
    "assert set(df[\"slide_id\"].to_list()) == set(ref[\"slide_id\"].to_list())"
   ]
  },
  {
   "cell_type": "markdown",
   "metadata": {},
   "source": [
    "### Random sampling is not the correct practice"
   ]
  },
  {
   "cell_type": "code",
   "execution_count": 76,
   "metadata": {},
   "outputs": [],
   "source": [
    "# sort the slide alphabetically, so that in the next cell the first slide will be kept\n",
    "# df.sort_values(by=['case_id', 'slide_id'], inplace=True) # default is ascending\n",
    "# df.reset_index(drop=True, inplace=True)\n",
    "# print(df.shape)\n",
    "# display(df.head(5))"
   ]
  },
  {
   "cell_type": "code",
   "execution_count": 77,
   "metadata": {},
   "outputs": [],
   "source": [
    "# randonly drop a slide for each case\n",
    "# for id in set(df[\"case_id\"].to_list()): # the iteration is random over a set\n",
    "# #     print(id)\n",
    "#     list_id = df[df[\"case_id\"]==id].index.to_list()\n",
    "#     if len(list_id) > 1:\n",
    "#         df.drop(index=random.choice(list_id), inplace=True)\n",
    "# #         df.drop(index=list_id[1], inplace=True)\n",
    "        \n",
    "# print(df.shape)\n",
    "# display(df.head(5))"
   ]
  },
  {
   "cell_type": "code",
   "execution_count": 78,
   "metadata": {},
   "outputs": [],
   "source": [
    "df.to_csv(os.path.join(path, file.replace(\"258\", \"139\"))) #139-asc-first"
   ]
  },
  {
   "cell_type": "code",
   "execution_count": null,
   "metadata": {},
   "outputs": [],
   "source": []
  },
  {
   "cell_type": "code",
   "execution_count": null,
   "metadata": {},
   "outputs": [],
   "source": []
  },
  {
   "cell_type": "code",
   "execution_count": null,
   "metadata": {},
   "outputs": [],
   "source": []
  }
 ],
 "metadata": {
  "kernelspec": {
   "display_name": "Python 3",
   "language": "python",
   "name": "python3"
  },
  "language_info": {
   "codemirror_mode": {
    "name": "ipython",
    "version": 3
   },
   "file_extension": ".py",
   "mimetype": "text/x-python",
   "name": "python",
   "nbconvert_exporter": "python",
   "pygments_lexer": "ipython3",
   "version": "3.8.5"
  }
 },
 "nbformat": 4,
 "nbformat_minor": 4
}
