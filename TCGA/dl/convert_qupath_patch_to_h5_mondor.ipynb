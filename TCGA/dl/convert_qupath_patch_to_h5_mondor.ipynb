{
 "cells": [
  {
   "cell_type": "markdown",
   "metadata": {},
   "source": [
    "### No need of the patches (from all the tissue area) split by CLAM\n",
    "### Need the correspondent WSI instead\n",
    "### For multi-thread, better to use Spyder (also seems faster) than Jupyter. Jupyter will stop all the graphic views (e.g. webpages) if exceed memory."
   ]
  },
  {
   "cell_type": "code",
   "execution_count": 1,
   "metadata": {},
   "outputs": [],
   "source": [
    "import os\n",
    "import re\n",
    "from PIL import Image\n",
    "import h5py\n",
    "import numpy as np\n",
    "import math\n",
    "# import sys\n",
    "# !conda install --yes --prefix {sys.prefix} ipywidgets # install in the current conda environment\n",
    "# !jupyter nbextension enable --py widgetsnbextension \n",
    "# Then restart jupyter\n",
    "from tqdm.notebook import tqdm\n",
    "## for Spyder\n",
    "#from functools import partial\n",
    "#tqdm = partial(tqdm, position=0, leave=True)\n",
    "# from numba import jit, njit, cuda\n",
    "import openslide"
   ]
  },
  {
   "cell_type": "code",
   "execution_count": 2,
   "metadata": {},
   "outputs": [],
   "source": [
    "path_tiles_qp = \"/media/visiopharm5/WDRed(backup)/qupath_mondor/tiles_20x_256\"\n",
    "path_slide = \"/media/visiopharm5/WDGold/deeplearning/Hepatocarcinomes/slides_annotations_hammamatsu\"\n",
    "path_patch_anno = \"/media/visiopharm5/WDRed(backup)/clam_extension/results/patches_mondor_tumor\""
   ]
  },
  {
   "cell_type": "code",
   "execution_count": 3,
   "metadata": {},
   "outputs": [
    {
     "name": "stdout",
     "output_type": "stream",
     "text": [
      "['HMNT0071 - 2017-06-15 11.35.00', 'HMNT0071_bis - 2017-06-15 12.25.18', 'HMNT0073_bis - 2017-06-17 22.30.07', 'HMNT0100 - 2017-07-14 07.59.28', 'HMNT0106 - 2017-06-11 09.45.50', 'HMNT0106_bis - 2017-06-11 10.39.38', 'HMNT0109 - 2017-06-18 16.13.47', 'HMNT0109_bis - 2017-06-18 17.10.12', 'HMNT0110 - 2017-06-16 21.50.50', 'HMNT0116 - 2017-06-11 13.05.47']\n"
     ]
    }
   ],
   "source": [
    "# Iterate the whole directory\n",
    "slide_id = []\n",
    "tile_id = []\n",
    "mask_id =  []\n",
    "\n",
    "start = 0\n",
    "stop = 10 \n",
    "\n",
    "for root, dirs, files in os.walk(path_tiles_qp):\n",
    "#     display(dirs)\n",
    "    slide_id =  sorted(dirs)[start:stop] # sort the dirs to ensure the order, then for indexing\n",
    "    break\n",
    "print(slide_id)\n",
    "        \n",
    "for name in slide_id:\n",
    "    tmp_tile = []\n",
    "    tmp_mask = []\n",
    "    for root, dirs, files in os.walk(os.path.join(path_tiles_qp, name)):\n",
    "        if len(files) != 0:\n",
    "            for file in files:\n",
    "                if file.endswith(\".tif\"):\n",
    "                    tmp_tile.append(file)\n",
    "                elif file.endswith(\".png\"):\n",
    "                    tmp_mask.append(file)\n",
    "            tile_id.append(tmp_tile)\n",
    "            mask_id.append(tmp_mask)\n",
    "        \n",
    "for i in range(len(slide_id)):\n",
    "    if tile_id[i][0].startswith(slide_id[i]) and mask_id[i][0].startswith(slide_id[i]):\n",
    "        pass\n",
    "    else:\n",
    "        raise Exception(\"os.walk() returns arbitrary orders.\")"
   ]
  },
  {
   "cell_type": "code",
   "execution_count": 4,
   "metadata": {},
   "outputs": [],
   "source": [
    "# ## Specific list to process\n",
    "# list_proc = [\"TCGA-G3-AAV6-01Z-00-DX1.F4D85E6A-7F71-47D4-BEB6-984FDD218A9F\"]\n",
    "# slide_id = []\n",
    "# tile_id = []\n",
    "# mask_id =  []\n",
    "# for root, dirs, files in os.walk(path_tiles_qp):\n",
    "#     for name in dirs:\n",
    "#         if name in list_proc:\n",
    "#             slide_id.append(name)\n",
    "#     tmp_tile = []\n",
    "#     tmp_mask = []\n",
    "#     if root.split(\"/\")[-1] in list_proc:\n",
    "#         for file in files:\n",
    "#             if file.endswith(\".tif\"):\n",
    "#                 tmp_tile.append(file)\n",
    "#             elif file.endswith(\".png\"):\n",
    "#                 tmp_mask.append(file)\n",
    "#         tile_id.append(tmp_tile)\n",
    "#         mask_id.append(tmp_mask)"
   ]
  },
  {
   "cell_type": "code",
   "execution_count": 5,
   "metadata": {},
   "outputs": [
    {
     "data": {
      "text/plain": [
       "['HMNT0071 - 2017-06-15 11.35.00',\n",
       " 'HMNT0071_bis - 2017-06-15 12.25.18',\n",
       " 'HMNT0073_bis - 2017-06-17 22.30.07',\n",
       " 'HMNT0100 - 2017-07-14 07.59.28',\n",
       " 'HMNT0106 - 2017-06-11 09.45.50',\n",
       " 'HMNT0106_bis - 2017-06-11 10.39.38',\n",
       " 'HMNT0109 - 2017-06-18 16.13.47',\n",
       " 'HMNT0109_bis - 2017-06-18 17.10.12',\n",
       " 'HMNT0110 - 2017-06-16 21.50.50',\n",
       " 'HMNT0116 - 2017-06-11 13.05.47']"
      ]
     },
     "metadata": {},
     "output_type": "display_data"
    }
   ],
   "source": [
    "# print(slide_id[9])\n",
    "display(slide_id)"
   ]
  },
  {
   "cell_type": "code",
   "execution_count": 6,
   "metadata": {},
   "outputs": [
    {
     "name": "stdout",
     "output_type": "stream",
     "text": [
      "HMNT0071 - 2017-06-15 11.35.00 [x=43008,y=6656,w=512,h=512].tif\n",
      "HMNT0071_bis - 2017-06-15 12.25.18 [x=48128,y=11264,w=512,h=512].tif\n",
      "HMNT0073_bis - 2017-06-17 22.30.07 [x=38400,y=10752,w=512,h=512].tif\n",
      "HMNT0100 - 2017-07-14 07.59.28 [x=65536,y=4096,w=512,h=512].tif\n",
      "HMNT0106 - 2017-06-11 09.45.50 [x=70656,y=27648,w=512,h=512].tif\n",
      "HMNT0106_bis - 2017-06-11 10.39.38 [x=33792,y=12800,w=512,h=512].tif\n",
      "HMNT0109 - 2017-06-18 16.13.47 [x=59392,y=5120,w=512,h=512].tif\n",
      "HMNT0109_bis - 2017-06-18 17.10.12 [x=61952,y=15872,w=512,h=512].tif\n",
      "HMNT0110 - 2017-06-16 21.50.50 [x=49664,y=6144,w=512,h=512].tif\n",
      "HMNT0116 - 2017-06-11 13.05.47 [x=46080,y=12288,w=512,h=512].tif\n"
     ]
    }
   ],
   "source": [
    "for i in range(len(slide_id)):\n",
    "    print(tile_id[i][0])"
   ]
  },
  {
   "cell_type": "code",
   "execution_count": 7,
   "metadata": {},
   "outputs": [],
   "source": [
    "# re.split(\"=|,\",'TCGA-G3-AAV6-01Z-00-DX1.F4D85E6A-7F71-47D4-BEB6-984FDD218A9F [x=10240,y=19968,w=512,h=512].tif')"
   ]
  },
  {
   "cell_type": "code",
   "execution_count": 8,
   "metadata": {},
   "outputs": [],
   "source": [
    "# print(mask_id[0:3])"
   ]
  },
  {
   "cell_type": "code",
   "execution_count": 9,
   "metadata": {},
   "outputs": [],
   "source": [
    "def main(s:int=0):\n",
    "    for i in tqdm(range(s, len(tile_id))): # for each slide / bag\n",
    "        print(\"\\n\"+str(i)+\": \"+slide_id[i])\n",
    "        if os.path.isfile(os.path.join(path_patch_anno, slide_id[i]+'.h5')):\n",
    "            print(\"Already existed. Source folder is\" + path_tiles_qp.split(\"/\")[-1] + \".\")\n",
    "        else:\n",
    "            with h5py.File(os.path.join(path_patch_anno, slide_id[i]+'.h5'), \"w\") as f: # create a h5 file for each bag\n",
    "                init = True\n",
    "\n",
    "                for j in tqdm(range(len(tile_id[i]))): # for each patch\n",
    "                    mask = np.asarray(Image.open(os.path.join(path_tiles_qp, slide_id[i], tile_id[i][j]\n",
    "                                                              .replace(\".tif\",\"-labelled.png\"))))\n",
    "                    if sum(sum(mask==1)) >= 32768: # only annotated higher than 50% will be considered\n",
    "                        # coords\n",
    "                        x = int(re.split(\"=|,\",tile_id[i][j])[1])//2\n",
    "                        y = int(re.split(\"=|,\",tile_id[i][j])[3])//2\n",
    "                        if init:\n",
    "                            coords = [x, y]\n",
    "                        else:\n",
    "                            coords = np.vstack((coords, [x, y]))\n",
    "\n",
    "                        # imgs\n",
    "                        if init:\n",
    "                            imgs = np.asarray(Image.open(os.path.join(path_tiles_qp, slide_id[i], tile_id[i][j])))\n",
    "                            imgs = imgs[np.newaxis, :, :, :]\n",
    "                            init = False\n",
    "                        else:\n",
    "                            imgs = np.vstack((imgs, np.asarray(Image.open(os.path.join(path_tiles_qp, slide_id[i], \n",
    "                                                                                       tile_id[i][j])))[np.newaxis, :, :, :]))\n",
    "                coords = coords.astype(np.int32) # convert from string to int32\n",
    "                f.create_dataset(\"coords\", data=coords)\n",
    "                imgs = f.create_dataset(\"imgs\", data=imgs)\n",
    "                \n",
    "                with openslide.OpenSlide(os.path.join(path_slide, slide_id[i]+\".ndpi\")) as f_ref:\n",
    "                    # f_ref.properties['aperio.AppMag']\n",
    "                    if (f_ref.properties[openslide.PROPERTY_NAME_OBJECTIVE_POWER] == '20'): # 20x  ~= 0.5 or 1.0 (not correctly recognized)\n",
    "                        downsample = 1.0\n",
    "                    elif (f_ref.properties[openslide.PROPERTY_NAME_OBJECTIVE_POWER] == '40'): # 40x pixelsize ~= 0.25\n",
    "                        downsample = 2.0\n",
    "                    else:\n",
    "                        raise Exception(\"The highest magnification should be 20x or 40x.\")\n",
    "                        \n",
    "                    # coords have no attributes\n",
    "                    imgs.attrs[\"downsample\"] = np.asarray([np.float64(1), np.float(1)])\n",
    "                    imgs.attrs[\"downsampled_level_dim\"] = np.asarray([np.int64(math.floor(f_ref.dimensions[0]/downsample)), np.int64(math.floor(f_ref.dimensions[1]/downsample))])\n",
    "                    imgs.attrs[\"level_dim\"] = np.asarray(f_ref.dimensions)\n",
    "                    imgs.attrs[\"patch_level\"] = np.int64(0)\n",
    "                    imgs.attrs[\"wsi_name\"] = slide_id[i]\n"
   ]
  },
  {
   "cell_type": "code",
   "execution_count": null,
   "metadata": {},
   "outputs": [
    {
     "data": {
      "application/vnd.jupyter.widget-view+json": {
       "model_id": "8c7041134a224db191ce6b3e768b5fe4",
       "version_major": 2,
       "version_minor": 0
      },
      "text/plain": [
       "HBox(children=(FloatProgress(value=0.0, max=10.0), HTML(value='')))"
      ]
     },
     "metadata": {},
     "output_type": "display_data"
    },
    {
     "name": "stdout",
     "output_type": "stream",
     "text": [
      "\n",
      "0: HMNT0071 - 2017-06-15 11.35.00\n"
     ]
    },
    {
     "data": {
      "application/vnd.jupyter.widget-view+json": {
       "model_id": "5bfd6b62d1814fafbea21952cead6c82",
       "version_major": 2,
       "version_minor": 0
      },
      "text/plain": [
       "HBox(children=(FloatProgress(value=0.0, max=20732.0), HTML(value='')))"
      ]
     },
     "metadata": {},
     "output_type": "display_data"
    }
   ],
   "source": [
    "main(0)"
   ]
  },
  {
   "cell_type": "code",
   "execution_count": null,
   "metadata": {},
   "outputs": [],
   "source": []
  }
 ],
 "metadata": {
  "kernelspec": {
   "display_name": "Python 3",
   "language": "python",
   "name": "python3"
  },
  "language_info": {
   "codemirror_mode": {
    "name": "ipython",
    "version": 3
   },
   "file_extension": ".py",
   "mimetype": "text/x-python",
   "name": "python",
   "nbconvert_exporter": "python",
   "pygments_lexer": "ipython3",
   "version": "3.8.5"
  }
 },
 "nbformat": 4,
 "nbformat_minor": 4
}
