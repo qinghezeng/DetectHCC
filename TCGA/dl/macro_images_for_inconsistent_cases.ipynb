{
 "cells": [
  {
   "cell_type": "code",
   "execution_count": 2,
   "metadata": {},
   "outputs": [],
   "source": [
    "import os\n",
    "import pandas as pd\n",
    "from shutil import copy\n",
    "from glob import glob"
   ]
  },
  {
   "cell_type": "code",
   "execution_count": 35,
   "metadata": {},
   "outputs": [
    {
     "name": "stdout",
     "output_type": "stream",
     "text": [
      "/media/visiopharm5/WDGold/deeplearning/MIL/CLAM/eval_results/EVAL_tcga_hcc_tumor_349_Ribas_10G_Interferon_Gamma_cv_highvsrest_622_CLAM_50_s1_cv/fold_8_optimal_tcga.csv\n"
     ]
    }
   ],
   "source": [
    "root = \"/media/visiopharm5/WDGold/deeplearning/MIL/CLAM/eval_results\"\n",
    "target = \"EVAL_tcga_hcc_tumor_349_Ribas_10G_Interferon_Gamma_cv_highvsrest_622_CLAM_50_s1_cv\"\n",
    "fold = 8\n",
    "downscale = 64\n",
    "path = os.path.join(root, target)\n",
    "file = os.path.join(path, \"fold_\"+str(fold)+\"_optimal_tcga.csv\")\n",
    "print(file)"
   ]
  },
  {
   "cell_type": "code",
   "execution_count": 36,
   "metadata": {},
   "outputs": [
    {
     "name": "stdout",
     "output_type": "stream",
     "text": [
      "(67, 8)\n"
     ]
    },
    {
     "data": {
      "text/html": [
       "<div>\n",
       "<style scoped>\n",
       "    .dataframe tbody tr th:only-of-type {\n",
       "        vertical-align: middle;\n",
       "    }\n",
       "\n",
       "    .dataframe tbody tr th {\n",
       "        vertical-align: top;\n",
       "    }\n",
       "\n",
       "    .dataframe thead th {\n",
       "        text-align: right;\n",
       "    }\n",
       "</style>\n",
       "<table border=\"1\" class=\"dataframe\">\n",
       "  <thead>\n",
       "    <tr style=\"text-align: right;\">\n",
       "      <th></th>\n",
       "      <th>slide_id</th>\n",
       "      <th>Y</th>\n",
       "      <th>Y_hat</th>\n",
       "      <th>p_0</th>\n",
       "      <th>p_1</th>\n",
       "      <th>case_id</th>\n",
       "      <th>consistent_prediction</th>\n",
       "      <th>true_prediction</th>\n",
       "    </tr>\n",
       "  </thead>\n",
       "  <tbody>\n",
       "    <tr>\n",
       "      <th>0</th>\n",
       "      <td>TCGA-BW-A5NQ-01Z-00-DX1.F5543010-CBEB-4BA3-840...</td>\n",
       "      <td>1.0</td>\n",
       "      <td>1.0</td>\n",
       "      <td>0.184121</td>\n",
       "      <td>0.815879</td>\n",
       "      <td>TCGA-BW-</td>\n",
       "      <td>NaN</td>\n",
       "      <td>True</td>\n",
       "    </tr>\n",
       "    <tr>\n",
       "      <th>1</th>\n",
       "      <td>TCGA-DD-AACB-01Z-00-DX1.D4A7846E-8B38-4FBA-BAB...</td>\n",
       "      <td>1.0</td>\n",
       "      <td>1.0</td>\n",
       "      <td>0.318679</td>\n",
       "      <td>0.681321</td>\n",
       "      <td>TCGA-DD-</td>\n",
       "      <td>False</td>\n",
       "      <td>True</td>\n",
       "    </tr>\n",
       "    <tr>\n",
       "      <th>2</th>\n",
       "      <td>TCGA-RG-A7D4-01Z-00-DX1.B0C04199-EBD0-4E2A-AA3...</td>\n",
       "      <td>1.0</td>\n",
       "      <td>1.0</td>\n",
       "      <td>0.476119</td>\n",
       "      <td>0.523881</td>\n",
       "      <td>TCGA-RG-</td>\n",
       "      <td>NaN</td>\n",
       "      <td>True</td>\n",
       "    </tr>\n",
       "    <tr>\n",
       "      <th>3</th>\n",
       "      <td>TCGA-ED-A5KG-01Z-00-DX1.76622341-8248-4674-87B...</td>\n",
       "      <td>1.0</td>\n",
       "      <td>1.0</td>\n",
       "      <td>0.338607</td>\n",
       "      <td>0.661393</td>\n",
       "      <td>TCGA-ED-</td>\n",
       "      <td>False</td>\n",
       "      <td>True</td>\n",
       "    </tr>\n",
       "    <tr>\n",
       "      <th>4</th>\n",
       "      <td>TCGA-2Y-A9GT-01Z-00-DX1.30666775-3556-4DFE-A5E...</td>\n",
       "      <td>1.0</td>\n",
       "      <td>0.0</td>\n",
       "      <td>0.942960</td>\n",
       "      <td>0.057040</td>\n",
       "      <td>TCGA-2Y-</td>\n",
       "      <td>True</td>\n",
       "      <td>False</td>\n",
       "    </tr>\n",
       "  </tbody>\n",
       "</table>\n",
       "</div>"
      ],
      "text/plain": [
       "                                            slide_id    Y  Y_hat       p_0  \\\n",
       "0  TCGA-BW-A5NQ-01Z-00-DX1.F5543010-CBEB-4BA3-840...  1.0    1.0  0.184121   \n",
       "1  TCGA-DD-AACB-01Z-00-DX1.D4A7846E-8B38-4FBA-BAB...  1.0    1.0  0.318679   \n",
       "2  TCGA-RG-A7D4-01Z-00-DX1.B0C04199-EBD0-4E2A-AA3...  1.0    1.0  0.476119   \n",
       "3  TCGA-ED-A5KG-01Z-00-DX1.76622341-8248-4674-87B...  1.0    1.0  0.338607   \n",
       "4  TCGA-2Y-A9GT-01Z-00-DX1.30666775-3556-4DFE-A5E...  1.0    0.0  0.942960   \n",
       "\n",
       "        p_1   case_id consistent_prediction  true_prediction  \n",
       "0  0.815879  TCGA-BW-                   NaN             True  \n",
       "1  0.681321  TCGA-DD-                 False             True  \n",
       "2  0.523881  TCGA-RG-                   NaN             True  \n",
       "3  0.661393  TCGA-ED-                 False             True  \n",
       "4  0.057040  TCGA-2Y-                  True            False  "
      ]
     },
     "metadata": {},
     "output_type": "display_data"
    }
   ],
   "source": [
    "df = pd.read_csv(file)\n",
    "print(df.shape)\n",
    "display(df.head(5))"
   ]
  },
  {
   "cell_type": "code",
   "execution_count": 37,
   "metadata": {},
   "outputs": [],
   "source": [
    "os.makedirs(os.path.join(path, \"inconsistent_slides_\"+str(fold)+\"_\"+str(downscale)))\n",
    "os.makedirs(os.path.join(path, \"inconsistent_slides_\"+str(fold)+\"_\"+str(downscale), \"ClusterH\"))\n",
    "os.makedirs(os.path.join(path, \"inconsistent_slides_\"+str(fold)+\"_\"+str(downscale), \"ClusterML\"))"
   ]
  },
  {
   "cell_type": "code",
   "execution_count": 38,
   "metadata": {},
   "outputs": [],
   "source": [
    "for i in range(df.shape[0]):\n",
    "    if df.iloc[i, 6] == False:\n",
    "        if df.iloc[i, 1]  == 1.0:\n",
    "#             # before running the script \"subfolder_attention_maps(tp_tn_fn_fp)\"\n",
    "#             copy(os.path.join(path, \"attention_maps_\"+str(fold)+\"_\"+str(downscale), df.iloc[i, 0]+'_snapshot.png'), \n",
    "#                  os.path.join(path, \"inconsistent_slides_\"+str(fold)+\"_\"+str(downscale), \"ClusterH\"))\n",
    "            # after running the script \"subfolder_attention_maps(tp_tn_fn_fp)\"\n",
    "            copy(glob(os.path.join(path, \"attention_maps_\"+str(fold)+\"_\"+str(downscale), '*', df.iloc[i, 0]+'_snapshot.png'))[0], \n",
    "                 os.path.join(path, \"inconsistent_slides_\"+str(fold)+\"_\"+str(downscale), \"ClusterH\"))\n",
    "        else:\n",
    "#             # before running the script \"subfolder_attention_maps(tp_tn_fn_fp)\"\n",
    "#             copy(os.path.join(path, \"attention_maps_\"+str(fold)+\"_\"+str(downscale), df.iloc[i, 0]+'_snapshot.png'), \n",
    "#                  os.path.join(path, \"inconsistent_slides_\"+str(fold)+\"_\"+str(downscale), \"ClusterML\"))\n",
    "            # after running the script \"subfolder_attention_maps(tp_tn_fn_fp)\"\n",
    "            copy(glob(os.path.join(path, \"attention_maps_\"+str(fold)+\"_\"+str(downscale), '*', df.iloc[i, 0]+'_snapshot.png'))[0], \n",
    "                 os.path.join(path, \"inconsistent_slides_\"+str(fold)+\"_\"+str(downscale), \"ClusterML\"))"
   ]
  },
  {
   "cell_type": "code",
   "execution_count": null,
   "metadata": {},
   "outputs": [],
   "source": []
  },
  {
   "cell_type": "code",
   "execution_count": null,
   "metadata": {},
   "outputs": [],
   "source": []
  },
  {
   "cell_type": "code",
   "execution_count": null,
   "metadata": {},
   "outputs": [],
   "source": []
  }
 ],
 "metadata": {
  "kernelspec": {
   "display_name": "Python 3",
   "language": "python",
   "name": "python3"
  },
  "language_info": {
   "codemirror_mode": {
    "name": "ipython",
    "version": 3
   },
   "file_extension": ".py",
   "mimetype": "text/x-python",
   "name": "python",
   "nbconvert_exporter": "python",
   "pygments_lexer": "ipython3",
   "version": "3.7.7"
  }
 },
 "nbformat": 4,
 "nbformat_minor": 4
}
