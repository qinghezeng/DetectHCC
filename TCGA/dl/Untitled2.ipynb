{
 "cells": [
  {
   "cell_type": "code",
   "execution_count": 42,
   "metadata": {},
   "outputs": [],
   "source": [
    "import os\n",
    "import pandas as pd\n",
    "import openslide\n",
    "from PIL import ImageDraw"
   ]
  },
  {
   "cell_type": "code",
   "execution_count": 16,
   "metadata": {},
   "outputs": [
    {
     "name": "stdout",
     "output_type": "stream",
     "text": [
      "(698, 5)\n"
     ]
    },
    {
     "data": {
      "text/html": [
       "<div>\n",
       "<style scoped>\n",
       "    .dataframe tbody tr th:only-of-type {\n",
       "        vertical-align: middle;\n",
       "    }\n",
       "\n",
       "    .dataframe tbody tr th {\n",
       "        vertical-align: top;\n",
       "    }\n",
       "\n",
       "    .dataframe thead th {\n",
       "        text-align: right;\n",
       "    }\n",
       "</style>\n",
       "<table border=\"1\" class=\"dataframe\">\n",
       "  <thead>\n",
       "    <tr style=\"text-align: right;\">\n",
       "      <th></th>\n",
       "      <th>id</th>\n",
       "      <th>type</th>\n",
       "      <th>shape</th>\n",
       "      <th>x</th>\n",
       "      <th>y</th>\n",
       "    </tr>\n",
       "  </thead>\n",
       "  <tbody>\n",
       "    <tr>\n",
       "      <th>0</th>\n",
       "      <td>0</td>\n",
       "      <td>T</td>\n",
       "      <td>freehand</td>\n",
       "      <td>22245196</td>\n",
       "      <td>-10921624</td>\n",
       "    </tr>\n",
       "    <tr>\n",
       "      <th>1</th>\n",
       "      <td>0</td>\n",
       "      <td>T</td>\n",
       "      <td>freehand</td>\n",
       "      <td>21983674</td>\n",
       "      <td>-10921624</td>\n",
       "    </tr>\n",
       "    <tr>\n",
       "      <th>2</th>\n",
       "      <td>0</td>\n",
       "      <td>T</td>\n",
       "      <td>freehand</td>\n",
       "      <td>21591380</td>\n",
       "      <td>-10921624</td>\n",
       "    </tr>\n",
       "    <tr>\n",
       "      <th>3</th>\n",
       "      <td>0</td>\n",
       "      <td>T</td>\n",
       "      <td>freehand</td>\n",
       "      <td>21094476</td>\n",
       "      <td>-10921624</td>\n",
       "    </tr>\n",
       "    <tr>\n",
       "      <th>4</th>\n",
       "      <td>0</td>\n",
       "      <td>T</td>\n",
       "      <td>freehand</td>\n",
       "      <td>20545268</td>\n",
       "      <td>-10921624</td>\n",
       "    </tr>\n",
       "  </tbody>\n",
       "</table>\n",
       "</div>"
      ],
      "text/plain": [
       "   id type     shape         x         y\n",
       "0   0    T  freehand  22245196 -10921624\n",
       "1   0    T  freehand  21983674 -10921624\n",
       "2   0    T  freehand  21591380 -10921624\n",
       "3   0    T  freehand  21094476 -10921624\n",
       "4   0    T  freehand  20545268 -10921624"
      ]
     },
     "metadata": {},
     "output_type": "display_data"
    }
   ],
   "source": [
    "root = \"/media/visiopharm5/WDGold/deeplearning/Hepatocarcinomes/slides_annotations_hammamatsu\"\n",
    "\n",
    "# load slide\n",
    "f = openslide.OpenSlide(os.path.join(root, 'HMNT1747_bis - 2017-07-07 19.50.24.ndpi'))\n",
    "properties=f.properties\n",
    "\n",
    "# read annotations from csv\n",
    "df = pd.read_csv(os.path.join(root, 'HMNT1747_bis_anno_df.csv'), index_col=0)\n",
    "print(df.shape)\n",
    "display(df.head(5))"
   ]
  },
  {
   "cell_type": "markdown",
   "metadata": {},
   "source": [
    "### load annotations (csv)"
   ]
  },
  {
   "cell_type": "code",
   "execution_count": 28,
   "metadata": {},
   "outputs": [
    {
     "name": "stdout",
     "output_type": "stream",
     "text": [
      "offset_x =  14114285\n",
      "offset_y =  -190072\n",
      "mpp_x =  0.2288329519450801\n",
      "mpp_y =  0.2288329519450801\n",
      "Width= 123008, Height= 101376\n"
     ]
    }
   ],
   "source": [
    "# properties to translate coordinates of annotations\n",
    "offsetx = int(properties['hamamatsu.XOffsetFromSlideCentre'])\n",
    "print(\"offset_x = \", offsetx)\n",
    "offsety = int(properties['hamamatsu.YOffsetFromSlideCentre'])\n",
    "print(\"offset_y = \", offsety)\n",
    "mppx = float(properties[openslide.PROPERTY_NAME_MPP_X])\n",
    "print(\"mpp_x = \", mppx)\n",
    "mppy = float(properties[openslide.PROPERTY_NAME_MPP_Y])\n",
    "print(\"mpp_y = \", mppy)\n",
    "\n",
    "\n",
    "# return the level for downsampling. Here : 40x/20=2\n",
    "mag=float(properties[openslide.PROPERTY_NAME_OBJECTIVE_POWER])\n",
    "downsample=mag/20\n",
    "\n",
    "patch_size = 512\n",
    "\n",
    "(width, height)=f.dimensions\n",
    "print(\"Width= \"+str(width)+\", Height= \"+str(height))\n",
    "w = width / downsample\n",
    "h = height / downsample"
   ]
  },
  {
   "cell_type": "code",
   "execution_count": 29,
   "metadata": {},
   "outputs": [],
   "source": [
    "# translate annotations\n",
    "list_point = []\n",
    "types = []\n",
    "shapes = []\n",
    "anno = 0 # counter\n",
    "list_point.append([])\n",
    "\n",
    "for i in range(len(df)):\n",
    "    if (df['id'][i] != anno):\n",
    "        list_point.append([])\n",
    "        types.append(df['type'][i-1])\n",
    "        shapes.append(df['shape'][i-1])\n",
    "        anno = anno + 1\n",
    "    xcor = df['x'][i]\n",
    "    xcor = xcor - offsetx\n",
    "    xcor = xcor /1000 / mppx / downsample / patch_size + w/2\n",
    "    ycor = df['y'][i]\n",
    "    ycor = ycor - offsety\n",
    "    ycor = ycor /1000 / mppy / downsample / patch_size + h/2\n",
    "    list_point[anno].append((xcor, ycor))\n",
    "\n",
    "types.append(df['type'][len(df)-1])\n",
    "shapes.append(df['shape'][len(df)-1])"
   ]
  },
  {
   "cell_type": "code",
   "execution_count": 35,
   "metadata": {},
   "outputs": [],
   "source": [
    "for type in types:\n",
    "    if type != 'T' and type != 'NT':\n",
    "        raise ValueError('Error in annotation type.')"
   ]
  },
  {
   "cell_type": "code",
   "execution_count": null,
   "metadata": {},
   "outputs": [],
   "source": [
    "if all(type == 'T' for type in types) or all(type == 'NT' for type in types):\n",
    "    raise ValueError('Annotation error: only have 1 class.')"
   ]
  },
  {
   "cell_type": "code",
   "execution_count": null,
   "metadata": {},
   "outputs": [],
   "source": [
    "mask_anno = Image.new('L', (w, h))\n",
    "draw = ImageDraw.Draw(mask_anno)\n",
    "for i in range((anno+1)):\n",
    "    if shapes[i] == 'freehand':\n",
    "        if types[i] == 'T':\n",
    "            draw.polygon(list_point[i], outline=255, fill=255)\n",
    "        elif types[i] == 'NT':\n",
    "            draw.polygon(list_point[i], outline=100, fill=100)\n",
    "        else:\n",
    "            raise ValueError('Annotation error: unknown class.')\n",
    "    else:\n",
    "        raise ValueError('Annotation error: not polygon.')\n",
    "#mask_anno.save(out_path + '_grayscale_annotation_.png')\n",
    "\n",
    "# resize the annotation to match the prob map\n",
    "crop = mask_anno.crop((0, 0, heatmap.shape[1]*times, heatmap.shape[0]*times))\n",
    "# default \"resample\" is set to Image.NEAREST. \n",
    "# NEAREST is the best here (downsampling) on all overall indicators with fine annotation. \n",
    "# The AUC and accuracy could be very different. Also depends on your PIL version.\n",
    "annotations_im = crop.resize((heatmap.shape[1], heatmap.shape[0]))\n",
    "annotations_im.save(out_path + '_annotation.png')\n",
    "annotations = np.asanyarray(annotations_im)"
   ]
  },
  {
   "cell_type": "code",
   "execution_count": 78,
   "metadata": {},
   "outputs": [],
   "source": [
    "import math\n",
    "import numpy as np"
   ]
  },
  {
   "cell_type": "code",
   "execution_count": 149,
   "metadata": {},
   "outputs": [],
   "source": [
    "slide_name = \"TCGA-K7-A6G5-01Z-00-DX1.6681DB17-D11D-40DE-829C-2DB425BD3083.h5\""
   ]
  },
  {
   "cell_type": "code",
   "execution_count": 133,
   "metadata": {},
   "outputs": [
    {
     "name": "stdout",
     "output_type": "stream",
     "text": [
      "[107249  89559]\n",
      "[53624 44779]\n",
      "[1. 1.]\n",
      "TCGA-K7-A6G5-01Z-00-DX1.6681DB17-D11D-40DE-829C-2DB425BD3083\n"
     ]
    }
   ],
   "source": [
    "with openslide.OpenSlide(os.path.join(\"/media/visiopharm5/WDGold/deeplearning/MIL/CLAM/data/data_tcga_hcc\", \n",
    "                                      slide_name[:-3]+\".svs\")) as f:\n",
    "    print(np.asarray(f.dimensions))\n",
    "\n",
    "    if (f.properties['aperio.AppMag'] == '20'): # 20x  ~= 0.5 or 1.0 (not correctly recognized)\n",
    "        downsample = 1.0\n",
    "    elif (f.properties['aperio.AppMag'] == '40'): # 40x pixelsize ~= 0.25\n",
    "        downsample = 2.0\n",
    "    else:\n",
    "        raise Exception(\"The highest magnification should be 20x or 40x.\")\n",
    "\n",
    "    print(np.asarray([np.int64(math.floor(f.dimensions[0]/downsample)), np.int64(math.floor(f.dimensions[1]/downsample))]))\n",
    "\n",
    "    print(np.asarray([np.float64(1), np.float64(1)]))\n",
    "\n",
    "    print(slide_name[:-3])"
   ]
  },
  {
   "cell_type": "code",
   "execution_count": 150,
   "metadata": {},
   "outputs": [
    {
     "name": "stdout",
     "output_type": "stream",
     "text": [
      "downsample\n",
      "[1. 1.]\n",
      "downsampled_level_dim\n",
      "[53624 44779]\n",
      "level_dim\n",
      "[107249  89559]\n",
      "patch_level\n",
      "0\n",
      "wsi_name\n",
      "TCGA-K7-A6G5-01Z-00-DX1.6681DB17-D11D-40DE-829C-2DB425BD3083\n"
     ]
    }
   ],
   "source": [
    "import h5py\n",
    "filename = os.path.join(\"/media/visiopharm5/WDGold/deeplearning/MIL/CLAM/results/patches\", \n",
    "                        slide_name)\n",
    "\n",
    "with h5py.File(filename, \"r\") as f_ref:\n",
    "    for k in range(len(f_ref[\"imgs\"].attrs.values())): # coords have no attributes\n",
    "        print(list(f_ref[\"imgs\"].attrs.keys())[k])\n",
    "        print(list(f_ref[\"imgs\"].attrs.values())[k])"
   ]
  },
  {
   "cell_type": "code",
   "execution_count": 146,
   "metadata": {},
   "outputs": [],
   "source": [
    "slide_name = \"HMNT0116_bis - 2017-06-11 13.48.07.h5\""
   ]
  },
  {
   "cell_type": "code",
   "execution_count": 143,
   "metadata": {},
   "outputs": [
    {
     "name": "stdout",
     "output_type": "stream",
     "text": [
      "[99200 96768]\n",
      "[49600 48384]\n",
      "[1. 1.]\n",
      "HMNT0116_bis - 2017-06-11 13.48.07\n"
     ]
    }
   ],
   "source": [
    "with openslide.OpenSlide(os.path.join('/media/visiopharm5/WDGold/deeplearning/Hepatocarcinomes/slides_annotations_hammamatsu', slide_name[:-3]+'.ndpi')) as f:\n",
    "\n",
    "    print(np.asarray(f.dimensions))\n",
    "    \n",
    "    if (f.properties[openslide.PROPERTY_NAME_OBJECTIVE_POWER] == '20'): # 20x  ~= 0.5 or 1.0 (not correctly recognized)\n",
    "        downsample = 1.0\n",
    "    elif (f.properties[openslide.PROPERTY_NAME_OBJECTIVE_POWER] == '40'): # 40x pixelsize ~= 0.25\n",
    "        downsample = 2.0\n",
    "    else:\n",
    "        raise Exception(\"The highest magnification should be 20x or 40x.\")\n",
    "\n",
    "    print(np.asarray([np.int64(math.floor(f.dimensions[0]/downsample)), np.int64(math.floor(f.dimensions[1]/downsample))]))\n",
    "\n",
    "    print(np.asarray([np.float64(1), np.float64(1)]))\n",
    "\n",
    "    print(slide_name[:-3])"
   ]
  },
  {
   "cell_type": "code",
   "execution_count": 148,
   "metadata": {},
   "outputs": [
    {
     "name": "stdout",
     "output_type": "stream",
     "text": [
      "downsample\n",
      "[1. 1.]\n",
      "downsampled_level_dim\n",
      "[49600 48384]\n",
      "level_dim\n",
      "[99200 96768]\n",
      "patch_level\n",
      "0\n",
      "wsi_name\n",
      "HMNT0116_bis - 2017-06-11 13.48.07\n"
     ]
    }
   ],
   "source": [
    "filename = os.path.join(\"/media/visiopharm5/WDRed(backup)/clam_extension/results/patches_mondor_tumor\", \n",
    "                        slide_name)\n",
    "\n",
    "with h5py.File(filename, \"r\") as f_ref:\n",
    "    for k in range(len(f_ref[\"imgs\"].attrs.values())): # coords have no attributes\n",
    "        print(list(f_ref[\"imgs\"].attrs.keys())[k])\n",
    "        print(list(f_ref[\"imgs\"].attrs.values())[k])"
   ]
  },
  {
   "cell_type": "code",
   "execution_count": null,
   "metadata": {},
   "outputs": [],
   "source": []
  },
  {
   "cell_type": "code",
   "execution_count": 40,
   "metadata": {},
   "outputs": [
    {
     "ename": "TypeError",
     "evalue": "Not a location id (invalid object ID)",
     "output_type": "error",
     "traceback": [
      "\u001b[0;31m---------------------------------------------------------------------------\u001b[0m",
      "\u001b[0;31mTypeError\u001b[0m                                 Traceback (most recent call last)",
      "\u001b[0;32m~/anaconda3/lib/python3.8/site-packages/IPython/core/formatters.py\u001b[0m in \u001b[0;36m__call__\u001b[0;34m(self, obj)\u001b[0m\n\u001b[1;32m    700\u001b[0m                 \u001b[0mtype_pprinters\u001b[0m\u001b[0;34m=\u001b[0m\u001b[0mself\u001b[0m\u001b[0;34m.\u001b[0m\u001b[0mtype_printers\u001b[0m\u001b[0;34m,\u001b[0m\u001b[0;34m\u001b[0m\u001b[0;34m\u001b[0m\u001b[0m\n\u001b[1;32m    701\u001b[0m                 deferred_pprinters=self.deferred_printers)\n\u001b[0;32m--> 702\u001b[0;31m             \u001b[0mprinter\u001b[0m\u001b[0;34m.\u001b[0m\u001b[0mpretty\u001b[0m\u001b[0;34m(\u001b[0m\u001b[0mobj\u001b[0m\u001b[0;34m)\u001b[0m\u001b[0;34m\u001b[0m\u001b[0;34m\u001b[0m\u001b[0m\n\u001b[0m\u001b[1;32m    703\u001b[0m             \u001b[0mprinter\u001b[0m\u001b[0;34m.\u001b[0m\u001b[0mflush\u001b[0m\u001b[0;34m(\u001b[0m\u001b[0;34m)\u001b[0m\u001b[0;34m\u001b[0m\u001b[0;34m\u001b[0m\u001b[0m\n\u001b[1;32m    704\u001b[0m             \u001b[0;32mreturn\u001b[0m \u001b[0mstream\u001b[0m\u001b[0;34m.\u001b[0m\u001b[0mgetvalue\u001b[0m\u001b[0;34m(\u001b[0m\u001b[0;34m)\u001b[0m\u001b[0;34m\u001b[0m\u001b[0;34m\u001b[0m\u001b[0m\n",
      "\u001b[0;32m~/anaconda3/lib/python3.8/site-packages/IPython/lib/pretty.py\u001b[0m in \u001b[0;36mpretty\u001b[0;34m(self, obj)\u001b[0m\n\u001b[1;32m    392\u001b[0m                         \u001b[0;32mif\u001b[0m \u001b[0mcls\u001b[0m \u001b[0;32mis\u001b[0m \u001b[0;32mnot\u001b[0m \u001b[0mobject\u001b[0m\u001b[0;31m \u001b[0m\u001b[0;31m\\\u001b[0m\u001b[0;34m\u001b[0m\u001b[0;34m\u001b[0m\u001b[0m\n\u001b[1;32m    393\u001b[0m                                 \u001b[0;32mand\u001b[0m \u001b[0mcallable\u001b[0m\u001b[0;34m(\u001b[0m\u001b[0mcls\u001b[0m\u001b[0;34m.\u001b[0m\u001b[0m__dict__\u001b[0m\u001b[0;34m.\u001b[0m\u001b[0mget\u001b[0m\u001b[0;34m(\u001b[0m\u001b[0;34m'__repr__'\u001b[0m\u001b[0;34m)\u001b[0m\u001b[0;34m)\u001b[0m\u001b[0;34m:\u001b[0m\u001b[0;34m\u001b[0m\u001b[0;34m\u001b[0m\u001b[0m\n\u001b[0;32m--> 394\u001b[0;31m                             \u001b[0;32mreturn\u001b[0m \u001b[0m_repr_pprint\u001b[0m\u001b[0;34m(\u001b[0m\u001b[0mobj\u001b[0m\u001b[0;34m,\u001b[0m \u001b[0mself\u001b[0m\u001b[0;34m,\u001b[0m \u001b[0mcycle\u001b[0m\u001b[0;34m)\u001b[0m\u001b[0;34m\u001b[0m\u001b[0;34m\u001b[0m\u001b[0m\n\u001b[0m\u001b[1;32m    395\u001b[0m \u001b[0;34m\u001b[0m\u001b[0m\n\u001b[1;32m    396\u001b[0m             \u001b[0;32mreturn\u001b[0m \u001b[0m_default_pprint\u001b[0m\u001b[0;34m(\u001b[0m\u001b[0mobj\u001b[0m\u001b[0;34m,\u001b[0m \u001b[0mself\u001b[0m\u001b[0;34m,\u001b[0m \u001b[0mcycle\u001b[0m\u001b[0;34m)\u001b[0m\u001b[0;34m\u001b[0m\u001b[0;34m\u001b[0m\u001b[0m\n",
      "\u001b[0;32m~/anaconda3/lib/python3.8/site-packages/IPython/lib/pretty.py\u001b[0m in \u001b[0;36m_repr_pprint\u001b[0;34m(obj, p, cycle)\u001b[0m\n\u001b[1;32m    698\u001b[0m     \u001b[0;34m\"\"\"A pprint that just redirects to the normal repr function.\"\"\"\u001b[0m\u001b[0;34m\u001b[0m\u001b[0;34m\u001b[0m\u001b[0m\n\u001b[1;32m    699\u001b[0m     \u001b[0;31m# Find newlines and replace them with p.break_()\u001b[0m\u001b[0;34m\u001b[0m\u001b[0;34m\u001b[0m\u001b[0;34m\u001b[0m\u001b[0m\n\u001b[0;32m--> 700\u001b[0;31m     \u001b[0moutput\u001b[0m \u001b[0;34m=\u001b[0m \u001b[0mrepr\u001b[0m\u001b[0;34m(\u001b[0m\u001b[0mobj\u001b[0m\u001b[0;34m)\u001b[0m\u001b[0;34m\u001b[0m\u001b[0;34m\u001b[0m\u001b[0m\n\u001b[0m\u001b[1;32m    701\u001b[0m     \u001b[0mlines\u001b[0m \u001b[0;34m=\u001b[0m \u001b[0moutput\u001b[0m\u001b[0;34m.\u001b[0m\u001b[0msplitlines\u001b[0m\u001b[0;34m(\u001b[0m\u001b[0;34m)\u001b[0m\u001b[0;34m\u001b[0m\u001b[0;34m\u001b[0m\u001b[0m\n\u001b[1;32m    702\u001b[0m     \u001b[0;32mwith\u001b[0m \u001b[0mp\u001b[0m\u001b[0;34m.\u001b[0m\u001b[0mgroup\u001b[0m\u001b[0;34m(\u001b[0m\u001b[0;34m)\u001b[0m\u001b[0;34m:\u001b[0m\u001b[0;34m\u001b[0m\u001b[0;34m\u001b[0m\u001b[0m\n",
      "\u001b[0;32m~/anaconda3/lib/python3.8/site-packages/h5py/_hl/base.py\u001b[0m in \u001b[0;36m__str__\u001b[0;34m(self)\u001b[0m\n\u001b[1;32m    324\u001b[0m \u001b[0;32mclass\u001b[0m \u001b[0mKeysViewHDF5\u001b[0m\u001b[0;34m(\u001b[0m\u001b[0mKeysView\u001b[0m\u001b[0;34m)\u001b[0m\u001b[0;34m:\u001b[0m\u001b[0;34m\u001b[0m\u001b[0;34m\u001b[0m\u001b[0m\n\u001b[1;32m    325\u001b[0m     \u001b[0;32mdef\u001b[0m \u001b[0m__str__\u001b[0m\u001b[0;34m(\u001b[0m\u001b[0mself\u001b[0m\u001b[0;34m)\u001b[0m\u001b[0;34m:\u001b[0m\u001b[0;34m\u001b[0m\u001b[0;34m\u001b[0m\u001b[0m\n\u001b[0;32m--> 326\u001b[0;31m         \u001b[0;32mreturn\u001b[0m \u001b[0;34m\"<KeysViewHDF5 {}>\"\u001b[0m\u001b[0;34m.\u001b[0m\u001b[0mformat\u001b[0m\u001b[0;34m(\u001b[0m\u001b[0mlist\u001b[0m\u001b[0;34m(\u001b[0m\u001b[0mself\u001b[0m\u001b[0;34m)\u001b[0m\u001b[0;34m)\u001b[0m\u001b[0;34m\u001b[0m\u001b[0;34m\u001b[0m\u001b[0m\n\u001b[0m\u001b[1;32m    327\u001b[0m \u001b[0;34m\u001b[0m\u001b[0m\n\u001b[1;32m    328\u001b[0m     \u001b[0m__repr__\u001b[0m \u001b[0;34m=\u001b[0m \u001b[0m__str__\u001b[0m\u001b[0;34m\u001b[0m\u001b[0;34m\u001b[0m\u001b[0m\n",
      "\u001b[0;32m~/anaconda3/lib/python3.8/_collections_abc.py\u001b[0m in \u001b[0;36m__iter__\u001b[0;34m(self)\u001b[0m\n\u001b[1;32m    718\u001b[0m \u001b[0;34m\u001b[0m\u001b[0m\n\u001b[1;32m    719\u001b[0m     \u001b[0;32mdef\u001b[0m \u001b[0m__iter__\u001b[0m\u001b[0;34m(\u001b[0m\u001b[0mself\u001b[0m\u001b[0;34m)\u001b[0m\u001b[0;34m:\u001b[0m\u001b[0;34m\u001b[0m\u001b[0;34m\u001b[0m\u001b[0m\n\u001b[0;32m--> 720\u001b[0;31m         \u001b[0;32myield\u001b[0m \u001b[0;32mfrom\u001b[0m \u001b[0mself\u001b[0m\u001b[0;34m.\u001b[0m\u001b[0m_mapping\u001b[0m\u001b[0;34m\u001b[0m\u001b[0;34m\u001b[0m\u001b[0m\n\u001b[0m\u001b[1;32m    721\u001b[0m \u001b[0;34m\u001b[0m\u001b[0m\n\u001b[1;32m    722\u001b[0m \u001b[0mKeysView\u001b[0m\u001b[0;34m.\u001b[0m\u001b[0mregister\u001b[0m\u001b[0;34m(\u001b[0m\u001b[0mdict_keys\u001b[0m\u001b[0;34m)\u001b[0m\u001b[0;34m\u001b[0m\u001b[0;34m\u001b[0m\u001b[0m\n",
      "\u001b[0;32m~/anaconda3/lib/python3.8/site-packages/h5py/_hl/group.py\u001b[0m in \u001b[0;36m__iter__\u001b[0;34m(self)\u001b[0m\n\u001b[1;32m    407\u001b[0m     \u001b[0;32mdef\u001b[0m \u001b[0m__iter__\u001b[0m\u001b[0;34m(\u001b[0m\u001b[0mself\u001b[0m\u001b[0;34m)\u001b[0m\u001b[0;34m:\u001b[0m\u001b[0;34m\u001b[0m\u001b[0;34m\u001b[0m\u001b[0m\n\u001b[1;32m    408\u001b[0m         \u001b[0;34m\"\"\" Iterate over member names \"\"\"\u001b[0m\u001b[0;34m\u001b[0m\u001b[0;34m\u001b[0m\u001b[0m\n\u001b[0;32m--> 409\u001b[0;31m         \u001b[0;32mfor\u001b[0m \u001b[0mx\u001b[0m \u001b[0;32min\u001b[0m \u001b[0mself\u001b[0m\u001b[0;34m.\u001b[0m\u001b[0mid\u001b[0m\u001b[0;34m.\u001b[0m\u001b[0m__iter__\u001b[0m\u001b[0;34m(\u001b[0m\u001b[0;34m)\u001b[0m\u001b[0;34m:\u001b[0m\u001b[0;34m\u001b[0m\u001b[0;34m\u001b[0m\u001b[0m\n\u001b[0m\u001b[1;32m    410\u001b[0m             \u001b[0;32myield\u001b[0m \u001b[0mself\u001b[0m\u001b[0;34m.\u001b[0m\u001b[0m_d\u001b[0m\u001b[0;34m(\u001b[0m\u001b[0mx\u001b[0m\u001b[0;34m)\u001b[0m\u001b[0;34m\u001b[0m\u001b[0;34m\u001b[0m\u001b[0m\n\u001b[1;32m    411\u001b[0m \u001b[0;34m\u001b[0m\u001b[0m\n",
      "\u001b[0;32mh5py/h5g.pyx\u001b[0m in \u001b[0;36mh5py.h5g.GroupID.__iter__\u001b[0;34m()\u001b[0m\n",
      "\u001b[0;32mh5py/h5g.pyx\u001b[0m in \u001b[0;36mh5py.h5g.GroupID.__iter__\u001b[0;34m()\u001b[0m\n",
      "\u001b[0;32mh5py/h5g.pyx\u001b[0m in \u001b[0;36mh5py.h5g.GroupIter.__init__\u001b[0;34m()\u001b[0m\n",
      "\u001b[0;32mh5py/_objects.pyx\u001b[0m in \u001b[0;36mh5py._objects.with_phil.wrapper\u001b[0;34m()\u001b[0m\n",
      "\u001b[0;32mh5py/_objects.pyx\u001b[0m in \u001b[0;36mh5py._objects.with_phil.wrapper\u001b[0;34m()\u001b[0m\n",
      "\u001b[0;32mh5py/h5g.pyx\u001b[0m in \u001b[0;36mh5py.h5g.GroupID.get_num_objs\u001b[0;34m()\u001b[0m\n",
      "\u001b[0;31mTypeError\u001b[0m: Not a location id (invalid object ID)"
     ]
    }
   ],
   "source": [
    "for root, dirs,files in os.walk()"
   ]
  },
  {
   "cell_type": "code",
   "execution_count": 62,
   "metadata": {},
   "outputs": [
    {
     "data": {
      "text/plain": [
       "['HMNT0472_P672772_03 - 2019-11-05 01.18.44.qpdata',\n",
       " 'HMNT0516_P622582-05-HES.qpdata',\n",
       " 'HMNT1781_P705474_01_HES - 2018-11-01 10.08.24.qpdata',\n",
       " 'HMNT1885_P703089_B02_HES - 2018-11-01 09.22.15.qpdata',\n",
       " 'HMNT2066_P734242_01_HES - 2018-11-01 16.13.44.qpdata',\n",
       " 'HMNT2321_757692-05-HES.qpdata',\n",
       " 'HMNT2326_P758321-B04-HES.qpdata',\n",
       " 'HMNT2386_P761529-C01-HES.qpdata',\n",
       " 'HMNT2387_P761471-A03-HES.qpdata',\n",
       " 'HMNT2409_P764429_B01_HE - 2020-07-23 16.26.41.qpdata',\n",
       " 'HMNT2410_P764429_C06_HE - 2020-07-23 16.13.36.qpdata']"
      ]
     },
     "metadata": {},
     "output_type": "display_data"
    },
    {
     "name": "stdout",
     "output_type": "stream",
     "text": [
      "11\n"
     ]
    }
   ],
   "source": [
    "list_anno = []\n",
    "for roots, dirs, files in os.walk(\"/media/visiopharm5/WDGold/deeplearning/Hepatocarcinomes/slides_annotations_hammamatsu\"):\n",
    "    for file in files:\n",
    "        if file.endswith(\".qpdata\"):\n",
    "            list_anno.append(file)\n",
    "display(list_anno)\n",
    "print(len(list_anno))"
   ]
  },
  {
   "cell_type": "code",
   "execution_count": 70,
   "metadata": {},
   "outputs": [
    {
     "name": "stdout",
     "output_type": "stream",
     "text": [
      "HMNT2410_P764429_C06_HE - 2020-07-23 16.13.36.ndpi\n",
      "HMNT0472_P672772_03 - 2019-11-05 01.18.44.ndpi\n",
      "HMNT2409_P764429_B01_HE - 2020-07-23 16.26.41.ndpi\n",
      "HMNT1781_P705474_01_HES - 2018-11-01 10.08.24.ndpi\n",
      "HMNT1885_P703089_B02_HES - 2018-11-01 09.22.15.ndpi\n",
      "HMNT2066_P734242_01_HES - 2018-11-01 16.13.44.ndpi\n"
     ]
    }
   ],
   "source": [
    "from shutil import copyfile\n",
    "import json\n",
    "for root, dirs, files in os.walk(\"/media/visiopharm5/WDRed(backup)/qupath_mondor/data\", topdown=False):\n",
    "    for file in files:\n",
    "        if file == \"server.json\":\n",
    "            with open(os.path.join(root, file)) as f:\n",
    "                server = json.load(f)\n",
    "                if server[\"metadata\"][\"name\"].split(\"/\")[-1].replace(\".ndpi\", \".qpdata\") in list_anno:\n",
    "                    print(server[\"metadata\"][\"name\"])\n",
    "                    copyfile(os.path.join(\"/media/visiopharm5/WDGold/deeplearning/Hepatocarcinomes/slides_annotations_hammamatsu\", server[\"metadata\"][\"name\"].split(\"/\")[-1].replace(\".ndpi\", \".qpdata\")), os.path.join(root, \"data.qpdata\"))"
   ]
  },
  {
   "cell_type": "code",
   "execution_count": null,
   "metadata": {},
   "outputs": [],
   "source": []
  },
  {
   "cell_type": "code",
   "execution_count": 236,
   "metadata": {},
   "outputs": [
    {
     "name": "stdout",
     "output_type": "stream",
     "text": [
      "266\n",
      "261\n",
      "['HMNT0981 - 2017-06-30 09.41.17.ndpi', 'HMNT0280 - 2017-06-16 01.16.02.ndpi', 'HMNT0576 - 2017-06-05 00.39.43.ndpi', 'HMNT0129_bis - 2017-06-17 17.15.39.ndpi', 'HMNT2387_P761471-A03-HES.svs']\n"
     ]
    }
   ],
   "source": [
    "list_name_wsi = []\n",
    "import json\n",
    "import random\n",
    "for root, dirs, files in os.walk(\"/media/visiopharm5/WDRed(backup)/qupath_mondor/data\", topdown=False):\n",
    "    if root == \"/media/visiopharm5/WDRed(backup)/qupath_mondor/data\":\n",
    "        print(len(dirs))\n",
    "    for file in files:\n",
    "        if file == \"server.json\":\n",
    "            with open(os.path.join(root, file)) as f:\n",
    "                server = json.load(f)\n",
    "                list_name_wsi.append(server[\"metadata\"][\"name\"].split(\"/\")[-1])\n",
    "set_name_wsi = set(list_name_wsi) # sometimes the folders in data will be more than the amount of acutal images in the project, if you have ever deleted items\n",
    "print(len(set_name_wsi)) \n",
    "print(random.sample(set_name_wsi, 5))"
   ]
  },
  {
   "cell_type": "code",
   "execution_count": 243,
   "metadata": {},
   "outputs": [
    {
     "name": "stdout",
     "output_type": "stream",
     "text": [
      "261\n",
      "['HMNT1029_bis - 2017-07-07 20.46.39', 'HMNT0573_bis - 2017-06-03 02.10.00', 'HMNT0488 - 2017-06-19 06.25.29', 'HMNT0750 - 2017-06-08 19.38.54', 'HMNT0393_bis - 2017-06-17 02.22.36']\n"
     ]
    }
   ],
   "source": [
    "list_name_wsi = []\n",
    "for name in set_name_wsi:\n",
    "    list_name_wsi.append(name.replace(\".ndpi\", \".svs\").replace(\".svs\", \"\"))\n",
    "print(len(list_name_wsi))\n",
    "print(list_name_wsi[:5])"
   ]
  },
  {
   "cell_type": "code",
   "execution_count": 244,
   "metadata": {},
   "outputs": [
    {
     "data": {
      "text/plain": [
       "{'HMNT0073 - 2017-06-17 21.44.27',\n",
       " 'HMNT0505_bis - 2017-06-09 20.24.57',\n",
       " 'HMNT0578 - 2017-06-11 05.30.04',\n",
       " 'HMNT0885 - 2017-06-16 23.34.59'}"
      ]
     },
     "execution_count": 244,
     "metadata": {},
     "output_type": "execute_result"
    }
   ],
   "source": [
    "set(list_name_wsi) - set(dir1)"
   ]
  },
  {
   "cell_type": "code",
   "execution_count": 237,
   "metadata": {},
   "outputs": [
    {
     "name": "stdout",
     "output_type": "stream",
     "text": [
      "86\n",
      "86\n",
      "['HMNT0399_bis - 2017-06-16 19.11.30', 'HMNT0401 - 2017-06-02 15.22.36', 'HMNT0401_bis - 2017-06-02 16.04.57', 'HMNT0409_bis - 2017-07-16 06.00.19', 'HMNT0439 - 2017-06-17 23.17.22']\n",
      "[31640, 33910, 37752, 44898, 38582]\n"
     ]
    }
   ],
   "source": [
    "import os\n",
    "path1 = '/media/visiopharm5/WDRed(backup)/qupath_mondor/copying'\n",
    "\n",
    "dir1 = []\n",
    "lenfile1 = []\n",
    "for root, dirs, files in os.walk(path1):\n",
    "    if root != path1:\n",
    "        dir1.append(root.split(path1+\"/\")[1])\n",
    "        lenfile1.append(len(files))\n",
    "print(len(dir1))\n",
    "print(len(lenfile1))\n",
    "print(dir1[0:5])\n",
    "print(lenfile1[0:5])"
   ]
  },
  {
   "cell_type": "code",
   "execution_count": 238,
   "metadata": {},
   "outputs": [
    {
     "name": "stdout",
     "output_type": "stream",
     "text": [
      "143\n",
      "143\n"
     ]
    }
   ],
   "source": [
    "path1 = '/media/visiopharm5/WDRed(backup)/qupath_mondor/encoded'\n",
    "for root, dirs, files in os.walk(path1):\n",
    "    if root != path1:\n",
    "        dir1.append(root.split(path1+\"/\")[1])\n",
    "        lenfile1.append(len(files))\n",
    "print(len(dir1))\n",
    "print(len(lenfile1))"
   ]
  },
  {
   "cell_type": "code",
   "execution_count": 239,
   "metadata": {},
   "outputs": [
    {
     "name": "stdout",
     "output_type": "stream",
     "text": [
      "144\n",
      "144\n"
     ]
    }
   ],
   "source": [
    "path1 = '/media/visiopharm5/WDRed(backup)/qupath_mondor/tiles_20x_256'\n",
    "for root, dirs, files in os.walk(path1):\n",
    "    if root != path1:\n",
    "        dir1.append(root.split(path1+\"/\")[1])\n",
    "        lenfile1.append(len(files))\n",
    "print(len(dir1))\n",
    "print(len(lenfile1))"
   ]
  },
  {
   "cell_type": "code",
   "execution_count": 240,
   "metadata": {},
   "outputs": [
    {
     "name": "stdout",
     "output_type": "stream",
     "text": [
      "257\n",
      "257\n"
     ]
    }
   ],
   "source": [
    "path1 = '/media/visiopharm5/WDRed(backup)/qupath_mondor/tmp'\n",
    "for root, dirs, files in os.walk(path1):\n",
    "    if root != path1:\n",
    "        dir1.append(root.split(path1+\"/\")[1])\n",
    "        lenfile1.append(len(files))\n",
    "print(len(dir1))\n",
    "print(len(lenfile1))"
   ]
  },
  {
   "cell_type": "code",
   "execution_count": 284,
   "metadata": {},
   "outputs": [
    {
     "name": "stdout",
     "output_type": "stream",
     "text": [
      "(257, 2)\n"
     ]
    },
    {
     "data": {
      "text/html": [
       "<div>\n",
       "<style scoped>\n",
       "    .dataframe tbody tr th:only-of-type {\n",
       "        vertical-align: middle;\n",
       "    }\n",
       "\n",
       "    .dataframe tbody tr th {\n",
       "        vertical-align: top;\n",
       "    }\n",
       "\n",
       "    .dataframe thead th {\n",
       "        text-align: right;\n",
       "    }\n",
       "</style>\n",
       "<table border=\"1\" class=\"dataframe\">\n",
       "  <thead>\n",
       "    <tr style=\"text-align: right;\">\n",
       "      <th></th>\n",
       "      <th>name</th>\n",
       "      <th>ntiles</th>\n",
       "    </tr>\n",
       "  </thead>\n",
       "  <tbody>\n",
       "    <tr>\n",
       "      <th>0</th>\n",
       "      <td>HMNT0399_bis - 2017-06-16 19.11.30</td>\n",
       "      <td>31640</td>\n",
       "    </tr>\n",
       "    <tr>\n",
       "      <th>1</th>\n",
       "      <td>HMNT0401 - 2017-06-02 15.22.36</td>\n",
       "      <td>33910</td>\n",
       "    </tr>\n",
       "    <tr>\n",
       "      <th>2</th>\n",
       "      <td>HMNT0401_bis - 2017-06-02 16.04.57</td>\n",
       "      <td>37752</td>\n",
       "    </tr>\n",
       "    <tr>\n",
       "      <th>3</th>\n",
       "      <td>HMNT0409_bis - 2017-07-16 06.00.19</td>\n",
       "      <td>44898</td>\n",
       "    </tr>\n",
       "    <tr>\n",
       "      <th>4</th>\n",
       "      <td>HMNT0439 - 2017-06-17 23.17.22</td>\n",
       "      <td>38582</td>\n",
       "    </tr>\n",
       "  </tbody>\n",
       "</table>\n",
       "</div>"
      ],
      "text/plain": [
       "                                 name ntiles\n",
       "0  HMNT0399_bis - 2017-06-16 19.11.30  31640\n",
       "1      HMNT0401 - 2017-06-02 15.22.36  33910\n",
       "2  HMNT0401_bis - 2017-06-02 16.04.57  37752\n",
       "3  HMNT0409_bis - 2017-07-16 06.00.19  44898\n",
       "4      HMNT0439 - 2017-06-17 23.17.22  38582"
      ]
     },
     "metadata": {},
     "output_type": "display_data"
    }
   ],
   "source": [
    "import pandas as pd\n",
    "df1 = pd.DataFrame([dir1, lenfile1]).T\n",
    "df1.columns = [\"name\", \"ntiles\"]\n",
    "print(df1.shape)\n",
    "display(df1.head(5))"
   ]
  },
  {
   "cell_type": "code",
   "execution_count": 285,
   "metadata": {},
   "outputs": [
    {
     "name": "stdout",
     "output_type": "stream",
     "text": [
      "62\n",
      "['HMNT0135_bis - 2017-06-11 15.22.53', 'HMNT0280 - 2017-06-16 01.16.02', 'HMNT0071 - 2017-06-15 11.35.00', 'HMNT0071_bis - 2017-06-15 12.25.18', 'HMNT0073_bis - 2017-06-17 22.30.07']\n"
     ]
    }
   ],
   "source": [
    "list_h5 = []\n",
    "for root, dirs, files in os.walk(\"/media/visiopharm5/WDRed(backup)/clam_extension/results/patches_mondor_tumor\"):\n",
    "    for file in files:\n",
    "        list_h5.append(file.split(\".h5\")[0])\n",
    "print(len(list_h5))\n",
    "print(list_h5[:5])"
   ]
  },
  {
   "cell_type": "code",
   "execution_count": 286,
   "metadata": {},
   "outputs": [
    {
     "name": "stdout",
     "output_type": "stream",
     "text": [
      "(257, 3)\n"
     ]
    },
    {
     "data": {
      "text/html": [
       "<div>\n",
       "<style scoped>\n",
       "    .dataframe tbody tr th:only-of-type {\n",
       "        vertical-align: middle;\n",
       "    }\n",
       "\n",
       "    .dataframe tbody tr th {\n",
       "        vertical-align: top;\n",
       "    }\n",
       "\n",
       "    .dataframe thead th {\n",
       "        text-align: right;\n",
       "    }\n",
       "</style>\n",
       "<table border=\"1\" class=\"dataframe\">\n",
       "  <thead>\n",
       "    <tr style=\"text-align: right;\">\n",
       "      <th></th>\n",
       "      <th>name</th>\n",
       "      <th>ntiles</th>\n",
       "      <th>h5</th>\n",
       "    </tr>\n",
       "  </thead>\n",
       "  <tbody>\n",
       "    <tr>\n",
       "      <th>0</th>\n",
       "      <td>HMNT0399_bis - 2017-06-16 19.11.30</td>\n",
       "      <td>31640</td>\n",
       "      <td>yes</td>\n",
       "    </tr>\n",
       "    <tr>\n",
       "      <th>1</th>\n",
       "      <td>HMNT0401 - 2017-06-02 15.22.36</td>\n",
       "      <td>33910</td>\n",
       "      <td>yes</td>\n",
       "    </tr>\n",
       "    <tr>\n",
       "      <th>2</th>\n",
       "      <td>HMNT0401_bis - 2017-06-02 16.04.57</td>\n",
       "      <td>37752</td>\n",
       "      <td>yes</td>\n",
       "    </tr>\n",
       "    <tr>\n",
       "      <th>3</th>\n",
       "      <td>HMNT0409_bis - 2017-07-16 06.00.19</td>\n",
       "      <td>44898</td>\n",
       "      <td>NaN</td>\n",
       "    </tr>\n",
       "    <tr>\n",
       "      <th>4</th>\n",
       "      <td>HMNT0439 - 2017-06-17 23.17.22</td>\n",
       "      <td>38582</td>\n",
       "      <td>yes</td>\n",
       "    </tr>\n",
       "  </tbody>\n",
       "</table>\n",
       "</div>"
      ],
      "text/plain": [
       "                                 name ntiles   h5\n",
       "0  HMNT0399_bis - 2017-06-16 19.11.30  31640  yes\n",
       "1      HMNT0401 - 2017-06-02 15.22.36  33910  yes\n",
       "2  HMNT0401_bis - 2017-06-02 16.04.57  37752  yes\n",
       "3  HMNT0409_bis - 2017-07-16 06.00.19  44898  NaN\n",
       "4      HMNT0439 - 2017-06-17 23.17.22  38582  yes"
      ]
     },
     "metadata": {},
     "output_type": "display_data"
    }
   ],
   "source": [
    "df1.loc[df1[df1[\"name\"].isin(list_h5)].index, 'h5'] = \"yes\"\n",
    "print(df1.shape)\n",
    "display(df1.head(5))"
   ]
  },
  {
   "cell_type": "code",
   "execution_count": 287,
   "metadata": {},
   "outputs": [
    {
     "data": {
      "text/plain": [
       "set()"
      ]
     },
     "execution_count": 287,
     "metadata": {},
     "output_type": "execute_result"
    }
   ],
   "source": [
    "set(list_h5)-set(df[df1[\"h5\"]==\"yes\"].name)"
   ]
  },
  {
   "cell_type": "code",
   "execution_count": 272,
   "metadata": {},
   "outputs": [
    {
     "name": "stdout",
     "output_type": "stream",
     "text": [
      "47\n",
      "47\n",
      "['HMNT0578_bis - 2017-06-11 06.12.53', 'HMNT0399_bis - 2017-06-16 19.11.30', 'HMNT0401 - 2017-06-02 15.22.36', 'HMNT0401_bis - 2017-06-02 16.04.57', 'HMNT0409_bis - 2017-07-16 06.00.19']\n",
      "[20007, 31640, 33910, 37752, 44898]\n"
     ]
    }
   ],
   "source": [
    "path2 = '/media/visiopharm5/Storage/tiles'\n",
    "\n",
    "dir2 = []\n",
    "lenfile2 = []\n",
    "for root, dirs, files in os.walk(path2):\n",
    "    if root != path2:\n",
    "        dir2.append(root.split(path2+\"/\")[1])\n",
    "        lenfile2.append(len(files))\n",
    "print(len(dir2))\n",
    "print(len(lenfile2))\n",
    "print(dir2[0:5])\n",
    "print(lenfile2[0:5])"
   ]
  },
  {
   "cell_type": "code",
   "execution_count": 274,
   "metadata": {},
   "outputs": [
    {
     "name": "stdout",
     "output_type": "stream",
     "text": [
      "61\n",
      "61\n"
     ]
    }
   ],
   "source": [
    "path2 = '/media/visiopharm5/Qinghe/tiles'\n",
    "for root, dirs, files in os.walk(path2):\n",
    "    if root != path2:\n",
    "        dir2.append(root.split(path2+\"/\")[1])\n",
    "        lenfile2.append(len(files))\n",
    "print(len(dir2))\n",
    "print(len(lenfile2))"
   ]
  },
  {
   "cell_type": "code",
   "execution_count": 288,
   "metadata": {},
   "outputs": [
    {
     "name": "stdout",
     "output_type": "stream",
     "text": [
      "(61, 2)\n"
     ]
    },
    {
     "data": {
      "text/html": [
       "<div>\n",
       "<style scoped>\n",
       "    .dataframe tbody tr th:only-of-type {\n",
       "        vertical-align: middle;\n",
       "    }\n",
       "\n",
       "    .dataframe tbody tr th {\n",
       "        vertical-align: top;\n",
       "    }\n",
       "\n",
       "    .dataframe thead th {\n",
       "        text-align: right;\n",
       "    }\n",
       "</style>\n",
       "<table border=\"1\" class=\"dataframe\">\n",
       "  <thead>\n",
       "    <tr style=\"text-align: right;\">\n",
       "      <th></th>\n",
       "      <th>name</th>\n",
       "      <th>ntiles_copied</th>\n",
       "    </tr>\n",
       "  </thead>\n",
       "  <tbody>\n",
       "    <tr>\n",
       "      <th>0</th>\n",
       "      <td>HMNT0578_bis - 2017-06-11 06.12.53</td>\n",
       "      <td>20007</td>\n",
       "    </tr>\n",
       "    <tr>\n",
       "      <th>1</th>\n",
       "      <td>HMNT0399_bis - 2017-06-16 19.11.30</td>\n",
       "      <td>31640</td>\n",
       "    </tr>\n",
       "    <tr>\n",
       "      <th>2</th>\n",
       "      <td>HMNT0401 - 2017-06-02 15.22.36</td>\n",
       "      <td>33910</td>\n",
       "    </tr>\n",
       "    <tr>\n",
       "      <th>3</th>\n",
       "      <td>HMNT0401_bis - 2017-06-02 16.04.57</td>\n",
       "      <td>37752</td>\n",
       "    </tr>\n",
       "    <tr>\n",
       "      <th>4</th>\n",
       "      <td>HMNT0409_bis - 2017-07-16 06.00.19</td>\n",
       "      <td>44898</td>\n",
       "    </tr>\n",
       "  </tbody>\n",
       "</table>\n",
       "</div>"
      ],
      "text/plain": [
       "                                 name ntiles_copied\n",
       "0  HMNT0578_bis - 2017-06-11 06.12.53         20007\n",
       "1  HMNT0399_bis - 2017-06-16 19.11.30         31640\n",
       "2      HMNT0401 - 2017-06-02 15.22.36         33910\n",
       "3  HMNT0401_bis - 2017-06-02 16.04.57         37752\n",
       "4  HMNT0409_bis - 2017-07-16 06.00.19         44898"
      ]
     },
     "metadata": {},
     "output_type": "display_data"
    }
   ],
   "source": [
    "df2 = pd.DataFrame([dir2, lenfile2]).T\n",
    "df2.columns = [\"name\", \"ntiles_copied\"]\n",
    "print(df2.shape)\n",
    "display(df2.head(5))"
   ]
  },
  {
   "cell_type": "code",
   "execution_count": 289,
   "metadata": {},
   "outputs": [
    {
     "name": "stdout",
     "output_type": "stream",
     "text": [
      "(257, 4)\n"
     ]
    },
    {
     "data": {
      "text/html": [
       "<div>\n",
       "<style scoped>\n",
       "    .dataframe tbody tr th:only-of-type {\n",
       "        vertical-align: middle;\n",
       "    }\n",
       "\n",
       "    .dataframe tbody tr th {\n",
       "        vertical-align: top;\n",
       "    }\n",
       "\n",
       "    .dataframe thead th {\n",
       "        text-align: right;\n",
       "    }\n",
       "</style>\n",
       "<table border=\"1\" class=\"dataframe\">\n",
       "  <thead>\n",
       "    <tr style=\"text-align: right;\">\n",
       "      <th></th>\n",
       "      <th>name</th>\n",
       "      <th>ntiles</th>\n",
       "      <th>h5</th>\n",
       "      <th>ntiles_copied</th>\n",
       "    </tr>\n",
       "  </thead>\n",
       "  <tbody>\n",
       "    <tr>\n",
       "      <th>0</th>\n",
       "      <td>HMNT0399_bis - 2017-06-16 19.11.30</td>\n",
       "      <td>31640</td>\n",
       "      <td>yes</td>\n",
       "      <td>31640</td>\n",
       "    </tr>\n",
       "    <tr>\n",
       "      <th>1</th>\n",
       "      <td>HMNT0401 - 2017-06-02 15.22.36</td>\n",
       "      <td>33910</td>\n",
       "      <td>yes</td>\n",
       "      <td>33910</td>\n",
       "    </tr>\n",
       "    <tr>\n",
       "      <th>2</th>\n",
       "      <td>HMNT0401_bis - 2017-06-02 16.04.57</td>\n",
       "      <td>37752</td>\n",
       "      <td>yes</td>\n",
       "      <td>37752</td>\n",
       "    </tr>\n",
       "    <tr>\n",
       "      <th>3</th>\n",
       "      <td>HMNT0409_bis - 2017-07-16 06.00.19</td>\n",
       "      <td>44898</td>\n",
       "      <td>NaN</td>\n",
       "      <td>44898</td>\n",
       "    </tr>\n",
       "    <tr>\n",
       "      <th>4</th>\n",
       "      <td>HMNT0439 - 2017-06-17 23.17.22</td>\n",
       "      <td>38582</td>\n",
       "      <td>yes</td>\n",
       "      <td>38582</td>\n",
       "    </tr>\n",
       "    <tr>\n",
       "      <th>5</th>\n",
       "      <td>HMNT0439_bis - 2017-06-18 00.05.21</td>\n",
       "      <td>52450</td>\n",
       "      <td>yes</td>\n",
       "      <td>52450</td>\n",
       "    </tr>\n",
       "    <tr>\n",
       "      <th>6</th>\n",
       "      <td>HMNT0441_bis - 2017-06-04 15.48.14</td>\n",
       "      <td>80618</td>\n",
       "      <td>yes</td>\n",
       "      <td>80618</td>\n",
       "    </tr>\n",
       "    <tr>\n",
       "      <th>7</th>\n",
       "      <td>HMNT0454 - 2017-06-04 23.33.35</td>\n",
       "      <td>37674</td>\n",
       "      <td>NaN</td>\n",
       "      <td>37674</td>\n",
       "    </tr>\n",
       "    <tr>\n",
       "      <th>8</th>\n",
       "      <td>HMNT0454_bis - 2017-06-05 00.11.21</td>\n",
       "      <td>33448</td>\n",
       "      <td>NaN</td>\n",
       "      <td>33448</td>\n",
       "    </tr>\n",
       "    <tr>\n",
       "      <th>9</th>\n",
       "      <td>HMNT0455 - 2017-06-16 16.46.38</td>\n",
       "      <td>20582</td>\n",
       "      <td>NaN</td>\n",
       "      <td>20582</td>\n",
       "    </tr>\n",
       "  </tbody>\n",
       "</table>\n",
       "</div>"
      ],
      "text/plain": [
       "                                 name ntiles   h5 ntiles_copied\n",
       "0  HMNT0399_bis - 2017-06-16 19.11.30  31640  yes         31640\n",
       "1      HMNT0401 - 2017-06-02 15.22.36  33910  yes         33910\n",
       "2  HMNT0401_bis - 2017-06-02 16.04.57  37752  yes         37752\n",
       "3  HMNT0409_bis - 2017-07-16 06.00.19  44898  NaN         44898\n",
       "4      HMNT0439 - 2017-06-17 23.17.22  38582  yes         38582\n",
       "5  HMNT0439_bis - 2017-06-18 00.05.21  52450  yes         52450\n",
       "6  HMNT0441_bis - 2017-06-04 15.48.14  80618  yes         80618\n",
       "7      HMNT0454 - 2017-06-04 23.33.35  37674  NaN         37674\n",
       "8  HMNT0454_bis - 2017-06-05 00.11.21  33448  NaN         33448\n",
       "9      HMNT0455 - 2017-06-16 16.46.38  20582  NaN         20582"
      ]
     },
     "metadata": {},
     "output_type": "display_data"
    }
   ],
   "source": [
    "df = df1.merge(df2, on=\"name\", how = 'outer')\n",
    "print(df.shape)\n",
    "display(df.head(10))"
   ]
  },
  {
   "cell_type": "code",
   "execution_count": 185,
   "metadata": {},
   "outputs": [],
   "source": [
    "dir11 = []\n",
    "import re\n",
    "for dirs in dir1:\n",
    "    if dirs!= '/media/visiopharm5/WDRed(backup)/qupath_mondor/tmp' and dirs!= '/media/visiopharm5/WDRed(backup)/qupath_mondor/copying':\n",
    "        dir11.append(re.split('/media/visiopharm5/WDRed\\(backup\\)/qupath_mondor/tmp/|/media/visiopharm5/WDRed\\(backup\\)/qupath_mondor/copying/', dirs)[1])"
   ]
  },
  {
   "cell_type": "code",
   "execution_count": 166,
   "metadata": {},
   "outputs": [],
   "source": [
    "dir22 = []\n",
    "import re\n",
    "for dirs in dir2:\n",
    "    if dirs!= '/media/visiopharm5/Storage/tiles' and dirs!='/media/visiopharm5/B489-8CF1' and dirs!='/media/visiopharm5/Qinghe':\n",
    "        dir22.append(re.split('/media/visiopharm5/Storage/tiles/|/media/visiopharm5/B489\\-8CF1/|/media/visiopharm5/Qinghe/', dirs)[1])"
   ]
  },
  {
   "cell_type": "code",
   "execution_count": 197,
   "metadata": {},
   "outputs": [
    {
     "name": "stdout",
     "output_type": "stream",
     "text": [
      "199\n",
      "74\n"
     ]
    }
   ],
   "source": [
    "print(len(dir1))\n",
    "print(len(dir2))"
   ]
  },
  {
   "cell_type": "code",
   "execution_count": 170,
   "metadata": {},
   "outputs": [
    {
     "data": {
      "text/html": [
       "<div>\n",
       "<style scoped>\n",
       "    .dataframe tbody tr th:only-of-type {\n",
       "        vertical-align: middle;\n",
       "    }\n",
       "\n",
       "    .dataframe tbody tr th {\n",
       "        vertical-align: top;\n",
       "    }\n",
       "\n",
       "    .dataframe thead th {\n",
       "        text-align: right;\n",
       "    }\n",
       "</style>\n",
       "<table border=\"1\" class=\"dataframe\">\n",
       "  <thead>\n",
       "    <tr style=\"text-align: right;\">\n",
       "      <th></th>\n",
       "      <th>name</th>\n",
       "      <th>ntiles</th>\n",
       "    </tr>\n",
       "  </thead>\n",
       "  <tbody>\n",
       "    <tr>\n",
       "      <th>0</th>\n",
       "      <td>HMNT0102 - 2017-07-14 22.14.28</td>\n",
       "      <td>13904</td>\n",
       "    </tr>\n",
       "    <tr>\n",
       "      <th>1</th>\n",
       "      <td>HMNT0102_bis - 2017-07-14 23.08.05</td>\n",
       "      <td>35700</td>\n",
       "    </tr>\n",
       "    <tr>\n",
       "      <th>2</th>\n",
       "      <td>HMNT0110_bis - 2017-06-16 22.39.18</td>\n",
       "      <td>74556</td>\n",
       "    </tr>\n",
       "    <tr>\n",
       "      <th>3</th>\n",
       "      <td>HMNT0111 - 2017-06-17 19.47.09</td>\n",
       "      <td>52824</td>\n",
       "    </tr>\n",
       "    <tr>\n",
       "      <th>4</th>\n",
       "      <td>HMNT0111_bis - 2017-06-17 20.43.09</td>\n",
       "      <td>45326</td>\n",
       "    </tr>\n",
       "  </tbody>\n",
       "</table>\n",
       "</div>"
      ],
      "text/plain": [
       "                                 name ntiles\n",
       "0      HMNT0102 - 2017-07-14 22.14.28  13904\n",
       "1  HMNT0102_bis - 2017-07-14 23.08.05  35700\n",
       "2  HMNT0110_bis - 2017-06-16 22.39.18  74556\n",
       "3      HMNT0111 - 2017-06-17 19.47.09  52824\n",
       "4  HMNT0111_bis - 2017-06-17 20.43.09  45326"
      ]
     },
     "metadata": {},
     "output_type": "display_data"
    },
    {
     "name": "stdout",
     "output_type": "stream",
     "text": [
      "(113, 2)\n",
      "(102, 2)\n"
     ]
    }
   ],
   "source": [
    "display(df2.head(5))\n",
    "print(df1.shape)\n",
    "print(df2.shape)"
   ]
  },
  {
   "cell_type": "code",
   "execution_count": 144,
   "metadata": {},
   "outputs": [
    {
     "data": {
      "text/html": [
       "<div>\n",
       "<style scoped>\n",
       "    .dataframe tbody tr th:only-of-type {\n",
       "        vertical-align: middle;\n",
       "    }\n",
       "\n",
       "    .dataframe tbody tr th {\n",
       "        vertical-align: top;\n",
       "    }\n",
       "\n",
       "    .dataframe thead th {\n",
       "        text-align: right;\n",
       "    }\n",
       "</style>\n",
       "<table border=\"1\" class=\"dataframe\">\n",
       "  <thead>\n",
       "    <tr style=\"text-align: right;\">\n",
       "      <th></th>\n",
       "      <th>name</th>\n",
       "      <th>ntiles</th>\n",
       "    </tr>\n",
       "  </thead>\n",
       "  <tbody>\n",
       "    <tr>\n",
       "      <th>66</th>\n",
       "      <td>HMNT0574_bis - 2017-06-13 20.19.34</td>\n",
       "      <td>27140</td>\n",
       "    </tr>\n",
       "  </tbody>\n",
       "</table>\n",
       "</div>"
      ],
      "text/plain": [
       "                                  name ntiles\n",
       "66  HMNT0574_bis - 2017-06-13 20.19.34  27140"
      ]
     },
     "execution_count": 144,
     "metadata": {},
     "output_type": "execute_result"
    }
   ],
   "source": [
    "df2[df2[\"name\"]==\"HMNT0574_bis - 2017-06-13 20.19.34\"]"
   ]
  },
  {
   "cell_type": "code",
   "execution_count": 142,
   "metadata": {},
   "outputs": [
    {
     "data": {
      "text/plain": [
       "name      object\n",
       "ntiles    object\n",
       "dtype: object"
      ]
     },
     "execution_count": 142,
     "metadata": {},
     "output_type": "execute_result"
    }
   ],
   "source": [
    "df2.dtypes"
   ]
  },
  {
   "cell_type": "code",
   "execution_count": 148,
   "metadata": {},
   "outputs": [
    {
     "name": "stdout",
     "output_type": "stream",
     "text": [
      "/bin/bash: -c: line 0: syntax error near unexpected token `df'\r\n",
      "/bin/bash: -c: line 0: `rm (df)'\r\n"
     ]
    }
   ],
   "source": [
    "rm(df)"
   ]
  },
  {
   "cell_type": "code",
   "execution_count": 152,
   "metadata": {},
   "outputs": [
    {
     "name": "stdout",
     "output_type": "stream",
     "text": [
      "(113, 3)\n"
     ]
    },
    {
     "data": {
      "text/html": [
       "<div>\n",
       "<style scoped>\n",
       "    .dataframe tbody tr th:only-of-type {\n",
       "        vertical-align: middle;\n",
       "    }\n",
       "\n",
       "    .dataframe tbody tr th {\n",
       "        vertical-align: top;\n",
       "    }\n",
       "\n",
       "    .dataframe thead th {\n",
       "        text-align: right;\n",
       "    }\n",
       "</style>\n",
       "<table border=\"1\" class=\"dataframe\">\n",
       "  <thead>\n",
       "    <tr style=\"text-align: right;\">\n",
       "      <th></th>\n",
       "      <th>name</th>\n",
       "      <th>ntiles_x</th>\n",
       "      <th>ntiles_y</th>\n",
       "    </tr>\n",
       "  </thead>\n",
       "  <tbody>\n",
       "    <tr>\n",
       "      <th>0</th>\n",
       "      <td>HMNT0574_bis - 2017-06-13 20.19.34</td>\n",
       "      <td>27140</td>\n",
       "      <td>27140</td>\n",
       "    </tr>\n",
       "    <tr>\n",
       "      <th>1</th>\n",
       "      <td>HMNT0620_bis - 2017-07-24 22.21.49</td>\n",
       "      <td>48054</td>\n",
       "      <td>48054</td>\n",
       "    </tr>\n",
       "    <tr>\n",
       "      <th>2</th>\n",
       "      <td>HMNT0672 - 2017-06-04 07.13.30</td>\n",
       "      <td>69180</td>\n",
       "      <td>20731</td>\n",
       "    </tr>\n",
       "    <tr>\n",
       "      <th>3</th>\n",
       "      <td>HMNT0672_bis - 2017-06-04 08.15.37</td>\n",
       "      <td>61078</td>\n",
       "      <td>NaN</td>\n",
       "    </tr>\n",
       "    <tr>\n",
       "      <th>4</th>\n",
       "      <td>HMNT0689 - 2017-06-03 10.43.21</td>\n",
       "      <td>40706</td>\n",
       "      <td>NaN</td>\n",
       "    </tr>\n",
       "  </tbody>\n",
       "</table>\n",
       "</div>"
      ],
      "text/plain": [
       "                                 name ntiles_x ntiles_y\n",
       "0  HMNT0574_bis - 2017-06-13 20.19.34    27140    27140\n",
       "1  HMNT0620_bis - 2017-07-24 22.21.49    48054    48054\n",
       "2      HMNT0672 - 2017-06-04 07.13.30    69180    20731\n",
       "3  HMNT0672_bis - 2017-06-04 08.15.37    61078      NaN\n",
       "4      HMNT0689 - 2017-06-03 10.43.21    40706      NaN"
      ]
     },
     "metadata": {},
     "output_type": "display_data"
    }
   ],
   "source": []
  },
  {
   "cell_type": "code",
   "execution_count": 290,
   "metadata": {},
   "outputs": [],
   "source": [
    "df.to_csv(\"~/Downloads/copied_tiles_info.csv\")\n",
    "# df1.to_csv(\"/media/visiopharm5/WDRed(backup)/qupath_mondor/npatches.csv\")"
   ]
  },
  {
   "cell_type": "code",
   "execution_count": 161,
   "metadata": {},
   "outputs": [
    {
     "data": {
      "text/html": [
       "<div>\n",
       "<style scoped>\n",
       "    .dataframe tbody tr th:only-of-type {\n",
       "        vertical-align: middle;\n",
       "    }\n",
       "\n",
       "    .dataframe tbody tr th {\n",
       "        vertical-align: top;\n",
       "    }\n",
       "\n",
       "    .dataframe thead th {\n",
       "        text-align: right;\n",
       "    }\n",
       "</style>\n",
       "<table border=\"1\" class=\"dataframe\">\n",
       "  <thead>\n",
       "    <tr style=\"text-align: right;\">\n",
       "      <th></th>\n",
       "      <th>name</th>\n",
       "      <th>ntiles</th>\n",
       "    </tr>\n",
       "  </thead>\n",
       "  <tbody>\n",
       "    <tr>\n",
       "      <th>0</th>\n",
       "      <td>HMNT0102 - 2017-07-14 22.14.28</td>\n",
       "      <td>13904</td>\n",
       "    </tr>\n",
       "    <tr>\n",
       "      <th>1</th>\n",
       "      <td>HMNT0102_bis - 2017-07-14 23.08.05</td>\n",
       "      <td>35700</td>\n",
       "    </tr>\n",
       "    <tr>\n",
       "      <th>2</th>\n",
       "      <td>HMNT0110_bis - 2017-06-16 22.39.18</td>\n",
       "      <td>74556</td>\n",
       "    </tr>\n",
       "    <tr>\n",
       "      <th>3</th>\n",
       "      <td>HMNT0111 - 2017-06-17 19.47.09</td>\n",
       "      <td>52824</td>\n",
       "    </tr>\n",
       "    <tr>\n",
       "      <th>4</th>\n",
       "      <td>HMNT0111_bis - 2017-06-17 20.43.09</td>\n",
       "      <td>45326</td>\n",
       "    </tr>\n",
       "  </tbody>\n",
       "</table>\n",
       "</div>"
      ],
      "text/plain": [
       "                                 name ntiles\n",
       "0      HMNT0102 - 2017-07-14 22.14.28  13904\n",
       "1  HMNT0102_bis - 2017-07-14 23.08.05  35700\n",
       "2  HMNT0110_bis - 2017-06-16 22.39.18  74556\n",
       "3      HMNT0111 - 2017-06-17 19.47.09  52824\n",
       "4  HMNT0111_bis - 2017-06-17 20.43.09  45326"
      ]
     },
     "metadata": {},
     "output_type": "display_data"
    }
   ],
   "source": [
    "# df2 = pd.DataFrame([dir22, lenfile2]).T\n",
    "# df2.columns = [\"name\", \"ntiles\"]\n",
    "# display(df2.head(5))"
   ]
  },
  {
   "cell_type": "code",
   "execution_count": 162,
   "metadata": {},
   "outputs": [],
   "source": [
    "df2.to_csv(\"/media/visiopharm5/WDRed(backup)/qupath_mondor/npatches.csv\")"
   ]
  },
  {
   "cell_type": "code",
   "execution_count": 294,
   "metadata": {},
   "outputs": [
    {
     "data": {
      "application/vnd.jupyter.widget-view+json": {
       "model_id": "799528eaa594401bba07897b7f475cfb",
       "version_major": 2,
       "version_minor": 0
      },
      "text/plain": [
       "HBox(children=(FloatProgress(value=0.0, max=3.0), HTML(value='')))"
      ]
     },
     "metadata": {},
     "output_type": "display_data"
    },
    {
     "data": {
      "application/vnd.jupyter.widget-view+json": {
       "model_id": "b5bf547f935f4188a1dd15b0175b4d6a",
       "version_major": 2,
       "version_minor": 0
      },
      "text/plain": [
       "HBox(children=(FloatProgress(value=0.0, max=15288.0), HTML(value='')))"
      ]
     },
     "metadata": {},
     "output_type": "display_data"
    },
    {
     "name": "stdout",
     "output_type": "stream",
     "text": [
      "\n"
     ]
    },
    {
     "data": {
      "application/vnd.jupyter.widget-view+json": {
       "model_id": "5ee9ffdeea1940f39059188565d7f393",
       "version_major": 2,
       "version_minor": 0
      },
      "text/plain": [
       "HBox(children=(FloatProgress(value=0.0, max=20900.0), HTML(value='')))"
      ]
     },
     "metadata": {},
     "output_type": "display_data"
    },
    {
     "name": "stdout",
     "output_type": "stream",
     "text": [
      "\n"
     ]
    },
    {
     "data": {
      "application/vnd.jupyter.widget-view+json": {
       "model_id": "9706ffa36cd144b4aef3f69f72a14c64",
       "version_major": 2,
       "version_minor": 0
      },
      "text/plain": [
       "HBox(children=(FloatProgress(value=0.0, max=7300.0), HTML(value='')))"
      ]
     },
     "metadata": {},
     "output_type": "display_data"
    },
    {
     "name": "stdout",
     "output_type": "stream",
     "text": [
      "\n",
      "\n"
     ]
    }
   ],
   "source": [
    "from tqdm.notebook import tqdm\n",
    "tile_id = []\n",
    "mask_id = []\n",
    "path_tiles_qp = \"/media/visiopharm5/WDRed(backup)/qupath_mondor/copying\"\n",
    "slide_id = ['HMNT2066_P734242_01_HES - 2018-11-01 16.13.44','HMNT2321_757692-05-HES','HMNT2387_P761471-A03-HES']\n",
    "for name in tqdm(slide_id):\n",
    "    tmp_tile = []\n",
    "    tmp_mask = []\n",
    "    for root, dirs, files in os.walk(os.path.join(path_tiles_qp, name)):\n",
    "        if len(files) != 0:\n",
    "            for file in tqdm(files):\n",
    "                if file.endswith(\".tif\"):\n",
    "                    tmp_tile.append(file)\n",
    "                elif file.endswith(\".png\"):\n",
    "                    tmp_mask.append(file)\n",
    "            tile_id.append(tmp_tile)\n",
    "            mask_id.append(tmp_mask)"
   ]
  },
  {
   "cell_type": "code",
   "execution_count": 296,
   "metadata": {},
   "outputs": [
    {
     "name": "stdout",
     "output_type": "stream",
     "text": [
      "10450\n"
     ]
    }
   ],
   "source": [
    "print(len(tile_id[1]))"
   ]
  },
  {
   "cell_type": "code",
   "execution_count": 29,
   "metadata": {},
   "outputs": [
    {
     "name": "stdout",
     "output_type": "stream",
     "text": [
      "(259, 2)\n"
     ]
    },
    {
     "data": {
      "text/html": [
       "<div>\n",
       "<style scoped>\n",
       "    .dataframe tbody tr th:only-of-type {\n",
       "        vertical-align: middle;\n",
       "    }\n",
       "\n",
       "    .dataframe tbody tr th {\n",
       "        vertical-align: top;\n",
       "    }\n",
       "\n",
       "    .dataframe thead th {\n",
       "        text-align: right;\n",
       "    }\n",
       "</style>\n",
       "<table border=\"1\" class=\"dataframe\">\n",
       "  <thead>\n",
       "    <tr style=\"text-align: right;\">\n",
       "      <th></th>\n",
       "      <th>name</th>\n",
       "      <th>ntiles</th>\n",
       "    </tr>\n",
       "  </thead>\n",
       "  <tbody>\n",
       "    <tr>\n",
       "      <th>0</th>\n",
       "      <td>HMNT0399_bis - 2017-06-16 19.11.30</td>\n",
       "      <td>31640</td>\n",
       "    </tr>\n",
       "    <tr>\n",
       "      <th>1</th>\n",
       "      <td>HMNT0401 - 2017-06-02 15.22.36</td>\n",
       "      <td>33910</td>\n",
       "    </tr>\n",
       "    <tr>\n",
       "      <th>2</th>\n",
       "      <td>HMNT0401_bis - 2017-06-02 16.04.57</td>\n",
       "      <td>37752</td>\n",
       "    </tr>\n",
       "    <tr>\n",
       "      <th>3</th>\n",
       "      <td>HMNT0409_bis - 2017-07-16 06.00.19</td>\n",
       "      <td>44898</td>\n",
       "    </tr>\n",
       "    <tr>\n",
       "      <th>4</th>\n",
       "      <td>HMNT0439 - 2017-06-17 23.17.22</td>\n",
       "      <td>38582</td>\n",
       "    </tr>\n",
       "  </tbody>\n",
       "</table>\n",
       "</div>"
      ],
      "text/plain": [
       "                                 name  ntiles\n",
       "0  HMNT0399_bis - 2017-06-16 19.11.30   31640\n",
       "1      HMNT0401 - 2017-06-02 15.22.36   33910\n",
       "2  HMNT0401_bis - 2017-06-02 16.04.57   37752\n",
       "3  HMNT0409_bis - 2017-07-16 06.00.19   44898\n",
       "4      HMNT0439 - 2017-06-17 23.17.22   38582"
      ]
     },
     "metadata": {},
     "output_type": "display_data"
    }
   ],
   "source": [
    "import pandas as pd\n",
    "df = pd.read_csv(\"/media/visiopharm5/WDRed(backup)/qupath_mondor/npatches.csv\", index_col=0)\n",
    "print(df.shape)\n",
    "display(df.head(5))"
   ]
  },
  {
   "cell_type": "code",
   "execution_count": 30,
   "metadata": {},
   "outputs": [],
   "source": [
    "import os\n",
    "slides = []\n",
    "for root, dirs, files in os.walk(\"/media/visiopharm5/WDRed(backup)/clam_extension/results/patches_mondor_tumor\"):\n",
    "    for file in files:\n",
    "        slides.append(file[:-3])"
   ]
  },
  {
   "cell_type": "code",
   "execution_count": 31,
   "metadata": {},
   "outputs": [
    {
     "data": {
      "text/plain": [
       "set()"
      ]
     },
     "execution_count": 31,
     "metadata": {},
     "output_type": "execute_result"
    }
   ],
   "source": [
    "set(df.name.to_list()) - set(slides) #1"
   ]
  },
  {
   "cell_type": "code",
   "execution_count": 32,
   "metadata": {},
   "outputs": [
    {
     "data": {
      "text/plain": [
       "set()"
      ]
     },
     "execution_count": 32,
     "metadata": {},
     "output_type": "execute_result"
    }
   ],
   "source": [
    "set(slides) - set(df.name.to_list()) #7"
   ]
  },
  {
   "cell_type": "code",
   "execution_count": null,
   "metadata": {},
   "outputs": [],
   "source": []
  }
 ],
 "metadata": {
  "kernelspec": {
   "display_name": "Python 3",
   "language": "python",
   "name": "python3"
  },
  "language_info": {
   "codemirror_mode": {
    "name": "ipython",
    "version": 3
   },
   "file_extension": ".py",
   "mimetype": "text/x-python",
   "name": "python",
   "nbconvert_exporter": "python",
   "pygments_lexer": "ipython3",
   "version": "3.8.3"
  }
 },
 "nbformat": 4,
 "nbformat_minor": 4
}
