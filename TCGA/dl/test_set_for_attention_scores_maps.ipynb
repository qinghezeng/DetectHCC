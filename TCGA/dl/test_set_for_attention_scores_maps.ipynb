{
 "cells": [
  {
   "cell_type": "markdown",
   "metadata": {},
   "source": [
    "# List the test set for CLAM attention scores and maps\n",
    "## Input: \n",
    "1. **folder name of the validation**\n",
    "2. **selected fold**\n",
    "3. **\".pt\" or \".h5\"**"
   ]
  },
  {
   "cell_type": "code",
   "execution_count": 1,
   "metadata": {},
   "outputs": [],
   "source": [
    "import os\n",
    "import numpy as np\n",
    "import pandas as pd"
   ]
  },
  {
   "cell_type": "code",
   "execution_count": 19,
   "metadata": {},
   "outputs": [
    {
     "name": "stdout",
     "output_type": "stream",
     "text": [
      "/media/visiopharm5/WDGold/deeplearning/MIL/CLAM/eval_results/EVAL_tcga_hcc_tumor_349_Ribas_10G_Interferon_Gamma_cv_highvsrest_core_622_CLAM_50_s1_cv/fold_9.csv\n"
     ]
    }
   ],
   "source": [
    "root = \"/media/visiopharm5/WDGold/deeplearning/MIL/CLAM/eval_results\"\n",
    "target = \"EVAL_tcga_hcc_tumor_349_Ribas_10G_Interferon_Gamma_cv_highvsrest_core_622_CLAM_50_s1_cv\"\n",
    "fold = 9\n",
    "path = os.path.join(root, target)\n",
    "file = os.path.join(path, \"fold_\"+str(fold)+\".csv\")\n",
    "print(file)"
   ]
  },
  {
   "cell_type": "code",
   "execution_count": 20,
   "metadata": {},
   "outputs": [
    {
     "name": "stdout",
     "output_type": "stream",
     "text": [
      "(70, 5)\n"
     ]
    },
    {
     "data": {
      "text/html": [
       "<div>\n",
       "<style scoped>\n",
       "    .dataframe tbody tr th:only-of-type {\n",
       "        vertical-align: middle;\n",
       "    }\n",
       "\n",
       "    .dataframe tbody tr th {\n",
       "        vertical-align: top;\n",
       "    }\n",
       "\n",
       "    .dataframe thead th {\n",
       "        text-align: right;\n",
       "    }\n",
       "</style>\n",
       "<table border=\"1\" class=\"dataframe\">\n",
       "  <thead>\n",
       "    <tr style=\"text-align: right;\">\n",
       "      <th></th>\n",
       "      <th>slide_id</th>\n",
       "      <th>Y</th>\n",
       "      <th>Y_hat</th>\n",
       "      <th>p_0</th>\n",
       "      <th>p_1</th>\n",
       "    </tr>\n",
       "  </thead>\n",
       "  <tbody>\n",
       "    <tr>\n",
       "      <th>0</th>\n",
       "      <td>TCGA-DD-AADS-01Z-00-DX1.A147E3F6-065A-4313-A16...</td>\n",
       "      <td>1.0</td>\n",
       "      <td>1.0</td>\n",
       "      <td>0.388389</td>\n",
       "      <td>0.611611</td>\n",
       "    </tr>\n",
       "    <tr>\n",
       "      <th>1</th>\n",
       "      <td>TCGA-DD-A114-01Z-00-DX1.2A8C5243-29C4-419D-8FD...</td>\n",
       "      <td>1.0</td>\n",
       "      <td>0.0</td>\n",
       "      <td>0.841675</td>\n",
       "      <td>0.158325</td>\n",
       "    </tr>\n",
       "    <tr>\n",
       "      <th>2</th>\n",
       "      <td>TCGA-FV-A4ZQ-01Z-00-DX1.B77F6D70-5490-4EEE-883...</td>\n",
       "      <td>1.0</td>\n",
       "      <td>0.0</td>\n",
       "      <td>0.652833</td>\n",
       "      <td>0.347167</td>\n",
       "    </tr>\n",
       "    <tr>\n",
       "      <th>3</th>\n",
       "      <td>TCGA-ED-A5KG-01Z-00-DX1.76622341-8248-4674-87B...</td>\n",
       "      <td>1.0</td>\n",
       "      <td>1.0</td>\n",
       "      <td>0.131595</td>\n",
       "      <td>0.868405</td>\n",
       "    </tr>\n",
       "    <tr>\n",
       "      <th>4</th>\n",
       "      <td>TCGA-DD-A73F-01Z-00-DX1.94618B17-5501-4011-A63...</td>\n",
       "      <td>1.0</td>\n",
       "      <td>0.0</td>\n",
       "      <td>0.846377</td>\n",
       "      <td>0.153623</td>\n",
       "    </tr>\n",
       "  </tbody>\n",
       "</table>\n",
       "</div>"
      ],
      "text/plain": [
       "                                            slide_id    Y  Y_hat       p_0  \\\n",
       "0  TCGA-DD-AADS-01Z-00-DX1.A147E3F6-065A-4313-A16...  1.0    1.0  0.388389   \n",
       "1  TCGA-DD-A114-01Z-00-DX1.2A8C5243-29C4-419D-8FD...  1.0    0.0  0.841675   \n",
       "2  TCGA-FV-A4ZQ-01Z-00-DX1.B77F6D70-5490-4EEE-883...  1.0    0.0  0.652833   \n",
       "3  TCGA-ED-A5KG-01Z-00-DX1.76622341-8248-4674-87B...  1.0    1.0  0.131595   \n",
       "4  TCGA-DD-A73F-01Z-00-DX1.94618B17-5501-4011-A63...  1.0    0.0  0.846377   \n",
       "\n",
       "        p_1  \n",
       "0  0.611611  \n",
       "1  0.158325  \n",
       "2  0.347167  \n",
       "3  0.868405  \n",
       "4  0.153623  "
      ]
     },
     "metadata": {},
     "output_type": "display_data"
    }
   ],
   "source": [
    "df = pd.read_csv(file)\n",
    "print(df.shape)\n",
    "display(df.head(5))"
   ]
  },
  {
   "cell_type": "code",
   "execution_count": 23,
   "metadata": {},
   "outputs": [
    {
     "name": "stdout",
     "output_type": "stream",
     "text": [
      "['TCGA-DD-AADS-01Z-00-DX1.A147E3F6-065A-4313-A16B-09C024B532B5.h5'  'TCGA-DD-A114-01Z-00-DX1.2A8C5243-29C4-419D-8FD0-C41D06F22972.h5'  'TCGA-FV-A4ZQ-01Z-00-DX1.B77F6D70-5490-4EEE-8838-8654B9928918.h5'  'TCGA-ED-A5KG-01Z-00-DX1.76622341-8248-4674-87B6-AEDAA3857D9B.h5'  'TCGA-DD-A73F-01Z-00-DX1.94618B17-5501-4011-A634-A0669DDCCD2E.h5'  'TCGA-BC-A110-01Z-00-DX1.E46C2B24-A159-4970-82B8-8F6CD60FDFB0.h5'  'TCGA-BW-A5NO-01Z-00-DX1.55133D96-C98B-4E7F-9DC0-8761031C7C93.h5'  'TCGA-CC-A7IE-01Z-00-DX1.1286E91C-EB64-4CEB-878F-436D0E70F275.h5'  'TCGA-CC-A1HT-01Z-00-DX1.1E2B820B-BCFB-46B8-A43B-CA5F94F0A6D1.h5'  'TCGA-DD-A4ND-01Z-00-DX1.55D61F34-B93A-4555-8348-3EDD40B01066.h5'  'TCGA-DD-AAW1-01Z-00-DX1.60B3D3BB-18B3-4C01-B750-76BFCB1816D6.h5'  'TCGA-DD-AAVP-01Z-00-DX1.44A8666F-DF8B-4707-9669-08CCE90486FC.h5'  'TCGA-ZP-A9CY-01Z-00-DX1.354CE6BB-6B8E-460E-9879-FA5408BBF87B.h5'  'TCGA-WX-AA44-01Z-00-DX1.D84D45E0-A55B-4220-BD44-E0185D690FDF.h5'  'TCGA-FV-A3I1-01Z-00-DX1.853E4122-319B-4425-87B5-E080B3AD6A7A.h5'  'TCGA-2Y-A9GS-01Z-00-DX1.75C5CEF1-6C8B-42FF-82F6-9A05621E9A80.h5'  'TCGA-ZS-A9CD-01Z-00-DX1.1E5C1B05-C126-4565-A951-18106BFDB0B8.h5'  'TCGA-CC-A5UC-01Z-00-DX1.5844CBD9-61B4-47D3-A5D9-C283926BF710.h5'  'TCGA-G3-A5SM-01Z-00-DX1.FA873103-3FFF-4D83-A405-4A33340D6DC2.h5'  'TCGA-2Y-A9H2-01Z-00-DX1.D1B4968D-8AAD-4F12-8447-6FC752E8DDE4.h5'  'TCGA-DD-AACO-01Z-00-DX1.4A6AC96F-3D2B-440A-BB82-693EAF4EC51F.h5'  'TCGA-UB-AA0V-01Z-00-DX1.FB59AF14-B425-488D-94FD-E999D4057468.h5'  'TCGA-ZP-A9CZ-01Z-00-DX1.4650C044-54CF-4901-B676-8D03E3F4DB90.h5'  'TCGA-2Y-A9GX-01Z-00-DX1.DC3E1EAB-686A-44F9-91AF-0C6975DE029E.h5'  'TCGA-DD-AAEB-01Z-00-DX1.160376D2-2D53-4E40-984F-30A79B14D4A5.h5'  'TCGA-DD-A1EF-01Z-00-DX1.B5029658-F57D-4CD3-BC4D-D7BA5EB33DFB.h5'  'TCGA-G3-A3CI-01Z-00-DX1.64A4D1B3-70C7-4E41-9096-20F6FE9C656C.h5'  'TCGA-DD-A1EK-01Z-00-DX1.676881B7-C16A-4097-9859-97B0340A64D1.h5'  'TCGA-DD-AACG-01Z-00-DX1.7B625854-0DEF-4CD1-9D01-EE685671DE84.h5'  'TCGA-DD-A4NL-01Z-00-DX1.70001978-79E2-4831-A2D4-DF666BBE1B09.h5'  'TCGA-MI-A75E-01Z-00-DX1.892E6332-5334-4C9E-99D9-6CA0A6B95CC7.h5'  'TCGA-MI-A75E-01Z-00-DX2.5B483422-924E-4366-80B7-EB65450B56C8.h5'  'TCGA-FV-A496-01Z-00-DX1.A74E56AD-6716-4BE0-80EA-8EFF3CBE0BCE.h5'  'TCGA-DD-A4NQ-01Z-00-DX1.1D6755EB-58D5-4AA1-ADF4-1EC52B2B3337.h5'  'TCGA-G3-A25S-01Z-00-DX1.52D3A6BB-A728-4651-A394-EACBEE29B106.h5'  'TCGA-CC-A7IL-01Z-00-DX1.73B59FCC-40C9-40F4-AC8A-EBBEB5884757.h5'  'TCGA-MR-A520-01Z-00-DX1.2F323BAC-56C9-4A0C-9C1B-2B4F776056B4.h5'  'TCGA-DD-A73C-01Z-00-DX1.B31DD97B-0C66-4404-9521-4CE5661CA0C4.h5'  'TCGA-DD-A73C-01Z-00-DX2.616264EE-93CE-4E2F-A4DA-1CD3663A4F3C.h5'  'TCGA-DD-A3A9-01Z-00-DX1.BC4A83DE-516A-4C64-9E86-834E8CFD6135.h5'  'TCGA-CC-A3MC-01Z-00-DX1.680CCC54-8159-42A9-8B66-FEC9228EB8BC.h5'  'TCGA-DD-A73G-01Z-00-DX1.F5AB3B95-268C-44DA-9D42-7A7B5E1D8516.h5'  'TCGA-DD-A73G-01Z-00-DX2.66AD1B8B-5228-48D9-B77B-F4C4063B850D.h5'  'TCGA-DD-A73G-01Z-00-DX3.4FB46D36-E67A-4F82-B468-D4AD35C0018C.h5'  'TCGA-G3-A7M8-01Z-00-DX1.5FCC342D-BCBF-4901-85AB-FDF384EDD79D.h5'  'TCGA-G3-A25Z-01Z-00-DX1.3BD92D82-195F-41EF-AFA2-B9BF61A0552E.h5'  'TCGA-DD-A4NP-01Z-00-DX1.C47D2F15-02F1-4AF2-AB9C-FAEBEC6F754B.h5'  'TCGA-DD-A118-01Z-00-DX1.60B26023-8F1C-4373-A5A5-1279162F4076.h5'  'TCGA-QA-A7B7-01Z-00-DX1.F43A1254-D4C4-4B87-9B66-46AB4DF0D76A.h5'  'TCGA-DD-AADL-01Z-00-DX1.D688D1A6-418A-41A4-83A8-FDA0CAC26F7E.h5'  'TCGA-DD-A11B-01Z-00-DX1.3D7A5BDB-62A3-4938-B6C4-890F7C59283A.h5'  'TCGA-DD-AADG-01Z-00-DX1.0E38633E-5352-4190-9D58-82753F7BA25E.h5'  'TCGA-CC-5263-01Z-00-DX1.9CB478BC-3470-4930-976B-0419B180D57F.h5'  'TCGA-CC-A5UE-01Z-00-DX1.11245DF8-BDD4-435F-9329-A4F63C24EC88.h5'  'TCGA-ED-A7PX-01Z-00-DX1.D75A1B1F-7062-44D6-8BF0-B511BAF8E45B.h5'  'TCGA-BC-A10T-01Z-00-DX1.2F634D24-C571-49E1-ACAE-B19F8AFF71D3.h5'  'TCGA-DD-AADU-01Z-00-DX1.8DF049B2-F949-46CB-ADD4-FA43C7949254.h5'  'TCGA-ED-A8O5-01Z-00-DX1.5CEE6AED-3D4B-4E72-B166-C502476D3A09.h5'  'TCGA-CC-A3MA-01Z-00-DX1.96F9CA78-2690-4FAF-859A-D3D9CCBA98F1.h5'  'TCGA-2Y-A9H7-01Z-00-DX1.E61F4D00-5D48-412C-A6EB-DD731C5A3ECE.h5'  'TCGA-DD-A4NO-01Z-00-DX1.0418E7E0-F1C0-421A-A8B2-5E7B15439A6C.h5'  'TCGA-DD-A4NH-01Z-00-DX1.CBB24A69-786B-4979-8140-D194A9EEDFF1.h5'  'TCGA-DD-A4NF-01Z-00-DX1.A876C169-BA5A-4ACF-A6F1-5B0558CE0392.h5'  'TCGA-LG-A9QC-01Z-00-DX1.7475A364-8CC0-49E9-8B26-EBD1789CAF70.h5'  'TCGA-DD-A73B-01Z-00-DX1.11B9A0BD-56CF-48C7-AC39-ABC5D22F0D94.h5'  'TCGA-DD-A73B-01Z-00-DX2.F113B65F-8273-4469-87CF-C0CF5637D530.h5'  'TCGA-ED-A7PZ-01Z-00-DX1.CD9C0D80-4E6C-40EF-BF56-54BD7EFDBDC1.h5'  'TCGA-CC-A7IG-01Z-00-DX1.2C469468-4E2C-4BAC-B195-5719BB58674A.h5'  'TCGA-5C-A9VG-01Z-00-DX1.BB05C938-5C51-4A15-925C-54C4FE0C6280.h5'  'TCGA-G3-AAV6-01Z-00-DX1.F4D85E6A-7F71-47D4-BEB6-984FDD218A9F.h5']\n"
     ]
    }
   ],
   "source": [
    "s = \".h5\"\n",
    "print(str([slide_id + s for slide_id in df[\"slide_id\"].values]).replace(\",\", \" \"))"
   ]
  },
  {
   "cell_type": "code",
   "execution_count": null,
   "metadata": {},
   "outputs": [],
   "source": []
  },
  {
   "cell_type": "code",
   "execution_count": null,
   "metadata": {},
   "outputs": [],
   "source": []
  }
 ],
 "metadata": {
  "kernelspec": {
   "display_name": "Python 3",
   "language": "python",
   "name": "python3"
  },
  "language_info": {
   "codemirror_mode": {
    "name": "ipython",
    "version": 3
   },
   "file_extension": ".py",
   "mimetype": "text/x-python",
   "name": "python",
   "nbconvert_exporter": "python",
   "pygments_lexer": "ipython3",
   "version": "3.7.7"
  }
 },
 "nbformat": 4,
 "nbformat_minor": 4
}
