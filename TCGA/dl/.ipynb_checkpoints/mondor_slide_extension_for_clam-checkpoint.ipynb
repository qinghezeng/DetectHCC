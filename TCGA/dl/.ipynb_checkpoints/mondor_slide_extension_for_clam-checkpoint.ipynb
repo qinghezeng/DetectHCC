{
 "cells": [
  {
   "cell_type": "markdown",
   "metadata": {},
   "source": [
    "### To list Mondor slides (139) with different extensions for clam feature extraction:\n",
    "1. svs\n",
    "2. ndpi"
   ]
  },
  {
   "cell_type": "code",
   "execution_count": 1,
   "metadata": {},
   "outputs": [],
   "source": [
    "import os\n",
    "import pandas as pd"
   ]
  },
  {
   "cell_type": "code",
   "execution_count": 11,
   "metadata": {},
   "outputs": [
    {
     "name": "stdout",
     "output_type": "stream",
     "text": [
      "(139, 1)\n"
     ]
    },
    {
     "data": {
      "text/html": [
       "<div>\n",
       "<style scoped>\n",
       "    .dataframe tbody tr th:only-of-type {\n",
       "        vertical-align: middle;\n",
       "    }\n",
       "\n",
       "    .dataframe tbody tr th {\n",
       "        vertical-align: top;\n",
       "    }\n",
       "\n",
       "    .dataframe thead th {\n",
       "        text-align: right;\n",
       "    }\n",
       "</style>\n",
       "<table border=\"1\" class=\"dataframe\">\n",
       "  <thead>\n",
       "    <tr style=\"text-align: right;\">\n",
       "      <th></th>\n",
       "      <th>slide_id</th>\n",
       "    </tr>\n",
       "  </thead>\n",
       "  <tbody>\n",
       "    <tr>\n",
       "      <th>0</th>\n",
       "      <td>HMNT0346_bis - 2017-06-13 17.02.45</td>\n",
       "    </tr>\n",
       "    <tr>\n",
       "      <th>1</th>\n",
       "      <td>HMNT0153 - 2017-06-08 16.41.05</td>\n",
       "    </tr>\n",
       "    <tr>\n",
       "      <th>2</th>\n",
       "      <td>HMNT0280_bis - 2017-06-16 01.55.56</td>\n",
       "    </tr>\n",
       "  </tbody>\n",
       "</table>\n",
       "</div>"
      ],
      "text/plain": [
       "                             slide_id\n",
       "0  HMNT0346_bis - 2017-06-13 17.02.45\n",
       "1      HMNT0153 - 2017-06-08 16.41.05\n",
       "2  HMNT0280_bis - 2017-06-16 01.55.56"
      ]
     },
     "metadata": {},
     "output_type": "display_data"
    },
    {
     "name": "stdout",
     "output_type": "stream",
     "text": [
      "139\n",
      "['HMNT0346_bis - 2017-06-13 17.02.45', 'HMNT0153 - 2017-06-08 16.41.05', 'HMNT0280_bis - 2017-06-16 01.55.56']\n"
     ]
    }
   ],
   "source": [
    "# load reference which include needed slide ids (without ext)\n",
    "f_ref = '/media/visiopharm5/WDGold/deeplearning/MIL/CLAM/dataset_csv/mondor_hcc_feature_139_all.csv'\n",
    "df_ref = pd.read_csv(f_ref)\n",
    "print(df_ref.shape) # (139, 1)\n",
    "display(df_ref.head(3))\n",
    "\n",
    "# save all the slide ids in a list\n",
    "list_slides = df_ref['slide_id'].tolist() #139\n",
    "print(len(list_slides))\n",
    "print(list_slides[:3])"
   ]
  },
  {
   "cell_type": "code",
   "execution_count": 12,
   "metadata": {},
   "outputs": [
    {
     "name": "stdout",
     "output_type": "stream",
     "text": [
      "5\n",
      "['HMNT0516_P622582-05-HES', 'HMNT2321_757692-05-HES', 'HMNT2326_P758321-B04-HES']\n",
      "134\n",
      "['HMNT0071_bis - 2017-06-15 12.25.18', 'HMNT0073_bis - 2017-06-17 22.30.07', 'HMNT0129_bis - 2017-06-17 17.15.39']\n"
     ]
    }
   ],
   "source": [
    "list_svs = []\n",
    "list_ndpi = []\n",
    "\n",
    "src_path = '/media/visiopharm5/WDGold/deeplearning/Hepatocarcinomes/slides_annotations_hammamatsu'\n",
    "for root, dirs, files in os.walk(src_path):\n",
    "    for file in files:\n",
    "        # extract only slides in the list\n",
    "            if os.path.splitext(file)[0] in list_slides:\n",
    "                # check file extension\n",
    "                if os.path.splitext(file)[1] == '.svs':\n",
    "                    list_svs.append(os.path.splitext(file)[0])\n",
    "                elif os.path.splitext(file)[1] == '.ndpi':\n",
    "                    list_ndpi.append(os.path.splitext(file)[0])\n",
    "print(len(list_svs)) # 5\n",
    "print(list_svs[:3])\n",
    "print(len(list_ndpi)) # 134\n",
    "print(list_ndpi[:3])"
   ]
  },
  {
   "cell_type": "code",
   "execution_count": 13,
   "metadata": {},
   "outputs": [],
   "source": [
    "pd.DataFrame(list_svs, columns=['slide_id']).to_csv('/media/visiopharm5/WDGold/deeplearning/MIL/CLAM/dataset_csv/mondor_hcc_feature_139_svs.csv', index=False)"
   ]
  },
  {
   "cell_type": "code",
   "execution_count": 14,
   "metadata": {},
   "outputs": [],
   "source": [
    "pd.DataFrame(list_ndpi, columns=['slide_id']).to_csv('/media/visiopharm5/WDGold/deeplearning/MIL/CLAM/dataset_csv/mondor_hcc_feature_139_ndpi.csv', index=False)"
   ]
  },
  {
   "cell_type": "code",
   "execution_count": null,
   "metadata": {},
   "outputs": [],
   "source": []
  }
 ],
 "metadata": {
  "kernelspec": {
   "display_name": "Python 3",
   "language": "python",
   "name": "python3"
  },
  "language_info": {
   "codemirror_mode": {
    "name": "ipython",
    "version": 3
   },
   "file_extension": ".py",
   "mimetype": "text/x-python",
   "name": "python",
   "nbconvert_exporter": "python",
   "pygments_lexer": "ipython3",
   "version": "3.7.7"
  }
 },
 "nbformat": 4,
 "nbformat_minor": 4
}
