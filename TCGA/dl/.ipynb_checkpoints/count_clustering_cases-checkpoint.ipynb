{
 "cells": [
  {
   "cell_type": "markdown",
   "metadata": {},
   "source": [
    "## Count case number in each cluster and repeat for each gene signature"
   ]
  },
  {
   "cell_type": "code",
   "execution_count": 1,
   "metadata": {},
   "outputs": [],
   "source": [
    "import os\n",
    "import pandas as pd"
   ]
  },
  {
   "cell_type": "code",
   "execution_count": 2,
   "metadata": {},
   "outputs": [],
   "source": [
    "path = '/media/visiopharm5/WDGold/deeplearning/Hepatocarcinomes/TCGA/validation_336'\n",
    "signatures = ['6G_Interferon_Gamma', 'Gajewski_13G_Inflammatory', 'Inflammatory', 'Interferon_Gamma_Biology', 'Ribas_10G_Interferon_Gamma', 'T-cell_Exhaustion']"
   ]
  },
  {
   "cell_type": "code",
   "execution_count": 10,
   "metadata": {},
   "outputs": [],
   "source": [
    "df_res = pd.DataFrame(columns=['High', 'Median', 'Low'])"
   ]
  },
  {
   "cell_type": "code",
   "execution_count": 11,
   "metadata": {},
   "outputs": [
    {
     "name": "stdout",
     "output_type": "stream",
     "text": [
      "(336, 2)\n",
      "(336, 2)\n",
      "(336, 2)\n",
      "(336, 2)\n",
      "(336, 2)\n",
      "(336, 2)\n",
      "(6, 3)\n"
     ]
    },
    {
     "data": {
      "text/html": [
       "<div>\n",
       "<style scoped>\n",
       "    .dataframe tbody tr th:only-of-type {\n",
       "        vertical-align: middle;\n",
       "    }\n",
       "\n",
       "    .dataframe tbody tr th {\n",
       "        vertical-align: top;\n",
       "    }\n",
       "\n",
       "    .dataframe thead th {\n",
       "        text-align: right;\n",
       "    }\n",
       "</style>\n",
       "<table border=\"1\" class=\"dataframe\">\n",
       "  <thead>\n",
       "    <tr style=\"text-align: right;\">\n",
       "      <th></th>\n",
       "      <th>High</th>\n",
       "      <th>Median</th>\n",
       "      <th>Low</th>\n",
       "    </tr>\n",
       "    <tr>\n",
       "      <th>Cluster</th>\n",
       "      <th></th>\n",
       "      <th></th>\n",
       "      <th></th>\n",
       "    </tr>\n",
       "  </thead>\n",
       "  <tbody>\n",
       "    <tr>\n",
       "      <th>6G_Interferon_Gamma</th>\n",
       "      <td>43</td>\n",
       "      <td>125</td>\n",
       "      <td>168</td>\n",
       "    </tr>\n",
       "    <tr>\n",
       "      <th>Gajewski_13G_Inflammatory</th>\n",
       "      <td>48</td>\n",
       "      <td>120</td>\n",
       "      <td>168</td>\n",
       "    </tr>\n",
       "    <tr>\n",
       "      <th>Inflammatory</th>\n",
       "      <td>41</td>\n",
       "      <td>12</td>\n",
       "      <td>283</td>\n",
       "    </tr>\n",
       "    <tr>\n",
       "      <th>Interferon_Gamma_Biology</th>\n",
       "      <td>84</td>\n",
       "      <td>143</td>\n",
       "      <td>109</td>\n",
       "    </tr>\n",
       "    <tr>\n",
       "      <th>Ribas_10G_Interferon_Gamma</th>\n",
       "      <td>29</td>\n",
       "      <td>106</td>\n",
       "      <td>201</td>\n",
       "    </tr>\n",
       "    <tr>\n",
       "      <th>T-cell_Exhaustion</th>\n",
       "      <td>36</td>\n",
       "      <td>87</td>\n",
       "      <td>213</td>\n",
       "    </tr>\n",
       "  </tbody>\n",
       "</table>\n",
       "</div>"
      ],
      "text/plain": [
       "                           High Median  Low\n",
       "Cluster                                    \n",
       "6G_Interferon_Gamma          43    125  168\n",
       "Gajewski_13G_Inflammatory    48    120  168\n",
       "Inflammatory                 41     12  283\n",
       "Interferon_Gamma_Biology     84    143  109\n",
       "Ribas_10G_Interferon_Gamma   29    106  201\n",
       "T-cell_Exhaustion            36     87  213"
      ]
     },
     "metadata": {},
     "output_type": "display_data"
    }
   ],
   "source": [
    "for signature in signatures:\n",
    "    file = os.path.join(path, 'sample_clusters_'+signature+'_zscore_hc_ward.D2_euclidean_3_reorder.csv')\n",
    "    df = pd.read_csv(file)\n",
    "    print(df.shape)\n",
    "#     display(df.head(3))\n",
    "\n",
    "    \n",
    "    df_res.loc[signature] = [sum(df.Cluster=='Cluster High'), sum(df.Cluster=='Cluster Median'), sum(df.Cluster=='Cluster Low')]\n",
    "                \n",
    "df_res.rename_axis('Cluster', inplace=True)\n",
    "print(df_res.shape)\n",
    "display(df_res)"
   ]
  },
  {
   "cell_type": "code",
   "execution_count": 12,
   "metadata": {},
   "outputs": [],
   "source": [
    "df_res.to_csv(os.path.join(path, 'cluster_counts.csv'))"
   ]
  },
  {
   "cell_type": "code",
   "execution_count": null,
   "metadata": {},
   "outputs": [],
   "source": []
  }
 ],
 "metadata": {
  "kernelspec": {
   "display_name": "Python 3",
   "language": "python",
   "name": "python3"
  },
  "language_info": {
   "codemirror_mode": {
    "name": "ipython",
    "version": 3
   },
   "file_extension": ".py",
   "mimetype": "text/x-python",
   "name": "python",
   "nbconvert_exporter": "python",
   "pygments_lexer": "ipython3",
   "version": "3.8.5"
  }
 },
 "nbformat": 4,
 "nbformat_minor": 4
}
