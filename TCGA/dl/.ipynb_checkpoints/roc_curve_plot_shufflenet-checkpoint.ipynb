{
 "cells": [
  {
   "cell_type": "code",
   "execution_count": 64,
   "metadata": {},
   "outputs": [],
   "source": [
    "# roc curve and auc\n",
    "import os\n",
    "import pandas as pd\n",
    "import numpy as np\n",
    "from sklearn.metrics import roc_curve\n",
    "from sklearn.metrics import roc_auc_score\n",
    "from matplotlib import pyplot"
   ]
  },
  {
   "cell_type": "code",
   "execution_count": 47,
   "metadata": {},
   "outputs": [
    {
     "name": "stdout",
     "output_type": "stream",
     "text": [
      "/media/visiopharm5/WDGold/deeplearning/MIL/CLAM/results/training_custom/tcga_hcc_tumor_349_v1_cv_highvsrest_622_shufflenet_s1/split_0_results.pkl\n"
     ]
    }
   ],
   "source": [
    "root = \"/media/visiopharm5/WDGold/deeplearning/MIL/CLAM/results/training_custom\"\n",
    "target = \"tcga_hcc_tumor_349_v1_cv_highvsrest_622_shufflenet_s1\"\n",
    "fold = 0\n",
    "path = os.path.join(root, target)\n",
    "file = os.path.join(path, \"split_{}_results.pkl\".format(str(fold)))\n",
    "print(file)"
   ]
  },
  {
   "cell_type": "code",
   "execution_count": 48,
   "metadata": {},
   "outputs": [
    {
     "name": "stdout",
     "output_type": "stream",
     "text": [
      "dict_keys([0, 1, 2, 3, 4, 5, 6, 7, 8, 9, 10, 11, 12, 13, 14, 15, 16, 17, 18, 19, 20, 21, 22, 23, 24, 25, 26, 27, 28, 29, 30, 31, 32, 33, 34, 35, 36, 37, 38, 39, 40, 41, 42, 43, 44, 45, 46, 47, 48, 49, 50, 51, 52, 53, 54, 55, 56, 57, 58, 59, 60, 61, 62, 63, 64, 65, 66, 67, 68, 69, 70, 71, 72, 73, 74, 75, 76, 77, 78, 79, 80, 81, 82, 83, 84, 85, 86, 87, 88, 89, 90, 91, 92, 93, 94, 95, 96, 97, 98, 99, 100, 101, 102, 103, 104, 105, 106, 107, 108, 109, 110, 111, 112, 113, 114, 115, 116, 117, 118, 119, 120, 121, 122, 123, 124, 125, 126, 127, 128, 129, 130, 131, 132, 133, 134, 135, 136, 137, 138, 139, 140, 141, 142, 143, 144, 145, 146, 147, 148, 149, 150, 151, 152, 153, 154, 155, 156, 157, 158, 159, 160, 161, 162, 163, 164, 165, 166, 167, 168, 169, 170, 171, 172, 173, 174, 175, 176, 177, 178, 179, 180, 181, 182, 183, 184, 185, 186, 187, 188, 189, 190, 191, 192, 193, 194, 195, 196, 197, 198, 199, 200, 201, 202, 203, 204, 205, 206, 207, 208, 209, 210, 211, 212, 213, 214, 215, 216, 217, 218, 219, 220, 221, 222, 223, 224, 225, 226, 227, 228, 229, 230, 231, 232, 233, 234, 235, 236, 237, 238, 239, 240, 241, 242, 243, 244, 245, 246, 247, 248, 249, 250, 251, 252, 253, 254, 255, 256, 257, 258, 259, 260, 261, 262, 263, 264, 265, 266, 267, 268, 269, 270, 271, 272, 273])\n"
     ]
    }
   ],
   "source": [
    "unpickled_dict = pd.read_pickle(file)\n",
    "print(unpickled_dict.keys())"
   ]
  },
  {
   "cell_type": "code",
   "execution_count": 58,
   "metadata": {},
   "outputs": [
    {
     "name": "stdout",
     "output_type": "stream",
     "text": [
      "35000\n",
      "35000\n"
     ]
    }
   ],
   "source": [
    "probs = []\n",
    "labels = unpickled_dict[len(unpickled_dict.keys())-1]['labels']\n",
    "for j in range(len(unpickled_dict[len(unpickled_dict.keys())-1]['probs'])):\n",
    "    probs.append(unpickled_dict[len(unpickled_dict.keys())-1]['probs'][j][1])\n",
    "print(len(probs))\n",
    "print(len(labels))"
   ]
  },
  {
   "cell_type": "code",
   "execution_count": 56,
   "metadata": {},
   "outputs": [
    {
     "data": {
      "text/plain": [
       "35000"
      ]
     },
     "execution_count": 56,
     "metadata": {},
     "output_type": "execute_result"
    }
   ],
   "source": [
    "len(probs)"
   ]
  },
  {
   "cell_type": "code",
   "execution_count": 43,
   "metadata": {},
   "outputs": [
    {
     "name": "stdout",
     "output_type": "stream",
     "text": [
      "33000\n",
      "3328\n"
     ]
    }
   ],
   "source": [
    "print(len(unpickled_dict[25]['probs']))\n",
    "print(len(unpickled_dict[25]['labels']))"
   ]
  },
  {
   "cell_type": "code",
   "execution_count": 34,
   "metadata": {},
   "outputs": [
    {
     "name": "stdout",
     "output_type": "stream",
     "text": [
      "0.4749093\n"
     ]
    }
   ],
   "source": [
    "print(unpickled_dict[0]['probs'][273][0])"
   ]
  },
  {
   "cell_type": "code",
   "execution_count": 25,
   "metadata": {},
   "outputs": [
    {
     "name": "stdout",
     "output_type": "stream",
     "text": [
      "[0.08604877 0.9139512 ]\n",
      "1\n"
     ]
    }
   ],
   "source": [
    "print(unpickled_dict[0]['probs'][34999])\n",
    "print(unpickled_dict[0]['labels'][0])"
   ]
  },
  {
   "cell_type": "code",
   "execution_count": 59,
   "metadata": {},
   "outputs": [
    {
     "name": "stdout",
     "output_type": "stream",
     "text": [
      "ROC AUC=0.684\n"
     ]
    },
    {
     "data": {
      "image/png": "[encoded data removed]",
      "text/plain": [
       "<Figure size 432x288 with 1 Axes>"
      ]
     },
     "metadata": {
      "needs_background": "light"
     },
     "output_type": "display_data"
    }
   ],
   "source": [
    "auc = roc_auc_score(labels, probs)\n",
    "# summarize scores\n",
    "print('ROC AUC=%.3f' % (auc))\n",
    "# calculate roc curves\n",
    "fpr, tpr, _ = roc_curve(labels, probs)\n",
    "# plot the roc curve for the model\n",
    "pyplot.plot([0, 1], [0, 1], linestyle='--', lw=2, color='r',alpha=.8)\n",
    "pyplot.plot(fpr, tpr, marker='.', color='b',label=r'ROC (AUC = %0.3f)' % (auc),lw=2, alpha=.8)\n",
    "# axis labels\n",
    "pyplot.title(\"Receiver Operating Characteristic of Best Fold\")\n",
    "pyplot.xlabel('1 - Specificity (False Positive Rate)')\n",
    "pyplot.ylabel('Sensitivity (True Positive Rate)')\n",
    "# show the legend\n",
    "pyplot.legend(loc=\"lower right\")\n",
    "# save figure\n",
    "pyplot.savefig(os.path.join(path, \"roc_split_{}.png\".format(str(fold))))\n",
    "# show the plot\n",
    "pyplot.show()"
   ]
  },
  {
   "cell_type": "code",
   "execution_count": 68,
   "metadata": {},
   "outputs": [
    {
     "name": "stdout",
     "output_type": "stream",
     "text": [
      "[0.4849168658256531]\n"
     ]
    },
    {
     "data": {
      "text/plain": [
       "<Figure size 432x288 with 0 Axes>"
      ]
     },
     "metadata": {},
     "output_type": "display_data"
    }
   ],
   "source": [
    "def Find_Optimal_Cutoff(target, predicted):\n",
    "    \"\"\" Find the optimal probability cutoff point for a classification model related to event rate\n",
    "    Parameters\n",
    "    ----------\n",
    "    target : Matrix with dependent or target data, where rows are observations\n",
    "\n",
    "    predicted : Matrix with predicted data, where rows are observations\n",
    "\n",
    "    Returns\n",
    "    -------     \n",
    "    list type, with optimal cutoff value\n",
    "        \n",
    "    \"\"\"\n",
    "    fpr, tpr, threshold = roc_curve(target, predicted)\n",
    "    i = np.arange(len(tpr)) \n",
    "    roc = pd.DataFrame({'tf' : pd.Series(tpr-(1-fpr), index=i), 'threshold' : pd.Series(threshold, index=i)})\n",
    "    roc_t = roc.iloc[(roc.tf-0).abs().argsort()[:1]]\n",
    "\n",
    "    return list(roc_t['threshold']) \n",
    "\n",
    "\n",
    "# Add prediction probability to dataframe\n",
    "# data['pred_proba'] = result.predict(data[train_cols])\n",
    "\n",
    "# Find optimal probability threshold\n",
    "threshold = Find_Optimal_Cutoff(labels, probs)\n",
    "print(threshold)\n",
    "# [0.31762762459360921]\n",
    "\n",
    "# Find prediction to the dataframe applying threshold\n",
    "preds = [1 if prob > threshold else 0 for prob in probs]\n",
    "\n",
    "# Print confusion Matrix\n",
    "from sklearn.metrics import confusion_matrix\n",
    "consm = confusion_matrix(labels, preds)\n",
    "# array([[175,  98],\n",
    "#        [ 46,  81]])"
   ]
  },
  {
   "cell_type": "code",
   "execution_count": 74,
   "metadata": {},
   "outputs": [],
   "source": [
    "with open(os.path.join(path, \"roc_split_{}_results.txt\".format(str(fold))),\"w+\") as file:\n",
    "    file.write(\"Fold \" + str(fold) + \":\")\n",
    "    file.write(\"\\nOptimal threshold:\\n\")\n",
    "    file.write(str(threshold[0]))\n",
    "    file.write(\"\\nConfusion matrix:\\n\")\n",
    "    file.write(str(consm))"
   ]
  },
  {
   "cell_type": "code",
   "execution_count": 73,
   "metadata": {},
   "outputs": [
    {
     "data": {
      "text/plain": [
       "'/media/visiopharm5/WDGold/deeplearning/MIL/CLAM/results/training_custom/tcga_hcc_tumor_349_v1_cv_highvsrest_622_shufflenet_s1/roc_split_0_results.txt'"
      ]
     },
     "execution_count": 73,
     "metadata": {},
     "output_type": "execute_result"
    }
   ],
   "source": [
    "os.path.join(path, \"roc_split_{}_results.txt\".format(str(fold)))"
   ]
  },
  {
   "cell_type": "code",
   "execution_count": null,
   "metadata": {},
   "outputs": [],
   "source": []
  }
 ],
 "metadata": {
  "kernelspec": {
   "display_name": "Python 3",
   "language": "python",
   "name": "python3"
  },
  "language_info": {
   "codemirror_mode": {
    "name": "ipython",
    "version": 3
   },
   "file_extension": ".py",
   "mimetype": "text/x-python",
   "name": "python",
   "nbconvert_exporter": "python",
   "pygments_lexer": "ipython3",
   "version": "3.7.7"
  }
 },
 "nbformat": 4,
 "nbformat_minor": 4
}
