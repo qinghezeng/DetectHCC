{
 "cells": [
  {
   "cell_type": "code",
   "execution_count": 42,
   "metadata": {},
   "outputs": [],
   "source": [
    "import os\n",
    "import pandas as pd\n",
    "import openslide\n",
    "from PIL import ImageDraw"
   ]
  },
  {
   "cell_type": "code",
   "execution_count": 16,
   "metadata": {},
   "outputs": [
    {
     "name": "stdout",
     "output_type": "stream",
     "text": [
      "(698, 5)\n"
     ]
    },
    {
     "data": {
      "text/html": [
       "<div>\n",
       "<style scoped>\n",
       "    .dataframe tbody tr th:only-of-type {\n",
       "        vertical-align: middle;\n",
       "    }\n",
       "\n",
       "    .dataframe tbody tr th {\n",
       "        vertical-align: top;\n",
       "    }\n",
       "\n",
       "    .dataframe thead th {\n",
       "        text-align: right;\n",
       "    }\n",
       "</style>\n",
       "<table border=\"1\" class=\"dataframe\">\n",
       "  <thead>\n",
       "    <tr style=\"text-align: right;\">\n",
       "      <th></th>\n",
       "      <th>id</th>\n",
       "      <th>type</th>\n",
       "      <th>shape</th>\n",
       "      <th>x</th>\n",
       "      <th>y</th>\n",
       "    </tr>\n",
       "  </thead>\n",
       "  <tbody>\n",
       "    <tr>\n",
       "      <th>0</th>\n",
       "      <td>0</td>\n",
       "      <td>T</td>\n",
       "      <td>freehand</td>\n",
       "      <td>22245196</td>\n",
       "      <td>-10921624</td>\n",
       "    </tr>\n",
       "    <tr>\n",
       "      <th>1</th>\n",
       "      <td>0</td>\n",
       "      <td>T</td>\n",
       "      <td>freehand</td>\n",
       "      <td>21983674</td>\n",
       "      <td>-10921624</td>\n",
       "    </tr>\n",
       "    <tr>\n",
       "      <th>2</th>\n",
       "      <td>0</td>\n",
       "      <td>T</td>\n",
       "      <td>freehand</td>\n",
       "      <td>21591380</td>\n",
       "      <td>-10921624</td>\n",
       "    </tr>\n",
       "    <tr>\n",
       "      <th>3</th>\n",
       "      <td>0</td>\n",
       "      <td>T</td>\n",
       "      <td>freehand</td>\n",
       "      <td>21094476</td>\n",
       "      <td>-10921624</td>\n",
       "    </tr>\n",
       "    <tr>\n",
       "      <th>4</th>\n",
       "      <td>0</td>\n",
       "      <td>T</td>\n",
       "      <td>freehand</td>\n",
       "      <td>20545268</td>\n",
       "      <td>-10921624</td>\n",
       "    </tr>\n",
       "  </tbody>\n",
       "</table>\n",
       "</div>"
      ],
      "text/plain": [
       "   id type     shape         x         y\n",
       "0   0    T  freehand  22245196 -10921624\n",
       "1   0    T  freehand  21983674 -10921624\n",
       "2   0    T  freehand  21591380 -10921624\n",
       "3   0    T  freehand  21094476 -10921624\n",
       "4   0    T  freehand  20545268 -10921624"
      ]
     },
     "metadata": {},
     "output_type": "display_data"
    }
   ],
   "source": [
    "root = \"/media/visiopharm5/WDGold/deeplearning/Hepatocarcinomes/slides_annotations_hammamatsu\"\n",
    "\n",
    "# load slide\n",
    "f = openslide.OpenSlide(os.path.join(root, 'HMNT1747_bis - 2017-07-07 19.50.24.ndpi'))\n",
    "properties=f.properties\n",
    "\n",
    "# read annotations from csv\n",
    "df = pd.read_csv(os.path.join(root, 'HMNT1747_bis_anno_df.csv'), index_col=0)\n",
    "print(df.shape)\n",
    "display(df.head(5))"
   ]
  },
  {
   "cell_type": "markdown",
   "metadata": {},
   "source": [
    "### load annotations (csv)"
   ]
  },
  {
   "cell_type": "code",
   "execution_count": 28,
   "metadata": {},
   "outputs": [
    {
     "name": "stdout",
     "output_type": "stream",
     "text": [
      "offset_x =  14114285\n",
      "offset_y =  -190072\n",
      "mpp_x =  0.2288329519450801\n",
      "mpp_y =  0.2288329519450801\n",
      "Width= 123008, Height= 101376\n"
     ]
    }
   ],
   "source": [
    "# properties to translate coordinates of annotations\n",
    "offsetx = int(properties['hamamatsu.XOffsetFromSlideCentre'])\n",
    "print(\"offset_x = \", offsetx)\n",
    "offsety = int(properties['hamamatsu.YOffsetFromSlideCentre'])\n",
    "print(\"offset_y = \", offsety)\n",
    "mppx = float(properties[openslide.PROPERTY_NAME_MPP_X])\n",
    "print(\"mpp_x = \", mppx)\n",
    "mppy = float(properties[openslide.PROPERTY_NAME_MPP_Y])\n",
    "print(\"mpp_y = \", mppy)\n",
    "\n",
    "\n",
    "# return the level for downsampling. Here : 40x/20=2\n",
    "mag=float(properties[openslide.PROPERTY_NAME_OBJECTIVE_POWER])\n",
    "downsample=mag/20\n",
    "\n",
    "patch_size = 512\n",
    "\n",
    "(width, height)=f.dimensions\n",
    "print(\"Width= \"+str(width)+\", Height= \"+str(height))\n",
    "w = width / downsample\n",
    "h = height / downsample"
   ]
  },
  {
   "cell_type": "code",
   "execution_count": 29,
   "metadata": {},
   "outputs": [],
   "source": [
    "# translate annotations\n",
    "list_point = []\n",
    "types = []\n",
    "shapes = []\n",
    "anno = 0 # counter\n",
    "list_point.append([])\n",
    "\n",
    "for i in range(len(df)):\n",
    "    if (df['id'][i] != anno):\n",
    "        list_point.append([])\n",
    "        types.append(df['type'][i-1])\n",
    "        shapes.append(df['shape'][i-1])\n",
    "        anno = anno + 1\n",
    "    xcor = df['x'][i]\n",
    "    xcor = xcor - offsetx\n",
    "    xcor = xcor /1000 / mppx / downsample / patch_size + w/2\n",
    "    ycor = df['y'][i]\n",
    "    ycor = ycor - offsety\n",
    "    ycor = ycor /1000 / mppy / downsample / patch_size + h/2\n",
    "    list_point[anno].append((xcor, ycor))\n",
    "\n",
    "types.append(df['type'][len(df)-1])\n",
    "shapes.append(df['shape'][len(df)-1])"
   ]
  },
  {
   "cell_type": "code",
   "execution_count": 35,
   "metadata": {},
   "outputs": [],
   "source": [
    "for type in types:\n",
    "    if type != 'T' and type != 'NT':\n",
    "        raise ValueError('Error in annotation type.')"
   ]
  },
  {
   "cell_type": "code",
   "execution_count": null,
   "metadata": {},
   "outputs": [],
   "source": [
    "if all(type == 'T' for type in types) or all(type == 'NT' for type in types):\n",
    "    raise ValueError('Annotation error: only have 1 class.')"
   ]
  },
  {
   "cell_type": "code",
   "execution_count": null,
   "metadata": {},
   "outputs": [],
   "source": [
    "mask_anno = Image.new('L', (w, h))\n",
    "draw = ImageDraw.Draw(mask_anno)\n",
    "for i in range((anno+1)):\n",
    "    if shapes[i] == 'freehand':\n",
    "        if types[i] == 'T':\n",
    "            draw.polygon(list_point[i], outline=255, fill=255)\n",
    "        elif types[i] == 'NT':\n",
    "            draw.polygon(list_point[i], outline=100, fill=100)\n",
    "        else:\n",
    "            raise ValueError('Annotation error: unknown class.')\n",
    "    else:\n",
    "        raise ValueError('Annotation error: not polygon.')\n",
    "#mask_anno.save(out_path + '_grayscale_annotation_.png')\n",
    "\n",
    "# resize the annotation to match the prob map\n",
    "crop = mask_anno.crop((0, 0, heatmap.shape[1]*times, heatmap.shape[0]*times))\n",
    "# default \"resample\" is set to Image.NEAREST. \n",
    "# NEAREST is the best here (downsampling) on all overall indicators with fine annotation. \n",
    "# The AUC and accuracy could be very different. Also depends on your PIL version.\n",
    "annotations_im = crop.resize((heatmap.shape[1], heatmap.shape[0]))\n",
    "annotations_im.save(out_path + '_annotation.png')\n",
    "annotations = np.asanyarray(annotations_im)"
   ]
  },
  {
   "cell_type": "code",
   "execution_count": 78,
   "metadata": {},
   "outputs": [],
   "source": [
    "import math\n",
    "import numpy as np"
   ]
  },
  {
   "cell_type": "code",
   "execution_count": 149,
   "metadata": {},
   "outputs": [],
   "source": [
    "slide_name = \"TCGA-K7-A6G5-01Z-00-DX1.6681DB17-D11D-40DE-829C-2DB425BD3083.h5\""
   ]
  },
  {
   "cell_type": "code",
   "execution_count": 133,
   "metadata": {},
   "outputs": [
    {
     "name": "stdout",
     "output_type": "stream",
     "text": [
      "[107249  89559]\n",
      "[53624 44779]\n",
      "[1. 1.]\n",
      "TCGA-K7-A6G5-01Z-00-DX1.6681DB17-D11D-40DE-829C-2DB425BD3083\n"
     ]
    }
   ],
   "source": [
    "with openslide.OpenSlide(os.path.join(\"/media/visiopharm5/WDGold/deeplearning/MIL/CLAM/data/data_tcga_hcc\", \n",
    "                                      slide_name[:-3]+\".svs\")) as f:\n",
    "    print(np.asarray(f.dimensions))\n",
    "\n",
    "    if (f.properties['aperio.AppMag'] == '20'): # 20x  ~= 0.5 or 1.0 (not correctly recognized)\n",
    "        downsample = 1.0\n",
    "    elif (f.properties['aperio.AppMag'] == '40'): # 40x pixelsize ~= 0.25\n",
    "        downsample = 2.0\n",
    "    else:\n",
    "        raise Exception(\"The highest magnification should be 20x or 40x.\")\n",
    "\n",
    "    print(np.asarray([np.int64(math.floor(f.dimensions[0]/downsample)), np.int64(math.floor(f.dimensions[1]/downsample))]))\n",
    "\n",
    "    print(np.asarray([np.float64(1), np.float64(1)]))\n",
    "\n",
    "    print(slide_name[:-3])"
   ]
  },
  {
   "cell_type": "code",
   "execution_count": 150,
   "metadata": {},
   "outputs": [
    {
     "name": "stdout",
     "output_type": "stream",
     "text": [
      "downsample\n",
      "[1. 1.]\n",
      "downsampled_level_dim\n",
      "[53624 44779]\n",
      "level_dim\n",
      "[107249  89559]\n",
      "patch_level\n",
      "0\n",
      "wsi_name\n",
      "TCGA-K7-A6G5-01Z-00-DX1.6681DB17-D11D-40DE-829C-2DB425BD3083\n"
     ]
    }
   ],
   "source": [
    "import h5py\n",
    "filename = os.path.join(\"/media/visiopharm5/WDGold/deeplearning/MIL/CLAM/results/patches\", \n",
    "                        slide_name)\n",
    "\n",
    "with h5py.File(filename, \"r\") as f_ref:\n",
    "    for k in range(len(f_ref[\"imgs\"].attrs.values())): # coords have no attributes\n",
    "        print(list(f_ref[\"imgs\"].attrs.keys())[k])\n",
    "        print(list(f_ref[\"imgs\"].attrs.values())[k])"
   ]
  },
  {
   "cell_type": "code",
   "execution_count": 146,
   "metadata": {},
   "outputs": [],
   "source": [
    "slide_name = \"HMNT0116_bis - 2017-06-11 13.48.07.h5\""
   ]
  },
  {
   "cell_type": "code",
   "execution_count": 143,
   "metadata": {},
   "outputs": [
    {
     "name": "stdout",
     "output_type": "stream",
     "text": [
      "[99200 96768]\n",
      "[49600 48384]\n",
      "[1. 1.]\n",
      "HMNT0116_bis - 2017-06-11 13.48.07\n"
     ]
    }
   ],
   "source": [
    "with openslide.OpenSlide(os.path.join('/media/visiopharm5/WDGold/deeplearning/Hepatocarcinomes/slides_annotations_hammamatsu', slide_name[:-3]+'.ndpi')) as f:\n",
    "\n",
    "    print(np.asarray(f.dimensions))\n",
    "    \n",
    "    if (f.properties[openslide.PROPERTY_NAME_OBJECTIVE_POWER] == '20'): # 20x  ~= 0.5 or 1.0 (not correctly recognized)\n",
    "        downsample = 1.0\n",
    "    elif (f.properties[openslide.PROPERTY_NAME_OBJECTIVE_POWER] == '40'): # 40x pixelsize ~= 0.25\n",
    "        downsample = 2.0\n",
    "    else:\n",
    "        raise Exception(\"The highest magnification should be 20x or 40x.\")\n",
    "\n",
    "    print(np.asarray([np.int64(math.floor(f.dimensions[0]/downsample)), np.int64(math.floor(f.dimensions[1]/downsample))]))\n",
    "\n",
    "    print(np.asarray([np.float64(1), np.float64(1)]))\n",
    "\n",
    "    print(slide_name[:-3])"
   ]
  },
  {
   "cell_type": "code",
   "execution_count": 148,
   "metadata": {},
   "outputs": [
    {
     "name": "stdout",
     "output_type": "stream",
     "text": [
      "downsample\n",
      "[1. 1.]\n",
      "downsampled_level_dim\n",
      "[49600 48384]\n",
      "level_dim\n",
      "[99200 96768]\n",
      "patch_level\n",
      "0\n",
      "wsi_name\n",
      "HMNT0116_bis - 2017-06-11 13.48.07\n"
     ]
    }
   ],
   "source": [
    "filename = os.path.join(\"/media/visiopharm5/WDRed(backup)/clam_extension/results/patches_mondor_tumor\", \n",
    "                        slide_name)\n",
    "\n",
    "with h5py.File(filename, \"r\") as f_ref:\n",
    "    for k in range(len(f_ref[\"imgs\"].attrs.values())): # coords have no attributes\n",
    "        print(list(f_ref[\"imgs\"].attrs.keys())[k])\n",
    "        print(list(f_ref[\"imgs\"].attrs.values())[k])"
   ]
  },
  {
   "cell_type": "code",
   "execution_count": null,
   "metadata": {},
   "outputs": [],
   "source": []
  },
  {
   "cell_type": "code",
   "execution_count": 40,
   "metadata": {},
   "outputs": [
    {
     "ename": "TypeError",
     "evalue": "Not a location id (invalid object ID)",
     "output_type": "error",
     "traceback": [
      "\u001b[0;31m---------------------------------------------------------------------------\u001b[0m",
      "\u001b[0;31mTypeError\u001b[0m                                 Traceback (most recent call last)",
      "\u001b[0;32m~/anaconda3/lib/python3.8/site-packages/IPython/core/formatters.py\u001b[0m in \u001b[0;36m__call__\u001b[0;34m(self, obj)\u001b[0m\n\u001b[1;32m    700\u001b[0m                 \u001b[0mtype_pprinters\u001b[0m\u001b[0;34m=\u001b[0m\u001b[0mself\u001b[0m\u001b[0;34m.\u001b[0m\u001b[0mtype_printers\u001b[0m\u001b[0;34m,\u001b[0m\u001b[0;34m\u001b[0m\u001b[0;34m\u001b[0m\u001b[0m\n\u001b[1;32m    701\u001b[0m                 deferred_pprinters=self.deferred_printers)\n\u001b[0;32m--> 702\u001b[0;31m             \u001b[0mprinter\u001b[0m\u001b[0;34m.\u001b[0m\u001b[0mpretty\u001b[0m\u001b[0;34m(\u001b[0m\u001b[0mobj\u001b[0m\u001b[0;34m)\u001b[0m\u001b[0;34m\u001b[0m\u001b[0;34m\u001b[0m\u001b[0m\n\u001b[0m\u001b[1;32m    703\u001b[0m             \u001b[0mprinter\u001b[0m\u001b[0;34m.\u001b[0m\u001b[0mflush\u001b[0m\u001b[0;34m(\u001b[0m\u001b[0;34m)\u001b[0m\u001b[0;34m\u001b[0m\u001b[0;34m\u001b[0m\u001b[0m\n\u001b[1;32m    704\u001b[0m             \u001b[0;32mreturn\u001b[0m \u001b[0mstream\u001b[0m\u001b[0;34m.\u001b[0m\u001b[0mgetvalue\u001b[0m\u001b[0;34m(\u001b[0m\u001b[0;34m)\u001b[0m\u001b[0;34m\u001b[0m\u001b[0;34m\u001b[0m\u001b[0m\n",
      "\u001b[0;32m~/anaconda3/lib/python3.8/site-packages/IPython/lib/pretty.py\u001b[0m in \u001b[0;36mpretty\u001b[0;34m(self, obj)\u001b[0m\n\u001b[1;32m    392\u001b[0m                         \u001b[0;32mif\u001b[0m \u001b[0mcls\u001b[0m \u001b[0;32mis\u001b[0m \u001b[0;32mnot\u001b[0m \u001b[0mobject\u001b[0m\u001b[0;31m \u001b[0m\u001b[0;31m\\\u001b[0m\u001b[0;34m\u001b[0m\u001b[0;34m\u001b[0m\u001b[0m\n\u001b[1;32m    393\u001b[0m                                 \u001b[0;32mand\u001b[0m \u001b[0mcallable\u001b[0m\u001b[0;34m(\u001b[0m\u001b[0mcls\u001b[0m\u001b[0;34m.\u001b[0m\u001b[0m__dict__\u001b[0m\u001b[0;34m.\u001b[0m\u001b[0mget\u001b[0m\u001b[0;34m(\u001b[0m\u001b[0;34m'__repr__'\u001b[0m\u001b[0;34m)\u001b[0m\u001b[0;34m)\u001b[0m\u001b[0;34m:\u001b[0m\u001b[0;34m\u001b[0m\u001b[0;34m\u001b[0m\u001b[0m\n\u001b[0;32m--> 394\u001b[0;31m                             \u001b[0;32mreturn\u001b[0m \u001b[0m_repr_pprint\u001b[0m\u001b[0;34m(\u001b[0m\u001b[0mobj\u001b[0m\u001b[0;34m,\u001b[0m \u001b[0mself\u001b[0m\u001b[0;34m,\u001b[0m \u001b[0mcycle\u001b[0m\u001b[0;34m)\u001b[0m\u001b[0;34m\u001b[0m\u001b[0;34m\u001b[0m\u001b[0m\n\u001b[0m\u001b[1;32m    395\u001b[0m \u001b[0;34m\u001b[0m\u001b[0m\n\u001b[1;32m    396\u001b[0m             \u001b[0;32mreturn\u001b[0m \u001b[0m_default_pprint\u001b[0m\u001b[0;34m(\u001b[0m\u001b[0mobj\u001b[0m\u001b[0;34m,\u001b[0m \u001b[0mself\u001b[0m\u001b[0;34m,\u001b[0m \u001b[0mcycle\u001b[0m\u001b[0;34m)\u001b[0m\u001b[0;34m\u001b[0m\u001b[0;34m\u001b[0m\u001b[0m\n",
      "\u001b[0;32m~/anaconda3/lib/python3.8/site-packages/IPython/lib/pretty.py\u001b[0m in \u001b[0;36m_repr_pprint\u001b[0;34m(obj, p, cycle)\u001b[0m\n\u001b[1;32m    698\u001b[0m     \u001b[0;34m\"\"\"A pprint that just redirects to the normal repr function.\"\"\"\u001b[0m\u001b[0;34m\u001b[0m\u001b[0;34m\u001b[0m\u001b[0m\n\u001b[1;32m    699\u001b[0m     \u001b[0;31m# Find newlines and replace them with p.break_()\u001b[0m\u001b[0;34m\u001b[0m\u001b[0;34m\u001b[0m\u001b[0;34m\u001b[0m\u001b[0m\n\u001b[0;32m--> 700\u001b[0;31m     \u001b[0moutput\u001b[0m \u001b[0;34m=\u001b[0m \u001b[0mrepr\u001b[0m\u001b[0;34m(\u001b[0m\u001b[0mobj\u001b[0m\u001b[0;34m)\u001b[0m\u001b[0;34m\u001b[0m\u001b[0;34m\u001b[0m\u001b[0m\n\u001b[0m\u001b[1;32m    701\u001b[0m     \u001b[0mlines\u001b[0m \u001b[0;34m=\u001b[0m \u001b[0moutput\u001b[0m\u001b[0;34m.\u001b[0m\u001b[0msplitlines\u001b[0m\u001b[0;34m(\u001b[0m\u001b[0;34m)\u001b[0m\u001b[0;34m\u001b[0m\u001b[0;34m\u001b[0m\u001b[0m\n\u001b[1;32m    702\u001b[0m     \u001b[0;32mwith\u001b[0m \u001b[0mp\u001b[0m\u001b[0;34m.\u001b[0m\u001b[0mgroup\u001b[0m\u001b[0;34m(\u001b[0m\u001b[0;34m)\u001b[0m\u001b[0;34m:\u001b[0m\u001b[0;34m\u001b[0m\u001b[0;34m\u001b[0m\u001b[0m\n",
      "\u001b[0;32m~/anaconda3/lib/python3.8/site-packages/h5py/_hl/base.py\u001b[0m in \u001b[0;36m__str__\u001b[0;34m(self)\u001b[0m\n\u001b[1;32m    324\u001b[0m \u001b[0;32mclass\u001b[0m \u001b[0mKeysViewHDF5\u001b[0m\u001b[0;34m(\u001b[0m\u001b[0mKeysView\u001b[0m\u001b[0;34m)\u001b[0m\u001b[0;34m:\u001b[0m\u001b[0;34m\u001b[0m\u001b[0;34m\u001b[0m\u001b[0m\n\u001b[1;32m    325\u001b[0m     \u001b[0;32mdef\u001b[0m \u001b[0m__str__\u001b[0m\u001b[0;34m(\u001b[0m\u001b[0mself\u001b[0m\u001b[0;34m)\u001b[0m\u001b[0;34m:\u001b[0m\u001b[0;34m\u001b[0m\u001b[0;34m\u001b[0m\u001b[0m\n\u001b[0;32m--> 326\u001b[0;31m         \u001b[0;32mreturn\u001b[0m \u001b[0;34m\"<KeysViewHDF5 {}>\"\u001b[0m\u001b[0;34m.\u001b[0m\u001b[0mformat\u001b[0m\u001b[0;34m(\u001b[0m\u001b[0mlist\u001b[0m\u001b[0;34m(\u001b[0m\u001b[0mself\u001b[0m\u001b[0;34m)\u001b[0m\u001b[0;34m)\u001b[0m\u001b[0;34m\u001b[0m\u001b[0;34m\u001b[0m\u001b[0m\n\u001b[0m\u001b[1;32m    327\u001b[0m \u001b[0;34m\u001b[0m\u001b[0m\n\u001b[1;32m    328\u001b[0m     \u001b[0m__repr__\u001b[0m \u001b[0;34m=\u001b[0m \u001b[0m__str__\u001b[0m\u001b[0;34m\u001b[0m\u001b[0;34m\u001b[0m\u001b[0m\n",
      "\u001b[0;32m~/anaconda3/lib/python3.8/_collections_abc.py\u001b[0m in \u001b[0;36m__iter__\u001b[0;34m(self)\u001b[0m\n\u001b[1;32m    718\u001b[0m \u001b[0;34m\u001b[0m\u001b[0m\n\u001b[1;32m    719\u001b[0m     \u001b[0;32mdef\u001b[0m \u001b[0m__iter__\u001b[0m\u001b[0;34m(\u001b[0m\u001b[0mself\u001b[0m\u001b[0;34m)\u001b[0m\u001b[0;34m:\u001b[0m\u001b[0;34m\u001b[0m\u001b[0;34m\u001b[0m\u001b[0m\n\u001b[0;32m--> 720\u001b[0;31m         \u001b[0;32myield\u001b[0m \u001b[0;32mfrom\u001b[0m \u001b[0mself\u001b[0m\u001b[0;34m.\u001b[0m\u001b[0m_mapping\u001b[0m\u001b[0;34m\u001b[0m\u001b[0;34m\u001b[0m\u001b[0m\n\u001b[0m\u001b[1;32m    721\u001b[0m \u001b[0;34m\u001b[0m\u001b[0m\n\u001b[1;32m    722\u001b[0m \u001b[0mKeysView\u001b[0m\u001b[0;34m.\u001b[0m\u001b[0mregister\u001b[0m\u001b[0;34m(\u001b[0m\u001b[0mdict_keys\u001b[0m\u001b[0;34m)\u001b[0m\u001b[0;34m\u001b[0m\u001b[0;34m\u001b[0m\u001b[0m\n",
      "\u001b[0;32m~/anaconda3/lib/python3.8/site-packages/h5py/_hl/group.py\u001b[0m in \u001b[0;36m__iter__\u001b[0;34m(self)\u001b[0m\n\u001b[1;32m    407\u001b[0m     \u001b[0;32mdef\u001b[0m \u001b[0m__iter__\u001b[0m\u001b[0;34m(\u001b[0m\u001b[0mself\u001b[0m\u001b[0;34m)\u001b[0m\u001b[0;34m:\u001b[0m\u001b[0;34m\u001b[0m\u001b[0;34m\u001b[0m\u001b[0m\n\u001b[1;32m    408\u001b[0m         \u001b[0;34m\"\"\" Iterate over member names \"\"\"\u001b[0m\u001b[0;34m\u001b[0m\u001b[0;34m\u001b[0m\u001b[0m\n\u001b[0;32m--> 409\u001b[0;31m         \u001b[0;32mfor\u001b[0m \u001b[0mx\u001b[0m \u001b[0;32min\u001b[0m \u001b[0mself\u001b[0m\u001b[0;34m.\u001b[0m\u001b[0mid\u001b[0m\u001b[0;34m.\u001b[0m\u001b[0m__iter__\u001b[0m\u001b[0;34m(\u001b[0m\u001b[0;34m)\u001b[0m\u001b[0;34m:\u001b[0m\u001b[0;34m\u001b[0m\u001b[0;34m\u001b[0m\u001b[0m\n\u001b[0m\u001b[1;32m    410\u001b[0m             \u001b[0;32myield\u001b[0m \u001b[0mself\u001b[0m\u001b[0;34m.\u001b[0m\u001b[0m_d\u001b[0m\u001b[0;34m(\u001b[0m\u001b[0mx\u001b[0m\u001b[0;34m)\u001b[0m\u001b[0;34m\u001b[0m\u001b[0;34m\u001b[0m\u001b[0m\n\u001b[1;32m    411\u001b[0m \u001b[0;34m\u001b[0m\u001b[0m\n",
      "\u001b[0;32mh5py/h5g.pyx\u001b[0m in \u001b[0;36mh5py.h5g.GroupID.__iter__\u001b[0;34m()\u001b[0m\n",
      "\u001b[0;32mh5py/h5g.pyx\u001b[0m in \u001b[0;36mh5py.h5g.GroupID.__iter__\u001b[0;34m()\u001b[0m\n",
      "\u001b[0;32mh5py/h5g.pyx\u001b[0m in \u001b[0;36mh5py.h5g.GroupIter.__init__\u001b[0;34m()\u001b[0m\n",
      "\u001b[0;32mh5py/_objects.pyx\u001b[0m in \u001b[0;36mh5py._objects.with_phil.wrapper\u001b[0;34m()\u001b[0m\n",
      "\u001b[0;32mh5py/_objects.pyx\u001b[0m in \u001b[0;36mh5py._objects.with_phil.wrapper\u001b[0;34m()\u001b[0m\n",
      "\u001b[0;32mh5py/h5g.pyx\u001b[0m in \u001b[0;36mh5py.h5g.GroupID.get_num_objs\u001b[0;34m()\u001b[0m\n",
      "\u001b[0;31mTypeError\u001b[0m: Not a location id (invalid object ID)"
     ]
    }
   ],
   "source": [
    "f.keys()"
   ]
  },
  {
   "cell_type": "code",
   "execution_count": 59,
   "metadata": {},
   "outputs": [
    {
     "name": "stdout",
     "output_type": "stream",
     "text": [
      "/media/visiopharm5/WDGold/deeplearning/Hepatocarcinomes/slides_annotations_hammamatsu/HMNT0001.ndpi\n",
      "/media/visiopharm5/WDGold/deeplearning/Hepatocarcinomes/slides_annotations_hammamatsu/HMNT0001_bis - 2017-05-31 15.03.09.ndpi\n",
      "/media/visiopharm5/WDGold/deeplearning/Hepatocarcinomes/slides_annotations_hammamatsu/HMNT0003 - 2017-05-29 15.41.33.ndpi\n",
      "/media/visiopharm5/WDGold/deeplearning/Hepatocarcinomes/slides_annotations_hammamatsu/HMNT0003_bis.ndpi\n",
      "/media/visiopharm5/WDGold/deeplearning/Hepatocarcinomes/slides_annotations_hammamatsu/HMNT0004 - 2017-07-08 21.07.19.ndpi\n",
      "/media/visiopharm5/WDGold/deeplearning/Hepatocarcinomes/slides_annotations_hammamatsu/HMNT0023 - 2017-08-19 00.15.23.ndpi\n",
      "/media/visiopharm5/WDGold/deeplearning/Hepatocarcinomes/slides_annotations_hammamatsu/HMNT0023_bis - 2017-08-19 01.13.00.ndpi\n",
      "(21,)\n"
     ]
    },
    {
     "data": {
      "text/plain": [
       "0    {59520, 41216}\n",
       "1    {59520, 41216}\n",
       "2          HMNT0001\n",
       "3    {53760, 30464}\n",
       "4    {53760, 30464}\n",
       "Name: 0, dtype: object"
      ]
     },
     "metadata": {},
     "output_type": "display_data"
    }
   ],
   "source": [
    "import numpy as np\n",
    "import math\n",
    "\n",
    "path_slide = \"/media/visiopharm5/WDGold/deeplearning/Hepatocarcinomes/slides_annotations_hammamatsu\"\n",
    "\n",
    "list_slide = []\n",
    "\n",
    "for root, dirs, files in os.walk(path_slide):\n",
    "    for file in files[:20]:\n",
    "        if file.endswith(\"ndpi\"):\n",
    "            print(os.path.join(path_slide, file))\n",
    "            with openslide.OpenSlide(os.path.join(path_slide, file)) as f_ref:\n",
    "                  # f_ref.properties['aperio.AppMag']\n",
    "                    if (f_ref.properties[openslide.PROPERTY_NAME_OBJECTIVE_POWER] == '20'): # 20x  ~= 0.5 or 1.0 (not correctly recognized)\n",
    "                          downsample = 1.0\n",
    "                    elif (f_ref.properties[openslide.PROPERTY_NAME_OBJECTIVE_POWER] == '40'): # 40x pixelsize ~= 0.25\n",
    "                          downsample = 2.0\n",
    "                    else:\n",
    "                          raise Exception(\"The highest magnification should be 20x or 40x.\")\n",
    "\n",
    "                    list_slide.append(pd.DataFrame.from_dict({\"downsampled_level_dim\":set((math.floor(f_ref.dimensions[0]/downsample), math.floor(f_ref.dimensions[1]/downsample))),\n",
    "                    \"level_dim\":set(f_ref.dimensions), \"wsi_name\":file[:-5]}, dtype=object).iloc[0,:])\n",
    "                \n",
    "df = pd.concat(list_slide, ignore_index=True)\n",
    "print(df.shape)\n",
    "display(df.head(5))\n",
    "\n",
    "df.to_csv(os.path.join(path_slide, \"slide_info.csv\"))"
   ]
  },
  {
   "cell_type": "code",
   "execution_count": 35,
   "metadata": {},
   "outputs": [
    {
     "ename": "OpenSlideUnsupportedFormatError",
     "evalue": "Unsupported or missing image file",
     "output_type": "error",
     "traceback": [
      "\u001b[0;31m---------------------------------------------------------------------------\u001b[0m",
      "\u001b[0;31mOpenSlideUnsupportedFormatError\u001b[0m           Traceback (most recent call last)",
      "\u001b[0;32m<ipython-input-35-0995ee416397>\u001b[0m in \u001b[0;36m<module>\u001b[0;34m\u001b[0m\n\u001b[0;32m----> 1\u001b[0;31m \u001b[0;32mwith\u001b[0m \u001b[0mopenslide\u001b[0m\u001b[0;34m.\u001b[0m\u001b[0mOpenSlide\u001b[0m\u001b[0;34m(\u001b[0m\u001b[0;34m\"/media/visiopharm5/WDGold/deeplearning/Hepatocarcinomes/slides_annotations_hammamatsu/HMNT0279 - 2017-07-15 19.24.50.ndpi\"\u001b[0m\u001b[0;34m)\u001b[0m \u001b[0;32mas\u001b[0m \u001b[0mf_ref\u001b[0m\u001b[0;34m:\u001b[0m\u001b[0;34m\u001b[0m\u001b[0;34m\u001b[0m\u001b[0m\n\u001b[0m\u001b[1;32m      2\u001b[0m     \u001b[0;32mpass\u001b[0m\u001b[0;34m\u001b[0m\u001b[0;34m\u001b[0m\u001b[0m\n",
      "\u001b[0;32m~/anaconda3/lib/python3.8/site-packages/openslide/__init__.py\u001b[0m in \u001b[0;36m__init__\u001b[0;34m(self, filename)\u001b[0m\n\u001b[1;32m    158\u001b[0m         \u001b[0mAbstractSlide\u001b[0m\u001b[0;34m.\u001b[0m\u001b[0m__init__\u001b[0m\u001b[0;34m(\u001b[0m\u001b[0mself\u001b[0m\u001b[0;34m)\u001b[0m\u001b[0;34m\u001b[0m\u001b[0;34m\u001b[0m\u001b[0m\n\u001b[1;32m    159\u001b[0m         \u001b[0mself\u001b[0m\u001b[0;34m.\u001b[0m\u001b[0m_filename\u001b[0m \u001b[0;34m=\u001b[0m \u001b[0mfilename\u001b[0m\u001b[0;34m\u001b[0m\u001b[0;34m\u001b[0m\u001b[0m\n\u001b[0;32m--> 160\u001b[0;31m         \u001b[0mself\u001b[0m\u001b[0;34m.\u001b[0m\u001b[0m_osr\u001b[0m \u001b[0;34m=\u001b[0m \u001b[0mlowlevel\u001b[0m\u001b[0;34m.\u001b[0m\u001b[0mopen\u001b[0m\u001b[0;34m(\u001b[0m\u001b[0mfilename\u001b[0m\u001b[0;34m)\u001b[0m\u001b[0;34m\u001b[0m\u001b[0;34m\u001b[0m\u001b[0m\n\u001b[0m\u001b[1;32m    161\u001b[0m \u001b[0;34m\u001b[0m\u001b[0m\n\u001b[1;32m    162\u001b[0m     \u001b[0;32mdef\u001b[0m \u001b[0m__repr__\u001b[0m\u001b[0;34m(\u001b[0m\u001b[0mself\u001b[0m\u001b[0;34m)\u001b[0m\u001b[0;34m:\u001b[0m\u001b[0;34m\u001b[0m\u001b[0;34m\u001b[0m\u001b[0m\n",
      "\u001b[0;32m~/anaconda3/lib/python3.8/site-packages/openslide/lowlevel.py\u001b[0m in \u001b[0;36m_check_open\u001b[0;34m(result, _func, _args)\u001b[0m\n\u001b[1;32m    148\u001b[0m \u001b[0;32mdef\u001b[0m \u001b[0m_check_open\u001b[0m\u001b[0;34m(\u001b[0m\u001b[0mresult\u001b[0m\u001b[0;34m,\u001b[0m \u001b[0m_func\u001b[0m\u001b[0;34m,\u001b[0m \u001b[0m_args\u001b[0m\u001b[0;34m)\u001b[0m\u001b[0;34m:\u001b[0m\u001b[0;34m\u001b[0m\u001b[0;34m\u001b[0m\u001b[0m\n\u001b[1;32m    149\u001b[0m     \u001b[0;32mif\u001b[0m \u001b[0mresult\u001b[0m \u001b[0;32mis\u001b[0m \u001b[0;32mNone\u001b[0m\u001b[0;34m:\u001b[0m\u001b[0;34m\u001b[0m\u001b[0;34m\u001b[0m\u001b[0m\n\u001b[0;32m--> 150\u001b[0;31m         raise OpenSlideUnsupportedFormatError(\n\u001b[0m\u001b[1;32m    151\u001b[0m                 \"Unsupported or missing image file\")\n\u001b[1;32m    152\u001b[0m     \u001b[0mslide\u001b[0m \u001b[0;34m=\u001b[0m \u001b[0m_OpenSlide\u001b[0m\u001b[0;34m(\u001b[0m\u001b[0mc_void_p\u001b[0m\u001b[0;34m(\u001b[0m\u001b[0mresult\u001b[0m\u001b[0;34m)\u001b[0m\u001b[0;34m)\u001b[0m\u001b[0;34m\u001b[0m\u001b[0;34m\u001b[0m\u001b[0m\n",
      "\u001b[0;31mOpenSlideUnsupportedFormatError\u001b[0m: Unsupported or missing image file"
     ]
    }
   ],
   "source": [
    "with openslide.OpenSlide(\"/media/visiopharm5/WDGold/deeplearning/Hepatocarcinomes/slides_annotations_hammamatsu/HMNT0279 - 2017-07-15 19.24.50.ndpi\") as f_ref:\n",
    "    pass"
   ]
  },
  {
   "cell_type": "code",
   "execution_count": 62,
   "metadata": {},
   "outputs": [
    {
     "data": {
      "text/plain": [
       "['HMNT0472_P672772_03 - 2019-11-05 01.18.44.qpdata',\n",
       " 'HMNT0516_P622582-05-HES.qpdata',\n",
       " 'HMNT1781_P705474_01_HES - 2018-11-01 10.08.24.qpdata',\n",
       " 'HMNT1885_P703089_B02_HES - 2018-11-01 09.22.15.qpdata',\n",
       " 'HMNT2066_P734242_01_HES - 2018-11-01 16.13.44.qpdata',\n",
       " 'HMNT2321_757692-05-HES.qpdata',\n",
       " 'HMNT2326_P758321-B04-HES.qpdata',\n",
       " 'HMNT2386_P761529-C01-HES.qpdata',\n",
       " 'HMNT2387_P761471-A03-HES.qpdata',\n",
       " 'HMNT2409_P764429_B01_HE - 2020-07-23 16.26.41.qpdata',\n",
       " 'HMNT2410_P764429_C06_HE - 2020-07-23 16.13.36.qpdata']"
      ]
     },
     "metadata": {},
     "output_type": "display_data"
    },
    {
     "name": "stdout",
     "output_type": "stream",
     "text": [
      "11\n"
     ]
    }
   ],
   "source": [
    "list_anno = []\n",
    "for roots, dirs, files in os.walk(\"/media/visiopharm5/WDGold/deeplearning/Hepatocarcinomes/slides_annotations_hammamatsu\"):\n",
    "    for file in files:\n",
    "        if file.endswith(\".qpdata\"):\n",
    "            list_anno.append(file)\n",
    "display(list_anno)\n",
    "print(len(list_anno))"
   ]
  },
  {
   "cell_type": "code",
   "execution_count": 70,
   "metadata": {},
   "outputs": [
    {
     "name": "stdout",
     "output_type": "stream",
     "text": [
      "HMNT2410_P764429_C06_HE - 2020-07-23 16.13.36.ndpi\n",
      "HMNT0472_P672772_03 - 2019-11-05 01.18.44.ndpi\n",
      "HMNT2409_P764429_B01_HE - 2020-07-23 16.26.41.ndpi\n",
      "HMNT1781_P705474_01_HES - 2018-11-01 10.08.24.ndpi\n",
      "HMNT1885_P703089_B02_HES - 2018-11-01 09.22.15.ndpi\n",
      "HMNT2066_P734242_01_HES - 2018-11-01 16.13.44.ndpi\n"
     ]
    }
   ],
   "source": [
    "from shutil import copyfile\n",
    "import json\n",
    "for root, dirs, files in os.walk(\"/media/visiopharm5/WDRed(backup)/qupath_mondor/data\", topdown=False):\n",
    "    for file in files:\n",
    "        if file == \"server.json\":\n",
    "            with open(os.path.join(root, file)) as f:\n",
    "                server = json.load(f)\n",
    "                if server[\"metadata\"][\"name\"].split(\"/\")[-1].replace(\".ndpi\", \".qpdata\") in list_anno:\n",
    "                    print(server[\"metadata\"][\"name\"])\n",
    "                    copyfile(os.path.join(\"/media/visiopharm5/WDGold/deeplearning/Hepatocarcinomes/slides_annotations_hammamatsu\", server[\"metadata\"][\"name\"].split(\"/\")[-1].replace(\".ndpi\", \".qpdata\")), os.path.join(root, \"data.qpdata\"))"
   ]
  },
  {
   "cell_type": "code",
   "execution_count": null,
   "metadata": {},
   "outputs": [],
   "source": []
  }
 ],
 "metadata": {
  "kernelspec": {
   "display_name": "Python 3",
   "language": "python",
   "name": "python3"
  },
  "language_info": {
   "codemirror_mode": {
    "name": "ipython",
    "version": 3
   },
   "file_extension": ".py",
   "mimetype": "text/x-python",
   "name": "python",
   "nbconvert_exporter": "python",
   "pygments_lexer": "ipython3",
   "version": "3.8.3"
  }
 },
 "nbformat": 4,
 "nbformat_minor": 4
}
