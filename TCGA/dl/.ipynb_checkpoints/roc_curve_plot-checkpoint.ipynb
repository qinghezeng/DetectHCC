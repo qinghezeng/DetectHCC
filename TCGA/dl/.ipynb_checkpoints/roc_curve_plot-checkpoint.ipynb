{
 "cells": [
  {
   "cell_type": "code",
   "execution_count": 2,
   "metadata": {},
   "outputs": [],
   "source": [
    "# roc curve and auc\n",
    "import os\n",
    "import pandas as pd\n",
    "from sklearn.metrics import roc_curve, roc_auc_score, classification_report\n",
    "from matplotlib import pyplot"
   ]
  },
  {
   "cell_type": "code",
   "execution_count": 14,
   "metadata": {},
   "outputs": [
    {
     "name": "stdout",
     "output_type": "stream",
     "text": [
      "/media/visiopharm5/WDGold/deeplearning/MIL/CLAM/eval_results/EVAL_mondor_hcc_tumor_258_10G_preliminary_IFN-γ_cv_highvsrest_00X_CLAM_50_s1_cv/fold_8.csv\n"
     ]
    }
   ],
   "source": [
    "root = \"/media/visiopharm5/WDGold/deeplearning/MIL/CLAM/eval_results\"\n",
    "target = \"EVAL_mondor_hcc_tumor_258_10G_preliminary_IFN-γ_cv_highvsrest_00X_CLAM_50_s1_cv\"\n",
    "fold = 8\n",
    "path = os.path.join(root, target)\n",
    "file = os.path.join(path, \"fold_\"+str(fold)+\".csv\")\n",
    "print(file)"
   ]
  },
  {
   "cell_type": "code",
   "execution_count": 15,
   "metadata": {},
   "outputs": [
    {
     "name": "stdout",
     "output_type": "stream",
     "text": [
      "(258, 5)\n"
     ]
    },
    {
     "data": {
      "text/html": [
       "<div>\n",
       "<style scoped>\n",
       "    .dataframe tbody tr th:only-of-type {\n",
       "        vertical-align: middle;\n",
       "    }\n",
       "\n",
       "    .dataframe tbody tr th {\n",
       "        vertical-align: top;\n",
       "    }\n",
       "\n",
       "    .dataframe thead th {\n",
       "        text-align: right;\n",
       "    }\n",
       "</style>\n",
       "<table border=\"1\" class=\"dataframe\">\n",
       "  <thead>\n",
       "    <tr style=\"text-align: right;\">\n",
       "      <th></th>\n",
       "      <th>slide_id</th>\n",
       "      <th>Y</th>\n",
       "      <th>Y_hat</th>\n",
       "      <th>p_0</th>\n",
       "      <th>p_1</th>\n",
       "    </tr>\n",
       "  </thead>\n",
       "  <tbody>\n",
       "    <tr>\n",
       "      <th>0</th>\n",
       "      <td>HMNT0346 - 2017-06-13 16.30.20</td>\n",
       "      <td>1.0</td>\n",
       "      <td>0.0</td>\n",
       "      <td>0.831629</td>\n",
       "      <td>0.168371</td>\n",
       "    </tr>\n",
       "    <tr>\n",
       "      <th>1</th>\n",
       "      <td>HMNT0346_bis - 2017-06-13 17.02.45</td>\n",
       "      <td>1.0</td>\n",
       "      <td>0.0</td>\n",
       "      <td>0.810711</td>\n",
       "      <td>0.189289</td>\n",
       "    </tr>\n",
       "    <tr>\n",
       "      <th>2</th>\n",
       "      <td>HMNT0153 - 2017-06-08 16.41.05</td>\n",
       "      <td>1.0</td>\n",
       "      <td>0.0</td>\n",
       "      <td>0.956646</td>\n",
       "      <td>0.043354</td>\n",
       "    </tr>\n",
       "    <tr>\n",
       "      <th>3</th>\n",
       "      <td>HMNT0153_bis - 2017-06-08 17.21.02</td>\n",
       "      <td>1.0</td>\n",
       "      <td>0.0</td>\n",
       "      <td>0.736556</td>\n",
       "      <td>0.263444</td>\n",
       "    </tr>\n",
       "    <tr>\n",
       "      <th>4</th>\n",
       "      <td>HMNT0280 - 2017-06-16 01.16.02</td>\n",
       "      <td>1.0</td>\n",
       "      <td>0.0</td>\n",
       "      <td>0.958965</td>\n",
       "      <td>0.041035</td>\n",
       "    </tr>\n",
       "  </tbody>\n",
       "</table>\n",
       "</div>"
      ],
      "text/plain": [
       "                             slide_id    Y  Y_hat       p_0       p_1\n",
       "0      HMNT0346 - 2017-06-13 16.30.20  1.0    0.0  0.831629  0.168371\n",
       "1  HMNT0346_bis - 2017-06-13 17.02.45  1.0    0.0  0.810711  0.189289\n",
       "2      HMNT0153 - 2017-06-08 16.41.05  1.0    0.0  0.956646  0.043354\n",
       "3  HMNT0153_bis - 2017-06-08 17.21.02  1.0    0.0  0.736556  0.263444\n",
       "4      HMNT0280 - 2017-06-16 01.16.02  1.0    0.0  0.958965  0.041035"
      ]
     },
     "metadata": {},
     "output_type": "display_data"
    }
   ],
   "source": [
    "df = pd.read_csv(file)\n",
    "print(df.shape)\n",
    "display(df.head(5))"
   ]
  },
  {
   "cell_type": "code",
   "execution_count": 16,
   "metadata": {},
   "outputs": [
    {
     "name": "stdout",
     "output_type": "stream",
     "text": [
      "ROC AUC=0.833\n"
     ]
    },
    {
     "data": {
      "image/png": "[encoded data removed]",
      "text/plain": [
       "<Figure size 432x288 with 1 Axes>"
      ]
     },
     "metadata": {
      "needs_background": "light"
     },
     "output_type": "display_data"
    }
   ],
   "source": [
    "auc = roc_auc_score(df[\"Y\"], df[\"p_1\"])\n",
    "# summarize scores\n",
    "print('ROC AUC=%.3f' % (auc))\n",
    "# calculate roc curves\n",
    "fpr, tpr, thresholds = roc_curve(df[\"Y\"], df[\"p_1\"])\n",
    "# plot the roc curve for the model\n",
    "pyplot.plot([0, 1], [0, 1], linestyle='--', lw=2, color='r',alpha=.8)\n",
    "pyplot.plot(fpr, tpr, marker='.', color='b',label=r'ROC (AUC = %0.3f)' % (auc),lw=2, alpha=.8)\n",
    "# axis labels\n",
    "\n",
    "# tcga\n",
    "# pyplot.title(\"Receiver Operating Characteristic of Best Fold (\"+str(fold)+\")\")\n",
    "# mondor\n",
    "pyplot.title(\"Receiver Operating Characteristic of model \"+str(fold))\n",
    "\n",
    "pyplot.xlabel('1 - Specificity (False Positive Rate)')\n",
    "pyplot.ylabel('Sensitivity (True Positive Rate)')\n",
    "# show the legend\n",
    "pyplot.legend(loc=\"lower right\")\n",
    "# save figure\n",
    "pyplot.savefig(os.path.join(path, \"roc_\" + str(fold) + \".png\"))\n",
    "# show the plot\n",
    "pyplot.show()"
   ]
  },
  {
   "cell_type": "code",
   "execution_count": null,
   "metadata": {},
   "outputs": [],
   "source": []
  },
  {
   "cell_type": "markdown",
   "metadata": {},
   "source": [
    "## Adjust threshold for better sensitivity and specificity\n",
    "1. Ask answer from Julien\n",
    "2. Doc for the function: https://scikit-learn.org/stable/modules/generated/sklearn.metrics.classification_report.html"
   ]
  },
  {
   "cell_type": "code",
   "execution_count": 6,
   "metadata": {},
   "outputs": [
    {
     "name": "stdout",
     "output_type": "stream",
     "text": [
      "sensitivity, specificity:\n"
     ]
    },
    {
     "data": {
      "text/plain": [
       "[(0.0, 1.0),\n",
       " (0.2, 0.8),\n",
       " (0.6, 0.4),\n",
       " (0.6, 0.4),\n",
       " (0.8, 0.19999999999999996),\n",
       " (0.8, 0.19999999999999996),\n",
       " (1.0, 0.0),\n",
       " (1.0, 0.0)]"
      ]
     },
     "metadata": {},
     "output_type": "display_data"
    },
    {
     "name": "stdout",
     "output_type": "stream",
     "text": [
      "threshold:\n"
     ]
    },
    {
     "data": {
      "text/plain": [
       "array([1.81587857, 0.81587857, 0.66139275, 0.5298847 , 0.52388096,\n",
       "       0.05839335, 0.0570403 , 0.00897703])"
      ]
     },
     "metadata": {},
     "output_type": "display_data"
    }
   ],
   "source": [
    "print(\"sensitivity, specificity:\")\n",
    "display(list(zip(tpr, 1 - tpr)))\n",
    "print(\"threshold:\")\n",
    "display(thresholds)"
   ]
  },
  {
   "cell_type": "code",
   "execution_count": 7,
   "metadata": {},
   "outputs": [],
   "source": [
    "cutoff = 0.119790256023407\n",
    "#Ribas_10G_Interferon_Gamma 0.05839334\n",
    "# Inflammatory 0.065155, 0.115860"
   ]
  },
  {
   "cell_type": "code",
   "execution_count": 265,
   "metadata": {},
   "outputs": [
    {
     "data": {
      "text/html": [
       "<div>\n",
       "<style scoped>\n",
       "    .dataframe tbody tr th:only-of-type {\n",
       "        vertical-align: middle;\n",
       "    }\n",
       "\n",
       "    .dataframe tbody tr th {\n",
       "        vertical-align: top;\n",
       "    }\n",
       "\n",
       "    .dataframe thead th {\n",
       "        text-align: right;\n",
       "    }\n",
       "</style>\n",
       "<table border=\"1\" class=\"dataframe\">\n",
       "  <thead>\n",
       "    <tr style=\"text-align: right;\">\n",
       "      <th></th>\n",
       "      <th>slide_id</th>\n",
       "      <th>Y</th>\n",
       "      <th>Y_hat</th>\n",
       "      <th>p_0</th>\n",
       "      <th>p_1</th>\n",
       "      <th>case_id</th>\n",
       "      <th>consistent_prediction</th>\n",
       "      <th>true_prediction</th>\n",
       "    </tr>\n",
       "  </thead>\n",
       "  <tbody>\n",
       "    <tr>\n",
       "      <th>0</th>\n",
       "      <td>TCGA-DD-AAVP-01Z-00-DX1.44A8666F-DF8B-4707-966...</td>\n",
       "      <td>0.0</td>\n",
       "      <td>0.0</td>\n",
       "      <td>0.954757</td>\n",
       "      <td>0.045243</td>\n",
       "      <td>TCGA-DD-</td>\n",
       "      <td>False</td>\n",
       "      <td>True</td>\n",
       "    </tr>\n",
       "    <tr>\n",
       "      <th>1</th>\n",
       "      <td>TCGA-DD-A114-01Z-00-DX1.2A8C5243-29C4-419D-8FD...</td>\n",
       "      <td>0.0</td>\n",
       "      <td>1.0</td>\n",
       "      <td>0.668226</td>\n",
       "      <td>0.331774</td>\n",
       "      <td>TCGA-DD-</td>\n",
       "      <td>False</td>\n",
       "      <td>False</td>\n",
       "    </tr>\n",
       "    <tr>\n",
       "      <th>2</th>\n",
       "      <td>TCGA-BC-4073-01Z-00-DX1.2719E599-CE6A-41B9-813...</td>\n",
       "      <td>0.0</td>\n",
       "      <td>0.0</td>\n",
       "      <td>0.955205</td>\n",
       "      <td>0.044795</td>\n",
       "      <td>TCGA-BC-</td>\n",
       "      <td>True</td>\n",
       "      <td>True</td>\n",
       "    </tr>\n",
       "    <tr>\n",
       "      <th>3</th>\n",
       "      <td>TCGA-BC-A110-01Z-00-DX1.E46C2B24-A159-4970-82B...</td>\n",
       "      <td>0.0</td>\n",
       "      <td>0.0</td>\n",
       "      <td>0.913638</td>\n",
       "      <td>0.086362</td>\n",
       "      <td>TCGA-BC-</td>\n",
       "      <td>True</td>\n",
       "      <td>True</td>\n",
       "    </tr>\n",
       "    <tr>\n",
       "      <th>4</th>\n",
       "      <td>TCGA-DD-AACC-01Z-00-DX1.5B3061BB-6716-4253-851...</td>\n",
       "      <td>1.0</td>\n",
       "      <td>1.0</td>\n",
       "      <td>0.454528</td>\n",
       "      <td>0.545472</td>\n",
       "      <td>TCGA-DD-</td>\n",
       "      <td>False</td>\n",
       "      <td>True</td>\n",
       "    </tr>\n",
       "  </tbody>\n",
       "</table>\n",
       "</div>"
      ],
      "text/plain": [
       "                                            slide_id    Y  Y_hat       p_0  \\\n",
       "0  TCGA-DD-AAVP-01Z-00-DX1.44A8666F-DF8B-4707-966...  0.0    0.0  0.954757   \n",
       "1  TCGA-DD-A114-01Z-00-DX1.2A8C5243-29C4-419D-8FD...  0.0    1.0  0.668226   \n",
       "2  TCGA-BC-4073-01Z-00-DX1.2719E599-CE6A-41B9-813...  0.0    0.0  0.955205   \n",
       "3  TCGA-BC-A110-01Z-00-DX1.E46C2B24-A159-4970-82B...  0.0    0.0  0.913638   \n",
       "4  TCGA-DD-AACC-01Z-00-DX1.5B3061BB-6716-4253-851...  1.0    1.0  0.454528   \n",
       "\n",
       "        p_1   case_id consistent_prediction true_prediction  \n",
       "0  0.045243  TCGA-DD-                 False            True  \n",
       "1  0.331774  TCGA-DD-                 False           False  \n",
       "2  0.044795  TCGA-BC-                  True            True  \n",
       "3  0.086362  TCGA-BC-                  True            True  \n",
       "4  0.545472  TCGA-DD-                 False            True  "
      ]
     },
     "metadata": {},
     "output_type": "display_data"
    },
    {
     "name": "stdout",
     "output_type": "stream",
     "text": [
      "              precision    recall  f1-score   support\n",
      "\n",
      "         0.0     0.9756    0.6250    0.7619        64\n",
      "         1.0     0.2258    0.8750    0.3590         8\n",
      "\n",
      "    accuracy                         0.6528        72\n",
      "   macro avg     0.6007    0.7500    0.5604        72\n",
      "weighted avg     0.8923    0.6528    0.7171        72\n",
      "\n"
     ]
    }
   ],
   "source": [
    "df_new = df.copy(deep=True)\n",
    "\n",
    "df_new.loc[df_new['p_1'] >= float(cutoff), 'Y_hat'] = 1.0\n",
    "df_new.loc[df_new['p_1'] < float(cutoff), 'Y_hat'] = 0.0\n",
    "\n",
    "df_new['case_id'] = ''\n",
    "for i in range(df_new.shape[0]):\n",
    "    # col 'case_id'\n",
    "    df_new.iloc[i, 5] = df_new.iloc[i, 0][:8]\n",
    "\n",
    "df_new['consistent_prediction'] = ''\n",
    "df_new['true_prediction'] = ''\n",
    "for i in range(df_new.shape[0]):    \n",
    "    # col 'consistent_prediction'\n",
    "    if df_new[df_new['case_id'] == df_new.iloc[i, 5]].shape[0] == 1:\n",
    "        df_new.iloc[i, 6] = None\n",
    "    else:\n",
    "        if len(set(df_new[df_new['case_id'] == df_new.iloc[i, 5]]['Y_hat'].to_list())) == 1:\n",
    "            df_new.iloc[i, 6] = True\n",
    "        else:\n",
    "            df_new.iloc[i, 6] = False\n",
    "\n",
    "    # col 'true_prediction'\n",
    "    if df_new.iloc[i, 1] == df_new.iloc[i, 2]:\n",
    "        df_new.iloc[i, 7] = True\n",
    "    else:\n",
    "        df_new.iloc[i, 7] = False\n",
    "\n",
    "\n",
    "display(df_new.head(5))\n",
    "\n",
    "# # Optimal cutoff calculate on the tcga test set\n",
    "# df.to_csv(os.path.join(path, \"fold_\"+str(fold)+\"_optimal_tcga.csv\"), index=False)\n",
    "\n",
    "print(classification_report(df_new.Y, df_new['Y_hat'], digits=4))"
   ]
  },
  {
   "cell_type": "code",
   "execution_count": 266,
   "metadata": {},
   "outputs": [
    {
     "data": {
      "text/html": [
       "<div>\n",
       "<style scoped>\n",
       "    .dataframe tbody tr th:only-of-type {\n",
       "        vertical-align: middle;\n",
       "    }\n",
       "\n",
       "    .dataframe tbody tr th {\n",
       "        vertical-align: top;\n",
       "    }\n",
       "\n",
       "    .dataframe thead th {\n",
       "        text-align: right;\n",
       "    }\n",
       "</style>\n",
       "<table border=\"1\" class=\"dataframe\">\n",
       "  <thead>\n",
       "    <tr style=\"text-align: right;\">\n",
       "      <th></th>\n",
       "      <th>slide_id</th>\n",
       "      <th>Y</th>\n",
       "      <th>Y_hat</th>\n",
       "      <th>p_0</th>\n",
       "      <th>p_1</th>\n",
       "      <th>case_id</th>\n",
       "      <th>consistent_prediction</th>\n",
       "      <th>true_prediction</th>\n",
       "    </tr>\n",
       "  </thead>\n",
       "  <tbody>\n",
       "    <tr>\n",
       "      <th>0</th>\n",
       "      <td>HMNT0185 - 2017-06-15 14.43.20</td>\n",
       "      <td>1.0</td>\n",
       "      <td>0.0</td>\n",
       "      <td>0.983092</td>\n",
       "      <td>0.016908</td>\n",
       "      <td>HMNT0185</td>\n",
       "      <td>False</td>\n",
       "      <td>False</td>\n",
       "    </tr>\n",
       "    <tr>\n",
       "      <th>1</th>\n",
       "      <td>HMNT0185_bis - 2017-06-15 14.01.13</td>\n",
       "      <td>1.0</td>\n",
       "      <td>1.0</td>\n",
       "      <td>0.430995</td>\n",
       "      <td>0.569005</td>\n",
       "      <td>HMNT0185</td>\n",
       "      <td>False</td>\n",
       "      <td>True</td>\n",
       "    </tr>\n",
       "    <tr>\n",
       "      <th>2</th>\n",
       "      <td>HMNT0124 - 2017-06-05 04.23.20</td>\n",
       "      <td>1.0</td>\n",
       "      <td>1.0</td>\n",
       "      <td>0.257088</td>\n",
       "      <td>0.742912</td>\n",
       "      <td>HMNT0124</td>\n",
       "      <td>True</td>\n",
       "      <td>True</td>\n",
       "    </tr>\n",
       "    <tr>\n",
       "      <th>3</th>\n",
       "      <td>HMNT0124_bis - 2017-06-05 05.08.39</td>\n",
       "      <td>1.0</td>\n",
       "      <td>1.0</td>\n",
       "      <td>0.472199</td>\n",
       "      <td>0.527801</td>\n",
       "      <td>HMNT0124</td>\n",
       "      <td>True</td>\n",
       "      <td>True</td>\n",
       "    </tr>\n",
       "    <tr>\n",
       "      <th>4</th>\n",
       "      <td>HMNT0346 - 2017-06-13 16.30.20</td>\n",
       "      <td>1.0</td>\n",
       "      <td>1.0</td>\n",
       "      <td>0.317810</td>\n",
       "      <td>0.682190</td>\n",
       "      <td>HMNT0346</td>\n",
       "      <td>True</td>\n",
       "      <td>True</td>\n",
       "    </tr>\n",
       "  </tbody>\n",
       "</table>\n",
       "</div>"
      ],
      "text/plain": [
       "                             slide_id    Y  Y_hat       p_0       p_1  \\\n",
       "0      HMNT0185 - 2017-06-15 14.43.20  1.0    0.0  0.983092  0.016908   \n",
       "1  HMNT0185_bis - 2017-06-15 14.01.13  1.0    1.0  0.430995  0.569005   \n",
       "2      HMNT0124 - 2017-06-05 04.23.20  1.0    1.0  0.257088  0.742912   \n",
       "3  HMNT0124_bis - 2017-06-05 05.08.39  1.0    1.0  0.472199  0.527801   \n",
       "4      HMNT0346 - 2017-06-13 16.30.20  1.0    1.0  0.317810  0.682190   \n",
       "\n",
       "    case_id consistent_prediction true_prediction  \n",
       "0  HMNT0185                 False           False  \n",
       "1  HMNT0185                 False            True  \n",
       "2  HMNT0124                  True            True  \n",
       "3  HMNT0124                  True            True  \n",
       "4  HMNT0346                  True            True  "
      ]
     },
     "metadata": {},
     "output_type": "display_data"
    },
    {
     "name": "stdout",
     "output_type": "stream",
     "text": [
      "              precision    recall  f1-score   support\n",
      "\n",
      "         0.0     0.9818    0.6750    0.8000       240\n",
      "         1.0     0.1613    0.8333    0.2703        18\n",
      "\n",
      "    accuracy                         0.6860       258\n",
      "   macro avg     0.5716    0.7542    0.5351       258\n",
      "weighted avg     0.9246    0.6860    0.7630       258\n",
      "\n"
     ]
    }
   ],
   "source": [
    "df_res = pd.read_csv(os.path.join(path.replace(\"tcga\", \"mondor\").replace(\"349\", \"258\").replace(\"622\", \"00X\"), 'fold_'+str(fold)+'.csv'))\n",
    "\n",
    "df_res.loc[df_res['p_1'] >= float(cutoff), 'Y_hat'] = 1.0\n",
    "df_res.loc[df_res['p_1'] < float(cutoff), 'Y_hat'] = 0.0\n",
    "\n",
    "df_res['case_id'] = ''\n",
    "for i in range(df_res.shape[0]):\n",
    "    # col 'case_id'\n",
    "    df_res.iloc[i, 5] = df_res.iloc[i, 0][:8]\n",
    "\n",
    "df_res['consistent_prediction'] = ''\n",
    "df_res['true_prediction'] = ''\n",
    "for i in range(df_res.shape[0]):    \n",
    "    # col 'consistent_prediction'\n",
    "    if df_res[df_res['case_id'] == df_res.iloc[i, 5]].shape[0] == 1:\n",
    "        df_res.iloc[i, 6] = None\n",
    "    else:\n",
    "        if len(set(df_res[df_res['case_id'] == df_res.iloc[i, 5]]['Y_hat'].to_list())) == 1:\n",
    "            df_res.iloc[i, 6] = True\n",
    "        else:\n",
    "            df_res.iloc[i, 6] = False\n",
    "\n",
    "    # col 'true_prediction'\n",
    "    if df_res.iloc[i, 1] == df_res.iloc[i, 2]:\n",
    "        df_res.iloc[i, 7] = True\n",
    "    else:\n",
    "        df_res.iloc[i, 7] = False\n",
    "\n",
    "\n",
    "display(df_res.head(5))\n",
    "\n",
    "# # Optimal cutoff calculate on the tcga test set\n",
    "# df.to_csv(os.path.join(path, \"fold_\"+str(fold)+\"_optimal_tcga.csv\"), index=False)\n",
    "print(classification_report(df_res.Y, df_res['Y_hat'], digits=4))"
   ]
  },
  {
   "cell_type": "code",
   "execution_count": null,
   "metadata": {},
   "outputs": [],
   "source": []
  },
  {
   "cell_type": "code",
   "execution_count": null,
   "metadata": {},
   "outputs": [],
   "source": []
  },
  {
   "cell_type": "code",
   "execution_count": null,
   "metadata": {},
   "outputs": [],
   "source": []
  }
 ],
 "metadata": {
  "kernelspec": {
   "display_name": "Python 3",
   "language": "python",
   "name": "python3"
  },
  "language_info": {
   "codemirror_mode": {
    "name": "ipython",
    "version": 3
   },
   "file_extension": ".py",
   "mimetype": "text/x-python",
   "name": "python",
   "nbconvert_exporter": "python",
   "pygments_lexer": "ipython3",
   "version": "3.7.7"
  }
 },
 "nbformat": 4,
 "nbformat_minor": 4
}
