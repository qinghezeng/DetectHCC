{
 "cells": [
  {
   "cell_type": "markdown",
   "metadata": {},
   "source": [
    "## This script is for all the 6 gene signatures\n",
    "1. Merge the clustering results\n",
    "2. Extract the samples always high"
   ]
  },
  {
   "cell_type": "code",
   "execution_count": 1,
   "metadata": {},
   "outputs": [],
   "source": [
    "import os\n",
    "import re\n",
    "import pandas as pd"
   ]
  },
  {
   "cell_type": "code",
   "execution_count": 15,
   "metadata": {},
   "outputs": [],
   "source": [
    "series = 'tcga' # mondor\n",
    "\n",
    "if series == 'tcga':\n",
    "    path = '/media/visiopharm5/WDGold/deeplearning/Hepatocarcinomes/TCGA/validation_336_filter_before'\n",
    "    first_signature = 'Interferon_Gamma_Biology'\n",
    "elif series == 'mondor':\n",
    "    path = '/media/visiopharm5/WDGold/deeplearning/Hepatocarcinomes/TCGA/heatmap_nanostring_139'\n",
    "    first_signature = '6G_Interferon_Gamma'\n",
    "    drop_list = ['full', 'selected']\n",
    "else:\n",
    "    raise NotImplementedError"
   ]
  },
  {
   "cell_type": "code",
   "execution_count": 9,
   "metadata": {},
   "outputs": [
    {
     "name": "stdout",
     "output_type": "stream",
     "text": [
      "8\n",
      "['6G_Interferon_Gamma', 'full', 'Gajewski_13G_Inflammatory', 'Inflammatory', 'Interferon_Gamma_Biology', 'Ribas_10G_Interferon_Gamma', 'selected', 'T-cell_Exhaustion']\n"
     ]
    }
   ],
   "source": [
    "signatures = []\n",
    "for root, dirs, files in os.walk(path):\n",
    "    for file in files:\n",
    "        if file.startswith('sample_clusters'):\n",
    "            signatures.append(re.split('sample_clusters_|_zscore', file)[1])\n",
    "print(len(signatures))\n",
    "print(signatures)"
   ]
  },
  {
   "cell_type": "code",
   "execution_count": 10,
   "metadata": {},
   "outputs": [
    {
     "name": "stdout",
     "output_type": "stream",
     "text": [
      "6\n",
      "['6G_Interferon_Gamma', 'Gajewski_13G_Inflammatory', 'Inflammatory', 'Interferon_Gamma_Biology', 'Ribas_10G_Interferon_Gamma', 'T-cell_Exhaustion']\n"
     ]
    }
   ],
   "source": [
    "# Only for Mondor 139\n",
    "if series == 'mondor':\n",
    "    for element in drop_list:\n",
    "        signatures.remove(element)\n",
    "    print(len(signatures))\n",
    "    print(signatures)"
   ]
  },
  {
   "cell_type": "code",
   "execution_count": 11,
   "metadata": {},
   "outputs": [
    {
     "name": "stdout",
     "output_type": "stream",
     "text": [
      "(139, 2)\n"
     ]
    },
    {
     "data": {
      "text/html": [
       "<div>\n",
       "<style scoped>\n",
       "    .dataframe tbody tr th:only-of-type {\n",
       "        vertical-align: middle;\n",
       "    }\n",
       "\n",
       "    .dataframe tbody tr th {\n",
       "        vertical-align: top;\n",
       "    }\n",
       "\n",
       "    .dataframe thead th {\n",
       "        text-align: right;\n",
       "    }\n",
       "</style>\n",
       "<table border=\"1\" class=\"dataframe\">\n",
       "  <thead>\n",
       "    <tr style=\"text-align: right;\">\n",
       "      <th></th>\n",
       "      <th>Sample</th>\n",
       "      <th>6G_Interferon_Gamma</th>\n",
       "    </tr>\n",
       "  </thead>\n",
       "  <tbody>\n",
       "    <tr>\n",
       "      <th>0</th>\n",
       "      <td>EX128.ARN217</td>\n",
       "      <td>Cluster High</td>\n",
       "    </tr>\n",
       "    <tr>\n",
       "      <th>1</th>\n",
       "      <td>EX128.ARN279</td>\n",
       "      <td>Cluster High</td>\n",
       "    </tr>\n",
       "  </tbody>\n",
       "</table>\n",
       "</div>"
      ],
      "text/plain": [
       "         Sample 6G_Interferon_Gamma\n",
       "0  EX128.ARN217        Cluster High\n",
       "1  EX128.ARN279        Cluster High"
      ]
     },
     "metadata": {},
     "output_type": "display_data"
    },
    {
     "name": "stdout",
     "output_type": "stream",
     "text": [
      "(139, 2)\n"
     ]
    },
    {
     "data": {
      "text/html": [
       "<div>\n",
       "<style scoped>\n",
       "    .dataframe tbody tr th:only-of-type {\n",
       "        vertical-align: middle;\n",
       "    }\n",
       "\n",
       "    .dataframe tbody tr th {\n",
       "        vertical-align: top;\n",
       "    }\n",
       "\n",
       "    .dataframe thead th {\n",
       "        text-align: right;\n",
       "    }\n",
       "</style>\n",
       "<table border=\"1\" class=\"dataframe\">\n",
       "  <thead>\n",
       "    <tr style=\"text-align: right;\">\n",
       "      <th></th>\n",
       "      <th>Sample</th>\n",
       "      <th>Gajewski_13G_Inflammatory</th>\n",
       "    </tr>\n",
       "  </thead>\n",
       "  <tbody>\n",
       "    <tr>\n",
       "      <th>0</th>\n",
       "      <td>EX128.ARN205</td>\n",
       "      <td>Cluster High</td>\n",
       "    </tr>\n",
       "    <tr>\n",
       "      <th>1</th>\n",
       "      <td>EX128.ARN329</td>\n",
       "      <td>Cluster High</td>\n",
       "    </tr>\n",
       "  </tbody>\n",
       "</table>\n",
       "</div>"
      ],
      "text/plain": [
       "         Sample Gajewski_13G_Inflammatory\n",
       "0  EX128.ARN205              Cluster High\n",
       "1  EX128.ARN329              Cluster High"
      ]
     },
     "metadata": {},
     "output_type": "display_data"
    },
    {
     "name": "stdout",
     "output_type": "stream",
     "text": [
      "(139, 2)\n"
     ]
    },
    {
     "data": {
      "text/html": [
       "<div>\n",
       "<style scoped>\n",
       "    .dataframe tbody tr th:only-of-type {\n",
       "        vertical-align: middle;\n",
       "    }\n",
       "\n",
       "    .dataframe tbody tr th {\n",
       "        vertical-align: top;\n",
       "    }\n",
       "\n",
       "    .dataframe thead th {\n",
       "        text-align: right;\n",
       "    }\n",
       "</style>\n",
       "<table border=\"1\" class=\"dataframe\">\n",
       "  <thead>\n",
       "    <tr style=\"text-align: right;\">\n",
       "      <th></th>\n",
       "      <th>Sample</th>\n",
       "      <th>Inflammatory</th>\n",
       "    </tr>\n",
       "  </thead>\n",
       "  <tbody>\n",
       "    <tr>\n",
       "      <th>0</th>\n",
       "      <td>EX128.ARN242</td>\n",
       "      <td>Cluster High</td>\n",
       "    </tr>\n",
       "    <tr>\n",
       "      <th>1</th>\n",
       "      <td>EX128.ARN279</td>\n",
       "      <td>Cluster High</td>\n",
       "    </tr>\n",
       "  </tbody>\n",
       "</table>\n",
       "</div>"
      ],
      "text/plain": [
       "         Sample  Inflammatory\n",
       "0  EX128.ARN242  Cluster High\n",
       "1  EX128.ARN279  Cluster High"
      ]
     },
     "metadata": {},
     "output_type": "display_data"
    },
    {
     "name": "stdout",
     "output_type": "stream",
     "text": [
      "(139, 2)\n"
     ]
    },
    {
     "data": {
      "text/html": [
       "<div>\n",
       "<style scoped>\n",
       "    .dataframe tbody tr th:only-of-type {\n",
       "        vertical-align: middle;\n",
       "    }\n",
       "\n",
       "    .dataframe tbody tr th {\n",
       "        vertical-align: top;\n",
       "    }\n",
       "\n",
       "    .dataframe thead th {\n",
       "        text-align: right;\n",
       "    }\n",
       "</style>\n",
       "<table border=\"1\" class=\"dataframe\">\n",
       "  <thead>\n",
       "    <tr style=\"text-align: right;\">\n",
       "      <th></th>\n",
       "      <th>Sample</th>\n",
       "      <th>Interferon_Gamma_Biology</th>\n",
       "    </tr>\n",
       "  </thead>\n",
       "  <tbody>\n",
       "    <tr>\n",
       "      <th>0</th>\n",
       "      <td>EX128.ARN255</td>\n",
       "      <td>Cluster Median</td>\n",
       "    </tr>\n",
       "    <tr>\n",
       "      <th>1</th>\n",
       "      <td>EX128.ARN306</td>\n",
       "      <td>Cluster Median</td>\n",
       "    </tr>\n",
       "  </tbody>\n",
       "</table>\n",
       "</div>"
      ],
      "text/plain": [
       "         Sample Interferon_Gamma_Biology\n",
       "0  EX128.ARN255           Cluster Median\n",
       "1  EX128.ARN306           Cluster Median"
      ]
     },
     "metadata": {},
     "output_type": "display_data"
    },
    {
     "name": "stdout",
     "output_type": "stream",
     "text": [
      "(139, 2)\n"
     ]
    },
    {
     "data": {
      "text/html": [
       "<div>\n",
       "<style scoped>\n",
       "    .dataframe tbody tr th:only-of-type {\n",
       "        vertical-align: middle;\n",
       "    }\n",
       "\n",
       "    .dataframe tbody tr th {\n",
       "        vertical-align: top;\n",
       "    }\n",
       "\n",
       "    .dataframe thead th {\n",
       "        text-align: right;\n",
       "    }\n",
       "</style>\n",
       "<table border=\"1\" class=\"dataframe\">\n",
       "  <thead>\n",
       "    <tr style=\"text-align: right;\">\n",
       "      <th></th>\n",
       "      <th>Sample</th>\n",
       "      <th>Ribas_10G_Interferon_Gamma</th>\n",
       "    </tr>\n",
       "  </thead>\n",
       "  <tbody>\n",
       "    <tr>\n",
       "      <th>0</th>\n",
       "      <td>EX128.ARN217</td>\n",
       "      <td>Cluster High</td>\n",
       "    </tr>\n",
       "    <tr>\n",
       "      <th>1</th>\n",
       "      <td>EX128.ARN322</td>\n",
       "      <td>Cluster High</td>\n",
       "    </tr>\n",
       "  </tbody>\n",
       "</table>\n",
       "</div>"
      ],
      "text/plain": [
       "         Sample Ribas_10G_Interferon_Gamma\n",
       "0  EX128.ARN217               Cluster High\n",
       "1  EX128.ARN322               Cluster High"
      ]
     },
     "metadata": {},
     "output_type": "display_data"
    },
    {
     "name": "stdout",
     "output_type": "stream",
     "text": [
      "(139, 2)\n"
     ]
    },
    {
     "data": {
      "text/html": [
       "<div>\n",
       "<style scoped>\n",
       "    .dataframe tbody tr th:only-of-type {\n",
       "        vertical-align: middle;\n",
       "    }\n",
       "\n",
       "    .dataframe tbody tr th {\n",
       "        vertical-align: top;\n",
       "    }\n",
       "\n",
       "    .dataframe thead th {\n",
       "        text-align: right;\n",
       "    }\n",
       "</style>\n",
       "<table border=\"1\" class=\"dataframe\">\n",
       "  <thead>\n",
       "    <tr style=\"text-align: right;\">\n",
       "      <th></th>\n",
       "      <th>Sample</th>\n",
       "      <th>T-cell_Exhaustion</th>\n",
       "    </tr>\n",
       "  </thead>\n",
       "  <tbody>\n",
       "    <tr>\n",
       "      <th>0</th>\n",
       "      <td>EX128.ARN220</td>\n",
       "      <td>Cluster High</td>\n",
       "    </tr>\n",
       "    <tr>\n",
       "      <th>1</th>\n",
       "      <td>EX128.ARN286</td>\n",
       "      <td>Cluster High</td>\n",
       "    </tr>\n",
       "  </tbody>\n",
       "</table>\n",
       "</div>"
      ],
      "text/plain": [
       "         Sample T-cell_Exhaustion\n",
       "0  EX128.ARN220      Cluster High\n",
       "1  EX128.ARN286      Cluster High"
      ]
     },
     "metadata": {},
     "output_type": "display_data"
    },
    {
     "name": "stdout",
     "output_type": "stream",
     "text": [
      "(139, 7)\n"
     ]
    },
    {
     "data": {
      "text/html": [
       "<div>\n",
       "<style scoped>\n",
       "    .dataframe tbody tr th:only-of-type {\n",
       "        vertical-align: middle;\n",
       "    }\n",
       "\n",
       "    .dataframe tbody tr th {\n",
       "        vertical-align: top;\n",
       "    }\n",
       "\n",
       "    .dataframe thead th {\n",
       "        text-align: right;\n",
       "    }\n",
       "</style>\n",
       "<table border=\"1\" class=\"dataframe\">\n",
       "  <thead>\n",
       "    <tr style=\"text-align: right;\">\n",
       "      <th></th>\n",
       "      <th>Sample</th>\n",
       "      <th>6G_Interferon_Gamma</th>\n",
       "      <th>Gajewski_13G_Inflammatory</th>\n",
       "      <th>Inflammatory</th>\n",
       "      <th>Interferon_Gamma_Biology</th>\n",
       "      <th>Ribas_10G_Interferon_Gamma</th>\n",
       "      <th>T-cell_Exhaustion</th>\n",
       "    </tr>\n",
       "  </thead>\n",
       "  <tbody>\n",
       "    <tr>\n",
       "      <th>0</th>\n",
       "      <td>EX128.ARN217</td>\n",
       "      <td>Cluster High</td>\n",
       "      <td>Cluster High</td>\n",
       "      <td>Cluster High</td>\n",
       "      <td>Cluster High</td>\n",
       "      <td>Cluster High</td>\n",
       "      <td>Cluster Median</td>\n",
       "    </tr>\n",
       "    <tr>\n",
       "      <th>1</th>\n",
       "      <td>EX128.ARN279</td>\n",
       "      <td>Cluster High</td>\n",
       "      <td>Cluster High</td>\n",
       "      <td>Cluster High</td>\n",
       "      <td>Cluster High</td>\n",
       "      <td>Cluster High</td>\n",
       "      <td>Cluster High</td>\n",
       "    </tr>\n",
       "  </tbody>\n",
       "</table>\n",
       "</div>"
      ],
      "text/plain": [
       "         Sample 6G_Interferon_Gamma Gajewski_13G_Inflammatory  Inflammatory  \\\n",
       "0  EX128.ARN217        Cluster High              Cluster High  Cluster High   \n",
       "1  EX128.ARN279        Cluster High              Cluster High  Cluster High   \n",
       "\n",
       "  Interferon_Gamma_Biology Ribas_10G_Interferon_Gamma T-cell_Exhaustion  \n",
       "0             Cluster High               Cluster High    Cluster Median  \n",
       "1             Cluster High               Cluster High      Cluster High  "
      ]
     },
     "metadata": {},
     "output_type": "display_data"
    }
   ],
   "source": [
    "for signature in signatures:\n",
    "    df = pd.read_csv(os.path.join(path, 'sample_clusters_'+signature+'_zscore_hc_ward.D2_euclidean_3_reorder.csv'))\n",
    "    df.rename(columns={'Cluster': signature}, inplace=True)\n",
    "    print(df.shape)\n",
    "    display(df.head(2))\n",
    "    \n",
    "    if signature == first_signature:\n",
    "        df_res = df\n",
    "    else:\n",
    "        df_res = df_res.merge(df, 'outer')\n",
    "print(df_res.shape)\n",
    "display(df_res.head(2))"
   ]
  },
  {
   "cell_type": "code",
   "execution_count": 12,
   "metadata": {},
   "outputs": [
    {
     "name": "stdout",
     "output_type": "stream",
     "text": [
      "(139, 6)\n"
     ]
    },
    {
     "data": {
      "text/html": [
       "<div>\n",
       "<style scoped>\n",
       "    .dataframe tbody tr th:only-of-type {\n",
       "        vertical-align: middle;\n",
       "    }\n",
       "\n",
       "    .dataframe tbody tr th {\n",
       "        vertical-align: top;\n",
       "    }\n",
       "\n",
       "    .dataframe thead th {\n",
       "        text-align: right;\n",
       "    }\n",
       "</style>\n",
       "<table border=\"1\" class=\"dataframe\">\n",
       "  <thead>\n",
       "    <tr style=\"text-align: right;\">\n",
       "      <th></th>\n",
       "      <th>6G_Interferon_Gamma</th>\n",
       "      <th>Gajewski_13G_Inflammatory</th>\n",
       "      <th>Inflammatory</th>\n",
       "      <th>Interferon_Gamma_Biology</th>\n",
       "      <th>Ribas_10G_Interferon_Gamma</th>\n",
       "      <th>T-cell_Exhaustion</th>\n",
       "    </tr>\n",
       "    <tr>\n",
       "      <th>Sample</th>\n",
       "      <th></th>\n",
       "      <th></th>\n",
       "      <th></th>\n",
       "      <th></th>\n",
       "      <th></th>\n",
       "      <th></th>\n",
       "    </tr>\n",
       "  </thead>\n",
       "  <tbody>\n",
       "    <tr>\n",
       "      <th>EX128.ARN279</th>\n",
       "      <td>Cluster High</td>\n",
       "      <td>Cluster High</td>\n",
       "      <td>Cluster High</td>\n",
       "      <td>Cluster High</td>\n",
       "      <td>Cluster High</td>\n",
       "      <td>Cluster High</td>\n",
       "    </tr>\n",
       "    <tr>\n",
       "      <th>EX128.ARN267</th>\n",
       "      <td>Cluster High</td>\n",
       "      <td>Cluster High</td>\n",
       "      <td>Cluster High</td>\n",
       "      <td>Cluster High</td>\n",
       "      <td>Cluster High</td>\n",
       "      <td>Cluster High</td>\n",
       "    </tr>\n",
       "    <tr>\n",
       "      <th>EX128.ARN250</th>\n",
       "      <td>Cluster High</td>\n",
       "      <td>Cluster High</td>\n",
       "      <td>Cluster High</td>\n",
       "      <td>Cluster High</td>\n",
       "      <td>Cluster High</td>\n",
       "      <td>Cluster High</td>\n",
       "    </tr>\n",
       "    <tr>\n",
       "      <th>EX128.ARN190</th>\n",
       "      <td>Cluster High</td>\n",
       "      <td>Cluster High</td>\n",
       "      <td>Cluster High</td>\n",
       "      <td>Cluster High</td>\n",
       "      <td>Cluster High</td>\n",
       "      <td>Cluster High</td>\n",
       "    </tr>\n",
       "    <tr>\n",
       "      <th>EX128.ARN220</th>\n",
       "      <td>Cluster High</td>\n",
       "      <td>Cluster High</td>\n",
       "      <td>Cluster High</td>\n",
       "      <td>Cluster High</td>\n",
       "      <td>Cluster High</td>\n",
       "      <td>Cluster High</td>\n",
       "    </tr>\n",
       "  </tbody>\n",
       "</table>\n",
       "</div>"
      ],
      "text/plain": [
       "             6G_Interferon_Gamma Gajewski_13G_Inflammatory  Inflammatory  \\\n",
       "Sample                                                                     \n",
       "EX128.ARN279        Cluster High              Cluster High  Cluster High   \n",
       "EX128.ARN267        Cluster High              Cluster High  Cluster High   \n",
       "EX128.ARN250        Cluster High              Cluster High  Cluster High   \n",
       "EX128.ARN190        Cluster High              Cluster High  Cluster High   \n",
       "EX128.ARN220        Cluster High              Cluster High  Cluster High   \n",
       "\n",
       "             Interferon_Gamma_Biology Ribas_10G_Interferon_Gamma  \\\n",
       "Sample                                                             \n",
       "EX128.ARN279             Cluster High               Cluster High   \n",
       "EX128.ARN267             Cluster High               Cluster High   \n",
       "EX128.ARN250             Cluster High               Cluster High   \n",
       "EX128.ARN190             Cluster High               Cluster High   \n",
       "EX128.ARN220             Cluster High               Cluster High   \n",
       "\n",
       "             T-cell_Exhaustion  \n",
       "Sample                          \n",
       "EX128.ARN279      Cluster High  \n",
       "EX128.ARN267      Cluster High  \n",
       "EX128.ARN250      Cluster High  \n",
       "EX128.ARN190      Cluster High  \n",
       "EX128.ARN220      Cluster High  "
      ]
     },
     "metadata": {},
     "output_type": "display_data"
    }
   ],
   "source": [
    "df_res.set_index('Sample', drop=True, inplace=True)\n",
    "df_res.sort_values(by=list(df_res.columns.values), inplace=True)\n",
    "print(df_res.shape)\n",
    "display(df_res.head(5))\n",
    "df_res.to_csv(os.path.join(path, 'summary_sample_clusters.csv'))"
   ]
  },
  {
   "cell_type": "code",
   "execution_count": 13,
   "metadata": {},
   "outputs": [
    {
     "name": "stdout",
     "output_type": "stream",
     "text": [
      "8\n",
      "['EX128.ARN279' 'EX128.ARN267' 'EX128.ARN250' 'EX128.ARN190'\n",
      " 'EX128.ARN220' 'EX128.ARN213' 'EX128.ARN286' 'EX128.ARN242']\n"
     ]
    }
   ],
   "source": [
    "samples_highs = df_res[(df_res=='Cluster High').sum(axis=1)==6].index.values\n",
    "print(len(samples_highs))\n",
    "print(samples_highs)\n",
    "pd.DataFrame(samples_highs).to_csv(os.path.join(path, 'samples_always_cluster_high.csv'), index=False, header=False)"
   ]
  },
  {
   "cell_type": "code",
   "execution_count": null,
   "metadata": {},
   "outputs": [],
   "source": []
  },
  {
   "cell_type": "code",
   "execution_count": null,
   "metadata": {},
   "outputs": [],
   "source": []
  }
 ],
 "metadata": {
  "kernelspec": {
   "display_name": "Python 3",
   "language": "python",
   "name": "python3"
  },
  "language_info": {
   "codemirror_mode": {
    "name": "ipython",
    "version": 3
   },
   "file_extension": ".py",
   "mimetype": "text/x-python",
   "name": "python",
   "nbconvert_exporter": "python",
   "pygments_lexer": "ipython3",
   "version": "3.8.5"
  }
 },
 "nbformat": 4,
 "nbformat_minor": 4
}
