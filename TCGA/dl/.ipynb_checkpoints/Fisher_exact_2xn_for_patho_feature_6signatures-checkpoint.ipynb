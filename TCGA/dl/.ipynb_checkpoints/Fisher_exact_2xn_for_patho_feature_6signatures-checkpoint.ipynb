{
 "cells": [
  {
   "cell_type": "markdown",
   "id": "8327b671",
   "metadata": {},
   "source": [
    "##  Fisher's exact test for each specific pathological feature (yes and no) of highly predictive patches for 6 signatures"
   ]
  },
  {
   "cell_type": "markdown",
   "id": "2df58885",
   "metadata": {},
   "source": [
    "## Generalized Fisher's exact test for mxn table\n",
    "### Github of the package: https://github.com/maclandrol/FisherExact\n",
    "### Installation under Linux:\n",
    "1. Check gcc version installed (e.g. gcc-7.5.0)\n",
    "2. Download GFortran binary related to your gcc version from https://gfortran.meteodat.ch/download/x86_64/releases/\n",
    "3. Go to your path (e.g. /home/visiopharm5/gfortan) and decompress the downloaded binary, using command: \n",
    "xzcat ~/Downloads/gcc-7.5.0.tar.xz | tar x\n",
    "4. Check if GFortran version is the same as your gcc, using command: \n",
    "/home/visiopharm5/gfortan/gcc-7.5.0/bin/gfortran --version\n",
    "5. Configure the LD_LIBRARY_PATH. Create a shell script: \n",
    "if [ -z \"$LD_LIBRARY_PATH\" ]; then\n",
    "  LD_LIBRARY_PATH=\"/home/visiopharm5/gfortan/gcc-7.5.0/lib64\"\n",
    "else\n",
    "  LD_LIBRARY_PATH=\"/home/visiopharm5/gfortan/gcc-7.5.0/lib64:$LD_LIBRARY_PATH\"\n",
    "fi\n",
    "export LD_LIBRARY_PATH\n",
    "\"\"\"\n",
    "6. Run the shell script in terminal, using command:\n",
    "bash  set_LD_LIBRARY_PATH.sh\n",
    "7. Activate a conda environment with numpy, using command if no numpy:\n",
    "conda install numpy\n",
    "8. Install dependency, using command:\n",
    "pip install future\n",
    "9. Install package, using command: pip install FisherExact"
   ]
  },
  {
   "cell_type": "code",
   "execution_count": null,
   "id": "653ed356",
   "metadata": {},
   "outputs": [],
   "source": [
    "# only tested with the conda environment \"test\""
   ]
  },
  {
   "cell_type": "code",
   "execution_count": 5,
   "id": "458da909",
   "metadata": {},
   "outputs": [],
   "source": [
    "import os\n",
    "import pandas as pd\n",
    "import FisherExact "
   ]
  },
  {
   "cell_type": "code",
   "execution_count": 4,
   "id": "a6d09d4f",
   "metadata": {},
   "outputs": [
    {
     "name": "stdout",
     "output_type": "stream",
     "text": [
      "(46, 6)\n"
     ]
    },
    {
     "data": {
      "text/html": [
       "<div>\n",
       "<style scoped>\n",
       "    .dataframe tbody tr th:only-of-type {\n",
       "        vertical-align: middle;\n",
       "    }\n",
       "\n",
       "    .dataframe tbody tr th {\n",
       "        vertical-align: top;\n",
       "    }\n",
       "\n",
       "    .dataframe thead th {\n",
       "        text-align: right;\n",
       "    }\n",
       "</style>\n",
       "<table border=\"1\" class=\"dataframe\">\n",
       "  <thead>\n",
       "    <tr style=\"text-align: right;\">\n",
       "      <th></th>\n",
       "      <th>6G_Interferon_Gamma</th>\n",
       "      <th>Gajewski_13G_Inflammatory</th>\n",
       "      <th>Inflammatory</th>\n",
       "      <th>Interferon_Gamma_Biology</th>\n",
       "      <th>Ribas_10G_Interferon_Gamma</th>\n",
       "      <th>T-cell_Exhaustion</th>\n",
       "    </tr>\n",
       "    <tr>\n",
       "      <th>Only highly predictive</th>\n",
       "      <th></th>\n",
       "      <th></th>\n",
       "      <th></th>\n",
       "      <th></th>\n",
       "      <th></th>\n",
       "      <th></th>\n",
       "    </tr>\n",
       "  </thead>\n",
       "  <tbody>\n",
       "    <tr>\n",
       "      <th>Tumor cells yes</th>\n",
       "      <td>1.0</td>\n",
       "      <td>1.0</td>\n",
       "      <td>3.0</td>\n",
       "      <td>1.0</td>\n",
       "      <td>2.0</td>\n",
       "      <td>5.0</td>\n",
       "    </tr>\n",
       "    <tr>\n",
       "      <th>Tumor cells no</th>\n",
       "      <td>39.0</td>\n",
       "      <td>71.0</td>\n",
       "      <td>69.0</td>\n",
       "      <td>111.0</td>\n",
       "      <td>30.0</td>\n",
       "      <td>123.0</td>\n",
       "    </tr>\n",
       "    <tr>\n",
       "      <th>vessels yes</th>\n",
       "      <td>7.0</td>\n",
       "      <td>3.0</td>\n",
       "      <td>0.0</td>\n",
       "      <td>6.0</td>\n",
       "      <td>2.0</td>\n",
       "      <td>2.0</td>\n",
       "    </tr>\n",
       "    <tr>\n",
       "      <th>vessels no</th>\n",
       "      <td>33.0</td>\n",
       "      <td>69.0</td>\n",
       "      <td>72.0</td>\n",
       "      <td>106.0</td>\n",
       "      <td>30.0</td>\n",
       "      <td>126.0</td>\n",
       "    </tr>\n",
       "    <tr>\n",
       "      <th>blood  yes</th>\n",
       "      <td>3.0</td>\n",
       "      <td>0.0</td>\n",
       "      <td>5.0</td>\n",
       "      <td>3.0</td>\n",
       "      <td>0.0</td>\n",
       "      <td>9.0</td>\n",
       "    </tr>\n",
       "  </tbody>\n",
       "</table>\n",
       "</div>"
      ],
      "text/plain": [
       "                        6G_Interferon_Gamma  Gajewski_13G_Inflammatory  \\\n",
       "Only highly predictive                                                   \n",
       "Tumor cells yes                         1.0                        1.0   \n",
       "Tumor cells no                         39.0                       71.0   \n",
       "vessels yes                             7.0                        3.0   \n",
       "vessels no                             33.0                       69.0   \n",
       "blood  yes                              3.0                        0.0   \n",
       "\n",
       "                        Inflammatory  Interferon_Gamma_Biology  \\\n",
       "Only highly predictive                                           \n",
       "Tumor cells yes                  3.0                       1.0   \n",
       "Tumor cells no                  69.0                     111.0   \n",
       "vessels yes                      0.0                       6.0   \n",
       "vessels no                      72.0                     106.0   \n",
       "blood  yes                       5.0                       3.0   \n",
       "\n",
       "                        Ribas_10G_Interferon_Gamma  T-cell_Exhaustion  \n",
       "Only highly predictive                                                 \n",
       "Tumor cells yes                                2.0                5.0  \n",
       "Tumor cells no                                30.0              123.0  \n",
       "vessels yes                                    2.0                2.0  \n",
       "vessels no                                    30.0              126.0  \n",
       "blood  yes                                     0.0                9.0  "
      ]
     },
     "metadata": {},
     "output_type": "display_data"
    }
   ],
   "source": [
    "path = \"/media/visiopharm5/WDGold/deeplearning/MIL/CLAM/patch_reviewing\"\n",
    "df_predictive_signatures = pd.read_csv(os.path.join(path, 'specific_feature_for_2signatures', 'summary_predictive_signatures.csv'), index_col=0)\n",
    "print(df_predictive_signatures.shape)\n",
    "display(df_predictive_signatures.head(5))"
   ]
  },
  {
   "cell_type": "code",
   "execution_count": 24,
   "id": "7533907a",
   "metadata": {},
   "outputs": [
    {
     "name": "stdout",
     "output_type": "stream",
     "text": [
      "(23, 1)\n"
     ]
    },
    {
     "data": {
      "text/html": [
       "<div>\n",
       "<style scoped>\n",
       "    .dataframe tbody tr th:only-of-type {\n",
       "        vertical-align: middle;\n",
       "    }\n",
       "\n",
       "    .dataframe tbody tr th {\n",
       "        vertical-align: top;\n",
       "    }\n",
       "\n",
       "    .dataframe thead th {\n",
       "        text-align: right;\n",
       "    }\n",
       "</style>\n",
       "<table border=\"1\" class=\"dataframe\">\n",
       "  <thead>\n",
       "    <tr style=\"text-align: right;\">\n",
       "      <th></th>\n",
       "      <th>p-value</th>\n",
       "    </tr>\n",
       "    <tr>\n",
       "      <th>only highly predictive</th>\n",
       "      <th></th>\n",
       "    </tr>\n",
       "  </thead>\n",
       "  <tbody>\n",
       "    <tr>\n",
       "      <th>Tumor cells</th>\n",
       "      <td>0.384374</td>\n",
       "    </tr>\n",
       "    <tr>\n",
       "      <th>vessels</th>\n",
       "      <td>0.000956</td>\n",
       "    </tr>\n",
       "    <tr>\n",
       "      <th>blood</th>\n",
       "      <td>0.052303</td>\n",
       "    </tr>\n",
       "  </tbody>\n",
       "</table>\n",
       "</div>"
      ],
      "text/plain": [
       "                         p-value\n",
       "only highly predictive          \n",
       "Tumor cells             0.384374\n",
       "vessels                 0.000956\n",
       "blood                   0.052303"
      ]
     },
     "metadata": {},
     "output_type": "display_data"
    }
   ],
   "source": [
    "df_fisher_exact_2xn_6signatures = pd.DataFrame(columns=['p-value'])\n",
    "for i in range(len(df_predictive_signatures)//2):\n",
    "    df_fisher_exact_2xn_6signatures.loc[df_predictive_signatures.index.values[2*i][:-4]] = FisherExact.fisher_exact(df_predictive_signatures.iloc[2*i:2*(i+1), :])\n",
    "df_fisher_exact_2xn_6signatures.rename_axis('only highly predictive', inplace=True)\n",
    "print(df_fisher_exact_2xn_6signatures.shape)\n",
    "display(df_fisher_exact_2xn_6signatures.head(3))\n",
    "df_fisher_exact_2xn_6signatures.to_csv(os.path.join(path, 'specific_feature_for_6signatures_fisher-exact-2xn.csv'), index=True)"
   ]
  }
 ],
 "metadata": {
  "kernelspec": {
   "display_name": "Python 3",
   "language": "python",
   "name": "python3"
  },
  "language_info": {
   "codemirror_mode": {
    "name": "ipython",
    "version": 3
   },
   "file_extension": ".py",
   "mimetype": "text/x-python",
   "name": "python",
   "nbconvert_exporter": "python",
   "pygments_lexer": "ipython3",
   "version": "3.6.13"
  }
 },
 "nbformat": 4,
 "nbformat_minor": 5
}
