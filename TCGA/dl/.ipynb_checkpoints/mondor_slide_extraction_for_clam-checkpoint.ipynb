{
 "cells": [
  {
   "cell_type": "markdown",
   "metadata": {},
   "source": [
    "## Copy 139 Mondor slides for clam, from the hamamatsu slide_anno folder, to clam data folder in WDRed"
   ]
  },
  {
   "cell_type": "code",
   "execution_count": 21,
   "metadata": {},
   "outputs": [],
   "source": [
    "import os\n",
    "import shutil\n",
    "import multiprocessing as mp"
   ]
  },
  {
   "cell_type": "code",
   "execution_count": 2,
   "metadata": {},
   "outputs": [
    {
     "name": "stdout",
     "output_type": "stream",
     "text": [
      "(139, 1)\n",
      "                             slide_id\n",
      "0  HMNT0346_bis - 2017-06-13 17.02.45\n",
      "1      HMNT0153 - 2017-06-08 16.41.05\n",
      "2  HMNT0280_bis - 2017-06-16 01.55.56\n"
     ]
    }
   ],
   "source": [
    "# load reference which include needed slide ids (without ext)\n",
    "f_ref = '/media/visiopharm5/WDGold/deeplearning/MIL/CLAM/dataset_csv/mondor_hcc_feature_139.csv'\n",
    "df_ref = pd.read_csv(f_ref)\n",
    "print(df_ref.shape) # (139, 1)\n",
    "display(df_ref.head(3))"
   ]
  },
  {
   "cell_type": "code",
   "execution_count": 5,
   "metadata": {},
   "outputs": [
    {
     "name": "stdout",
     "output_type": "stream",
     "text": [
      "139\n",
      "['HMNT0346_bis - 2017-06-13 17.02.45', 'HMNT0153 - 2017-06-08 16.41.05', 'HMNT0280_bis - 2017-06-16 01.55.56']\n"
     ]
    }
   ],
   "source": [
    "# save all the slide ids in a list\n",
    "list_slides = df_ref['slide_id'].tolist() #139\n",
    "print(len(list_slides))\n",
    "print(list_slides[:3])"
   ]
  },
  {
   "cell_type": "code",
   "execution_count": 3,
   "metadata": {},
   "outputs": [],
   "source": [
    "# define the path for copying sldies\n",
    "src_path = '/media/visiopharm5/WDGold/deeplearning/Hepatocarcinomes/slides_annotations_hammamatsu'\n",
    "dest_path = '/media/visiopharm5/WDRed(backup)/clam_extension/data/data_mondor_hcc'\n",
    "\n",
    "os.mkdir(dest_path)"
   ]
  },
  {
   "cell_type": "markdown",
   "metadata": {},
   "source": [
    "### copy the 139 slides"
   ]
  },
  {
   "cell_type": "code",
   "execution_count": 19,
   "metadata": {},
   "outputs": [
    {
     "name": "stdout",
     "output_type": "stream",
     "text": [
      "HMNT0071_bis - 2017-06-15 12.25.18.ndpi\n",
      "HMNT0073_bis - 2017-06-17 22.30.07.ndpi\n",
      "HMNT0129_bis - 2017-06-17 17.15.39.ndpi\n",
      "HMNT0100 - 2017-07-14 07.59.28.ndpi\n"
     ]
    },
    {
     "ename": "KeyboardInterrupt",
     "evalue": "",
     "output_type": "error",
     "traceback": [
      "\u001b[0;31m---------------------------------------------------------------------------\u001b[0m",
      "\u001b[0;31mKeyboardInterrupt\u001b[0m                         Traceback (most recent call last)",
      "\u001b[0;32m<ipython-input-19-55ac9951aaa2>\u001b[0m in \u001b[0;36m<module>\u001b[0;34m\u001b[0m\n\u001b[1;32m     11\u001b[0m                 \u001b[0;32mwith\u001b[0m \u001b[0mopen\u001b[0m\u001b[0;34m(\u001b[0m\u001b[0mos\u001b[0m\u001b[0;34m.\u001b[0m\u001b[0mpath\u001b[0m\u001b[0;34m.\u001b[0m\u001b[0mjoin\u001b[0m\u001b[0;34m(\u001b[0m\u001b[0msrc_path\u001b[0m\u001b[0;34m,\u001b[0m \u001b[0mfile\u001b[0m\u001b[0;34m)\u001b[0m\u001b[0;34m,\u001b[0m \u001b[0;34m'rb'\u001b[0m\u001b[0;34m)\u001b[0m \u001b[0;32mas\u001b[0m \u001b[0mfin\u001b[0m\u001b[0;34m:\u001b[0m\u001b[0;34m\u001b[0m\u001b[0;34m\u001b[0m\u001b[0m\n\u001b[1;32m     12\u001b[0m                     \u001b[0;32mwith\u001b[0m \u001b[0mopen\u001b[0m\u001b[0;34m(\u001b[0m\u001b[0mos\u001b[0m\u001b[0;34m.\u001b[0m\u001b[0mpath\u001b[0m\u001b[0;34m.\u001b[0m\u001b[0mjoin\u001b[0m\u001b[0;34m(\u001b[0m\u001b[0mdest_path\u001b[0m\u001b[0;34m,\u001b[0m \u001b[0mfile\u001b[0m\u001b[0;34m)\u001b[0m\u001b[0;34m,\u001b[0m \u001b[0;34m'wb'\u001b[0m\u001b[0;34m)\u001b[0m \u001b[0;32mas\u001b[0m \u001b[0mfout\u001b[0m\u001b[0;34m:\u001b[0m\u001b[0;34m\u001b[0m\u001b[0;34m\u001b[0m\u001b[0m\n\u001b[0;32m---> 13\u001b[0;31m                         \u001b[0mshutil\u001b[0m\u001b[0;34m.\u001b[0m\u001b[0mcopyfileobj\u001b[0m\u001b[0;34m(\u001b[0m\u001b[0mfin\u001b[0m\u001b[0;34m,\u001b[0m \u001b[0mfout\u001b[0m\u001b[0;34m,\u001b[0m \u001b[0;36m10485760\u001b[0m\u001b[0;34m)\u001b[0m \u001b[0;31m# default buffer_size = 16*1024, 16384\u001b[0m\u001b[0;34m\u001b[0m\u001b[0;34m\u001b[0m\u001b[0m\n\u001b[0m\u001b[1;32m     14\u001b[0m                 \u001b[0mcount\u001b[0m \u001b[0;34m+=\u001b[0m \u001b[0;36m1\u001b[0m\u001b[0;34m\u001b[0m\u001b[0;34m\u001b[0m\u001b[0m\n\u001b[1;32m     15\u001b[0m \u001b[0mprint\u001b[0m\u001b[0;34m(\u001b[0m\u001b[0mcount\u001b[0m\u001b[0;34m)\u001b[0m \u001b[0;31m# 139\u001b[0m\u001b[0;34m\u001b[0m\u001b[0;34m\u001b[0m\u001b[0m\n",
      "\u001b[0;32m~/anaconda3/envs/clam/lib/python3.7/shutil.py\u001b[0m in \u001b[0;36mcopyfileobj\u001b[0;34m(fsrc, fdst, length)\u001b[0m\n\u001b[1;32m     80\u001b[0m         \u001b[0;32mif\u001b[0m \u001b[0;32mnot\u001b[0m \u001b[0mbuf\u001b[0m\u001b[0;34m:\u001b[0m\u001b[0;34m\u001b[0m\u001b[0;34m\u001b[0m\u001b[0m\n\u001b[1;32m     81\u001b[0m             \u001b[0;32mbreak\u001b[0m\u001b[0;34m\u001b[0m\u001b[0;34m\u001b[0m\u001b[0m\n\u001b[0;32m---> 82\u001b[0;31m         \u001b[0mfdst\u001b[0m\u001b[0;34m.\u001b[0m\u001b[0mwrite\u001b[0m\u001b[0;34m(\u001b[0m\u001b[0mbuf\u001b[0m\u001b[0;34m)\u001b[0m\u001b[0;34m\u001b[0m\u001b[0;34m\u001b[0m\u001b[0m\n\u001b[0m\u001b[1;32m     83\u001b[0m \u001b[0;34m\u001b[0m\u001b[0m\n\u001b[1;32m     84\u001b[0m \u001b[0;32mdef\u001b[0m \u001b[0m_samefile\u001b[0m\u001b[0;34m(\u001b[0m\u001b[0msrc\u001b[0m\u001b[0;34m,\u001b[0m \u001b[0mdst\u001b[0m\u001b[0;34m)\u001b[0m\u001b[0;34m:\u001b[0m\u001b[0;34m\u001b[0m\u001b[0;34m\u001b[0m\u001b[0m\n",
      "\u001b[0;31mKeyboardInterrupt\u001b[0m: "
     ]
    }
   ],
   "source": [
    "# count = 0\n",
    "# for root, dirs, files in os.walk(src_path):\n",
    "#     for file in files:\n",
    "#         # check file extension\n",
    "#         if os.path.splitext(file)[1] in ['.svs', '.ndpi']:\n",
    "#             # extract only slides in the list\n",
    "#             if os.path.splitext(file)[0] in list_slides:\n",
    "#                 print(file)\n",
    "# #                 shutil.copyfile(os.path.join(src_path, file), os.path.join(dest_path, file))\n",
    "#                 with open(os.path.join(src_path, file), 'rb') as fin:\n",
    "#                     with open(os.path.join(dest_path, file), 'wb') as fout:\n",
    "#                         shutil.copyfileobj(fin, fout, 10485760) # default buffer_size = 16*1024, 16384\n",
    "#                 count += 1\n",
    "# print(count) # 139"
   ]
  },
  {
   "cell_type": "markdown",
   "metadata": {},
   "source": [
    "### Faster alternative"
   ]
  },
  {
   "cell_type": "code",
   "execution_count": 20,
   "metadata": {},
   "outputs": [],
   "source": [
    "def myCopyFile(src_file, dest_file, buffer_size=10485760):\n",
    "    if not os.path.isfile(dest_file):\n",
    "        with open(src_file, 'rb') as fin:\n",
    "            with open(dest_file, 'wb') as fout:\n",
    "                shutil.copyfileobj(fin, fout, buffer_size) # default buffer_size = 16*1024, 16384"
   ]
  },
  {
   "cell_type": "code",
   "execution_count": 22,
   "metadata": {},
   "outputs": [
    {
     "name": "stdout",
     "output_type": "stream",
     "text": [
      "HMNT0071_bis - 2017-06-15 12.25.18.ndpi\n",
      "HMNT0073_bis - 2017-06-17 22.30.07.ndpi\n",
      "HMNT0129_bis - 2017-06-17 17.15.39.ndpi\n",
      "HMNT0100 - 2017-07-14 07.59.28.ndpi\n",
      "HMNT0106_bis - 2017-06-11 10.39.38.ndpi\n",
      "HMNT0109 - 2017-06-18 16.13.47.ndpi\n",
      "HMNT0116_bis - 2017-06-11 13.48.07.ndpi\n",
      "HMNT0121_bis - 2017-06-03 06.55.39.ndpi\n",
      "HMNT0123_bis - 2017-06-04 12.12.57.ndpi\n",
      "HMNT0133_bis - 2017-06-09 02.52.29.ndpi\n",
      "HMNT0135 - 2017-06-11 14.30.16.ndpi\n",
      "HMNT0152 - 2017-06-08 15.10.14.ndpi\n",
      "HMNT0153 - 2017-06-08 16.41.05.ndpi\n",
      "HMNT0154 - 2017-06-05 01.51.11.ndpi\n",
      "HMNT0180_bis - 2017-06-10 17.22.58.ndpi\n",
      "HMNT0182_bis - 2017-06-10 11.59.12.ndpi\n",
      "HMNT0183 - 2017-07-15 01.37.30.ndpi\n",
      "HMNT0188 - 2017-06-18 11.05.02.ndpi\n",
      "HMNT0198 - 2017-06-15 20.40.51.ndpi\n",
      "HMNT0199 - 2017-06-06 10.00.30.ndpi\n",
      "HMNT0212_bis - 2017-06-13 18.21.49.ndpi\n",
      "HMNT0253 - 2017-06-30 03.06.36.ndpi\n",
      "HMNT0280_bis - 2017-06-16 01.55.56.ndpi\n",
      "HMNT0337_bis - 2017-05-31 03.45.33.ndpi\n",
      "HMNT0345_bis - 2017-06-11 20.09.51.ndpi\n",
      "HMNT0346_bis - 2017-06-13 17.02.45.ndpi\n",
      "HMNT0363_bis - 2017-06-16 06.06.00.ndpi\n",
      "HMNT0365 - 2017-05-31 08.29.39.ndpi\n",
      "HMNT0367 - 2017-06-13 13.09.55.ndpi\n",
      "HMNT0393 - 2017-06-17 01.34.06.ndpi\n",
      "HMNT0399 - 2017-06-16 18.23.55.ndpi\n",
      "HMNT0401_bis - 2017-06-02 16.04.57.ndpi\n",
      "HMNT0409_bis - 2017-07-16 06.00.19.ndpi\n",
      "HMNT0439_bis - 2017-06-18 00.05.21.ndpi\n",
      "HMNT0455 - 2017-06-16 16.46.38.ndpi\n",
      "HMNT0457_bis - 2017-06-16 21.07.58.ndpi\n",
      "HMNT0465 - 2017-06-05 07.39.31.ndpi\n",
      "HMNT0472_P672772_03 - 2019-11-05 01.18.44.ndpi\n",
      "HMNT0478 - 2017-06-05 09.12.24.ndpi\n",
      "HMNT0486 - 2017-06-04 13.04.49.ndpi\n",
      "HMNT0488_bis - 2017-06-19 07.14.33.ndpi\n",
      "HMNT0499_bis - 2017-06-05 11.22.25.ndpi\n",
      "HMNT0500 - 2017-06-06 20.39.35.ndpi\n",
      "HMNT0504_bis - 2017-06-06 18.18.00.ndpi\n",
      "HMNT0505 - 2017-06-09 19.32.22.ndpi\n",
      "HMNT0516_P622582-05-HES.svs\n",
      "HMNT0528_bis - 2017-06-11 04.44.37.ndpi\n",
      "HMNT0529 - 2017-06-16 07.10.23.ndpi\n",
      "HMNT0531 - 2017-06-16 15.10.19.ndpi\n",
      "HMNT0550 - 2017-06-09 14.58.32.ndpi\n",
      "HMNT0552 - 2017-06-29 14.35.51.ndpi\n",
      "HMNT0571_bis - 2017-06-15 22.46.03.ndpi\n",
      "HMNT0572 - 2017-07-25 00.18.20.ndpi\n",
      "HMNT0573_bis - 2017-06-03 02.10.00.ndpi\n",
      "HMNT0574 - 2017-06-13 19.27.00.ndpi\n",
      "HMNT0582_bis - 2017-07-16 22.01.02.ndpi\n",
      "HMNT0611 - 2017-06-16 08.32.20.ndpi\n",
      "HMNT0625_bis - 2017-06-02 14.38.28.ndpi\n",
      "HMNT0723 - 2017-06-08 13.37.37.ndpi\n",
      "HMNT0750 - 2017-06-08 19.38.54.ndpi\n",
      "HMNT0820_bis - 2017-06-16 00.21.06.ndpi\n",
      "HMNT0858 - 2017-06-30 00.02.43.ndpi\n",
      "HMNT0869 - 2017-07-07 23.15.44.ndpi\n",
      "HMNT0981_bis - 2017-07-04 14.54.08.ndpi\n",
      "HMNT0996_bis - 2017-06-30 05.53.31.ndpi\n",
      "HMNT1383 - 2017-06-15 07.48.30.ndpi\n",
      "HMNT1639 - 2017-06-15 10.22.10.ndpi\n",
      "HMNT1688_bis - 2017-07-08 04.09.49.ndpi\n",
      "HMNT0972 - 2017-06-10 19.22.54.ndpi\n",
      "HMNT1745_bis - 2017-07-08 07.08.06.ndpi\n",
      "HMNT1747_bis - 2017-07-07 19.50.24.ndpi\n",
      "HMNT0430_bis - 2017-07-14 01.27.28.ndpi\n",
      "HMNT0102 - 2017-07-14 22.14.28.ndpi\n",
      "HMNT0110_bis - 2017-06-16 22.39.18.ndpi\n",
      "HMNT0111 - 2017-06-17 19.47.09.ndpi\n",
      "HMNT0117_bis - 2017-06-15 20.08.25.ndpi\n",
      "HMNT0124_bis - 2017-06-05 05.08.39.ndpi\n",
      "HMNT0126 - 2017-05-30 16.26.46.ndpi\n",
      "HMNT0131 - 2017-06-18 02.10.27.ndpi\n",
      "HMNT0151 - 2017-06-04 22.01.03.ndpi\n",
      "HMNT0156_bis - 2017-06-05 03.33.14.ndpi\n",
      "HMNT0157 - 2017-06-05 06.02.09.ndpi\n",
      "HMNT0185_bis - 2017-06-15 14.01.13.ndpi\n",
      "HMNT0193_bis - 2017-06-15 09.27.37.ndpi\n",
      "HMNT0197_bis - 2017-06-15 15.19.14.ndpi\n",
      "HMNT0206 - 2017-08-19 07.36.08.ndpi\n",
      "HMNT0224_bis - 2017-06-13 21.54.24.ndpi\n",
      "HMNT0270 - 2017-06-14 01.00.25.ndpi\n",
      "HMNT0343_bis - 2017-06-06 12.56.13.ndpi\n",
      "HMNT0358_bis - 2017-06-16 04.31.51.ndpi\n",
      "HMNT0416 - 2017-06-17 05.55.15.ndpi\n",
      "HMNT0420_bis - 2017-06-04 10.15.45.ndpi\n",
      "HMNT0441 - 2017-06-04 14.41.46.ndpi\n",
      "HMNT0454_bis - 2017-06-05 00.11.21.ndpi\n",
      "HMNT0484 - 2017-06-18 12.39.04.ndpi\n",
      "HMNT0492 - 2017-06-08 20.54.07.ndpi\n",
      "HMNT0502_bis - 2017-06-08 12.51.11.ndpi\n",
      "HMNT0512_bis - 2017-06-08 18.49.37.ndpi\n",
      "HMNT0513 - 2017-06-09 15.48.33.ndpi\n",
      "HMNT0521_bis - 2017-06-10 04.23.46.ndpi\n",
      "HMNT0524 - 2017-06-19 09.49.01.ndpi\n",
      "HMNT0546 - 2017-06-09 12.38.13.ndpi\n",
      "HMNT0548_bis - 2017-07-15 12.57.53.ndpi\n",
      "HMNT0562_bis - 2017-06-18 09.03.20.ndpi\n",
      "HMNT0563 - 2017-06-13 15.08.49.ndpi\n",
      "HMNT0569_bis - 2017-06-14 03.00.44.ndpi\n",
      "HMNT0575_bis - 2017-06-06 16.11.52.ndpi\n",
      "HMNT0576 - 2017-06-05 00.39.43.ndpi\n",
      "HMNT0578_bis - 2017-06-11 06.12.53.ndpi\n",
      "HMNT0603_bis - 2017-06-30 02.24.04.ndpi\n",
      "HMNT0620 - 2017-07-24 21.25.55.ndpi\n",
      "HMNT0672 - 2017-06-04 07.13.30.ndpi\n",
      "HMNT0689_bis - 2017-06-03 11.36.00.ndpi\n",
      "HMNT0700_bis - 2017-06-03 13.23.39.ndpi\n",
      "HMNT0727 - 2017-06-06 19.11.28.ndpi\n",
      "HMNT0741 - 2017-06-29 22.38.12.ndpi\n",
      "HMNT0775_bis - 2017-06-11 01.56.19.ndpi\n",
      "HMNT0885_bis - 2017-06-17 00.38.46.ndpi\n",
      "HMNT0998_bis - 2017-06-30 07.23.23.ndpi\n",
      "HMNT1029 - 2017-07-10 09.52.40.ndpi\n",
      "HMNT1318 - 2017-06-10 13.53.45.ndpi\n",
      "HMNT1397_bis - 2017-06-10 10.42.32.ndpi\n",
      "HMNT1549_bis - 2017-06-18 01.37.18.ndpi\n",
      "HMNT1641_bis - 2017-06-18 23.02.49.ndpi\n",
      "HMNT1666_bis - 2017-06-18 10.11.26.ndpi\n",
      "HMNT1677_bis - 2017-06-30 04.10.33.ndpi\n",
      "HMNT1729_bis - 2017-06-29 21.31.01.ndpi\n",
      "HMNT1748_bis - 2017-07-08 08.39.07.ndpi\n",
      "HMNT1749 - 2017-07-08 09.31.45.ndpi\n",
      "HMNT1750_bis - 2017-07-08 01.28.19.ndpi\n",
      "HMNT1781_P705474_01_HES - 2018-11-01 10.08.24.ndpi\n",
      "HMNT1885_P703089_B02_HES - 2018-11-01 09.22.15.ndpi\n",
      "HMNT2066_P734242_01_HES - 2018-11-01 16.13.44.ndpi\n",
      "HMNT2321_757692-05-HES.svs\n",
      "HMNT2326_P758321-B04-HES.svs\n",
      "HMNT2386_P761529-C01-HES.svs\n",
      "HMNT2387_P761471-A03-HES.svs\n",
      "HMNT2409_P764429_B01_HE - 2020-07-23 16.26.41.ndpi\n",
      "HMNT2410_P764429_C06_HE - 2020-07-23 16.13.36.ndpi\n",
      "139\n"
     ]
    }
   ],
   "source": [
    "# copy the 139 slides\n",
    "slides = []\n",
    "for root, dirs, files in os.walk(src_path):\n",
    "    for file in files:\n",
    "        # check file extension\n",
    "        if os.path.splitext(file)[1] in ['.svs', '.ndpi']:\n",
    "            # extract only slides in the list\n",
    "            if os.path.splitext(file)[0] in list_slides:\n",
    "                print(file)\n",
    "                slides.append(file)\n",
    "print(len(slides)) # 139"
   ]
  },
  {
   "cell_type": "code",
   "execution_count": 23,
   "metadata": {},
   "outputs": [],
   "source": [
    "num_workers = mp.cpu_count()\n",
    "if num_workers > 8:\n",
    "    num_workers = 8\n",
    "pool = mp.Pool(num_workers)\n",
    "iterable = [(os.path.join(src_path, slide), os.path.join(dest_path, slide)) for slide in slides]\n",
    "myCopyFile(os.path.join(src_path, file), os.path.join(dest_path, file))\n",
    "results = pool.starmap(myCopyFile, iterable) # multiprocessing to accelerate\n",
    "pool.close()"
   ]
  },
  {
   "cell_type": "code",
   "execution_count": null,
   "metadata": {},
   "outputs": [],
   "source": []
  }
 ],
 "metadata": {
  "kernelspec": {
   "display_name": "Python 3",
   "language": "python",
   "name": "python3"
  },
  "language_info": {
   "codemirror_mode": {
    "name": "ipython",
    "version": 3
   },
   "file_extension": ".py",
   "mimetype": "text/x-python",
   "name": "python",
   "nbconvert_exporter": "python",
   "pygments_lexer": "ipython3",
   "version": "3.7.7"
  }
 },
 "nbformat": 4,
 "nbformat_minor": 4
}
