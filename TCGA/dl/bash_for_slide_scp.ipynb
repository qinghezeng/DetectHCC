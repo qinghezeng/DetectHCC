{
 "cells": [
  {
   "cell_type": "code",
   "execution_count": 1,
   "metadata": {},
   "outputs": [],
   "source": [
    "import os"
   ]
  },
  {
   "cell_type": "code",
   "execution_count": 6,
   "metadata": {},
   "outputs": [],
   "source": [
    "path = '/media/visiopharm5/WDRed(backup)/clam_extension/data'\n",
    "file = 'tcga_slides.txt'\n",
    "file2 = 'mondor.txt'"
   ]
  },
  {
   "cell_type": "code",
   "execution_count": 7,
   "metadata": {},
   "outputs": [
    {
     "name": "stdout",
     "output_type": "stream",
     "text": [
      "354\n"
     ]
    },
    {
     "data": {
      "text/plain": [
       "['TCGA-2V-A95S-01Z-00-DX1.9DFA6FC7-87A6-4C14-9A39-E3F12B01C4D4.svs',\n",
       " 'TCGA-2Y-A9GS-01Z-00-DX1.75C5CEF1-6C8B-42FF-82F6-9A05621E9A80.svs',\n",
       " 'TCGA-2Y-A9GT-01Z-00-DX1.30666775-3556-4DFE-A5EC-8CCF8EEB1803.svs']"
      ]
     },
     "metadata": {},
     "output_type": "display_data"
    }
   ],
   "source": [
    "slides = []\n",
    "with open(os.path.join(path, file)) as f:\n",
    "    for line in f.readlines():\n",
    "        slides.append(line[:-1])\n",
    "print(len(slides))\n",
    "display(slides[:3])"
   ]
  },
  {
   "cell_type": "code",
   "execution_count": 9,
   "metadata": {},
   "outputs": [
    {
     "name": "stdout",
     "output_type": "stream",
     "text": [
      "137\n"
     ]
    },
    {
     "data": {
      "text/plain": [
       "['HMNT0071_bis - 2017-06-15 12.25.18.ndpi',\n",
       " 'HMNT0073_bis - 2017-06-17 22.30.07.ndpi',\n",
       " 'HMNT0100 - 2017-07-14 07.59.28.ndpi']"
      ]
     },
     "metadata": {},
     "output_type": "display_data"
    }
   ],
   "source": [
    "slides2 = []\n",
    "with open(os.path.join(path, file2)) as f:\n",
    "    for line in f.readlines():\n",
    "        slides2.append(line[:-1])\n",
    "print(len(slides2))\n",
    "display(slides2[:3])"
   ]
  },
  {
   "cell_type": "code",
   "execution_count": 25,
   "metadata": {},
   "outputs": [],
   "source": [
    "with open(os.path.join(path, 'copy_file.sh'),'w') as the_file:\n",
    "    for slide in set(slides)-set(slides2):\n",
    "        the_file.write(\"sshpass -p qinghe01 scp -P 1392 '/media/visiopharm5/WDRed(backup)/clam_extension/data/data_tcga_hcc/{}' qinghe@pf-01.lab.parisdescartes.fr:/media/nico/HardDisk2To/hccData/data_tcga_hcc\\n\".format(slide))"
   ]
  },
  {
   "cell_type": "code",
   "execution_count": null,
   "metadata": {},
   "outputs": [],
   "source": []
  },
  {
   "cell_type": "code",
   "execution_count": 8,
   "metadata": {},
   "outputs": [],
   "source": [
    "path = '/media/visiopharm5/WDRed(backup)/clam_extension/data'\n",
    "with open(os.path.join(path, 'copy_file.sh'),'w') as the_file:\n",
    "    for root, firs, files in os.walk(os.path.join(path, 'data_mondor_hcc')):\n",
    "        slides = files"
   ]
  },
  {
   "cell_type": "code",
   "execution_count": null,
   "metadata": {},
   "outputs": [],
   "source": []
  }
 ],
 "metadata": {
  "kernelspec": {
   "display_name": "Python 3",
   "language": "python",
   "name": "python3"
  },
  "language_info": {
   "codemirror_mode": {
    "name": "ipython",
    "version": 3
   },
   "file_extension": ".py",
   "mimetype": "text/x-python",
   "name": "python",
   "nbconvert_exporter": "python",
   "pygments_lexer": "ipython3",
   "version": "3.7.7"
  }
 },
 "nbformat": 4,
 "nbformat_minor": 4
}
