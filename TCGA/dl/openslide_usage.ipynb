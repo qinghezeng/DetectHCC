{
 "cells": [
  {
   "cell_type": "code",
   "execution_count": 1,
   "metadata": {},
   "outputs": [],
   "source": [
    "# !pip install openslide-python\n",
    "import openslide\n",
    "from openslide import OpenSlide\n",
    "import os"
   ]
  },
  {
   "cell_type": "code",
   "execution_count": 2,
   "metadata": {},
   "outputs": [],
   "source": [
    "slide_path=\"/media/visiopharm5/WDGold/deeplearning/MIL/CLAM/data/data_tcga_hcc\""
   ]
  },
  {
   "cell_type": "code",
   "execution_count": 7,
   "metadata": {},
   "outputs": [],
   "source": [
    "# open a file pointer\n",
    "slide_name=\"TCGA-2Y-A9H6-01Z-00-DX1.B805A8D8-B75D-449F-8D1A-8E948ED12757.svs\"\n",
    "slide_path=os.path.join(slide_path,slide_name)\n",
    "f=OpenSlide(slide_path)"
   ]
  },
  {
   "cell_type": "code",
   "execution_count": 8,
   "metadata": {},
   "outputs": [
    {
     "name": "stdout",
     "output_type": "stream",
     "text": [
      "levels: 4\n"
     ]
    }
   ],
   "source": [
    "# level counts : number of downsampled images\n",
    "levels=f.level_count\n",
    "print(\"levels: \"+str(levels))"
   ]
  },
  {
   "cell_type": "code",
   "execution_count": 9,
   "metadata": {},
   "outputs": [
    {
     "name": "stdout",
     "output_type": "stream",
     "text": [
      "Width= 135322, Height= 93046\n"
     ]
    }
   ],
   "source": [
    "# size of full slide images\n",
    "(width,height)=f.dimensions\n",
    "print(\"Width= \"+str(width)+\", Height= \"+str(height))"
   ]
  },
  {
   "cell_type": "code",
   "execution_count": 10,
   "metadata": {},
   "outputs": [],
   "source": [
    "# down sample\n",
    "level_downsamples=f.level_downsamples"
   ]
  },
  {
   "cell_type": "code",
   "execution_count": 11,
   "metadata": {},
   "outputs": [
    {
     "name": "stdout",
     "output_type": "stream",
     "text": [
      "level 0: (x,y)= (135322, 93046)\tdownsampling= 1.0\n",
      "level 1: (x,y)= (33830, 23261)\tdownsampling= 4.000072549975656\n",
      "level 2: (x,y)= (8457, 5815)\tdownsampling= 16.00110713333986\n",
      "level 3: (x,y)= (2114, 1453)\tdownsampling= 64.02473172329327\n"
     ]
    }
   ],
   "source": [
    "# levels dimensions\n",
    "dims=f.level_dimensions\n",
    "for i in range(levels):\n",
    "    print(\"level \"+str(i)+\": (x,y)= \"+str(dims[i])+\"\\tdownsampling= \"+str(level_downsamples[i])) #no original (0)"
   ]
  },
  {
   "cell_type": "code",
   "execution_count": 12,
   "metadata": {},
   "outputs": [
    {
     "name": "stdout",
     "output_type": "stream",
     "text": [
      "Properties :\n",
      "\topenslide.vendor : aperio\n",
      "\topenslide.objective-power : 40\n",
      "\topenslide.mpp-x : 0.25240000000000001\n",
      "\topenslide.mpp-y : 0.25240000000000001\n"
     ]
    }
   ],
   "source": [
    "# Metadata    \n",
    "properties=f.properties\n",
    "print(\"Properties :\")\n",
    "print(\"\\t\"+openslide.PROPERTY_NAME_VENDOR+\" : \"+properties[openslide.PROPERTY_NAME_VENDOR])\n",
    "print(\"\\t\"+openslide.PROPERTY_NAME_OBJECTIVE_POWER+\" : \"+properties[openslide.PROPERTY_NAME_OBJECTIVE_POWER])\n",
    "print(\"\\t\"+openslide.PROPERTY_NAME_MPP_X+\" : \"+properties[openslide.PROPERTY_NAME_MPP_X]) # um or microns per pixel\n",
    "print(\"\\t\"+openslide.PROPERTY_NAME_MPP_Y+\" : \"+properties[openslide.PROPERTY_NAME_MPP_Y])"
   ]
  },
  {
   "cell_type": "markdown",
   "metadata": {},
   "source": [
    "### Check the highest solution and biggest downsample rate"
   ]
  },
  {
   "cell_type": "code",
   "execution_count": 6,
   "metadata": {},
   "outputs": [
    {
     "name": "stdout",
     "output_type": "stream",
     "text": [
      "TCGA-DD-A73A-01Z-00-DX1.6B409977-53A6-4DD9-9763-2094E5B83942.svs\n",
      "TCGA-DD-A73B-01Z-00-DX1.11B9A0BD-56CF-48C7-AC39-ABC5D22F0D94.svs\n",
      "TCGA-DD-A73C-01Z-00-DX1.B31DD97B-0C66-4404-9521-4CE5661CA0C4.svs\n",
      "TCGA-DD-A73D-01Z-00-DX1.455790BB-767B-458D-A90E-046FD47D0A92.svs\n",
      "TCGA-DD-A73E-01Z-00-DX1.E80B5E5D-BE89-4BD1-A4E3-EEA26027D6E0.svs\n",
      "TCGA-DD-A73F-01Z-00-DX1.94618B17-5501-4011-A634-A0669DDCCD2E.svs\n",
      "TCGA-DD-A73G-01Z-00-DX1.F5AB3B95-268C-44DA-9D42-7A7B5E1D8516.svs\n",
      "TCGA-HP-A5MZ-01Z-00-DX1.296DB311-8B9E-4A98-B53A-39BC2EB4A548.svs\n",
      "TCGA-HP-A5N0-01Z-00-DX1.DD11B335-405C-4724-8F16-236CFCA37854.svs\n",
      "TCGA-MR-A520-01Z-00-DX1.2F323BAC-56C9-4A0C-9C1B-2B4F776056B4.svs\n"
     ]
    }
   ],
   "source": [
    "for root, dirs, files in os.walk(slide_path, topdown=False):\n",
    "    for name in files:\n",
    "#         if name.endswith('.svs'):\n",
    "            # open a file pointer\n",
    "        f=OpenSlide(os.path.join(root, name))\n",
    "        level_downsamples=f.level_downsamples\n",
    "        properties=f.properties\n",
    "        if properties[openslide.PROPERTY_NAME_OBJECTIVE_POWER] == \"20\":\n",
    "            print(name) # 10\n",
    "#         print(properties[openslide.PROPERTY_NAME_OBJECTIVE_POWER]+\"\\t\"+str(level_downsamples[1]))\n",
    "        # 20 40\n",
    "        # 16 32 64"
   ]
  },
  {
   "cell_type": "code",
   "execution_count": null,
   "metadata": {},
   "outputs": [],
   "source": []
  }
 ],
 "metadata": {
  "kernelspec": {
   "display_name": "Python 3",
   "language": "python",
   "name": "python3"
  },
  "language_info": {
   "codemirror_mode": {
    "name": "ipython",
    "version": 3
   },
   "file_extension": ".py",
   "mimetype": "text/x-python",
   "name": "python",
   "nbconvert_exporter": "python",
   "pygments_lexer": "ipython3",
   "version": "3.7.7"
  }
 },
 "nbformat": 4,
 "nbformat_minor": 4
}
