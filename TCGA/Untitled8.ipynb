{
 "cells": [
  {
   "cell_type": "code",
   "execution_count": 4,
   "metadata": {},
   "outputs": [],
   "source": [
    "import pandas as pd\n",
    "import numpy as np"
   ]
  },
  {
   "cell_type": "code",
   "execution_count": 5,
   "metadata": {},
   "outputs": [],
   "source": [
    "path = \"/media/visiopharm5/WDGold/deeplearning/Hepatocarcinomes/TCGA/processed_backup/\"\n",
    "input_path = \"/media/visiopharm5/WDGold/deeplearning/Hepatocarcinomes/TCGA/processed/\""
   ]
  },
  {
   "cell_type": "code",
   "execution_count": 7,
   "metadata": {},
   "outputs": [],
   "source": [
    "data = pd.read_csv(path + 'fpkm_final_raw_CCL3L1.csv', sep='\\t', index_col=0)\n",
    "# data = pd.read_csv(input_path + \"fpkm_final_log2-zscore_CCL3L1-noDEFB134.csv\", sep='\\t', header = None)\n",
    "os = pd.read_csv(input_path + 'Overall_Survival_legacy.txt', sep='\\t')\n",
    "dfs = pd.read_csv(input_path + 'Disease_Free_Survival_legacy.txt', sep='\\t')\n",
    "gender = pd.read_csv(input_path + 'Sex_legacy.txt', sep='\\t')"
   ]
  },
  {
   "cell_type": "code",
   "execution_count": null,
   "metadata": {},
   "outputs": [],
   "source": [
    "data = data.T\n",
    "data.reset_index(inplace=True)\n",
    "data = data.rename(columns={\"index\":\"Sample\"})"
   ]
  },
  {
   "cell_type": "code",
   "execution_count": null,
   "metadata": {},
   "outputs": [],
   "source": [
    "print(data.shape) # (340, 734)\n",
    "display(data.head(5))\n",
    "print()\n",
    "print(os.shape) # (340, 2)\n",
    "display(os.head(5))\n",
    "print()\n",
    "print(dfs.shape) # (340, 2)\n",
    "display(dfs.head(5))\n",
    "print()\n",
    "print(gender.shape) # (340, 2)\n",
    "display(gender.head(5))\n",
    "print()"
   ]
  },
  {
   "cell_type": "code",
   "execution_count": null,
   "metadata": {},
   "outputs": [],
   "source": [
    "sample = data[\"Sample\"][0]"
   ]
  },
  {
   "cell_type": "code",
   "execution_count": null,
   "metadata": {},
   "outputs": [],
   "source": [
    "# Here is no chained operation. SettingWithCopyWarning maybe be caused by created item column, try to build the df again.\n",
    "def exact_info(df, item):\n",
    "    i=0\n",
    "    data[item] = ''\n",
    "    for sample in data[\"Sample\"]:\n",
    "        info = set(df[df['Patient ID'].str.contains(sample[:-4][-4:])][item])\n",
    "        if len(info) != 1 :\n",
    "#             raise ValueError('Multiple or no values found.')\n",
    "            i=i+1\n",
    "        else:\n",
    "            info = list(info)[0]\n",
    "            data.loc[data[\"Sample\"]==sample, item] = info\n",
    "    return i # count of samples not found"
   ]
  },
  {
   "cell_type": "code",
   "execution_count": null,
   "metadata": {},
   "outputs": [],
   "source": [
    "print(exact_info(df = os, item = 'OS_STATUS')) # 0\n",
    "print(exact_info(df = os, item = 'OS_MONTHS')) # 0"
   ]
  },
  {
   "cell_type": "code",
   "execution_count": null,
   "metadata": {},
   "outputs": [],
   "source": [
    "print(exact_info(df = dfs, item = 'DFS_STATUS')) # 0\n",
    "print(exact_info(df = dfs, item = 'DFS_MONTHS')) # 0"
   ]
  },
  {
   "cell_type": "code",
   "execution_count": null,
   "metadata": {},
   "outputs": [],
   "source": [
    "print(exact_info(df = gender, item = 'Sex')) # 0"
   ]
  },
  {
   "cell_type": "code",
   "execution_count": null,
   "metadata": {},
   "outputs": [],
   "source": [
    "print(data.shape) # (340, 33)\n",
    "display(data.head(5))\n",
    "print()"
   ]
  },
  {
   "cell_type": "code",
   "execution_count": null,
   "metadata": {},
   "outputs": [],
   "source": [
    "for i in range(len(data)):\n",
    "    data.loc[i,'OS_STATUS'] = data.loc[i,'OS_STATUS'][0]\n",
    "    try:\n",
    "        data.loc[i,'DFS_STATUS'] = data.loc[i,'DFS_STATUS'][0]\n",
    "    except:\n",
    "        pass"
   ]
  },
  {
   "cell_type": "code",
   "execution_count": null,
   "metadata": {},
   "outputs": [],
   "source": [
    "display(data.dtypes[-4:])\n",
    "data = data.astype({'OS_STATUS':'float64', 'OS_MONTHS':'float64', 'DFS_STATUS':'float64', 'DFS_MONTHS':'float64'})\n",
    "display(data.dtypes[-4:])"
   ]
  },
  {
   "cell_type": "code",
   "execution_count": null,
   "metadata": {},
   "outputs": [],
   "source": [
    "print(data.shape) # (340, 33)\n",
    "display(data.head(5))\n",
    "print()"
   ]
  }
 ],
 "metadata": {
  "kernelspec": {
   "display_name": "Python 3",
   "language": "python",
   "name": "python3"
  },
  "language_info": {
   "codemirror_mode": {
    "name": "ipython",
    "version": 3
   },
   "file_extension": ".py",
   "mimetype": "text/x-python",
   "name": "python",
   "nbconvert_exporter": "python",
   "pygments_lexer": "ipython3",
   "version": "3.7.7"
  }
 },
 "nbformat": 4,
 "nbformat_minor": 4
}
