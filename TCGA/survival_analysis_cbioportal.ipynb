{
 "cells": [
  {
   "cell_type": "code",
   "execution_count": 1,
   "metadata": {},
   "outputs": [],
   "source": [
    "import pandas as pd\n",
    "import numpy as np\n",
    "from lifelines import KaplanMeierFitter\n",
    "from matplotlib import pyplot as plt\n",
    "from lifelines.plotting import add_at_risk_counts, plot_lifetimes\n",
    "from lifelines.statistics import logrank_test, multivariate_logrank_test, pairwise_logrank_test, proportional_hazard_test\n",
    "from lifelines import CoxPHFitter\n",
    "from lifelines import NelsonAalenFitter"
   ]
  },
  {
   "cell_type": "code",
   "execution_count": 11,
   "metadata": {},
   "outputs": [],
   "source": [
    "# # Windows\n",
    "# input_path = \"E:\\\\deeplearning\\\\Hepatocarcinomes\\\\TCGA\\\\\"\n",
    "# out_path = input_path + \"heatmap\\\\survival\\\\\"\n",
    "# Ubuntu\n",
    "input_path = \"/media/visiopharm5/WDGold/deeplearning/Hepatocarcinomes/TCGA/\"\n",
    "out_path = input_path + \"validation/survival/\""
   ]
  },
  {
   "cell_type": "code",
   "execution_count": 12,
   "metadata": {},
   "outputs": [],
   "source": [
    "# # Windows\n",
    "# clusters = pd.read_csv(input_path + 'heatmap\\\\sample_clusters_filtered-6_median_km_euclidean_3.csv', sep=',')\n",
    "# os = pd.read_csv(input_path + 'processed\\\\Overall_Survival_legacy.txt', sep='\\t')\n",
    "# dfs = pd.read_csv(input_path + 'processed\\\\Disease_Free_Survival_legacy.txt', sep='\\t')\n",
    "# gender = pd.read_csv(input_path + 'processed\\\\Sex_legacy.txt', sep='\\t')\n",
    "# Ubuntu\n",
    "clusters = pd.read_csv(input_path + 'validation/sample_clusters_full_raw_hc_cnmf_ordered_euclidean_3.csv', sep=',')\n",
    "os = pd.read_csv(input_path + 'processed/Overall_Survival_legacy.txt', sep='\\t')\n",
    "dfs = pd.read_csv(input_path + 'processed/Disease_Free_Survival_legacy.txt', sep='\\t')\n",
    "gender = pd.read_csv(input_path + 'processed/Sex_legacy.txt', sep='\\t')"
   ]
  },
  {
   "cell_type": "code",
   "execution_count": 13,
   "metadata": {},
   "outputs": [
    {
     "name": "stdout",
     "output_type": "stream",
     "text": [
      "(340, 2)\n"
     ]
    },
    {
     "data": {
      "text/html": [
       "<div>\n",
       "<style scoped>\n",
       "    .dataframe tbody tr th:only-of-type {\n",
       "        vertical-align: middle;\n",
       "    }\n",
       "\n",
       "    .dataframe tbody tr th {\n",
       "        vertical-align: top;\n",
       "    }\n",
       "\n",
       "    .dataframe thead th {\n",
       "        text-align: right;\n",
       "    }\n",
       "</style>\n",
       "<table border=\"1\" class=\"dataframe\">\n",
       "  <thead>\n",
       "    <tr style=\"text-align: right;\">\n",
       "      <th></th>\n",
       "      <th>Sample</th>\n",
       "      <th>Cluster</th>\n",
       "    </tr>\n",
       "  </thead>\n",
       "  <tbody>\n",
       "    <tr>\n",
       "      <th>0</th>\n",
       "      <td>AAE1.01A</td>\n",
       "      <td>Cluster High</td>\n",
       "    </tr>\n",
       "    <tr>\n",
       "      <th>1</th>\n",
       "      <td>AAVX.01A</td>\n",
       "      <td>Cluster High</td>\n",
       "    </tr>\n",
       "    <tr>\n",
       "      <th>2</th>\n",
       "      <td>AACO.01A</td>\n",
       "      <td>Cluster High</td>\n",
       "    </tr>\n",
       "    <tr>\n",
       "      <th>3</th>\n",
       "      <td>A4NK.01A</td>\n",
       "      <td>Cluster High</td>\n",
       "    </tr>\n",
       "    <tr>\n",
       "      <th>4</th>\n",
       "      <td>AAE2.01A</td>\n",
       "      <td>Cluster High</td>\n",
       "    </tr>\n",
       "  </tbody>\n",
       "</table>\n",
       "</div>"
      ],
      "text/plain": [
       "     Sample       Cluster\n",
       "0  AAE1.01A  Cluster High\n",
       "1  AAVX.01A  Cluster High\n",
       "2  AACO.01A  Cluster High\n",
       "3  A4NK.01A  Cluster High\n",
       "4  AAE2.01A  Cluster High"
      ]
     },
     "metadata": {},
     "output_type": "display_data"
    },
    {
     "name": "stdout",
     "output_type": "stream",
     "text": [
      "\n",
      "(440, 4)\n"
     ]
    },
    {
     "data": {
      "text/html": [
       "<div>\n",
       "<style scoped>\n",
       "    .dataframe tbody tr th:only-of-type {\n",
       "        vertical-align: middle;\n",
       "    }\n",
       "\n",
       "    .dataframe tbody tr th {\n",
       "        vertical-align: top;\n",
       "    }\n",
       "\n",
       "    .dataframe thead th {\n",
       "        text-align: right;\n",
       "    }\n",
       "</style>\n",
       "<table border=\"1\" class=\"dataframe\">\n",
       "  <thead>\n",
       "    <tr style=\"text-align: right;\">\n",
       "      <th></th>\n",
       "      <th>Study ID</th>\n",
       "      <th>Patient ID</th>\n",
       "      <th>OS_STATUS</th>\n",
       "      <th>OS_MONTHS</th>\n",
       "    </tr>\n",
       "  </thead>\n",
       "  <tbody>\n",
       "    <tr>\n",
       "      <th>0</th>\n",
       "      <td>lihc_tcga</td>\n",
       "      <td>TCGA-2V-A95S</td>\n",
       "      <td>0:LIVING</td>\n",
       "      <td>NaN</td>\n",
       "    </tr>\n",
       "    <tr>\n",
       "      <th>1</th>\n",
       "      <td>lihc_tcga</td>\n",
       "      <td>TCGA-2Y-A9GS</td>\n",
       "      <td>1:DECEASED</td>\n",
       "      <td>23.78</td>\n",
       "    </tr>\n",
       "    <tr>\n",
       "      <th>2</th>\n",
       "      <td>lihc_tcga</td>\n",
       "      <td>TCGA-2Y-A9GT</td>\n",
       "      <td>1:DECEASED</td>\n",
       "      <td>53.35</td>\n",
       "    </tr>\n",
       "    <tr>\n",
       "      <th>3</th>\n",
       "      <td>lihc_tcga</td>\n",
       "      <td>TCGA-2Y-A9GU</td>\n",
       "      <td>0:LIVING</td>\n",
       "      <td>63.70</td>\n",
       "    </tr>\n",
       "    <tr>\n",
       "      <th>4</th>\n",
       "      <td>lihc_tcga</td>\n",
       "      <td>TCGA-2Y-A9GV</td>\n",
       "      <td>1:DECEASED</td>\n",
       "      <td>83.18</td>\n",
       "    </tr>\n",
       "  </tbody>\n",
       "</table>\n",
       "</div>"
      ],
      "text/plain": [
       "    Study ID    Patient ID   OS_STATUS  OS_MONTHS\n",
       "0  lihc_tcga  TCGA-2V-A95S    0:LIVING        NaN\n",
       "1  lihc_tcga  TCGA-2Y-A9GS  1:DECEASED      23.78\n",
       "2  lihc_tcga  TCGA-2Y-A9GT  1:DECEASED      53.35\n",
       "3  lihc_tcga  TCGA-2Y-A9GU    0:LIVING      63.70\n",
       "4  lihc_tcga  TCGA-2Y-A9GV  1:DECEASED      83.18"
      ]
     },
     "metadata": {},
     "output_type": "display_data"
    },
    {
     "name": "stdout",
     "output_type": "stream",
     "text": [
      "\n",
      "(440, 4)\n"
     ]
    },
    {
     "data": {
      "text/html": [
       "<div>\n",
       "<style scoped>\n",
       "    .dataframe tbody tr th:only-of-type {\n",
       "        vertical-align: middle;\n",
       "    }\n",
       "\n",
       "    .dataframe tbody tr th {\n",
       "        vertical-align: top;\n",
       "    }\n",
       "\n",
       "    .dataframe thead th {\n",
       "        text-align: right;\n",
       "    }\n",
       "</style>\n",
       "<table border=\"1\" class=\"dataframe\">\n",
       "  <thead>\n",
       "    <tr style=\"text-align: right;\">\n",
       "      <th></th>\n",
       "      <th>Study ID</th>\n",
       "      <th>Patient ID</th>\n",
       "      <th>DFS_STATUS</th>\n",
       "      <th>DFS_MONTHS</th>\n",
       "    </tr>\n",
       "  </thead>\n",
       "  <tbody>\n",
       "    <tr>\n",
       "      <th>0</th>\n",
       "      <td>lihc_tcga</td>\n",
       "      <td>TCGA-2V-A95S</td>\n",
       "      <td>0:DiseaseFree</td>\n",
       "      <td>NaN</td>\n",
       "    </tr>\n",
       "    <tr>\n",
       "      <th>1</th>\n",
       "      <td>lihc_tcga</td>\n",
       "      <td>TCGA-2Y-A9GS</td>\n",
       "      <td>1:Recurred/Progressed</td>\n",
       "      <td>3.35</td>\n",
       "    </tr>\n",
       "    <tr>\n",
       "      <th>2</th>\n",
       "      <td>lihc_tcga</td>\n",
       "      <td>TCGA-2Y-A9GT</td>\n",
       "      <td>1:Recurred/Progressed</td>\n",
       "      <td>35.58</td>\n",
       "    </tr>\n",
       "    <tr>\n",
       "      <th>3</th>\n",
       "      <td>lihc_tcga</td>\n",
       "      <td>TCGA-2Y-A9GU</td>\n",
       "      <td>0:DiseaseFree</td>\n",
       "      <td>63.70</td>\n",
       "    </tr>\n",
       "    <tr>\n",
       "      <th>4</th>\n",
       "      <td>lihc_tcga</td>\n",
       "      <td>TCGA-2Y-A9GV</td>\n",
       "      <td>1:Recurred/Progressed</td>\n",
       "      <td>71.91</td>\n",
       "    </tr>\n",
       "  </tbody>\n",
       "</table>\n",
       "</div>"
      ],
      "text/plain": [
       "    Study ID    Patient ID             DFS_STATUS  DFS_MONTHS\n",
       "0  lihc_tcga  TCGA-2V-A95S          0:DiseaseFree         NaN\n",
       "1  lihc_tcga  TCGA-2Y-A9GS  1:Recurred/Progressed        3.35\n",
       "2  lihc_tcga  TCGA-2Y-A9GT  1:Recurred/Progressed       35.58\n",
       "3  lihc_tcga  TCGA-2Y-A9GU          0:DiseaseFree       63.70\n",
       "4  lihc_tcga  TCGA-2Y-A9GV  1:Recurred/Progressed       71.91"
      ]
     },
     "metadata": {},
     "output_type": "display_data"
    },
    {
     "name": "stdout",
     "output_type": "stream",
     "text": [
      "\n",
      "(377, 3)\n"
     ]
    },
    {
     "data": {
      "text/html": [
       "<div>\n",
       "<style scoped>\n",
       "    .dataframe tbody tr th:only-of-type {\n",
       "        vertical-align: middle;\n",
       "    }\n",
       "\n",
       "    .dataframe tbody tr th {\n",
       "        vertical-align: top;\n",
       "    }\n",
       "\n",
       "    .dataframe thead th {\n",
       "        text-align: right;\n",
       "    }\n",
       "</style>\n",
       "<table border=\"1\" class=\"dataframe\">\n",
       "  <thead>\n",
       "    <tr style=\"text-align: right;\">\n",
       "      <th></th>\n",
       "      <th>Study ID</th>\n",
       "      <th>Patient ID</th>\n",
       "      <th>Sex</th>\n",
       "    </tr>\n",
       "  </thead>\n",
       "  <tbody>\n",
       "    <tr>\n",
       "      <th>0</th>\n",
       "      <td>lihc_tcga</td>\n",
       "      <td>TCGA-2V-A95S</td>\n",
       "      <td>Male</td>\n",
       "    </tr>\n",
       "    <tr>\n",
       "      <th>1</th>\n",
       "      <td>lihc_tcga</td>\n",
       "      <td>TCGA-2Y-A9GS</td>\n",
       "      <td>Male</td>\n",
       "    </tr>\n",
       "    <tr>\n",
       "      <th>2</th>\n",
       "      <td>lihc_tcga</td>\n",
       "      <td>TCGA-2Y-A9GT</td>\n",
       "      <td>Male</td>\n",
       "    </tr>\n",
       "    <tr>\n",
       "      <th>3</th>\n",
       "      <td>lihc_tcga</td>\n",
       "      <td>TCGA-2Y-A9GU</td>\n",
       "      <td>Female</td>\n",
       "    </tr>\n",
       "    <tr>\n",
       "      <th>4</th>\n",
       "      <td>lihc_tcga</td>\n",
       "      <td>TCGA-2Y-A9GV</td>\n",
       "      <td>Female</td>\n",
       "    </tr>\n",
       "  </tbody>\n",
       "</table>\n",
       "</div>"
      ],
      "text/plain": [
       "    Study ID    Patient ID     Sex\n",
       "0  lihc_tcga  TCGA-2V-A95S    Male\n",
       "1  lihc_tcga  TCGA-2Y-A9GS    Male\n",
       "2  lihc_tcga  TCGA-2Y-A9GT    Male\n",
       "3  lihc_tcga  TCGA-2Y-A9GU  Female\n",
       "4  lihc_tcga  TCGA-2Y-A9GV  Female"
      ]
     },
     "metadata": {},
     "output_type": "display_data"
    },
    {
     "name": "stdout",
     "output_type": "stream",
     "text": [
      "\n"
     ]
    }
   ],
   "source": [
    "print(clusters.shape) # (340, 2)\n",
    "display(clusters.head(5))\n",
    "print()\n",
    "print(os.shape) # (340, 2)\n",
    "display(os.head(5))\n",
    "print()\n",
    "print(dfs.shape) # (340, 2)\n",
    "display(dfs.head(5))\n",
    "print()\n",
    "print(gender.shape) # (340, 2)\n",
    "display(gender.head(5))\n",
    "print()"
   ]
  },
  {
   "cell_type": "markdown",
   "metadata": {},
   "source": [
    "### Extract survival data"
   ]
  },
  {
   "cell_type": "code",
   "execution_count": 14,
   "metadata": {},
   "outputs": [],
   "source": [
    "def exact_info(df, item):\n",
    "    i=0\n",
    "    clusters[item] = ''\n",
    "    for sample in clusters[\"Sample\"]:\n",
    "        info = set(df[df['Patient ID'].str.contains(sample[:-4][-4:])][item])\n",
    "        if len(info) != 1 :\n",
    "#             raise ValueError('Multiple or no values found.')\n",
    "            i=i+1\n",
    "        else:\n",
    "            info = list(info)[0]\n",
    "            clusters.loc[clusters[\"Sample\"]==sample, item] = info\n",
    "    return i # count of samples not found"
   ]
  },
  {
   "cell_type": "code",
   "execution_count": 15,
   "metadata": {},
   "outputs": [
    {
     "name": "stdout",
     "output_type": "stream",
     "text": [
      "0\n",
      "0\n"
     ]
    }
   ],
   "source": [
    "print(exact_info(df = os, item = 'OS_STATUS')) # 0\n",
    "print(exact_info(df = os, item = 'OS_MONTHS')) # 0"
   ]
  },
  {
   "cell_type": "code",
   "execution_count": 16,
   "metadata": {},
   "outputs": [
    {
     "name": "stdout",
     "output_type": "stream",
     "text": [
      "0\n",
      "0\n"
     ]
    }
   ],
   "source": [
    "print(exact_info(df = dfs, item = 'DFS_STATUS')) # 0\n",
    "print(exact_info(df = dfs, item = 'DFS_MONTHS')) # 0"
   ]
  },
  {
   "cell_type": "code",
   "execution_count": 17,
   "metadata": {},
   "outputs": [
    {
     "name": "stdout",
     "output_type": "stream",
     "text": [
      "0\n"
     ]
    }
   ],
   "source": [
    "print(exact_info(df = gender, item = 'Sex')) # 0"
   ]
  },
  {
   "cell_type": "code",
   "execution_count": 18,
   "metadata": {},
   "outputs": [
    {
     "name": "stdout",
     "output_type": "stream",
     "text": [
      "(340, 7)\n"
     ]
    },
    {
     "data": {
      "text/html": [
       "<div>\n",
       "<style scoped>\n",
       "    .dataframe tbody tr th:only-of-type {\n",
       "        vertical-align: middle;\n",
       "    }\n",
       "\n",
       "    .dataframe tbody tr th {\n",
       "        vertical-align: top;\n",
       "    }\n",
       "\n",
       "    .dataframe thead th {\n",
       "        text-align: right;\n",
       "    }\n",
       "</style>\n",
       "<table border=\"1\" class=\"dataframe\">\n",
       "  <thead>\n",
       "    <tr style=\"text-align: right;\">\n",
       "      <th></th>\n",
       "      <th>Sample</th>\n",
       "      <th>Cluster</th>\n",
       "      <th>OS_STATUS</th>\n",
       "      <th>OS_MONTHS</th>\n",
       "      <th>DFS_STATUS</th>\n",
       "      <th>DFS_MONTHS</th>\n",
       "      <th>Sex</th>\n",
       "    </tr>\n",
       "  </thead>\n",
       "  <tbody>\n",
       "    <tr>\n",
       "      <th>0</th>\n",
       "      <td>AAE1.01A</td>\n",
       "      <td>Cluster High</td>\n",
       "      <td>0:LIVING</td>\n",
       "      <td>18.13</td>\n",
       "      <td>0:DiseaseFree</td>\n",
       "      <td>18.13</td>\n",
       "      <td>Male</td>\n",
       "    </tr>\n",
       "    <tr>\n",
       "      <th>1</th>\n",
       "      <td>AAVX.01A</td>\n",
       "      <td>Cluster High</td>\n",
       "      <td>0:LIVING</td>\n",
       "      <td>56.44</td>\n",
       "      <td>1:Recurred/Progressed</td>\n",
       "      <td>12.91</td>\n",
       "      <td>Male</td>\n",
       "    </tr>\n",
       "    <tr>\n",
       "      <th>2</th>\n",
       "      <td>AACO.01A</td>\n",
       "      <td>Cluster High</td>\n",
       "      <td>0:LIVING</td>\n",
       "      <td>61.63</td>\n",
       "      <td>1:Recurred/Progressed</td>\n",
       "      <td>15.74</td>\n",
       "      <td>Male</td>\n",
       "    </tr>\n",
       "    <tr>\n",
       "      <th>3</th>\n",
       "      <td>A4NK.01A</td>\n",
       "      <td>Cluster High</td>\n",
       "      <td>1:DECEASED</td>\n",
       "      <td>39.75</td>\n",
       "      <td>1:Recurred/Progressed</td>\n",
       "      <td>2.92</td>\n",
       "      <td>Female</td>\n",
       "    </tr>\n",
       "    <tr>\n",
       "      <th>4</th>\n",
       "      <td>AAE2.01A</td>\n",
       "      <td>Cluster High</td>\n",
       "      <td>0:LIVING</td>\n",
       "      <td>20.96</td>\n",
       "      <td>0:DiseaseFree</td>\n",
       "      <td>20.96</td>\n",
       "      <td>Male</td>\n",
       "    </tr>\n",
       "  </tbody>\n",
       "</table>\n",
       "</div>"
      ],
      "text/plain": [
       "     Sample       Cluster   OS_STATUS OS_MONTHS             DFS_STATUS  \\\n",
       "0  AAE1.01A  Cluster High    0:LIVING     18.13          0:DiseaseFree   \n",
       "1  AAVX.01A  Cluster High    0:LIVING     56.44  1:Recurred/Progressed   \n",
       "2  AACO.01A  Cluster High    0:LIVING     61.63  1:Recurred/Progressed   \n",
       "3  A4NK.01A  Cluster High  1:DECEASED     39.75  1:Recurred/Progressed   \n",
       "4  AAE2.01A  Cluster High    0:LIVING     20.96          0:DiseaseFree   \n",
       "\n",
       "  DFS_MONTHS     Sex  \n",
       "0      18.13    Male  \n",
       "1      12.91    Male  \n",
       "2      15.74    Male  \n",
       "3       2.92  Female  \n",
       "4      20.96    Male  "
      ]
     },
     "metadata": {},
     "output_type": "display_data"
    },
    {
     "name": "stdout",
     "output_type": "stream",
     "text": [
      "\n"
     ]
    }
   ],
   "source": [
    "print(clusters.shape) # (340, 6)\n",
    "display(clusters.head(5))\n",
    "print()"
   ]
  },
  {
   "cell_type": "markdown",
   "metadata": {},
   "source": [
    "### Preprocess"
   ]
  },
  {
   "cell_type": "code",
   "execution_count": 19,
   "metadata": {},
   "outputs": [],
   "source": [
    "for i in range(len(clusters)):\n",
    "    clusters.loc[i,'OS_STATUS'] = clusters.loc[i,'OS_STATUS'][0]\n",
    "    try:\n",
    "        clusters.loc[i,'DFS_STATUS'] = clusters.loc[i,'DFS_STATUS'][0]\n",
    "    except:\n",
    "        pass"
   ]
  },
  {
   "cell_type": "code",
   "execution_count": 20,
   "metadata": {},
   "outputs": [
    {
     "data": {
      "text/plain": [
       "Sample        object\n",
       "Cluster       object\n",
       "OS_STATUS     object\n",
       "OS_MONTHS     object\n",
       "DFS_STATUS    object\n",
       "DFS_MONTHS    object\n",
       "Sex           object\n",
       "dtype: object"
      ]
     },
     "metadata": {},
     "output_type": "display_data"
    },
    {
     "data": {
      "text/plain": [
       "Sample         object\n",
       "Cluster        object\n",
       "OS_STATUS     float64\n",
       "OS_MONTHS     float64\n",
       "DFS_STATUS    float64\n",
       "DFS_MONTHS    float64\n",
       "Sex            object\n",
       "dtype: object"
      ]
     },
     "metadata": {},
     "output_type": "display_data"
    }
   ],
   "source": [
    "display(clusters.dtypes)\n",
    "clusters = clusters.astype({'OS_STATUS':'float64', 'OS_MONTHS':'float64', 'DFS_STATUS':'float64', 'DFS_MONTHS':'float64'})\n",
    "display(clusters.dtypes)"
   ]
  },
  {
   "cell_type": "code",
   "execution_count": 21,
   "metadata": {},
   "outputs": [
    {
     "name": "stdout",
     "output_type": "stream",
     "text": [
      "(340, 7)\n"
     ]
    },
    {
     "data": {
      "text/html": [
       "<div>\n",
       "<style scoped>\n",
       "    .dataframe tbody tr th:only-of-type {\n",
       "        vertical-align: middle;\n",
       "    }\n",
       "\n",
       "    .dataframe tbody tr th {\n",
       "        vertical-align: top;\n",
       "    }\n",
       "\n",
       "    .dataframe thead th {\n",
       "        text-align: right;\n",
       "    }\n",
       "</style>\n",
       "<table border=\"1\" class=\"dataframe\">\n",
       "  <thead>\n",
       "    <tr style=\"text-align: right;\">\n",
       "      <th></th>\n",
       "      <th>Sample</th>\n",
       "      <th>Cluster</th>\n",
       "      <th>OS_STATUS</th>\n",
       "      <th>OS_MONTHS</th>\n",
       "      <th>DFS_STATUS</th>\n",
       "      <th>DFS_MONTHS</th>\n",
       "      <th>Sex</th>\n",
       "    </tr>\n",
       "  </thead>\n",
       "  <tbody>\n",
       "    <tr>\n",
       "      <th>0</th>\n",
       "      <td>AAE1.01A</td>\n",
       "      <td>Cluster High</td>\n",
       "      <td>0.0</td>\n",
       "      <td>18.13</td>\n",
       "      <td>0.0</td>\n",
       "      <td>18.13</td>\n",
       "      <td>Male</td>\n",
       "    </tr>\n",
       "    <tr>\n",
       "      <th>1</th>\n",
       "      <td>AAVX.01A</td>\n",
       "      <td>Cluster High</td>\n",
       "      <td>0.0</td>\n",
       "      <td>56.44</td>\n",
       "      <td>1.0</td>\n",
       "      <td>12.91</td>\n",
       "      <td>Male</td>\n",
       "    </tr>\n",
       "    <tr>\n",
       "      <th>2</th>\n",
       "      <td>AACO.01A</td>\n",
       "      <td>Cluster High</td>\n",
       "      <td>0.0</td>\n",
       "      <td>61.63</td>\n",
       "      <td>1.0</td>\n",
       "      <td>15.74</td>\n",
       "      <td>Male</td>\n",
       "    </tr>\n",
       "    <tr>\n",
       "      <th>3</th>\n",
       "      <td>A4NK.01A</td>\n",
       "      <td>Cluster High</td>\n",
       "      <td>1.0</td>\n",
       "      <td>39.75</td>\n",
       "      <td>1.0</td>\n",
       "      <td>2.92</td>\n",
       "      <td>Female</td>\n",
       "    </tr>\n",
       "    <tr>\n",
       "      <th>4</th>\n",
       "      <td>AAE2.01A</td>\n",
       "      <td>Cluster High</td>\n",
       "      <td>0.0</td>\n",
       "      <td>20.96</td>\n",
       "      <td>0.0</td>\n",
       "      <td>20.96</td>\n",
       "      <td>Male</td>\n",
       "    </tr>\n",
       "  </tbody>\n",
       "</table>\n",
       "</div>"
      ],
      "text/plain": [
       "     Sample       Cluster  OS_STATUS  OS_MONTHS  DFS_STATUS  DFS_MONTHS  \\\n",
       "0  AAE1.01A  Cluster High        0.0      18.13         0.0       18.13   \n",
       "1  AAVX.01A  Cluster High        0.0      56.44         1.0       12.91   \n",
       "2  AACO.01A  Cluster High        0.0      61.63         1.0       15.74   \n",
       "3  A4NK.01A  Cluster High        1.0      39.75         1.0        2.92   \n",
       "4  AAE2.01A  Cluster High        0.0      20.96         0.0       20.96   \n",
       "\n",
       "      Sex  \n",
       "0    Male  \n",
       "1    Male  \n",
       "2    Male  \n",
       "3  Female  \n",
       "4    Male  "
      ]
     },
     "metadata": {},
     "output_type": "display_data"
    },
    {
     "name": "stdout",
     "output_type": "stream",
     "text": [
      "\n"
     ]
    }
   ],
   "source": [
    "print(clusters.shape) # (340, 6)\n",
    "display(clusters.head(5))\n",
    "print()"
   ]
  },
  {
   "cell_type": "code",
   "execution_count": 22,
   "metadata": {},
   "outputs": [],
   "source": [
    "# Export data\n",
    "clusters.to_csv(input_path+\"heatmap//consensus_survival_filtered-sangro_median_km_euclidean_3.csv\",sep=\"\\t\", index=False)"
   ]
  },
  {
   "cell_type": "markdown",
   "metadata": {},
   "source": [
    "### *ATTENTION!*"
   ]
  },
  {
   "cell_type": "code",
   "execution_count": 23,
   "metadata": {},
   "outputs": [],
   "source": [
    "# Merge cluster 01 and cluster 03 manually\n",
    "# clusters = clusters.replace(\"Cluster High\", \"Cluster High + Median\")\n",
    "# clusters = clusters.replace(\"Cluster Median\", \"Cluster High + Median\")"
   ]
  },
  {
   "cell_type": "markdown",
   "metadata": {},
   "source": [
    "### Explore data"
   ]
  },
  {
   "cell_type": "code",
   "execution_count": 24,
   "metadata": {},
   "outputs": [
    {
     "data": {
      "text/html": [
       "<div>\n",
       "<style scoped>\n",
       "    .dataframe tbody tr th:only-of-type {\n",
       "        vertical-align: middle;\n",
       "    }\n",
       "\n",
       "    .dataframe tbody tr th {\n",
       "        vertical-align: top;\n",
       "    }\n",
       "\n",
       "    .dataframe thead th {\n",
       "        text-align: right;\n",
       "    }\n",
       "</style>\n",
       "<table border=\"1\" class=\"dataframe\">\n",
       "  <thead>\n",
       "    <tr style=\"text-align: right;\">\n",
       "      <th></th>\n",
       "      <th>Sample</th>\n",
       "      <th>OS_STATUS</th>\n",
       "      <th>OS_MONTHS</th>\n",
       "      <th>DFS_STATUS</th>\n",
       "      <th>DFS_MONTHS</th>\n",
       "      <th>Sex</th>\n",
       "    </tr>\n",
       "    <tr>\n",
       "      <th>Cluster</th>\n",
       "      <th></th>\n",
       "      <th></th>\n",
       "      <th></th>\n",
       "      <th></th>\n",
       "      <th></th>\n",
       "      <th></th>\n",
       "    </tr>\n",
       "  </thead>\n",
       "  <tbody>\n",
       "    <tr>\n",
       "      <th>Cluster High</th>\n",
       "      <td>93</td>\n",
       "      <td>93</td>\n",
       "      <td>93</td>\n",
       "      <td>85</td>\n",
       "      <td>85</td>\n",
       "      <td>93</td>\n",
       "    </tr>\n",
       "    <tr>\n",
       "      <th>Cluster Low</th>\n",
       "      <td>150</td>\n",
       "      <td>150</td>\n",
       "      <td>150</td>\n",
       "      <td>131</td>\n",
       "      <td>131</td>\n",
       "      <td>150</td>\n",
       "    </tr>\n",
       "    <tr>\n",
       "      <th>Cluster Median</th>\n",
       "      <td>97</td>\n",
       "      <td>97</td>\n",
       "      <td>96</td>\n",
       "      <td>81</td>\n",
       "      <td>80</td>\n",
       "      <td>97</td>\n",
       "    </tr>\n",
       "  </tbody>\n",
       "</table>\n",
       "</div>"
      ],
      "text/plain": [
       "                Sample  OS_STATUS  OS_MONTHS  DFS_STATUS  DFS_MONTHS  Sex\n",
       "Cluster                                                                  \n",
       "Cluster High        93         93         93          85          85   93\n",
       "Cluster Low        150        150        150         131         131  150\n",
       "Cluster Median      97         97         96          81          80   97"
      ]
     },
     "execution_count": 24,
     "metadata": {},
     "output_type": "execute_result"
    }
   ],
   "source": [
    "# Misssing values\n",
    "clusters.groupby([\"Cluster\"]).count()"
   ]
  },
  {
   "cell_type": "code",
   "execution_count": 25,
   "metadata": {},
   "outputs": [
    {
     "data": {
      "text/html": [
       "<div>\n",
       "<style scoped>\n",
       "    .dataframe tbody tr th:only-of-type {\n",
       "        vertical-align: middle;\n",
       "    }\n",
       "\n",
       "    .dataframe tbody tr th {\n",
       "        vertical-align: top;\n",
       "    }\n",
       "\n",
       "    .dataframe thead th {\n",
       "        text-align: right;\n",
       "    }\n",
       "</style>\n",
       "<table border=\"1\" class=\"dataframe\">\n",
       "  <thead>\n",
       "    <tr style=\"text-align: right;\">\n",
       "      <th></th>\n",
       "      <th>Sample</th>\n",
       "      <th>Cluster</th>\n",
       "      <th>OS_STATUS</th>\n",
       "      <th>OS_MONTHS</th>\n",
       "      <th>DFS_STATUS</th>\n",
       "      <th>DFS_MONTHS</th>\n",
       "      <th>Sex</th>\n",
       "    </tr>\n",
       "  </thead>\n",
       "  <tbody>\n",
       "    <tr>\n",
       "      <th>94</th>\n",
       "      <td>A95S.01A</td>\n",
       "      <td>Cluster Median</td>\n",
       "      <td>0.0</td>\n",
       "      <td>NaN</td>\n",
       "      <td>0.0</td>\n",
       "      <td>NaN</td>\n",
       "      <td>Male</td>\n",
       "    </tr>\n",
       "  </tbody>\n",
       "</table>\n",
       "</div>"
      ],
      "text/plain": [
       "      Sample         Cluster  OS_STATUS  OS_MONTHS  DFS_STATUS  DFS_MONTHS  \\\n",
       "94  A95S.01A  Cluster Median        0.0        NaN         0.0         NaN   \n",
       "\n",
       "     Sex  \n",
       "94  Male  "
      ]
     },
     "execution_count": 25,
     "metadata": {},
     "output_type": "execute_result"
    }
   ],
   "source": [
    "# Only 1 missing data for OS, with OS_STATUS but no OS_MONTHS\n",
    "clusters[clusters['OS_MONTHS'].isna()]"
   ]
  },
  {
   "cell_type": "code",
   "execution_count": 26,
   "metadata": {},
   "outputs": [
    {
     "data": {
      "text/html": [
       "<div>\n",
       "<style scoped>\n",
       "    .dataframe tbody tr th:only-of-type {\n",
       "        vertical-align: middle;\n",
       "    }\n",
       "\n",
       "    .dataframe tbody tr th {\n",
       "        vertical-align: top;\n",
       "    }\n",
       "\n",
       "    .dataframe thead th {\n",
       "        text-align: right;\n",
       "    }\n",
       "</style>\n",
       "<table border=\"1\" class=\"dataframe\">\n",
       "  <thead>\n",
       "    <tr style=\"text-align: right;\">\n",
       "      <th></th>\n",
       "      <th>Sample</th>\n",
       "      <th>Cluster</th>\n",
       "      <th>OS_MONTHS</th>\n",
       "      <th>DFS_STATUS</th>\n",
       "      <th>DFS_MONTHS</th>\n",
       "      <th>Sex</th>\n",
       "    </tr>\n",
       "    <tr>\n",
       "      <th>OS_STATUS</th>\n",
       "      <th></th>\n",
       "      <th></th>\n",
       "      <th></th>\n",
       "      <th></th>\n",
       "      <th></th>\n",
       "      <th></th>\n",
       "    </tr>\n",
       "  </thead>\n",
       "  <tbody>\n",
       "    <tr>\n",
       "      <th>0.0</th>\n",
       "      <td>220</td>\n",
       "      <td>220</td>\n",
       "      <td>219</td>\n",
       "      <td>220</td>\n",
       "      <td>219</td>\n",
       "      <td>220</td>\n",
       "    </tr>\n",
       "    <tr>\n",
       "      <th>1.0</th>\n",
       "      <td>120</td>\n",
       "      <td>120</td>\n",
       "      <td>120</td>\n",
       "      <td>77</td>\n",
       "      <td>77</td>\n",
       "      <td>120</td>\n",
       "    </tr>\n",
       "  </tbody>\n",
       "</table>\n",
       "</div>"
      ],
      "text/plain": [
       "           Sample  Cluster  OS_MONTHS  DFS_STATUS  DFS_MONTHS  Sex\n",
       "OS_STATUS                                                         \n",
       "0.0           220      220        219         220         219  220\n",
       "1.0           120      120        120          77          77  120"
      ]
     },
     "execution_count": 26,
     "metadata": {},
     "output_type": "execute_result"
    }
   ],
   "source": [
    "# Censored values\n",
    "clusters.groupby([\"OS_STATUS\"]).count()"
   ]
  },
  {
   "cell_type": "markdown",
   "metadata": {},
   "source": [
    "## Overall survival"
   ]
  },
  {
   "cell_type": "markdown",
   "metadata": {},
   "source": [
    "### Kaplan Meier for all patient"
   ]
  },
  {
   "cell_type": "code",
   "execution_count": 28,
   "metadata": {},
   "outputs": [
    {
     "name": "stdout",
     "output_type": "stream",
     "text": [
      "Median survival time: 58.84 months\n",
      "Survival rate: \n",
      "12    0.827121\n",
      "24    0.699969\n",
      "36    0.632235\n",
      "48    0.560653\n",
      "60    0.488692\n",
      "Name: All patients, dtype: float64\n"
     ]
    },
    {
     "data": {
      "image/png": "[encoded data removed]",
      "text/plain": [
       "<Figure size 252x216 with 1 Axes>"
      ]
     },
     "metadata": {
      "needs_background": "light"
     },
     "output_type": "display_data"
    }
   ],
   "source": [
    "kmf = KaplanMeierFitter()\n",
    "T = clusters.dropna(subset = [\"OS_MONTHS\"])['OS_MONTHS']\n",
    "E = clusters.dropna(subset = [\"OS_MONTHS\"])['OS_STATUS']\n",
    "kmf.fit(T, event_observed=E, label=\"All patients\")\n",
    "plt.figure(figsize=(3.5, 3))\n",
    "kmf.plot(show_censors=True, at_risk_counts=False)\n",
    "plt.title(\"Overall Survival\");\n",
    "plt.xlim(0, 150)\n",
    "plt.tight_layout()\n",
    "plt.savefig(out_path+\"os_all.png\")\n",
    "print(\"Median survival time: \" + str(kmf.median_survival_time_) + \" months\")\n",
    "print(\"Survival rate: \")\n",
    "print(kmf.survival_function_at_times([12,24,36,48,60], label=None))"
   ]
  },
  {
   "cell_type": "markdown",
   "metadata": {},
   "source": [
    "### Visualize censored values"
   ]
  },
  {
   "cell_type": "code",
   "execution_count": 19,
   "metadata": {},
   "outputs": [],
   "source": [
    "# ax = plot_lifetimes(T, event_observed=E)\n",
    "# # ax.set_xlim(0, 25)\n",
    "# # ax.vlines(10, 0, 30, lw=2, linestyles='--')\n",
    "# ax.set_xlabel(\"time\")\n",
    "# ax.set_title(\"Overall survival time\")\n",
    "# # print(\"Observed lifetimes at time %d:\\n\" % (CURRENT_TIME), observed_lifetimes)"
   ]
  },
  {
   "cell_type": "markdown",
   "metadata": {},
   "source": [
    "### Kaplan Meier by clusters"
   ]
  },
  {
   "cell_type": "code",
   "execution_count": 31,
   "metadata": {},
   "outputs": [
    {
     "name": "stdout",
     "output_type": "stream",
     "text": [
      "Median survival time: 83.18 months\n",
      "Overall survival rates: \n",
      "12    0.943991\n",
      "24    0.809880\n",
      "36    0.784571\n",
      "48    0.681528\n",
      "60    0.620854\n",
      "Name: Cluster High, dtype: float64\n",
      "Median survival time: 55.65 months\n",
      "Overall survival rates: \n",
      "12    0.838527\n",
      "24    0.729799\n",
      "36    0.691226\n",
      "48    0.579901\n",
      "60    0.483250\n",
      "Name: Cluster Median, dtype: float64\n",
      "Median survival time: 33.02 months\n",
      "Overall survival rates: \n",
      "12    0.739915\n",
      "24    0.601069\n",
      "36    0.487659\n",
      "48    0.464437\n",
      "60    0.406147\n",
      "Name: Cluster Low, dtype: float64\n"
     ]
    },
    {
     "data": {
      "text/plain": [
       "<matplotlib.axes._subplots.AxesSubplot at 0x7f0bf04fac90>"
      ]
     },
     "execution_count": 31,
     "metadata": {},
     "output_type": "execute_result"
    },
    {
     "data": {
      "image/png": "[encoded data removed]",
      "text/plain": [
       "<Figure size 432x288 with 2 Axes>"
      ]
     },
     "metadata": {
      "needs_background": "light"
     },
     "output_type": "display_data"
    }
   ],
   "source": [
    "ax = plt.subplot(111)\n",
    "\n",
    "kmf_os1 = KaplanMeierFitter()\n",
    "f_os1 = clusters.Cluster == \"Cluster High\"\n",
    "T_os1 = clusters[f_os1].dropna(subset = [\"OS_MONTHS\"])['OS_MONTHS']\n",
    "E_os1 = clusters[f_os1].dropna(subset = [\"OS_MONTHS\"])['OS_STATUS']\n",
    "kmf_os1.fit(T_os1, event_observed=E_os1, label=\"Cluster High\")\n",
    "print(\"Median survival time: \" + str(kmf_os1.median_survival_time_) + \" months\")\n",
    "print(\"Overall survival rates: \")\n",
    "print(kmf_os1.survival_function_at_times([12,24,36,48,60], label=\"Cluster High\"))\n",
    "ax = kmf_os1.plot(ax=ax, loc=slice(0, 60), color=\"#E41A1C\" )\n",
    "\n",
    "kmf_os2 = KaplanMeierFitter()\n",
    "f_os2 = clusters.Cluster == \"Cluster Median\"\n",
    "T_os2 = clusters[f_os2].dropna(subset = [\"OS_MONTHS\"])['OS_MONTHS']\n",
    "E_os2 = clusters[f_os2].dropna(subset = [\"OS_MONTHS\"])['OS_STATUS']\n",
    "kmf_os2.fit(T_os2, event_observed=E_os2, label=\"Cluster Median\")\n",
    "print(\"Median survival time: \" + str(kmf_os2.median_survival_time_) + \" months\")\n",
    "print(\"Overall survival rates: \")\n",
    "print(kmf_os2.survival_function_at_times([12,24,36,48,60], label=\"Cluster Median\"))\n",
    "ax = kmf_os2.plot(ax=ax, loc=slice(0, 60), color=\"#FFA500\")\n",
    "\n",
    "kmf_os3 = KaplanMeierFitter()\n",
    "f_os3 = clusters.Cluster == \"Cluster Low\"\n",
    "T_os3 = clusters[f_os3].dropna(subset = [\"OS_MONTHS\"])['OS_MONTHS']\n",
    "E_os3 = clusters[f_os3].dropna(subset = [\"OS_MONTHS\"])['OS_STATUS']\n",
    "kmf_os3.fit(T_os3, event_observed=E_os3, label=\"Cluster Low\")\n",
    "print(\"Median survival time: \" + str(kmf_os3.median_survival_time_) + \" months\")\n",
    "print(\"Overall survival rates: \")\n",
    "print(kmf_os3.survival_function_at_times([12,24,36,48,60], label=\"Cluster Low\"))\n",
    "ax = kmf_os3.plot(ax=ax, loc=slice(0, 60), color=\"#84a2f7\")\n",
    "\n",
    "# kmf_os4 = KaplanMeierFitter()\n",
    "# f_os4 = clusters.Cluster == \"Cluster 04\"\n",
    "# T_os4 = clusters[f_os4].dropna(subset = [\"OS_MONTHS\"])['OS_MONTHS']\n",
    "# E_os4 = clusters[f_os4].dropna(subset = [\"OS_MONTHS\"])['OS_STATUS']\n",
    "# kmf_os4.fit(T_os4, event_observed=E_os4, label=\"Cluster 04\")\n",
    "# print(\"Median survival time: \" + str(kmf_os4.median_survival_time_) + \" months\")\n",
    "# print(\"Overall survival rates: \")\n",
    "# print(kmf_os4.survival_function_at_times([12,24,36,48,60], label=\"Cluster 04\"))\n",
    "# ax = kmf_os4.plot(ax=ax, loc=slice(0, 60))\n",
    "\n",
    "# kmf_os5 = KaplanMeierFitter()\n",
    "# f_os5 = clusters.Cluster == \"Cluster 05\"\n",
    "# T_os5 = clusters[f_os5].dropna(subset = [\"OS_MONTHS\"])['OS_MONTHS']\n",
    "# E_os5 = clusters[f_os5].dropna(subset = [\"OS_MONTHS\"])['OS_STATUS']\n",
    "# kmf_os5.fit(T_os5, event_observed=E_os5, label=\"Cluster 05\")\n",
    "# print(\"Median survival time: \" + str(kmf_os4.median_survival_time_) + \" months\")\n",
    "# print(\"Overall survival rates: \")\n",
    "# print(kmf_os5.survival_function_at_times([12,24,36,48,60], label=\"Cluster 05\"))\n",
    "# ax = kmf_os5.plot(ax=ax, loc=slice(0, 60))\n",
    "\n",
    "plt.ylim(0, 1)\n",
    "plt.xlim(0, 60)\n",
    "plt.title(\"Kaplan-Meier Curves: Overall Survival\")\n",
    "plt.tight_layout()\n",
    "plt.savefig(out_path+\"os.png\")\n",
    "\n",
    "# add_at_risk_counts(kmf_os1, kmf_os3, ax=ax)\n",
    "add_at_risk_counts(kmf_os1, kmf_os2, kmf_os3, ax=ax)"
   ]
  },
  {
   "cell_type": "markdown",
   "metadata": {},
   "source": [
    "### Log-rank test"
   ]
  },
  {
   "cell_type": "code",
   "execution_count": 32,
   "metadata": {},
   "outputs": [
    {
     "data": {
      "text/html": [
       "<div>\n",
       "<style scoped>\n",
       "    .dataframe tbody tr th:only-of-type {\n",
       "        vertical-align: middle;\n",
       "    }\n",
       "\n",
       "    .dataframe tbody tr th {\n",
       "        vertical-align: top;\n",
       "    }\n",
       "\n",
       "    .dataframe thead th {\n",
       "        text-align: right;\n",
       "    }\n",
       "</style>\n",
       "<table border=\"1\" class=\"dataframe\">\n",
       "  <tbody>\n",
       "    <tr>\n",
       "      <th>t_0</th>\n",
       "      <td>60</td>\n",
       "    </tr>\n",
       "    <tr>\n",
       "      <th>null_distribution</th>\n",
       "      <td>chi squared</td>\n",
       "    </tr>\n",
       "    <tr>\n",
       "      <th>degrees_of_freedom</th>\n",
       "      <td>2</td>\n",
       "    </tr>\n",
       "    <tr>\n",
       "      <th>strata</th>\n",
       "      <td>Sex</td>\n",
       "    </tr>\n",
       "    <tr>\n",
       "      <th>test_name</th>\n",
       "      <td>multivariate_Peto_test</td>\n",
       "    </tr>\n",
       "  </tbody>\n",
       "</table>\n",
       "</div><table border=\"1\" class=\"dataframe\">\n",
       "  <thead>\n",
       "    <tr style=\"text-align: right;\">\n",
       "      <th></th>\n",
       "      <th>test_statistic</th>\n",
       "      <th>p</th>\n",
       "      <th>-log2(p)</th>\n",
       "    </tr>\n",
       "  </thead>\n",
       "  <tbody>\n",
       "    <tr>\n",
       "      <th>0</th>\n",
       "      <td>9.33</td>\n",
       "      <td>0.01</td>\n",
       "      <td>6.73</td>\n",
       "    </tr>\n",
       "  </tbody>\n",
       "</table>"
      ],
      "text/latex": [
       "\\begin{tabular}{lrrr}\n",
       "\\toprule\n",
       "{} &  test\\_statistic &         p &  -log2(p) \\\\\n",
       "\\midrule\n",
       "0 &        9.332162 &  0.009409 &  6.731732 \\\\\n",
       "\\bottomrule\n",
       "\\end{tabular}\n"
      ],
      "text/plain": [
       "<lifelines.StatisticalResult: multivariate_Peto_test>\n",
       "               t_0 = 60\n",
       " null_distribution = chi squared\n",
       "degrees_of_freedom = 2\n",
       "            strata = Sex\n",
       "         test_name = multivariate_Peto_test\n",
       "\n",
       "---\n",
       " test_statistic    p  -log2(p)\n",
       "           9.33 0.01      6.73"
      ]
     },
     "metadata": {},
     "output_type": "display_data"
    }
   ],
   "source": [
    "# Generalized\n",
    "result = multivariate_logrank_test(T, clusters.dropna(subset = [\"OS_MONTHS\"])[\"Cluster\"], E, t_0 = 60, strata=\"Sex\",weightings=\"peto\")\n",
    "result.print_summary()"
   ]
  },
  {
   "cell_type": "code",
   "execution_count": 33,
   "metadata": {},
   "outputs": [
    {
     "data": {
      "text/html": [
       "<div>\n",
       "<style scoped>\n",
       "    .dataframe tbody tr th:only-of-type {\n",
       "        vertical-align: middle;\n",
       "    }\n",
       "\n",
       "    .dataframe tbody tr th {\n",
       "        vertical-align: top;\n",
       "    }\n",
       "\n",
       "    .dataframe thead th {\n",
       "        text-align: right;\n",
       "    }\n",
       "</style>\n",
       "<table border=\"1\" class=\"dataframe\">\n",
       "  <tbody>\n",
       "    <tr>\n",
       "      <th>t_0</th>\n",
       "      <td>60</td>\n",
       "    </tr>\n",
       "    <tr>\n",
       "      <th>null_distribution</th>\n",
       "      <td>chi squared</td>\n",
       "    </tr>\n",
       "    <tr>\n",
       "      <th>degrees_of_freedom</th>\n",
       "      <td>1</td>\n",
       "    </tr>\n",
       "    <tr>\n",
       "      <th>strata</th>\n",
       "      <td>Sex</td>\n",
       "    </tr>\n",
       "    <tr>\n",
       "      <th>test_name</th>\n",
       "      <td>Peto_test</td>\n",
       "    </tr>\n",
       "  </tbody>\n",
       "</table>\n",
       "</div><table border=\"1\" class=\"dataframe\">\n",
       "  <thead>\n",
       "    <tr style=\"text-align: right;\">\n",
       "      <th></th>\n",
       "      <th></th>\n",
       "      <th>test_statistic</th>\n",
       "      <th>p</th>\n",
       "      <th>-log2(p)</th>\n",
       "    </tr>\n",
       "  </thead>\n",
       "  <tbody>\n",
       "    <tr>\n",
       "      <th rowspan=\"2\" valign=\"top\">Cluster High</th>\n",
       "      <th>Cluster Low</th>\n",
       "      <td>9.07</td>\n",
       "      <td>&lt;0.005</td>\n",
       "      <td>8.59</td>\n",
       "    </tr>\n",
       "    <tr>\n",
       "      <th>Cluster Median</th>\n",
       "      <td>2.24</td>\n",
       "      <td>0.13</td>\n",
       "      <td>2.89</td>\n",
       "    </tr>\n",
       "    <tr>\n",
       "      <th>Cluster Low</th>\n",
       "      <th>Cluster Median</th>\n",
       "      <td>2.12</td>\n",
       "      <td>0.15</td>\n",
       "      <td>2.78</td>\n",
       "    </tr>\n",
       "  </tbody>\n",
       "</table>"
      ],
      "text/latex": [
       "\\begin{tabular}{llrrr}\n",
       "\\toprule\n",
       "            &                &  test\\_statistic &         p &  -log2(p) \\\\\n",
       "\\midrule\n",
       "Cluster High & Cluster Low &        9.066750 &  0.002603 &  8.585613 \\\\\n",
       "            & Cluster Median &        2.236201 &  0.134812 &  2.890981 \\\\\n",
       "Cluster Low & Cluster Median &        2.120486 &  0.145340 &  2.782492 \\\\\n",
       "\\bottomrule\n",
       "\\end{tabular}\n"
      ],
      "text/plain": [
       "<lifelines.StatisticalResult: Peto_test>\n",
       "               t_0 = 60\n",
       " null_distribution = chi squared\n",
       "degrees_of_freedom = 1\n",
       "            strata = Sex\n",
       "         test_name = Peto_test\n",
       "\n",
       "---\n",
       "                             test_statistic      p  -log2(p)\n",
       "Cluster High Cluster Low               9.07 <0.005      8.59\n",
       "             Cluster Median            2.24   0.13      2.89\n",
       "Cluster Low  Cluster Median            2.12   0.15      2.78"
      ]
     },
     "metadata": {},
     "output_type": "display_data"
    }
   ],
   "source": [
    "# Pairwise\n",
    "result = pairwise_logrank_test(T, clusters.dropna(subset = [\"OS_MONTHS\"])[\"Cluster\"], E, t_0 = 60, strata=\"Sex\", weightings=\"peto\")\n",
    "result.print_summary()"
   ]
  },
  {
   "cell_type": "markdown",
   "metadata": {},
   "source": [
    "### Cox proportional hazards regression model"
   ]
  },
  {
   "cell_type": "markdown",
   "metadata": {},
   "source": [
    "#### One-hot encoding"
   ]
  },
  {
   "cell_type": "code",
   "execution_count": 23,
   "metadata": {},
   "outputs": [],
   "source": [
    "# # Convert cluster to one-hot encoding\n",
    "# clusters_dummy = pd.get_dummies(clusters.dropna(subset = [\"OS_MONTHS\"])[\"Cluster\"])\n",
    "# clusters_dummy = pd.concat([clusters_dummy,T],axis=1)\n",
    "# clusters_dummy = pd.concat([clusters_dummy,E],axis=1)\n",
    "# print(clusters_dummy.shape)\n",
    "# clusters_dummy.head(5)"
   ]
  },
  {
   "cell_type": "code",
   "execution_count": 24,
   "metadata": {},
   "outputs": [],
   "source": [
    "# # To use cox model, at least drop one of the converted col\n",
    "# clusters_dummy.drop(columns=[\"Cluster 02\"], inplace=True)"
   ]
  },
  {
   "cell_type": "code",
   "execution_count": 25,
   "metadata": {},
   "outputs": [],
   "source": [
    "# # Using Cox Proportional Hazards model\n",
    "# cph = CoxPHFitter()   ## Instantiate the class to create a cph object\n",
    "# print(cph.fit(clusters_dummy, \"OS_MONTHS\", \"OS_STATUS\"))   ## Fit the data to train the model\n",
    "# cph.print_summary()    ## HAve a look at the significance of the features"
   ]
  },
  {
   "cell_type": "markdown",
   "metadata": {},
   "source": [
    "#### Ordered integer colomn"
   ]
  },
  {
   "cell_type": "code",
   "execution_count": 26,
   "metadata": {},
   "outputs": [],
   "source": [
    "# # Order the clusters: higher values means higher expression.\n",
    "# clusters_dummy = clusters.dropna(subset = [\"OS_MONTHS\"]).reset_index(drop=True).filter(items=[\"Cluster\",\"OS_STATUS\",\"OS_MONTHS\"])\n",
    "# for i in range(len(clusters_dummy)):\n",
    "#     c = int(clusters_dummy[\"Cluster\"][i][-1])\n",
    "#     if c == 1:\n",
    "#         c = 2\n",
    "#     elif c == 2:\n",
    "#         c = 1\n",
    "#     clusters_dummy.loc[i, \"Cluster\"] = c\n",
    "# print(clusters_dummy.shape)\n",
    "# clusters_dummy.head(5)"
   ]
  },
  {
   "cell_type": "code",
   "execution_count": 27,
   "metadata": {},
   "outputs": [],
   "source": [
    "# # Using Cox Proportional Hazards model without on hot encoding\n",
    "# cph = CoxPHFitter()   ## Instantiate the class to create a cph object\n",
    "# print(cph.fit(clusters_dummy, \"OS_MONTHS\", \"OS_STATUS\"))   ## Fit the data to train the model\n",
    "# cph.print_summary()    ## HAve a look at the significance of the features"
   ]
  },
  {
   "cell_type": "code",
   "execution_count": 28,
   "metadata": {},
   "outputs": [],
   "source": [
    "# # Check if the proprtional hazards assuption is violated\n",
    "# cph.check_assumptions(clusters_dummy, show_plots=True)"
   ]
  },
  {
   "cell_type": "markdown",
   "metadata": {},
   "source": [
    "### Nelson-Aalen estimate for the cumulative hazard"
   ]
  },
  {
   "cell_type": "code",
   "execution_count": 29,
   "metadata": {},
   "outputs": [],
   "source": [
    "# naf = NelsonAalenFitter()\n",
    "\n",
    "# naf.fit(T_os1, event_observed=E_os1, label=\"Cluster 01\")\n",
    "# # ax = naf.plot(loc=slice(0, 70))\n",
    "# ax = naf.plot()\n",
    "\n",
    "# naf.fit(T_os2, event_observed=E_os2, label=\"Cluster 02\")\n",
    "# # naf.plot(ax=ax, loc=slice(0, 70))\n",
    "# ax = naf.plot()\n",
    "\n",
    "# naf.fit(T_os3, event_observed=E_os3, label=\"Cluster 03\")\n",
    "# # naf.plot(ax=ax, loc=slice(0, 70))\n",
    "# ax = naf.plot()\n",
    "\n",
    "# plt.title(\"Cumulative Hazard Function: Overall Survival\");\n",
    "# # plt.ylim(0, 0.4)\n",
    "# # plt.xlim(0, 125);\n",
    "# ax.legend(loc='upper left')\n",
    "# plt.tight_layout()\n",
    "# plt.savefig(out_path+\"os_cumulative_hazard.png\")"
   ]
  },
  {
   "cell_type": "code",
   "execution_count": 30,
   "metadata": {},
   "outputs": [],
   "source": [
    "# naf = NelsonAalenFitter()\n",
    "# bandwidth = 3\n",
    "\n",
    "# naf.fit(T_os1, event_observed=E_os1, label=\"Cluster 01\")\n",
    "# ax = naf.plot(loc=slice(0, 60))\n",
    "# # ax = naf.plot()\n",
    "\n",
    "# naf.fit(T_os2, event_observed=E_os2, label=\"Cluster 02\")\n",
    "# naf.plot(ax=ax, loc=slice(0, 60))\n",
    "# # ax = naf.plot()\n",
    "\n",
    "# # naf.fit(T_os3, event_observed=E_os3, label=\"Cluster 03\")\n",
    "# # naf.plot(ax=ax, loc=slice(0, 60))\n",
    "# # # ax = naf.plot()\n",
    "\n",
    "# # naf.fit(T_os4, event_observed=E_os4, label=\"Cluster 04\")\n",
    "# # naf.plot(ax=ax, loc=slice(0, 60))\n",
    "# # # ax = naf.plot()\n",
    "\n",
    "# # naf.fit(T_os5, event_observed=E_os5, label=\"Cluster 05\")\n",
    "# # naf.plot(ax=ax, loc=slice(0, 60))\n",
    "# # # ax = naf.plot()\n",
    "\n",
    "# plt.title(\"Cumulative Hazard Function: Overall Survival\");\n",
    "# # plt.ylim(0, 0.4)\n",
    "# plt.xlim(0, 60);\n",
    "# ax.legend(loc='upper left')\n",
    "# plt.tight_layout()\n",
    "# plt.savefig(out_path+\"os_cumulative_hazard_60.png\")"
   ]
  },
  {
   "cell_type": "markdown",
   "metadata": {},
   "source": [
    "## Disease free survival"
   ]
  },
  {
   "cell_type": "markdown",
   "metadata": {},
   "source": [
    "### Kaplan Meier plot for all patients"
   ]
  },
  {
   "cell_type": "code",
   "execution_count": 34,
   "metadata": {},
   "outputs": [
    {
     "name": "stdout",
     "output_type": "stream",
     "text": [
      "Median survival time: 20.99 months\n",
      "Survival rate: \n",
      "12    0.649949\n",
      "24    0.464015\n",
      "36    0.388957\n",
      "48    0.326577\n",
      "60    0.293714\n",
      "Name: All patients, dtype: float64\n"
     ]
    },
    {
     "data": {
      "image/png": "[encoded data removed]",
      "text/plain": [
       "<Figure size 252x216 with 1 Axes>"
      ]
     },
     "metadata": {
      "needs_background": "light"
     },
     "output_type": "display_data"
    }
   ],
   "source": [
    "kmf = KaplanMeierFitter()\n",
    "T_dfs = clusters.dropna(subset = [\"DFS_MONTHS\"])['DFS_MONTHS']\n",
    "E_dfs = clusters.dropna(subset = [\"DFS_MONTHS\"])['DFS_STATUS']\n",
    "kmf.fit(T_dfs, event_observed=E_dfs, label=\"All patients\")\n",
    "plt.figure(figsize=(3.5, 3))\n",
    "kmf.plot(show_censors=True, at_risk_counts=False)\n",
    "plt.title(\"Overall Survival\");\n",
    "plt.xlim(0, 150)\n",
    "plt.tight_layout()\n",
    "plt.savefig(out_path+\"dfs_all.png\")\n",
    "print(\"Median survival time: \" + str(kmf.median_survival_time_) + \" months\")\n",
    "print(\"Survival rate: \")\n",
    "print(kmf.survival_function_at_times([12,24,36,48,60], label=None))"
   ]
  },
  {
   "cell_type": "markdown",
   "metadata": {},
   "source": [
    "### Kaplan Meier plot by clusters"
   ]
  },
  {
   "cell_type": "code",
   "execution_count": 37,
   "metadata": {},
   "outputs": [
    {
     "name": "stdout",
     "output_type": "stream",
     "text": [
      "Median survival time: 25.49 months\n",
      "Disease free survival rates: \n",
      "12    0.804899\n",
      "24    0.548064\n",
      "36    0.439624\n",
      "48    0.405807\n",
      "60    0.365226\n",
      "Name: Cluster High, dtype: float64\n",
      "Median survival time: 35.58 months\n",
      "Disease free urvival rates: \n",
      "12    0.726601\n",
      "24    0.586041\n",
      "36    0.471506\n",
      "48    0.381365\n",
      "60    0.346695\n",
      "Name: Cluster Median, dtype: float64\n",
      "Median survival time: 11.79 months\n",
      "Disease free urvival rates: \n",
      "12    0.491517\n",
      "24    0.321227\n",
      "36    0.290634\n",
      "48    0.232092\n",
      "60    0.203081\n",
      "Name: Cluster Low, dtype: float64\n"
     ]
    },
    {
     "data": {
      "text/plain": [
       "<matplotlib.axes._subplots.AxesSubplot at 0x7f0befa8eed0>"
      ]
     },
     "execution_count": 37,
     "metadata": {},
     "output_type": "execute_result"
    },
    {
     "data": {
      "image/png": "[encoded data removed]",
      "text/plain": [
       "<Figure size 432x288 with 2 Axes>"
      ]
     },
     "metadata": {
      "needs_background": "light"
     },
     "output_type": "display_data"
    }
   ],
   "source": [
    "ax = plt.subplot(111)\n",
    "\n",
    "kmf_dfs1 = KaplanMeierFitter()\n",
    "f_dfs1 = clusters.Cluster == \"Cluster High\"\n",
    "T_dfs1 = clusters[f_dfs1].dropna(subset = [\"DFS_MONTHS\"])['DFS_MONTHS']\n",
    "E_dfs1 = clusters[f_dfs1].dropna(subset = [\"DFS_MONTHS\"])['DFS_STATUS']\n",
    "kmf_dfs1.fit(T_dfs1, event_observed=E_dfs1, label=\"Cluster High\")\n",
    "print(\"Median survival time: \" + str(kmf_dfs1.median_survival_time_) + \" months\")\n",
    "print(\"Disease free survival rates: \")\n",
    "print(kmf_dfs1.survival_function_at_times([12,24,36,48,60], label=\"Cluster High\"))\n",
    "ax = kmf_dfs1.plot(ax=ax, loc=slice(0, 60),color=\"#E41A1C\")\n",
    "\n",
    "kmf_dfs2 = KaplanMeierFitter()\n",
    "f_dfs2 = clusters.Cluster == \"Cluster Median\"\n",
    "T_dfs2 = clusters[f_dfs2].dropna(subset = [\"DFS_MONTHS\"])['DFS_MONTHS']\n",
    "E_dfs2 = clusters[f_dfs2].dropna(subset = [\"DFS_MONTHS\"])['DFS_STATUS']\n",
    "kmf_dfs2.fit(T_dfs2, event_observed=E_dfs2, label=\"Cluster Median\")\n",
    "print(\"Median survival time: \" + str(kmf_dfs2.median_survival_time_) + \" months\")\n",
    "print(\"Disease free urvival rates: \")\n",
    "print(kmf_dfs2.survival_function_at_times([12,24,36,48,60], label=\"Cluster Median\"))\n",
    "ax = kmf_dfs2.plot(ax=ax, loc=slice(0, 60),color=\"#FFBE20\")\n",
    "\n",
    "kmf_dfs3 = KaplanMeierFitter()\n",
    "f_dfs3 = clusters.Cluster == \"Cluster Low\"\n",
    "T_dfs3 = clusters[f_dfs3].dropna(subset = [\"DFS_MONTHS\"])['DFS_MONTHS']\n",
    "E_dfs3 = clusters[f_dfs3].dropna(subset = [\"DFS_MONTHS\"])['DFS_STATUS']\n",
    "kmf_dfs3.fit(T_dfs3, event_observed=E_dfs3, label=\"Cluster Low\")\n",
    "print(\"Median survival time: \" + str(kmf_dfs3.median_survival_time_) + \" months\")\n",
    "print(\"Disease free urvival rates: \")\n",
    "print(kmf_dfs3.survival_function_at_times([12,24,36,48,60], label=\"Cluster Low\"))\n",
    "ax = kmf_dfs3.plot(ax=ax, loc=slice(0, 60),color=\"#84a2f7\")\n",
    "\n",
    "# kmf_dfs4 = KaplanMeierFitter()\n",
    "# f_dfs4 = clusters.Cluster == \"Cluster 04\"\n",
    "# T_dfs4 = clusters[f_dfs4].dropna(subset = [\"DFS_MONTHS\"])['DFS_MONTHS']\n",
    "# E_dfs4 = clusters[f_dfs4].dropna(subset = [\"DFS_MONTHS\"])['DFS_STATUS']\n",
    "# kmf_dfs4.fit(T_dfs4, event_observed=E_dfs4, label=\"Cluster 04\")\n",
    "# print(\"Median survival time: \" + str(kmf_dfs4.median_survival_time_) + \" months\")\n",
    "# print(\"Disease free urvival rates: \")\n",
    "# print(kmf_dfs4.survival_function_at_times([12,24,36,48,60], label=\"Cluster 04\"))\n",
    "# ax = kmf_dfs4.plot(ax=ax, loc=slice(0, 60))\n",
    "\n",
    "plt.ylim(0, 1)\n",
    "plt.xlim(0, 60)\n",
    "plt.title(\"Kaplan-Meier Curves: Disease Free Survival\");\n",
    "plt.tight_layout()\n",
    "plt.savefig(out_path+\"dfs.png\")\n",
    "\n",
    "# add_at_risk_counts(kmf_dfs1, kmf_dfs3, ax=ax)\n",
    "add_at_risk_counts(kmf_dfs1, kmf_dfs2, kmf_os3, ax=ax)"
   ]
  },
  {
   "cell_type": "markdown",
   "metadata": {},
   "source": [
    "### Log-rank test"
   ]
  },
  {
   "cell_type": "code",
   "execution_count": 38,
   "metadata": {},
   "outputs": [
    {
     "data": {
      "text/html": [
       "<div>\n",
       "<style scoped>\n",
       "    .dataframe tbody tr th:only-of-type {\n",
       "        vertical-align: middle;\n",
       "    }\n",
       "\n",
       "    .dataframe tbody tr th {\n",
       "        vertical-align: top;\n",
       "    }\n",
       "\n",
       "    .dataframe thead th {\n",
       "        text-align: right;\n",
       "    }\n",
       "</style>\n",
       "<table border=\"1\" class=\"dataframe\">\n",
       "  <tbody>\n",
       "    <tr>\n",
       "      <th>t_0</th>\n",
       "      <td>60</td>\n",
       "    </tr>\n",
       "    <tr>\n",
       "      <th>null_distribution</th>\n",
       "      <td>chi squared</td>\n",
       "    </tr>\n",
       "    <tr>\n",
       "      <th>degrees_of_freedom</th>\n",
       "      <td>2</td>\n",
       "    </tr>\n",
       "    <tr>\n",
       "      <th>strata</th>\n",
       "      <td>Sex</td>\n",
       "    </tr>\n",
       "    <tr>\n",
       "      <th>test_name</th>\n",
       "      <td>multivariate_Peto_test</td>\n",
       "    </tr>\n",
       "  </tbody>\n",
       "</table>\n",
       "</div><table border=\"1\" class=\"dataframe\">\n",
       "  <thead>\n",
       "    <tr style=\"text-align: right;\">\n",
       "      <th></th>\n",
       "      <th>test_statistic</th>\n",
       "      <th>p</th>\n",
       "      <th>-log2(p)</th>\n",
       "    </tr>\n",
       "  </thead>\n",
       "  <tbody>\n",
       "    <tr>\n",
       "      <th>0</th>\n",
       "      <td>16.69</td>\n",
       "      <td>&lt;0.005</td>\n",
       "      <td>12.04</td>\n",
       "    </tr>\n",
       "  </tbody>\n",
       "</table>"
      ],
      "text/latex": [
       "\\begin{tabular}{lrrr}\n",
       "\\toprule\n",
       "{} &  test\\_statistic &         p &   -log2(p) \\\\\n",
       "\\midrule\n",
       "0 &       16.694995 &  0.000237 &  12.042894 \\\\\n",
       "\\bottomrule\n",
       "\\end{tabular}\n"
      ],
      "text/plain": [
       "<lifelines.StatisticalResult: multivariate_Peto_test>\n",
       "               t_0 = 60\n",
       " null_distribution = chi squared\n",
       "degrees_of_freedom = 2\n",
       "            strata = Sex\n",
       "         test_name = multivariate_Peto_test\n",
       "\n",
       "---\n",
       " test_statistic      p  -log2(p)\n",
       "          16.69 <0.005     12.04"
      ]
     },
     "metadata": {},
     "output_type": "display_data"
    }
   ],
   "source": [
    "# Generalized\n",
    "# result = multivariate_logrank_test(clusters.dropna(subset = [\"DFS_MONTHS\"])['DFS_MONTHS'], clusters.dropna(subset = [\"DFS_MONTHS\"])[\"Cluster\"], clusters.dropna(subset = [\"DFS_MONTHS\"])['DFS_STATUS'], t_0=70)\n",
    "result = multivariate_logrank_test(T_dfs, clusters.dropna(subset = [\"DFS_MONTHS\"])[\"Cluster\"], E_dfs, t_0 = 60, strata=\"Sex\", weightings=\"peto\")\n",
    "result.print_summary()"
   ]
  },
  {
   "cell_type": "code",
   "execution_count": 39,
   "metadata": {},
   "outputs": [
    {
     "data": {
      "text/html": [
       "<div>\n",
       "<style scoped>\n",
       "    .dataframe tbody tr th:only-of-type {\n",
       "        vertical-align: middle;\n",
       "    }\n",
       "\n",
       "    .dataframe tbody tr th {\n",
       "        vertical-align: top;\n",
       "    }\n",
       "\n",
       "    .dataframe thead th {\n",
       "        text-align: right;\n",
       "    }\n",
       "</style>\n",
       "<table border=\"1\" class=\"dataframe\">\n",
       "  <tbody>\n",
       "    <tr>\n",
       "      <th>t_0</th>\n",
       "      <td>60</td>\n",
       "    </tr>\n",
       "    <tr>\n",
       "      <th>null_distribution</th>\n",
       "      <td>chi squared</td>\n",
       "    </tr>\n",
       "    <tr>\n",
       "      <th>degrees_of_freedom</th>\n",
       "      <td>1</td>\n",
       "    </tr>\n",
       "    <tr>\n",
       "      <th>strata</th>\n",
       "      <td>Sex</td>\n",
       "    </tr>\n",
       "    <tr>\n",
       "      <th>test_name</th>\n",
       "      <td>Peto_test</td>\n",
       "    </tr>\n",
       "  </tbody>\n",
       "</table>\n",
       "</div><table border=\"1\" class=\"dataframe\">\n",
       "  <thead>\n",
       "    <tr style=\"text-align: right;\">\n",
       "      <th></th>\n",
       "      <th></th>\n",
       "      <th>test_statistic</th>\n",
       "      <th>p</th>\n",
       "      <th>-log2(p)</th>\n",
       "    </tr>\n",
       "  </thead>\n",
       "  <tbody>\n",
       "    <tr>\n",
       "      <th rowspan=\"2\" valign=\"top\">Cluster High</th>\n",
       "      <th>Cluster Low</th>\n",
       "      <td>12.59</td>\n",
       "      <td>&lt;0.005</td>\n",
       "      <td>11.33</td>\n",
       "    </tr>\n",
       "    <tr>\n",
       "      <th>Cluster Median</th>\n",
       "      <td>0.13</td>\n",
       "      <td>0.72</td>\n",
       "      <td>0.47</td>\n",
       "    </tr>\n",
       "    <tr>\n",
       "      <th>Cluster Low</th>\n",
       "      <th>Cluster Median</th>\n",
       "      <td>8.55</td>\n",
       "      <td>&lt;0.005</td>\n",
       "      <td>8.18</td>\n",
       "    </tr>\n",
       "  </tbody>\n",
       "</table>"
      ],
      "text/latex": [
       "\\begin{tabular}{llrrr}\n",
       "\\toprule\n",
       "            &                &  test\\_statistic &         p &   -log2(p) \\\\\n",
       "\\midrule\n",
       "Cluster High & Cluster Low &       12.592141 &  0.000387 &  11.333992 \\\\\n",
       "            & Cluster Median &        0.125728 &  0.722903 &   0.468125 \\\\\n",
       "Cluster Low & Cluster Median &        8.552899 &  0.003450 &   8.179303 \\\\\n",
       "\\bottomrule\n",
       "\\end{tabular}\n"
      ],
      "text/plain": [
       "<lifelines.StatisticalResult: Peto_test>\n",
       "               t_0 = 60\n",
       " null_distribution = chi squared\n",
       "degrees_of_freedom = 1\n",
       "            strata = Sex\n",
       "         test_name = Peto_test\n",
       "\n",
       "---\n",
       "                             test_statistic      p  -log2(p)\n",
       "Cluster High Cluster Low              12.59 <0.005     11.33\n",
       "             Cluster Median            0.13   0.72      0.47\n",
       "Cluster Low  Cluster Median            8.55 <0.005      8.18"
      ]
     },
     "metadata": {},
     "output_type": "display_data"
    }
   ],
   "source": [
    "# pairwise\n",
    "# result = pairwise_logrank_test(clusters.dropna(subset = [\"DFS_MONTHS\"])['DFS_MONTHS'], clusters.dropna(subset = [\"DFS_MONTHS\"])[\"Cluster\"], clusters.dropna(subset = [\"DFS_MONTHS\"])['DFS_STATUS'], t_0=70)\n",
    "result = pairwise_logrank_test(T_dfs, clusters.dropna(subset = [\"DFS_MONTHS\"])[\"Cluster\"], E_dfs, t_0 = 60, strata=\"Sex\", weightings=\"peto\")\n",
    "result.print_summary()"
   ]
  },
  {
   "cell_type": "markdown",
   "metadata": {},
   "source": [
    "### Cox proportional hazards regression model"
   ]
  },
  {
   "cell_type": "markdown",
   "metadata": {},
   "source": [
    "#### One-hot encoding"
   ]
  },
  {
   "cell_type": "code",
   "execution_count": 35,
   "metadata": {},
   "outputs": [],
   "source": [
    "# # Convert cluster to one-hot encoding\n",
    "# clusters_dummy = pd.get_dummies(clusters.dropna(subset = [\"DFS_MONTHS\"])[\"Cluster\"])\n",
    "# clusters_dummy = pd.concat([clusters_dummy, T_dfs],axis=1)\n",
    "# clusters_dummy = pd.concat([clusters_dummy, E_dfs],axis=1)\n",
    "# print(clusters_dummy.shape)\n",
    "# clusters_dummy.head(5)"
   ]
  },
  {
   "cell_type": "code",
   "execution_count": 36,
   "metadata": {},
   "outputs": [],
   "source": [
    "# # To use cox model, at least drop one of the converted col\n",
    "# clusters_dummy.drop(columns=[\"Cluster 03\"], inplace=True)"
   ]
  },
  {
   "cell_type": "code",
   "execution_count": 37,
   "metadata": {},
   "outputs": [],
   "source": [
    "# # Using Cox Proportional Hazards model\n",
    "# cph = CoxPHFitter()   ## Instantiate the class to create a cph object\n",
    "# print(cph.fit(clusters_dummy, \"DFS_MONTHS\", \"DFS_STATUS\"))   ## Fit the data to train the model\n",
    "# cph.print_summary()    ## HAve a look at the significance of the features"
   ]
  },
  {
   "cell_type": "markdown",
   "metadata": {},
   "source": [
    "#### Ordered integer colomn"
   ]
  },
  {
   "cell_type": "code",
   "execution_count": 38,
   "metadata": {},
   "outputs": [],
   "source": [
    "# # Order the clusters: higher values means higher expression.\n",
    "# clusters_dummy = clusters.dropna(subset = [\"DFS_MONTHS\"]).reset_index(drop=True).filter(items=[\"Cluster\",\"DFS_STATUS\",\"DFS_MONTHS\"])\n",
    "# for i in range(len(clusters_dummy)):\n",
    "#     c = int(clusters_dummy[\"Cluster\"][i][-1])\n",
    "#     if c == 1:\n",
    "#         c = 2\n",
    "#     elif c == 2:\n",
    "#         c = 1\n",
    "#     clusters_dummy.loc[i, \"Cluster\"] = c\n",
    "# print(clusters_dummy.shape)\n",
    "# clusters_dummy.head(5)"
   ]
  },
  {
   "cell_type": "code",
   "execution_count": 39,
   "metadata": {},
   "outputs": [],
   "source": [
    "# # Using Cox Proportional Hazards model without on hot encoding\n",
    "# cph = CoxPHFitter()   ## Instantiate the class to create a cph object\n",
    "# print(cph.fit(clusters_dummy, \"DFS_MONTHS\", \"DFS_STATUS\"))   ## Fit the data to train the model\n",
    "# cph.print_summary()    ## HAve a look at the significance of the features"
   ]
  },
  {
   "cell_type": "code",
   "execution_count": 40,
   "metadata": {},
   "outputs": [],
   "source": [
    "# # Check if the proprtional hazards assuption is violated\n",
    "# cph.check_assumptions(clusters_dummy,show_plots=True)"
   ]
  },
  {
   "cell_type": "code",
   "execution_count": 41,
   "metadata": {},
   "outputs": [],
   "source": [
    "# naf = NelsonAalenFitter()\n",
    "# bandwidth = 3\n",
    "\n",
    "# naf.fit(T_dfs1, event_observed=E_dfs1, label=\"Cluster 01\")\n",
    "# # ax = naf.plot(loc=slice(0, 70))\n",
    "# ax = naf.plot()\n",
    "\n",
    "# naf.fit(T_dfs2, event_observed=E_dfs2, label=\"Cluster 02\")\n",
    "# # naf.plot(ax=ax, loc=slice(0, 70))\n",
    "# ax = naf.plot()\n",
    "\n",
    "# naf.fit(T_dfs3, event_observed=E_dfs3, label=\"Cluster 03\")\n",
    "# # naf.plot(ax=ax, loc=slice(0, 70))\n",
    "# ax = naf.plot()\n",
    "\n",
    "# plt.title(\"Cumulative Hazard Function: Disease Free Survival\");\n",
    "# # plt.ylim(0, 0.4)\n",
    "# # plt.xlim(0, 125);\n",
    "# ax.legend(loc='upper left')\n",
    "# plt.tight_layout()\n",
    "# plt.savefig(out_path+\"dfs_cumulative_hazard.png\")"
   ]
  },
  {
   "cell_type": "code",
   "execution_count": 42,
   "metadata": {},
   "outputs": [],
   "source": [
    "# naf = NelsonAalenFitter()\n",
    "# bandwidth = 3\n",
    "\n",
    "# naf.fit(T_dfs1, event_observed=E_dfs1, label=\"Cluster 01\")\n",
    "# ax = naf.plot(loc=slice(0, 60))\n",
    "# # ax = naf.plot()\n",
    "\n",
    "# naf.fit(T_dfs2, event_observed=E_dfs2, label=\"Cluster 02\")\n",
    "# naf.plot(ax=ax, loc=slice(0, 60))\n",
    "# # ax = naf.plot()\n",
    "\n",
    "# # naf.fit(T_dfs3, event_observed=E_dfs3, label=\"Cluster 03\")\n",
    "# # naf.plot(ax=ax, loc=slice(0, 60))\n",
    "# # # ax = naf.plot()\n",
    "\n",
    "# # naf.fit(T_dfs4, event_observed=E_dfs4, label=\"Cluster 04\")\n",
    "# # naf.plot(ax=ax, loc=slice(0, 60))\n",
    "# # # ax = naf.plot()\n",
    "\n",
    "# plt.title(\"Cumulative Hazard Function: Disease Free Survival\");\n",
    "# # plt.ylim(0, 0.4)\n",
    "# plt.xlim(0, 60);\n",
    "# ax.legend(loc='upper left')\n",
    "# plt.tight_layout()\n",
    "# plt.savefig(out_path+\"dfs_cumulative_hazard_60.png\")"
   ]
  },
  {
   "cell_type": "code",
   "execution_count": null,
   "metadata": {},
   "outputs": [],
   "source": []
  }
 ],
 "metadata": {
  "kernelspec": {
   "display_name": "Python 3",
   "language": "python",
   "name": "python3"
  },
  "language_info": {
   "codemirror_mode": {
    "name": "ipython",
    "version": 3
   },
   "file_extension": ".py",
   "mimetype": "text/x-python",
   "name": "python",
   "nbconvert_exporter": "python",
   "pygments_lexer": "ipython3",
   "version": "3.7.7"
  }
 },
 "nbformat": 4,
 "nbformat_minor": 2
}
