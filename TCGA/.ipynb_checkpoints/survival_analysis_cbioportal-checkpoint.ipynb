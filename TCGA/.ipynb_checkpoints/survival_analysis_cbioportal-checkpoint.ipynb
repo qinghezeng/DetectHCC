{
 "cells": [
  {
   "cell_type": "code",
   "execution_count": 256,
   "metadata": {},
   "outputs": [],
   "source": [
    "import pandas as pd\n",
    "import numpy as np\n",
    "from lifelines import KaplanMeierFitter\n",
    "from matplotlib import pyplot as plt\n",
    "from lifelines.plotting import add_at_risk_counts, plot_lifetimes\n",
    "from lifelines.statistics import logrank_test, multivariate_logrank_test, pairwise_logrank_test, proportional_hazard_test\n",
    "from lifelines import CoxPHFitter\n",
    "from lifelines import NelsonAalenFitter"
   ]
  },
  {
   "cell_type": "code",
   "execution_count": 254,
   "metadata": {},
   "outputs": [],
   "source": [
    "input_path = \"E:\\\\deeplearning\\\\Hepatocarcinomes\\\\TCGA\\\\\"\n",
    "out_path = input_path + \"heatmap\\\\survival\\\\\""
   ]
  },
  {
   "cell_type": "code",
   "execution_count": 239,
   "metadata": {},
   "outputs": [],
   "source": [
    "clusters = pd.read_csv(input_path + 'heatmap\\\\sample_clusters_filtered_4_log2-zscore_ward.D2_euclidean_12_3reorder.csv', sep=',')\n",
    "os = pd.read_csv(input_path + '\\\\processed\\\\Overall_Survival_legacy.txt', sep='\\t')\n",
    "dfs = pd.read_csv(input_path + '\\\\processed\\\\Disease_Free_Survival_legacy.txt', sep='\\t')"
   ]
  },
  {
   "cell_type": "code",
   "execution_count": 240,
   "metadata": {},
   "outputs": [
    {
     "name": "stdout",
     "output_type": "stream",
     "text": [
      "(340, 2)\n"
     ]
    },
    {
     "data": {
      "text/html": [
       "<div>\n",
       "<style scoped>\n",
       "    .dataframe tbody tr th:only-of-type {\n",
       "        vertical-align: middle;\n",
       "    }\n",
       "\n",
       "    .dataframe tbody tr th {\n",
       "        vertical-align: top;\n",
       "    }\n",
       "\n",
       "    .dataframe thead th {\n",
       "        text-align: right;\n",
       "    }\n",
       "</style>\n",
       "<table border=\"1\" class=\"dataframe\">\n",
       "  <thead>\n",
       "    <tr style=\"text-align: right;\">\n",
       "      <th></th>\n",
       "      <th>Sample</th>\n",
       "      <th>Cluster</th>\n",
       "    </tr>\n",
       "  </thead>\n",
       "  <tbody>\n",
       "    <tr>\n",
       "      <th>0</th>\n",
       "      <td>A9GX.01A</td>\n",
       "      <td>Cluster 01</td>\n",
       "    </tr>\n",
       "    <tr>\n",
       "      <th>1</th>\n",
       "      <td>A5MZ.01A</td>\n",
       "      <td>Cluster 01</td>\n",
       "    </tr>\n",
       "    <tr>\n",
       "      <th>2</th>\n",
       "      <td>A75E.01A</td>\n",
       "      <td>Cluster 01</td>\n",
       "    </tr>\n",
       "    <tr>\n",
       "      <th>3</th>\n",
       "      <td>A25V.01A</td>\n",
       "      <td>Cluster 01</td>\n",
       "    </tr>\n",
       "    <tr>\n",
       "      <th>4</th>\n",
       "      <td>X5262.01A</td>\n",
       "      <td>Cluster 01</td>\n",
       "    </tr>\n",
       "  </tbody>\n",
       "</table>\n",
       "</div>"
      ],
      "text/plain": [
       "      Sample     Cluster\n",
       "0   A9GX.01A  Cluster 01\n",
       "1   A5MZ.01A  Cluster 01\n",
       "2   A75E.01A  Cluster 01\n",
       "3   A25V.01A  Cluster 01\n",
       "4  X5262.01A  Cluster 01"
      ]
     },
     "metadata": {},
     "output_type": "display_data"
    },
    {
     "name": "stdout",
     "output_type": "stream",
     "text": [
      "\n",
      "(440, 4)\n"
     ]
    },
    {
     "data": {
      "text/html": [
       "<div>\n",
       "<style scoped>\n",
       "    .dataframe tbody tr th:only-of-type {\n",
       "        vertical-align: middle;\n",
       "    }\n",
       "\n",
       "    .dataframe tbody tr th {\n",
       "        vertical-align: top;\n",
       "    }\n",
       "\n",
       "    .dataframe thead th {\n",
       "        text-align: right;\n",
       "    }\n",
       "</style>\n",
       "<table border=\"1\" class=\"dataframe\">\n",
       "  <thead>\n",
       "    <tr style=\"text-align: right;\">\n",
       "      <th></th>\n",
       "      <th>Study ID</th>\n",
       "      <th>Patient ID</th>\n",
       "      <th>OS_STATUS</th>\n",
       "      <th>OS_MONTHS</th>\n",
       "    </tr>\n",
       "  </thead>\n",
       "  <tbody>\n",
       "    <tr>\n",
       "      <th>0</th>\n",
       "      <td>lihc_tcga</td>\n",
       "      <td>TCGA-2V-A95S</td>\n",
       "      <td>0:LIVING</td>\n",
       "      <td>NaN</td>\n",
       "    </tr>\n",
       "    <tr>\n",
       "      <th>1</th>\n",
       "      <td>lihc_tcga</td>\n",
       "      <td>TCGA-2Y-A9GS</td>\n",
       "      <td>1:DECEASED</td>\n",
       "      <td>23.78</td>\n",
       "    </tr>\n",
       "    <tr>\n",
       "      <th>2</th>\n",
       "      <td>lihc_tcga</td>\n",
       "      <td>TCGA-2Y-A9GT</td>\n",
       "      <td>1:DECEASED</td>\n",
       "      <td>53.35</td>\n",
       "    </tr>\n",
       "    <tr>\n",
       "      <th>3</th>\n",
       "      <td>lihc_tcga</td>\n",
       "      <td>TCGA-2Y-A9GU</td>\n",
       "      <td>0:LIVING</td>\n",
       "      <td>63.70</td>\n",
       "    </tr>\n",
       "    <tr>\n",
       "      <th>4</th>\n",
       "      <td>lihc_tcga</td>\n",
       "      <td>TCGA-2Y-A9GV</td>\n",
       "      <td>1:DECEASED</td>\n",
       "      <td>83.18</td>\n",
       "    </tr>\n",
       "  </tbody>\n",
       "</table>\n",
       "</div>"
      ],
      "text/plain": [
       "    Study ID    Patient ID   OS_STATUS  OS_MONTHS\n",
       "0  lihc_tcga  TCGA-2V-A95S    0:LIVING        NaN\n",
       "1  lihc_tcga  TCGA-2Y-A9GS  1:DECEASED      23.78\n",
       "2  lihc_tcga  TCGA-2Y-A9GT  1:DECEASED      53.35\n",
       "3  lihc_tcga  TCGA-2Y-A9GU    0:LIVING      63.70\n",
       "4  lihc_tcga  TCGA-2Y-A9GV  1:DECEASED      83.18"
      ]
     },
     "metadata": {},
     "output_type": "display_data"
    },
    {
     "name": "stdout",
     "output_type": "stream",
     "text": [
      "\n",
      "(440, 4)\n"
     ]
    },
    {
     "data": {
      "text/html": [
       "<div>\n",
       "<style scoped>\n",
       "    .dataframe tbody tr th:only-of-type {\n",
       "        vertical-align: middle;\n",
       "    }\n",
       "\n",
       "    .dataframe tbody tr th {\n",
       "        vertical-align: top;\n",
       "    }\n",
       "\n",
       "    .dataframe thead th {\n",
       "        text-align: right;\n",
       "    }\n",
       "</style>\n",
       "<table border=\"1\" class=\"dataframe\">\n",
       "  <thead>\n",
       "    <tr style=\"text-align: right;\">\n",
       "      <th></th>\n",
       "      <th>Study ID</th>\n",
       "      <th>Patient ID</th>\n",
       "      <th>DFS_STATUS</th>\n",
       "      <th>DFS_MONTHS</th>\n",
       "    </tr>\n",
       "  </thead>\n",
       "  <tbody>\n",
       "    <tr>\n",
       "      <th>0</th>\n",
       "      <td>lihc_tcga</td>\n",
       "      <td>TCGA-2V-A95S</td>\n",
       "      <td>0:DiseaseFree</td>\n",
       "      <td>NaN</td>\n",
       "    </tr>\n",
       "    <tr>\n",
       "      <th>1</th>\n",
       "      <td>lihc_tcga</td>\n",
       "      <td>TCGA-2Y-A9GS</td>\n",
       "      <td>1:Recurred/Progressed</td>\n",
       "      <td>3.35</td>\n",
       "    </tr>\n",
       "    <tr>\n",
       "      <th>2</th>\n",
       "      <td>lihc_tcga</td>\n",
       "      <td>TCGA-2Y-A9GT</td>\n",
       "      <td>1:Recurred/Progressed</td>\n",
       "      <td>35.58</td>\n",
       "    </tr>\n",
       "    <tr>\n",
       "      <th>3</th>\n",
       "      <td>lihc_tcga</td>\n",
       "      <td>TCGA-2Y-A9GU</td>\n",
       "      <td>0:DiseaseFree</td>\n",
       "      <td>63.70</td>\n",
       "    </tr>\n",
       "    <tr>\n",
       "      <th>4</th>\n",
       "      <td>lihc_tcga</td>\n",
       "      <td>TCGA-2Y-A9GV</td>\n",
       "      <td>1:Recurred/Progressed</td>\n",
       "      <td>71.91</td>\n",
       "    </tr>\n",
       "  </tbody>\n",
       "</table>\n",
       "</div>"
      ],
      "text/plain": [
       "    Study ID    Patient ID             DFS_STATUS  DFS_MONTHS\n",
       "0  lihc_tcga  TCGA-2V-A95S          0:DiseaseFree         NaN\n",
       "1  lihc_tcga  TCGA-2Y-A9GS  1:Recurred/Progressed        3.35\n",
       "2  lihc_tcga  TCGA-2Y-A9GT  1:Recurred/Progressed       35.58\n",
       "3  lihc_tcga  TCGA-2Y-A9GU          0:DiseaseFree       63.70\n",
       "4  lihc_tcga  TCGA-2Y-A9GV  1:Recurred/Progressed       71.91"
      ]
     },
     "metadata": {},
     "output_type": "display_data"
    },
    {
     "name": "stdout",
     "output_type": "stream",
     "text": [
      "\n"
     ]
    }
   ],
   "source": [
    "print(clusters.shape) # (340, 2)\n",
    "display(clusters.head(5))\n",
    "print()\n",
    "print(os.shape) # (340, 2)\n",
    "display(os.head(5))\n",
    "print()\n",
    "print(dfs.shape) # (340, 2)\n",
    "display(dfs.head(5))\n",
    "print()"
   ]
  },
  {
   "cell_type": "markdown",
   "metadata": {},
   "source": [
    "### Extract survival data"
   ]
  },
  {
   "cell_type": "code",
   "execution_count": 241,
   "metadata": {},
   "outputs": [],
   "source": [
    "def exact_info(df, item):\n",
    "    i=0\n",
    "    clusters[item] = ''\n",
    "    for sample in clusters[\"Sample\"]:\n",
    "        info = set(df[df['Patient ID'].str.contains(sample[:-4][-4:])][item])\n",
    "        if len(info) != 1 :\n",
    "#             raise ValueError('Multiple or no values found.')\n",
    "            i=i+1\n",
    "        else:\n",
    "            info = list(info)[0]\n",
    "            clusters.loc[clusters[\"Sample\"]==sample, item] = info\n",
    "    return i # count of samples not found"
   ]
  },
  {
   "cell_type": "code",
   "execution_count": 242,
   "metadata": {},
   "outputs": [
    {
     "name": "stdout",
     "output_type": "stream",
     "text": [
      "0\n",
      "0\n"
     ]
    }
   ],
   "source": [
    "print(exact_info(df = os, item = 'OS_STATUS'))\n",
    "print(exact_info(df = os, item = 'OS_MONTHS'))"
   ]
  },
  {
   "cell_type": "code",
   "execution_count": 243,
   "metadata": {},
   "outputs": [
    {
     "name": "stdout",
     "output_type": "stream",
     "text": [
      "0\n",
      "0\n"
     ]
    }
   ],
   "source": [
    "print(exact_info(df = dfs, item = 'DFS_STATUS'))\n",
    "print(exact_info(df = dfs, item = 'DFS_MONTHS'))"
   ]
  },
  {
   "cell_type": "code",
   "execution_count": 244,
   "metadata": {},
   "outputs": [
    {
     "name": "stdout",
     "output_type": "stream",
     "text": [
      "(340, 6)\n"
     ]
    },
    {
     "data": {
      "text/html": [
       "<div>\n",
       "<style scoped>\n",
       "    .dataframe tbody tr th:only-of-type {\n",
       "        vertical-align: middle;\n",
       "    }\n",
       "\n",
       "    .dataframe tbody tr th {\n",
       "        vertical-align: top;\n",
       "    }\n",
       "\n",
       "    .dataframe thead th {\n",
       "        text-align: right;\n",
       "    }\n",
       "</style>\n",
       "<table border=\"1\" class=\"dataframe\">\n",
       "  <thead>\n",
       "    <tr style=\"text-align: right;\">\n",
       "      <th></th>\n",
       "      <th>Sample</th>\n",
       "      <th>Cluster</th>\n",
       "      <th>OS_STATUS</th>\n",
       "      <th>OS_MONTHS</th>\n",
       "      <th>DFS_STATUS</th>\n",
       "      <th>DFS_MONTHS</th>\n",
       "    </tr>\n",
       "  </thead>\n",
       "  <tbody>\n",
       "    <tr>\n",
       "      <th>0</th>\n",
       "      <td>A9GX.01A</td>\n",
       "      <td>Cluster 01</td>\n",
       "      <td>0:LIVING</td>\n",
       "      <td>80.22</td>\n",
       "      <td>1:Recurred/Progressed</td>\n",
       "      <td>70.07</td>\n",
       "    </tr>\n",
       "    <tr>\n",
       "      <th>1</th>\n",
       "      <td>A5MZ.01A</td>\n",
       "      <td>Cluster 01</td>\n",
       "      <td>1:DECEASED</td>\n",
       "      <td>2.99</td>\n",
       "      <td>NaN</td>\n",
       "      <td>NaN</td>\n",
       "    </tr>\n",
       "    <tr>\n",
       "      <th>2</th>\n",
       "      <td>A75E.01A</td>\n",
       "      <td>Cluster 01</td>\n",
       "      <td>0:LIVING</td>\n",
       "      <td>16.66</td>\n",
       "      <td>0:DiseaseFree</td>\n",
       "      <td>16.66</td>\n",
       "    </tr>\n",
       "    <tr>\n",
       "      <th>3</th>\n",
       "      <td>A25V.01A</td>\n",
       "      <td>Cluster 01</td>\n",
       "      <td>0:LIVING</td>\n",
       "      <td>28.25</td>\n",
       "      <td>1:Recurred/Progressed</td>\n",
       "      <td>16.06</td>\n",
       "    </tr>\n",
       "    <tr>\n",
       "      <th>4</th>\n",
       "      <td>X5262.01A</td>\n",
       "      <td>Cluster 01</td>\n",
       "      <td>1:DECEASED</td>\n",
       "      <td>3.38</td>\n",
       "      <td>NaN</td>\n",
       "      <td>NaN</td>\n",
       "    </tr>\n",
       "  </tbody>\n",
       "</table>\n",
       "</div>"
      ],
      "text/plain": [
       "      Sample     Cluster   OS_STATUS OS_MONTHS             DFS_STATUS  \\\n",
       "0   A9GX.01A  Cluster 01    0:LIVING     80.22  1:Recurred/Progressed   \n",
       "1   A5MZ.01A  Cluster 01  1:DECEASED      2.99                    NaN   \n",
       "2   A75E.01A  Cluster 01    0:LIVING     16.66          0:DiseaseFree   \n",
       "3   A25V.01A  Cluster 01    0:LIVING     28.25  1:Recurred/Progressed   \n",
       "4  X5262.01A  Cluster 01  1:DECEASED      3.38                    NaN   \n",
       "\n",
       "  DFS_MONTHS  \n",
       "0      70.07  \n",
       "1        NaN  \n",
       "2      16.66  \n",
       "3      16.06  \n",
       "4        NaN  "
      ]
     },
     "metadata": {},
     "output_type": "display_data"
    },
    {
     "name": "stdout",
     "output_type": "stream",
     "text": [
      "\n"
     ]
    }
   ],
   "source": [
    "print(clusters.shape) # (340, 2)\n",
    "display(clusters.head(5))\n",
    "print()"
   ]
  },
  {
   "cell_type": "markdown",
   "metadata": {},
   "source": [
    "### Preprocess"
   ]
  },
  {
   "cell_type": "code",
   "execution_count": 245,
   "metadata": {},
   "outputs": [],
   "source": [
    "for i in range(len(clusters)):\n",
    "    clusters.loc[i,'OS_STATUS'] = clusters.loc[i,'OS_STATUS'][0]\n",
    "    try:\n",
    "        clusters.loc[i,'DFS_STATUS'] = clusters.loc[i,'DFS_STATUS'][0]\n",
    "    except:\n",
    "        pass"
   ]
  },
  {
   "cell_type": "code",
   "execution_count": 246,
   "metadata": {},
   "outputs": [
    {
     "data": {
      "text/plain": [
       "Sample        object\n",
       "Cluster       object\n",
       "OS_STATUS     object\n",
       "OS_MONTHS     object\n",
       "DFS_STATUS    object\n",
       "DFS_MONTHS    object\n",
       "dtype: object"
      ]
     },
     "metadata": {},
     "output_type": "display_data"
    },
    {
     "data": {
      "text/plain": [
       "Sample         object\n",
       "Cluster        object\n",
       "OS_STATUS     float64\n",
       "OS_MONTHS     float64\n",
       "DFS_STATUS    float64\n",
       "DFS_MONTHS    float64\n",
       "dtype: object"
      ]
     },
     "metadata": {},
     "output_type": "display_data"
    }
   ],
   "source": [
    "display(clusters.dtypes)\n",
    "clusters = clusters.astype({'OS_STATUS':'float64', 'OS_MONTHS':'float64', 'DFS_STATUS':'float64', 'DFS_MONTHS':'float64'})\n",
    "display(clusters.dtypes)"
   ]
  },
  {
   "cell_type": "code",
   "execution_count": 247,
   "metadata": {},
   "outputs": [
    {
     "name": "stdout",
     "output_type": "stream",
     "text": [
      "(340, 6)\n"
     ]
    },
    {
     "data": {
      "text/html": [
       "<div>\n",
       "<style scoped>\n",
       "    .dataframe tbody tr th:only-of-type {\n",
       "        vertical-align: middle;\n",
       "    }\n",
       "\n",
       "    .dataframe tbody tr th {\n",
       "        vertical-align: top;\n",
       "    }\n",
       "\n",
       "    .dataframe thead th {\n",
       "        text-align: right;\n",
       "    }\n",
       "</style>\n",
       "<table border=\"1\" class=\"dataframe\">\n",
       "  <thead>\n",
       "    <tr style=\"text-align: right;\">\n",
       "      <th></th>\n",
       "      <th>Sample</th>\n",
       "      <th>Cluster</th>\n",
       "      <th>OS_STATUS</th>\n",
       "      <th>OS_MONTHS</th>\n",
       "      <th>DFS_STATUS</th>\n",
       "      <th>DFS_MONTHS</th>\n",
       "    </tr>\n",
       "  </thead>\n",
       "  <tbody>\n",
       "    <tr>\n",
       "      <th>0</th>\n",
       "      <td>A9GX.01A</td>\n",
       "      <td>Cluster 01</td>\n",
       "      <td>0.0</td>\n",
       "      <td>80.22</td>\n",
       "      <td>1.0</td>\n",
       "      <td>70.07</td>\n",
       "    </tr>\n",
       "    <tr>\n",
       "      <th>1</th>\n",
       "      <td>A5MZ.01A</td>\n",
       "      <td>Cluster 01</td>\n",
       "      <td>1.0</td>\n",
       "      <td>2.99</td>\n",
       "      <td>NaN</td>\n",
       "      <td>NaN</td>\n",
       "    </tr>\n",
       "    <tr>\n",
       "      <th>2</th>\n",
       "      <td>A75E.01A</td>\n",
       "      <td>Cluster 01</td>\n",
       "      <td>0.0</td>\n",
       "      <td>16.66</td>\n",
       "      <td>0.0</td>\n",
       "      <td>16.66</td>\n",
       "    </tr>\n",
       "    <tr>\n",
       "      <th>3</th>\n",
       "      <td>A25V.01A</td>\n",
       "      <td>Cluster 01</td>\n",
       "      <td>0.0</td>\n",
       "      <td>28.25</td>\n",
       "      <td>1.0</td>\n",
       "      <td>16.06</td>\n",
       "    </tr>\n",
       "    <tr>\n",
       "      <th>4</th>\n",
       "      <td>X5262.01A</td>\n",
       "      <td>Cluster 01</td>\n",
       "      <td>1.0</td>\n",
       "      <td>3.38</td>\n",
       "      <td>NaN</td>\n",
       "      <td>NaN</td>\n",
       "    </tr>\n",
       "  </tbody>\n",
       "</table>\n",
       "</div>"
      ],
      "text/plain": [
       "      Sample     Cluster  OS_STATUS  OS_MONTHS  DFS_STATUS  DFS_MONTHS\n",
       "0   A9GX.01A  Cluster 01        0.0      80.22         1.0       70.07\n",
       "1   A5MZ.01A  Cluster 01        1.0       2.99         NaN         NaN\n",
       "2   A75E.01A  Cluster 01        0.0      16.66         0.0       16.66\n",
       "3   A25V.01A  Cluster 01        0.0      28.25         1.0       16.06\n",
       "4  X5262.01A  Cluster 01        1.0       3.38         NaN         NaN"
      ]
     },
     "metadata": {},
     "output_type": "display_data"
    },
    {
     "name": "stdout",
     "output_type": "stream",
     "text": [
      "\n"
     ]
    }
   ],
   "source": [
    "print(clusters.shape) # (340, 2)\n",
    "display(clusters.head(5))\n",
    "print()"
   ]
  },
  {
   "cell_type": "markdown",
   "metadata": {},
   "source": [
    "### Explore data"
   ]
  },
  {
   "cell_type": "code",
   "execution_count": 248,
   "metadata": {},
   "outputs": [
    {
     "data": {
      "text/html": [
       "<div>\n",
       "<style scoped>\n",
       "    .dataframe tbody tr th:only-of-type {\n",
       "        vertical-align: middle;\n",
       "    }\n",
       "\n",
       "    .dataframe tbody tr th {\n",
       "        vertical-align: top;\n",
       "    }\n",
       "\n",
       "    .dataframe thead th {\n",
       "        text-align: right;\n",
       "    }\n",
       "</style>\n",
       "<table border=\"1\" class=\"dataframe\">\n",
       "  <thead>\n",
       "    <tr style=\"text-align: right;\">\n",
       "      <th></th>\n",
       "      <th>Sample</th>\n",
       "      <th>OS_STATUS</th>\n",
       "      <th>OS_MONTHS</th>\n",
       "      <th>DFS_STATUS</th>\n",
       "      <th>DFS_MONTHS</th>\n",
       "    </tr>\n",
       "    <tr>\n",
       "      <th>Cluster</th>\n",
       "      <th></th>\n",
       "      <th></th>\n",
       "      <th></th>\n",
       "      <th></th>\n",
       "      <th></th>\n",
       "    </tr>\n",
       "  </thead>\n",
       "  <tbody>\n",
       "    <tr>\n",
       "      <th>Cluster 01</th>\n",
       "      <td>159</td>\n",
       "      <td>159</td>\n",
       "      <td>158</td>\n",
       "      <td>138</td>\n",
       "      <td>137</td>\n",
       "    </tr>\n",
       "    <tr>\n",
       "      <th>Cluster 02</th>\n",
       "      <td>115</td>\n",
       "      <td>115</td>\n",
       "      <td>115</td>\n",
       "      <td>99</td>\n",
       "      <td>99</td>\n",
       "    </tr>\n",
       "    <tr>\n",
       "      <th>Cluster 03</th>\n",
       "      <td>66</td>\n",
       "      <td>66</td>\n",
       "      <td>66</td>\n",
       "      <td>60</td>\n",
       "      <td>60</td>\n",
       "    </tr>\n",
       "  </tbody>\n",
       "</table>\n",
       "</div>"
      ],
      "text/plain": [
       "            Sample  OS_STATUS  OS_MONTHS  DFS_STATUS  DFS_MONTHS\n",
       "Cluster                                                         \n",
       "Cluster 01     159        159        158         138         137\n",
       "Cluster 02     115        115        115          99          99\n",
       "Cluster 03      66         66         66          60          60"
      ]
     },
     "execution_count": 248,
     "metadata": {},
     "output_type": "execute_result"
    }
   ],
   "source": [
    "# Misssing values\n",
    "clusters.groupby([\"Cluster\"]).count()"
   ]
  },
  {
   "cell_type": "code",
   "execution_count": 250,
   "metadata": {},
   "outputs": [
    {
     "data": {
      "text/html": [
       "<div>\n",
       "<style scoped>\n",
       "    .dataframe tbody tr th:only-of-type {\n",
       "        vertical-align: middle;\n",
       "    }\n",
       "\n",
       "    .dataframe tbody tr th {\n",
       "        vertical-align: top;\n",
       "    }\n",
       "\n",
       "    .dataframe thead th {\n",
       "        text-align: right;\n",
       "    }\n",
       "</style>\n",
       "<table border=\"1\" class=\"dataframe\">\n",
       "  <thead>\n",
       "    <tr style=\"text-align: right;\">\n",
       "      <th></th>\n",
       "      <th>Sample</th>\n",
       "      <th>Cluster</th>\n",
       "      <th>OS_STATUS</th>\n",
       "      <th>OS_MONTHS</th>\n",
       "      <th>DFS_STATUS</th>\n",
       "      <th>DFS_MONTHS</th>\n",
       "    </tr>\n",
       "  </thead>\n",
       "  <tbody>\n",
       "    <tr>\n",
       "      <th>124</th>\n",
       "      <td>A95S.01A</td>\n",
       "      <td>Cluster 01</td>\n",
       "      <td>0.0</td>\n",
       "      <td>NaN</td>\n",
       "      <td>0.0</td>\n",
       "      <td>NaN</td>\n",
       "    </tr>\n",
       "  </tbody>\n",
       "</table>\n",
       "</div>"
      ],
      "text/plain": [
       "       Sample     Cluster  OS_STATUS  OS_MONTHS  DFS_STATUS  DFS_MONTHS\n",
       "124  A95S.01A  Cluster 01        0.0        NaN         0.0         NaN"
      ]
     },
     "execution_count": 250,
     "metadata": {},
     "output_type": "execute_result"
    }
   ],
   "source": [
    "# Only 1 missing data for OS, with OS_STATUS but no OS_MONTHS\n",
    "clusters[clusters['OS_MONTHS'].isna()]"
   ]
  },
  {
   "cell_type": "code",
   "execution_count": 249,
   "metadata": {},
   "outputs": [
    {
     "data": {
      "text/html": [
       "<div>\n",
       "<style scoped>\n",
       "    .dataframe tbody tr th:only-of-type {\n",
       "        vertical-align: middle;\n",
       "    }\n",
       "\n",
       "    .dataframe tbody tr th {\n",
       "        vertical-align: top;\n",
       "    }\n",
       "\n",
       "    .dataframe thead th {\n",
       "        text-align: right;\n",
       "    }\n",
       "</style>\n",
       "<table border=\"1\" class=\"dataframe\">\n",
       "  <thead>\n",
       "    <tr style=\"text-align: right;\">\n",
       "      <th></th>\n",
       "      <th>Sample</th>\n",
       "      <th>Cluster</th>\n",
       "      <th>OS_MONTHS</th>\n",
       "      <th>DFS_STATUS</th>\n",
       "      <th>DFS_MONTHS</th>\n",
       "    </tr>\n",
       "    <tr>\n",
       "      <th>OS_STATUS</th>\n",
       "      <th></th>\n",
       "      <th></th>\n",
       "      <th></th>\n",
       "      <th></th>\n",
       "      <th></th>\n",
       "    </tr>\n",
       "  </thead>\n",
       "  <tbody>\n",
       "    <tr>\n",
       "      <th>0.0</th>\n",
       "      <td>220</td>\n",
       "      <td>220</td>\n",
       "      <td>219</td>\n",
       "      <td>220</td>\n",
       "      <td>219</td>\n",
       "    </tr>\n",
       "    <tr>\n",
       "      <th>1.0</th>\n",
       "      <td>120</td>\n",
       "      <td>120</td>\n",
       "      <td>120</td>\n",
       "      <td>77</td>\n",
       "      <td>77</td>\n",
       "    </tr>\n",
       "  </tbody>\n",
       "</table>\n",
       "</div>"
      ],
      "text/plain": [
       "           Sample  Cluster  OS_MONTHS  DFS_STATUS  DFS_MONTHS\n",
       "OS_STATUS                                                    \n",
       "0.0           220      220        219         220         219\n",
       "1.0           120      120        120          77          77"
      ]
     },
     "execution_count": 249,
     "metadata": {},
     "output_type": "execute_result"
    }
   ],
   "source": [
    "# Censored values\n",
    "clusters.groupby([\"OS_STATUS\"]).count()"
   ]
  },
  {
   "cell_type": "markdown",
   "metadata": {},
   "source": [
    "## Overall survival"
   ]
  },
  {
   "cell_type": "markdown",
   "metadata": {},
   "source": [
    "### Kaplan Meier for all patient"
   ]
  },
  {
   "cell_type": "code",
   "execution_count": 263,
   "metadata": {},
   "outputs": [
    {
     "name": "stdout",
     "output_type": "stream",
     "text": [
      "Median survival time: 58.84 months\n",
      "Survival rate: \n",
      "12    0.827121\n",
      "24    0.699969\n",
      "36    0.632235\n",
      "48    0.560653\n",
      "60    0.488692\n",
      "Name: All patients, dtype: float64\n"
     ]
    },
    {
     "data": {
      "image/png": "[encoded data removed]",
      "text/plain": [
       "<Figure size 252x216 with 1 Axes>"
      ]
     },
     "metadata": {
      "needs_background": "light"
     },
     "output_type": "display_data"
    }
   ],
   "source": [
    "kmf = KaplanMeierFitter()\n",
    "T = clusters.dropna(subset = [\"OS_MONTHS\"])['OS_MONTHS']\n",
    "E = clusters.dropna(subset = [\"OS_MONTHS\"])['OS_STATUS']\n",
    "kmf.fit(T, event_observed=E, label=\"All patients\")\n",
    "plt.figure(figsize=(3.5, 3))\n",
    "kmf.plot(show_censors=True, at_risk_counts=False)\n",
    "plt.title(\"Overall Survival\");\n",
    "plt.xlim(0, 150)\n",
    "plt.tight_layout()\n",
    "plt.savefig(out_path+\"os_all.png\")\n",
    "print(\"Median survival time: \" + str(kmf.median_survival_time_) + \" months\")\n",
    "print(\"Survival rate: \")\n",
    "print(kmf.survival_function_at_times([12,24,36,48,60], label=None))"
   ]
  },
  {
   "cell_type": "markdown",
   "metadata": {},
   "source": [
    "### Visualize censored values"
   ]
  },
  {
   "cell_type": "code",
   "execution_count": 215,
   "metadata": {},
   "outputs": [
    {
     "name": "stderr",
     "output_type": "stream",
     "text": [
      "C:\\Program Files\\Anaconda3\\envs\\r-tensorflow\\lib\\site-packages\\lifelines\\plotting.py:624: UserWarning: For less visual clutter, you may want to subsample to less than 80 individuals.\n",
      "  warnings.warn(\"For less visual clutter, you may want to subsample to less than 80 individuals.\")\n"
     ]
    },
    {
     "data": {
      "text/plain": [
       "Text(0.5, 1.0, 'Overall survival time')"
      ]
     },
     "execution_count": 215,
     "metadata": {},
     "output_type": "execute_result"
    },
    {
     "data": {
      "image/png": "[encoded data removed]",
      "text/plain": [
       "<Figure size 432x288 with 1 Axes>"
      ]
     },
     "metadata": {
      "needs_background": "light"
     },
     "output_type": "display_data"
    }
   ],
   "source": [
    "ax = plot_lifetimes(T, event_observed=E)\n",
    "# ax.set_xlim(0, 25)\n",
    "# ax.vlines(10, 0, 30, lw=2, linestyles='--')\n",
    "ax.set_xlabel(\"time\")\n",
    "ax.set_title(\"Overall survival time\")\n",
    "# print(\"Observed lifetimes at time %d:\\n\" % (CURRENT_TIME), observed_lifetimes)"
   ]
  },
  {
   "cell_type": "markdown",
   "metadata": {},
   "source": [
    "### Kaplan Meier by clusters"
   ]
  },
  {
   "cell_type": "code",
   "execution_count": 264,
   "metadata": {},
   "outputs": [
    {
     "name": "stdout",
     "output_type": "stream",
     "text": [
      "Median survival time: 46.75 months\n",
      "Overall survival rates: \n",
      "12    0.842503\n",
      "24    0.709112\n",
      "36    0.630833\n",
      "48    0.496442\n",
      "60    0.451115\n",
      "Name: Cluster 01, dtype: float64\n",
      "Median survival time: 39.75 months\n",
      "Overall survival rates: \n",
      "12    0.727858\n",
      "24    0.615169\n",
      "36    0.517570\n",
      "48    0.495067\n",
      "60    0.459705\n",
      "Name: Cluster 02, dtype: float64\n",
      "Median survival time: 81.67 months\n",
      "Overall survival rates: \n",
      "12    0.952869\n",
      "24    0.814459\n",
      "36    0.814459\n",
      "48    0.780523\n",
      "60    0.610645\n",
      "Name: Cluster 03, dtype: float64\n"
     ]
    },
    {
     "data": {
      "text/plain": [
       "<matplotlib.axes._subplots.AxesSubplot at 0x4aa3b710>"
      ]
     },
     "execution_count": 264,
     "metadata": {},
     "output_type": "execute_result"
    },
    {
     "data": {
      "image/png": "[encoded data removed]",
      "text/plain": [
       "<Figure size 432x288 with 2 Axes>"
      ]
     },
     "metadata": {
      "needs_background": "light"
     },
     "output_type": "display_data"
    }
   ],
   "source": [
    "ax = plt.subplot(111)\n",
    "\n",
    "kmf_os1 = KaplanMeierFitter()\n",
    "f_os1 = clusters.Cluster == \"Cluster 01\"\n",
    "T_os1 = clusters[f_os1].dropna(subset = [\"OS_MONTHS\"])['OS_MONTHS']\n",
    "E_os1 = clusters[f_os1].dropna(subset = [\"OS_MONTHS\"])['OS_STATUS']\n",
    "kmf_os1.fit(T_os1, event_observed=E_os1, label=\"Cluster 01\")\n",
    "print(\"Median survival time: \" + str(kmf_os1.median_survival_time_) + \" months\")\n",
    "print(\"Overall survival rates: \")\n",
    "print(kmf_os1.survival_function_at_times([12,24,36,48,60], label=\"Cluster 01\"))\n",
    "ax = kmf_os1.plot(ax=ax)\n",
    "\n",
    "kmf_os2 = KaplanMeierFitter()\n",
    "f_os2 = clusters.Cluster == \"Cluster 02\"\n",
    "T_os2 = clusters[f_os2].dropna(subset = [\"OS_MONTHS\"])['OS_MONTHS']\n",
    "E_os2 = clusters[f_os2].dropna(subset = [\"OS_MONTHS\"])['OS_STATUS']\n",
    "kmf_os2.fit(T_os2, event_observed=E_os2, label=\"Cluster 02\")\n",
    "print(\"Median survival time: \" + str(kmf_os2.median_survival_time_) + \" months\")\n",
    "print(\"Overall survival rates: \")\n",
    "print(kmf_os2.survival_function_at_times([12,24,36,48,60], label=\"Cluster 02\"))\n",
    "ax = kmf_os2.plot(ax=ax)\n",
    "\n",
    "kmf_os3 = KaplanMeierFitter()\n",
    "f_os3 = clusters.Cluster == \"Cluster 03\"\n",
    "T_os3 = clusters[f_os3].dropna(subset = [\"OS_MONTHS\"])['OS_MONTHS']\n",
    "E_os3 = clusters[f_os3].dropna(subset = [\"OS_MONTHS\"])['OS_STATUS']\n",
    "kmf_os3.fit(T_os3, event_observed=E_os3, label=\"Cluster 03\")\n",
    "print(\"Median survival time: \" + str(kmf_os3.median_survival_time_) + \" months\")\n",
    "print(\"Overall survival rates: \")\n",
    "print(kmf_os3.survival_function_at_times([12,24,36,48,60], label=\"Cluster 03\"))\n",
    "ax = kmf_os3.plot(ax=ax)\n",
    "\n",
    "plt.ylim(0, 1)\n",
    "plt.title(\"Kaplan-Meier Curves: Overall Survival\")\n",
    "plt.tight_layout()\n",
    "plt.savefig(out_path+\"os.png\")\n",
    "\n",
    "add_at_risk_counts(kmf_os1, kmf_os2, kmf_os3, ax=ax)"
   ]
  },
  {
   "cell_type": "markdown",
   "metadata": {},
   "source": [
    "### Log-rank test"
   ]
  },
  {
   "cell_type": "code",
   "execution_count": 305,
   "metadata": {},
   "outputs": [
    {
     "data": {
      "text/html": [
       "<div>\n",
       "<style scoped>\n",
       "    .dataframe tbody tr th:only-of-type {\n",
       "        vertical-align: middle;\n",
       "    }\n",
       "\n",
       "    .dataframe tbody tr th {\n",
       "        vertical-align: top;\n",
       "    }\n",
       "\n",
       "    .dataframe thead th {\n",
       "        text-align: right;\n",
       "    }\n",
       "</style>\n",
       "<table border=\"1\" class=\"dataframe\">\n",
       "  <tbody>\n",
       "    <tr>\n",
       "      <th>t_0</th>\n",
       "      <td>-1</td>\n",
       "    </tr>\n",
       "    <tr>\n",
       "      <th>null_distribution</th>\n",
       "      <td>chi squared</td>\n",
       "    </tr>\n",
       "    <tr>\n",
       "      <th>degrees_of_freedom</th>\n",
       "      <td>2</td>\n",
       "    </tr>\n",
       "    <tr>\n",
       "      <th>test_name</th>\n",
       "      <td>multivariate_Peto_test</td>\n",
       "    </tr>\n",
       "  </tbody>\n",
       "</table>\n",
       "</div><table border=\"1\" class=\"dataframe\">\n",
       "  <thead>\n",
       "    <tr style=\"text-align: right;\">\n",
       "      <th></th>\n",
       "      <th>test_statistic</th>\n",
       "      <th>p</th>\n",
       "    </tr>\n",
       "  </thead>\n",
       "  <tbody>\n",
       "    <tr>\n",
       "      <th>0</th>\n",
       "      <td>8.68</td>\n",
       "      <td>0.01</td>\n",
       "    </tr>\n",
       "  </tbody>\n",
       "</table>"
      ],
      "text/plain": [
       "<IPython.core.display.HTML object>"
      ]
     },
     "metadata": {},
     "output_type": "display_data"
    }
   ],
   "source": [
    "# Generalized\n",
    "# result = multivariate_logrank_test(T, clusters.dropna(subset = [\"OS_MONTHS\"])[\"Cluster\"], E, t_0=70)\n",
    "result = multivariate_logrank_test(T, clusters.dropna(subset = [\"OS_MONTHS\"])[\"Cluster\"], E, weightings=\"peto\")\n",
    "result.print_summary()"
   ]
  },
  {
   "cell_type": "code",
   "execution_count": 266,
   "metadata": {},
   "outputs": [
    {
     "data": {
      "text/html": [
       "<div>\n",
       "<style scoped>\n",
       "    .dataframe tbody tr th:only-of-type {\n",
       "        vertical-align: middle;\n",
       "    }\n",
       "\n",
       "    .dataframe tbody tr th {\n",
       "        vertical-align: top;\n",
       "    }\n",
       "\n",
       "    .dataframe thead th {\n",
       "        text-align: right;\n",
       "    }\n",
       "</style>\n",
       "<table border=\"1\" class=\"dataframe\">\n",
       "  <tbody>\n",
       "    <tr>\n",
       "      <th>t_0</th>\n",
       "      <td>-1</td>\n",
       "    </tr>\n",
       "    <tr>\n",
       "      <th>null_distribution</th>\n",
       "      <td>chi squared</td>\n",
       "    </tr>\n",
       "    <tr>\n",
       "      <th>degrees_of_freedom</th>\n",
       "      <td>1</td>\n",
       "    </tr>\n",
       "    <tr>\n",
       "      <th>test_name</th>\n",
       "      <td>Peto_test</td>\n",
       "    </tr>\n",
       "  </tbody>\n",
       "</table>\n",
       "</div><table border=\"1\" class=\"dataframe\">\n",
       "  <thead>\n",
       "    <tr style=\"text-align: right;\">\n",
       "      <th></th>\n",
       "      <th></th>\n",
       "      <th>test_statistic</th>\n",
       "      <th>p</th>\n",
       "    </tr>\n",
       "  </thead>\n",
       "  <tbody>\n",
       "    <tr>\n",
       "      <th rowspan=\"2\" valign=\"top\">Cluster 01</th>\n",
       "      <th>Cluster 02</th>\n",
       "      <td>1.86</td>\n",
       "      <td>0.17</td>\n",
       "    </tr>\n",
       "    <tr>\n",
       "      <th>Cluster 03</th>\n",
       "      <td>4.81</td>\n",
       "      <td>0.03</td>\n",
       "    </tr>\n",
       "    <tr>\n",
       "      <th>Cluster 02</th>\n",
       "      <th>Cluster 03</th>\n",
       "      <td>8.17</td>\n",
       "      <td>&lt;0.005</td>\n",
       "    </tr>\n",
       "  </tbody>\n",
       "</table>"
      ],
      "text/plain": [
       "<IPython.core.display.HTML object>"
      ]
     },
     "metadata": {},
     "output_type": "display_data"
    }
   ],
   "source": [
    "# Pairwise\n",
    "# result = pairwise_logrank_test(T, clusters.dropna(subset = [\"OS_MONTHS\"])[\"Cluster\"], E, t_0=70)\n",
    "result = pairwise_logrank_test(T, clusters.dropna(subset = [\"OS_MONTHS\"])[\"Cluster\"], E, weightings=\"peto\")\n",
    "result.print_summary()"
   ]
  },
  {
   "cell_type": "markdown",
   "metadata": {},
   "source": [
    "### Cox proportional hazards regression model"
   ]
  },
  {
   "cell_type": "markdown",
   "metadata": {},
   "source": [
    "#### One-hot encoding"
   ]
  },
  {
   "cell_type": "code",
   "execution_count": 322,
   "metadata": {},
   "outputs": [
    {
     "name": "stdout",
     "output_type": "stream",
     "text": [
      "(339, 5)\n"
     ]
    },
    {
     "data": {
      "text/html": [
       "<div>\n",
       "<style scoped>\n",
       "    .dataframe tbody tr th:only-of-type {\n",
       "        vertical-align: middle;\n",
       "    }\n",
       "\n",
       "    .dataframe tbody tr th {\n",
       "        vertical-align: top;\n",
       "    }\n",
       "\n",
       "    .dataframe thead th {\n",
       "        text-align: right;\n",
       "    }\n",
       "</style>\n",
       "<table border=\"1\" class=\"dataframe\">\n",
       "  <thead>\n",
       "    <tr style=\"text-align: right;\">\n",
       "      <th></th>\n",
       "      <th>Cluster 01</th>\n",
       "      <th>Cluster 02</th>\n",
       "      <th>Cluster 03</th>\n",
       "      <th>OS_MONTHS</th>\n",
       "      <th>OS_STATUS</th>\n",
       "    </tr>\n",
       "  </thead>\n",
       "  <tbody>\n",
       "    <tr>\n",
       "      <th>0</th>\n",
       "      <td>1</td>\n",
       "      <td>0</td>\n",
       "      <td>0</td>\n",
       "      <td>80.22</td>\n",
       "      <td>0.0</td>\n",
       "    </tr>\n",
       "    <tr>\n",
       "      <th>1</th>\n",
       "      <td>1</td>\n",
       "      <td>0</td>\n",
       "      <td>0</td>\n",
       "      <td>2.99</td>\n",
       "      <td>1.0</td>\n",
       "    </tr>\n",
       "    <tr>\n",
       "      <th>2</th>\n",
       "      <td>1</td>\n",
       "      <td>0</td>\n",
       "      <td>0</td>\n",
       "      <td>16.66</td>\n",
       "      <td>0.0</td>\n",
       "    </tr>\n",
       "    <tr>\n",
       "      <th>3</th>\n",
       "      <td>1</td>\n",
       "      <td>0</td>\n",
       "      <td>0</td>\n",
       "      <td>28.25</td>\n",
       "      <td>0.0</td>\n",
       "    </tr>\n",
       "    <tr>\n",
       "      <th>4</th>\n",
       "      <td>1</td>\n",
       "      <td>0</td>\n",
       "      <td>0</td>\n",
       "      <td>3.38</td>\n",
       "      <td>1.0</td>\n",
       "    </tr>\n",
       "  </tbody>\n",
       "</table>\n",
       "</div>"
      ],
      "text/plain": [
       "   Cluster 01  Cluster 02  Cluster 03  OS_MONTHS  OS_STATUS\n",
       "0           1           0           0      80.22        0.0\n",
       "1           1           0           0       2.99        1.0\n",
       "2           1           0           0      16.66        0.0\n",
       "3           1           0           0      28.25        0.0\n",
       "4           1           0           0       3.38        1.0"
      ]
     },
     "execution_count": 322,
     "metadata": {},
     "output_type": "execute_result"
    }
   ],
   "source": [
    "# Convert cluster to one-hot encoding\n",
    "clusters_dummy = pd.get_dummies(clusters.dropna(subset = [\"OS_MONTHS\"])[\"Cluster\"])\n",
    "clusters_dummy = pd.concat([clusters_dummy,T],axis=1)\n",
    "clusters_dummy = pd.concat([clusters_dummy,E],axis=1)\n",
    "print(clusters_dummy.shape)\n",
    "clusters_dummy.head(5)"
   ]
  },
  {
   "cell_type": "code",
   "execution_count": 323,
   "metadata": {},
   "outputs": [],
   "source": [
    "# To use cox model, at least drop one of the converted col\n",
    "clusters_dummy.drop(columns=[\"Cluster 02\"], inplace=True)"
   ]
  },
  {
   "cell_type": "code",
   "execution_count": 324,
   "metadata": {},
   "outputs": [
    {
     "name": "stdout",
     "output_type": "stream",
     "text": [
      "<lifelines.CoxPHFitter: fitted with 339 total observations, 219 right-censored observations>\n"
     ]
    },
    {
     "data": {
      "text/html": [
       "<div>\n",
       "<style scoped>\n",
       "    .dataframe tbody tr th:only-of-type {\n",
       "        vertical-align: middle;\n",
       "    }\n",
       "\n",
       "    .dataframe tbody tr th {\n",
       "        vertical-align: top;\n",
       "    }\n",
       "\n",
       "    .dataframe thead th {\n",
       "        text-align: right;\n",
       "    }\n",
       "</style>\n",
       "<table border=\"1\" class=\"dataframe\">\n",
       "  <tbody>\n",
       "    <tr>\n",
       "      <th>model</th>\n",
       "      <td>lifelines.CoxPHFitter</td>\n",
       "    </tr>\n",
       "    <tr>\n",
       "      <th>duration col</th>\n",
       "      <td>'OS_MONTHS'</td>\n",
       "    </tr>\n",
       "    <tr>\n",
       "      <th>event col</th>\n",
       "      <td>'OS_STATUS'</td>\n",
       "    </tr>\n",
       "    <tr>\n",
       "      <th>baseline estimation</th>\n",
       "      <td>breslow</td>\n",
       "    </tr>\n",
       "    <tr>\n",
       "      <th>number of observations</th>\n",
       "      <td>339</td>\n",
       "    </tr>\n",
       "    <tr>\n",
       "      <th>number of events observed</th>\n",
       "      <td>120</td>\n",
       "    </tr>\n",
       "    <tr>\n",
       "      <th>partial log-likelihood</th>\n",
       "      <td>-600.70</td>\n",
       "    </tr>\n",
       "    <tr>\n",
       "      <th>time fit was run</th>\n",
       "      <td>2020-07-29 16:36:53 UTC</td>\n",
       "    </tr>\n",
       "  </tbody>\n",
       "</table>\n",
       "</div><table border=\"1\" class=\"dataframe\">\n",
       "  <thead>\n",
       "    <tr style=\"text-align: right;\">\n",
       "      <th></th>\n",
       "      <th>coef</th>\n",
       "      <th>exp(coef)</th>\n",
       "      <th>se(coef)</th>\n",
       "      <th>coef lower 95%</th>\n",
       "      <th>coef upper 95%</th>\n",
       "      <th>exp(coef) lower 95%</th>\n",
       "      <th>exp(coef) upper 95%</th>\n",
       "      <th>z</th>\n",
       "      <th>p</th>\n",
       "      <th>-log2(p)</th>\n",
       "    </tr>\n",
       "  </thead>\n",
       "  <tbody>\n",
       "    <tr>\n",
       "      <th>Cluster 01</th>\n",
       "      <td>-0.20</td>\n",
       "      <td>0.82</td>\n",
       "      <td>0.20</td>\n",
       "      <td>-0.59</td>\n",
       "      <td>0.20</td>\n",
       "      <td>0.55</td>\n",
       "      <td>1.22</td>\n",
       "      <td>-0.99</td>\n",
       "      <td>0.32</td>\n",
       "      <td>1.63</td>\n",
       "    </tr>\n",
       "    <tr>\n",
       "      <th>Cluster 03</th>\n",
       "      <td>-0.63</td>\n",
       "      <td>0.53</td>\n",
       "      <td>0.27</td>\n",
       "      <td>-1.17</td>\n",
       "      <td>-0.10</td>\n",
       "      <td>0.31</td>\n",
       "      <td>0.90</td>\n",
       "      <td>-2.34</td>\n",
       "      <td>0.02</td>\n",
       "      <td>5.68</td>\n",
       "    </tr>\n",
       "  </tbody>\n",
       "</table><div>\n",
       "<style scoped>\n",
       "    .dataframe tbody tr th:only-of-type {\n",
       "        vertical-align: middle;\n",
       "    }\n",
       "\n",
       "    .dataframe tbody tr th {\n",
       "        vertical-align: top;\n",
       "    }\n",
       "\n",
       "    .dataframe thead th {\n",
       "        text-align: right;\n",
       "    }\n",
       "</style>\n",
       "<table border=\"1\" class=\"dataframe\">\n",
       "  <tbody>\n",
       "    <tr>\n",
       "      <th>Concordance</th>\n",
       "      <td>0.59</td>\n",
       "    </tr>\n",
       "    <tr>\n",
       "      <th>Partial AIC</th>\n",
       "      <td>1205.41</td>\n",
       "    </tr>\n",
       "    <tr>\n",
       "      <th>log-likelihood ratio test</th>\n",
       "      <td>5.87 on 2 df</td>\n",
       "    </tr>\n",
       "    <tr>\n",
       "      <th>-log2(p) of ll-ratio test</th>\n",
       "      <td>4.24</td>\n",
       "    </tr>\n",
       "  </tbody>\n",
       "</table>\n",
       "</div>"
      ],
      "text/plain": [
       "<IPython.core.display.HTML object>"
      ]
     },
     "metadata": {},
     "output_type": "display_data"
    }
   ],
   "source": [
    "# Using Cox Proportional Hazards model\n",
    "cph = CoxPHFitter()   ## Instantiate the class to create a cph object\n",
    "print(cph.fit(clusters_dummy, \"OS_MONTHS\", \"OS_STATUS\"))   ## Fit the data to train the model\n",
    "cph.print_summary()    ## HAve a look at the significance of the features"
   ]
  },
  {
   "cell_type": "markdown",
   "metadata": {},
   "source": [
    "#### Ordered integer colomn"
   ]
  },
  {
   "cell_type": "code",
   "execution_count": 317,
   "metadata": {},
   "outputs": [
    {
     "name": "stdout",
     "output_type": "stream",
     "text": [
      "(339, 3)\n"
     ]
    },
    {
     "data": {
      "text/html": [
       "<div>\n",
       "<style scoped>\n",
       "    .dataframe tbody tr th:only-of-type {\n",
       "        vertical-align: middle;\n",
       "    }\n",
       "\n",
       "    .dataframe tbody tr th {\n",
       "        vertical-align: top;\n",
       "    }\n",
       "\n",
       "    .dataframe thead th {\n",
       "        text-align: right;\n",
       "    }\n",
       "</style>\n",
       "<table border=\"1\" class=\"dataframe\">\n",
       "  <thead>\n",
       "    <tr style=\"text-align: right;\">\n",
       "      <th></th>\n",
       "      <th>Cluster</th>\n",
       "      <th>OS_STATUS</th>\n",
       "      <th>OS_MONTHS</th>\n",
       "    </tr>\n",
       "  </thead>\n",
       "  <tbody>\n",
       "    <tr>\n",
       "      <th>0</th>\n",
       "      <td>2</td>\n",
       "      <td>0.0</td>\n",
       "      <td>80.22</td>\n",
       "    </tr>\n",
       "    <tr>\n",
       "      <th>1</th>\n",
       "      <td>2</td>\n",
       "      <td>1.0</td>\n",
       "      <td>2.99</td>\n",
       "    </tr>\n",
       "    <tr>\n",
       "      <th>2</th>\n",
       "      <td>2</td>\n",
       "      <td>0.0</td>\n",
       "      <td>16.66</td>\n",
       "    </tr>\n",
       "    <tr>\n",
       "      <th>3</th>\n",
       "      <td>2</td>\n",
       "      <td>0.0</td>\n",
       "      <td>28.25</td>\n",
       "    </tr>\n",
       "    <tr>\n",
       "      <th>4</th>\n",
       "      <td>2</td>\n",
       "      <td>1.0</td>\n",
       "      <td>3.38</td>\n",
       "    </tr>\n",
       "  </tbody>\n",
       "</table>\n",
       "</div>"
      ],
      "text/plain": [
       "   Cluster  OS_STATUS  OS_MONTHS\n",
       "0        2        0.0      80.22\n",
       "1        2        1.0       2.99\n",
       "2        2        0.0      16.66\n",
       "3        2        0.0      28.25\n",
       "4        2        1.0       3.38"
      ]
     },
     "execution_count": 317,
     "metadata": {},
     "output_type": "execute_result"
    }
   ],
   "source": [
    "# Order the clusters: higher values means higher expression.\n",
    "clusters_dummy = clusters.dropna(subset = [\"OS_MONTHS\"]).reset_index(drop=True).filter(items=[\"Cluster\",\"OS_STATUS\",\"OS_MONTHS\"])\n",
    "for i in range(len(clusters_dummy)):\n",
    "    c = int(clusters_dummy[\"Cluster\"][i][-1])\n",
    "    if c == 1:\n",
    "        c = 2\n",
    "    elif c == 2:\n",
    "        c = 1\n",
    "    clusters_dummy.loc[i, \"Cluster\"] = c\n",
    "print(clusters_dummy.shape)\n",
    "clusters_dummy.head(5)"
   ]
  },
  {
   "cell_type": "code",
   "execution_count": 320,
   "metadata": {},
   "outputs": [
    {
     "name": "stdout",
     "output_type": "stream",
     "text": [
      "<lifelines.CoxPHFitter: fitted with 339 total observations, 219 right-censored observations>\n"
     ]
    },
    {
     "data": {
      "text/html": [
       "<div>\n",
       "<style scoped>\n",
       "    .dataframe tbody tr th:only-of-type {\n",
       "        vertical-align: middle;\n",
       "    }\n",
       "\n",
       "    .dataframe tbody tr th {\n",
       "        vertical-align: top;\n",
       "    }\n",
       "\n",
       "    .dataframe thead th {\n",
       "        text-align: right;\n",
       "    }\n",
       "</style>\n",
       "<table border=\"1\" class=\"dataframe\">\n",
       "  <tbody>\n",
       "    <tr>\n",
       "      <th>model</th>\n",
       "      <td>lifelines.CoxPHFitter</td>\n",
       "    </tr>\n",
       "    <tr>\n",
       "      <th>duration col</th>\n",
       "      <td>'OS_MONTHS'</td>\n",
       "    </tr>\n",
       "    <tr>\n",
       "      <th>event col</th>\n",
       "      <td>'OS_STATUS'</td>\n",
       "    </tr>\n",
       "    <tr>\n",
       "      <th>baseline estimation</th>\n",
       "      <td>breslow</td>\n",
       "    </tr>\n",
       "    <tr>\n",
       "      <th>number of observations</th>\n",
       "      <td>339</td>\n",
       "    </tr>\n",
       "    <tr>\n",
       "      <th>number of events observed</th>\n",
       "      <td>120</td>\n",
       "    </tr>\n",
       "    <tr>\n",
       "      <th>partial log-likelihood</th>\n",
       "      <td>-600.90</td>\n",
       "    </tr>\n",
       "    <tr>\n",
       "      <th>time fit was run</th>\n",
       "      <td>2020-07-29 16:21:26 UTC</td>\n",
       "    </tr>\n",
       "  </tbody>\n",
       "</table>\n",
       "</div><table border=\"1\" class=\"dataframe\">\n",
       "  <thead>\n",
       "    <tr style=\"text-align: right;\">\n",
       "      <th></th>\n",
       "      <th>coef</th>\n",
       "      <th>exp(coef)</th>\n",
       "      <th>se(coef)</th>\n",
       "      <th>coef lower 95%</th>\n",
       "      <th>coef upper 95%</th>\n",
       "      <th>exp(coef) lower 95%</th>\n",
       "      <th>exp(coef) upper 95%</th>\n",
       "      <th>z</th>\n",
       "      <th>p</th>\n",
       "      <th>-log2(p)</th>\n",
       "    </tr>\n",
       "  </thead>\n",
       "  <tbody>\n",
       "    <tr>\n",
       "      <th>Cluster</th>\n",
       "      <td>-0.30</td>\n",
       "      <td>0.74</td>\n",
       "      <td>0.13</td>\n",
       "      <td>-0.55</td>\n",
       "      <td>-0.05</td>\n",
       "      <td>0.58</td>\n",
       "      <td>0.95</td>\n",
       "      <td>-2.32</td>\n",
       "      <td>0.02</td>\n",
       "      <td>5.63</td>\n",
       "    </tr>\n",
       "  </tbody>\n",
       "</table><div>\n",
       "<style scoped>\n",
       "    .dataframe tbody tr th:only-of-type {\n",
       "        vertical-align: middle;\n",
       "    }\n",
       "\n",
       "    .dataframe tbody tr th {\n",
       "        vertical-align: top;\n",
       "    }\n",
       "\n",
       "    .dataframe thead th {\n",
       "        text-align: right;\n",
       "    }\n",
       "</style>\n",
       "<table border=\"1\" class=\"dataframe\">\n",
       "  <tbody>\n",
       "    <tr>\n",
       "      <th>Concordance</th>\n",
       "      <td>0.59</td>\n",
       "    </tr>\n",
       "    <tr>\n",
       "      <th>Partial AIC</th>\n",
       "      <td>1203.79</td>\n",
       "    </tr>\n",
       "    <tr>\n",
       "      <th>log-likelihood ratio test</th>\n",
       "      <td>5.49 on 1 df</td>\n",
       "    </tr>\n",
       "    <tr>\n",
       "      <th>-log2(p) of ll-ratio test</th>\n",
       "      <td>5.71</td>\n",
       "    </tr>\n",
       "  </tbody>\n",
       "</table>\n",
       "</div>"
      ],
      "text/plain": [
       "<IPython.core.display.HTML object>"
      ]
     },
     "metadata": {},
     "output_type": "display_data"
    }
   ],
   "source": [
    "# Using Cox Proportional Hazards model without on hot encoding\n",
    "cph = CoxPHFitter()   ## Instantiate the class to create a cph object\n",
    "print(cph.fit(clusters_dummy, \"OS_MONTHS\", \"OS_STATUS\"))   ## Fit the data to train the model\n",
    "cph.print_summary()    ## HAve a look at the significance of the features"
   ]
  },
  {
   "cell_type": "code",
   "execution_count": 325,
   "metadata": {},
   "outputs": [
    {
     "name": "stdout",
     "output_type": "stream",
     "text": [
      "The ``p_value_threshold`` is set at 0.01. Even under the null hypothesis of no violations, some\n",
      "covariates will be below the threshold by chance. This is compounded when there are many covariates.\n",
      "Similarly, when there are lots of observations, even minor deviances from the proportional hazard\n",
      "assumption will be flagged.\n",
      "\n",
      "With that in mind, it's best to use a combination of statistical tests and visual tests to determine\n",
      "the most serious violations. Produce visual plots using ``check_assumptions(..., show_plots=True)``\n",
      "and looking for non-constant lines. See link [A] below for a full example.\n",
      "\n"
     ]
    },
    {
     "data": {
      "text/html": [
       "<div>\n",
       "<style scoped>\n",
       "    .dataframe tbody tr th:only-of-type {\n",
       "        vertical-align: middle;\n",
       "    }\n",
       "\n",
       "    .dataframe tbody tr th {\n",
       "        vertical-align: top;\n",
       "    }\n",
       "\n",
       "    .dataframe thead th {\n",
       "        text-align: right;\n",
       "    }\n",
       "</style>\n",
       "<table border=\"1\" class=\"dataframe\">\n",
       "  <tbody>\n",
       "    <tr>\n",
       "      <th>null_distribution</th>\n",
       "      <td>chi squared</td>\n",
       "    </tr>\n",
       "    <tr>\n",
       "      <th>degrees_of_freedom</th>\n",
       "      <td>1</td>\n",
       "    </tr>\n",
       "    <tr>\n",
       "      <th>model</th>\n",
       "      <td>&lt;lifelines.CoxPHFitter: fitted with 339 total ...</td>\n",
       "    </tr>\n",
       "    <tr>\n",
       "      <th>test_name</th>\n",
       "      <td>proportional_hazard_test</td>\n",
       "    </tr>\n",
       "  </tbody>\n",
       "</table>\n",
       "</div><table border=\"1\" class=\"dataframe\">\n",
       "  <thead>\n",
       "    <tr style=\"text-align: right;\">\n",
       "      <th></th>\n",
       "      <th></th>\n",
       "      <th>test_statistic</th>\n",
       "      <th>p</th>\n",
       "    </tr>\n",
       "  </thead>\n",
       "  <tbody>\n",
       "    <tr>\n",
       "      <th rowspan=\"2\" valign=\"top\">Cluster 01</th>\n",
       "      <th>km</th>\n",
       "      <td>2.90</td>\n",
       "      <td>0.09</td>\n",
       "    </tr>\n",
       "    <tr>\n",
       "      <th>rank</th>\n",
       "      <td>2.76</td>\n",
       "      <td>0.10</td>\n",
       "    </tr>\n",
       "    <tr>\n",
       "      <th rowspan=\"2\" valign=\"top\">Cluster 03</th>\n",
       "      <th>km</th>\n",
       "      <td>10.22</td>\n",
       "      <td>&lt;0.005</td>\n",
       "    </tr>\n",
       "    <tr>\n",
       "      <th>rank</th>\n",
       "      <td>7.67</td>\n",
       "      <td>0.01</td>\n",
       "    </tr>\n",
       "  </tbody>\n",
       "</table>"
      ],
      "text/plain": [
       "<IPython.core.display.HTML object>"
      ]
     },
     "metadata": {},
     "output_type": "display_data"
    },
    {
     "name": "stdout",
     "output_type": "stream",
     "text": [
      "\n",
      "\n",
      "1. Variable 'Cluster 03' failed the non-proportional test: p-value is 0.0014.\n",
      "\n",
      "   Advice: with so few unique values (only 2), you can include `strata=['Cluster 03', ...]` in the\n",
      "call in `.fit`. See documentation in link [E] below.\n",
      "\n",
      "---\n",
      "[A]  https://lifelines.readthedocs.io/en/latest/jupyter_notebooks/Proportional%20hazard%20assumption.html\n",
      "[B]  https://lifelines.readthedocs.io/en/latest/jupyter_notebooks/Proportional%20hazard%20assumption.html#Bin-variable-and-stratify-on-it\n",
      "[C]  https://lifelines.readthedocs.io/en/latest/jupyter_notebooks/Proportional%20hazard%20assumption.html#Introduce-time-varying-covariates\n",
      "[D]  https://lifelines.readthedocs.io/en/latest/jupyter_notebooks/Proportional%20hazard%20assumption.html#Modify-the-functional-form\n",
      "[E]  https://lifelines.readthedocs.io/en/latest/jupyter_notebooks/Proportional%20hazard%20assumption.html#Stratification\n",
      "\n"
     ]
    },
    {
     "data": {
      "image/png": "[encoded data removed]",
      "text/plain": [
       "<Figure size 432x288 with 2 Axes>"
      ]
     },
     "metadata": {
      "needs_background": "light"
     },
     "output_type": "display_data"
    }
   ],
   "source": [
    "# Check if the proprtional hazards assuption is violated\n",
    "cph.check_assumptions(clusters_dummy, show_plots=True)"
   ]
  },
  {
   "cell_type": "markdown",
   "metadata": {},
   "source": [
    "### Nelson-Aalen estimate for the cumulative hazard"
   ]
  },
  {
   "cell_type": "code",
   "execution_count": null,
   "metadata": {},
   "outputs": [],
   "source": [
    "naf = NelsonAalenFitter()\n",
    "bandwidth = 3\n",
    "\n",
    "naf.fit(T_os1, event_observed=E_os1, label=\"Cluster 01\")\n",
    "# ax = naf.plot(loc=slice(0, 70))\n",
    "ax = naf.plot()\n",
    "\n",
    "naf.fit(T_os2, event_observed=E_os2, label=\"Cluster 02\")\n",
    "# naf.plot(ax=ax, loc=slice(0, 70))\n",
    "ax = naf.plot()\n",
    "\n",
    "naf.fit(T_os3, event_observed=E_os3, label=\"Cluster 03\")\n",
    "# naf.plot(ax=ax, loc=slice(0, 70))\n",
    "ax = naf.plot()\n",
    "\n",
    "plt.title(\"Cumulative Hazard Function: Overall Survival\");\n",
    "# plt.ylim(0, 0.4)\n",
    "# plt.xlim(0, 125);\n",
    "ax.legend(loc='upper left')\n",
    "plt.tight_layout()\n",
    "plt.savefig(out_path+\"os_cumulative_hazard.png\")"
   ]
  },
  {
   "cell_type": "code",
   "execution_count": 269,
   "metadata": {},
   "outputs": [
    {
     "data": {
      "image/png": "[encoded data removed]",
      "text/plain": [
       "<Figure size 432x288 with 1 Axes>"
      ]
     },
     "metadata": {
      "needs_background": "light"
     },
     "output_type": "display_data"
    }
   ],
   "source": [
    "naf = NelsonAalenFitter()\n",
    "bandwidth = 3\n",
    "\n",
    "naf.fit(T_os1, event_observed=E_os1, label=\"Cluster 01\")\n",
    "ax = naf.plot(loc=slice(0, 70))\n",
    "# ax = naf.plot()\n",
    "\n",
    "naf.fit(T_os2, event_observed=E_os2, label=\"Cluster 02\")\n",
    "naf.plot(ax=ax, loc=slice(0, 70))\n",
    "# ax = naf.plot()\n",
    "\n",
    "naf.fit(T_os3, event_observed=E_os3, label=\"Cluster 03\")\n",
    "naf.plot(ax=ax, loc=slice(0, 70))\n",
    "# ax = naf.plot()\n",
    "\n",
    "plt.title(\"Cumulative Hazard Function: Overall Survival\");\n",
    "# plt.ylim(0, 0.4)\n",
    "# plt.xlim(0, 125);\n",
    "ax.legend(loc='upper left')\n",
    "plt.tight_layout()\n",
    "plt.savefig(out_path+\"os_cumulative_hazard_70.png\")"
   ]
  },
  {
   "cell_type": "markdown",
   "metadata": {},
   "source": [
    "## Disease free survival"
   ]
  },
  {
   "cell_type": "markdown",
   "metadata": {},
   "source": [
    "### Kaplan Meier plot for all patients"
   ]
  },
  {
   "cell_type": "code",
   "execution_count": 262,
   "metadata": {},
   "outputs": [
    {
     "name": "stdout",
     "output_type": "stream",
     "text": [
      "Median survival time: 20.99 months\n",
      "Survival rate: \n",
      "12    0.649949\n",
      "24    0.464015\n",
      "36    0.388957\n",
      "48    0.326577\n",
      "60    0.293714\n",
      "Name: All patients, dtype: float64\n"
     ]
    },
    {
     "data": {
      "image/png": "[encoded data removed]",
      "text/plain": [
       "<Figure size 252x216 with 1 Axes>"
      ]
     },
     "metadata": {
      "needs_background": "light"
     },
     "output_type": "display_data"
    }
   ],
   "source": [
    "kmf = KaplanMeierFitter()\n",
    "T_dfs = clusters.dropna(subset = [\"DFS_MONTHS\"])['DFS_MONTHS']\n",
    "E_dfs = clusters.dropna(subset = [\"DFS_MONTHS\"])['DFS_STATUS']\n",
    "kmf.fit(T_dfs, event_observed=E_dfs, label=\"All patients\")\n",
    "plt.figure(figsize=(3.5, 3))\n",
    "kmf.plot(show_censors=True, at_risk_counts=False)\n",
    "plt.title(\"Overall Survival\");\n",
    "plt.xlim(0, 150)\n",
    "plt.tight_layout()\n",
    "plt.savefig(out_path+\"dfs_all.png\")\n",
    "print(\"Median survival time: \" + str(kmf.median_survival_time_) + \" months\")\n",
    "print(\"Survival rate: \")\n",
    "print(kmf.survival_function_at_times([12,24,36,48,60], label=None))"
   ]
  },
  {
   "cell_type": "markdown",
   "metadata": {},
   "source": [
    "### Kaplan Meier plot by clusters"
   ]
  },
  {
   "cell_type": "code",
   "execution_count": 204,
   "metadata": {},
   "outputs": [
    {
     "name": "stdout",
     "output_type": "stream",
     "text": [
      "Median survival time: 23.62 months\n",
      "Disease free survival rate: \n",
      "12    0.679055\n",
      "24    0.478624\n",
      "36    0.400483\n",
      "48    0.339233\n",
      "60    0.313138\n",
      "Name: Cluster 01, dtype: float64\n",
      "Median survival time: 12.68 months\n",
      "Disease free urvival rate: \n",
      "12    0.516691\n",
      "24    0.367444\n",
      "36    0.327628\n",
      "48    0.257749\n",
      "60    0.225530\n",
      "Name: Cluster 02, dtype: float64\n",
      "Median survival time: 29.66 months\n",
      "Disease free urvival rate: \n",
      "12    0.793103\n",
      "24    0.585209\n",
      "36    0.453122\n",
      "48    0.411929\n",
      "60    0.360438\n",
      "Name: Cluster 03, dtype: float64\n"
     ]
    },
    {
     "data": {
      "text/plain": [
       "<matplotlib.axes._subplots.AxesSubplot at 0x441c3ac8>"
      ]
     },
     "execution_count": 204,
     "metadata": {},
     "output_type": "execute_result"
    },
    {
     "data": {
      "image/png": "[encoded data removed]",
      "text/plain": [
       "<Figure size 432x288 with 2 Axes>"
      ]
     },
     "metadata": {
      "needs_background": "light"
     },
     "output_type": "display_data"
    }
   ],
   "source": [
    "ax = plt.subplot(111)\n",
    "\n",
    "kmf_dfs1 = KaplanMeierFitter()\n",
    "f_dfs1 = clusters.Cluster == \"Cluster 01\"\n",
    "T_dfs1 = clusters[f_dfs1].dropna(subset = [\"DFS_MONTHS\"])['DFS_MONTHS']\n",
    "E_dfs1 = clusters[f_dfs1].dropna(subset = [\"DFS_MONTHS\"])['DFS_STATUS']\n",
    "kmf_dfs1.fit(T_dfs1, event_observed=E_dfs1, label=\"Cluster 01\")\n",
    "print(\"Median survival time: \" + str(kmf_dfs1.median_survival_time_) + \" months\")\n",
    "print(\"Disease free survival rates: \")\n",
    "print(kmf_dfs1.survival_function_at_times([12,24,36,48,60], label=\"Cluster 01\"))\n",
    "ax = kmf_dfs1.plot(ax=ax)\n",
    "\n",
    "kmf_dfs2 = KaplanMeierFitter()\n",
    "f_dfs2 = clusters.Cluster == \"Cluster 02\"\n",
    "T_dfs2 = clusters[f_dfs2].dropna(subset = [\"DFS_MONTHS\"])['DFS_MONTHS']\n",
    "E_dfs2 = clusters[f_dfs2].dropna(subset = [\"DFS_MONTHS\"])['DFS_STATUS']\n",
    "kmf_dfs2.fit(T_dfs2, event_observed=E_dfs2, label=\"Cluster 02\")\n",
    "print(\"Median survival time: \" + str(kmf_dfs2.median_survival_time_) + \" months\")\n",
    "print(\"Disease free urvival rates: \")\n",
    "print(kmf_dfs2.survival_function_at_times([12,24,36,48,60], label=\"Cluster 02\"))\n",
    "ax = kmf_dfs2.plot(ax=ax)\n",
    "\n",
    "kmf_dfs3 = KaplanMeierFitter()\n",
    "f_dfs3 = clusters.Cluster == \"Cluster 03\"\n",
    "T_dfs3 = clusters[f_dfs3].dropna(subset = [\"DFS_MONTHS\"])['DFS_MONTHS']\n",
    "E_dfs3 = clusters[f_dfs3].dropna(subset = [\"DFS_MONTHS\"])['DFS_STATUS']\n",
    "kmf_dfs3.fit(T_dfs3, event_observed=E_dfs3, label=\"Cluster 03\")\n",
    "print(\"Median survival time: \" + str(kmf_dfs3.median_survival_time_) + \" months\")\n",
    "print(\"Disease free urvival rates: \")\n",
    "print(kmf_dfs3.survival_function_at_times([12,24,36,48,60], label=\"Cluster 03\"))\n",
    "ax = kmf_dfs3.plot(ax=ax)\n",
    "\n",
    "plt.ylim(0, 1)\n",
    "plt.title(\"Kaplan-Meier Curves: Disease Free Survival\");\n",
    "plt.tight_layout()\n",
    "plt.savefig(out_path+\"dfs.png\")\n",
    "\n",
    "add_at_risk_counts(kmf_dfs1, kmf_dfs2, kmf_os3, ax=ax)"
   ]
  },
  {
   "cell_type": "markdown",
   "metadata": {},
   "source": [
    "### Log-rank test"
   ]
  },
  {
   "cell_type": "code",
   "execution_count": 222,
   "metadata": {},
   "outputs": [
    {
     "data": {
      "text/html": [
       "<div>\n",
       "<style scoped>\n",
       "    .dataframe tbody tr th:only-of-type {\n",
       "        vertical-align: middle;\n",
       "    }\n",
       "\n",
       "    .dataframe tbody tr th {\n",
       "        vertical-align: top;\n",
       "    }\n",
       "\n",
       "    .dataframe thead th {\n",
       "        text-align: right;\n",
       "    }\n",
       "</style>\n",
       "<table border=\"1\" class=\"dataframe\">\n",
       "  <tbody>\n",
       "    <tr>\n",
       "      <th>t_0</th>\n",
       "      <td>-1</td>\n",
       "    </tr>\n",
       "    <tr>\n",
       "      <th>null_distribution</th>\n",
       "      <td>chi squared</td>\n",
       "    </tr>\n",
       "    <tr>\n",
       "      <th>degrees_of_freedom</th>\n",
       "      <td>2</td>\n",
       "    </tr>\n",
       "    <tr>\n",
       "      <th>test_name</th>\n",
       "      <td>multivariate_Peto_test</td>\n",
       "    </tr>\n",
       "  </tbody>\n",
       "</table>\n",
       "</div><table border=\"1\" class=\"dataframe\">\n",
       "  <thead>\n",
       "    <tr style=\"text-align: right;\">\n",
       "      <th></th>\n",
       "      <th>test_statistic</th>\n",
       "      <th>p</th>\n",
       "    </tr>\n",
       "  </thead>\n",
       "  <tbody>\n",
       "    <tr>\n",
       "      <th>0</th>\n",
       "      <td>9.41</td>\n",
       "      <td>0.01</td>\n",
       "    </tr>\n",
       "  </tbody>\n",
       "</table>"
      ],
      "text/plain": [
       "<IPython.core.display.HTML object>"
      ]
     },
     "metadata": {},
     "output_type": "display_data"
    }
   ],
   "source": [
    "# Generalized\n",
    "# result = multivariate_logrank_test(clusters.dropna(subset = [\"DFS_MONTHS\"])['DFS_MONTHS'], clusters.dropna(subset = [\"DFS_MONTHS\"])[\"Cluster\"], clusters.dropna(subset = [\"DFS_MONTHS\"])['DFS_STATUS'], t_0=70)\n",
    "result = multivariate_logrank_test(T_dfs, clusters.dropna(subset = [\"DFS_MONTHS\"])[\"Cluster\"], E_dfs, weightings=\"peto\")\n",
    "result.print_summary()"
   ]
  },
  {
   "cell_type": "code",
   "execution_count": 223,
   "metadata": {},
   "outputs": [
    {
     "data": {
      "text/html": [
       "<div>\n",
       "<style scoped>\n",
       "    .dataframe tbody tr th:only-of-type {\n",
       "        vertical-align: middle;\n",
       "    }\n",
       "\n",
       "    .dataframe tbody tr th {\n",
       "        vertical-align: top;\n",
       "    }\n",
       "\n",
       "    .dataframe thead th {\n",
       "        text-align: right;\n",
       "    }\n",
       "</style>\n",
       "<table border=\"1\" class=\"dataframe\">\n",
       "  <tbody>\n",
       "    <tr>\n",
       "      <th>t_0</th>\n",
       "      <td>-1</td>\n",
       "    </tr>\n",
       "    <tr>\n",
       "      <th>null_distribution</th>\n",
       "      <td>chi squared</td>\n",
       "    </tr>\n",
       "    <tr>\n",
       "      <th>degrees_of_freedom</th>\n",
       "      <td>1</td>\n",
       "    </tr>\n",
       "    <tr>\n",
       "      <th>test_name</th>\n",
       "      <td>Peto_test</td>\n",
       "    </tr>\n",
       "  </tbody>\n",
       "</table>\n",
       "</div><table border=\"1\" class=\"dataframe\">\n",
       "  <thead>\n",
       "    <tr style=\"text-align: right;\">\n",
       "      <th></th>\n",
       "      <th></th>\n",
       "      <th>test_statistic</th>\n",
       "      <th>p</th>\n",
       "    </tr>\n",
       "  </thead>\n",
       "  <tbody>\n",
       "    <tr>\n",
       "      <th rowspan=\"2\" valign=\"top\">Cluster 01</th>\n",
       "      <th>Cluster 02</th>\n",
       "      <td>6.11</td>\n",
       "      <td>0.01</td>\n",
       "    </tr>\n",
       "    <tr>\n",
       "      <th>Cluster 03</th>\n",
       "      <td>0.87</td>\n",
       "      <td>0.35</td>\n",
       "    </tr>\n",
       "    <tr>\n",
       "      <th>Cluster 02</th>\n",
       "      <th>Cluster 03</th>\n",
       "      <td>6.47</td>\n",
       "      <td>0.01</td>\n",
       "    </tr>\n",
       "  </tbody>\n",
       "</table>"
      ],
      "text/plain": [
       "<IPython.core.display.HTML object>"
      ]
     },
     "metadata": {},
     "output_type": "display_data"
    }
   ],
   "source": [
    "# pairwise\n",
    "# result = pairwise_logrank_test(clusters.dropna(subset = [\"DFS_MONTHS\"])['DFS_MONTHS'], clusters.dropna(subset = [\"DFS_MONTHS\"])[\"Cluster\"], clusters.dropna(subset = [\"DFS_MONTHS\"])['DFS_STATUS'], t_0=70)\n",
    "result = pairwise_logrank_test(T_dfs, clusters.dropna(subset = [\"DFS_MONTHS\"])[\"Cluster\"], E_dfs, weightings=\"peto\")\n",
    "result.print_summary()"
   ]
  },
  {
   "cell_type": "markdown",
   "metadata": {},
   "source": [
    "### Cox proportional hazards regression model"
   ]
  },
  {
   "cell_type": "markdown",
   "metadata": {},
   "source": [
    "#### One-hot encoding"
   ]
  },
  {
   "cell_type": "code",
   "execution_count": 212,
   "metadata": {},
   "outputs": [
    {
     "name": "stdout",
     "output_type": "stream",
     "text": [
      "(296, 4)\n"
     ]
    },
    {
     "data": {
      "text/html": [
       "<div>\n",
       "<style scoped>\n",
       "    .dataframe tbody tr th:only-of-type {\n",
       "        vertical-align: middle;\n",
       "    }\n",
       "\n",
       "    .dataframe tbody tr th {\n",
       "        vertical-align: top;\n",
       "    }\n",
       "\n",
       "    .dataframe thead th {\n",
       "        text-align: right;\n",
       "    }\n",
       "</style>\n",
       "<table border=\"1\" class=\"dataframe\">\n",
       "  <thead>\n",
       "    <tr style=\"text-align: right;\">\n",
       "      <th></th>\n",
       "      <th>Cluster 02</th>\n",
       "      <th>Cluster 03</th>\n",
       "      <th>DFS_MONTHS</th>\n",
       "      <th>DFS_STATUS</th>\n",
       "    </tr>\n",
       "  </thead>\n",
       "  <tbody>\n",
       "    <tr>\n",
       "      <th>0</th>\n",
       "      <td>0</td>\n",
       "      <td>0</td>\n",
       "      <td>70.07</td>\n",
       "      <td>1.0</td>\n",
       "    </tr>\n",
       "    <tr>\n",
       "      <th>2</th>\n",
       "      <td>0</td>\n",
       "      <td>0</td>\n",
       "      <td>16.66</td>\n",
       "      <td>0.0</td>\n",
       "    </tr>\n",
       "    <tr>\n",
       "      <th>3</th>\n",
       "      <td>0</td>\n",
       "      <td>0</td>\n",
       "      <td>16.06</td>\n",
       "      <td>1.0</td>\n",
       "    </tr>\n",
       "    <tr>\n",
       "      <th>5</th>\n",
       "      <td>0</td>\n",
       "      <td>0</td>\n",
       "      <td>12.19</td>\n",
       "      <td>1.0</td>\n",
       "    </tr>\n",
       "    <tr>\n",
       "      <th>6</th>\n",
       "      <td>0</td>\n",
       "      <td>0</td>\n",
       "      <td>40.37</td>\n",
       "      <td>1.0</td>\n",
       "    </tr>\n",
       "  </tbody>\n",
       "</table>\n",
       "</div>"
      ],
      "text/plain": [
       "   Cluster 02  Cluster 03  DFS_MONTHS  DFS_STATUS\n",
       "0           0           0       70.07         1.0\n",
       "2           0           0       16.66         0.0\n",
       "3           0           0       16.06         1.0\n",
       "5           0           0       12.19         1.0\n",
       "6           0           0       40.37         1.0"
      ]
     },
     "execution_count": 212,
     "metadata": {},
     "output_type": "execute_result"
    }
   ],
   "source": [
    "# Convert cluster to one-hot encoding\n",
    "clusters_dummy = pd.get_dummies(clusters.dropna(subset = [\"DFS_MONTHS\"])[\"Cluster\"])\n",
    "clusters_dummy = pd.concat([clusters_dummy, T_dfs],axis=1)\n",
    "clusters_dummy = pd.concat([clusters_dummy, E_dfs],axis=1)\n",
    "print(clusters_dummy.shape)\n",
    "clusters_dummy.head(5)"
   ]
  },
  {
   "cell_type": "code",
   "execution_count": null,
   "metadata": {},
   "outputs": [],
   "source": [
    "# To use cox model, at least drop one of the converted col\n",
    "clusters_dummy.drop(columns=[\"Cluster 02\"], inplace=True)"
   ]
  },
  {
   "cell_type": "code",
   "execution_count": 213,
   "metadata": {},
   "outputs": [
    {
     "name": "stdout",
     "output_type": "stream",
     "text": [
      "<lifelines.CoxPHFitter: fitted with 296 total observations, 133 right-censored observations>\n"
     ]
    },
    {
     "data": {
      "text/html": [
       "<div>\n",
       "<style scoped>\n",
       "    .dataframe tbody tr th:only-of-type {\n",
       "        vertical-align: middle;\n",
       "    }\n",
       "\n",
       "    .dataframe tbody tr th {\n",
       "        vertical-align: top;\n",
       "    }\n",
       "\n",
       "    .dataframe thead th {\n",
       "        text-align: right;\n",
       "    }\n",
       "</style>\n",
       "<table border=\"1\" class=\"dataframe\">\n",
       "  <tbody>\n",
       "    <tr>\n",
       "      <th>model</th>\n",
       "      <td>lifelines.CoxPHFitter</td>\n",
       "    </tr>\n",
       "    <tr>\n",
       "      <th>duration col</th>\n",
       "      <td>'DFS_MONTHS'</td>\n",
       "    </tr>\n",
       "    <tr>\n",
       "      <th>event col</th>\n",
       "      <td>'DFS_STATUS'</td>\n",
       "    </tr>\n",
       "    <tr>\n",
       "      <th>baseline estimation</th>\n",
       "      <td>breslow</td>\n",
       "    </tr>\n",
       "    <tr>\n",
       "      <th>number of observations</th>\n",
       "      <td>296</td>\n",
       "    </tr>\n",
       "    <tr>\n",
       "      <th>number of events observed</th>\n",
       "      <td>163</td>\n",
       "    </tr>\n",
       "    <tr>\n",
       "      <th>partial log-likelihood</th>\n",
       "      <td>-801.12</td>\n",
       "    </tr>\n",
       "    <tr>\n",
       "      <th>time fit was run</th>\n",
       "      <td>2020-07-29 10:38:10 UTC</td>\n",
       "    </tr>\n",
       "  </tbody>\n",
       "</table>\n",
       "</div><table border=\"1\" class=\"dataframe\">\n",
       "  <thead>\n",
       "    <tr style=\"text-align: right;\">\n",
       "      <th></th>\n",
       "      <th>coef</th>\n",
       "      <th>exp(coef)</th>\n",
       "      <th>se(coef)</th>\n",
       "      <th>coef lower 95%</th>\n",
       "      <th>coef upper 95%</th>\n",
       "      <th>exp(coef) lower 95%</th>\n",
       "      <th>exp(coef) upper 95%</th>\n",
       "      <th>z</th>\n",
       "      <th>p</th>\n",
       "      <th>-log2(p)</th>\n",
       "    </tr>\n",
       "  </thead>\n",
       "  <tbody>\n",
       "    <tr>\n",
       "      <th>Cluster 02</th>\n",
       "      <td>0.36</td>\n",
       "      <td>1.43</td>\n",
       "      <td>0.17</td>\n",
       "      <td>0.01</td>\n",
       "      <td>0.70</td>\n",
       "      <td>1.01</td>\n",
       "      <td>2.01</td>\n",
       "      <td>2.04</td>\n",
       "      <td>0.04</td>\n",
       "      <td>4.58</td>\n",
       "    </tr>\n",
       "    <tr>\n",
       "      <th>Cluster 03</th>\n",
       "      <td>-0.16</td>\n",
       "      <td>0.85</td>\n",
       "      <td>0.22</td>\n",
       "      <td>-0.58</td>\n",
       "      <td>0.26</td>\n",
       "      <td>0.56</td>\n",
       "      <td>1.30</td>\n",
       "      <td>-0.74</td>\n",
       "      <td>0.46</td>\n",
       "      <td>1.13</td>\n",
       "    </tr>\n",
       "  </tbody>\n",
       "</table><div>\n",
       "<style scoped>\n",
       "    .dataframe tbody tr th:only-of-type {\n",
       "        vertical-align: middle;\n",
       "    }\n",
       "\n",
       "    .dataframe tbody tr th {\n",
       "        vertical-align: top;\n",
       "    }\n",
       "\n",
       "    .dataframe thead th {\n",
       "        text-align: right;\n",
       "    }\n",
       "</style>\n",
       "<table border=\"1\" class=\"dataframe\">\n",
       "  <tbody>\n",
       "    <tr>\n",
       "      <th>Concordance</th>\n",
       "      <td>0.57</td>\n",
       "    </tr>\n",
       "    <tr>\n",
       "      <th>Partial AIC</th>\n",
       "      <td>1606.23</td>\n",
       "    </tr>\n",
       "    <tr>\n",
       "      <th>log-likelihood ratio test</th>\n",
       "      <td>6.69 on 2 df</td>\n",
       "    </tr>\n",
       "    <tr>\n",
       "      <th>-log2(p) of ll-ratio test</th>\n",
       "      <td>4.83</td>\n",
       "    </tr>\n",
       "  </tbody>\n",
       "</table>\n",
       "</div>"
      ],
      "text/plain": [
       "<IPython.core.display.HTML object>"
      ]
     },
     "metadata": {},
     "output_type": "display_data"
    }
   ],
   "source": [
    "# Using Cox Proportional Hazards model\n",
    "cph = CoxPHFitter()   ## Instantiate the class to create a cph object\n",
    "print(cph.fit(clusters_dummy, \"DFS_MONTHS\", \"DFS_STATUS\"))   ## Fit the data to train the model\n",
    "cph.print_summary()    ## HAve a look at the significance of the features"
   ]
  },
  {
   "cell_type": "markdown",
   "metadata": {},
   "source": [
    "#### Ordered integer colomn"
   ]
  },
  {
   "cell_type": "code",
   "execution_count": 317,
   "metadata": {},
   "outputs": [
    {
     "name": "stdout",
     "output_type": "stream",
     "text": [
      "(339, 3)\n"
     ]
    },
    {
     "data": {
      "text/html": [
       "<div>\n",
       "<style scoped>\n",
       "    .dataframe tbody tr th:only-of-type {\n",
       "        vertical-align: middle;\n",
       "    }\n",
       "\n",
       "    .dataframe tbody tr th {\n",
       "        vertical-align: top;\n",
       "    }\n",
       "\n",
       "    .dataframe thead th {\n",
       "        text-align: right;\n",
       "    }\n",
       "</style>\n",
       "<table border=\"1\" class=\"dataframe\">\n",
       "  <thead>\n",
       "    <tr style=\"text-align: right;\">\n",
       "      <th></th>\n",
       "      <th>Cluster</th>\n",
       "      <th>OS_STATUS</th>\n",
       "      <th>OS_MONTHS</th>\n",
       "    </tr>\n",
       "  </thead>\n",
       "  <tbody>\n",
       "    <tr>\n",
       "      <th>0</th>\n",
       "      <td>2</td>\n",
       "      <td>0.0</td>\n",
       "      <td>80.22</td>\n",
       "    </tr>\n",
       "    <tr>\n",
       "      <th>1</th>\n",
       "      <td>2</td>\n",
       "      <td>1.0</td>\n",
       "      <td>2.99</td>\n",
       "    </tr>\n",
       "    <tr>\n",
       "      <th>2</th>\n",
       "      <td>2</td>\n",
       "      <td>0.0</td>\n",
       "      <td>16.66</td>\n",
       "    </tr>\n",
       "    <tr>\n",
       "      <th>3</th>\n",
       "      <td>2</td>\n",
       "      <td>0.0</td>\n",
       "      <td>28.25</td>\n",
       "    </tr>\n",
       "    <tr>\n",
       "      <th>4</th>\n",
       "      <td>2</td>\n",
       "      <td>1.0</td>\n",
       "      <td>3.38</td>\n",
       "    </tr>\n",
       "  </tbody>\n",
       "</table>\n",
       "</div>"
      ],
      "text/plain": [
       "   Cluster  OS_STATUS  OS_MONTHS\n",
       "0        2        0.0      80.22\n",
       "1        2        1.0       2.99\n",
       "2        2        0.0      16.66\n",
       "3        2        0.0      28.25\n",
       "4        2        1.0       3.38"
      ]
     },
     "execution_count": 317,
     "metadata": {},
     "output_type": "execute_result"
    }
   ],
   "source": [
    "# Order the clusters: higher values means higher expression.\n",
    "clusters_dummy = clusters.dropna(subset = [\"DFS_MONTHS\"]).reset_index(drop=True).filter(items=[\"Cluster\",\"DFS_STATUS\",\"DFS_MONTHS\"])\n",
    "for i in range(len(clusters_dummy)):\n",
    "    c = int(clusters_dummy[\"Cluster\"][i][-1])\n",
    "    if c == 1:\n",
    "        c = 2\n",
    "    elif c == 2:\n",
    "        c = 1\n",
    "    clusters_dummy.loc[i, \"Cluster\"] = c\n",
    "print(clusters_dummy.shape)\n",
    "clusters_dummy.head(5)"
   ]
  },
  {
   "cell_type": "code",
   "execution_count": 320,
   "metadata": {},
   "outputs": [
    {
     "name": "stdout",
     "output_type": "stream",
     "text": [
      "<lifelines.CoxPHFitter: fitted with 339 total observations, 219 right-censored observations>\n"
     ]
    },
    {
     "data": {
      "text/html": [
       "<div>\n",
       "<style scoped>\n",
       "    .dataframe tbody tr th:only-of-type {\n",
       "        vertical-align: middle;\n",
       "    }\n",
       "\n",
       "    .dataframe tbody tr th {\n",
       "        vertical-align: top;\n",
       "    }\n",
       "\n",
       "    .dataframe thead th {\n",
       "        text-align: right;\n",
       "    }\n",
       "</style>\n",
       "<table border=\"1\" class=\"dataframe\">\n",
       "  <tbody>\n",
       "    <tr>\n",
       "      <th>model</th>\n",
       "      <td>lifelines.CoxPHFitter</td>\n",
       "    </tr>\n",
       "    <tr>\n",
       "      <th>duration col</th>\n",
       "      <td>'OS_MONTHS'</td>\n",
       "    </tr>\n",
       "    <tr>\n",
       "      <th>event col</th>\n",
       "      <td>'OS_STATUS'</td>\n",
       "    </tr>\n",
       "    <tr>\n",
       "      <th>baseline estimation</th>\n",
       "      <td>breslow</td>\n",
       "    </tr>\n",
       "    <tr>\n",
       "      <th>number of observations</th>\n",
       "      <td>339</td>\n",
       "    </tr>\n",
       "    <tr>\n",
       "      <th>number of events observed</th>\n",
       "      <td>120</td>\n",
       "    </tr>\n",
       "    <tr>\n",
       "      <th>partial log-likelihood</th>\n",
       "      <td>-600.90</td>\n",
       "    </tr>\n",
       "    <tr>\n",
       "      <th>time fit was run</th>\n",
       "      <td>2020-07-29 16:21:26 UTC</td>\n",
       "    </tr>\n",
       "  </tbody>\n",
       "</table>\n",
       "</div><table border=\"1\" class=\"dataframe\">\n",
       "  <thead>\n",
       "    <tr style=\"text-align: right;\">\n",
       "      <th></th>\n",
       "      <th>coef</th>\n",
       "      <th>exp(coef)</th>\n",
       "      <th>se(coef)</th>\n",
       "      <th>coef lower 95%</th>\n",
       "      <th>coef upper 95%</th>\n",
       "      <th>exp(coef) lower 95%</th>\n",
       "      <th>exp(coef) upper 95%</th>\n",
       "      <th>z</th>\n",
       "      <th>p</th>\n",
       "      <th>-log2(p)</th>\n",
       "    </tr>\n",
       "  </thead>\n",
       "  <tbody>\n",
       "    <tr>\n",
       "      <th>Cluster</th>\n",
       "      <td>-0.30</td>\n",
       "      <td>0.74</td>\n",
       "      <td>0.13</td>\n",
       "      <td>-0.55</td>\n",
       "      <td>-0.05</td>\n",
       "      <td>0.58</td>\n",
       "      <td>0.95</td>\n",
       "      <td>-2.32</td>\n",
       "      <td>0.02</td>\n",
       "      <td>5.63</td>\n",
       "    </tr>\n",
       "  </tbody>\n",
       "</table><div>\n",
       "<style scoped>\n",
       "    .dataframe tbody tr th:only-of-type {\n",
       "        vertical-align: middle;\n",
       "    }\n",
       "\n",
       "    .dataframe tbody tr th {\n",
       "        vertical-align: top;\n",
       "    }\n",
       "\n",
       "    .dataframe thead th {\n",
       "        text-align: right;\n",
       "    }\n",
       "</style>\n",
       "<table border=\"1\" class=\"dataframe\">\n",
       "  <tbody>\n",
       "    <tr>\n",
       "      <th>Concordance</th>\n",
       "      <td>0.59</td>\n",
       "    </tr>\n",
       "    <tr>\n",
       "      <th>Partial AIC</th>\n",
       "      <td>1203.79</td>\n",
       "    </tr>\n",
       "    <tr>\n",
       "      <th>log-likelihood ratio test</th>\n",
       "      <td>5.49 on 1 df</td>\n",
       "    </tr>\n",
       "    <tr>\n",
       "      <th>-log2(p) of ll-ratio test</th>\n",
       "      <td>5.71</td>\n",
       "    </tr>\n",
       "  </tbody>\n",
       "</table>\n",
       "</div>"
      ],
      "text/plain": [
       "<IPython.core.display.HTML object>"
      ]
     },
     "metadata": {},
     "output_type": "display_data"
    }
   ],
   "source": [
    "# Using Cox Proportional Hazards model without on hot encoding\n",
    "cph = CoxPHFitter()   ## Instantiate the class to create a cph object\n",
    "print(cph.fit(clusters_dummy, \"DFS_MONTHS\", \"DFS_STATUS\"))   ## Fit the data to train the model\n",
    "cph.print_summary()    ## HAve a look at the significance of the features"
   ]
  },
  {
   "cell_type": "code",
   "execution_count": 325,
   "metadata": {},
   "outputs": [
    {
     "name": "stdout",
     "output_type": "stream",
     "text": [
      "The ``p_value_threshold`` is set at 0.01. Even under the null hypothesis of no violations, some\n",
      "covariates will be below the threshold by chance. This is compounded when there are many covariates.\n",
      "Similarly, when there are lots of observations, even minor deviances from the proportional hazard\n",
      "assumption will be flagged.\n",
      "\n",
      "With that in mind, it's best to use a combination of statistical tests and visual tests to determine\n",
      "the most serious violations. Produce visual plots using ``check_assumptions(..., show_plots=True)``\n",
      "and looking for non-constant lines. See link [A] below for a full example.\n",
      "\n"
     ]
    },
    {
     "data": {
      "text/html": [
       "<div>\n",
       "<style scoped>\n",
       "    .dataframe tbody tr th:only-of-type {\n",
       "        vertical-align: middle;\n",
       "    }\n",
       "\n",
       "    .dataframe tbody tr th {\n",
       "        vertical-align: top;\n",
       "    }\n",
       "\n",
       "    .dataframe thead th {\n",
       "        text-align: right;\n",
       "    }\n",
       "</style>\n",
       "<table border=\"1\" class=\"dataframe\">\n",
       "  <tbody>\n",
       "    <tr>\n",
       "      <th>null_distribution</th>\n",
       "      <td>chi squared</td>\n",
       "    </tr>\n",
       "    <tr>\n",
       "      <th>degrees_of_freedom</th>\n",
       "      <td>1</td>\n",
       "    </tr>\n",
       "    <tr>\n",
       "      <th>model</th>\n",
       "      <td>&lt;lifelines.CoxPHFitter: fitted with 339 total ...</td>\n",
       "    </tr>\n",
       "    <tr>\n",
       "      <th>test_name</th>\n",
       "      <td>proportional_hazard_test</td>\n",
       "    </tr>\n",
       "  </tbody>\n",
       "</table>\n",
       "</div><table border=\"1\" class=\"dataframe\">\n",
       "  <thead>\n",
       "    <tr style=\"text-align: right;\">\n",
       "      <th></th>\n",
       "      <th></th>\n",
       "      <th>test_statistic</th>\n",
       "      <th>p</th>\n",
       "    </tr>\n",
       "  </thead>\n",
       "  <tbody>\n",
       "    <tr>\n",
       "      <th rowspan=\"2\" valign=\"top\">Cluster 01</th>\n",
       "      <th>km</th>\n",
       "      <td>2.90</td>\n",
       "      <td>0.09</td>\n",
       "    </tr>\n",
       "    <tr>\n",
       "      <th>rank</th>\n",
       "      <td>2.76</td>\n",
       "      <td>0.10</td>\n",
       "    </tr>\n",
       "    <tr>\n",
       "      <th rowspan=\"2\" valign=\"top\">Cluster 03</th>\n",
       "      <th>km</th>\n",
       "      <td>10.22</td>\n",
       "      <td>&lt;0.005</td>\n",
       "    </tr>\n",
       "    <tr>\n",
       "      <th>rank</th>\n",
       "      <td>7.67</td>\n",
       "      <td>0.01</td>\n",
       "    </tr>\n",
       "  </tbody>\n",
       "</table>"
      ],
      "text/plain": [
       "<IPython.core.display.HTML object>"
      ]
     },
     "metadata": {},
     "output_type": "display_data"
    },
    {
     "name": "stdout",
     "output_type": "stream",
     "text": [
      "\n",
      "\n",
      "1. Variable 'Cluster 03' failed the non-proportional test: p-value is 0.0014.\n",
      "\n",
      "   Advice: with so few unique values (only 2), you can include `strata=['Cluster 03', ...]` in the\n",
      "call in `.fit`. See documentation in link [E] below.\n",
      "\n",
      "---\n",
      "[A]  https://lifelines.readthedocs.io/en/latest/jupyter_notebooks/Proportional%20hazard%20assumption.html\n",
      "[B]  https://lifelines.readthedocs.io/en/latest/jupyter_notebooks/Proportional%20hazard%20assumption.html#Bin-variable-and-stratify-on-it\n",
      "[C]  https://lifelines.readthedocs.io/en/latest/jupyter_notebooks/Proportional%20hazard%20assumption.html#Introduce-time-varying-covariates\n",
      "[D]  https://lifelines.readthedocs.io/en/latest/jupyter_notebooks/Proportional%20hazard%20assumption.html#Modify-the-functional-form\n",
      "[E]  https://lifelines.readthedocs.io/en/latest/jupyter_notebooks/Proportional%20hazard%20assumption.html#Stratification\n",
      "\n"
     ]
    },
    {
     "data": {
      "image/png": "[encoded data removed]",
      "text/plain": [
       "<Figure size 432x288 with 2 Axes>"
      ]
     },
     "metadata": {
      "needs_background": "light"
     },
     "output_type": "display_data"
    }
   ],
   "source": [
    "# Check if the proprtional hazards assuption is violated\n",
    "cph.check_assumptions(clusters_dummy, show_plots=True)"
   ]
  },
  {
   "cell_type": "code",
   "execution_count": null,
   "metadata": {},
   "outputs": [],
   "source": [
    "naf = NelsonAalenFitter()\n",
    "bandwidth = 3\n",
    "\n",
    "naf.fit(T_dfs1, event_observed=E_dfs1, label=\"Cluster 01\")\n",
    "# ax = naf.plot(loc=slice(0, 70))\n",
    "ax = naf.plot()\n",
    "\n",
    "naf.fit(T_dfs2, event_observed=E_dfs2, label=\"Cluster 02\")\n",
    "# naf.plot(ax=ax, loc=slice(0, 70))\n",
    "ax = naf.plot()\n",
    "\n",
    "naf.fit(T_dfs3, event_observed=E_dfs3, label=\"Cluster 03\")\n",
    "# naf.plot(ax=ax, loc=slice(0, 70))\n",
    "ax = naf.plot()\n",
    "\n",
    "plt.title(\"Cumulative Hazard Function: Disease Free Survival\");\n",
    "# plt.ylim(0, 0.4)\n",
    "# plt.xlim(0, 125);\n",
    "ax.legend(loc='upper left')\n",
    "plt.tight_layout()\n",
    "plt.savefig(out_path+\"dfs_cumulative_hazard.png\")"
   ]
  },
  {
   "cell_type": "code",
   "execution_count": 182,
   "metadata": {},
   "outputs": [
    {
     "data": {
      "text/plain": [
       "<matplotlib.legend.Legend at 0x42a73898>"
      ]
     },
     "execution_count": 182,
     "metadata": {},
     "output_type": "execute_result"
    },
    {
     "data": {
      "image/png": "[encoded data removed]",
      "text/plain": [
       "<Figure size 432x288 with 1 Axes>"
      ]
     },
     "metadata": {
      "needs_background": "light"
     },
     "output_type": "display_data"
    }
   ],
   "source": [
    "naf = NelsonAalenFitter()\n",
    "bandwidth = 3\n",
    "\n",
    "naf.fit(T_dfs1, event_observed=E_dfs1, label=\"Cluster 01\")\n",
    "ax = naf.plot(loc=slice(0, 70))\n",
    "# ax = naf.plot()\n",
    "\n",
    "naf.fit(T_dfs2, event_observed=E_dfs2, label=\"Cluster 02\")\n",
    "naf.plot(ax=ax, loc=slice(0, 70))\n",
    "# ax = naf.plot()\n",
    "\n",
    "naf.fit(T_dfs3, event_observed=E_dfs3, label=\"Cluster 03\")\n",
    "naf.plot(ax=ax, loc=slice(0, 70))\n",
    "# ax = naf.plot()\n",
    "\n",
    "plt.title(\"Cumulative Hazard Function: Disease Free Survival\");\n",
    "# plt.ylim(0, 0.4)\n",
    "# plt.xlim(0, 125);\n",
    "ax.legend(loc='upper left')\n",
    "plt.tight_layout()\n",
    "plt.savefig(out_path+\"dfs_cumulative_hazard_70.png\")"
   ]
  }
 ],
 "metadata": {
  "kernelspec": {
   "display_name": "Python r-tensorflow",
   "language": "python",
   "name": "r-tensorflow"
  },
  "language_info": {
   "codemirror_mode": {
    "name": "ipython",
    "version": 3
   },
   "file_extension": ".py",
   "mimetype": "text/x-python",
   "name": "python",
   "nbconvert_exporter": "python",
   "pygments_lexer": "ipython3",
   "version": "3.6.8"
  }
 },
 "nbformat": 4,
 "nbformat_minor": 2
}
