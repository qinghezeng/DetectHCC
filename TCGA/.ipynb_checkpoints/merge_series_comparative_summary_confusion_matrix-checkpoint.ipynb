{
 "cells": [
  {
   "cell_type": "markdown",
   "metadata": {},
   "source": [
    "## Compare and summarize sample clusters\n",
    "### Input: sample clusters of tcga, mondor, merged\n",
    "### Output: comparative summary and confusion matrix"
   ]
  },
  {
   "cell_type": "code",
   "execution_count": 75,
   "metadata": {},
   "outputs": [],
   "source": [
    "import os\n",
    "import pandas as pd\n",
    "import numpy as np\n",
    "import seaborn\n",
    "import matplotlib.pyplot as plt"
   ]
  },
  {
   "cell_type": "code",
   "execution_count": 132,
   "metadata": {},
   "outputs": [],
   "source": [
    "path = \"/media/visiopharm5/WDGold/deeplearning/Hepatocarcinomes/TCGA/merge_series\"\n",
    "path_tcga = \"/media/visiopharm5/WDGold/deeplearning/Hepatocarcinomes/TCGA/validation\"\n",
    "path_mondor = \"/media/visiopharm5/WDGold/deeplearning/Hepatocarcinomes/TCGA/heatmap_nanostring_155\""
   ]
  },
  {
   "cell_type": "code",
   "execution_count": 152,
   "metadata": {},
   "outputs": [],
   "source": [
    "gene_sign = \"Ribas_10G_Interferon_Gamma\" # to input\n",
    "file = \"sample_clusters_\" + gene_sign + \"_zscore_hc_ward.D2_euclidean_3_reorder.csv\""
   ]
  },
  {
   "cell_type": "markdown",
   "metadata": {},
   "source": [
    "### Load sampple clusters of merged, tcga and mondor"
   ]
  },
  {
   "cell_type": "code",
   "execution_count": 153,
   "metadata": {},
   "outputs": [
    {
     "name": "stdout",
     "output_type": "stream",
     "text": [
      "(495, 2)\n"
     ]
    },
    {
     "data": {
      "text/html": [
       "<div>\n",
       "<style scoped>\n",
       "    .dataframe tbody tr th:only-of-type {\n",
       "        vertical-align: middle;\n",
       "    }\n",
       "\n",
       "    .dataframe tbody tr th {\n",
       "        vertical-align: top;\n",
       "    }\n",
       "\n",
       "    .dataframe thead th {\n",
       "        text-align: right;\n",
       "    }\n",
       "</style>\n",
       "<table border=\"1\" class=\"dataframe\">\n",
       "  <thead>\n",
       "    <tr style=\"text-align: right;\">\n",
       "      <th></th>\n",
       "      <th>Sample</th>\n",
       "      <th>Cluster</th>\n",
       "    </tr>\n",
       "  </thead>\n",
       "  <tbody>\n",
       "    <tr>\n",
       "      <th>0</th>\n",
       "      <td>AADS.01A</td>\n",
       "      <td>Cluster High</td>\n",
       "    </tr>\n",
       "    <tr>\n",
       "      <th>1</th>\n",
       "      <td>A95S.01A</td>\n",
       "      <td>Cluster High</td>\n",
       "    </tr>\n",
       "    <tr>\n",
       "      <th>2</th>\n",
       "      <td>A114.01A</td>\n",
       "      <td>Cluster High</td>\n",
       "    </tr>\n",
       "    <tr>\n",
       "      <th>3</th>\n",
       "      <td>AAVX.01A</td>\n",
       "      <td>Cluster High</td>\n",
       "    </tr>\n",
       "    <tr>\n",
       "      <th>4</th>\n",
       "      <td>EX128.ARN217</td>\n",
       "      <td>Cluster High</td>\n",
       "    </tr>\n",
       "  </tbody>\n",
       "</table>\n",
       "</div>"
      ],
      "text/plain": [
       "         Sample       Cluster\n",
       "0      AADS.01A  Cluster High\n",
       "1      A95S.01A  Cluster High\n",
       "2      A114.01A  Cluster High\n",
       "3      AAVX.01A  Cluster High\n",
       "4  EX128.ARN217  Cluster High"
      ]
     },
     "metadata": {},
     "output_type": "display_data"
    }
   ],
   "source": [
    "df_merged = pd.read_csv(os.path.join(path, file))\n",
    "print(df_merged.shape)\n",
    "display(df_merged.head(5))"
   ]
  },
  {
   "cell_type": "code",
   "execution_count": 154,
   "metadata": {},
   "outputs": [
    {
     "name": "stdout",
     "output_type": "stream",
     "text": [
      "(340, 2)\n"
     ]
    },
    {
     "data": {
      "text/html": [
       "<div>\n",
       "<style scoped>\n",
       "    .dataframe tbody tr th:only-of-type {\n",
       "        vertical-align: middle;\n",
       "    }\n",
       "\n",
       "    .dataframe tbody tr th {\n",
       "        vertical-align: top;\n",
       "    }\n",
       "\n",
       "    .dataframe thead th {\n",
       "        text-align: right;\n",
       "    }\n",
       "</style>\n",
       "<table border=\"1\" class=\"dataframe\">\n",
       "  <thead>\n",
       "    <tr style=\"text-align: right;\">\n",
       "      <th></th>\n",
       "      <th>Sample</th>\n",
       "      <th>Cluster</th>\n",
       "    </tr>\n",
       "  </thead>\n",
       "  <tbody>\n",
       "    <tr>\n",
       "      <th>0</th>\n",
       "      <td>AADN.01A</td>\n",
       "      <td>Cluster High</td>\n",
       "    </tr>\n",
       "    <tr>\n",
       "      <th>1</th>\n",
       "      <td>AACI.01A</td>\n",
       "      <td>Cluster High</td>\n",
       "    </tr>\n",
       "    <tr>\n",
       "      <th>2</th>\n",
       "      <td>A5RG.01A</td>\n",
       "      <td>Cluster High</td>\n",
       "    </tr>\n",
       "    <tr>\n",
       "      <th>3</th>\n",
       "      <td>AACC.01A</td>\n",
       "      <td>Cluster High</td>\n",
       "    </tr>\n",
       "    <tr>\n",
       "      <th>4</th>\n",
       "      <td>AADS.01A</td>\n",
       "      <td>Cluster High</td>\n",
       "    </tr>\n",
       "  </tbody>\n",
       "</table>\n",
       "</div>"
      ],
      "text/plain": [
       "     Sample       Cluster\n",
       "0  AADN.01A  Cluster High\n",
       "1  AACI.01A  Cluster High\n",
       "2  A5RG.01A  Cluster High\n",
       "3  AACC.01A  Cluster High\n",
       "4  AADS.01A  Cluster High"
      ]
     },
     "metadata": {},
     "output_type": "display_data"
    }
   ],
   "source": [
    "df_tcga = pd.read_csv(os.path.join(path_tcga, file))\n",
    "print(df_tcga.shape)\n",
    "display(df_tcga.head(5))"
   ]
  },
  {
   "cell_type": "code",
   "execution_count": 155,
   "metadata": {},
   "outputs": [
    {
     "name": "stdout",
     "output_type": "stream",
     "text": [
      "(155, 2)\n"
     ]
    },
    {
     "data": {
      "text/html": [
       "<div>\n",
       "<style scoped>\n",
       "    .dataframe tbody tr th:only-of-type {\n",
       "        vertical-align: middle;\n",
       "    }\n",
       "\n",
       "    .dataframe tbody tr th {\n",
       "        vertical-align: top;\n",
       "    }\n",
       "\n",
       "    .dataframe thead th {\n",
       "        text-align: right;\n",
       "    }\n",
       "</style>\n",
       "<table border=\"1\" class=\"dataframe\">\n",
       "  <thead>\n",
       "    <tr style=\"text-align: right;\">\n",
       "      <th></th>\n",
       "      <th>Sample</th>\n",
       "      <th>Cluster</th>\n",
       "    </tr>\n",
       "  </thead>\n",
       "  <tbody>\n",
       "    <tr>\n",
       "      <th>0</th>\n",
       "      <td>EX128.ARN191</td>\n",
       "      <td>Cluster High</td>\n",
       "    </tr>\n",
       "    <tr>\n",
       "      <th>1</th>\n",
       "      <td>EX128.ARN250</td>\n",
       "      <td>Cluster High</td>\n",
       "    </tr>\n",
       "    <tr>\n",
       "      <th>2</th>\n",
       "      <td>EX128.ARN268</td>\n",
       "      <td>Cluster High</td>\n",
       "    </tr>\n",
       "    <tr>\n",
       "      <th>3</th>\n",
       "      <td>EX128.ARN236</td>\n",
       "      <td>Cluster High</td>\n",
       "    </tr>\n",
       "    <tr>\n",
       "      <th>4</th>\n",
       "      <td>EX128.ARN275</td>\n",
       "      <td>Cluster High</td>\n",
       "    </tr>\n",
       "  </tbody>\n",
       "</table>\n",
       "</div>"
      ],
      "text/plain": [
       "         Sample       Cluster\n",
       "0  EX128.ARN191  Cluster High\n",
       "1  EX128.ARN250  Cluster High\n",
       "2  EX128.ARN268  Cluster High\n",
       "3  EX128.ARN236  Cluster High\n",
       "4  EX128.ARN275  Cluster High"
      ]
     },
     "metadata": {},
     "output_type": "display_data"
    }
   ],
   "source": [
    "df_mondor = pd.read_csv(os.path.join(path_mondor, file))\n",
    "print(df_mondor.shape)\n",
    "display(df_mondor.head(5))"
   ]
  },
  {
   "cell_type": "markdown",
   "metadata": {},
   "source": [
    "### Merge sample clusters of tcga and mondor (separate, individual)"
   ]
  },
  {
   "cell_type": "code",
   "execution_count": 156,
   "metadata": {},
   "outputs": [
    {
     "name": "stdout",
     "output_type": "stream",
     "text": [
      "(495, 2)\n"
     ]
    },
    {
     "data": {
      "text/html": [
       "<div>\n",
       "<style scoped>\n",
       "    .dataframe tbody tr th:only-of-type {\n",
       "        vertical-align: middle;\n",
       "    }\n",
       "\n",
       "    .dataframe tbody tr th {\n",
       "        vertical-align: top;\n",
       "    }\n",
       "\n",
       "    .dataframe thead th {\n",
       "        text-align: right;\n",
       "    }\n",
       "</style>\n",
       "<table border=\"1\" class=\"dataframe\">\n",
       "  <thead>\n",
       "    <tr style=\"text-align: right;\">\n",
       "      <th></th>\n",
       "      <th>Sample</th>\n",
       "      <th>Cluster</th>\n",
       "    </tr>\n",
       "  </thead>\n",
       "  <tbody>\n",
       "    <tr>\n",
       "      <th>0</th>\n",
       "      <td>AADN.01A</td>\n",
       "      <td>Cluster High</td>\n",
       "    </tr>\n",
       "    <tr>\n",
       "      <th>1</th>\n",
       "      <td>AACI.01A</td>\n",
       "      <td>Cluster High</td>\n",
       "    </tr>\n",
       "    <tr>\n",
       "      <th>2</th>\n",
       "      <td>A5RG.01A</td>\n",
       "      <td>Cluster High</td>\n",
       "    </tr>\n",
       "    <tr>\n",
       "      <th>3</th>\n",
       "      <td>AACC.01A</td>\n",
       "      <td>Cluster High</td>\n",
       "    </tr>\n",
       "    <tr>\n",
       "      <th>4</th>\n",
       "      <td>AADS.01A</td>\n",
       "      <td>Cluster High</td>\n",
       "    </tr>\n",
       "  </tbody>\n",
       "</table>\n",
       "</div>"
      ],
      "text/plain": [
       "     Sample       Cluster\n",
       "0  AADN.01A  Cluster High\n",
       "1  AACI.01A  Cluster High\n",
       "2  A5RG.01A  Cluster High\n",
       "3  AACC.01A  Cluster High\n",
       "4  AADS.01A  Cluster High"
      ]
     },
     "metadata": {},
     "output_type": "display_data"
    }
   ],
   "source": [
    "df_sep = pd.concat([df_tcga, df_mondor], ignore_index=True)\n",
    "print(df_sep.shape)\n",
    "display(df_sep.head(5))"
   ]
  },
  {
   "cell_type": "markdown",
   "metadata": {},
   "source": [
    "### Extract sample IDs of \"Cluster High\" and \"Cluster Median + Low\" as list"
   ]
  },
  {
   "cell_type": "code",
   "execution_count": 157,
   "metadata": {},
   "outputs": [
    {
     "name": "stdout",
     "output_type": "stream",
     "text": [
      "Individually clustering: 49 Cluster High\n",
      "Individually clustering: 446 Cluster Median + Low\n"
     ]
    }
   ],
   "source": [
    "# individual\n",
    "ind_h = set(df_sep[df_sep['Cluster']=='Cluster High']['Sample'].to_list())\n",
    "print(\"Individually clustering: \" + str(len(ind_h)) + \" Cluster High\")\n",
    "\n",
    "ind_ml = df_sep[df_sep['Cluster']=='Cluster Median']['Sample'].to_list()\n",
    "ind_ml.extend(df_sep[df_sep['Cluster']=='Cluster Low']['Sample'].to_list())\n",
    "ind_ml = set(ind_ml)\n",
    "print(\"Individually clustering: \" + str(len(ind_ml)) + \" Cluster Median + Low\")"
   ]
  },
  {
   "cell_type": "code",
   "execution_count": 158,
   "metadata": {},
   "outputs": [
    {
     "name": "stdout",
     "output_type": "stream",
     "text": [
      "Merged then clustering: 67 Cluster High\n",
      "Merged then clustering: 428 Cluster Median + Low\n"
     ]
    }
   ],
   "source": [
    "mer_h = set(df_merged[df_merged['Cluster']=='Cluster High']['Sample'].to_list())\n",
    "print(\"Merged then clustering: \" + str(len(mer_h)) + \" Cluster High\")\n",
    "\n",
    "mer_ml = df_merged[df_merged['Cluster']=='Cluster Median']['Sample'].to_list()\n",
    "mer_ml.extend(df_merged[df_merged['Cluster']=='Cluster Low']['Sample'].to_list())\n",
    "mer_ml = set(mer_ml)\n",
    "print(\"Merged then clustering: \" + str(len(mer_ml)) + \" Cluster Median + Low\")"
   ]
  },
  {
   "cell_type": "markdown",
   "metadata": {},
   "source": [
    "### Count tp, fp, tn and fn"
   ]
  },
  {
   "cell_type": "code",
   "execution_count": 159,
   "metadata": {},
   "outputs": [
    {
     "name": "stdout",
     "output_type": "stream",
     "text": [
      "tp: 47\n",
      "fp: 2\n",
      "tn: 426\n",
      "fn: 20\n"
     ]
    }
   ],
   "source": [
    "tp = list(ind_h.intersection(mer_h))\n",
    "print(\"tp: \" + str(len(tp)))\n",
    "fp = list(ind_h.intersection(mer_ml))\n",
    "print(\"fp: \" + str(len(fp)))\n",
    "tn = list(ind_ml.intersection(mer_ml))\n",
    "print(\"tn: \" + str(len(tn)))\n",
    "fn = list(ind_ml.intersection(mer_h))\n",
    "print(\"fn: \" + str(len(fn)))"
   ]
  },
  {
   "cell_type": "markdown",
   "metadata": {},
   "source": [
    "### Summarize comparative results and export"
   ]
  },
  {
   "cell_type": "code",
   "execution_count": 160,
   "metadata": {},
   "outputs": [
    {
     "name": "stdout",
     "output_type": "stream",
     "text": [
      "(495, 4)\n"
     ]
    },
    {
     "data": {
      "text/html": [
       "<div>\n",
       "<style scoped>\n",
       "    .dataframe tbody tr th:only-of-type {\n",
       "        vertical-align: middle;\n",
       "    }\n",
       "\n",
       "    .dataframe tbody tr th {\n",
       "        vertical-align: top;\n",
       "    }\n",
       "\n",
       "    .dataframe thead th {\n",
       "        text-align: right;\n",
       "    }\n",
       "</style>\n",
       "<table border=\"1\" class=\"dataframe\">\n",
       "  <thead>\n",
       "    <tr style=\"text-align: right;\">\n",
       "      <th></th>\n",
       "      <th>Sample</th>\n",
       "      <th>Label</th>\n",
       "      <th>Individually clustering</th>\n",
       "      <th>Merged then clustering</th>\n",
       "    </tr>\n",
       "  </thead>\n",
       "  <tbody>\n",
       "    <tr>\n",
       "      <th>0</th>\n",
       "      <td>A9GT.01A</td>\n",
       "      <td>tp</td>\n",
       "      <td>Cluster High</td>\n",
       "      <td>Cluster High</td>\n",
       "    </tr>\n",
       "    <tr>\n",
       "      <th>1</th>\n",
       "      <td>A5RG.01A</td>\n",
       "      <td>tp</td>\n",
       "      <td>Cluster High</td>\n",
       "      <td>Cluster High</td>\n",
       "    </tr>\n",
       "    <tr>\n",
       "      <th>2</th>\n",
       "      <td>EX128.ARN236</td>\n",
       "      <td>tp</td>\n",
       "      <td>Cluster High</td>\n",
       "      <td>Cluster High</td>\n",
       "    </tr>\n",
       "    <tr>\n",
       "      <th>3</th>\n",
       "      <td>AADO.01A</td>\n",
       "      <td>tp</td>\n",
       "      <td>Cluster High</td>\n",
       "      <td>Cluster High</td>\n",
       "    </tr>\n",
       "    <tr>\n",
       "      <th>4</th>\n",
       "      <td>A5NQ.01A</td>\n",
       "      <td>tp</td>\n",
       "      <td>Cluster High</td>\n",
       "      <td>Cluster High</td>\n",
       "    </tr>\n",
       "  </tbody>\n",
       "</table>\n",
       "</div>"
      ],
      "text/plain": [
       "         Sample Label Individually clustering Merged then clustering\n",
       "0      A9GT.01A    tp            Cluster High           Cluster High\n",
       "1      A5RG.01A    tp            Cluster High           Cluster High\n",
       "2  EX128.ARN236    tp            Cluster High           Cluster High\n",
       "3      AADO.01A    tp            Cluster High           Cluster High\n",
       "4      A5NQ.01A    tp            Cluster High           Cluster High"
      ]
     },
     "metadata": {},
     "output_type": "display_data"
    }
   ],
   "source": [
    "df_res = pd.DataFrame({'Sample': tp + fp + tn + fn, \n",
    "                       'Label': ['tp']*len(tp) + ['fp']*len(fp) + ['tn']*len(tn) + ['fn']*len(fn), \n",
    "                       'Individually clustering': ['Cluster High']*len(tp) + ['Cluster High']*len(fp) + ['Cluster Median + Low']*len(tn) + (['Cluster Median + Low']*len(fn)), \n",
    "                       'Merged then clustering':['Cluster High']*len(tp) + ['Cluster Median + Low']*len(fp) + ['Cluster Median + Low']*len(tn) + ['Cluster High']*len(fn)})\n",
    "print(df_res.shape)\n",
    "display(df_res.head(5))"
   ]
  },
  {
   "cell_type": "code",
   "execution_count": 161,
   "metadata": {},
   "outputs": [],
   "source": [
    "df_res.to_csv(os.path.join(path, \"merged_compare_sample_cluster_\"+gene_sign+\".csv\"), index=False)"
   ]
  },
  {
   "cell_type": "markdown",
   "metadata": {},
   "source": [
    "### Confusion matrix"
   ]
  },
  {
   "cell_type": "code",
   "execution_count": 162,
   "metadata": {},
   "outputs": [],
   "source": [
    "data = [len(tp), len(fn), len(fp), len(tn)]\n",
    "data = np.reshape(data,(2,2))\n",
    "\n",
    "labels = [\"High\", \"Low + Median\"]"
   ]
  },
  {
   "cell_type": "code",
   "execution_count": 163,
   "metadata": {},
   "outputs": [
    {
     "data": {
      "text/plain": [
       "[]"
      ]
     },
     "execution_count": 163,
     "metadata": {},
     "output_type": "execute_result"
    },
    {
     "data": {
      "image/png": "[encoded data removed]",
      "text/plain": [
       "<Figure size 432x288 with 2 Axes>"
      ]
     },
     "metadata": {},
     "output_type": "display_data"
    }
   ],
   "source": [
    "seaborn.set(color_codes=True)\n",
    "#    plt.figure(1, figsize=(9, 6))\n",
    "\n",
    "plt.title(\"Confusion Matrix\")\n",
    "\n",
    "seaborn.set(font_scale=1.4)\n",
    "# ax = seaborn.heatmap(data_mean, annot=True, cmap=\"YlGnBu\", cbar_kws={'label': 'slide amount'}, fmt=\".2f\")\n",
    "ax = seaborn.heatmap(data, annot=True, cmap=\"YlGnBu\", cbar_kws={'label': 'tumor amount'}, square=True,\n",
    "                     fmt = 'd')\n",
    "\n",
    "ax.set_xticklabels(labels)\n",
    "ax.set_yticklabels(labels)\n",
    "\n",
    "ax.set(ylabel=\"Merged then clustering\", \n",
    "       xlabel=\"Individually clustering\")\n",
    "\n",
    "plt.savefig(os.path.join(path, \"merged_compare_sample_cluster_\"+gene_sign+\"_confusion_matrix.png\"), bbox_inches='tight', dpi=300)\n",
    "plt.plot()"
   ]
  },
  {
   "cell_type": "code",
   "execution_count": null,
   "metadata": {},
   "outputs": [],
   "source": []
  }
 ],
 "metadata": {
  "kernelspec": {
   "display_name": "Python 3",
   "language": "python",
   "name": "python3"
  },
  "language_info": {
   "codemirror_mode": {
    "name": "ipython",
    "version": 3
   },
   "file_extension": ".py",
   "mimetype": "text/x-python",
   "name": "python",
   "nbconvert_exporter": "python",
   "pygments_lexer": "ipython3",
   "version": "3.8.3"
  }
 },
 "nbformat": 4,
 "nbformat_minor": 4
}
