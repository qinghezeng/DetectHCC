{
 "cells": [
  {
   "cell_type": "code",
   "execution_count": 61,
   "metadata": {},
   "outputs": [],
   "source": [
    "import pandas as pd\n",
    "import numpy as np\n",
    "from lifelines import KaplanMeierFitter\n",
    "from matplotlib import pyplot as plt\n",
    "from lifelines.plotting import add_at_risk_counts, plot_lifetimes\n",
    "from lifelines.statistics import logrank_test, multivariate_logrank_test, pairwise_logrank_test, proportional_hazard_test\n",
    "from lifelines import CoxPHFitter\n",
    "from lifelines import NelsonAalenFitter"
   ]
  },
  {
   "cell_type": "code",
   "execution_count": 62,
   "metadata": {},
   "outputs": [],
   "source": [
    "input_path = \"E:\\\\deeplearning\\\\Hepatocarcinomes\\\\TCGA\\\\\"\n",
    "out_path = input_path + \"heatmap\\\\survival\\\\\""
   ]
  },
  {
   "cell_type": "code",
   "execution_count": 88,
   "metadata": {},
   "outputs": [],
   "source": [
    "clusters = pd.read_csv(input_path + '\\\\heatmap\\\\consensus_sample_clusters_filtered-sangro_median_km_euclidean_2_3.csv', sep=',')\n",
    "os = pd.read_csv(input_path + '\\\\processed\\\\Overall_Survival_legacy.txt', sep='\\t')\n",
    "dfs = pd.read_csv(input_path + '\\\\processed\\\\Disease_Free_Survival_legacy.txt', sep='\\t')"
   ]
  },
  {
   "cell_type": "code",
   "execution_count": 89,
   "metadata": {},
   "outputs": [
    {
     "name": "stdout",
     "output_type": "stream",
     "text": [
      "(340, 2)\n"
     ]
    },
    {
     "data": {
      "text/html": [
       "<div>\n",
       "<style scoped>\n",
       "    .dataframe tbody tr th:only-of-type {\n",
       "        vertical-align: middle;\n",
       "    }\n",
       "\n",
       "    .dataframe tbody tr th {\n",
       "        vertical-align: top;\n",
       "    }\n",
       "\n",
       "    .dataframe thead th {\n",
       "        text-align: right;\n",
       "    }\n",
       "</style>\n",
       "<table border=\"1\" class=\"dataframe\">\n",
       "  <thead>\n",
       "    <tr style=\"text-align: right;\">\n",
       "      <th></th>\n",
       "      <th>Sample</th>\n",
       "      <th>Cluster</th>\n",
       "    </tr>\n",
       "  </thead>\n",
       "  <tbody>\n",
       "    <tr>\n",
       "      <th>0</th>\n",
       "      <td>AADA.01A</td>\n",
       "      <td>Cluster 01</td>\n",
       "    </tr>\n",
       "    <tr>\n",
       "      <th>1</th>\n",
       "      <td>A5SJ.01A</td>\n",
       "      <td>Cluster 01</td>\n",
       "    </tr>\n",
       "    <tr>\n",
       "      <th>2</th>\n",
       "      <td>AACF.01A</td>\n",
       "      <td>Cluster 01</td>\n",
       "    </tr>\n",
       "    <tr>\n",
       "      <th>3</th>\n",
       "      <td>A5NO.01A</td>\n",
       "      <td>Cluster 01</td>\n",
       "    </tr>\n",
       "    <tr>\n",
       "      <th>4</th>\n",
       "      <td>AAE0.01A</td>\n",
       "      <td>Cluster 01</td>\n",
       "    </tr>\n",
       "  </tbody>\n",
       "</table>\n",
       "</div>"
      ],
      "text/plain": [
       "     Sample     Cluster\n",
       "0  AADA.01A  Cluster 01\n",
       "1  A5SJ.01A  Cluster 01\n",
       "2  AACF.01A  Cluster 01\n",
       "3  A5NO.01A  Cluster 01\n",
       "4  AAE0.01A  Cluster 01"
      ]
     },
     "metadata": {},
     "output_type": "display_data"
    },
    {
     "name": "stdout",
     "output_type": "stream",
     "text": [
      "\n",
      "(440, 4)\n"
     ]
    },
    {
     "data": {
      "text/html": [
       "<div>\n",
       "<style scoped>\n",
       "    .dataframe tbody tr th:only-of-type {\n",
       "        vertical-align: middle;\n",
       "    }\n",
       "\n",
       "    .dataframe tbody tr th {\n",
       "        vertical-align: top;\n",
       "    }\n",
       "\n",
       "    .dataframe thead th {\n",
       "        text-align: right;\n",
       "    }\n",
       "</style>\n",
       "<table border=\"1\" class=\"dataframe\">\n",
       "  <thead>\n",
       "    <tr style=\"text-align: right;\">\n",
       "      <th></th>\n",
       "      <th>Study ID</th>\n",
       "      <th>Patient ID</th>\n",
       "      <th>OS_STATUS</th>\n",
       "      <th>OS_MONTHS</th>\n",
       "    </tr>\n",
       "  </thead>\n",
       "  <tbody>\n",
       "    <tr>\n",
       "      <th>0</th>\n",
       "      <td>lihc_tcga</td>\n",
       "      <td>TCGA-2V-A95S</td>\n",
       "      <td>0:LIVING</td>\n",
       "      <td>NaN</td>\n",
       "    </tr>\n",
       "    <tr>\n",
       "      <th>1</th>\n",
       "      <td>lihc_tcga</td>\n",
       "      <td>TCGA-2Y-A9GS</td>\n",
       "      <td>1:DECEASED</td>\n",
       "      <td>23.78</td>\n",
       "    </tr>\n",
       "    <tr>\n",
       "      <th>2</th>\n",
       "      <td>lihc_tcga</td>\n",
       "      <td>TCGA-2Y-A9GT</td>\n",
       "      <td>1:DECEASED</td>\n",
       "      <td>53.35</td>\n",
       "    </tr>\n",
       "    <tr>\n",
       "      <th>3</th>\n",
       "      <td>lihc_tcga</td>\n",
       "      <td>TCGA-2Y-A9GU</td>\n",
       "      <td>0:LIVING</td>\n",
       "      <td>63.70</td>\n",
       "    </tr>\n",
       "    <tr>\n",
       "      <th>4</th>\n",
       "      <td>lihc_tcga</td>\n",
       "      <td>TCGA-2Y-A9GV</td>\n",
       "      <td>1:DECEASED</td>\n",
       "      <td>83.18</td>\n",
       "    </tr>\n",
       "  </tbody>\n",
       "</table>\n",
       "</div>"
      ],
      "text/plain": [
       "    Study ID    Patient ID   OS_STATUS  OS_MONTHS\n",
       "0  lihc_tcga  TCGA-2V-A95S    0:LIVING        NaN\n",
       "1  lihc_tcga  TCGA-2Y-A9GS  1:DECEASED      23.78\n",
       "2  lihc_tcga  TCGA-2Y-A9GT  1:DECEASED      53.35\n",
       "3  lihc_tcga  TCGA-2Y-A9GU    0:LIVING      63.70\n",
       "4  lihc_tcga  TCGA-2Y-A9GV  1:DECEASED      83.18"
      ]
     },
     "metadata": {},
     "output_type": "display_data"
    },
    {
     "name": "stdout",
     "output_type": "stream",
     "text": [
      "\n",
      "(440, 4)\n"
     ]
    },
    {
     "data": {
      "text/html": [
       "<div>\n",
       "<style scoped>\n",
       "    .dataframe tbody tr th:only-of-type {\n",
       "        vertical-align: middle;\n",
       "    }\n",
       "\n",
       "    .dataframe tbody tr th {\n",
       "        vertical-align: top;\n",
       "    }\n",
       "\n",
       "    .dataframe thead th {\n",
       "        text-align: right;\n",
       "    }\n",
       "</style>\n",
       "<table border=\"1\" class=\"dataframe\">\n",
       "  <thead>\n",
       "    <tr style=\"text-align: right;\">\n",
       "      <th></th>\n",
       "      <th>Study ID</th>\n",
       "      <th>Patient ID</th>\n",
       "      <th>DFS_STATUS</th>\n",
       "      <th>DFS_MONTHS</th>\n",
       "    </tr>\n",
       "  </thead>\n",
       "  <tbody>\n",
       "    <tr>\n",
       "      <th>0</th>\n",
       "      <td>lihc_tcga</td>\n",
       "      <td>TCGA-2V-A95S</td>\n",
       "      <td>0:DiseaseFree</td>\n",
       "      <td>NaN</td>\n",
       "    </tr>\n",
       "    <tr>\n",
       "      <th>1</th>\n",
       "      <td>lihc_tcga</td>\n",
       "      <td>TCGA-2Y-A9GS</td>\n",
       "      <td>1:Recurred/Progressed</td>\n",
       "      <td>3.35</td>\n",
       "    </tr>\n",
       "    <tr>\n",
       "      <th>2</th>\n",
       "      <td>lihc_tcga</td>\n",
       "      <td>TCGA-2Y-A9GT</td>\n",
       "      <td>1:Recurred/Progressed</td>\n",
       "      <td>35.58</td>\n",
       "    </tr>\n",
       "    <tr>\n",
       "      <th>3</th>\n",
       "      <td>lihc_tcga</td>\n",
       "      <td>TCGA-2Y-A9GU</td>\n",
       "      <td>0:DiseaseFree</td>\n",
       "      <td>63.70</td>\n",
       "    </tr>\n",
       "    <tr>\n",
       "      <th>4</th>\n",
       "      <td>lihc_tcga</td>\n",
       "      <td>TCGA-2Y-A9GV</td>\n",
       "      <td>1:Recurred/Progressed</td>\n",
       "      <td>71.91</td>\n",
       "    </tr>\n",
       "  </tbody>\n",
       "</table>\n",
       "</div>"
      ],
      "text/plain": [
       "    Study ID    Patient ID             DFS_STATUS  DFS_MONTHS\n",
       "0  lihc_tcga  TCGA-2V-A95S          0:DiseaseFree         NaN\n",
       "1  lihc_tcga  TCGA-2Y-A9GS  1:Recurred/Progressed        3.35\n",
       "2  lihc_tcga  TCGA-2Y-A9GT  1:Recurred/Progressed       35.58\n",
       "3  lihc_tcga  TCGA-2Y-A9GU          0:DiseaseFree       63.70\n",
       "4  lihc_tcga  TCGA-2Y-A9GV  1:Recurred/Progressed       71.91"
      ]
     },
     "metadata": {},
     "output_type": "display_data"
    },
    {
     "name": "stdout",
     "output_type": "stream",
     "text": [
      "\n"
     ]
    }
   ],
   "source": [
    "print(clusters.shape) # (340, 2)\n",
    "display(clusters.head(5))\n",
    "print()\n",
    "print(os.shape) # (340, 2)\n",
    "display(os.head(5))\n",
    "print()\n",
    "print(dfs.shape) # (340, 2)\n",
    "display(dfs.head(5))\n",
    "print()"
   ]
  },
  {
   "cell_type": "markdown",
   "metadata": {},
   "source": [
    "### Extract survival data"
   ]
  },
  {
   "cell_type": "code",
   "execution_count": 90,
   "metadata": {},
   "outputs": [],
   "source": [
    "def exact_info(df, item):\n",
    "    i=0\n",
    "    clusters[item] = ''\n",
    "    for sample in clusters[\"Sample\"]:\n",
    "        info = set(df[df['Patient ID'].str.contains(sample[:-4][-4:])][item])\n",
    "        if len(info) != 1 :\n",
    "#             raise ValueError('Multiple or no values found.')\n",
    "            i=i+1\n",
    "        else:\n",
    "            info = list(info)[0]\n",
    "            clusters.loc[clusters[\"Sample\"]==sample, item] = info\n",
    "    return i # count of samples not found"
   ]
  },
  {
   "cell_type": "code",
   "execution_count": 91,
   "metadata": {},
   "outputs": [
    {
     "name": "stdout",
     "output_type": "stream",
     "text": [
      "0\n",
      "0\n"
     ]
    }
   ],
   "source": [
    "print(exact_info(df = os, item = 'OS_STATUS'))\n",
    "print(exact_info(df = os, item = 'OS_MONTHS'))"
   ]
  },
  {
   "cell_type": "code",
   "execution_count": 92,
   "metadata": {},
   "outputs": [
    {
     "name": "stdout",
     "output_type": "stream",
     "text": [
      "0\n",
      "0\n"
     ]
    }
   ],
   "source": [
    "print(exact_info(df = dfs, item = 'DFS_STATUS'))\n",
    "print(exact_info(df = dfs, item = 'DFS_MONTHS'))"
   ]
  },
  {
   "cell_type": "code",
   "execution_count": 93,
   "metadata": {},
   "outputs": [
    {
     "name": "stdout",
     "output_type": "stream",
     "text": [
      "(340, 6)\n"
     ]
    },
    {
     "data": {
      "text/html": [
       "<div>\n",
       "<style scoped>\n",
       "    .dataframe tbody tr th:only-of-type {\n",
       "        vertical-align: middle;\n",
       "    }\n",
       "\n",
       "    .dataframe tbody tr th {\n",
       "        vertical-align: top;\n",
       "    }\n",
       "\n",
       "    .dataframe thead th {\n",
       "        text-align: right;\n",
       "    }\n",
       "</style>\n",
       "<table border=\"1\" class=\"dataframe\">\n",
       "  <thead>\n",
       "    <tr style=\"text-align: right;\">\n",
       "      <th></th>\n",
       "      <th>Sample</th>\n",
       "      <th>Cluster</th>\n",
       "      <th>OS_STATUS</th>\n",
       "      <th>OS_MONTHS</th>\n",
       "      <th>DFS_STATUS</th>\n",
       "      <th>DFS_MONTHS</th>\n",
       "    </tr>\n",
       "  </thead>\n",
       "  <tbody>\n",
       "    <tr>\n",
       "      <th>0</th>\n",
       "      <td>AADA.01A</td>\n",
       "      <td>Cluster 01</td>\n",
       "      <td>0:LIVING</td>\n",
       "      <td>40.51</td>\n",
       "      <td>0:DiseaseFree</td>\n",
       "      <td>40.51</td>\n",
       "    </tr>\n",
       "    <tr>\n",
       "      <th>1</th>\n",
       "      <td>A5SJ.01A</td>\n",
       "      <td>Cluster 01</td>\n",
       "      <td>0:LIVING</td>\n",
       "      <td>22.93</td>\n",
       "      <td>1:Recurred/Progressed</td>\n",
       "      <td>10.12</td>\n",
       "    </tr>\n",
       "    <tr>\n",
       "      <th>2</th>\n",
       "      <td>AACF.01A</td>\n",
       "      <td>Cluster 01</td>\n",
       "      <td>1:DECEASED</td>\n",
       "      <td>11.99</td>\n",
       "      <td>1:Recurred/Progressed</td>\n",
       "      <td>3.91</td>\n",
       "    </tr>\n",
       "    <tr>\n",
       "      <th>3</th>\n",
       "      <td>A5NO.01A</td>\n",
       "      <td>Cluster 01</td>\n",
       "      <td>0:LIVING</td>\n",
       "      <td>0.66</td>\n",
       "      <td>0:DiseaseFree</td>\n",
       "      <td>0.66</td>\n",
       "    </tr>\n",
       "    <tr>\n",
       "      <th>4</th>\n",
       "      <td>AAE0.01A</td>\n",
       "      <td>Cluster 01</td>\n",
       "      <td>0:LIVING</td>\n",
       "      <td>18.23</td>\n",
       "      <td>0:DiseaseFree</td>\n",
       "      <td>18.23</td>\n",
       "    </tr>\n",
       "  </tbody>\n",
       "</table>\n",
       "</div>"
      ],
      "text/plain": [
       "     Sample     Cluster   OS_STATUS OS_MONTHS             DFS_STATUS  \\\n",
       "0  AADA.01A  Cluster 01    0:LIVING     40.51          0:DiseaseFree   \n",
       "1  A5SJ.01A  Cluster 01    0:LIVING     22.93  1:Recurred/Progressed   \n",
       "2  AACF.01A  Cluster 01  1:DECEASED     11.99  1:Recurred/Progressed   \n",
       "3  A5NO.01A  Cluster 01    0:LIVING      0.66          0:DiseaseFree   \n",
       "4  AAE0.01A  Cluster 01    0:LIVING     18.23          0:DiseaseFree   \n",
       "\n",
       "  DFS_MONTHS  \n",
       "0      40.51  \n",
       "1      10.12  \n",
       "2       3.91  \n",
       "3       0.66  \n",
       "4      18.23  "
      ]
     },
     "metadata": {},
     "output_type": "display_data"
    },
    {
     "name": "stdout",
     "output_type": "stream",
     "text": [
      "\n"
     ]
    }
   ],
   "source": [
    "print(clusters.shape) # (340, 2)\n",
    "display(clusters.head(5))\n",
    "print()"
   ]
  },
  {
   "cell_type": "markdown",
   "metadata": {},
   "source": [
    "### Preprocess"
   ]
  },
  {
   "cell_type": "code",
   "execution_count": 94,
   "metadata": {},
   "outputs": [],
   "source": [
    "for i in range(len(clusters)):\n",
    "    clusters.loc[i,'OS_STATUS'] = clusters.loc[i,'OS_STATUS'][0]\n",
    "    try:\n",
    "        clusters.loc[i,'DFS_STATUS'] = clusters.loc[i,'DFS_STATUS'][0]\n",
    "    except:\n",
    "        pass"
   ]
  },
  {
   "cell_type": "code",
   "execution_count": 95,
   "metadata": {},
   "outputs": [
    {
     "data": {
      "text/plain": [
       "Sample        object\n",
       "Cluster       object\n",
       "OS_STATUS     object\n",
       "OS_MONTHS     object\n",
       "DFS_STATUS    object\n",
       "DFS_MONTHS    object\n",
       "dtype: object"
      ]
     },
     "metadata": {},
     "output_type": "display_data"
    },
    {
     "data": {
      "text/plain": [
       "Sample         object\n",
       "Cluster        object\n",
       "OS_STATUS     float64\n",
       "OS_MONTHS     float64\n",
       "DFS_STATUS    float64\n",
       "DFS_MONTHS    float64\n",
       "dtype: object"
      ]
     },
     "metadata": {},
     "output_type": "display_data"
    }
   ],
   "source": [
    "display(clusters.dtypes)\n",
    "clusters = clusters.astype({'OS_STATUS':'float64', 'OS_MONTHS':'float64', 'DFS_STATUS':'float64', 'DFS_MONTHS':'float64'})\n",
    "display(clusters.dtypes)"
   ]
  },
  {
   "cell_type": "code",
   "execution_count": 96,
   "metadata": {},
   "outputs": [
    {
     "name": "stdout",
     "output_type": "stream",
     "text": [
      "(340, 6)\n"
     ]
    },
    {
     "data": {
      "text/html": [
       "<div>\n",
       "<style scoped>\n",
       "    .dataframe tbody tr th:only-of-type {\n",
       "        vertical-align: middle;\n",
       "    }\n",
       "\n",
       "    .dataframe tbody tr th {\n",
       "        vertical-align: top;\n",
       "    }\n",
       "\n",
       "    .dataframe thead th {\n",
       "        text-align: right;\n",
       "    }\n",
       "</style>\n",
       "<table border=\"1\" class=\"dataframe\">\n",
       "  <thead>\n",
       "    <tr style=\"text-align: right;\">\n",
       "      <th></th>\n",
       "      <th>Sample</th>\n",
       "      <th>Cluster</th>\n",
       "      <th>OS_STATUS</th>\n",
       "      <th>OS_MONTHS</th>\n",
       "      <th>DFS_STATUS</th>\n",
       "      <th>DFS_MONTHS</th>\n",
       "    </tr>\n",
       "  </thead>\n",
       "  <tbody>\n",
       "    <tr>\n",
       "      <th>0</th>\n",
       "      <td>AADA.01A</td>\n",
       "      <td>Cluster 01</td>\n",
       "      <td>0.0</td>\n",
       "      <td>40.51</td>\n",
       "      <td>0.0</td>\n",
       "      <td>40.51</td>\n",
       "    </tr>\n",
       "    <tr>\n",
       "      <th>1</th>\n",
       "      <td>A5SJ.01A</td>\n",
       "      <td>Cluster 01</td>\n",
       "      <td>0.0</td>\n",
       "      <td>22.93</td>\n",
       "      <td>1.0</td>\n",
       "      <td>10.12</td>\n",
       "    </tr>\n",
       "    <tr>\n",
       "      <th>2</th>\n",
       "      <td>AACF.01A</td>\n",
       "      <td>Cluster 01</td>\n",
       "      <td>1.0</td>\n",
       "      <td>11.99</td>\n",
       "      <td>1.0</td>\n",
       "      <td>3.91</td>\n",
       "    </tr>\n",
       "    <tr>\n",
       "      <th>3</th>\n",
       "      <td>A5NO.01A</td>\n",
       "      <td>Cluster 01</td>\n",
       "      <td>0.0</td>\n",
       "      <td>0.66</td>\n",
       "      <td>0.0</td>\n",
       "      <td>0.66</td>\n",
       "    </tr>\n",
       "    <tr>\n",
       "      <th>4</th>\n",
       "      <td>AAE0.01A</td>\n",
       "      <td>Cluster 01</td>\n",
       "      <td>0.0</td>\n",
       "      <td>18.23</td>\n",
       "      <td>0.0</td>\n",
       "      <td>18.23</td>\n",
       "    </tr>\n",
       "  </tbody>\n",
       "</table>\n",
       "</div>"
      ],
      "text/plain": [
       "     Sample     Cluster  OS_STATUS  OS_MONTHS  DFS_STATUS  DFS_MONTHS\n",
       "0  AADA.01A  Cluster 01        0.0      40.51         0.0       40.51\n",
       "1  A5SJ.01A  Cluster 01        0.0      22.93         1.0       10.12\n",
       "2  AACF.01A  Cluster 01        1.0      11.99         1.0        3.91\n",
       "3  A5NO.01A  Cluster 01        0.0       0.66         0.0        0.66\n",
       "4  AAE0.01A  Cluster 01        0.0      18.23         0.0       18.23"
      ]
     },
     "metadata": {},
     "output_type": "display_data"
    },
    {
     "name": "stdout",
     "output_type": "stream",
     "text": [
      "\n"
     ]
    }
   ],
   "source": [
    "print(clusters.shape) # (340, 2)\n",
    "display(clusters.head(5))\n",
    "print()"
   ]
  },
  {
   "cell_type": "markdown",
   "metadata": {},
   "source": [
    "### *ATTENTION!*"
   ]
  },
  {
   "cell_type": "code",
   "execution_count": 87,
   "metadata": {},
   "outputs": [],
   "source": [
    "## Merge cluster 01 and cluster 03 manually\n",
    "clusters = clusters.replace(\"Cluster 03\", \"Cluster 01\")"
   ]
  },
  {
   "cell_type": "markdown",
   "metadata": {},
   "source": [
    "### Explore data"
   ]
  },
  {
   "cell_type": "code",
   "execution_count": 73,
   "metadata": {},
   "outputs": [
    {
     "data": {
      "text/html": [
       "<div>\n",
       "<style scoped>\n",
       "    .dataframe tbody tr th:only-of-type {\n",
       "        vertical-align: middle;\n",
       "    }\n",
       "\n",
       "    .dataframe tbody tr th {\n",
       "        vertical-align: top;\n",
       "    }\n",
       "\n",
       "    .dataframe thead th {\n",
       "        text-align: right;\n",
       "    }\n",
       "</style>\n",
       "<table border=\"1\" class=\"dataframe\">\n",
       "  <thead>\n",
       "    <tr style=\"text-align: right;\">\n",
       "      <th></th>\n",
       "      <th>Sample</th>\n",
       "      <th>OS_STATUS</th>\n",
       "      <th>OS_MONTHS</th>\n",
       "      <th>DFS_STATUS</th>\n",
       "      <th>DFS_MONTHS</th>\n",
       "    </tr>\n",
       "    <tr>\n",
       "      <th>Cluster</th>\n",
       "      <th></th>\n",
       "      <th></th>\n",
       "      <th></th>\n",
       "      <th></th>\n",
       "      <th></th>\n",
       "    </tr>\n",
       "  </thead>\n",
       "  <tbody>\n",
       "    <tr>\n",
       "      <th>Cluster 01</th>\n",
       "      <td>169</td>\n",
       "      <td>169</td>\n",
       "      <td>168</td>\n",
       "      <td>148</td>\n",
       "      <td>147</td>\n",
       "    </tr>\n",
       "    <tr>\n",
       "      <th>Cluster 02</th>\n",
       "      <td>171</td>\n",
       "      <td>171</td>\n",
       "      <td>171</td>\n",
       "      <td>149</td>\n",
       "      <td>149</td>\n",
       "    </tr>\n",
       "  </tbody>\n",
       "</table>\n",
       "</div>"
      ],
      "text/plain": [
       "            Sample  OS_STATUS  OS_MONTHS  DFS_STATUS  DFS_MONTHS\n",
       "Cluster                                                         \n",
       "Cluster 01     169        169        168         148         147\n",
       "Cluster 02     171        171        171         149         149"
      ]
     },
     "execution_count": 73,
     "metadata": {},
     "output_type": "execute_result"
    }
   ],
   "source": [
    "# Misssing values\n",
    "clusters.groupby([\"Cluster\"]).count()"
   ]
  },
  {
   "cell_type": "code",
   "execution_count": 74,
   "metadata": {},
   "outputs": [
    {
     "data": {
      "text/html": [
       "<div>\n",
       "<style scoped>\n",
       "    .dataframe tbody tr th:only-of-type {\n",
       "        vertical-align: middle;\n",
       "    }\n",
       "\n",
       "    .dataframe tbody tr th {\n",
       "        vertical-align: top;\n",
       "    }\n",
       "\n",
       "    .dataframe thead th {\n",
       "        text-align: right;\n",
       "    }\n",
       "</style>\n",
       "<table border=\"1\" class=\"dataframe\">\n",
       "  <thead>\n",
       "    <tr style=\"text-align: right;\">\n",
       "      <th></th>\n",
       "      <th>Sample</th>\n",
       "      <th>Cluster</th>\n",
       "      <th>OS_STATUS</th>\n",
       "      <th>OS_MONTHS</th>\n",
       "      <th>DFS_STATUS</th>\n",
       "      <th>DFS_MONTHS</th>\n",
       "    </tr>\n",
       "  </thead>\n",
       "  <tbody>\n",
       "    <tr>\n",
       "      <th>304</th>\n",
       "      <td>A95S.01A</td>\n",
       "      <td>Cluster 01</td>\n",
       "      <td>0.0</td>\n",
       "      <td>NaN</td>\n",
       "      <td>0.0</td>\n",
       "      <td>NaN</td>\n",
       "    </tr>\n",
       "  </tbody>\n",
       "</table>\n",
       "</div>"
      ],
      "text/plain": [
       "       Sample     Cluster  OS_STATUS  OS_MONTHS  DFS_STATUS  DFS_MONTHS\n",
       "304  A95S.01A  Cluster 01        0.0        NaN         0.0         NaN"
      ]
     },
     "execution_count": 74,
     "metadata": {},
     "output_type": "execute_result"
    }
   ],
   "source": [
    "# Only 1 missing data for OS, with OS_STATUS but no OS_MONTHS\n",
    "clusters[clusters['OS_MONTHS'].isna()]"
   ]
  },
  {
   "cell_type": "code",
   "execution_count": 75,
   "metadata": {},
   "outputs": [
    {
     "data": {
      "text/html": [
       "<div>\n",
       "<style scoped>\n",
       "    .dataframe tbody tr th:only-of-type {\n",
       "        vertical-align: middle;\n",
       "    }\n",
       "\n",
       "    .dataframe tbody tr th {\n",
       "        vertical-align: top;\n",
       "    }\n",
       "\n",
       "    .dataframe thead th {\n",
       "        text-align: right;\n",
       "    }\n",
       "</style>\n",
       "<table border=\"1\" class=\"dataframe\">\n",
       "  <thead>\n",
       "    <tr style=\"text-align: right;\">\n",
       "      <th></th>\n",
       "      <th>Sample</th>\n",
       "      <th>Cluster</th>\n",
       "      <th>OS_MONTHS</th>\n",
       "      <th>DFS_STATUS</th>\n",
       "      <th>DFS_MONTHS</th>\n",
       "    </tr>\n",
       "    <tr>\n",
       "      <th>OS_STATUS</th>\n",
       "      <th></th>\n",
       "      <th></th>\n",
       "      <th></th>\n",
       "      <th></th>\n",
       "      <th></th>\n",
       "    </tr>\n",
       "  </thead>\n",
       "  <tbody>\n",
       "    <tr>\n",
       "      <th>0.0</th>\n",
       "      <td>220</td>\n",
       "      <td>220</td>\n",
       "      <td>219</td>\n",
       "      <td>220</td>\n",
       "      <td>219</td>\n",
       "    </tr>\n",
       "    <tr>\n",
       "      <th>1.0</th>\n",
       "      <td>120</td>\n",
       "      <td>120</td>\n",
       "      <td>120</td>\n",
       "      <td>77</td>\n",
       "      <td>77</td>\n",
       "    </tr>\n",
       "  </tbody>\n",
       "</table>\n",
       "</div>"
      ],
      "text/plain": [
       "           Sample  Cluster  OS_MONTHS  DFS_STATUS  DFS_MONTHS\n",
       "OS_STATUS                                                    \n",
       "0.0           220      220        219         220         219\n",
       "1.0           120      120        120          77          77"
      ]
     },
     "execution_count": 75,
     "metadata": {},
     "output_type": "execute_result"
    }
   ],
   "source": [
    "# Censored values\n",
    "clusters.groupby([\"OS_STATUS\"]).count()"
   ]
  },
  {
   "cell_type": "markdown",
   "metadata": {},
   "source": [
    "## Overall survival"
   ]
  },
  {
   "cell_type": "markdown",
   "metadata": {},
   "source": [
    "### Kaplan Meier for all patient"
   ]
  },
  {
   "cell_type": "code",
   "execution_count": 76,
   "metadata": {},
   "outputs": [
    {
     "name": "stdout",
     "output_type": "stream",
     "text": [
      "Median survival time: 58.84 months\n",
      "Survival rate: \n",
      "12    0.827121\n",
      "24    0.699969\n",
      "36    0.632235\n",
      "48    0.560653\n",
      "60    0.488692\n",
      "Name: All patients, dtype: float64\n"
     ]
    },
    {
     "data": {
      "image/png": "[encoded data removed]",
      "text/plain": [
       "<Figure size 252x216 with 1 Axes>"
      ]
     },
     "metadata": {
      "needs_background": "light"
     },
     "output_type": "display_data"
    }
   ],
   "source": [
    "kmf = KaplanMeierFitter()\n",
    "T = clusters.dropna(subset = [\"OS_MONTHS\"])['OS_MONTHS']\n",
    "E = clusters.dropna(subset = [\"OS_MONTHS\"])['OS_STATUS']\n",
    "kmf.fit(T, event_observed=E, label=\"All patients\")\n",
    "plt.figure(figsize=(3.5, 3))\n",
    "kmf.plot(show_censors=True, at_risk_counts=False)\n",
    "plt.title(\"Overall Survival\");\n",
    "plt.xlim(0, 150)\n",
    "plt.tight_layout()\n",
    "plt.savefig(out_path+\"os_all.png\")\n",
    "print(\"Median survival time: \" + str(kmf.median_survival_time_) + \" months\")\n",
    "print(\"Survival rate: \")\n",
    "print(kmf.survival_function_at_times([12,24,36,48,60], label=None))"
   ]
  },
  {
   "cell_type": "markdown",
   "metadata": {},
   "source": [
    "### Visualize censored values"
   ]
  },
  {
   "cell_type": "code",
   "execution_count": 16,
   "metadata": {},
   "outputs": [
    {
     "name": "stderr",
     "output_type": "stream",
     "text": [
      "C:\\Program Files\\Anaconda3\\envs\\r-tensorflow\\lib\\site-packages\\lifelines\\plotting.py:624: UserWarning: For less visual clutter, you may want to subsample to less than 80 individuals.\n",
      "  warnings.warn(\"For less visual clutter, you may want to subsample to less than 80 individuals.\")\n"
     ]
    },
    {
     "data": {
      "text/plain": [
       "Text(0.5, 1.0, 'Overall survival time')"
      ]
     },
     "execution_count": 16,
     "metadata": {},
     "output_type": "execute_result"
    },
    {
     "data": {
      "image/png": "[encoded data removed]",
      "text/plain": [
       "<Figure size 432x288 with 1 Axes>"
      ]
     },
     "metadata": {
      "needs_background": "light"
     },
     "output_type": "display_data"
    }
   ],
   "source": [
    "# ax = plot_lifetimes(T, event_observed=E)\n",
    "# # ax.set_xlim(0, 25)\n",
    "# # ax.vlines(10, 0, 30, lw=2, linestyles='--')\n",
    "# ax.set_xlabel(\"time\")\n",
    "# ax.set_title(\"Overall survival time\")\n",
    "# # print(\"Observed lifetimes at time %d:\\n\" % (CURRENT_TIME), observed_lifetimes)"
   ]
  },
  {
   "cell_type": "markdown",
   "metadata": {},
   "source": [
    "### Kaplan Meier by clusters"
   ]
  },
  {
   "cell_type": "code",
   "execution_count": 97,
   "metadata": {},
   "outputs": [
    {
     "name": "stdout",
     "output_type": "stream",
     "text": [
      "Median survival time: 80.68 months\n",
      "Overall survival rates: \n",
      "12    0.852048\n",
      "24    0.756967\n",
      "36    0.707186\n",
      "48    0.589554\n",
      "60    0.522301\n",
      "Name: Cluster 01, dtype: float64\n",
      "Median survival time: 51.25 months\n",
      "Overall survival rates: \n",
      "12    0.787978\n",
      "24    0.625435\n",
      "36    0.520364\n",
      "48    0.504103\n",
      "60    0.454456\n",
      "Name: Cluster 02, dtype: float64\n",
      "Median survival time: 69.51 months\n",
      "Overall survival rates: \n",
      "12    0.899868\n",
      "24    0.806915\n",
      "36    0.806915\n",
      "48    0.682774\n",
      "60    0.512080\n",
      "Name: Cluster 03, dtype: float64\n"
     ]
    },
    {
     "data": {
      "text/plain": [
       "<matplotlib.axes._subplots.AxesSubplot at 0x404f16a0>"
      ]
     },
     "execution_count": 97,
     "metadata": {},
     "output_type": "execute_result"
    },
    {
     "data": {
      "image/png": "[encoded data removed]",
      "text/plain": [
       "<Figure size 432x288 with 2 Axes>"
      ]
     },
     "metadata": {
      "needs_background": "light"
     },
     "output_type": "display_data"
    }
   ],
   "source": [
    "ax = plt.subplot(111)\n",
    "\n",
    "kmf_os1 = KaplanMeierFitter()\n",
    "f_os1 = clusters.Cluster == \"Cluster 01\"\n",
    "T_os1 = clusters[f_os1].dropna(subset = [\"OS_MONTHS\"])['OS_MONTHS']\n",
    "E_os1 = clusters[f_os1].dropna(subset = [\"OS_MONTHS\"])['OS_STATUS']\n",
    "kmf_os1.fit(T_os1, event_observed=E_os1, label=\"Cluster 01\")\n",
    "print(\"Median survival time: \" + str(kmf_os1.median_survival_time_) + \" months\")\n",
    "print(\"Overall survival rates: \")\n",
    "print(kmf_os1.survival_function_at_times([12,24,36,48,60], label=\"Cluster 01\"))\n",
    "ax = kmf_os1.plot(ax=ax, loc=slice(0, 60))\n",
    "\n",
    "kmf_os2 = KaplanMeierFitter()\n",
    "f_os2 = clusters.Cluster == \"Cluster 02\"\n",
    "T_os2 = clusters[f_os2].dropna(subset = [\"OS_MONTHS\"])['OS_MONTHS']\n",
    "E_os2 = clusters[f_os2].dropna(subset = [\"OS_MONTHS\"])['OS_STATUS']\n",
    "kmf_os2.fit(T_os2, event_observed=E_os2, label=\"Cluster 02\")\n",
    "print(\"Median survival time: \" + str(kmf_os2.median_survival_time_) + \" months\")\n",
    "print(\"Overall survival rates: \")\n",
    "print(kmf_os2.survival_function_at_times([12,24,36,48,60], label=\"Cluster 02\"))\n",
    "ax = kmf_os2.plot(ax=ax, loc=slice(0, 60))\n",
    "\n",
    "kmf_os3 = KaplanMeierFitter()\n",
    "f_os3 = clusters.Cluster == \"Cluster 03\"\n",
    "T_os3 = clusters[f_os3].dropna(subset = [\"OS_MONTHS\"])['OS_MONTHS']\n",
    "E_os3 = clusters[f_os3].dropna(subset = [\"OS_MONTHS\"])['OS_STATUS']\n",
    "kmf_os3.fit(T_os3, event_observed=E_os3, label=\"Cluster 03\")\n",
    "print(\"Median survival time: \" + str(kmf_os3.median_survival_time_) + \" months\")\n",
    "print(\"Overall survival rates: \")\n",
    "print(kmf_os3.survival_function_at_times([12,24,36,48,60], label=\"Cluster 03\"))\n",
    "ax = kmf_os3.plot(ax=ax, loc=slice(0, 60))\n",
    "\n",
    "# kmf_os4 = KaplanMeierFitter()\n",
    "# f_os4 = clusters.Cluster == \"Cluster 04\"\n",
    "# T_os4 = clusters[f_os4].dropna(subset = [\"OS_MONTHS\"])['OS_MONTHS']\n",
    "# E_os4 = clusters[f_os4].dropna(subset = [\"OS_MONTHS\"])['OS_STATUS']\n",
    "# kmf_os4.fit(T_os4, event_observed=E_os4, label=\"Cluster 04\")\n",
    "# print(\"Median survival time: \" + str(kmf_os4.median_survival_time_) + \" months\")\n",
    "# print(\"Overall survival rates: \")\n",
    "# print(kmf_os4.survival_function_at_times([12,24,36,48,60], label=\"Cluster 04\"))\n",
    "# ax = kmf_os4.plot(ax=ax, loc=slice(0, 60))\n",
    "\n",
    "# kmf_os5 = KaplanMeierFitter()\n",
    "# f_os5 = clusters.Cluster == \"Cluster 05\"\n",
    "# T_os5 = clusters[f_os5].dropna(subset = [\"OS_MONTHS\"])['OS_MONTHS']\n",
    "# E_os5 = clusters[f_os5].dropna(subset = [\"OS_MONTHS\"])['OS_STATUS']\n",
    "# kmf_os5.fit(T_os5, event_observed=E_os5, label=\"Cluster 05\")\n",
    "# print(\"Median survival time: \" + str(kmf_os4.median_survival_time_) + \" months\")\n",
    "# print(\"Overall survival rates: \")\n",
    "# print(kmf_os5.survival_function_at_times([12,24,36,48,60], label=\"Cluster 05\"))\n",
    "# ax = kmf_os5.plot(ax=ax, loc=slice(0, 60))\n",
    "\n",
    "plt.ylim(0, 1)\n",
    "plt.xlim(0, 60)\n",
    "plt.title(\"Kaplan-Meier Curves: Overall Survival\")\n",
    "plt.tight_layout()\n",
    "plt.savefig(out_path+\"os.png\")\n",
    "\n",
    "# add_at_risk_counts(kmf_os1, kmf_os2, ax=ax)\n",
    "add_at_risk_counts(kmf_os1, kmf_os2, kmf_os3, ax=ax)"
   ]
  },
  {
   "cell_type": "markdown",
   "metadata": {},
   "source": [
    "### Log-rank test"
   ]
  },
  {
   "cell_type": "code",
   "execution_count": 98,
   "metadata": {},
   "outputs": [
    {
     "data": {
      "text/html": [
       "<div>\n",
       "<style scoped>\n",
       "    .dataframe tbody tr th:only-of-type {\n",
       "        vertical-align: middle;\n",
       "    }\n",
       "\n",
       "    .dataframe tbody tr th {\n",
       "        vertical-align: top;\n",
       "    }\n",
       "\n",
       "    .dataframe thead th {\n",
       "        text-align: right;\n",
       "    }\n",
       "</style>\n",
       "<table border=\"1\" class=\"dataframe\">\n",
       "  <tbody>\n",
       "    <tr>\n",
       "      <th>t_0</th>\n",
       "      <td>60</td>\n",
       "    </tr>\n",
       "    <tr>\n",
       "      <th>null_distribution</th>\n",
       "      <td>chi squared</td>\n",
       "    </tr>\n",
       "    <tr>\n",
       "      <th>degrees_of_freedom</th>\n",
       "      <td>2</td>\n",
       "    </tr>\n",
       "    <tr>\n",
       "      <th>test_name</th>\n",
       "      <td>multivariate_Peto_test</td>\n",
       "    </tr>\n",
       "  </tbody>\n",
       "</table>\n",
       "</div><table border=\"1\" class=\"dataframe\">\n",
       "  <thead>\n",
       "    <tr style=\"text-align: right;\">\n",
       "      <th></th>\n",
       "      <th>test_statistic</th>\n",
       "      <th>p</th>\n",
       "    </tr>\n",
       "  </thead>\n",
       "  <tbody>\n",
       "    <tr>\n",
       "      <th>0</th>\n",
       "      <td>5.10</td>\n",
       "      <td>0.08</td>\n",
       "    </tr>\n",
       "  </tbody>\n",
       "</table>"
      ],
      "text/plain": [
       "<IPython.core.display.HTML object>"
      ]
     },
     "metadata": {},
     "output_type": "display_data"
    }
   ],
   "source": [
    "# Generalized\n",
    "result = multivariate_logrank_test(T, clusters.dropna(subset = [\"OS_MONTHS\"])[\"Cluster\"], E, t_0 = 60, weightings=\"peto\")\n",
    "result.print_summary()"
   ]
  },
  {
   "cell_type": "code",
   "execution_count": 99,
   "metadata": {},
   "outputs": [
    {
     "data": {
      "text/html": [
       "<div>\n",
       "<style scoped>\n",
       "    .dataframe tbody tr th:only-of-type {\n",
       "        vertical-align: middle;\n",
       "    }\n",
       "\n",
       "    .dataframe tbody tr th {\n",
       "        vertical-align: top;\n",
       "    }\n",
       "\n",
       "    .dataframe thead th {\n",
       "        text-align: right;\n",
       "    }\n",
       "</style>\n",
       "<table border=\"1\" class=\"dataframe\">\n",
       "  <tbody>\n",
       "    <tr>\n",
       "      <th>t_0</th>\n",
       "      <td>60</td>\n",
       "    </tr>\n",
       "    <tr>\n",
       "      <th>null_distribution</th>\n",
       "      <td>chi squared</td>\n",
       "    </tr>\n",
       "    <tr>\n",
       "      <th>degrees_of_freedom</th>\n",
       "      <td>1</td>\n",
       "    </tr>\n",
       "    <tr>\n",
       "      <th>test_name</th>\n",
       "      <td>Peto_test</td>\n",
       "    </tr>\n",
       "  </tbody>\n",
       "</table>\n",
       "</div><table border=\"1\" class=\"dataframe\">\n",
       "  <thead>\n",
       "    <tr style=\"text-align: right;\">\n",
       "      <th></th>\n",
       "      <th></th>\n",
       "      <th>test_statistic</th>\n",
       "      <th>p</th>\n",
       "    </tr>\n",
       "  </thead>\n",
       "  <tbody>\n",
       "    <tr>\n",
       "      <th rowspan=\"2\" valign=\"top\">Cluster 01</th>\n",
       "      <th>Cluster 02</th>\n",
       "      <td>1.60</td>\n",
       "      <td>0.21</td>\n",
       "    </tr>\n",
       "    <tr>\n",
       "      <th>Cluster 03</th>\n",
       "      <td>1.49</td>\n",
       "      <td>0.22</td>\n",
       "    </tr>\n",
       "    <tr>\n",
       "      <th>Cluster 02</th>\n",
       "      <th>Cluster 03</th>\n",
       "      <td>4.32</td>\n",
       "      <td>0.04</td>\n",
       "    </tr>\n",
       "  </tbody>\n",
       "</table>"
      ],
      "text/plain": [
       "<IPython.core.display.HTML object>"
      ]
     },
     "metadata": {},
     "output_type": "display_data"
    }
   ],
   "source": [
    "# Pairwise\n",
    "result = pairwise_logrank_test(T, clusters.dropna(subset = [\"OS_MONTHS\"])[\"Cluster\"], E, t_0 = 60, weightings=\"peto\")\n",
    "result.print_summary()"
   ]
  },
  {
   "cell_type": "markdown",
   "metadata": {},
   "source": [
    "### Cox proportional hazards regression model"
   ]
  },
  {
   "cell_type": "markdown",
   "metadata": {},
   "source": [
    "#### One-hot encoding"
   ]
  },
  {
   "cell_type": "code",
   "execution_count": 20,
   "metadata": {},
   "outputs": [],
   "source": [
    "# # Convert cluster to one-hot encoding\n",
    "# clusters_dummy = pd.get_dummies(clusters.dropna(subset = [\"OS_MONTHS\"])[\"Cluster\"])\n",
    "# clusters_dummy = pd.concat([clusters_dummy,T],axis=1)\n",
    "# clusters_dummy = pd.concat([clusters_dummy,E],axis=1)\n",
    "# print(clusters_dummy.shape)\n",
    "# clusters_dummy.head(5)"
   ]
  },
  {
   "cell_type": "code",
   "execution_count": 21,
   "metadata": {},
   "outputs": [],
   "source": [
    "# # To use cox model, at least drop one of the converted col\n",
    "# clusters_dummy.drop(columns=[\"Cluster 02\"], inplace=True)"
   ]
  },
  {
   "cell_type": "code",
   "execution_count": 22,
   "metadata": {},
   "outputs": [],
   "source": [
    "# # Using Cox Proportional Hazards model\n",
    "# cph = CoxPHFitter()   ## Instantiate the class to create a cph object\n",
    "# print(cph.fit(clusters_dummy, \"OS_MONTHS\", \"OS_STATUS\"))   ## Fit the data to train the model\n",
    "# cph.print_summary()    ## HAve a look at the significance of the features"
   ]
  },
  {
   "cell_type": "markdown",
   "metadata": {},
   "source": [
    "#### Ordered integer colomn"
   ]
  },
  {
   "cell_type": "code",
   "execution_count": 23,
   "metadata": {},
   "outputs": [],
   "source": [
    "# # Order the clusters: higher values means higher expression.\n",
    "# clusters_dummy = clusters.dropna(subset = [\"OS_MONTHS\"]).reset_index(drop=True).filter(items=[\"Cluster\",\"OS_STATUS\",\"OS_MONTHS\"])\n",
    "# for i in range(len(clusters_dummy)):\n",
    "#     c = int(clusters_dummy[\"Cluster\"][i][-1])\n",
    "#     if c == 1:\n",
    "#         c = 2\n",
    "#     elif c == 2:\n",
    "#         c = 1\n",
    "#     clusters_dummy.loc[i, \"Cluster\"] = c\n",
    "# print(clusters_dummy.shape)\n",
    "# clusters_dummy.head(5)"
   ]
  },
  {
   "cell_type": "code",
   "execution_count": 24,
   "metadata": {},
   "outputs": [],
   "source": [
    "# # Using Cox Proportional Hazards model without on hot encoding\n",
    "# cph = CoxPHFitter()   ## Instantiate the class to create a cph object\n",
    "# print(cph.fit(clusters_dummy, \"OS_MONTHS\", \"OS_STATUS\"))   ## Fit the data to train the model\n",
    "# cph.print_summary()    ## HAve a look at the significance of the features"
   ]
  },
  {
   "cell_type": "code",
   "execution_count": 25,
   "metadata": {},
   "outputs": [],
   "source": [
    "# # Check if the proprtional hazards assuption is violated\n",
    "# cph.check_assumptions(clusters_dummy, show_plots=True)"
   ]
  },
  {
   "cell_type": "markdown",
   "metadata": {},
   "source": [
    "### Nelson-Aalen estimate for the cumulative hazard"
   ]
  },
  {
   "cell_type": "code",
   "execution_count": 26,
   "metadata": {},
   "outputs": [],
   "source": [
    "# naf = NelsonAalenFitter()\n",
    "\n",
    "# naf.fit(T_os1, event_observed=E_os1, label=\"Cluster 01\")\n",
    "# # ax = naf.plot(loc=slice(0, 70))\n",
    "# ax = naf.plot()\n",
    "\n",
    "# naf.fit(T_os2, event_observed=E_os2, label=\"Cluster 02\")\n",
    "# # naf.plot(ax=ax, loc=slice(0, 70))\n",
    "# ax = naf.plot()\n",
    "\n",
    "# naf.fit(T_os3, event_observed=E_os3, label=\"Cluster 03\")\n",
    "# # naf.plot(ax=ax, loc=slice(0, 70))\n",
    "# ax = naf.plot()\n",
    "\n",
    "# plt.title(\"Cumulative Hazard Function: Overall Survival\");\n",
    "# # plt.ylim(0, 0.4)\n",
    "# # plt.xlim(0, 125);\n",
    "# ax.legend(loc='upper left')\n",
    "# plt.tight_layout()\n",
    "# plt.savefig(out_path+\"os_cumulative_hazard.png\")"
   ]
  },
  {
   "cell_type": "code",
   "execution_count": 53,
   "metadata": {},
   "outputs": [
    {
     "data": {
      "image/png": "[encoded data removed]",
      "text/plain": [
       "<Figure size 432x288 with 1 Axes>"
      ]
     },
     "metadata": {
      "needs_background": "light"
     },
     "output_type": "display_data"
    }
   ],
   "source": [
    "naf = NelsonAalenFitter()\n",
    "bandwidth = 3\n",
    "\n",
    "naf.fit(T_os1, event_observed=E_os1, label=\"Cluster 01\")\n",
    "ax = naf.plot(loc=slice(0, 60))\n",
    "# ax = naf.plot()\n",
    "\n",
    "naf.fit(T_os2, event_observed=E_os2, label=\"Cluster 02\")\n",
    "naf.plot(ax=ax, loc=slice(0, 60))\n",
    "# ax = naf.plot()\n",
    "\n",
    "# naf.fit(T_os3, event_observed=E_os3, label=\"Cluster 03\")\n",
    "# naf.plot(ax=ax, loc=slice(0, 60))\n",
    "# # ax = naf.plot()\n",
    "\n",
    "# naf.fit(T_os4, event_observed=E_os4, label=\"Cluster 04\")\n",
    "# naf.plot(ax=ax, loc=slice(0, 60))\n",
    "# # ax = naf.plot()\n",
    "\n",
    "# naf.fit(T_os5, event_observed=E_os5, label=\"Cluster 05\")\n",
    "# naf.plot(ax=ax, loc=slice(0, 60))\n",
    "# # ax = naf.plot()\n",
    "\n",
    "plt.title(\"Cumulative Hazard Function: Overall Survival\");\n",
    "# plt.ylim(0, 0.4)\n",
    "plt.xlim(0, 60);\n",
    "ax.legend(loc='upper left')\n",
    "plt.tight_layout()\n",
    "plt.savefig(out_path+\"os_cumulative_hazard_60.png\")"
   ]
  },
  {
   "cell_type": "markdown",
   "metadata": {},
   "source": [
    "## Disease free survival"
   ]
  },
  {
   "cell_type": "markdown",
   "metadata": {},
   "source": [
    "### Kaplan Meier plot for all patients"
   ]
  },
  {
   "cell_type": "code",
   "execution_count": 28,
   "metadata": {},
   "outputs": [
    {
     "name": "stdout",
     "output_type": "stream",
     "text": [
      "Median survival time: 20.99 months\n",
      "Survival rate: \n",
      "12    0.649949\n",
      "24    0.464015\n",
      "36    0.388957\n",
      "48    0.326577\n",
      "60    0.293714\n",
      "Name: All patients, dtype: float64\n"
     ]
    },
    {
     "data": {
      "image/png": "[encoded data removed]",
      "text/plain": [
       "<Figure size 252x216 with 1 Axes>"
      ]
     },
     "metadata": {
      "needs_background": "light"
     },
     "output_type": "display_data"
    }
   ],
   "source": [
    "kmf = KaplanMeierFitter()\n",
    "T_dfs = clusters.dropna(subset = [\"DFS_MONTHS\"])['DFS_MONTHS']\n",
    "E_dfs = clusters.dropna(subset = [\"DFS_MONTHS\"])['DFS_STATUS']\n",
    "kmf.fit(T_dfs, event_observed=E_dfs, label=\"All patients\")\n",
    "plt.figure(figsize=(3.5, 3))\n",
    "kmf.plot(show_censors=True, at_risk_counts=False)\n",
    "plt.title(\"Overall Survival\");\n",
    "plt.xlim(0, 150)\n",
    "plt.tight_layout()\n",
    "plt.savefig(out_path+\"dfs_all.png\")\n",
    "print(\"Median survival time: \" + str(kmf.median_survival_time_) + \" months\")\n",
    "print(\"Survival rate: \")\n",
    "print(kmf.survival_function_at_times([12,24,36,48,60], label=None))"
   ]
  },
  {
   "cell_type": "markdown",
   "metadata": {},
   "source": [
    "### Kaplan Meier plot by clusters"
   ]
  },
  {
   "cell_type": "code",
   "execution_count": 56,
   "metadata": {},
   "outputs": [
    {
     "name": "stdout",
     "output_type": "stream",
     "text": [
      "Median survival time: 29.66 months\n",
      "Disease free survival rates: \n",
      "12    0.758200\n",
      "24    0.569463\n",
      "36    0.435054\n",
      "48    0.363159\n",
      "60    0.341797\n",
      "Name: Cluster 01, dtype: float64\n",
      "Median survival time: 14.85 months\n",
      "Disease free urvival rates: \n",
      "12    0.535623\n",
      "24    0.354064\n",
      "36    0.339901\n",
      "48    0.288164\n",
      "60    0.243255\n",
      "Name: Cluster 02, dtype: float64\n"
     ]
    },
    {
     "data": {
      "text/plain": [
       "<matplotlib.axes._subplots.AxesSubplot at 0x3fa4cf28>"
      ]
     },
     "execution_count": 56,
     "metadata": {},
     "output_type": "execute_result"
    },
    {
     "data": {
      "image/png": "[encoded data removed]",
      "text/plain": [
       "<Figure size 432x288 with 2 Axes>"
      ]
     },
     "metadata": {
      "needs_background": "light"
     },
     "output_type": "display_data"
    }
   ],
   "source": [
    "ax = plt.subplot(111)\n",
    "\n",
    "kmf_dfs1 = KaplanMeierFitter()\n",
    "f_dfs1 = clusters.Cluster == \"Cluster 01\"\n",
    "T_dfs1 = clusters[f_dfs1].dropna(subset = [\"DFS_MONTHS\"])['DFS_MONTHS']\n",
    "E_dfs1 = clusters[f_dfs1].dropna(subset = [\"DFS_MONTHS\"])['DFS_STATUS']\n",
    "kmf_dfs1.fit(T_dfs1, event_observed=E_dfs1, label=\"Cluster 01\")\n",
    "print(\"Median survival time: \" + str(kmf_dfs1.median_survival_time_) + \" months\")\n",
    "print(\"Disease free survival rates: \")\n",
    "print(kmf_dfs1.survival_function_at_times([12,24,36,48,60], label=\"Cluster 01\"))\n",
    "ax = kmf_dfs1.plot(ax=ax, loc=slice(0, 60))\n",
    "\n",
    "kmf_dfs2 = KaplanMeierFitter()\n",
    "f_dfs2 = clusters.Cluster == \"Cluster 02\"\n",
    "T_dfs2 = clusters[f_dfs2].dropna(subset = [\"DFS_MONTHS\"])['DFS_MONTHS']\n",
    "E_dfs2 = clusters[f_dfs2].dropna(subset = [\"DFS_MONTHS\"])['DFS_STATUS']\n",
    "kmf_dfs2.fit(T_dfs2, event_observed=E_dfs2, label=\"Cluster 02\")\n",
    "print(\"Median survival time: \" + str(kmf_dfs2.median_survival_time_) + \" months\")\n",
    "print(\"Disease free urvival rates: \")\n",
    "print(kmf_dfs2.survival_function_at_times([12,24,36,48,60], label=\"Cluster 02\"))\n",
    "ax = kmf_dfs2.plot(ax=ax, loc=slice(0, 60))\n",
    "\n",
    "# kmf_dfs3 = KaplanMeierFitter()\n",
    "# f_dfs3 = clusters.Cluster == \"Cluster 03\"\n",
    "# T_dfs3 = clusters[f_dfs3].dropna(subset = [\"DFS_MONTHS\"])['DFS_MONTHS']\n",
    "# E_dfs3 = clusters[f_dfs3].dropna(subset = [\"DFS_MONTHS\"])['DFS_STATUS']\n",
    "# kmf_dfs3.fit(T_dfs3, event_observed=E_dfs3, label=\"Cluster 03\")\n",
    "# print(\"Median survival time: \" + str(kmf_dfs3.median_survival_time_) + \" months\")\n",
    "# print(\"Disease free urvival rates: \")\n",
    "# print(kmf_dfs3.survival_function_at_times([12,24,36,48,60], label=\"Cluster 03\"))\n",
    "# ax = kmf_dfs3.plot(ax=ax, loc=slice(0, 60))\n",
    "\n",
    "# kmf_dfs4 = KaplanMeierFitter()\n",
    "# f_dfs4 = clusters.Cluster == \"Cluster 04\"\n",
    "# T_dfs4 = clusters[f_dfs4].dropna(subset = [\"DFS_MONTHS\"])['DFS_MONTHS']\n",
    "# E_dfs4 = clusters[f_dfs4].dropna(subset = [\"DFS_MONTHS\"])['DFS_STATUS']\n",
    "# kmf_dfs4.fit(T_dfs4, event_observed=E_dfs4, label=\"Cluster 04\")\n",
    "# print(\"Median survival time: \" + str(kmf_dfs4.median_survival_time_) + \" months\")\n",
    "# print(\"Disease free urvival rates: \")\n",
    "# print(kmf_dfs4.survival_function_at_times([12,24,36,48,60], label=\"Cluster 04\"))\n",
    "# ax = kmf_dfs4.plot(ax=ax, loc=slice(0, 60))\n",
    "\n",
    "plt.ylim(0, 1)\n",
    "plt.xlim(0, 60)\n",
    "plt.title(\"Kaplan-Meier Curves: Disease Free Survival\");\n",
    "plt.tight_layout()\n",
    "plt.savefig(out_path+\"dfs.png\")\n",
    "\n",
    "add_at_risk_counts(kmf_dfs1, kmf_dfs2, ax=ax)\n",
    "# add_at_risk_counts(kmf_dfs1, kmf_dfs2, kmf_os3, ax=ax)"
   ]
  },
  {
   "cell_type": "markdown",
   "metadata": {},
   "source": [
    "### Log-rank test"
   ]
  },
  {
   "cell_type": "code",
   "execution_count": 57,
   "metadata": {},
   "outputs": [
    {
     "data": {
      "text/html": [
       "<div>\n",
       "<style scoped>\n",
       "    .dataframe tbody tr th:only-of-type {\n",
       "        vertical-align: middle;\n",
       "    }\n",
       "\n",
       "    .dataframe tbody tr th {\n",
       "        vertical-align: top;\n",
       "    }\n",
       "\n",
       "    .dataframe thead th {\n",
       "        text-align: right;\n",
       "    }\n",
       "</style>\n",
       "<table border=\"1\" class=\"dataframe\">\n",
       "  <tbody>\n",
       "    <tr>\n",
       "      <th>t_0</th>\n",
       "      <td>60</td>\n",
       "    </tr>\n",
       "    <tr>\n",
       "      <th>null_distribution</th>\n",
       "      <td>chi squared</td>\n",
       "    </tr>\n",
       "    <tr>\n",
       "      <th>degrees_of_freedom</th>\n",
       "      <td>1</td>\n",
       "    </tr>\n",
       "    <tr>\n",
       "      <th>test_name</th>\n",
       "      <td>multivariate_Peto_test</td>\n",
       "    </tr>\n",
       "  </tbody>\n",
       "</table>\n",
       "</div><table border=\"1\" class=\"dataframe\">\n",
       "  <thead>\n",
       "    <tr style=\"text-align: right;\">\n",
       "      <th></th>\n",
       "      <th>test_statistic</th>\n",
       "      <th>p</th>\n",
       "    </tr>\n",
       "  </thead>\n",
       "  <tbody>\n",
       "    <tr>\n",
       "      <th>0</th>\n",
       "      <td>11.06</td>\n",
       "      <td>&lt;0.005</td>\n",
       "    </tr>\n",
       "  </tbody>\n",
       "</table>"
      ],
      "text/plain": [
       "<IPython.core.display.HTML object>"
      ]
     },
     "metadata": {},
     "output_type": "display_data"
    }
   ],
   "source": [
    "# Generalized\n",
    "# result = multivariate_logrank_test(clusters.dropna(subset = [\"DFS_MONTHS\"])['DFS_MONTHS'], clusters.dropna(subset = [\"DFS_MONTHS\"])[\"Cluster\"], clusters.dropna(subset = [\"DFS_MONTHS\"])['DFS_STATUS'], t_0=70)\n",
    "result = multivariate_logrank_test(T_dfs, clusters.dropna(subset = [\"DFS_MONTHS\"])[\"Cluster\"], E_dfs, t_0 = 60, weightings=\"peto\")\n",
    "result.print_summary()"
   ]
  },
  {
   "cell_type": "code",
   "execution_count": 58,
   "metadata": {},
   "outputs": [
    {
     "data": {
      "text/html": [
       "<div>\n",
       "<style scoped>\n",
       "    .dataframe tbody tr th:only-of-type {\n",
       "        vertical-align: middle;\n",
       "    }\n",
       "\n",
       "    .dataframe tbody tr th {\n",
       "        vertical-align: top;\n",
       "    }\n",
       "\n",
       "    .dataframe thead th {\n",
       "        text-align: right;\n",
       "    }\n",
       "</style>\n",
       "<table border=\"1\" class=\"dataframe\">\n",
       "  <tbody>\n",
       "    <tr>\n",
       "      <th>t_0</th>\n",
       "      <td>60</td>\n",
       "    </tr>\n",
       "    <tr>\n",
       "      <th>null_distribution</th>\n",
       "      <td>chi squared</td>\n",
       "    </tr>\n",
       "    <tr>\n",
       "      <th>degrees_of_freedom</th>\n",
       "      <td>1</td>\n",
       "    </tr>\n",
       "    <tr>\n",
       "      <th>test_name</th>\n",
       "      <td>Peto_test</td>\n",
       "    </tr>\n",
       "  </tbody>\n",
       "</table>\n",
       "</div><table border=\"1\" class=\"dataframe\">\n",
       "  <thead>\n",
       "    <tr style=\"text-align: right;\">\n",
       "      <th></th>\n",
       "      <th></th>\n",
       "      <th>test_statistic</th>\n",
       "      <th>p</th>\n",
       "    </tr>\n",
       "  </thead>\n",
       "  <tbody>\n",
       "    <tr>\n",
       "      <th>Cluster 01</th>\n",
       "      <th>Cluster 02</th>\n",
       "      <td>11.06</td>\n",
       "      <td>&lt;0.005</td>\n",
       "    </tr>\n",
       "  </tbody>\n",
       "</table>"
      ],
      "text/plain": [
       "<IPython.core.display.HTML object>"
      ]
     },
     "metadata": {},
     "output_type": "display_data"
    }
   ],
   "source": [
    "# pairwise\n",
    "# result = pairwise_logrank_test(clusters.dropna(subset = [\"DFS_MONTHS\"])['DFS_MONTHS'], clusters.dropna(subset = [\"DFS_MONTHS\"])[\"Cluster\"], clusters.dropna(subset = [\"DFS_MONTHS\"])['DFS_STATUS'], t_0=70)\n",
    "result = pairwise_logrank_test(T_dfs, clusters.dropna(subset = [\"DFS_MONTHS\"])[\"Cluster\"], E_dfs, t_0 = 60, weightings=\"peto\")\n",
    "result.print_summary()"
   ]
  },
  {
   "cell_type": "markdown",
   "metadata": {},
   "source": [
    "### Cox proportional hazards regression model"
   ]
  },
  {
   "cell_type": "markdown",
   "metadata": {},
   "source": [
    "#### One-hot encoding"
   ]
  },
  {
   "cell_type": "code",
   "execution_count": 32,
   "metadata": {},
   "outputs": [],
   "source": [
    "# # Convert cluster to one-hot encoding\n",
    "# clusters_dummy = pd.get_dummies(clusters.dropna(subset = [\"DFS_MONTHS\"])[\"Cluster\"])\n",
    "# clusters_dummy = pd.concat([clusters_dummy, T_dfs],axis=1)\n",
    "# clusters_dummy = pd.concat([clusters_dummy, E_dfs],axis=1)\n",
    "# print(clusters_dummy.shape)\n",
    "# clusters_dummy.head(5)"
   ]
  },
  {
   "cell_type": "code",
   "execution_count": 33,
   "metadata": {},
   "outputs": [],
   "source": [
    "# # To use cox model, at least drop one of the converted col\n",
    "# clusters_dummy.drop(columns=[\"Cluster 03\"], inplace=True)"
   ]
  },
  {
   "cell_type": "code",
   "execution_count": 34,
   "metadata": {},
   "outputs": [],
   "source": [
    "# # Using Cox Proportional Hazards model\n",
    "# cph = CoxPHFitter()   ## Instantiate the class to create a cph object\n",
    "# print(cph.fit(clusters_dummy, \"DFS_MONTHS\", \"DFS_STATUS\"))   ## Fit the data to train the model\n",
    "# cph.print_summary()    ## HAve a look at the significance of the features"
   ]
  },
  {
   "cell_type": "markdown",
   "metadata": {},
   "source": [
    "#### Ordered integer colomn"
   ]
  },
  {
   "cell_type": "code",
   "execution_count": 35,
   "metadata": {},
   "outputs": [],
   "source": [
    "# # Order the clusters: higher values means higher expression.\n",
    "# clusters_dummy = clusters.dropna(subset = [\"DFS_MONTHS\"]).reset_index(drop=True).filter(items=[\"Cluster\",\"DFS_STATUS\",\"DFS_MONTHS\"])\n",
    "# for i in range(len(clusters_dummy)):\n",
    "#     c = int(clusters_dummy[\"Cluster\"][i][-1])\n",
    "#     if c == 1:\n",
    "#         c = 2\n",
    "#     elif c == 2:\n",
    "#         c = 1\n",
    "#     clusters_dummy.loc[i, \"Cluster\"] = c\n",
    "# print(clusters_dummy.shape)\n",
    "# clusters_dummy.head(5)"
   ]
  },
  {
   "cell_type": "code",
   "execution_count": 36,
   "metadata": {},
   "outputs": [],
   "source": [
    "# # Using Cox Proportional Hazards model without on hot encoding\n",
    "# cph = CoxPHFitter()   ## Instantiate the class to create a cph object\n",
    "# print(cph.fit(clusters_dummy, \"DFS_MONTHS\", \"DFS_STATUS\"))   ## Fit the data to train the model\n",
    "# cph.print_summary()    ## HAve a look at the significance of the features"
   ]
  },
  {
   "cell_type": "code",
   "execution_count": 37,
   "metadata": {},
   "outputs": [],
   "source": [
    "# # Check if the proprtional hazards assuption is violated\n",
    "# cph.check_assumptions(clusters_dummy,show_plots=True)"
   ]
  },
  {
   "cell_type": "code",
   "execution_count": 38,
   "metadata": {},
   "outputs": [],
   "source": [
    "# naf = NelsonAalenFitter()\n",
    "# bandwidth = 3\n",
    "\n",
    "# naf.fit(T_dfs1, event_observed=E_dfs1, label=\"Cluster 01\")\n",
    "# # ax = naf.plot(loc=slice(0, 70))\n",
    "# ax = naf.plot()\n",
    "\n",
    "# naf.fit(T_dfs2, event_observed=E_dfs2, label=\"Cluster 02\")\n",
    "# # naf.plot(ax=ax, loc=slice(0, 70))\n",
    "# ax = naf.plot()\n",
    "\n",
    "# naf.fit(T_dfs3, event_observed=E_dfs3, label=\"Cluster 03\")\n",
    "# # naf.plot(ax=ax, loc=slice(0, 70))\n",
    "# ax = naf.plot()\n",
    "\n",
    "# plt.title(\"Cumulative Hazard Function: Disease Free Survival\");\n",
    "# # plt.ylim(0, 0.4)\n",
    "# # plt.xlim(0, 125);\n",
    "# ax.legend(loc='upper left')\n",
    "# plt.tight_layout()\n",
    "# plt.savefig(out_path+\"dfs_cumulative_hazard.png\")"
   ]
  },
  {
   "cell_type": "code",
   "execution_count": 59,
   "metadata": {},
   "outputs": [
    {
     "data": {
      "image/png": "[encoded data removed]",
      "text/plain": [
       "<Figure size 432x288 with 1 Axes>"
      ]
     },
     "metadata": {
      "needs_background": "light"
     },
     "output_type": "display_data"
    }
   ],
   "source": [
    "naf = NelsonAalenFitter()\n",
    "bandwidth = 3\n",
    "\n",
    "naf.fit(T_dfs1, event_observed=E_dfs1, label=\"Cluster 01\")\n",
    "ax = naf.plot(loc=slice(0, 60))\n",
    "# ax = naf.plot()\n",
    "\n",
    "naf.fit(T_dfs2, event_observed=E_dfs2, label=\"Cluster 02\")\n",
    "naf.plot(ax=ax, loc=slice(0, 60))\n",
    "# ax = naf.plot()\n",
    "\n",
    "# naf.fit(T_dfs3, event_observed=E_dfs3, label=\"Cluster 03\")\n",
    "# naf.plot(ax=ax, loc=slice(0, 60))\n",
    "# # ax = naf.plot()\n",
    "\n",
    "# naf.fit(T_dfs4, event_observed=E_dfs4, label=\"Cluster 04\")\n",
    "# naf.plot(ax=ax, loc=slice(0, 60))\n",
    "# # ax = naf.plot()\n",
    "\n",
    "plt.title(\"Cumulative Hazard Function: Disease Free Survival\");\n",
    "# plt.ylim(0, 0.4)\n",
    "plt.xlim(0, 60);\n",
    "ax.legend(loc='upper left')\n",
    "plt.tight_layout()\n",
    "plt.savefig(out_path+\"dfs_cumulative_hazard_60.png\")"
   ]
  }
 ],
 "metadata": {
  "kernelspec": {
   "display_name": "Python r-tensorflow",
   "language": "python",
   "name": "r-tensorflow"
  },
  "language_info": {
   "codemirror_mode": {
    "name": "ipython",
    "version": 3
   },
   "file_extension": ".py",
   "mimetype": "text/x-python",
   "name": "python",
   "nbconvert_exporter": "python",
   "pygments_lexer": "ipython3",
   "version": "3.6.8"
  }
 },
 "nbformat": 4,
 "nbformat_minor": 2
}
