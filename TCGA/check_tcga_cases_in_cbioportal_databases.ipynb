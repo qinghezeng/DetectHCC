{
 "cells": [
  {
   "cell_type": "markdown",
   "metadata": {},
   "source": [
    "# Check if the TCGA cases we used are covered by the 2 cbioportal databases"
   ]
  },
  {
   "cell_type": "code",
   "execution_count": 1,
   "metadata": {},
   "outputs": [],
   "source": [
    "import os\n",
    "import pandas as pd"
   ]
  },
  {
   "cell_type": "code",
   "execution_count": 20,
   "metadata": {},
   "outputs": [],
   "source": [
    "root1 = \"/media/visiopharm5/WDGold/deeplearning/Hepatocarcinomes/TCGA\"\n",
    "root2 = \"/home/visiopharm5/Downloads/lihc_tcga\"\n",
    "root3 = \"/home/visiopharm5/Downloads/lihc_tcga_pan_can_atlas_2018\""
   ]
  },
  {
   "cell_type": "markdown",
   "metadata": {},
   "source": [
    "### Our data"
   ]
  },
  {
   "cell_type": "code",
   "execution_count": 30,
   "metadata": {},
   "outputs": [
    {
     "name": "stdout",
     "output_type": "stream",
     "text": [
      "df:\n"
     ]
    },
    {
     "data": {
      "text/html": [
       "<div>\n",
       "<style scoped>\n",
       "    .dataframe tbody tr th:only-of-type {\n",
       "        vertical-align: middle;\n",
       "    }\n",
       "\n",
       "    .dataframe tbody tr th {\n",
       "        vertical-align: top;\n",
       "    }\n",
       "\n",
       "    .dataframe thead th {\n",
       "        text-align: right;\n",
       "    }\n",
       "</style>\n",
       "<table border=\"1\" class=\"dataframe\">\n",
       "  <thead>\n",
       "    <tr style=\"text-align: right;\">\n",
       "      <th></th>\n",
       "      <th>Gene Name</th>\n",
       "      <th>A9FW-01A</th>\n",
       "      <th>AA0U-01A</th>\n",
       "      <th>A115-01A</th>\n",
       "      <th>AAEA-01A</th>\n",
       "      <th>A4NL-01A</th>\n",
       "      <th>5261-01A</th>\n",
       "      <th>A9H9-01A</th>\n",
       "      <th>AAVW-01A</th>\n",
       "      <th>AADO-01A</th>\n",
       "      <th>...</th>\n",
       "      <th>A73C-01A</th>\n",
       "      <th>A8TG-01A</th>\n",
       "      <th>A8TD-01A</th>\n",
       "      <th>A9CE-01A</th>\n",
       "      <th>AAEE-01A</th>\n",
       "      <th>A1HT-01A</th>\n",
       "      <th>A25S-01A</th>\n",
       "      <th>AADA-01A</th>\n",
       "      <th>A110-01A</th>\n",
       "      <th>AAW2-01A</th>\n",
       "    </tr>\n",
       "  </thead>\n",
       "  <tbody>\n",
       "    <tr>\n",
       "      <th>0</th>\n",
       "      <td>A2M</td>\n",
       "      <td>-0.537831</td>\n",
       "      <td>-0.098557</td>\n",
       "      <td>0.570601</td>\n",
       "      <td>1.113889</td>\n",
       "      <td>1.378957</td>\n",
       "      <td>0.339931</td>\n",
       "      <td>0.519716</td>\n",
       "      <td>-0.229012</td>\n",
       "      <td>0.918444</td>\n",
       "      <td>...</td>\n",
       "      <td>-0.040091</td>\n",
       "      <td>-0.370477</td>\n",
       "      <td>-0.303912</td>\n",
       "      <td>-0.744625</td>\n",
       "      <td>-1.526131</td>\n",
       "      <td>-2.251771</td>\n",
       "      <td>-1.227865</td>\n",
       "      <td>0.392349</td>\n",
       "      <td>1.089595</td>\n",
       "      <td>-0.931235</td>\n",
       "    </tr>\n",
       "    <tr>\n",
       "      <th>1</th>\n",
       "      <td>ACVR1C</td>\n",
       "      <td>-0.504946</td>\n",
       "      <td>-0.839264</td>\n",
       "      <td>0.142706</td>\n",
       "      <td>3.458086</td>\n",
       "      <td>1.217347</td>\n",
       "      <td>-0.765562</td>\n",
       "      <td>1.723686</td>\n",
       "      <td>-0.722042</td>\n",
       "      <td>-0.709895</td>\n",
       "      <td>...</td>\n",
       "      <td>0.496980</td>\n",
       "      <td>-0.485577</td>\n",
       "      <td>0.029178</td>\n",
       "      <td>-0.503878</td>\n",
       "      <td>-0.254889</td>\n",
       "      <td>-0.829736</td>\n",
       "      <td>0.462781</td>\n",
       "      <td>-0.576640</td>\n",
       "      <td>-0.413706</td>\n",
       "      <td>0.231489</td>\n",
       "    </tr>\n",
       "    <tr>\n",
       "      <th>2</th>\n",
       "      <td>ADAM12</td>\n",
       "      <td>-0.357543</td>\n",
       "      <td>0.253627</td>\n",
       "      <td>-0.320644</td>\n",
       "      <td>-0.284019</td>\n",
       "      <td>-0.037574</td>\n",
       "      <td>0.561511</td>\n",
       "      <td>-0.476636</td>\n",
       "      <td>0.382324</td>\n",
       "      <td>-0.181578</td>\n",
       "      <td>...</td>\n",
       "      <td>-0.391108</td>\n",
       "      <td>-0.030610</td>\n",
       "      <td>0.275191</td>\n",
       "      <td>-0.482136</td>\n",
       "      <td>-0.394662</td>\n",
       "      <td>-0.303797</td>\n",
       "      <td>-0.440273</td>\n",
       "      <td>-0.284500</td>\n",
       "      <td>-0.024295</td>\n",
       "      <td>-0.429420</td>\n",
       "    </tr>\n",
       "    <tr>\n",
       "      <th>3</th>\n",
       "      <td>ADM</td>\n",
       "      <td>-0.468373</td>\n",
       "      <td>-1.087499</td>\n",
       "      <td>-0.244260</td>\n",
       "      <td>0.992700</td>\n",
       "      <td>0.613214</td>\n",
       "      <td>-1.559603</td>\n",
       "      <td>-1.044426</td>\n",
       "      <td>-1.357893</td>\n",
       "      <td>-0.203794</td>\n",
       "      <td>...</td>\n",
       "      <td>-0.755130</td>\n",
       "      <td>0.555368</td>\n",
       "      <td>2.868043</td>\n",
       "      <td>-0.528681</td>\n",
       "      <td>-0.462068</td>\n",
       "      <td>-0.934544</td>\n",
       "      <td>-0.309320</td>\n",
       "      <td>-0.867872</td>\n",
       "      <td>4.224364</td>\n",
       "      <td>0.478948</td>\n",
       "    </tr>\n",
       "    <tr>\n",
       "      <th>4</th>\n",
       "      <td>ADORA2A</td>\n",
       "      <td>-0.838191</td>\n",
       "      <td>-0.004292</td>\n",
       "      <td>0.176411</td>\n",
       "      <td>0.029100</td>\n",
       "      <td>0.214656</td>\n",
       "      <td>0.686575</td>\n",
       "      <td>-0.872496</td>\n",
       "      <td>0.971425</td>\n",
       "      <td>2.615223</td>\n",
       "      <td>...</td>\n",
       "      <td>-0.253756</td>\n",
       "      <td>-1.113808</td>\n",
       "      <td>0.465562</td>\n",
       "      <td>-0.154081</td>\n",
       "      <td>-0.778446</td>\n",
       "      <td>-1.139846</td>\n",
       "      <td>-1.274851</td>\n",
       "      <td>1.244942</td>\n",
       "      <td>1.185422</td>\n",
       "      <td>0.760262</td>\n",
       "    </tr>\n",
       "  </tbody>\n",
       "</table>\n",
       "<p>5 rows × 341 columns</p>\n",
       "</div>"
      ],
      "text/plain": [
       "  Gene Name  A9FW-01A  AA0U-01A  A115-01A  AAEA-01A  A4NL-01A  5261-01A  \\\n",
       "0       A2M -0.537831 -0.098557  0.570601  1.113889  1.378957  0.339931   \n",
       "1    ACVR1C -0.504946 -0.839264  0.142706  3.458086  1.217347 -0.765562   \n",
       "2    ADAM12 -0.357543  0.253627 -0.320644 -0.284019 -0.037574  0.561511   \n",
       "3       ADM -0.468373 -1.087499 -0.244260  0.992700  0.613214 -1.559603   \n",
       "4   ADORA2A -0.838191 -0.004292  0.176411  0.029100  0.214656  0.686575   \n",
       "\n",
       "   A9H9-01A  AAVW-01A  AADO-01A  ...  A73C-01A  A8TG-01A  A8TD-01A  A9CE-01A  \\\n",
       "0  0.519716 -0.229012  0.918444  ... -0.040091 -0.370477 -0.303912 -0.744625   \n",
       "1  1.723686 -0.722042 -0.709895  ...  0.496980 -0.485577  0.029178 -0.503878   \n",
       "2 -0.476636  0.382324 -0.181578  ... -0.391108 -0.030610  0.275191 -0.482136   \n",
       "3 -1.044426 -1.357893 -0.203794  ... -0.755130  0.555368  2.868043 -0.528681   \n",
       "4 -0.872496  0.971425  2.615223  ... -0.253756 -1.113808  0.465562 -0.154081   \n",
       "\n",
       "   AAEE-01A  A1HT-01A  A25S-01A  AADA-01A  A110-01A  AAW2-01A  \n",
       "0 -1.526131 -2.251771 -1.227865  0.392349  1.089595 -0.931235  \n",
       "1 -0.254889 -0.829736  0.462781 -0.576640 -0.413706  0.231489  \n",
       "2 -0.394662 -0.303797 -0.440273 -0.284500 -0.024295 -0.429420  \n",
       "3 -0.462068 -0.934544 -0.309320 -0.867872  4.224364  0.478948  \n",
       "4 -0.778446 -1.139846 -1.274851  1.244942  1.185422  0.760262  \n",
       "\n",
       "[5 rows x 341 columns]"
      ]
     },
     "metadata": {},
     "output_type": "display_data"
    },
    {
     "name": "stdout",
     "output_type": "stream",
     "text": [
      "(733, 341)\n",
      "Gene Name\n",
      "4072-01B\n",
      "4073-01B\n"
     ]
    }
   ],
   "source": [
    "df = pd.read_csv(os.path.join(root1, 'processed/fpkm_final_log2-zscore_CCL3L1-noDEFB134.csv'), sep='\\t')\n",
    "print(\"df:\")\n",
    "display(df.head(5))\n",
    "print(df.shape) # (754, 424), added CCL3L1\n",
    "for column in list(df.columns.values):\n",
    "    if not column.endswith('01A'):\n",
    "        print(column)"
   ]
  },
  {
   "cell_type": "code",
   "execution_count": 10,
   "metadata": {},
   "outputs": [],
   "source": [
    "set_ours = set([i[:-1] for i in list(df.columns.values)[1:]])"
   ]
  },
  {
   "cell_type": "markdown",
   "metadata": {},
   "source": [
    "### Firehose database from cbioportal"
   ]
  },
  {
   "cell_type": "code",
   "execution_count": 8,
   "metadata": {},
   "outputs": [
    {
     "data": {
      "text/html": [
       "<div>\n",
       "<style scoped>\n",
       "    .dataframe tbody tr th:only-of-type {\n",
       "        vertical-align: middle;\n",
       "    }\n",
       "\n",
       "    .dataframe tbody tr th {\n",
       "        vertical-align: top;\n",
       "    }\n",
       "\n",
       "    .dataframe thead th {\n",
       "        text-align: right;\n",
       "    }\n",
       "</style>\n",
       "<table border=\"1\" class=\"dataframe\">\n",
       "  <thead>\n",
       "    <tr style=\"text-align: right;\">\n",
       "      <th></th>\n",
       "      <th>Hugo_Symbol</th>\n",
       "      <th>Entrez_Gene_Id</th>\n",
       "      <th>TCGA-2V-A95S-01</th>\n",
       "      <th>TCGA-2Y-A9GS-01</th>\n",
       "      <th>TCGA-2Y-A9GT-01</th>\n",
       "      <th>TCGA-2Y-A9GU-01</th>\n",
       "      <th>TCGA-2Y-A9GV-01</th>\n",
       "      <th>TCGA-2Y-A9GW-01</th>\n",
       "      <th>TCGA-2Y-A9GX-01</th>\n",
       "      <th>TCGA-2Y-A9GY-01</th>\n",
       "      <th>...</th>\n",
       "      <th>TCGA-ZP-A9CZ-01</th>\n",
       "      <th>TCGA-ZP-A9D0-01</th>\n",
       "      <th>TCGA-ZP-A9D1-01</th>\n",
       "      <th>TCGA-ZP-A9D2-01</th>\n",
       "      <th>TCGA-ZP-A9D4-01</th>\n",
       "      <th>TCGA-ZS-A9CD-01</th>\n",
       "      <th>TCGA-ZS-A9CE-01</th>\n",
       "      <th>TCGA-ZS-A9CF-01</th>\n",
       "      <th>TCGA-ZS-A9CF-02</th>\n",
       "      <th>TCGA-ZS-A9CG-01</th>\n",
       "    </tr>\n",
       "  </thead>\n",
       "  <tbody>\n",
       "    <tr>\n",
       "      <th>0</th>\n",
       "      <td>UBE2Q2P2</td>\n",
       "      <td>100134869</td>\n",
       "      <td>-0.2717</td>\n",
       "      <td>-0.5324</td>\n",
       "      <td>-0.0775</td>\n",
       "      <td>0.0824</td>\n",
       "      <td>0.1578</td>\n",
       "      <td>0.6956</td>\n",
       "      <td>0.9245</td>\n",
       "      <td>0.3342</td>\n",
       "      <td>...</td>\n",
       "      <td>0.0156</td>\n",
       "      <td>-0.5797</td>\n",
       "      <td>0.0157</td>\n",
       "      <td>3.4724</td>\n",
       "      <td>0.5308</td>\n",
       "      <td>-0.7523</td>\n",
       "      <td>0.9915</td>\n",
       "      <td>1.2762</td>\n",
       "      <td>1.6706</td>\n",
       "      <td>0.8597</td>\n",
       "    </tr>\n",
       "    <tr>\n",
       "      <th>1</th>\n",
       "      <td>HMGB1P1</td>\n",
       "      <td>10357</td>\n",
       "      <td>NaN</td>\n",
       "      <td>NaN</td>\n",
       "      <td>NaN</td>\n",
       "      <td>NaN</td>\n",
       "      <td>NaN</td>\n",
       "      <td>NaN</td>\n",
       "      <td>NaN</td>\n",
       "      <td>NaN</td>\n",
       "      <td>...</td>\n",
       "      <td>NaN</td>\n",
       "      <td>NaN</td>\n",
       "      <td>NaN</td>\n",
       "      <td>NaN</td>\n",
       "      <td>NaN</td>\n",
       "      <td>NaN</td>\n",
       "      <td>NaN</td>\n",
       "      <td>NaN</td>\n",
       "      <td>NaN</td>\n",
       "      <td>NaN</td>\n",
       "    </tr>\n",
       "    <tr>\n",
       "      <th>2</th>\n",
       "      <td>LOC155060</td>\n",
       "      <td>155060</td>\n",
       "      <td>NaN</td>\n",
       "      <td>NaN</td>\n",
       "      <td>NaN</td>\n",
       "      <td>NaN</td>\n",
       "      <td>NaN</td>\n",
       "      <td>NaN</td>\n",
       "      <td>NaN</td>\n",
       "      <td>NaN</td>\n",
       "      <td>...</td>\n",
       "      <td>NaN</td>\n",
       "      <td>NaN</td>\n",
       "      <td>NaN</td>\n",
       "      <td>NaN</td>\n",
       "      <td>NaN</td>\n",
       "      <td>NaN</td>\n",
       "      <td>NaN</td>\n",
       "      <td>NaN</td>\n",
       "      <td>NaN</td>\n",
       "      <td>NaN</td>\n",
       "    </tr>\n",
       "    <tr>\n",
       "      <th>3</th>\n",
       "      <td>RNU12-2P</td>\n",
       "      <td>26823</td>\n",
       "      <td>NaN</td>\n",
       "      <td>NaN</td>\n",
       "      <td>NaN</td>\n",
       "      <td>NaN</td>\n",
       "      <td>NaN</td>\n",
       "      <td>NaN</td>\n",
       "      <td>NaN</td>\n",
       "      <td>NaN</td>\n",
       "      <td>...</td>\n",
       "      <td>NaN</td>\n",
       "      <td>NaN</td>\n",
       "      <td>NaN</td>\n",
       "      <td>NaN</td>\n",
       "      <td>NaN</td>\n",
       "      <td>NaN</td>\n",
       "      <td>NaN</td>\n",
       "      <td>NaN</td>\n",
       "      <td>NaN</td>\n",
       "      <td>NaN</td>\n",
       "    </tr>\n",
       "    <tr>\n",
       "      <th>4</th>\n",
       "      <td>SSX9</td>\n",
       "      <td>280660</td>\n",
       "      <td>-0.3675</td>\n",
       "      <td>-0.3675</td>\n",
       "      <td>-0.1933</td>\n",
       "      <td>-0.3675</td>\n",
       "      <td>-0.3675</td>\n",
       "      <td>-0.3675</td>\n",
       "      <td>-0.3675</td>\n",
       "      <td>2.0255</td>\n",
       "      <td>...</td>\n",
       "      <td>-0.3675</td>\n",
       "      <td>-0.3675</td>\n",
       "      <td>-0.3675</td>\n",
       "      <td>-0.3675</td>\n",
       "      <td>-0.3675</td>\n",
       "      <td>-0.3675</td>\n",
       "      <td>-0.3675</td>\n",
       "      <td>-0.3675</td>\n",
       "      <td>-0.2474</td>\n",
       "      <td>-0.3675</td>\n",
       "    </tr>\n",
       "  </tbody>\n",
       "</table>\n",
       "<p>5 rows × 375 columns</p>\n",
       "</div>"
      ],
      "text/plain": [
       "  Hugo_Symbol  Entrez_Gene_Id  TCGA-2V-A95S-01  TCGA-2Y-A9GS-01  \\\n",
       "0    UBE2Q2P2       100134869          -0.2717          -0.5324   \n",
       "1     HMGB1P1           10357              NaN              NaN   \n",
       "2   LOC155060          155060              NaN              NaN   \n",
       "3    RNU12-2P           26823              NaN              NaN   \n",
       "4        SSX9          280660          -0.3675          -0.3675   \n",
       "\n",
       "   TCGA-2Y-A9GT-01  TCGA-2Y-A9GU-01  TCGA-2Y-A9GV-01  TCGA-2Y-A9GW-01  \\\n",
       "0          -0.0775           0.0824           0.1578           0.6956   \n",
       "1              NaN              NaN              NaN              NaN   \n",
       "2              NaN              NaN              NaN              NaN   \n",
       "3              NaN              NaN              NaN              NaN   \n",
       "4          -0.1933          -0.3675          -0.3675          -0.3675   \n",
       "\n",
       "   TCGA-2Y-A9GX-01  TCGA-2Y-A9GY-01  ...  TCGA-ZP-A9CZ-01  TCGA-ZP-A9D0-01  \\\n",
       "0           0.9245           0.3342  ...           0.0156          -0.5797   \n",
       "1              NaN              NaN  ...              NaN              NaN   \n",
       "2              NaN              NaN  ...              NaN              NaN   \n",
       "3              NaN              NaN  ...              NaN              NaN   \n",
       "4          -0.3675           2.0255  ...          -0.3675          -0.3675   \n",
       "\n",
       "   TCGA-ZP-A9D1-01  TCGA-ZP-A9D2-01  TCGA-ZP-A9D4-01  TCGA-ZS-A9CD-01  \\\n",
       "0           0.0157           3.4724           0.5308          -0.7523   \n",
       "1              NaN              NaN              NaN              NaN   \n",
       "2              NaN              NaN              NaN              NaN   \n",
       "3              NaN              NaN              NaN              NaN   \n",
       "4          -0.3675          -0.3675          -0.3675          -0.3675   \n",
       "\n",
       "   TCGA-ZS-A9CE-01  TCGA-ZS-A9CF-01  TCGA-ZS-A9CF-02  TCGA-ZS-A9CG-01  \n",
       "0           0.9915           1.2762           1.6706           0.8597  \n",
       "1              NaN              NaN              NaN              NaN  \n",
       "2              NaN              NaN              NaN              NaN  \n",
       "3              NaN              NaN              NaN              NaN  \n",
       "4          -0.3675          -0.3675          -0.2474          -0.3675  \n",
       "\n",
       "[5 rows x 375 columns]"
      ]
     },
     "metadata": {},
     "output_type": "display_data"
    },
    {
     "name": "stdout",
     "output_type": "stream",
     "text": [
      "(20440, 375)\n"
     ]
    }
   ],
   "source": [
    "df_firehose = pd.read_csv(os.path.join(root2, 'data_RNA_Seq_v2_mRNA_median_Zscores.txt'), sep='\\t')\n",
    "display(df_firehose.head(5))\n",
    "print(df_firehose.shape)"
   ]
  },
  {
   "cell_type": "code",
   "execution_count": 14,
   "metadata": {},
   "outputs": [],
   "source": [
    "set_firehose = set([i[8:] for i in list(df_firehose.columns.values)[2:]])"
   ]
  },
  {
   "cell_type": "code",
   "execution_count": 15,
   "metadata": {},
   "outputs": [
    {
     "data": {
      "text/plain": [
       "set()"
      ]
     },
     "execution_count": 15,
     "metadata": {},
     "output_type": "execute_result"
    }
   ],
   "source": [
    "set_ours - set_firehose # set(), so all case we used are included"
   ]
  },
  {
   "cell_type": "markdown",
   "metadata": {},
   "source": [
    "### PanCancer database from cbioportal"
   ]
  },
  {
   "cell_type": "code",
   "execution_count": 22,
   "metadata": {},
   "outputs": [
    {
     "data": {
      "text/html": [
       "<div>\n",
       "<style scoped>\n",
       "    .dataframe tbody tr th:only-of-type {\n",
       "        vertical-align: middle;\n",
       "    }\n",
       "\n",
       "    .dataframe tbody tr th {\n",
       "        vertical-align: top;\n",
       "    }\n",
       "\n",
       "    .dataframe thead th {\n",
       "        text-align: right;\n",
       "    }\n",
       "</style>\n",
       "<table border=\"1\" class=\"dataframe\">\n",
       "  <thead>\n",
       "    <tr style=\"text-align: right;\">\n",
       "      <th></th>\n",
       "      <th>cancer_study_identifier</th>\n",
       "      <th>lihc_tcga_pan_can_atlas_2018</th>\n",
       "    </tr>\n",
       "  </thead>\n",
       "  <tbody>\n",
       "    <tr>\n",
       "      <th>0</th>\n",
       "      <td>stable_id</td>\n",
       "      <td>lihc_tcga_pan_can_atlas_2018_all</td>\n",
       "    </tr>\n",
       "    <tr>\n",
       "      <th>1</th>\n",
       "      <td>case_list_name</td>\n",
       "      <td>All samples</td>\n",
       "    </tr>\n",
       "    <tr>\n",
       "      <th>2</th>\n",
       "      <td>case_list_description</td>\n",
       "      <td>All samples (372 samples)</td>\n",
       "    </tr>\n",
       "    <tr>\n",
       "      <th>3</th>\n",
       "      <td>case_list_category</td>\n",
       "      <td>all_cases_in_study</td>\n",
       "    </tr>\n",
       "    <tr>\n",
       "      <th>4</th>\n",
       "      <td>case_list_ids</td>\n",
       "      <td>TCGA-DD-AACG-01\\tTCGA-FV-A495-01\\tTCGA-DD-A4N...</td>\n",
       "    </tr>\n",
       "  </tbody>\n",
       "</table>\n",
       "</div>"
      ],
      "text/plain": [
       "  cancer_study_identifier                       lihc_tcga_pan_can_atlas_2018\n",
       "0               stable_id                   lihc_tcga_pan_can_atlas_2018_all\n",
       "1          case_list_name                                        All samples\n",
       "2   case_list_description                          All samples (372 samples)\n",
       "3      case_list_category                                 all_cases_in_study\n",
       "4           case_list_ids   TCGA-DD-AACG-01\\tTCGA-FV-A495-01\\tTCGA-DD-A4N..."
      ]
     },
     "metadata": {},
     "output_type": "display_data"
    },
    {
     "name": "stdout",
     "output_type": "stream",
     "text": [
      "(5, 2)\n"
     ]
    }
   ],
   "source": [
    "df_pancancer = pd.read_csv(os.path.join(root3, 'data_RNA_Seq_v2_expression_median.txt'), sep='\\t')\n",
    "display(df_pancancer.head(5))\n",
    "print(df_pancancer.shape)"
   ]
  },
  {
   "cell_type": "code",
   "execution_count": 18,
   "metadata": {},
   "outputs": [],
   "source": [
    "set_pancancer = set([i[8:] for i in list(df_pancancer.columns.values)[2:]])"
   ]
  },
  {
   "cell_type": "code",
   "execution_count": 19,
   "metadata": {},
   "outputs": [
    {
     "data": {
      "text/plain": [
       "{'A6J8-01', 'A8HS-01', 'A8TC-01'}"
      ]
     },
     "execution_count": 19,
     "metadata": {},
     "output_type": "execute_result"
    }
   ],
   "source": [
    "set_ours - set_pancancer # {'A6J8-01', 'A8HS-01', 'A8TC-01'}"
   ]
  },
  {
   "cell_type": "markdown",
   "metadata": {},
   "source": [
    "#### Double-check with a file with all case"
   ]
  },
  {
   "cell_type": "code",
   "execution_count": 23,
   "metadata": {},
   "outputs": [
    {
     "data": {
      "text/html": [
       "<div>\n",
       "<style scoped>\n",
       "    .dataframe tbody tr th:only-of-type {\n",
       "        vertical-align: middle;\n",
       "    }\n",
       "\n",
       "    .dataframe tbody tr th {\n",
       "        vertical-align: top;\n",
       "    }\n",
       "\n",
       "    .dataframe thead th {\n",
       "        text-align: right;\n",
       "    }\n",
       "</style>\n",
       "<table border=\"1\" class=\"dataframe\">\n",
       "  <thead>\n",
       "    <tr style=\"text-align: right;\">\n",
       "      <th></th>\n",
       "      <th>cancer_study_identifier</th>\n",
       "      <th>lihc_tcga_pan_can_atlas_2018</th>\n",
       "    </tr>\n",
       "  </thead>\n",
       "  <tbody>\n",
       "    <tr>\n",
       "      <th>0</th>\n",
       "      <td>stable_id</td>\n",
       "      <td>lihc_tcga_pan_can_atlas_2018_all</td>\n",
       "    </tr>\n",
       "    <tr>\n",
       "      <th>1</th>\n",
       "      <td>case_list_name</td>\n",
       "      <td>All samples</td>\n",
       "    </tr>\n",
       "    <tr>\n",
       "      <th>2</th>\n",
       "      <td>case_list_description</td>\n",
       "      <td>All samples (372 samples)</td>\n",
       "    </tr>\n",
       "    <tr>\n",
       "      <th>3</th>\n",
       "      <td>case_list_category</td>\n",
       "      <td>all_cases_in_study</td>\n",
       "    </tr>\n",
       "    <tr>\n",
       "      <th>4</th>\n",
       "      <td>case_list_ids</td>\n",
       "      <td>TCGA-DD-AACG-01\\tTCGA-FV-A495-01\\tTCGA-DD-A4N...</td>\n",
       "    </tr>\n",
       "  </tbody>\n",
       "</table>\n",
       "</div>"
      ],
      "text/plain": [
       "  cancer_study_identifier                       lihc_tcga_pan_can_atlas_2018\n",
       "0               stable_id                   lihc_tcga_pan_can_atlas_2018_all\n",
       "1          case_list_name                                        All samples\n",
       "2   case_list_description                          All samples (372 samples)\n",
       "3      case_list_category                                 all_cases_in_study\n",
       "4           case_list_ids   TCGA-DD-AACG-01\\tTCGA-FV-A495-01\\tTCGA-DD-A4N..."
      ]
     },
     "metadata": {},
     "output_type": "display_data"
    },
    {
     "name": "stdout",
     "output_type": "stream",
     "text": [
      "(5, 2)\n"
     ]
    }
   ],
   "source": [
    "df_pancancer2 = pd.read_csv(os.path.join(root3, 'case_lists', 'cases_all.txt'), sep=':')\n",
    "display(df_pancancer2.head(5))\n",
    "print(df_pancancer2.shape)"
   ]
  },
  {
   "cell_type": "code",
   "execution_count": 33,
   "metadata": {},
   "outputs": [],
   "source": [
    "set_pancancer2 = set([i[8:] for i in df_pancancer2.iloc[4,1][1:].split('\\t')])"
   ]
  },
  {
   "cell_type": "code",
   "execution_count": 34,
   "metadata": {},
   "outputs": [
    {
     "data": {
      "text/plain": [
       "{'A6J8-01', 'A8HS-01', 'A8TC-01'}"
      ]
     },
     "execution_count": 34,
     "metadata": {},
     "output_type": "execute_result"
    }
   ],
   "source": [
    "set_ours - set_pancancer2 # {'A6J8-01', 'A8HS-01', 'A8TC-01'}"
   ]
  },
  {
   "cell_type": "code",
   "execution_count": null,
   "metadata": {},
   "outputs": [],
   "source": []
  }
 ],
 "metadata": {
  "kernelspec": {
   "display_name": "Python 3",
   "language": "python",
   "name": "python3"
  },
  "language_info": {
   "codemirror_mode": {
    "name": "ipython",
    "version": 3
   },
   "file_extension": ".py",
   "mimetype": "text/x-python",
   "name": "python",
   "nbconvert_exporter": "python",
   "pygments_lexer": "ipython3",
   "version": "3.7.7"
  }
 },
 "nbformat": 4,
 "nbformat_minor": 4
}
