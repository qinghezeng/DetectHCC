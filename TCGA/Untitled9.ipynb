{
 "cells": [
  {
   "cell_type": "code",
   "execution_count": 1,
   "metadata": {},
   "outputs": [],
   "source": [
    "import os\n",
    "import pandas as pd"
   ]
  },
  {
   "cell_type": "code",
   "execution_count": 2,
   "metadata": {},
   "outputs": [],
   "source": [
    "path = \"/media/visiopharm5/WDGold/deeplearning/Hepatocarcinomes/TCGA/heatmap_nanostring_155\"\n",
    "fname = \"mondor_final_log2-zscore-centering.csv\""
   ]
  },
  {
   "cell_type": "code",
   "execution_count": 6,
   "metadata": {},
   "outputs": [
    {
     "name": "stdout",
     "output_type": "stream",
     "text": [
      "(747, 156)\n"
     ]
    },
    {
     "data": {
      "text/html": [
       "<div>\n",
       "<style scoped>\n",
       "    .dataframe tbody tr th:only-of-type {\n",
       "        vertical-align: middle;\n",
       "    }\n",
       "\n",
       "    .dataframe tbody tr th {\n",
       "        vertical-align: top;\n",
       "    }\n",
       "\n",
       "    .dataframe thead th {\n",
       "        text-align: right;\n",
       "    }\n",
       "</style>\n",
       "<table border=\"1\" class=\"dataframe\">\n",
       "  <thead>\n",
       "    <tr style=\"text-align: right;\">\n",
       "      <th></th>\n",
       "      <th>Gene Name</th>\n",
       "      <th>EX128-ARN189</th>\n",
       "      <th>EX128-ARN190</th>\n",
       "      <th>EX128-ARN191</th>\n",
       "      <th>EX128-ARN192</th>\n",
       "      <th>EX128-ARN193</th>\n",
       "      <th>EX128-ARN194</th>\n",
       "      <th>EX128-ARN195</th>\n",
       "      <th>EX128-ARN196</th>\n",
       "      <th>EX128-ARN197</th>\n",
       "      <th>...</th>\n",
       "      <th>EX128-ARN337</th>\n",
       "      <th>EX128-ARN338</th>\n",
       "      <th>EX128-ARN339</th>\n",
       "      <th>EX128-ARN340</th>\n",
       "      <th>EX128-ARN341</th>\n",
       "      <th>EX128-ARN342</th>\n",
       "      <th>EX128-ARN343</th>\n",
       "      <th>EX128-ARN345</th>\n",
       "      <th>EX128-ARN346</th>\n",
       "      <th>EX128-ARN347</th>\n",
       "    </tr>\n",
       "  </thead>\n",
       "  <tbody>\n",
       "    <tr>\n",
       "      <th>0</th>\n",
       "      <td>A2M</td>\n",
       "      <td>-1.058579</td>\n",
       "      <td>0.502262</td>\n",
       "      <td>0.338967</td>\n",
       "      <td>-0.869883</td>\n",
       "      <td>-1.071527</td>\n",
       "      <td>0.739005</td>\n",
       "      <td>-0.409328</td>\n",
       "      <td>-1.029723</td>\n",
       "      <td>-1.340418</td>\n",
       "      <td>...</td>\n",
       "      <td>-1.739169</td>\n",
       "      <td>-0.369303</td>\n",
       "      <td>-0.105688</td>\n",
       "      <td>0.295985</td>\n",
       "      <td>1.400457</td>\n",
       "      <td>-1.168236</td>\n",
       "      <td>0.554319</td>\n",
       "      <td>-0.674940</td>\n",
       "      <td>1.062526</td>\n",
       "      <td>0.604884</td>\n",
       "    </tr>\n",
       "    <tr>\n",
       "      <th>1</th>\n",
       "      <td>ACVR1C</td>\n",
       "      <td>0.214526</td>\n",
       "      <td>-0.179782</td>\n",
       "      <td>0.198038</td>\n",
       "      <td>1.314472</td>\n",
       "      <td>1.511684</td>\n",
       "      <td>0.978426</td>\n",
       "      <td>0.295357</td>\n",
       "      <td>1.984856</td>\n",
       "      <td>1.148141</td>\n",
       "      <td>...</td>\n",
       "      <td>1.150730</td>\n",
       "      <td>0.839075</td>\n",
       "      <td>0.923187</td>\n",
       "      <td>1.620340</td>\n",
       "      <td>0.314034</td>\n",
       "      <td>0.875367</td>\n",
       "      <td>0.530403</td>\n",
       "      <td>-0.145664</td>\n",
       "      <td>1.115415</td>\n",
       "      <td>0.100421</td>\n",
       "    </tr>\n",
       "    <tr>\n",
       "      <th>2</th>\n",
       "      <td>ADAM12</td>\n",
       "      <td>0.126182</td>\n",
       "      <td>1.957873</td>\n",
       "      <td>-1.564238</td>\n",
       "      <td>-0.836990</td>\n",
       "      <td>-1.373342</td>\n",
       "      <td>0.020128</td>\n",
       "      <td>-0.015145</td>\n",
       "      <td>-0.821891</td>\n",
       "      <td>0.834038</td>\n",
       "      <td>...</td>\n",
       "      <td>-1.371030</td>\n",
       "      <td>-1.016873</td>\n",
       "      <td>0.957584</td>\n",
       "      <td>-0.621556</td>\n",
       "      <td>0.663145</td>\n",
       "      <td>-0.504412</td>\n",
       "      <td>-0.336660</td>\n",
       "      <td>-0.005055</td>\n",
       "      <td>0.279065</td>\n",
       "      <td>-0.282016</td>\n",
       "    </tr>\n",
       "    <tr>\n",
       "      <th>3</th>\n",
       "      <td>ADGRE1</td>\n",
       "      <td>0.119479</td>\n",
       "      <td>-0.299565</td>\n",
       "      <td>0.248734</td>\n",
       "      <td>0.213616</td>\n",
       "      <td>1.472755</td>\n",
       "      <td>0.626950</td>\n",
       "      <td>1.544561</td>\n",
       "      <td>1.967560</td>\n",
       "      <td>0.684634</td>\n",
       "      <td>...</td>\n",
       "      <td>1.182678</td>\n",
       "      <td>0.851498</td>\n",
       "      <td>0.638983</td>\n",
       "      <td>0.464673</td>\n",
       "      <td>0.683542</td>\n",
       "      <td>0.599276</td>\n",
       "      <td>0.551375</td>\n",
       "      <td>-1.829021</td>\n",
       "      <td>0.650057</td>\n",
       "      <td>-1.829021</td>\n",
       "    </tr>\n",
       "    <tr>\n",
       "      <th>4</th>\n",
       "      <td>ADM</td>\n",
       "      <td>1.200004</td>\n",
       "      <td>0.812943</td>\n",
       "      <td>0.181138</td>\n",
       "      <td>-0.136309</td>\n",
       "      <td>0.341071</td>\n",
       "      <td>0.197949</td>\n",
       "      <td>0.557083</td>\n",
       "      <td>1.221853</td>\n",
       "      <td>-1.112486</td>\n",
       "      <td>...</td>\n",
       "      <td>-0.204760</td>\n",
       "      <td>-0.023175</td>\n",
       "      <td>0.217057</td>\n",
       "      <td>0.915068</td>\n",
       "      <td>-0.037174</td>\n",
       "      <td>-0.145137</td>\n",
       "      <td>1.687188</td>\n",
       "      <td>-1.018401</td>\n",
       "      <td>0.716315</td>\n",
       "      <td>0.447987</td>\n",
       "    </tr>\n",
       "  </tbody>\n",
       "</table>\n",
       "<p>5 rows × 156 columns</p>\n",
       "</div>"
      ],
      "text/plain": [
       "  Gene Name  EX128-ARN189  EX128-ARN190  EX128-ARN191  EX128-ARN192  \\\n",
       "0       A2M     -1.058579      0.502262      0.338967     -0.869883   \n",
       "1    ACVR1C      0.214526     -0.179782      0.198038      1.314472   \n",
       "2    ADAM12      0.126182      1.957873     -1.564238     -0.836990   \n",
       "3    ADGRE1      0.119479     -0.299565      0.248734      0.213616   \n",
       "4       ADM      1.200004      0.812943      0.181138     -0.136309   \n",
       "\n",
       "   EX128-ARN193  EX128-ARN194  EX128-ARN195  EX128-ARN196  EX128-ARN197  ...  \\\n",
       "0     -1.071527      0.739005     -0.409328     -1.029723     -1.340418  ...   \n",
       "1      1.511684      0.978426      0.295357      1.984856      1.148141  ...   \n",
       "2     -1.373342      0.020128     -0.015145     -0.821891      0.834038  ...   \n",
       "3      1.472755      0.626950      1.544561      1.967560      0.684634  ...   \n",
       "4      0.341071      0.197949      0.557083      1.221853     -1.112486  ...   \n",
       "\n",
       "   EX128-ARN337  EX128-ARN338  EX128-ARN339  EX128-ARN340  EX128-ARN341  \\\n",
       "0     -1.739169     -0.369303     -0.105688      0.295985      1.400457   \n",
       "1      1.150730      0.839075      0.923187      1.620340      0.314034   \n",
       "2     -1.371030     -1.016873      0.957584     -0.621556      0.663145   \n",
       "3      1.182678      0.851498      0.638983      0.464673      0.683542   \n",
       "4     -0.204760     -0.023175      0.217057      0.915068     -0.037174   \n",
       "\n",
       "   EX128-ARN342  EX128-ARN343  EX128-ARN345  EX128-ARN346  EX128-ARN347  \n",
       "0     -1.168236      0.554319     -0.674940      1.062526      0.604884  \n",
       "1      0.875367      0.530403     -0.145664      1.115415      0.100421  \n",
       "2     -0.504412     -0.336660     -0.005055      0.279065     -0.282016  \n",
       "3      0.599276      0.551375     -1.829021      0.650057     -1.829021  \n",
       "4     -0.145137      1.687188     -1.018401      0.716315      0.447987  \n",
       "\n",
       "[5 rows x 156 columns]"
      ]
     },
     "metadata": {},
     "output_type": "display_data"
    }
   ],
   "source": [
    "df = pd.read_csv(os.path.join(path, fname), delimiter=\"\\t\")\n",
    "print(df.shape)\n",
    "display(df.head())"
   ]
  },
  {
   "cell_type": "code",
   "execution_count": 8,
   "metadata": {},
   "outputs": [
    {
     "name": "stdout",
     "output_type": "stream",
     "text": [
      "747\n"
     ]
    }
   ],
   "source": [
    "genes = set(df[\"Gene Name\"].to_list())\n",
    "print(len(genes))"
   ]
  },
  {
   "cell_type": "code",
   "execution_count": 13,
   "metadata": {},
   "outputs": [
    {
     "name": "stdout",
     "output_type": "stream",
     "text": [
      "10\n"
     ]
    }
   ],
   "source": [
    "wanted_genes = set([\"IFNG\",\"STAT1\",\"CCR5\",\"CXCL9\",\"CXCL10\",\"CXCL11\",\"IDO1\",\"PRF1\",\"GZMA\",\"HLA-DRA\"])\n",
    "# wanted_genes = set([\"CD3D\",\"IL2RG\",\"IDO1\",\"NKG7\",\"CIITA\",\"HLA-E\",\"CD3E\",\"CXCR6\",\"CCL5\",\"LAG3\",\"GZMK\",\"TAGAP\",\"CD2\",\"CXCL10\",\"HLA-DRA\",\"STAT1\",\n",
    "#               \"CXCL13\",\"GZMB\"])\n",
    "print(len(wanted_genes))"
   ]
  },
  {
   "cell_type": "code",
   "execution_count": 14,
   "metadata": {},
   "outputs": [
    {
     "data": {
      "text/plain": [
       "set()"
      ]
     },
     "execution_count": 14,
     "metadata": {},
     "output_type": "execute_result"
    }
   ],
   "source": [
    "wanted_genes - genes"
   ]
  },
  {
   "cell_type": "code",
   "execution_count": null,
   "metadata": {},
   "outputs": [],
   "source": []
  }
 ],
 "metadata": {
  "kernelspec": {
   "display_name": "Python 3",
   "language": "python",
   "name": "python3"
  },
  "language_info": {
   "codemirror_mode": {
    "name": "ipython",
    "version": 3
   },
   "file_extension": ".py",
   "mimetype": "text/x-python",
   "name": "python",
   "nbconvert_exporter": "python",
   "pygments_lexer": "ipython3",
   "version": "3.7.7"
  }
 },
 "nbformat": 4,
 "nbformat_minor": 4
}
