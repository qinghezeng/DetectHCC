{
 "cells": [
  {
   "cell_type": "markdown",
   "metadata": {},
   "source": [
    "clustermapo color?"
   ]
  },
  {
   "cell_type": "code",
   "execution_count": null,
   "metadata": {},
   "outputs": [],
   "source": [
    "mport numpy as np\n",
    "import matplotlib.pyplot as plt\n",
    "from heatmapcluster import heatmapcluster\n",
    "\n",
    "\n",
    "# Generate random features and distance matrix.\n",
    "x = np.random.rand(40)\n",
    "D = np.abs(np.subtract.outer(x, x))\n",
    "\n",
    "names = ['str%i' % i for i in range(len(x))]\n",
    "\n",
    "h = heatmapcluster(D, names, names,\n",
    "                   num_row_clusters=3, num_col_clusters=3,\n",
    "                   label_fontsize=8,\n",
    "                   xlabel_rotation=-75,\n",
    "                   cmap=plt.cm.coolwarm,\n",
    "                   show_colorbar=True,\n",
    "                   top_dendrogram=True)\n",
    "\n",
    "plt.show()"
   ]
  }
 ],
 "metadata": {
  "anaconda-cloud": {},
  "kernelspec": {
   "display_name": "Python [conda env:r-tensorflow]",
   "language": "python",
   "name": "conda-env-r-tensorflow-py"
  },
  "language_info": {
   "codemirror_mode": {
    "name": "ipython",
    "version": 3
   },
   "file_extension": ".py",
   "mimetype": "text/x-python",
   "name": "python",
   "nbconvert_exporter": "python",
   "pygments_lexer": "ipython3",
   "version": "3.6.8"
  }
 },
 "nbformat": 4,
 "nbformat_minor": 2
}
