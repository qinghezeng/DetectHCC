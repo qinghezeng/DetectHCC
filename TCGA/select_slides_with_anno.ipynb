{
 "cells": [
  {
   "cell_type": "code",
   "execution_count": 72,
   "metadata": {},
   "outputs": [],
   "source": [
    "import os\n",
    "import shutil"
   ]
  },
  {
   "cell_type": "code",
   "execution_count": 20,
   "metadata": {},
   "outputs": [],
   "source": [
    "path_slides = \"E:\\\\deeplearning\\\\Hepatocarcinomes\\\\TCGA\\\\diagnostic_slides\"\n",
    "path_annos = \"E:\\\\deeplearning\\\\Hepatocarcinomes\\\\TCGA\\\\New folder\"\n",
    "path_output = \"E:\\\\deeplearning\\\\Hepatocarcinomes\\\\TCGA\\\\slides_with_anno\""
   ]
  },
  {
   "cell_type": "code",
   "execution_count": 12,
   "metadata": {},
   "outputs": [],
   "source": [
    "if os.path.exists(path_output):\n",
    "    print(\"Output path already exist!\")\n",
    "    os.rmdir(path_output)\n",
    "os.makedirs(path_output)"
   ]
  },
  {
   "cell_type": "code",
   "execution_count": 17,
   "metadata": {},
   "outputs": [
    {
     "name": "stdout",
     "output_type": "stream",
     "text": [
      "23\n"
     ]
    }
   ],
   "source": [
    "l_annos = []\n",
    "for path, dirs, files in os.walk(path_annos):\n",
    "    for file in files:\n",
    "        l_annos.append(file[:-7])\n",
    "print(len(l_annos))"
   ]
  },
  {
   "cell_type": "code",
   "execution_count": 75,
   "metadata": {},
   "outputs": [
    {
     "name": "stdout",
     "output_type": "stream",
     "text": [
      "776\n",
      "776\n"
     ]
    }
   ],
   "source": [
    "l_roots = []\n",
    "l_slides = []\n",
    "for root, dirs, files in os.walk(path_slides, topdown=False):   \n",
    "    if len(files)>1:\n",
    "        l_roots.extend([root]*len(files))\n",
    "    else:\n",
    "        l_roots.append(root)\n",
    "    l_slides.extend(files)\n",
    "print(len(l_slides))\n",
    "print(len(l_roots))\n",
    "for anno in l_annos:\n",
    "    name = str(anno)+\".svs\"\n",
    "    shutil.copy2(os.path.join(l_roots[l_slides.index(name)], name), os.path.join(path_output, name))\n",
    "    for anno in l_annos:\n",
    "        print(files.index(str(anno)+\".svs\"))"
   ]
  },
  {
   "cell_type": "code",
   "execution_count": 61,
   "metadata": {},
   "outputs": [
    {
     "data": {
      "text/plain": [
       "[1, 1, 1]"
      ]
     },
     "execution_count": 61,
     "metadata": {},
     "output_type": "execute_result"
    }
   ],
   "source": [
    "Extract all the slides into a folder, and replace the original file with a txt file which has the same name"
   ]
  },
  {
   "cell_type": "code",
   "execution_count": null,
   "metadata": {},
   "outputs": [],
   "source": []
  },
  {
   "cell_type": "code",
   "execution_count": null,
   "metadata": {},
   "outputs": [],
   "source": []
  },
  {
   "cell_type": "code",
   "execution_count": null,
   "metadata": {},
   "outputs": [],
   "source": []
  }
 ],
 "metadata": {
  "kernelspec": {
   "display_name": "Python r-tensorflow",
   "language": "python",
   "name": "r-tensorflow"
  },
  "language_info": {
   "codemirror_mode": {
    "name": "ipython",
    "version": 3
   },
   "file_extension": ".py",
   "mimetype": "text/x-python",
   "name": "python",
   "nbconvert_exporter": "python",
   "pygments_lexer": "ipython3",
   "version": "3.6.8"
  }
 },
 "nbformat": 4,
 "nbformat_minor": 2
}
