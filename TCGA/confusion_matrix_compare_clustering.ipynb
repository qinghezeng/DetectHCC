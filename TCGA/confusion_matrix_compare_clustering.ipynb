{
 "cells": [
  {
   "cell_type": "code",
   "execution_count": 1,
   "metadata": {},
   "outputs": [],
   "source": [
    "import numpy as np\n",
    "import pandas as pd\n",
    "import seaborn\n",
    "import matplotlib.pyplot as plt"
   ]
  },
  {
   "cell_type": "code",
   "execution_count": 11,
   "metadata": {},
   "outputs": [],
   "source": [
    "# path = \"E:\\\\deeplearning\\\\Hepatocarcinomes\\\\TCGA\\\\heatmap\\\\\"\n",
    "path = \"/media/visiopharm5/WDGold/deeplearning/Hepatocarcinomes/TCGA/heatmap/\""
   ]
  },
  {
   "cell_type": "code",
   "execution_count": 17,
   "metadata": {},
   "outputs": [
    {
     "name": "stdout",
     "output_type": "stream",
     "text": [
      "(340, 2)\n"
     ]
    },
    {
     "data": {
      "text/html": [
       "<div>\n",
       "<style scoped>\n",
       "    .dataframe tbody tr th:only-of-type {\n",
       "        vertical-align: middle;\n",
       "    }\n",
       "\n",
       "    .dataframe tbody tr th {\n",
       "        vertical-align: top;\n",
       "    }\n",
       "\n",
       "    .dataframe thead th {\n",
       "        text-align: right;\n",
       "    }\n",
       "</style>\n",
       "<table border=\"1\" class=\"dataframe\">\n",
       "  <thead>\n",
       "    <tr style=\"text-align: right;\">\n",
       "      <th></th>\n",
       "      <th>Sample</th>\n",
       "      <th>Cluster</th>\n",
       "    </tr>\n",
       "  </thead>\n",
       "  <tbody>\n",
       "    <tr>\n",
       "      <th>0</th>\n",
       "      <td>A95S.01A</td>\n",
       "      <td>Cluster High</td>\n",
       "    </tr>\n",
       "    <tr>\n",
       "      <th>1</th>\n",
       "      <td>A7MF.01A</td>\n",
       "      <td>Cluster High</td>\n",
       "    </tr>\n",
       "    <tr>\n",
       "      <th>2</th>\n",
       "      <td>AADN.01A</td>\n",
       "      <td>Cluster High</td>\n",
       "    </tr>\n",
       "    <tr>\n",
       "      <th>3</th>\n",
       "      <td>AACC.01A</td>\n",
       "      <td>Cluster High</td>\n",
       "    </tr>\n",
       "    <tr>\n",
       "      <th>4</th>\n",
       "      <td>A7D4.01A</td>\n",
       "      <td>Cluster High</td>\n",
       "    </tr>\n",
       "  </tbody>\n",
       "</table>\n",
       "</div>"
      ],
      "text/plain": [
       "     Sample       Cluster\n",
       "0  A95S.01A  Cluster High\n",
       "1  A7MF.01A  Cluster High\n",
       "2  AADN.01A  Cluster High\n",
       "3  AACC.01A  Cluster High\n",
       "4  A7D4.01A  Cluster High"
      ]
     },
     "metadata": {},
     "output_type": "display_data"
    }
   ],
   "source": [
    "clusters_km_sangro = pd.read_csv(path+\"consensus_sample_clusters_filtered-sangro_median_km_euclidean_2_3.csv\", sep=',')\n",
    "print(clusters_km_sangro.shape)\n",
    "display(clusters_km_sangro.head(5))"
   ]
  },
  {
   "cell_type": "code",
   "execution_count": 18,
   "metadata": {},
   "outputs": [
    {
     "name": "stdout",
     "output_type": "stream",
     "text": [
      "(340, 2)\n"
     ]
    },
    {
     "data": {
      "text/html": [
       "<div>\n",
       "<style scoped>\n",
       "    .dataframe tbody tr th:only-of-type {\n",
       "        vertical-align: middle;\n",
       "    }\n",
       "\n",
       "    .dataframe tbody tr th {\n",
       "        vertical-align: top;\n",
       "    }\n",
       "\n",
       "    .dataframe thead th {\n",
       "        text-align: right;\n",
       "    }\n",
       "</style>\n",
       "<table border=\"1\" class=\"dataframe\">\n",
       "  <thead>\n",
       "    <tr style=\"text-align: right;\">\n",
       "      <th></th>\n",
       "      <th>Sample</th>\n",
       "      <th>Cluster</th>\n",
       "    </tr>\n",
       "  </thead>\n",
       "  <tbody>\n",
       "    <tr>\n",
       "      <th>0</th>\n",
       "      <td>AACO.01A</td>\n",
       "      <td>Cluster High</td>\n",
       "    </tr>\n",
       "    <tr>\n",
       "      <th>1</th>\n",
       "      <td>AAUZ.01A</td>\n",
       "      <td>Cluster High</td>\n",
       "    </tr>\n",
       "    <tr>\n",
       "      <th>2</th>\n",
       "      <td>A495.01A</td>\n",
       "      <td>Cluster High</td>\n",
       "    </tr>\n",
       "    <tr>\n",
       "      <th>3</th>\n",
       "      <td>AACC.01A</td>\n",
       "      <td>Cluster High</td>\n",
       "    </tr>\n",
       "    <tr>\n",
       "      <th>4</th>\n",
       "      <td>AAE4.01A</td>\n",
       "      <td>Cluster High</td>\n",
       "    </tr>\n",
       "  </tbody>\n",
       "</table>\n",
       "</div>"
      ],
      "text/plain": [
       "     Sample       Cluster\n",
       "0  AACO.01A  Cluster High\n",
       "1  AAUZ.01A  Cluster High\n",
       "2  A495.01A  Cluster High\n",
       "3  AACC.01A  Cluster High\n",
       "4  AAE4.01A  Cluster High"
      ]
     },
     "metadata": {},
     "output_type": "display_data"
    }
   ],
   "source": [
    "clusters_km_filtered4 = pd.read_csv(path+\"consensus_sample_clusters_filtered-6_median_km_euclidean_8_3.csv\", sep=',')\n",
    "print(clusters_km_filtered4.shape)\n",
    "display(clusters_km_filtered4.head(5))"
   ]
  },
  {
   "cell_type": "code",
   "execution_count": 19,
   "metadata": {},
   "outputs": [],
   "source": [
    "def overlapping_values(cluster_names_ref, cluster_names, clusters_ref, clusters):\n",
    "    clusters_ref = set(clusters_ref[clusters_ref.Cluster==cluster_names_ref].Sample)\n",
    "    print(len(clusters_ref))\n",
    "    clusters = set(clusters[clusters.Cluster==cluster_names].Sample)\n",
    "    print(len(clusters))\n",
    "    return len(clusters.intersection(clusters_ref)), len(clusters.intersection(clusters_ref))/len(clusters_ref)"
   ]
  },
  {
   "cell_type": "code",
   "execution_count": 21,
   "metadata": {},
   "outputs": [
    {
     "name": "stdout",
     "output_type": "stream",
     "text": [
      "43\n",
      "62\n"
     ]
    },
    {
     "data": {
      "text/plain": [
       "(31, 0.7209302325581395)"
      ]
     },
     "execution_count": 21,
     "metadata": {},
     "output_type": "execute_result"
    }
   ],
   "source": [
    "overlapping_values(cluster_names=\"Cluster 02\", cluster_names_ref=\"Cluster 01\", clusters_ref=clusters_km_sangro, clusters=clusters_km_filtered4)"
   ]
  },
  {
   "cell_type": "code",
   "execution_count": 82,
   "metadata": {},
   "outputs": [
    {
     "name": "stdout",
     "output_type": "stream",
     "text": [
      "171\n",
      "129\n",
      "171\n",
      "149\n",
      "171\n",
      "62\n",
      "127\n",
      "129\n",
      "127\n",
      "149\n",
      "127\n",
      "62\n",
      "42\n",
      "129\n",
      "42\n",
      "149\n",
      "42\n",
      "62\n",
      "[109, 56, 6, 18, 83, 26, 2, 10, 30]\n",
      "[0.6374269005847953, 0.32748538011695905, 0.03508771929824561, 0.14173228346456693, 0.6535433070866141, 0.2047244094488189, 0.047619047619047616, 0.23809523809523808, 0.7142857142857143]\n"
     ]
    }
   ],
   "source": [
    "data = []\n",
    "data_nor = []\n",
    "for j in [2,1,3]:\n",
    "    for i in range(3):\n",
    "        value, fraction = overlapping_values(cluster_names=\"Cluster 0\"+str(i+1), cluster_names_ref=\"Cluster 0\"+str(j), clusters_ref=clusters_km_sangro, clusters=clusters_km_filtered4)\n",
    "        data.append(value)\n",
    "        data_nor.append(fraction)\n",
    "print(data)\n",
    "print(data_nor)"
   ]
  },
  {
   "cell_type": "code",
   "execution_count": 83,
   "metadata": {},
   "outputs": [
    {
     "name": "stdout",
     "output_type": "stream",
     "text": [
      "[[109  56   6]\n",
      " [ 18  83  26]\n",
      " [  2  10  30]]\n",
      "[[0.6374269  0.32748538 0.03508772]\n",
      " [0.14173228 0.65354331 0.20472441]\n",
      " [0.04761905 0.23809524 0.71428571]]\n"
     ]
    }
   ],
   "source": [
    "data = np.reshape(data,(3,3))\n",
    "data_nor = np.reshape(data_nor,(3,3))\n",
    "print(data)\n",
    "print(data_nor)"
   ]
  },
  {
   "cell_type": "code",
   "execution_count": 53,
   "metadata": {},
   "outputs": [
    {
     "data": {
      "text/plain": [
       "True"
      ]
     },
     "execution_count": 53,
     "metadata": {},
     "output_type": "execute_result"
    }
   ],
   "source": [
    "data[1,1]>data[1,2]"
   ]
  },
  {
   "cell_type": "code",
   "execution_count": 14,
   "metadata": {},
   "outputs": [
    {
     "name": "stdout",
     "output_type": "stream",
     "text": [
      "42\n"
     ]
    }
   ],
   "source": [
    "cluster03_km_sangro = set(clusters_km_sangro[clusters_km_sangro.Cluster==\"Cluster 03\"].Sample)\n",
    "print(len(cluster03_km_sangro))"
   ]
  },
  {
   "cell_type": "code",
   "execution_count": 20,
   "metadata": {},
   "outputs": [
    {
     "name": "stdout",
     "output_type": "stream",
     "text": [
      "62\n"
     ]
    }
   ],
   "source": [
    "cluster03_km_filtered4 = set(clusters_km_filtered4[clusters_km_filtered4.Cluster==\"Cluster 03\"].Sample)\n",
    "print(len(cluster03_km_filtered4))"
   ]
  },
  {
   "cell_type": "code",
   "execution_count": 23,
   "metadata": {},
   "outputs": [
    {
     "data": {
      "text/plain": [
       "12"
      ]
     },
     "execution_count": 23,
     "metadata": {},
     "output_type": "execute_result"
    }
   ],
   "source": [
    "len(cluster03_km_sangro-cluster03_km_filtered4)"
   ]
  },
  {
   "cell_type": "code",
   "execution_count": 94,
   "metadata": {},
   "outputs": [],
   "source": [
    "def plot_confusion_matrix(data, labels, output_filename, fmt=\"d\"):\n",
    "    \"\"\"Plot confusion matrix using heatmap.\n",
    " \n",
    "    Args:\n",
    "        data (list of list): List of lists with confusion matrix data.\n",
    "        labels (list): Labels which will be plotted across x and y axis.\n",
    "        output_filename (str): Path to output file.\n",
    " \n",
    "    \"\"\"\n",
    "    seaborn.set(color_codes=True)\n",
    "    plt.figure(1, figsize=(9, 6))\n",
    " \n",
    "    plt.title(\"Confusion Matrix\")\n",
    " \n",
    "    seaborn.set(font_scale=1.4)\n",
    "    ax = seaborn.heatmap(data, annot=True, cmap=\"YlGnBu\", cbar_kws={'label': 'Scale'}, fmt=fmt)\n",
    " \n",
    "    ax.set_xticklabels(labels)\n",
    "    ax.set_yticklabels(labels)\n",
    " \n",
    "    ax.set(ylabel=\"Sample clusters assigned by concensus K-Means using Sangro's gene list\", \n",
    "           xlabel=\"Sample clusters assigned by concensus K-Means using full genes\")\n",
    " \n",
    "#    plt.savefig(output_filename, bbox_inches='tight', dpi=300)\n",
    "    plt.plot()"
   ]
  },
  {
   "cell_type": "code",
   "execution_count": 95,
   "metadata": {},
   "outputs": [],
   "source": [
    "# define labels\n",
    "labels = [\"Low\", \"Median\", \"High\"]\n",
    " \n",
    "# create confusion matrix\n",
    "plot_confusion_matrix(data, labels, path+\"confusion_matrix_full_vs_sangro_genes_km.png\")"
   ]
  },
  {
   "cell_type": "code",
   "execution_count": 96,
   "metadata": {},
   "outputs": [],
   "source": [
    "plot_confusion_matrix(data_nor, labels, path+\"confusion_matrix_nor_full_vs_sangro_genes_km.png\", fmt=\".2f\")"
   ]
  },
  {
   "cell_type": "code",
   "execution_count": null,
   "metadata": {},
   "outputs": [],
   "source": []
  }
 ],
 "metadata": {
  "kernelspec": {
   "display_name": "Python 3",
   "language": "python",
   "name": "python3"
  },
  "language_info": {
   "codemirror_mode": {
    "name": "ipython",
    "version": 3
   },
   "file_extension": ".py",
   "mimetype": "text/x-python",
   "name": "python",
   "nbconvert_exporter": "python",
   "pygments_lexer": "ipython3",
   "version": "3.7.7"
  }
 },
 "nbformat": 4,
 "nbformat_minor": 2
}
