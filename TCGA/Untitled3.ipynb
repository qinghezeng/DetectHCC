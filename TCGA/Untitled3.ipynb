{
 "cells": [
  {
   "cell_type": "code",
   "execution_count": 1,
   "metadata": {},
   "outputs": [],
   "source": [
    "import openslide\n",
    "from openslide import OpenSlide\n",
    "import matplotlib.pyplot as plt\n",
    "import numpy as np\n",
    "import os"
   ]
  },
  {
   "cell_type": "code",
   "execution_count": 18,
   "metadata": {},
   "outputs": [],
   "source": [
    "slide_path=\"E:\\\\diagnostic_slides\\\\5c6a02d2-bd28-47aa-8b43-6aadc8304b37\"\n",
    "out_path=\"E:\\\\deeplearning\\\\test\""
   ]
  },
  {
   "cell_type": "code",
   "execution_count": 19,
   "metadata": {},
   "outputs": [],
   "source": [
    "#open a file pointer\n",
    "slide_name=\"TCGA-2Y-A9GY-01Z-00-DX1.9AF8DAB8-B99C-4484-A065-20E7345E1FF4.svs\"\n",
    "slide_path=os.path.join(slide_path,slide_name)\n",
    "f=OpenSlide(slide_path)"
   ]
  },
  {
   "cell_type": "code",
   "execution_count": 20,
   "metadata": {},
   "outputs": [
    {
     "name": "stdout",
     "output_type": "stream",
     "text": [
      "levels: 4\n"
     ]
    }
   ],
   "source": [
    "#level counts : number of downsampled images\n",
    "levels=f.level_count\n",
    "print(\"levels: \"+str(levels))"
   ]
  },
  {
   "cell_type": "code",
   "execution_count": 21,
   "metadata": {},
   "outputs": [
    {
     "name": "stdout",
     "output_type": "stream",
     "text": [
      "Width= 99812, Height= 54825\n"
     ]
    }
   ],
   "source": [
    "#size of flull slide images\n",
    "(width,height)=f.dimensions\n",
    "print(\"Width= \"+str(width)+\", Height= \"+str(height))"
   ]
  },
  {
   "cell_type": "code",
   "execution_count": 22,
   "metadata": {},
   "outputs": [
    {
     "name": "stdout",
     "output_type": "stream",
     "text": [
      "level 1: (x,y)= (24953, 13706)\tdownsampling= 4.000036480373559\n",
      "level 2: (x,y)= (6238, 3426)\tdownsampling= 16.001634100695753\n",
      "level 3: (x,y)= (3119, 1713)\tdownsampling= 32.003268201391506\n"
     ]
    }
   ],
   "source": [
    "#down sample\n",
    "level_downsamples=f.level_downsamples\n",
    "\n",
    "#levels dimensions\n",
    "dims=f.level_dimensions\n",
    "\n",
    "for i in range(levels-1):\n",
    "    print(\"level \"+str(i+1)+\": (x,y)= \"+str(dims[i+1])+\"\\tdownsampling= \"+str(level_downsamples[i+1])) #no original (0)"
   ]
  },
  {
   "cell_type": "code",
   "execution_count": 23,
   "metadata": {},
   "outputs": [
    {
     "name": "stdout",
     "output_type": "stream",
     "text": [
      "Properties :\n",
      "\topenslide.vendor : aperio\n",
      "\topenslide.objective-power : 40\n",
      "\topenslide.mpp-x : 0.25240000000000001\n",
      "\topenslide.mpp-y : 0.25240000000000001\n"
     ]
    }
   ],
   "source": [
    "#Metadata    \n",
    "properties=f.properties\n",
    "print(\"Properties :\")\n",
    "print(\"\\t\"+openslide.PROPERTY_NAME_VENDOR+\" : \"+properties[openslide.PROPERTY_NAME_VENDOR])\n",
    "print(\"\\t\"+openslide.PROPERTY_NAME_OBJECTIVE_POWER+\" : \"+properties[openslide.PROPERTY_NAME_OBJECTIVE_POWER])\n",
    "print(\"\\t\"+openslide.PROPERTY_NAME_MPP_X+\" : \"+properties[openslide.PROPERTY_NAME_MPP_X]) #um\n",
    "print(\"\\t\"+openslide.PROPERTY_NAME_MPP_Y+\" : \"+properties[openslide.PROPERTY_NAME_MPP_Y])"
   ]
  },
  {
   "cell_type": "code",
   "execution_count": 24,
   "metadata": {},
   "outputs": [],
   "source": [
    "# best_level=f.get_best_level_for_downsample(downsample)\n",
    "thumb_level=levels-1\n",
    "img=f.read_region((0,0),thumb_level,dims[thumb_level])\n",
    "#save macro image\n",
    "import os\n",
    "img.save(os.path.join(out_path,slide_name.replace(\"svs\",\"tiff\")))"
   ]
  },
  {
   "cell_type": "code",
   "execution_count": null,
   "metadata": {},
   "outputs": [],
   "source": []
  }
 ],
 "metadata": {
  "anaconda-cloud": {},
  "kernelspec": {
   "display_name": "Python r-tensorflow",
   "language": "python",
   "name": "r-tensorflow"
  },
  "language_info": {
   "codemirror_mode": {
    "name": "ipython",
    "version": 3
   },
   "file_extension": ".py",
   "mimetype": "text/x-python",
   "name": "python",
   "nbconvert_exporter": "python",
   "pygments_lexer": "ipython3",
   "version": "3.6.8"
  }
 },
 "nbformat": 4,
 "nbformat_minor": 2
}
