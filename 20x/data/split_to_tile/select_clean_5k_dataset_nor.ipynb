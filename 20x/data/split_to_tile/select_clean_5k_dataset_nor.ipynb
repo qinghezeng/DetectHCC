{
 "cells": [
  {
   "cell_type": "markdown",
   "metadata": {},
   "source": [
    "# Build clean 20x training set \n",
    "### what we have: a 200k+ 20x training set.  Removed white 256, classfied as tum and nor\n",
    "### Fonctionalities: \n",
    "#### remove blurred 256\n",
    "#### save in multiple 5k subsets "
   ]
  },
  {
   "cell_type": "code",
   "execution_count": 1,
   "metadata": {},
   "outputs": [],
   "source": [
    "import os\n",
    "import numpy as np\n",
    "import cv2"
   ]
  },
  {
   "cell_type": "code",
   "execution_count": 2,
   "metadata": {},
   "outputs": [],
   "source": [
    "path_full = 'E:\\\\deeplearning\\\\Hepatocarcinomes\\\\data\\\\20x\\\\training\\\\split128_image\\\\nor_100k+'\n",
    "path_subset = 'E:\\\\deeplearning\\\\Hepatocarcinomes\\\\data\\\\20x\\\\training\\\\split128_image\\\\pos_nor_5k'"
   ]
  },
  {
   "cell_type": "code",
   "execution_count": 3,
   "metadata": {},
   "outputs": [],
   "source": [
    "limgs = []\n",
    "for root, folders, files in os.walk(path_full, topdown=False):\n",
    "    for name in files:\n",
    "        if name.endswith('.tif'):\n",
    "            limgs.append(root+'\\\\'+name)\n",
    "# print(len(limgs))"
   ]
  },
  {
   "cell_type": "code",
   "execution_count": 4,
   "metadata": {},
   "outputs": [],
   "source": [
    "#Edge Detection filter\n",
    "kernel = np.array(([-1, -1, -1],\n",
    "        [-1, 8, -1],\n",
    "        [-1, -1, -1]), np.float32)\n",
    "threshold_filter = 25 #a blurred one is likely to be 5, can also remove half background"
   ]
  },
  {
   "cell_type": "code",
   "execution_count": 5,
   "metadata": {},
   "outputs": [
    {
     "name": "stderr",
     "output_type": "stream",
     "text": [
      "patches: 100%|██████████████████████| 150585/150585 [10:26:50<00:00,  3.76it/s]"
     ]
    }
   ],
   "source": [
    "nsubset = 0\n",
    "os.mkdir(os.path.join(path_subset, str(nsubset).zfill(2)))\n",
    "\n",
    "from tqdm import tqdm\n",
    "pbar1 = tqdm(total=len(limgs), desc='patches', miniters=1, position=0)\n",
    "\n",
    "for i in range(len(limgs)):\n",
    "    pbar1.update()    \n",
    "    img = cv2.cvtColor(cv2.imread(limgs[i], -1), cv2.COLOR_BGR2RGB)\n",
    "\n",
    "    #if the subtile is not mostly blurred nor mostly over-colored, save them\n",
    "    y = cv2.filter2D(img[:,:,:], -1, kernel)\n",
    "    for a in range(y.shape[0]):\n",
    "        for b in range(y.shape[1]):\n",
    "            for c in range(y.shape[2]):\n",
    "                if y[a,b,c] < 0:\n",
    "                    y[a,b,c] = 0\n",
    "                if y[a,b,c] > 255:\n",
    "                    y[a,b,c] = 255\n",
    "    m_filtered_sub = np.mean(y)\n",
    "\n",
    "    if (m_filtered_sub > threshold_filter):\n",
    "        n = len([x for x in os.listdir(os.path.join(path_subset, str(nsubset).zfill(2))) if x.endswith('.tif')])\n",
    "        if (n==5000):\n",
    "            nsubset = nsubset + 1\n",
    "            n = 0\n",
    "            os.mkdir(os.path.join(path_subset, str(nsubset).zfill(2)))\n",
    "        n = str(n).zfill(4)\n",
    "        cv2.imwrite(os.path.join(path_subset, str(nsubset).zfill(2), 'nor_'+str(nsubset).zfill(2)+'_'+n+'.tif'), cv2.cvtColor(img[:,:,:], cv2.COLOR_RGB2BGR))\n",
    "\n",
    "\n",
    "# print(limg)\n",
    "# print(llabel)"
   ]
  },
  {
   "cell_type": "code",
   "execution_count": null,
   "metadata": {},
   "outputs": [],
   "source": []
  },
  {
   "cell_type": "code",
   "execution_count": null,
   "metadata": {},
   "outputs": [],
   "source": []
  }
 ],
 "metadata": {
  "anaconda-cloud": {},
  "kernelspec": {
   "display_name": "Python [conda env:r-tensorflow]",
   "language": "python",
   "name": "conda-env-r-tensorflow-py"
  },
  "language_info": {
   "codemirror_mode": {
    "name": "ipython",
    "version": 3
   },
   "file_extension": ".py",
   "mimetype": "text/x-python",
   "name": "python",
   "nbconvert_exporter": "python",
   "pygments_lexer": "ipython3",
   "version": "3.6.8"
  }
 },
 "nbformat": 4,
 "nbformat_minor": 2
}
