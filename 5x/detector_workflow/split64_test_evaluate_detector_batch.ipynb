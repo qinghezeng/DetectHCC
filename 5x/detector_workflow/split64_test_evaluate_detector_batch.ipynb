{
 "cells": [
  {
   "cell_type": "markdown",
   "metadata": {},
   "source": [
    "Fonctions in batch processing:\n",
    "- Fetch the folder names in the root dir, and automatically process all the slides;\n",
    "- Split the 512x512 images and labels into 64x64, and only save the labels as a table of the sum of tumoral pixels;\n",
    "- Predict the probabilities using our trained model, also saved as a table;\n",
    "- Evaluation and save the ROC curve and optimal threshold."
   ]
  },
  {
   "cell_type": "code",
   "execution_count": 1,
   "metadata": {},
   "outputs": [],
   "source": [
    "import datetime\n",
    "now1=datetime.datetime.now()"
   ]
  },
  {
   "cell_type": "code",
   "execution_count": 2,
   "metadata": {},
   "outputs": [
    {
     "name": "stderr",
     "output_type": "stream",
     "text": [
      "Using TensorFlow backend.\n"
     ]
    }
   ],
   "source": [
    "import os\n",
    "import cv2\n",
    "from collections import Counter\n",
    "import csv\n",
    "from keras.models import load_model\n",
    "import numpy as np"
   ]
  },
  {
   "cell_type": "code",
   "execution_count": 3,
   "metadata": {},
   "outputs": [],
   "source": [
    "root = 'E:\\\\deeplearning\\\\data\\\\5x\\\\detector\\\\test'\n",
    "process = 'test'"
   ]
  },
  {
   "cell_type": "code",
   "execution_count": 5,
   "metadata": {},
   "outputs": [],
   "source": [
    "def get_slide_name(rootpath): \n",
    "    L=[] \n",
    "    dirs = os.listdir(rootpath)\n",
    "    for dir in dirs:\n",
    "        L.append(dir)\n",
    "    return L\n",
    "\n",
    "#slide_names = get_slide_name(root)"
   ]
  },
  {
   "cell_type": "code",
   "execution_count": 9,
   "metadata": {},
   "outputs": [],
   "source": [
    "def read_image_name(file_dir):\n",
    "    Limg=[]\n",
    "#    print(file_dir)\n",
    "    for root, dirs, files in os.walk(file_dir):\n",
    "        for file in files:\n",
    "            if os.path.splitext(file)[1] == '.tif': #image\n",
    "                Limg.append(os.path.join(root, file))\n",
    "                \n",
    "    return Limg #list of full dir"
   ]
  },
  {
   "cell_type": "code",
   "execution_count": 10,
   "metadata": {},
   "outputs": [],
   "source": [
    "def read_label_name(file_dir):\n",
    "    Lroi=[]\n",
    "    for root, dirs, files in os.walk(file_dir):\n",
    "        for file in files:\n",
    "            if os.path .splitext(file)[1] == '.tiff': #label\n",
    "                Lroi.append(os.path.join(root, file))\n",
    "                \n",
    "    return Lroi"
   ]
  },
  {
   "cell_type": "code",
   "execution_count": 11,
   "metadata": {},
   "outputs": [],
   "source": [
    "def split64_image(slideName):\n",
    "    image =  []\n",
    "    limg = read_image_name(path_512)\n",
    "#    print(limg)\n",
    "    for k in limg:\n",
    "        img=cv2.imread(k, -1)\n",
    "        for i in range(int(512/64)):\n",
    "            for j in range(int(512/64)):\n",
    "                image1=img[j*64:(j+1)*64,i*64:(i+1)*64,:]\n",
    "\n",
    "#                 nsub = len(read_image_name(path_64))\n",
    "#                 print(path_64+'\\\\'+str(nsub).zfill(6)+'\\\\.tif')\n",
    "#                 cv2.imwrite(path_64+'\\\\'+str(nsub).zfill(6)+'.tif',image1)\n",
    "\n",
    "                image.append(cv2.cvtColor(image1, cv2.COLOR_BGR2RGB)/255)\n",
    "            \n",
    "    image = np.asarray(image)\n",
    "\n",
    "#             #research slower than copy to a new variable\n",
    "#             image.append(img[0][j*64:(j+1)*64,i*64:(i+1)*64,:])\n",
    "#             cv2.imwrite(path_64+'\\\\'+str(nsub).zfill(6)+'.tif',image[0])\n",
    "    return image\n",
    "\n",
    "# image=split64_image(slide_name)"
   ]
  },
  {
   "cell_type": "code",
   "execution_count": 12,
   "metadata": {},
   "outputs": [],
   "source": [
    "def split64_label(slideName):\n",
    "    lroi = read_label_name(path_512)\n",
    "    roi_sub_npixel = []\n",
    "    for a in lroi:\n",
    "        roi = cv2.imread(a, -1)\n",
    "        for b in range(int(512/64)):\n",
    "            for c in range(int(512/64)):\n",
    "                roi_sub_npixel.append(sum((roi[c*64:(c+1)*64,b*64:(b+1)*64]==3).sum(1)))\n",
    "\n",
    "    with open(path_64+'\\\\label_tum_npixel', 'w', newline='') as csvfile:\n",
    "        writer = csv.writer(csvfile)\n",
    "        writer.writerows(map(lambda x: [x], roi_sub_npixel))\n",
    "        \n",
    "    return roi_sub_npixel\n",
    "\n",
    "# roi_sub_npixel = split64_label(slide_name)"
   ]
  },
  {
   "cell_type": "code",
   "execution_count": 13,
   "metadata": {},
   "outputs": [],
   "source": [
    "def test(slideName):\n",
    "    preds= model.predict(image)\n",
    "\n",
    "    with open(path_result+'\\\\vgg_dense_bn_prob', 'w', newline='') as csvfile:\n",
    "        writer = csv.writer(csvfile, delimiter=',')\n",
    "        writer.writerow(['tum','nor'])\n",
    "        writer.writerows(preds)\n",
    "        for l in preds:\n",
    "            writer.writerow(l)\n",
    "            \n",
    "    return preds\n",
    "\n",
    "# preds = test(slide_name)"
   ]
  },
  {
   "cell_type": "code",
   "execution_count": 15,
   "metadata": {},
   "outputs": [],
   "source": [
    "from sklearn.metrics import roc_curve, auc\n",
    "import matplotlib.pyplot as plt\n",
    "\n",
    "def evaluate(slideName):\n",
    "    gt = []\n",
    "    for i in roi_sub_npixel:\n",
    "        if i>2048:\n",
    "            gt.append(1)\n",
    "        else:\n",
    "            gt.append(0)\n",
    "            \n",
    "    fpr, tpr, thresholds  =  roc_curve(y_test, preds[:,0])\n",
    "    roc_auc = auc(fpr, tpr)\n",
    "    # worse example (use the line y=1-x)\n",
    "    # for i in range(len(fpr)):\n",
    "    #     if fpr[i] + tpr[i] >= 1:\n",
    "    #         i = i -1\n",
    "    #         break\n",
    "\n",
    "    # Normally, we use Youden's J statistic.\n",
    "    i = np.argmax(tpr - fpr)\n",
    "\n",
    "    # plt.plot(fpr,tpr) to draw. 'roc_auc' records the value of auc, which can be calculated by the auc() function.\n",
    "    plt.plot(fpr, tpr, lw=1, label='auc = %0.3f, tpr = %0.3f, tnr = %0.3f, thres = %0.3f' % ( roc_auc, tpr[i], 1-fpr[i], thresholds[i]))\n",
    "    # Draw diagonal\n",
    "    plt.plot([0, 1], [0, 1], '--', color=(0.6, 0.6, 0.6))\n",
    "    # Draw perfect preformance\n",
    "    # plt.plot([0, 0, 1], [0, 1, 1],\n",
    "    #          linestyle = ':',\n",
    "    #          color = 'black')\n",
    "\n",
    "    plt.xlim([-0.05, 1.05])\n",
    "    plt.ylim([-0.05, 1.05])\n",
    "    plt.xlabel('False Positive Rate (1 - Specificity)')\n",
    "    plt.ylabel('True Positive Rate (Sensitivity)')\n",
    "    plt.title(slide_name + ' ROC curve by Python')\n",
    "    plt.legend(loc=\"lower right\")\n",
    "#     plt.show()\n",
    "    plt.savefig(path_result+'//ROC.jpg')\n",
    "    plt. close() \n",
    "    \n",
    "    return gt\n",
    " \n",
    "# gt = evaluate(slide_name)"
   ]
  },
  {
   "cell_type": "code",
   "execution_count": 26,
   "metadata": {},
   "outputs": [
    {
     "name": "stdout",
     "output_type": "stream",
     "text": [
      "['HMNT1677', 'HMNT1679', 'HMNT1688_bis', 'HMNT1714', 'HMNT1715_bis', 'HMNT1725', 'HMNT1729', 'HMNT1745_bis', 'HMNT1747_bis', 'HMNT1748', 'HMNT1749', 'HMNT1750', 'HMNT1751', 'HMNT1752_bis', 'HMNT1759', 'HMNT1760_bis', 'HMNT1762']\n"
     ]
    }
   ],
   "source": [
    "if __name__ == '__main__':\n",
    "    slide_names = get_slide_name(root)\n",
    "    for i in range(60):\n",
    "        slide_names.pop(0)\n",
    "    print(slide_names)\n",
    "\n",
    "    model = load_model('E:\\\\deeplearning\\\\Hepatocarcinomes\\\\models\\\\5x\\\\vgg16_dense_bn\\\\best_model', compile = True)\n",
    "\n",
    "    for slide_name in slide_names:\n",
    "\n",
    "        path_512 = 'E:\\\\deeplearning\\\\data\\\\5x\\\\detector\\\\' + process + '\\\\' + slide_name + '\\\\512_image_label'\n",
    "        path_64 = 'E:\\\\deeplearning\\\\data\\\\5x\\\\detector\\\\' + process + '\\\\' + slide_name + '\\\\split64_image_label'\n",
    "        path_result = 'E:\\\\deeplearning\\\\data\\\\5x\\\\detector\\\\' + process + '\\\\' + slide_name + '\\\\results'\n",
    "\n",
    "        image=split64_image(slide_name)\n",
    "\n",
    "        roi_sub_npixel = split64_label(slide_name)\n",
    "\n",
    "        preds = test(slide_name)\n",
    "\n",
    "        gt = evaluate(slide_name)\n",
    "\n",
    "        del(image)\n",
    "        del(preds)"
   ]
  },
  {
   "cell_type": "code",
   "execution_count": null,
   "metadata": {},
   "outputs": [],
   "source": [
    "now2=datetime.datetime.now()\n",
    "print(\"Runtime?\" , now2-now1)"
   ]
  },
  {
   "cell_type": "code",
   "execution_count": 25,
   "metadata": {},
   "outputs": [
    {
     "name": "stdout",
     "output_type": "stream",
     "text": [
      "['HMNT1666_bis', 'HMNT1677', 'HMNT1679', 'HMNT1688_bis', 'HMNT1714', 'HMNT1715_bis', 'HMNT1725', 'HMNT1729', 'HMNT1745_bis', 'HMNT1747_bis', 'HMNT1748', 'HMNT1749', 'HMNT1750', 'HMNT1751', 'HMNT1752_bis', 'HMNT1759', 'HMNT1760_bis', 'HMNT1762']\n"
     ]
    }
   ],
   "source": [
    "slide_names = get_slide_name(root)\n",
    "for i in range(59):\n",
    "    slide_names.pop(0)\n",
    "print(slide_names)"
   ]
  },
  {
   "cell_type": "code",
   "execution_count": null,
   "metadata": {},
   "outputs": [],
   "source": [
    "# del(image)\n",
    "# del(preds)"
   ]
  },
  {
   "cell_type": "code",
   "execution_count": 17,
   "metadata": {},
   "outputs": [
    {
     "name": "stdout",
     "output_type": "stream",
     "text": [
      "HMNT1666_bis\n"
     ]
    }
   ],
   "source": [
    "print(slide_name)"
   ]
  },
  {
   "cell_type": "code",
   "execution_count": null,
   "metadata": {},
   "outputs": [],
   "source": [
    "print(len(slide_names))"
   ]
  }
 ],
 "metadata": {
  "anaconda-cloud": {},
  "kernelspec": {
   "display_name": "Python [conda env:r-tensorflow]",
   "language": "python",
   "name": "conda-env-r-tensorflow-py"
  },
  "language_info": {
   "codemirror_mode": {
    "name": "ipython",
    "version": 3
   },
   "file_extension": ".py",
   "mimetype": "text/x-python",
   "name": "python",
   "nbconvert_exporter": "python",
   "pygments_lexer": "ipython3",
   "version": "3.6.8"
  }
 },
 "nbformat": 4,
 "nbformat_minor": 2
}
