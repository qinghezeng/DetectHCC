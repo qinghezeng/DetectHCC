{
 "cells": [
  {
   "cell_type": "code",
   "execution_count": 1,
   "metadata": {},
   "outputs": [
    {
     "name": "stderr",
     "output_type": "stream",
     "text": [
      "Using TensorFlow backend.\n"
     ]
    }
   ],
   "source": [
    "import os\n",
    "from random import seed, sample\n",
    "import numpy as np\n",
    "import cv2\n",
    "from keras.utils import to_categorical\n",
    "from keras.applications.vgg16 import VGG16\n",
    "from keras import layers, models\n",
    "from keras.optimizers import SGD, Adam\n",
    "from keras. callbacks import CSVLogger, ModelCheckpoint, EarlyStopping, ReduceLROnPlateau\n",
    "from matplotlib import pyplot as plt"
   ]
  },
  {
   "cell_type": "code",
   "execution_count": 2,
   "metadata": {},
   "outputs": [],
   "source": [
    "batch_size = 64\n",
    "epochs = 120\n",
    "amount = 5 #for each category"
   ]
  },
  {
   "cell_type": "code",
   "execution_count": 3,
   "metadata": {},
   "outputs": [],
   "source": [
    "path1 = 'E:\\\\deeplearning\\\\Hepatocarcinomes\\\\models\\\\5x\\\\test_dataAmount\\\\0k_010' #amount of training samples\n",
    "path = 'E:\\\\deeplearning\\\\Hepatocarcinomes\\\\data\\\\5x\\\\training\\\\split64_image'"
   ]
  },
  {
   "cell_type": "code",
   "execution_count": 4,
   "metadata": {},
   "outputs": [],
   "source": [
    "lpos_ = []\n",
    "for root, dirs, files in os.walk(path+'\\\\pos_nor_5k' , topdown=True):\n",
    "    for f in files:\n",
    "        if f.endswith('.tif'):\n",
    "            lpos_.append(root+'\\\\'+f)\n",
    "seed(1)\n",
    "lpos = sample(lpos_, amount)\n",
    "lpos_train = lpos[0:int(amount*0.8)]\n",
    "lpos_val = lpos[int(amount*0.8):amount]"
   ]
  },
  {
   "cell_type": "code",
   "execution_count": 5,
   "metadata": {},
   "outputs": [],
   "source": [
    "lneg_ = []\n",
    "for root, dirs, files in os.walk(path+'\\\\neg_tum_5k' , topdown=True):\n",
    "    for f in files:\n",
    "        if f.endswith('.tif'):\n",
    "            lneg_.append(root+'\\\\'+f)\n",
    "seed(1)\n",
    "lneg = sample(lneg_, amount)\n",
    "lneg_train = lneg[0:int(amount*0.8)]\n",
    "lneg_val = lneg[int(amount*0.8):amount]"
   ]
  },
  {
   "cell_type": "code",
   "execution_count": 6,
   "metadata": {},
   "outputs": [],
   "source": [
    "ltrain = lpos_train + lneg_train\n",
    "lval = lpos_val + lneg_val\n",
    "np.random.seed(1) \n",
    "np.random.shuffle(ltrain)\n",
    "np.random.shuffle(lval)"
   ]
  },
  {
   "cell_type": "code",
   "execution_count": 7,
   "metadata": {},
   "outputs": [],
   "source": [
    "img_train = np.ndarray((int(amount*1.6), 64, 64, 3))\n",
    "for i in range(int(amount*1.6)):\n",
    "    img_train[i, :, :, :] = cv2.cvtColor(cv2.imread(ltrain[i], -1), cv2.COLOR_BGR2RGB)/255"
   ]
  },
  {
   "cell_type": "code",
   "execution_count": 8,
   "metadata": {},
   "outputs": [],
   "source": [
    "img_val = np.ndarray((int(amount*0.4), 64, 64, 3))\n",
    "for i in range(int(amount*0.4)):\n",
    "    img_val[i, :, :, :] =cv2.cvtColor(cv2.imread(lval[i], -1), cv2.COLOR_BGR2RGB)/255"
   ]
  },
  {
   "cell_type": "code",
   "execution_count": 9,
   "metadata": {},
   "outputs": [],
   "source": [
    "y_train = np.vstack((np.ones(int(amount*0.8), np.float32), np.zeros(int(amount*0.8), np.float32)))\n",
    "y_val = np.vstack((np.ones(int(amount*0.2), np.float32), np.zeros(int(amount*0.2), np.float32)))\n",
    "\n",
    "y_train = y_train.reshape(-1,1)\n",
    "y_val = y_val.reshape(-1,1)\n",
    "\n",
    "np.random.seed(1) \n",
    "np.random.shuffle(y_train)\n",
    "np.random.shuffle(y_val)\n",
    "\n",
    "y_train = to_categorical(y_train, 2)\n",
    "y_val = to_categorical(y_val, 2)"
   ]
  },
  {
   "cell_type": "code",
   "execution_count": 30,
   "metadata": {},
   "outputs": [],
   "source": [
    "base_model = VGG16(include_top=False, weights='imagenet', input_tensor=None, input_shape=(64,64,3), pooling=None)"
   ]
  },
  {
   "cell_type": "code",
   "execution_count": 31,
   "metadata": {},
   "outputs": [],
   "source": [
    "x = base_model.output\n",
    "x = layers.Flatten()(x)\n",
    "x = layers.Dense(4096, use_bias=False)(x)\n",
    "x = layers.BatchNormalization()(x)\n",
    "x = layers.Activation('relu')(x)\n",
    "x = layers.Dropout(0.5)(x)\n",
    "x = layers.Dense(512, use_bias=False)(x)\n",
    "x = layers.BatchNormalization()(x)\n",
    "x = layers.Activation('relu')(x)\n",
    "x = layers.Dropout(0.5)(x)\n",
    "predictions = layers.Dense(2, activation = 'softmax')(x)"
   ]
  },
  {
   "cell_type": "code",
   "execution_count": 32,
   "metadata": {},
   "outputs": [
    {
     "name": "stderr",
     "output_type": "stream",
     "text": [
      "C:\\Program Files\\Anaconda3\\envs\\r-tensorflow\\lib\\site-packages\\ipykernel\\__main__.py:1: UserWarning: Update your `Model` call to the Keras 2 API: `Model(inputs=Tensor(\"in..., outputs=Tensor(\"de...)`\n",
      "  if __name__ == '__main__':\n"
     ]
    }
   ],
   "source": [
    "model = models.Model(input=base_model.input, output=predictions)"
   ]
  },
  {
   "cell_type": "code",
   "execution_count": 33,
   "metadata": {},
   "outputs": [],
   "source": [
    "# model.summary()"
   ]
  },
  {
   "cell_type": "code",
   "execution_count": 34,
   "metadata": {},
   "outputs": [],
   "source": [
    "# model.compile(optimizer = SGD(lr = 1e-2, decay=0.001, momentum=0.9), loss = 'categorical_crossentropy', metrics = ['accuracy'])"
   ]
  },
  {
   "cell_type": "code",
   "execution_count": 35,
   "metadata": {},
   "outputs": [],
   "source": [
    "model.compile(optimizer = Adam(lr = 1e-3), loss = 'categorical_crossentropy', metrics = ['accuracy'])"
   ]
  },
  {
   "cell_type": "code",
   "execution_count": 36,
   "metadata": {},
   "outputs": [
    {
     "name": "stdout",
     "output_type": "stream",
     "text": [
      "Train on 8 samples, validate on 2 samples\n",
      "Epoch 1/100\n",
      "8/8 [==============================] - 7s 849ms/step - loss: 1.7774 - acc: 0.2500 - val_loss: 4.0634 - val_acc: 0.5000\n",
      "Epoch 2/100\n",
      "8/8 [==============================] - 0s 12ms/step - loss: 0.9024 - acc: 0.5000 - val_loss: 5.9410 - val_acc: 0.5000\n",
      "Epoch 3/100\n",
      "8/8 [==============================] - 0s 12ms/step - loss: 0.3874 - acc: 0.8750 - val_loss: 8.0590 - val_acc: 0.5000\n",
      "Epoch 4/100\n",
      "8/8 [==============================] - 0s 12ms/step - loss: 0.1274 - acc: 1.0000 - val_loss: 8.0590 - val_acc: 0.5000\n",
      "Epoch 5/100\n",
      "8/8 [==============================] - 0s 13ms/step - loss: 0.0462 - acc: 1.0000 - val_loss: 8.0590 - val_acc: 0.5000\n",
      "Epoch 6/100\n",
      "8/8 [==============================] - 0s 12ms/step - loss: 0.0188 - acc: 1.0000 - val_loss: 8.0590 - val_acc: 0.5000\n",
      "Epoch 7/100\n",
      "8/8 [==============================] - 0s 12ms/step - loss: 0.0029 - acc: 1.0000 - val_loss: 8.0590 - val_acc: 0.5000\n",
      "Epoch 8/100\n",
      "8/8 [==============================] - 0s 12ms/step - loss: 7.3292e-04 - acc: 1.0000 - val_loss: 8.0590 - val_acc: 0.5000\n",
      "Epoch 9/100\n",
      "8/8 [==============================] - 0s 12ms/step - loss: 0.0078 - acc: 1.0000 - val_loss: 8.0590 - val_acc: 0.5000\n",
      "\n",
      "Epoch 00009: ReduceLROnPlateau reducing learning rate to 0.00020000000949949026.\n",
      "Epoch 10/100\n",
      "8/8 [==============================] - 0s 12ms/step - loss: 0.0021 - acc: 1.0000 - val_loss: 8.0590 - val_acc: 0.5000\n",
      "Epoch 11/100\n",
      "8/8 [==============================] - 0s 12ms/step - loss: 8.2341e-04 - acc: 1.0000 - val_loss: 8.0590 - val_acc: 0.5000\n",
      "Epoch 12/100\n",
      "8/8 [==============================] - 0s 12ms/step - loss: 0.0026 - acc: 1.0000 - val_loss: 8.0590 - val_acc: 0.5000\n",
      "Epoch 13/100\n",
      "8/8 [==============================] - 0s 12ms/step - loss: 0.0014 - acc: 1.0000 - val_loss: 8.0590 - val_acc: 0.5000\n",
      "Epoch 14/100\n",
      "8/8 [==============================] - 0s 12ms/step - loss: 8.3460e-04 - acc: 1.0000 - val_loss: 8.0590 - val_acc: 0.5000\n",
      "Epoch 15/100\n",
      "8/8 [==============================] - 0s 13ms/step - loss: 0.0021 - acc: 1.0000 - val_loss: 8.0590 - val_acc: 0.5000\n",
      "\n",
      "Epoch 00015: val_loss improved from inf to 8.05905, saving model to E:\\deeplearning\\Hepatocarcinomes\\models\\5x\\test_dataAmount\\0k_010\\3_adam_64_lr3_weights.15-0.5000.hdf5\n",
      "Epoch 16/100\n",
      "8/8 [==============================] - 0s 13ms/step - loss: 0.0010 - acc: 1.0000 - val_loss: 8.0590 - val_acc: 0.5000\n",
      "Restoring model weights from the end of the best epoch\n",
      "Epoch 00016: early stopping\n"
     ]
    }
   ],
   "source": [
    "csv_logger = CSVLogger(path1+'\\\\3_adam_64_lr3_training.csv', append=True)\n",
    "model_checkpoint = ModelCheckpoint(path1+'\\\\3_adam_64_lr3_weights.{epoch:02d}-{val_acc:.4f}.hdf5', monitor='val_loss',verbose=1, save_best_only=True, period=15)\n",
    "early_stop = EarlyStopping(monitor='val_acc', min_delta=0.001, patience=15, verbose=1, restore_best_weights=True)\n",
    "reduce_lr = ReduceLROnPlateau(monitor='val_loss', factor=0.2, min_delta=0.005, cooldown=3, patience=8, verbose=1)\n",
    "results = model.fit(img_train, y_train, batch_size, epochs=100, verbose=1, callbacks=[csv_logger, model_checkpoint, early_stop, reduce_lr], validation_data=(img_val, y_val))\n",
    "csv_logger.csv_file.close()"
   ]
  },
  {
   "cell_type": "code",
   "execution_count": 37,
   "metadata": {},
   "outputs": [
    {
     "data": {
      "image/png": "[encoded data removed]",
      "text/plain": [
       "<Figure size 720x720 with 2 Axes>"
      ]
     },
     "metadata": {
      "needs_background": "light"
     },
     "output_type": "display_data"
    }
   ],
   "source": [
    "#plot training results\n",
    "acc=results.history['acc']\n",
    "val_acc=results.history['val_acc']\n",
    "loss=results.history['loss']\n",
    "val_loss=results.history['val_loss']\n",
    "\n",
    "plt.figure(figsize=(10,10))\n",
    "plt.subplot(2,1,1)\n",
    "plt.ylabel('accuracy')\n",
    "# plt.ylim((0, 5))\n",
    "\n",
    "epochs=range(1, len(acc)+1)\n",
    "plt.plot(epochs,acc,'b--',label='acc')\n",
    "plt.plot(epochs, val_acc,'g',label='val_acc')\n",
    "index0=np.where(val_acc==np.amax(val_acc))[0]\n",
    "if(len(index0)>3):\n",
    "    for i in range(2):\n",
    "        plt.text(epochs[int(i)], val_acc[int(i)], str((epochs[int(i)], val_acc[int(i)])),color='g')\n",
    "else:\n",
    "    for i in index0:\n",
    "        plt.text(epochs[int(i)], val_acc[int(i)], str((epochs[int(i)], val_acc[int(i)])),color='g')\n",
    "    \n",
    "plt.title('Training and validation preformance')\n",
    "plt.legend()\n",
    "\n",
    "plt.subplot(2,1,2)\n",
    "plt.xlabel('epochs')\n",
    "plt.ylabel('loss')\n",
    "# plt.ylim((0, 5))\n",
    "\n",
    "epochs=range(1, len(loss)+1)\n",
    "plt.plot(epochs,loss,'b--',label='loss')\n",
    "plt.plot(epochs, val_loss,'g',label='val_loss')\n",
    "if(len(index0)>3):\n",
    "    for i in range(2):\n",
    "        plt.text(epochs[int(i)], val_loss[int(i)], str((epochs[int(i)], val_loss[int(i)])),color='g')\n",
    "else:\n",
    "    for i in index0:\n",
    "        plt.text(epochs[int(i)], val_loss[int(i)], str((epochs[int(i)], val_loss[int(i)])),color='g')\n",
    "    \n",
    "plt.legend()\n",
    "plt.savefig(path1+'\\\\3_adam_64_lr4_training_validation_performance')\n",
    "plt.show()"
   ]
  },
  {
   "cell_type": "code",
   "execution_count": 38,
   "metadata": {},
   "outputs": [],
   "source": [
    "model.save(path1 + '\\\\3_adam_64_lr3_best_model.hdf5')"
   ]
  },
  {
   "cell_type": "code",
   "execution_count": 39,
   "metadata": {},
   "outputs": [],
   "source": [
    "del(model)"
   ]
  },
  {
   "cell_type": "markdown",
   "metadata": {},
   "source": [
    "####best parameters:\n",
    "50k: batch_size=128, optimizer=Adam (lr=3)\n"
   ]
  },
  {
   "cell_type": "code",
   "execution_count": null,
   "metadata": {},
   "outputs": [],
   "source": []
  }
 ],
 "metadata": {
  "anaconda-cloud": {},
  "kernelspec": {
   "display_name": "Python [conda env:r-tensorflow]",
   "language": "python",
   "name": "conda-env-r-tensorflow-py"
  },
  "language_info": {
   "codemirror_mode": {
    "name": "ipython",
    "version": 3
   },
   "file_extension": ".py",
   "mimetype": "text/x-python",
   "name": "python",
   "nbconvert_exporter": "python",
   "pygments_lexer": "ipython3",
   "version": "3.6.8"
  }
 },
 "nbformat": 4,
 "nbformat_minor": 2
}
