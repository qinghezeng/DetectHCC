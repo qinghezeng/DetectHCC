{
 "cells": [
  {
   "cell_type": "markdown",
   "metadata": {},
   "source": [
    "# Train a VGG model for Zeiss using Transfer Learning\n",
    "#### Load the modified VGG trained on Hamamatsu slides\n",
    "#### Freeze all the convolutional and maxpooling layers\n",
    "#### Train the dense, dropout, batch normalization and softmax layers\n",
    "#### Add channel swap function (not yet test)"
   ]
  },
  {
   "cell_type": "code",
   "execution_count": 1,
   "metadata": {},
   "outputs": [
    {
     "name": "stderr",
     "output_type": "stream",
     "text": [
      "Using TensorFlow backend.\n"
     ]
    }
   ],
   "source": [
    "import os\n",
    "from random import seed, sample, shuffle\n",
    "import numpy as np\n",
    "import cv2\n",
    "from keras.utils import to_categorical\n",
    "from keras.applications.vgg16 import VGG16\n",
    "from keras.models import load_model\n",
    "from keras.optimizers import SGD, Adam\n",
    "from keras. callbacks import CSVLogger, ModelCheckpoint, EarlyStopping, ReduceLROnPlateau\n",
    "from matplotlib import pyplot as plt"
   ]
  },
  {
   "cell_type": "code",
   "execution_count": 2,
   "metadata": {},
   "outputs": [],
   "source": [
    "batch_size = 32\n",
    "epochs = 120\n",
    "amount = 25000\n",
    "channel_swap = 0"
   ]
  },
  {
   "cell_type": "code",
   "execution_count": 3,
   "metadata": {},
   "outputs": [],
   "source": [
    "path1 = 'E:\\\\deeplearning\\\\Hepatocarcinomes\\\\models\\\\5x\\\\vgg16_transfer_zeiss'\n",
    "path = 'E:\\\\deeplearning\\\\Hepatocarcinomes\\\\data\\\\5x\\\\test_zeiss\\\\testset'"
   ]
  },
  {
   "cell_type": "code",
   "execution_count": 4,
   "metadata": {},
   "outputs": [],
   "source": [
    "lpos_ = []\n",
    "for root, dirs, files in os.walk(path+'\\\\nor' , topdown=True):\n",
    "    for f in files:\n",
    "        if f.endswith('.tif'):\n",
    "            lpos_.append(root+'\\\\'+f)\n",
    "seed(1)\n",
    "lpos = sample(lpos_, amount)\n",
    "lpos_train = lpos[0:int(amount*0.8)]\n",
    "lpos_val = lpos[int(amount*0.8):amount]"
   ]
  },
  {
   "cell_type": "code",
   "execution_count": 5,
   "metadata": {},
   "outputs": [],
   "source": [
    "lneg_ = []\n",
    "for root, dirs, files in os.walk(path+'\\\\tum' , topdown=True):\n",
    "    for f in files:\n",
    "        if f.endswith('.tif'):\n",
    "            lneg_.append(root+'\\\\'+f)\n",
    "seed(1)\n",
    "lneg = sample(lneg_, amount)\n",
    "lneg_train = lneg[0:int(amount*0.8)]\n",
    "lneg_val = lneg[int(amount*0.8):amount]"
   ]
  },
  {
   "cell_type": "code",
   "execution_count": 6,
   "metadata": {},
   "outputs": [],
   "source": [
    "ltrain = lpos_train + lneg_train\n",
    "lval = lpos_val + lneg_val\n",
    "np.random.seed(1) \n",
    "np.random.shuffle(ltrain)\n",
    "np.random.seed(1) \n",
    "np.random.shuffle(lval)"
   ]
  },
  {
   "cell_type": "code",
   "execution_count": 7,
   "metadata": {},
   "outputs": [],
   "source": [
    "#show effect of channel swap\n",
    "if channel_swap:\n",
    "    img = cv2.imread('E:\\\\deeplearning\\\\Hepatocarcinomes\\\\data\\\\5x\\\\test_biopsy\\\\P591234_1\\\\512_image_label_tissu\\\\img_00000.tif')\n",
    "    img2 = np.empty(shape=(512,512,3),dtype=np.uint8)\n",
    "    r = [0,1,2]\n",
    "    for i in range(9):\n",
    "        shuffle(r)\n",
    "        img2[:,:,0] = img[:,:,r[0]]\n",
    "        img2[:,:,1] = img[:,:,r[1]]\n",
    "        img2[:,:,2] = img[:,:,r[2]]\n",
    "        plt.subplot(int('33'+str(i+1))),plt.imshow(img2,'gray'),plt.title(r)\n",
    "plt.show()"
   ]
  },
  {
   "cell_type": "code",
   "execution_count": 8,
   "metadata": {},
   "outputs": [],
   "source": [
    "img_train = np.ndarray((int(amount*1.6), 64, 64, 3))\n",
    "\n",
    "if channel_swap:\n",
    "    img2 = np.empty(shape=(64,64,3),dtype=np.uint8)\n",
    "    r = [0,1,2]\n",
    "    for i in range(int(9)):\n",
    "        img = cv2.imread(ltrain[i], -1)/255\n",
    "        shuffle(r)\n",
    "        img_train[i, :, :, 0] = img[:,:,r[0]]\n",
    "        img_train[i, :, :, 1] = img[:,:,r[1]]\n",
    "        img_train[i, :, :, 2] = img[:,:,r[2]]\n",
    "        if i<9:\n",
    "            plt.subplot(int('33'+str(i+1))),plt.imshow((img_train[i, :, :, :]*255).astype(np.uint8),'gray')\n",
    "else:\n",
    "    for i in range(int(amount*1.6)):\n",
    "        image = cv2.imread(ltrain[i], -1)\n",
    "        img_train[i, :, :, :] = cv2.cvtColor(image, cv2.COLOR_BGR2RGB)/255 #opencv: BGR!!! 255!!!"
   ]
  },
  {
   "cell_type": "code",
   "execution_count": 9,
   "metadata": {},
   "outputs": [],
   "source": [
    "img_val = np.ndarray((int(amount*0.4), 64, 64, 3))\n",
    "\n",
    "if channel_swap:\n",
    "    img2 = np.empty(shape=(64,64,3),dtype=np.uint8)\n",
    "    r = [0,1,2]\n",
    "    for i in range(int(9)):\n",
    "        img = cv2.imread(lval[i], -1)/255\n",
    "        shuffle(r)\n",
    "        img_val[i, :, :, 0] = img[:,:,r[0]]\n",
    "        img_val[i, :, :, 1] = img[:,:,r[1]]\n",
    "        img_val[i, :, :, 2] = img[:,:,r[2]]\n",
    "#         if i<9:\n",
    "#             plt.subplot(int('33'+str(i+1))),plt.imshow((img_val[i, :, :, :]*255).astype(np.uint8),'gray')\n",
    "else:\n",
    "    for i in range(int(amount*0.4)):\n",
    "        image = cv2.imread(lval[i], -1)\n",
    "        img_val[i, :, :, :] = cv2.cvtColor(image, cv2.COLOR_BGR2RGB)/255"
   ]
  },
  {
   "cell_type": "code",
   "execution_count": 10,
   "metadata": {},
   "outputs": [],
   "source": [
    "y_train = np.vstack((np.ones(int(amount*0.8), np.float32), np.zeros(int(amount*0.8), np.float32)))\n",
    "y_val = np.vstack((np.ones(int(amount*0.2), np.float32), np.zeros(int(amount*0.2), np.float32)))\n",
    "\n",
    "y_train = y_train.reshape(-1,1)\n",
    "y_val = y_val.reshape(-1,1)\n",
    "\n",
    "np.random.seed(1) \n",
    "np.random.shuffle(y_train)\n",
    "np.random.seed(1) \n",
    "np.random.shuffle(y_val)\n",
    "\n",
    "# for i in range(10):\n",
    "#     print(y_train[i])\n",
    "#     print(y_val[i])\n",
    "\n",
    "y_train = to_categorical(y_train, 2)\n",
    "y_val = to_categorical(y_val, 2)"
   ]
  },
  {
   "cell_type": "code",
   "execution_count": 11,
   "metadata": {},
   "outputs": [],
   "source": [
    "model = load_model('E:\\\\deeplearning\\\\Hepatocarcinomes\\\\models\\\\5x\\\\vgg16_dense_bn\\\\best_model')"
   ]
  },
  {
   "cell_type": "code",
   "execution_count": 12,
   "metadata": {},
   "outputs": [
    {
     "name": "stdout",
     "output_type": "stream",
     "text": [
      "_________________________________________________________________\n",
      "Layer (type)                 Output Shape              Param #   \n",
      "=================================================================\n",
      "input_1 (InputLayer)         (None, 64, 64, 3)         0         \n",
      "_________________________________________________________________\n",
      "block1_conv1 (Conv2D)        (None, 64, 64, 64)        1792      \n",
      "_________________________________________________________________\n",
      "block1_conv2 (Conv2D)        (None, 64, 64, 64)        36928     \n",
      "_________________________________________________________________\n",
      "block1_pool (MaxPooling2D)   (None, 32, 32, 64)        0         \n",
      "_________________________________________________________________\n",
      "block2_conv1 (Conv2D)        (None, 32, 32, 128)       73856     \n",
      "_________________________________________________________________\n",
      "block2_conv2 (Conv2D)        (None, 32, 32, 128)       147584    \n",
      "_________________________________________________________________\n",
      "block2_pool (MaxPooling2D)   (None, 16, 16, 128)       0         \n",
      "_________________________________________________________________\n",
      "block3_conv1 (Conv2D)        (None, 16, 16, 256)       295168    \n",
      "_________________________________________________________________\n",
      "block3_conv2 (Conv2D)        (None, 16, 16, 256)       590080    \n",
      "_________________________________________________________________\n",
      "block3_conv3 (Conv2D)        (None, 16, 16, 256)       590080    \n",
      "_________________________________________________________________\n",
      "block3_pool (MaxPooling2D)   (None, 8, 8, 256)         0         \n",
      "_________________________________________________________________\n",
      "block4_conv1 (Conv2D)        (None, 8, 8, 512)         1180160   \n",
      "_________________________________________________________________\n",
      "block4_conv2 (Conv2D)        (None, 8, 8, 512)         2359808   \n",
      "_________________________________________________________________\n",
      "block4_conv3 (Conv2D)        (None, 8, 8, 512)         2359808   \n",
      "_________________________________________________________________\n",
      "block4_pool (MaxPooling2D)   (None, 4, 4, 512)         0         \n",
      "_________________________________________________________________\n",
      "block5_conv1 (Conv2D)        (None, 4, 4, 512)         2359808   \n",
      "_________________________________________________________________\n",
      "block5_conv2 (Conv2D)        (None, 4, 4, 512)         2359808   \n",
      "_________________________________________________________________\n",
      "block5_conv3 (Conv2D)        (None, 4, 4, 512)         2359808   \n",
      "_________________________________________________________________\n",
      "block5_pool (MaxPooling2D)   (None, 2, 2, 512)         0         \n",
      "_________________________________________________________________\n",
      "flatten_1 (Flatten)          (None, 2048)              0         \n",
      "_________________________________________________________________\n",
      "dense_1 (Dense)              (None, 4096)              8388608   \n",
      "_________________________________________________________________\n",
      "dense1_bn (BatchNormalizatio (None, 4096)              16384     \n",
      "_________________________________________________________________\n",
      "activation_1 (Activation)    (None, 4096)              0         \n",
      "_________________________________________________________________\n",
      "dropout_1 (Dropout)          (None, 4096)              0         \n",
      "_________________________________________________________________\n",
      "dense_2 (Dense)              (None, 512)               2097152   \n",
      "_________________________________________________________________\n",
      "dense2_bn (BatchNormalizatio (None, 512)               2048      \n",
      "_________________________________________________________________\n",
      "activation_2 (Activation)    (None, 512)               0         \n",
      "_________________________________________________________________\n",
      "dropout_2 (Dropout)          (None, 512)               0         \n",
      "_________________________________________________________________\n",
      "dense_3 (Dense)              (None, 2)                 1026      \n",
      "=================================================================\n",
      "Total params: 25,219,906\n",
      "Trainable params: 25,210,690\n",
      "Non-trainable params: 9,216\n",
      "_________________________________________________________________\n"
     ]
    }
   ],
   "source": [
    "model.summary()"
   ]
  },
  {
   "cell_type": "code",
   "execution_count": 13,
   "metadata": {},
   "outputs": [],
   "source": [
    "for layer in model.layers[:-10]:\n",
    "    layer.trainable = False\n",
    "\n",
    "# for layer in model.layers:\n",
    "#     print(layer, layer.trainable)"
   ]
  },
  {
   "cell_type": "code",
   "execution_count": 14,
   "metadata": {},
   "outputs": [],
   "source": [
    "model.compile(optimizer = Adam(lr = 1e-4), loss = 'categorical_crossentropy', metrics = ['accuracy'])"
   ]
  },
  {
   "cell_type": "code",
   "execution_count": 15,
   "metadata": {},
   "outputs": [
    {
     "name": "stdout",
     "output_type": "stream",
     "text": [
      "Train on 40000 samples, validate on 10000 samples\n",
      "Epoch 1/100\n",
      "40000/40000 [==============================] - 97s 2ms/step - loss: 0.4194 - acc: 0.8254 - val_loss: 0.3832 - val_acc: 0.8399\n",
      "Epoch 2/100\n",
      "40000/40000 [==============================] - 91s 2ms/step - loss: 0.3847 - acc: 0.8407 - val_loss: 0.5491 - val_acc: 0.7459\n",
      "Epoch 3/100\n",
      "40000/40000 [==============================] - 91s 2ms/step - loss: 0.3698 - acc: 0.8477 - val_loss: 0.4232 - val_acc: 0.8229\n",
      "Epoch 4/100\n",
      "40000/40000 [==============================] - 92s 2ms/step - loss: 0.3622 - acc: 0.8504 - val_loss: 0.5907 - val_acc: 0.7742\n",
      "Epoch 5/100\n",
      "40000/40000 [==============================] - 92s 2ms/step - loss: 0.3566 - acc: 0.8551 - val_loss: 0.4382 - val_acc: 0.8111\n",
      "Epoch 6/100\n",
      "40000/40000 [==============================] - 92s 2ms/step - loss: 0.3543 - acc: 0.8544 - val_loss: 0.3721 - val_acc: 0.8438\n",
      "Epoch 7/100\n",
      "40000/40000 [==============================] - 92s 2ms/step - loss: 0.3473 - acc: 0.8561 - val_loss: 0.3693 - val_acc: 0.8432\n",
      "Epoch 8/100\n",
      "40000/40000 [==============================] - 92s 2ms/step - loss: 0.3436 - acc: 0.8586 - val_loss: 0.3573 - val_acc: 0.8552\n",
      "Epoch 9/100\n",
      "40000/40000 [==============================] - 92s 2ms/step - loss: 0.3409 - acc: 0.8619 - val_loss: 0.3491 - val_acc: 0.8581\n",
      "Epoch 10/100\n",
      "40000/40000 [==============================] - 92s 2ms/step - loss: 0.3350 - acc: 0.8619 - val_loss: 0.4023 - val_acc: 0.8409\n",
      "Epoch 11/100\n",
      "40000/40000 [==============================] - 92s 2ms/step - loss: 0.3313 - acc: 0.8653 - val_loss: 0.3380 - val_acc: 0.8614\n",
      "Epoch 12/100\n",
      "40000/40000 [==============================] - 92s 2ms/step - loss: 0.3307 - acc: 0.8642 - val_loss: 0.3838 - val_acc: 0.8396\n",
      "Epoch 13/100\n",
      "40000/40000 [==============================] - 92s 2ms/step - loss: 0.3256 - acc: 0.8691 - val_loss: 0.3743 - val_acc: 0.8514\n",
      "Epoch 14/100\n",
      "40000/40000 [==============================] - 87s 2ms/step - loss: 0.3261 - acc: 0.8688 - val_loss: 0.3436 - val_acc: 0.8575\n",
      "Epoch 15/100\n",
      "40000/40000 [==============================] - 91s 2ms/step - loss: 0.3210 - acc: 0.8697 - val_loss: 0.3326 - val_acc: 0.8627\n",
      "\n",
      "Epoch 00015: val_loss improved from inf to 0.33257, saving model to E:\\deeplearning\\Hepatocarcinomes\\models\\5x\\vgg16_transfer_zeiss\\adam_32_lr4_weights.15-0.8627.hdf5\n",
      "Epoch 16/100\n",
      "40000/40000 [==============================] - 93s 2ms/step - loss: 0.3190 - acc: 0.8716 - val_loss: 0.3649 - val_acc: 0.8454\n",
      "Epoch 17/100\n",
      "40000/40000 [==============================] - 92s 2ms/step - loss: 0.3196 - acc: 0.8691 - val_loss: 0.3330 - val_acc: 0.8640\n",
      "Epoch 18/100\n",
      "40000/40000 [==============================] - 93s 2ms/step - loss: 0.3151 - acc: 0.8738 - val_loss: 0.4750 - val_acc: 0.8057\n",
      "Epoch 19/100\n",
      "40000/40000 [==============================] - 91s 2ms/step - loss: 0.3111 - acc: 0.8752 - val_loss: 0.3405 - val_acc: 0.8653\n",
      "Epoch 20/100\n",
      "40000/40000 [==============================] - 91s 2ms/step - loss: 0.3105 - acc: 0.8737 - val_loss: 0.3364 - val_acc: 0.8644\n",
      "Epoch 21/100\n",
      "40000/40000 [==============================] - 90s 2ms/step - loss: 0.3095 - acc: 0.8761 - val_loss: 0.3637 - val_acc: 0.8495\n",
      "Epoch 22/100\n",
      "40000/40000 [==============================] - 92s 2ms/step - loss: 0.3050 - acc: 0.8778 - val_loss: 0.3304 - val_acc: 0.8669\n",
      "Epoch 23/100\n",
      "40000/40000 [==============================] - 92s 2ms/step - loss: 0.3047 - acc: 0.8784 - val_loss: 0.3509 - val_acc: 0.8598\n",
      "\n",
      "Epoch 00023: ReduceLROnPlateau reducing learning rate to 1.9999999494757503e-05.\n",
      "Epoch 24/100\n",
      "40000/40000 [==============================] - 91s 2ms/step - loss: 0.2911 - acc: 0.8838 - val_loss: 0.3291 - val_acc: 0.8667\n",
      "Epoch 25/100\n",
      "40000/40000 [==============================] - 92s 2ms/step - loss: 0.2885 - acc: 0.8842 - val_loss: 0.3203 - val_acc: 0.8695\n",
      "Epoch 26/100\n",
      "40000/40000 [==============================] - 92s 2ms/step - loss: 0.2817 - acc: 0.8860 - val_loss: 0.3236 - val_acc: 0.8689\n",
      "Epoch 27/100\n",
      "40000/40000 [==============================] - 92s 2ms/step - loss: 0.2830 - acc: 0.8866 - val_loss: 0.3274 - val_acc: 0.8671\n",
      "Epoch 28/100\n",
      "40000/40000 [==============================] - 92s 2ms/step - loss: 0.2799 - acc: 0.8887 - val_loss: 0.3322 - val_acc: 0.8632\n",
      "Epoch 29/100\n",
      "40000/40000 [==============================] - 92s 2ms/step - loss: 0.2772 - acc: 0.8903 - val_loss: 0.3212 - val_acc: 0.8698\n",
      "Epoch 30/100\n",
      "40000/40000 [==============================] - 92s 2ms/step - loss: 0.2734 - acc: 0.8903 - val_loss: 0.3327 - val_acc: 0.8625\n",
      "\n",
      "Epoch 00030: val_loss did not improve from 0.33257\n",
      "Epoch 31/100\n",
      "40000/40000 [==============================] - 92s 2ms/step - loss: 0.2749 - acc: 0.8908 - val_loss: 0.3419 - val_acc: 0.8649\n",
      "Epoch 32/100\n",
      "40000/40000 [==============================] - 92s 2ms/step - loss: 0.2719 - acc: 0.8914 - val_loss: 0.3328 - val_acc: 0.8630\n",
      "Epoch 33/100\n",
      "40000/40000 [==============================] - 92s 2ms/step - loss: 0.2690 - acc: 0.8922 - val_loss: 0.3619 - val_acc: 0.8551\n",
      "\n",
      "Epoch 00033: ReduceLROnPlateau reducing learning rate to 3.999999898951501e-06.\n",
      "Epoch 34/100\n",
      "40000/40000 [==============================] - 92s 2ms/step - loss: 0.2659 - acc: 0.8934 - val_loss: 0.3246 - val_acc: 0.8697\n",
      "Epoch 35/100\n",
      "40000/40000 [==============================] - 92s 2ms/step - loss: 0.2673 - acc: 0.8933 - val_loss: 0.3268 - val_acc: 0.8678\n",
      "Epoch 36/100\n",
      "40000/40000 [==============================] - 92s 2ms/step - loss: 0.2667 - acc: 0.8928 - val_loss: 0.3243 - val_acc: 0.8686\n",
      "Epoch 37/100\n",
      "40000/40000 [==============================] - 92s 2ms/step - loss: 0.2646 - acc: 0.8937 - val_loss: 0.3252 - val_acc: 0.8693\n",
      "Epoch 38/100\n",
      "40000/40000 [==============================] - 92s 2ms/step - loss: 0.2642 - acc: 0.8953 - val_loss: 0.3246 - val_acc: 0.8697\n",
      "Epoch 39/100\n",
      "40000/40000 [==============================] - 92s 2ms/step - loss: 0.2631 - acc: 0.8951 - val_loss: 0.3249 - val_acc: 0.8689\n",
      "Epoch 40/100\n",
      "40000/40000 [==============================] - 92s 2ms/step - loss: 0.2645 - acc: 0.8941 - val_loss: 0.3257 - val_acc: 0.8696\n",
      "Restoring model weights from the end of the best epoch\n",
      "Epoch 00040: early stopping\n"
     ]
    }
   ],
   "source": [
    "csv_logger = CSVLogger(path1+'\\\\adam_32_lr4_training.csv', append=True)\n",
    "model_checkpoint = ModelCheckpoint(path1+'\\\\adam_32_lr4_weights.{epoch:02d}-{val_acc:.4f}.hdf5', monitor='val_loss',verbose=1, save_best_only=True, period=15)\n",
    "early_stop = EarlyStopping(monitor='val_acc', min_delta=0.001, patience=15, verbose=1, restore_best_weights=True)\n",
    "reduce_lr = ReduceLROnPlateau(monitor='val_loss', factor=0.2, min_delta=0.005, cooldown=3, patience=8, verbose=1)\n",
    "results = model.fit(img_train, y_train, batch_size, epochs=100, verbose=1, callbacks=[csv_logger, model_checkpoint, early_stop, reduce_lr], validation_data=(img_val, y_val))\n",
    "csv_logger.csv_file.close()"
   ]
  },
  {
   "cell_type": "code",
   "execution_count": 16,
   "metadata": {},
   "outputs": [],
   "source": [
    "model.save(path1 + '\\\\adam_32_lr4_best_model.hdf5')"
   ]
  },
  {
   "cell_type": "code",
   "execution_count": 17,
   "metadata": {},
   "outputs": [
    {
     "data": {
      "image/png": "[encoded data removed]",
      "text/plain": [
       "<Figure size 720x720 with 2 Axes>"
      ]
     },
     "metadata": {
      "needs_background": "light"
     },
     "output_type": "display_data"
    }
   ],
   "source": [
    "import csv\n",
    "loss = []\n",
    "val_loss = []\n",
    "acc = []\n",
    "val_acc = []\n",
    "\n",
    "with open('E:\\\\deeplearning\\\\Hepatocarcinomes\\\\models\\\\5x\\\\vgg16_transfer_zeiss\\\\adam_32_lr4_training.csv') as csv_file:\n",
    "    csv_reader = csv.DictReader(csv_file)\n",
    "    line_count = 0\n",
    "    for row in csv_reader:\n",
    "        if line_count == 0:\n",
    "            line_count += 1\n",
    "        else:\n",
    "            loss.append(row['loss'])\n",
    "            val_loss.append(row['val_loss'])\n",
    "            acc.append(row['acc'])\n",
    "            val_acc.append(row['val_acc'])\n",
    "            line_count += 1\n",
    "            \n",
    "loss=np.array(loss, dtype=np.float32)#to use matplotlib, has to change list to np.array, otherwise the y axis will be autoscaled\n",
    "val_loss=np.array(val_loss, dtype=np.float32)\n",
    "acc=np.array(acc, dtype=np.float32)\n",
    "val_acc=np.array(val_acc, dtype=np.float32)\n",
    "\n",
    "plt.figure(figsize=(10,10))\n",
    "plt.subplot(2,1,1)\n",
    "plt.ylabel('accuracy')\n",
    "# plt.ylim((0, 5))\n",
    "\n",
    "epochs=range(1, len(acc)+1)\n",
    "plt.plot(epochs,acc,'b--',label='acc')\n",
    "plt.plot(epochs, val_acc,'g',label='val_acc')\n",
    "index0=np.where(val_acc==np.amax(val_acc))\n",
    "for i in index0:\n",
    "    plt.text(epochs[int(i)], val_acc[int(i)], str((epochs[int(i)], val_acc[int(i)])),color='g')\n",
    "    \n",
    "plt.title('Training and validation preformance')\n",
    "plt.legend()\n",
    "\n",
    "plt.subplot(2,1,2)\n",
    "plt.xlabel('epochs')\n",
    "plt.ylabel('loss')\n",
    "# plt.ylim((0, 5))\n",
    "\n",
    "epochs=range(1, len(loss)+1)\n",
    "plt.plot(epochs,loss,'b--',label='loss')\n",
    "plt.plot(epochs, val_loss,'g',label='val_loss')\n",
    "for i in index0:\n",
    "    plt.text(epochs[int(i)], val_loss[int(i)], str((epochs[int(i)], val_loss[int(i)])),color='g')\n",
    "    \n",
    "plt.legend()\n",
    "plt.savefig(path1+'\\\\adam_32_lr4_training_validation_performance')\n",
    "plt.show()"
   ]
  },
  {
   "cell_type": "code",
   "execution_count": 5,
   "metadata": {},
   "outputs": [
    {
     "data": {
      "text/plain": [
       "<Figure size 1000x1000 with 2 Axes>"
      ]
     },
     "metadata": {},
     "output_type": "display_data"
    }
   ],
   "source": [
    "import csv\n",
    "import numpy as np\n",
    "from matplotlib import pyplot as plt\n",
    "loss = []\n",
    "val_loss = []\n",
    "acc = []\n",
    "val_acc = []\n",
    "\n",
    "with open('E:\\\\deeplearning\\\\Hepatocarcinomes\\\\models\\\\5x\\\\vgg16_no_drop\\\\logger.csv') as csv_file:\n",
    "    csv_reader = csv.DictReader(csv_file)\n",
    "    line_count = 0\n",
    "    for row in csv_reader:\n",
    "        if line_count == 0:\n",
    "            line_count += 1\n",
    "        else:\n",
    "            loss.append(row['loss'])\n",
    "            val_loss.append(row['val_loss'])\n",
    "            acc.append(row['acc'])\n",
    "            val_acc.append(row['val_acc'])\n",
    "            line_count += 1\n",
    "            \n",
    "loss=np.array(loss, dtype=np.float32)#to use matplotlib, has to change list to np.array, otherwise the y axis will be autoscaled\n",
    "val_loss=np.array(val_loss, dtype=np.float32)\n",
    "acc=np.array(acc, dtype=np.float32)\n",
    "val_acc=np.array(val_acc, dtype=np.float32)\n",
    "\n",
    "plt.figure(figsize=(10,10))\n",
    "plt.subplot(2,1,1)\n",
    "plt.ylabel('accuracy')\n",
    "# plt.ylim((0, 5))\n",
    "\n",
    "epochs=range(1, len(acc)+1)\n",
    "plt.plot(epochs,acc,'b--',label='acc')\n",
    "plt.plot(epochs, val_acc,'g',label='val_acc')\n",
    "index0=np.where(val_acc==np.amax(val_acc))\n",
    "for i in index0:\n",
    "    plt.text(epochs[int(i)], val_acc[int(i)], str((epochs[int(i)], val_acc[int(i)])),color='g')\n",
    "    \n",
    "plt.title('Training and validation preformance')\n",
    "plt.legend()\n",
    "\n",
    "plt.subplot(2,1,2)\n",
    "plt.xlabel('epochs')\n",
    "plt.ylabel('loss')\n",
    "# plt.ylim((0, 5))\n",
    "\n",
    "epochs=range(1, len(loss)+1)\n",
    "plt.plot(epochs,loss,'b--',label='loss')\n",
    "plt.plot(epochs, val_loss,'g',label='val_loss')\n",
    "for i in index0:\n",
    "    plt.text(epochs[int(i)], val_loss[int(i)], str((epochs[int(i)], val_loss[int(i)])),color='g')\n",
    "    \n",
    "plt.legend()\n",
    "plt.savefig('E:\\\\deeplearning\\\\Hepatocarcinomes\\\\models\\\\5x\\\\vgg16_no_drop\\\\'+'training_validation_performance')\n",
    "plt.show()"
   ]
  },
  {
   "cell_type": "code",
   "execution_count": null,
   "metadata": {},
   "outputs": [],
   "source": []
  },
  {
   "cell_type": "code",
   "execution_count": null,
   "metadata": {},
   "outputs": [],
   "source": []
  }
 ],
 "metadata": {
  "anaconda-cloud": {},
  "kernelspec": {
   "display_name": "Python [conda env:r-tensorflow]",
   "language": "python",
   "name": "conda-env-r-tensorflow-py"
  },
  "language_info": {
   "codemirror_mode": {
    "name": "ipython",
    "version": 3
   },
   "file_extension": ".py",
   "mimetype": "text/x-python",
   "name": "python",
   "nbconvert_exporter": "python",
   "pygments_lexer": "ipython3",
   "version": "3.6.8"
  }
 },
 "nbformat": 4,
 "nbformat_minor": 2
}
