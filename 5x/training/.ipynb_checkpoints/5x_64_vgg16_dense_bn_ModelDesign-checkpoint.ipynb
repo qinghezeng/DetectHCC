{
 "cells": [
  {
   "cell_type": "code",
   "execution_count": 1,
   "metadata": {},
   "outputs": [
    {
     "name": "stderr",
     "output_type": "stream",
     "text": [
      "Using TensorFlow backend.\n"
     ]
    }
   ],
   "source": [
    "import os\n",
    "from random import seed, sample\n",
    "import numpy as np\n",
    "import cv2\n",
    "from keras.utils import to_categorical\n",
    "from keras.applications.vgg16 import VGG16\n",
    "from keras import layers, models\n",
    "from keras.optimizers import SGD, Adam\n",
    "from keras.callbacks import CSVLogger, ModelCheckpoint, EarlyStopping, ReduceLROnPlateau\n",
    "from matplotlib import pyplot as plt\n",
    "from keras import regularizers\n",
    "from keras.initializers import VarianceScaling\n",
    "import math"
   ]
  },
  {
   "cell_type": "code",
   "execution_count": 3,
   "metadata": {},
   "outputs": [],
   "source": [
    "epochs = 120\n",
    "\n",
    "#data\n",
    "batch_size = 256\n",
    "amount = 25000 #for each category\n",
    "folder = '50k' #amount of training samples\n",
    "\n",
    "#configuration\n",
    "LearningRate = 1e-3\n",
    "Optimizer = 'adam' #sgd, adam\n",
    "vgg = 'bnv1' #vgg16, vgg16own, dropv1, dropv2, dropv3, bnv1, bnv2, dropbnv1\n",
    "mode = 'fc' #fc, fcl2, gap"
   ]
  },
  {
   "cell_type": "code",
   "execution_count": 4,
   "metadata": {},
   "outputs": [],
   "source": [
    "path1 = os.path.join('E:\\\\deeplearning\\\\Hepatocarcinomes\\\\models\\\\5x\\\\test_dataAmount', folder)\n",
    "path = 'E:\\\\deeplearning\\\\Hepatocarcinomes\\\\data\\\\5x\\\\training\\\\split64_image'"
   ]
  },
  {
   "cell_type": "code",
   "execution_count": 4,
   "metadata": {},
   "outputs": [],
   "source": [
    "lpos_ = []\n",
    "for root, dirs, files in os.walk(path+'\\\\pos_nor_5k' , topdown=True):#5k: the subfolder has 50k except last one\n",
    "    for f in files:\n",
    "        if f.endswith('.tif'):\n",
    "            lpos_.append(root+'\\\\'+f)\n",
    "seed(1)\n",
    "lpos = sample(lpos_, amount)\n",
    "lpos_train = lpos[0:int(amount*0.8)]\n",
    "lpos_val = lpos[int(amount*0.8):amount]"
   ]
  },
  {
   "cell_type": "code",
   "execution_count": 5,
   "metadata": {},
   "outputs": [],
   "source": [
    "lneg_ = []\n",
    "for root, dirs, files in os.walk(path+'\\\\neg_tum_5k' , topdown=True):\n",
    "    for f in files:\n",
    "        if f.endswith('.tif'):\n",
    "            lneg_.append(root+'\\\\'+f)\n",
    "seed(1)\n",
    "lneg = sample(lneg_, amount)\n",
    "lneg_train = lneg[0:int(amount*0.8)]\n",
    "lneg_val = lneg[int(amount*0.8):amount]"
   ]
  },
  {
   "cell_type": "code",
   "execution_count": 6,
   "metadata": {},
   "outputs": [],
   "source": [
    "ltrain = lpos_train + lneg_train\n",
    "lval = lpos_val + lneg_val\n",
    "np.random.seed(1) \n",
    "np.random.shuffle(ltrain)\n",
    "np.random.shuffle(lval)"
   ]
  },
  {
   "cell_type": "code",
   "execution_count": 7,
   "metadata": {},
   "outputs": [],
   "source": [
    "img_train = np.ndarray((int(amount*1.6), 64, 64, 3))\n",
    "for i in range(int(amount*1.6)):\n",
    "    img_train[i, :, :, :] = cv2.cvtColor(cv2.imread(ltrain[i], -1), cv2.COLOR_BGR2RGB)/255"
   ]
  },
  {
   "cell_type": "code",
   "execution_count": 8,
   "metadata": {},
   "outputs": [],
   "source": [
    "img_val = np.ndarray((int(amount*0.4), 64, 64, 3))\n",
    "for i in range(int(amount*0.4)):\n",
    "    img_val[i, :, :, :] =cv2.cvtColor(cv2.imread(lval[i], -1), cv2.COLOR_BGR2RGB)/255"
   ]
  },
  {
   "cell_type": "code",
   "execution_count": 9,
   "metadata": {},
   "outputs": [],
   "source": [
    "y_train = np.vstack((np.ones(int(amount*0.8), np.float32), np.zeros(int(amount*0.8), np.float32)))\n",
    "y_val = np.vstack((np.ones(int(amount*0.2), np.float32), np.zeros(int(amount*0.2), np.float32)))\n",
    "\n",
    "y_train = y_train.reshape(-1,1)\n",
    "y_val = y_val.reshape(-1,1)\n",
    "\n",
    "np.random.seed(1) \n",
    "np.random.shuffle(y_train)\n",
    "np.random.shuffle(y_val)\n",
    "\n",
    "y_train = to_categorical(y_train, 2)\n",
    "y_val = to_categorical(y_val, 2)"
   ]
  },
  {
   "cell_type": "code",
   "execution_count": 10,
   "metadata": {},
   "outputs": [],
   "source": [
    "# base_model.layers"
   ]
  },
  {
   "cell_type": "code",
   "execution_count": 11,
   "metadata": {},
   "outputs": [],
   "source": [
    "# base_model.layers[19].get_config()"
   ]
  },
  {
   "cell_type": "code",
   "execution_count": 12,
   "metadata": {},
   "outputs": [],
   "source": [
    "# from keras.engine import input_layer\n",
    "\n",
    "# x = input_layer.Input(shape=(64,64,3), dtype='float32', sparse=False)\n",
    "# y = layers.Conv2D(64, (3, 3), padding='same', data_format=\"channels_last\", kernel_initializer=VarianceScaling(scale=1.0, mode='fan_avg', distribution='uniform', seed=None), name='block1_conv1')(x)\n",
    "# y = layers.Activation('relu')(y)\n",
    "# # y = layers.BatchNormalization()(y)\n",
    "# # y = layers.Dropout(0.1, seed=1)(y)\n",
    "# y = layers.Conv2D(64, (3, 3), padding='same', data_format=\"channels_last\", kernel_initializer=VarianceScaling(scale=1.0, mode='fan_avg', distribution='uniform', seed=None), name='block1_conv2')(y)\n",
    "# y = layers.Activation('relu')(y)\n",
    "# # y = layers.BatchNormalization()(y)\n",
    "# # y = layers.Dropout(0.1, seed=1)(y)\n",
    "# y = layers.MaxPooling2D(name='block1_pool')(y)\n",
    "\n",
    "# y = layers.Conv2D(128, (3, 3), padding='same', data_format=\"channels_last\", kernel_initializer=VarianceScaling(scale=1.0, mode='fan_avg', distribution='uniform', seed=None), name='block2_conv1')(y)\n",
    "# y = layers.Activation('relu')(y)\n",
    "# # y = layers.BatchNormalization()(y)\n",
    "# # y = layers.Dropout(0.15, seed=1)(y)\n",
    "# y = layers.Conv2D(128, (3, 3), padding='same', data_format=\"channels_last\", kernel_initializer=VarianceScaling(scale=1.0, mode='fan_avg', distribution='uniform', seed=None), name='block2_conv2')(y)\n",
    "# y = layers.Activation('relu')(y)\n",
    "# # y = layers.BatchNormalization()(y)\n",
    "# # y = layers.Dropout(0.15, seed=1)(y)\n",
    "# y = layers.MaxPooling2D(name='block2_pool')(y)\n",
    "\n",
    "# y = layers.Conv2D(256, (3, 3), padding='same', data_format=\"channels_last\", kernel_initializer=VarianceScaling(scale=1.0, mode='fan_avg', distribution='uniform', seed=None), name='block3_conv1')(y)\n",
    "# y = layers.Activation('relu')(y)\n",
    "# # y = layers.BatchNormalization()(y)\n",
    "# y = layers.Dropout(0.1, seed=1)(y)\n",
    "# y = layers.Conv2D(256, (3, 3), padding='same', data_format=\"channels_last\", kernel_initializer=VarianceScaling(scale=1.0, mode='fan_avg', distribution='uniform', seed=None), name='block3_conv2')(y)\n",
    "# y = layers.Activation('relu')(y)\n",
    "# # y = layers.BatchNormalization()(y)\n",
    "# y = layers.Dropout(0.1, seed=1)(y)\n",
    "# y = layers.Conv2D(256, (3, 3), padding='same', data_format=\"channels_last\", kernel_initializer=VarianceScaling(scale=1.0, mode='fan_avg', distribution='uniform', seed=None), name='block3_conv3')(y)\n",
    "# y = layers.Activation('relu')(y)\n",
    "# # y = layers.BatchNormalization()(y)\n",
    "# y = layers.Dropout(0.1, seed=1)(y)\n",
    "# y = layers.MaxPooling2D(name='block3_pool')(y)\n",
    "# # y = layers.Dropout(0.1, seed=1)(y)\n",
    "# y = layers.Conv2D(512, (3, 3), padding='same', data_format=\"channels_last\", kernel_initializer=VarianceScaling(scale=1.0, mode='fan_avg', distribution='uniform', seed=None), name='block4_conv1')(y)\n",
    "# y = layers.Activation('relu')(y)\n",
    "# # y = layers.BatchNormalization()(y)\n",
    "# y = layers.Dropout(0.15, seed=1)(y)\n",
    "# y = layers.Conv2D(512, (3, 3), padding='same', data_format=\"channels_last\", kernel_initializer=VarianceScaling(scale=1.0, mode='fan_avg', distribution='uniform', seed=None), name='block4_conv2')(y)\n",
    "# y = layers.Activation('relu')(y)\n",
    "# # y = layers.BatchNormalization()(y)\n",
    "# y = layers.Dropout(0.15, seed=1)(y)\n",
    "# y = layers.Conv2D(512, (3, 3), padding='same', data_format=\"channels_last\", kernel_initializer=VarianceScaling(scale=1.0, mode='fan_avg', distribution='uniform', seed=None), name='block4_conv3')(y)\n",
    "# y = layers.Activation('relu')(y)\n",
    "# # y = layers.BatchNormalization()(y)\n",
    "# y = layers.Dropout(0.15, seed=1)(y)\n",
    "# y = layers.MaxPooling2D(name='block4_pool')(y)\n",
    "# # y = layers.Dropout(0.1, seed=1)(y)\n",
    "# y = layers.Conv2D(512, (3, 3), padding='same', data_format=\"channels_last\", kernel_initializer=VarianceScaling(scale=1.0, mode='fan_avg', distribution='uniform', seed=None), name='block5_conv1')(y)\n",
    "# y = layers.Activation('relu')(y)\n",
    "# # y = layers.BatchNormalization()(y)\n",
    "# y = layers.Dropout(0.2, seed=1)(y)\n",
    "# y = layers.Conv2D(512, (3, 3), padding='same', data_format=\"channels_last\", kernel_initializer=VarianceScaling(scale=1.0, mode='fan_avg', distribution='uniform', seed=None), name='block5_conv2')(y)\n",
    "# y = layers.Activation('relu')(y)\n",
    "# # y = layers.BatchNormalization()(y)\n",
    "# y = layers.Dropout(0.2, seed=1)(y)\n",
    "# y = layers.Conv2D(512, (3, 3), padding='same', data_format=\"channels_last\", kernel_initializer=VarianceScaling(scale=1.0, mode='fan_avg', distribution='uniform', seed=None), name='block5_conv3')(y)\n",
    "# y = layers.Activation('relu')(y)\n",
    "# # y = layers.BatchNormalization()(y)\n",
    "# y = layers.Dropout(0.2, seed=1)(y)\n",
    "# y = layers.MaxPooling2D(name='block5_pool')(y)\n",
    "\n",
    "# model = models.Model(x, y)\n",
    "\n",
    "# model.summary()\n",
    "\n",
    "# model.save('E:\\\\deeplearning\\\\Hepatocarcinomes\\\\models\\\\5x\\\\test_dataAmount\\\\vgg16_drop_v2.hdf5')\n",
    "\n",
    "# del(model)"
   ]
  },
  {
   "cell_type": "code",
   "execution_count": 5,
   "metadata": {},
   "outputs": [],
   "source": [
    "def vggArch(vgg='vgg16'):\n",
    "    if vgg == 'vgg16':\n",
    "        base_model = VGG16(include_top=False, weights='imagenet', input_tensor=None, input_shape=(64,64,3), pooling=None)\n",
    "    elif vgg == 'vgg16own':\n",
    "        base_model = models.load_model('E:\\\\deeplearning\\\\Hepatocarcinomes\\\\models\\\\5x\\\\test_dataAmount\\\\vgg16_own.hdf5')\n",
    "        base_model.load_weights('E:\\\\deeplearning\\\\Hepatocarcinomes\\\\models\\\\5x\\\\test_dataAmount_\\\\vgg16_imagenet_weights.hdf5', by_name=True)\n",
    "    elif vgg == 'dropv1':\n",
    "        base_model = models.load_model('E:\\\\deeplearning\\\\Hepatocarcinomes\\\\models\\\\5x\\\\test_dataAmount\\\\vgg16_drop_v1.hdf5')\n",
    "        base_model.load_weights('E:\\\\deeplearning\\\\Hepatocarcinomes\\\\models\\\\5x\\\\test_dataAmount_\\\\vgg16_imagenet_weights.hdf5', by_name=True)\n",
    "    elif vgg == 'dropv2':\n",
    "        base_model = models.load_model('E:\\\\deeplearning\\\\Hepatocarcinomes\\\\models\\\\5x\\\\test_dataAmount\\\\vgg16_drop_v2.hdf5')\n",
    "        base_model.load_weights('E:\\\\deeplearning\\\\Hepatocarcinomes\\\\models\\\\5x\\\\test_dataAmount_\\\\vgg16_imagenet_weights.hdf5', by_name=True)\n",
    "    elif vgg == 'dropv3':\n",
    "        base_model = models.load_model('E:\\\\deeplearning\\\\Hepatocarcinomes\\\\models\\\\5x\\\\test_dataAmount\\\\vgg16_drop_v3.hdf5')\n",
    "        base_model.load_weights('E:\\\\deeplearning\\\\Hepatocarcinomes\\\\models\\\\5x\\\\test_dataAmount_\\\\vgg16_imagenet_weights.hdf5', by_name=True)\n",
    "    elif vgg == 'bnv1':\n",
    "        base_model = models.load_model('E:\\\\deeplearning\\\\Hepatocarcinomes\\\\models\\\\5x\\\\test_dataAmount\\\\vgg16_bn_v1.hdf5')\n",
    "        base_model.load_weights('E:\\\\deeplearning\\\\Hepatocarcinomes\\\\models\\\\5x\\\\test_dataAmount_\\\\vgg16_imagenet_weights.hdf5', by_name=True)\n",
    "    elif vgg == 'bnv2':\n",
    "        base_model = models.load_model('E:\\\\deeplearning\\\\Hepatocarcinomes\\\\models\\\\5x\\\\test_dataAmount\\\\vgg16_bn_v2.hdf5')\n",
    "        base_model.load_weights('E:\\\\deeplearning\\\\Hepatocarcinomes\\\\models\\\\5x\\\\test_dataAmount_\\\\vgg16_imagenet_weights.hdf5', by_name=True)\n",
    "    elif vgg == 'dropbnv1':\n",
    "        base_model = models.load_model('E:\\\\deeplearning\\\\Hepatocarcinomes\\\\models\\\\5x\\\\test_dataAmount\\\\vgg16_drop_bn_v1.hdf5')\n",
    "        base_model.load_weights('E:\\\\deeplearning\\\\Hepatocarcinomes\\\\models\\\\5x\\\\test_dataAmount_\\\\vgg16_imagenet_weights.hdf5', by_name=True)\n",
    "\n",
    "    return base_model"
   ]
  },
  {
   "cell_type": "code",
   "execution_count": 6,
   "metadata": {},
   "outputs": [],
   "source": [
    "def modelArch(mode='fc'):\n",
    "    if mode == 'fc':\n",
    "        x = base_model.output\n",
    "        x = layers.Flatten()(x)\n",
    "#         x = layers.Dense(4096, use_bias=False, kernel_regularizer=regularizers.l2(0.00001))(x)\n",
    "        x = layers.Dense(4096, use_bias=False)(x)\n",
    "        x = layers.BatchNormalization(name='bn1')(x) #have to set a layer name, otherwise it will lead to a ValueError \n",
    "        x = layers.Activation('relu', name='activation1')(x)\n",
    "        x = layers.Dropout(0.5, seed=1, name='drop1')(x)\n",
    "        x = layers.Dense(512, use_bias=False)(x)\n",
    "        x = layers.BatchNormalization(name='bn2')(x)\n",
    "        x = layers.Activation('relu', name='activation2')(x)\n",
    "        x = layers.Dropout(0.5, seed=1, name='drop2')(x)\n",
    "        predictions = layers.Dense(2, activation = 'softmax')(x)\n",
    "        model = models.Model(input=base_model.input, output=predictions)\n",
    "    elif mode == 'fcl2':\n",
    "        x = base_model.output\n",
    "        x = layers.Flatten()(x)\n",
    "        x = layers.Dense(4096, use_bias=False, kernel_regularizer=regularizers.l2(0.00001))(x)\n",
    "        x = layers.BatchNormalization(name='bn1')(x) #have to set a layer name, otherwise it will lead to a ValueError \n",
    "        x = layers.Activation('relu', name='activation1')(x)\n",
    "        x = layers.Dropout(0.5, seed=1, name='drop1')(x)\n",
    "        x = layers.Dense(512, use_bias=False, kernel_regularizer=regularizers.l2(0.00001))(x)\n",
    "        x = layers.BatchNormalization(name='bn2')(x)\n",
    "        x = layers.Activation('relu', name='activation2')(x)\n",
    "        x = layers.Dropout(0.5, seed=1, name='drop2')(x)\n",
    "        predictions = layers.Dense(2, activation = 'softmax')(x)\n",
    "        model = models.Model(input=base_model.input, output=predictions)\n",
    "    elif mode == 'gap':\n",
    "        x = base_model.output\n",
    "        x = layers.GlobalAveragePooling2D(data_format='channels_last')(x)\n",
    "        predictions = layers.Dense(2, activation = 'softmax')(x)\n",
    "        model = models.Model(input=base_model.input, output=predictions)\n",
    "    return model"
   ]
  },
  {
   "cell_type": "code",
   "execution_count": 7,
   "metadata": {},
   "outputs": [
    {
     "name": "stderr",
     "output_type": "stream",
     "text": [
      "C:\\Program Files\\Anaconda3\\envs\\r-tensorflow\\lib\\site-packages\\keras\\engine\\saving.py:292: UserWarning: No training configuration found in save file: the model was *not* compiled. Compile it manually.\n",
      "  warnings.warn('No training configuration found in save file: '\n",
      "C:\\Program Files\\Anaconda3\\envs\\r-tensorflow\\lib\\site-packages\\ipykernel\\__main__.py:15: UserWarning: Update your `Model` call to the Keras 2 API: `Model(inputs=Tensor(\"in..., outputs=Tensor(\"de...)`\n"
     ]
    }
   ],
   "source": [
    "base_model = vggArch(vgg)\n",
    "model = modelArch(mode)"
   ]
  },
  {
   "cell_type": "code",
   "execution_count": 8,
   "metadata": {},
   "outputs": [
    {
     "name": "stdout",
     "output_type": "stream",
     "text": [
      "_________________________________________________________________\n",
      "Layer (type)                 Output Shape              Param #   \n",
      "=================================================================\n",
      "input_2 (InputLayer)         (None, 64, 64, 3)         0         \n",
      "_________________________________________________________________\n",
      "block1_conv1 (Conv2D)        (None, 64, 64, 64)        1792      \n",
      "_________________________________________________________________\n",
      "activation_14 (Activation)   (None, 64, 64, 64)        0         \n",
      "_________________________________________________________________\n",
      "block1_conv2 (Conv2D)        (None, 64, 64, 64)        36928     \n",
      "_________________________________________________________________\n",
      "activation_15 (Activation)   (None, 64, 64, 64)        0         \n",
      "_________________________________________________________________\n",
      "block1_pool (MaxPooling2D)   (None, 32, 32, 64)        0         \n",
      "_________________________________________________________________\n",
      "batch_normalization_1 (Batch (None, 32, 32, 64)        256       \n",
      "_________________________________________________________________\n",
      "block2_conv1 (Conv2D)        (None, 32, 32, 128)       73856     \n",
      "_________________________________________________________________\n",
      "activation_16 (Activation)   (None, 32, 32, 128)       0         \n",
      "_________________________________________________________________\n",
      "block2_conv2 (Conv2D)        (None, 32, 32, 128)       147584    \n",
      "_________________________________________________________________\n",
      "activation_17 (Activation)   (None, 32, 32, 128)       0         \n",
      "_________________________________________________________________\n",
      "block2_pool (MaxPooling2D)   (None, 16, 16, 128)       0         \n",
      "_________________________________________________________________\n",
      "batch_normalization_2 (Batch (None, 16, 16, 128)       512       \n",
      "_________________________________________________________________\n",
      "block3_conv1 (Conv2D)        (None, 16, 16, 256)       295168    \n",
      "_________________________________________________________________\n",
      "activation_18 (Activation)   (None, 16, 16, 256)       0         \n",
      "_________________________________________________________________\n",
      "block3_conv2 (Conv2D)        (None, 16, 16, 256)       590080    \n",
      "_________________________________________________________________\n",
      "activation_19 (Activation)   (None, 16, 16, 256)       0         \n",
      "_________________________________________________________________\n",
      "block3_conv3 (Conv2D)        (None, 16, 16, 256)       590080    \n",
      "_________________________________________________________________\n",
      "activation_20 (Activation)   (None, 16, 16, 256)       0         \n",
      "_________________________________________________________________\n",
      "block3_pool (MaxPooling2D)   (None, 8, 8, 256)         0         \n",
      "_________________________________________________________________\n",
      "batch_normalization_3 (Batch (None, 8, 8, 256)         1024      \n",
      "_________________________________________________________________\n",
      "block4_conv1 (Conv2D)        (None, 8, 8, 512)         1180160   \n",
      "_________________________________________________________________\n",
      "activation_21 (Activation)   (None, 8, 8, 512)         0         \n",
      "_________________________________________________________________\n",
      "block4_conv2 (Conv2D)        (None, 8, 8, 512)         2359808   \n",
      "_________________________________________________________________\n",
      "activation_22 (Activation)   (None, 8, 8, 512)         0         \n",
      "_________________________________________________________________\n",
      "block4_conv3 (Conv2D)        (None, 8, 8, 512)         2359808   \n",
      "_________________________________________________________________\n",
      "activation_23 (Activation)   (None, 8, 8, 512)         0         \n",
      "_________________________________________________________________\n",
      "block4_pool (MaxPooling2D)   (None, 4, 4, 512)         0         \n",
      "_________________________________________________________________\n",
      "batch_normalization_4 (Batch (None, 4, 4, 512)         2048      \n",
      "_________________________________________________________________\n",
      "block5_conv1 (Conv2D)        (None, 4, 4, 512)         2359808   \n",
      "_________________________________________________________________\n",
      "activation_24 (Activation)   (None, 4, 4, 512)         0         \n",
      "_________________________________________________________________\n",
      "block5_conv2 (Conv2D)        (None, 4, 4, 512)         2359808   \n",
      "_________________________________________________________________\n",
      "activation_25 (Activation)   (None, 4, 4, 512)         0         \n",
      "_________________________________________________________________\n",
      "block5_conv3 (Conv2D)        (None, 4, 4, 512)         2359808   \n",
      "_________________________________________________________________\n",
      "activation_26 (Activation)   (None, 4, 4, 512)         0         \n",
      "_________________________________________________________________\n",
      "block5_pool (MaxPooling2D)   (None, 2, 2, 512)         0         \n",
      "_________________________________________________________________\n",
      "flatten_1 (Flatten)          (None, 2048)              0         \n",
      "_________________________________________________________________\n",
      "dense_1 (Dense)              (None, 4096)              8388608   \n",
      "_________________________________________________________________\n",
      "bn1 (BatchNormalization)     (None, 4096)              16384     \n",
      "_________________________________________________________________\n",
      "activation1 (Activation)     (None, 4096)              0         \n",
      "_________________________________________________________________\n",
      "drop1 (Dropout)              (None, 4096)              0         \n",
      "_________________________________________________________________\n",
      "dense_2 (Dense)              (None, 512)               2097152   \n",
      "_________________________________________________________________\n",
      "bn2 (BatchNormalization)     (None, 512)               2048      \n",
      "_________________________________________________________________\n",
      "activation2 (Activation)     (None, 512)               0         \n",
      "_________________________________________________________________\n",
      "drop2 (Dropout)              (None, 512)               0         \n",
      "_________________________________________________________________\n",
      "dense_3 (Dense)              (None, 2)                 1026      \n",
      "=================================================================\n",
      "Total params: 25,223,746\n",
      "Trainable params: 25,212,610\n",
      "Non-trainable params: 11,136\n",
      "_________________________________________________________________\n"
     ]
    }
   ],
   "source": [
    "model.summary()"
   ]
  },
  {
   "cell_type": "code",
   "execution_count": 82,
   "metadata": {},
   "outputs": [],
   "source": [
    "def modelCompile(Opt='sgd'):\n",
    "    if Opt == 'sgd':\n",
    "        model.compile(optimizer = SGD(lr = LearningRate, decay=0.001, momentum=0.9), loss = 'categorical_crossentropy', metrics = ['accuracy']) #lr=0.001\n",
    "    elif Opt == 'adam':\n",
    "        model.compile(optimizer = Adam(lr = LearningRate), loss = 'categorical_crossentropy', metrics = ['accuracy'])"
   ]
  },
  {
   "cell_type": "code",
   "execution_count": 83,
   "metadata": {},
   "outputs": [],
   "source": [
    "modelCompile(Optimizer)"
   ]
  },
  {
   "cell_type": "code",
   "execution_count": 84,
   "metadata": {},
   "outputs": [],
   "source": [
    "# model.compile(optimizer = Adam(lr = 1e-3), loss = 'categorical_crossentropy', metrics = ['accuracy'])"
   ]
  },
  {
   "cell_type": "code",
   "execution_count": 85,
   "metadata": {},
   "outputs": [
    {
     "name": "stdout",
     "output_type": "stream",
     "text": [
      "Train on 40000 samples, validate on 10000 samples\n",
      "Epoch 1/100\n",
      "40000/40000 [==============================] - 63s 2ms/step - loss: 0.6479 - acc: 0.6924 - val_loss: 6.1319 - val_acc: 0.5000\n",
      "Epoch 2/100\n",
      "40000/40000 [==============================] - 55s 1ms/step - loss: 0.4509 - acc: 0.8047 - val_loss: 0.4531 - val_acc: 0.8040\n",
      "Epoch 3/100\n",
      "40000/40000 [==============================] - 55s 1ms/step - loss: 0.3905 - acc: 0.8377 - val_loss: 0.8609 - val_acc: 0.6241\n",
      "Epoch 4/100\n",
      "40000/40000 [==============================] - 55s 1ms/step - loss: 0.3529 - acc: 0.8542 - val_loss: 0.5304 - val_acc: 0.7677\n",
      "Epoch 5/100\n",
      "40000/40000 [==============================] - 56s 1ms/step - loss: 0.3301 - acc: 0.8634 - val_loss: 0.4298 - val_acc: 0.8099\n",
      "Epoch 6/100\n",
      "40000/40000 [==============================] - 56s 1ms/step - loss: 0.3136 - acc: 0.8721 - val_loss: 0.3157 - val_acc: 0.8691\n",
      "Epoch 7/100\n",
      "40000/40000 [==============================] - 56s 1ms/step - loss: 0.2945 - acc: 0.8824 - val_loss: 0.3670 - val_acc: 0.8622\n",
      "Epoch 8/100\n",
      "40000/40000 [==============================] - 58s 1ms/step - loss: 0.2761 - acc: 0.8902 - val_loss: 0.2925 - val_acc: 0.8807\n",
      "Epoch 9/100\n",
      "40000/40000 [==============================] - 57s 1ms/step - loss: 0.2615 - acc: 0.8973 - val_loss: 0.3110 - val_acc: 0.8717\n",
      "Epoch 10/100\n",
      "40000/40000 [==============================] - 56s 1ms/step - loss: 0.2391 - acc: 0.9062 - val_loss: 0.2905 - val_acc: 0.8837\n",
      "Epoch 11/100\n",
      "40000/40000 [==============================] - 56s 1ms/step - loss: 0.2219 - acc: 0.9145 - val_loss: 0.3031 - val_acc: 0.8862\n",
      "Epoch 12/100\n",
      "40000/40000 [==============================] - 56s 1ms/step - loss: 0.1979 - acc: 0.9259 - val_loss: 0.6244 - val_acc: 0.7493\n",
      "Epoch 13/100\n",
      "40000/40000 [==============================] - 56s 1ms/step - loss: 0.1823 - acc: 0.9325 - val_loss: 0.3735 - val_acc: 0.8489\n",
      "Epoch 14/100\n",
      "40000/40000 [==============================] - 56s 1ms/step - loss: 0.1580 - acc: 0.9410 - val_loss: 0.4357 - val_acc: 0.8672\n",
      "Epoch 15/100\n",
      "40000/40000 [==============================] - 56s 1ms/step - loss: 0.1341 - acc: 0.9506 - val_loss: 0.3488 - val_acc: 0.8684\n",
      "\n",
      "Epoch 00015: ReduceLROnPlateau reducing learning rate to 0.00010000000474974513.\n",
      "Epoch 16/100\n",
      "40000/40000 [==============================] - 56s 1ms/step - loss: 0.0623 - acc: 0.9809 - val_loss: 0.3527 - val_acc: 0.8888\n",
      "Epoch 17/100\n",
      "40000/40000 [==============================] - 56s 1ms/step - loss: 0.0373 - acc: 0.9896 - val_loss: 0.4125 - val_acc: 0.8846\n",
      "Epoch 18/100\n",
      "40000/40000 [==============================] - 56s 1ms/step - loss: 0.0278 - acc: 0.9924 - val_loss: 0.5052 - val_acc: 0.8703\n",
      "Epoch 19/100\n",
      "40000/40000 [==============================] - 56s 1ms/step - loss: 0.0199 - acc: 0.9951 - val_loss: 0.5148 - val_acc: 0.8718\n",
      "Epoch 20/100\n",
      "40000/40000 [==============================] - 56s 1ms/step - loss: 0.0159 - acc: 0.9964 - val_loss: 0.5436 - val_acc: 0.8792\n",
      "Epoch 21/100\n",
      "40000/40000 [==============================] - 56s 1ms/step - loss: 0.0129 - acc: 0.9967 - val_loss: 0.5335 - val_acc: 0.8821\n",
      "Epoch 22/100\n",
      "40000/40000 [==============================] - 56s 1ms/step - loss: 0.0092 - acc: 0.9978 - val_loss: 0.7092 - val_acc: 0.8575\n",
      "\n",
      "Epoch 00022: ReduceLROnPlateau reducing learning rate to 1.0000000474974514e-05.\n",
      "Epoch 23/100\n",
      "40000/40000 [==============================] - 56s 1ms/step - loss: 0.0057 - acc: 0.9990 - val_loss: 0.5705 - val_acc: 0.8812\n",
      "Restoring model weights from the end of the best epoch\n",
      "Epoch 00023: early stopping\n"
     ]
    }
   ],
   "source": [
    "csv_logger = CSVLogger(path1+'\\\\1_'+vgg+'_'+mode+'_'+Optimizer+'_'+str(batch_size)+'_'+str(int(math.log(LearningRate,0.1)))+'_training.csv', append=True)\n",
    "# model_checkpoint = ModelCheckpoint(path1+'\\\\1_'+vgg+'_'+mode+'_'+Optimizer+'_'+str(batch_size)+'_'+str(int(math.log(LearningRate,0.1)))+'_weights.{epoch:02d}-{val_acc:.4f}.hdf5', verbose=1, save_best_only=True, save_weights_only=True)\n",
    "early_stop = EarlyStopping(patience=13, verbose=1, restore_best_weights=True)\n",
    "reduce_lr = ReduceLROnPlateau(factor=0.1, min_delta=0.005, patience=7, verbose=1)\n",
    "results = model.fit(img_train, y_train, batch_size, epochs=100, verbose=1, callbacks=[csv_logger, early_stop, reduce_lr], validation_data=(img_val, y_val))\n",
    "csv_logger.csv_file.close()"
   ]
  },
  {
   "cell_type": "code",
   "execution_count": 86,
   "metadata": {},
   "outputs": [
    {
     "data": {
      "image/png": "[encoded data removed]",
      "text/plain": [
       "<Figure size 720x720 with 2 Axes>"
      ]
     },
     "metadata": {
      "needs_background": "light"
     },
     "output_type": "display_data"
    }
   ],
   "source": [
    "#plot training results\n",
    "acc=results.history['acc']\n",
    "val_acc=results.history['val_acc']\n",
    "loss=results.history['loss']\n",
    "val_loss=results.history['val_loss']\n",
    "\n",
    "plt.figure(figsize=(10,10))\n",
    "plt.subplot(2,1,1)\n",
    "plt.ylabel('accuracy')\n",
    "# plt.ylim((0, 5))\n",
    "\n",
    "epochs=range(1, len(acc)+1)\n",
    "plt.plot(epochs,acc,'b--',label='acc')\n",
    "plt.plot(epochs, val_acc,'g',label='val_acc')\n",
    "index0=np.where(val_acc==np.amax(val_acc))[0]\n",
    "if(len(index0)>3):\n",
    "    for i in range(2):\n",
    "        plt.text(epochs[int(i)], val_acc[int(i)], str((epochs[int(i)], val_acc[int(i)])),color='g')\n",
    "else:\n",
    "    for i in index0:\n",
    "        plt.text(epochs[int(i)], val_acc[int(i)], str((epochs[int(i)], val_acc[int(i)])),color='g')\n",
    "    \n",
    "plt.title('Training and validation preformance')\n",
    "plt.legend()\n",
    "\n",
    "plt.subplot(2,1,2)\n",
    "plt.xlabel('epochs')\n",
    "plt.ylabel('loss')\n",
    "# plt.ylim((0, 5))\n",
    "\n",
    "epochs=range(1, len(loss)+1)\n",
    "plt.plot(epochs,loss,'b--',label='loss')\n",
    "plt.plot(epochs, val_loss,'g',label='val_loss')\n",
    "if(len(index0)>3):\n",
    "    for i in range(2):\n",
    "        plt.text(epochs[int(i)], val_loss[int(i)], str((epochs[int(i)], val_loss[int(i)])),color='g')\n",
    "else:\n",
    "    for i in index0:\n",
    "        plt.text(epochs[int(i)], val_loss[int(i)], str((epochs[int(i)], round(val_loss[int(i)],5))),color='g')\n",
    "    \n",
    "plt.legend()\n",
    "plt.savefig(path1+'\\\\1_'+vgg+'_'+mode+'_'+Optimizer+'_'+str(batch_size)+'_lr'+str(int(math.log(LearningRate,0.1)))+'_training_validation_performance.png')\n",
    "plt.show()"
   ]
  },
  {
   "cell_type": "code",
   "execution_count": 87,
   "metadata": {},
   "outputs": [],
   "source": [
    "model.save(path1 +'\\\\1_'+vgg+'_'+mode+'_'+Optimizer+'_'+str(batch_size)+'_lr'+str(int(math.log(LearningRate,0.1)))+'_best_model.hdf5')"
   ]
  },
  {
   "cell_type": "code",
   "execution_count": 88,
   "metadata": {},
   "outputs": [],
   "source": [
    "del(base_model)\n",
    "del(model)"
   ]
  },
  {
   "cell_type": "markdown",
   "metadata": {},
   "source": [
    "####best parameters:\n",
    "50k: batch_size=128, optimizer=Adam (lr=3)\n"
   ]
  },
  {
   "cell_type": "code",
   "execution_count": null,
   "metadata": {},
   "outputs": [],
   "source": []
  },
  {
   "cell_type": "code",
   "execution_count": null,
   "metadata": {},
   "outputs": [],
   "source": []
  }
 ],
 "metadata": {
  "anaconda-cloud": {},
  "kernelspec": {
   "display_name": "Python [conda env:r-tensorflow]",
   "language": "python",
   "name": "conda-env-r-tensorflow-py"
  },
  "language_info": {
   "codemirror_mode": {
    "name": "ipython",
    "version": 3
   },
   "file_extension": ".py",
   "mimetype": "text/x-python",
   "name": "python",
   "nbconvert_exporter": "python",
   "pygments_lexer": "ipython3",
   "version": "3.6.8"
  }
 },
 "nbformat": 4,
 "nbformat_minor": 2
}
