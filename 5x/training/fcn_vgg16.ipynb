{
 "cells": [
  {
   "cell_type": "markdown",
   "metadata": {},
   "source": [
    "## Train a FCN-VGG16"
   ]
  },
  {
   "cell_type": "markdown",
   "metadata": {},
   "source": [
    "#### To train a Fully Convolutional Network based on Hamamatsu HCC VGG16 model. \n",
    "#### RGB image.\n",
    "#### Very important to enable Transfer Learning."
   ]
  },
  {
   "cell_type": "markdown",
   "metadata": {},
   "source": [
    "2 classes: binary_crossentropy, sigmoid, mask(0, 255), flag_multi_class=False (chosen)\n",
    "\n",
    "multi classes (2 included) : catocaries_crossentropy, softmax, mask(0, 1, 2, ...), flag_multi_class=True"
   ]
  },
  {
   "cell_type": "code",
   "execution_count": 1,
   "metadata": {},
   "outputs": [
    {
     "name": "stderr",
     "output_type": "stream",
     "text": [
      "Using TensorFlow backend.\n"
     ]
    }
   ],
   "source": [
    "from keras.models import load_model, Model\n",
    "from keras import layers\n",
    "from keras.regularizers import l2\n",
    "from keras.optimizers import Adam\n",
    "from keras.callbacks import CSVLogger, ModelCheckpoint, EarlyStopping, ReduceLROnPlateau\n",
    "from keras.preprocessing.image import ImageDataGenerator\n",
    "import numpy as np\n",
    "import matplotlib.pyplot as plt"
   ]
  },
  {
   "cell_type": "code",
   "execution_count": 2,
   "metadata": {},
   "outputs": [],
   "source": [
    "model = load_model('E:\\\\deeplearning\\\\Hepatocarcinomes\\\\models\\\\5x\\\\vgg16_dense_bn\\\\best_model', compile = True)\n",
    "\n",
    "weight_decay = 0.001\n",
    "classes = 2\n",
    "\n",
    "pool5 = model.get_layer(\"block5_pool\").output\n",
    "x = layers.Conv2D(4096, (1, 1), activation='relu', padding='valid', use_bias=False, name='dense_1', kernel_regularizer=l2(weight_decay))(pool5)\n",
    "x = layers.BatchNormalization()(x)\n",
    "x = layers.Activation('relu')(x)\n",
    "x = layers.Dropout(0.5)(x)\n",
    "x = layers.Conv2D(512, (1, 1), activation='relu', padding='valid', name='dense_2', kernel_regularizer=l2(weight_decay))(x)\n",
    "x = layers.BatchNormalization()(x)\n",
    "x = layers.Activation('relu')(x)\n",
    "x = layers.Dropout(0.5)(x)\n",
    "x = layers.Conv2D(classes, (1, 1), kernel_initializer='he_normal', activation='relu', padding='valid', strides=(1, 1), kernel_regularizer=l2(weight_decay))(x)\n",
    "s32 = layers.UpSampling2D(size=(2,2),interpolation='bilinear')(x)\n",
    "\n",
    "pool4 = model.get_layer(\"block4_pool\").output\n",
    "pool4 = layers.Conv2D(classes, (1, 1), kernel_initializer='he_normal', activation='relu', padding='valid', strides=(1, 1), kernel_regularizer=l2(weight_decay))(pool4)\n",
    "s16 = layers.Add()([s32 , pool4])\n",
    "s16 = layers.UpSampling2D(size=(2,2),interpolation='bilinear')(s16)\n",
    "\n",
    "pool3 = model.get_layer(\"block3_pool\").output\n",
    "pool3 = layers.Conv2D(classes, (1, 1), kernel_initializer='he_normal', activation='relu', padding='valid', strides=(1, 1), kernel_regularizer=l2(weight_decay))(pool3)\n",
    "s8 = layers.Add()([s16 , pool3])\n",
    "s16 = layers.UpSampling2D(size=(8,8),interpolation='bilinear')(s8)\n",
    "\n",
    "o_shape = Model(model.input, s16).output_shape\n",
    "outputHeight = o_shape[1]\n",
    "outputWidth = o_shape[2]\n",
    "\n",
    "o = layers.Reshape((outputHeight*outputWidth, -1))(s16)\n",
    "# o = layers.Reshape((-1, outputHeight*outputWidth))(s16)\n",
    "# o = layers.Permute((2, 1))(o)\n",
    "o = layers.Activation('softmax')(o)\n",
    "model = Model(model.input, o)\n",
    "# model.outputWidth = outputWidth\n",
    "# model.outputHeight = outputHeight\n",
    "\n",
    "# model_fcn = Model(inputs=model.input, outputs=s8)"
   ]
  },
  {
   "cell_type": "code",
   "execution_count": 3,
   "metadata": {},
   "outputs": [],
   "source": [
    "# for layer in model.layers[0:19]:\n",
    "#     layer.trainable = False\n",
    "\n",
    "# for layer in model.layers:\n",
    "#     print(layer, layer.trainable)"
   ]
  },
  {
   "cell_type": "code",
   "execution_count": 4,
   "metadata": {},
   "outputs": [],
   "source": [
    "model.compile(optimizer = Adam(lr = 1e-3), loss = 'categorical_crossentropy', metrics = ['accuracy'])"
   ]
  },
  {
   "cell_type": "code",
   "execution_count": 5,
   "metadata": {},
   "outputs": [
    {
     "name": "stdout",
     "output_type": "stream",
     "text": [
      "__________________________________________________________________________________________________\n",
      "Layer (type)                    Output Shape         Param #     Connected to                     \n",
      "==================================================================================================\n",
      "input_1 (InputLayer)            (None, 64, 64, 3)    0                                            \n",
      "__________________________________________________________________________________________________\n",
      "block1_conv1 (Conv2D)           (None, 64, 64, 64)   1792        input_1[0][0]                    \n",
      "__________________________________________________________________________________________________\n",
      "block1_conv2 (Conv2D)           (None, 64, 64, 64)   36928       block1_conv1[0][0]               \n",
      "__________________________________________________________________________________________________\n",
      "block1_pool (MaxPooling2D)      (None, 32, 32, 64)   0           block1_conv2[0][0]               \n",
      "__________________________________________________________________________________________________\n",
      "block2_conv1 (Conv2D)           (None, 32, 32, 128)  73856       block1_pool[0][0]                \n",
      "__________________________________________________________________________________________________\n",
      "block2_conv2 (Conv2D)           (None, 32, 32, 128)  147584      block2_conv1[0][0]               \n",
      "__________________________________________________________________________________________________\n",
      "block2_pool (MaxPooling2D)      (None, 16, 16, 128)  0           block2_conv2[0][0]               \n",
      "__________________________________________________________________________________________________\n",
      "block3_conv1 (Conv2D)           (None, 16, 16, 256)  295168      block2_pool[0][0]                \n",
      "__________________________________________________________________________________________________\n",
      "block3_conv2 (Conv2D)           (None, 16, 16, 256)  590080      block3_conv1[0][0]               \n",
      "__________________________________________________________________________________________________\n",
      "block3_conv3 (Conv2D)           (None, 16, 16, 256)  590080      block3_conv2[0][0]               \n",
      "__________________________________________________________________________________________________\n",
      "block3_pool (MaxPooling2D)      (None, 8, 8, 256)    0           block3_conv3[0][0]               \n",
      "__________________________________________________________________________________________________\n",
      "block4_conv1 (Conv2D)           (None, 8, 8, 512)    1180160     block3_pool[0][0]                \n",
      "__________________________________________________________________________________________________\n",
      "block4_conv2 (Conv2D)           (None, 8, 8, 512)    2359808     block4_conv1[0][0]               \n",
      "__________________________________________________________________________________________________\n",
      "block4_conv3 (Conv2D)           (None, 8, 8, 512)    2359808     block4_conv2[0][0]               \n",
      "__________________________________________________________________________________________________\n",
      "block4_pool (MaxPooling2D)      (None, 4, 4, 512)    0           block4_conv3[0][0]               \n",
      "__________________________________________________________________________________________________\n",
      "block5_conv1 (Conv2D)           (None, 4, 4, 512)    2359808     block4_pool[0][0]                \n",
      "__________________________________________________________________________________________________\n",
      "block5_conv2 (Conv2D)           (None, 4, 4, 512)    2359808     block5_conv1[0][0]               \n",
      "__________________________________________________________________________________________________\n",
      "block5_conv3 (Conv2D)           (None, 4, 4, 512)    2359808     block5_conv2[0][0]               \n",
      "__________________________________________________________________________________________________\n",
      "block5_pool (MaxPooling2D)      (None, 2, 2, 512)    0           block5_conv3[0][0]               \n",
      "__________________________________________________________________________________________________\n",
      "dense_1 (Conv2D)                (None, 2, 2, 4096)   2097152     block5_pool[0][0]                \n",
      "__________________________________________________________________________________________________\n",
      "batch_normalization_1 (BatchNor (None, 2, 2, 4096)   16384       dense_1[0][0]                    \n",
      "__________________________________________________________________________________________________\n",
      "activation_1 (Activation)       (None, 2, 2, 4096)   0           batch_normalization_1[0][0]      \n",
      "__________________________________________________________________________________________________\n",
      "dropout_1 (Dropout)             (None, 2, 2, 4096)   0           activation_1[0][0]               \n",
      "__________________________________________________________________________________________________\n",
      "dense_2 (Conv2D)                (None, 2, 2, 512)    2097664     dropout_1[0][0]                  \n",
      "__________________________________________________________________________________________________\n",
      "batch_normalization_2 (BatchNor (None, 2, 2, 512)    2048        dense_2[0][0]                    \n",
      "__________________________________________________________________________________________________\n",
      "activation_2 (Activation)       (None, 2, 2, 512)    0           batch_normalization_2[0][0]      \n",
      "__________________________________________________________________________________________________\n",
      "dropout_2 (Dropout)             (None, 2, 2, 512)    0           activation_2[0][0]               \n",
      "__________________________________________________________________________________________________\n",
      "conv2d_1 (Conv2D)               (None, 2, 2, 2)      1026        dropout_2[0][0]                  \n",
      "__________________________________________________________________________________________________\n",
      "up_sampling2d_1 (UpSampling2D)  (None, 4, 4, 2)      0           conv2d_1[0][0]                   \n",
      "__________________________________________________________________________________________________\n",
      "conv2d_2 (Conv2D)               (None, 4, 4, 2)      1026        block4_pool[0][0]                \n",
      "__________________________________________________________________________________________________\n",
      "add_1 (Add)                     (None, 4, 4, 2)      0           up_sampling2d_1[0][0]            \n",
      "                                                                 conv2d_2[0][0]                   \n",
      "__________________________________________________________________________________________________\n",
      "up_sampling2d_2 (UpSampling2D)  (None, 8, 8, 2)      0           add_1[0][0]                      \n",
      "__________________________________________________________________________________________________\n",
      "conv2d_3 (Conv2D)               (None, 8, 8, 2)      514         block3_pool[0][0]                \n",
      "__________________________________________________________________________________________________\n",
      "add_2 (Add)                     (None, 8, 8, 2)      0           up_sampling2d_2[0][0]            \n",
      "                                                                 conv2d_3[0][0]                   \n",
      "__________________________________________________________________________________________________\n",
      "up_sampling2d_3 (UpSampling2D)  (None, 64, 64, 2)    0           add_2[0][0]                      \n",
      "__________________________________________________________________________________________________\n",
      "reshape_1 (Reshape)             (None, 4096, 2)      0           up_sampling2d_3[0][0]            \n",
      "__________________________________________________________________________________________________\n",
      "activation_3 (Activation)       (None, 4096, 2)      0           reshape_1[0][0]                  \n",
      "==================================================================================================\n",
      "Total params: 18,930,502\n",
      "Trainable params: 18,921,286\n",
      "Non-trainable params: 9,216\n",
      "__________________________________________________________________________________________________\n"
     ]
    }
   ],
   "source": [
    "model.summary()"
   ]
  },
  {
   "cell_type": "code",
   "execution_count": 6,
   "metadata": {},
   "outputs": [],
   "source": [
    "def adjustData(img,mask,flag_multi_class,num_class):\n",
    "    if(flag_multi_class):\n",
    "        img = img / 255\n",
    "        mask = mask[:,:,:,0] if(len(mask.shape) == 4) else mask[:,:,0]\n",
    "        new_mask = np.zeros(mask.shape + (num_class,))\n",
    "        for i in range(num_class):\n",
    "#             for one pixel in the image, find the class in mask and convert it into one-hot vector\n",
    "#             for mask: 1 means the first class, 2 means the second\n",
    "            index = np.where(mask == i)\n",
    "            index_mask = (index[0],index[1],index[2],np.zeros(len(index[0]),dtype = np.int64) + i) if (len(mask.shape) == 4) else (index[0],index[1],np.zeros(len(index[0]),dtype = np.int64) + i)\n",
    "            new_mask[index_mask] = 1\n",
    "            new_mask[mask == i,i] = 1\n",
    "        new_mask = np.reshape(new_mask,(new_mask.shape[0],new_mask.shape[1]*new_mask.shape[2],new_mask.shape[3])) if flag_multi_class else np.reshape(new_mask,(new_mask.shape[0]*new_mask.shape[1],new_mask.shape[2]))\n",
    "        mask = new_mask\n",
    "    elif(np.max(img) > 1):\n",
    "        img = img / 255\n",
    "        mask = mask /255\n",
    "#         mask[mask > 0.5] = 1\n",
    "#         mask[mask <= 0.5] = 0\n",
    "    return (img,mask)"
   ]
  },
  {
   "cell_type": "code",
   "execution_count": 7,
   "metadata": {},
   "outputs": [],
   "source": [
    "def trainGenerator(batch_size,train_path,image_folder,mask_folder,aug_dict,image_color_mode = \"grayscale\",\n",
    "                    mask_color_mode = \"grayscale\",image_save_prefix  = \"image\",mask_save_prefix  = \"mask\",\n",
    "                    flag_multi_class = False,num_class = 2,save_to_dir = None,target_size = (256,256),seed = 1):\n",
    "    '''\n",
    "    can generate image and mask at the same time\n",
    "    use the same seed for image_datagen and mask_datagen to ensure the transformation for image and mask is the same\n",
    "    if you want to visualize the results of generator, set save_to_dir = \"your path\"\n",
    "    '''\n",
    "    image_datagen = ImageDataGenerator(**aug_dict)\n",
    "    mask_datagen = ImageDataGenerator(**aug_dict)\n",
    "    image_generator = image_datagen.flow_from_directory(\n",
    "        train_path,\n",
    "        classes = [image_folder],\n",
    "        class_mode = None,\n",
    "        color_mode = image_color_mode,\n",
    "        target_size = target_size,\n",
    "        batch_size = batch_size,\n",
    "        save_to_dir = save_to_dir,\n",
    "        save_prefix  = image_save_prefix,\n",
    "        seed = seed)\n",
    "    mask_generator = mask_datagen.flow_from_directory(\n",
    "        train_path,\n",
    "        classes = [mask_folder],\n",
    "        class_mode = None,\n",
    "        color_mode = mask_color_mode,\n",
    "        target_size = target_size,\n",
    "        batch_size = batch_size,\n",
    "        save_to_dir = save_to_dir,\n",
    "        save_prefix  = mask_save_prefix,\n",
    "        seed = seed)\n",
    "    train_generator = zip(image_generator, mask_generator)\n",
    "    for (img,mask) in train_generator:\n",
    "        img,mask = adjustData(img,mask,flag_multi_class,num_class)\n",
    "        yield (img,mask)"
   ]
  },
  {
   "cell_type": "code",
   "execution_count": 8,
   "metadata": {},
   "outputs": [
    {
     "name": "stdout",
     "output_type": "stream",
     "text": [
      "Epoch 1/100\n",
      "Found 1100 images belonging to 1 classes."
     ]
    },
    {
     "name": "stderr",
     "output_type": "stream",
     "text": [
      "C:\\Program Files\\Anaconda3\\envs\\r-tensorflow\\lib\\site-packages\\keras_preprocessing\\image\\image_data_generator.py:346: UserWarning: This ImageDataGenerator specifies `featurewise_std_normalization`, which overrides setting of `featurewise_center`.\n",
      "  warnings.warn('This ImageDataGenerator specifies '\n"
     ]
    },
    {
     "name": "stdout",
     "output_type": "stream",
     "text": [
      "\n",
      "Found 5500 images belonging to 1 classes.\n"
     ]
    },
    {
     "name": "stderr",
     "output_type": "stream",
     "text": [
      "C:\\Program Files\\Anaconda3\\envs\\r-tensorflow\\lib\\site-packages\\keras_preprocessing\\image\\utils.py:156: UserWarning: Using \".tiff\" files with multiple bands will cause distortion. Please verify your output.\n",
      "  warnings.warn('Using \".tiff\" files with multiple bands '\n"
     ]
    },
    {
     "name": "stdout",
     "output_type": "stream",
     "text": [
      "Found 1100 images belonging to 1 classes.\n",
      "Found 5500 images belonging to 1 classes.\n"
     ]
    },
    {
     "name": "stderr",
     "output_type": "stream",
     "text": [
      "C:\\Program Files\\Anaconda3\\envs\\r-tensorflow\\lib\\site-packages\\keras_preprocessing\\image\\image_data_generator.py:699: UserWarning: This ImageDataGenerator specifies `featurewise_center`, but it hasn't been fit on any training data. Fit it first by calling `.fit(numpy_data)`.\n",
      "  warnings.warn('This ImageDataGenerator specifies '\n",
      "C:\\Program Files\\Anaconda3\\envs\\r-tensorflow\\lib\\site-packages\\keras_preprocessing\\image\\image_data_generator.py:707: UserWarning: This ImageDataGenerator specifies `featurewise_std_normalization`, but it hasn't been fit on any training data. Fit it first by calling `.fit(numpy_data)`.\n",
      "  warnings.warn('This ImageDataGenerator specifies '\n"
     ]
    },
    {
     "name": "stdout",
     "output_type": "stream",
     "text": [
      "343/343 [==============================] - 230s 670ms/step - loss: 1.3728 - acc: 0.6104 - val_loss: 2.6437 - val_acc: 0.5206\n",
      "Epoch 2/100\n",
      "343/343 [==============================] - 86s 251ms/step - loss: 0.7583 - acc: 0.7523 - val_loss: 4.2801 - val_acc: 0.4795\n",
      "Epoch 3/100\n",
      "343/343 [==============================] - 81s 237ms/step - loss: 0.5971 - acc: 0.7960 - val_loss: 0.6443 - val_acc: 0.7469\n",
      "Epoch 4/100\n",
      "343/343 [==============================] - 82s 238ms/step - loss: 0.5175 - acc: 0.8233 - val_loss: 0.6107 - val_acc: 0.7532\n",
      "Epoch 5/100\n",
      "343/343 [==============================] - 86s 250ms/step - loss: 0.4314 - acc: 0.8638 - val_loss: 0.6412 - val_acc: 0.7336\n",
      "\n",
      "Epoch 00005: val_loss improved from inf to 0.64118, saving model to E:\\deeplearning\\Hepatocarcinomes\\models\\5x\\fcn_vgg16\\dense_lr3_64_ReLu_acc_weights.05-0.7336.hdf5\n",
      "Epoch 6/100\n",
      "343/343 [==============================] - 88s 257ms/step - loss: 0.3499 - acc: 0.9027 - val_loss: 0.5241 - val_acc: 0.8020\n",
      "Epoch 7/100\n",
      "343/343 [==============================] - 86s 250ms/step - loss: 0.2861 - acc: 0.9277 - val_loss: 0.8030 - val_acc: 0.6972\n",
      "Epoch 8/100\n",
      "343/343 [==============================] - 83s 241ms/step - loss: 0.2412 - acc: 0.9455 - val_loss: 0.6647 - val_acc: 0.7586\n",
      "Epoch 9/100\n",
      "343/343 [==============================] - 81s 237ms/step - loss: 0.2159 - acc: 0.9526 - val_loss: 0.5987 - val_acc: 0.7454\n",
      "Epoch 10/100\n",
      "343/343 [==============================] - 86s 250ms/step - loss: 0.2122 - acc: 0.9528 - val_loss: 8.6628 - val_acc: 0.4825\n",
      "\n",
      "Epoch 00010: val_loss did not improve from 0.64118\n",
      "Epoch 11/100\n",
      "343/343 [==============================] - 87s 255ms/step - loss: 0.1920 - acc: 0.9599 - val_loss: 2.0400 - val_acc: 0.5741\n",
      "Epoch 12/100\n",
      "343/343 [==============================] - 87s 253ms/step - loss: 0.7386 - acc: 0.5645 - val_loss: 0.7641 - val_acc: 0.5167\n",
      "Epoch 13/100\n",
      "343/343 [==============================] - 81s 237ms/step - loss: 0.6555 - acc: 0.7339 - val_loss: 0.6082 - val_acc: 0.7889\n",
      "Epoch 14/100\n",
      "343/343 [==============================] - 81s 235ms/step - loss: 0.4665 - acc: 0.8625 - val_loss: 1.3707 - val_acc: 0.5233\n",
      "Epoch 15/100\n",
      "343/343 [==============================] - 86s 250ms/step - loss: 0.2578 - acc: 0.9501 - val_loss: 1.2195 - val_acc: 0.6172\n",
      "\n",
      "Epoch 00015: val_loss did not improve from 0.64118\n",
      "\n",
      "Epoch 00015: ReduceLROnPlateau reducing learning rate to 0.00020000000949949026.\n",
      "Epoch 16/100\n",
      "343/343 [==============================] - 87s 253ms/step - loss: 0.4626 - acc: 0.8195 - val_loss: 0.6027 - val_acc: 0.7948\n",
      "Epoch 17/100\n",
      "343/343 [==============================] - 88s 256ms/step - loss: 0.1861 - acc: 0.9680 - val_loss: 0.7062 - val_acc: 0.7743\n",
      "Epoch 18/100\n",
      "343/343 [==============================] - 82s 240ms/step - loss: 0.1658 - acc: 0.9689 - val_loss: 0.8744 - val_acc: 0.7887\n",
      "Epoch 19/100\n",
      "343/343 [==============================] - 82s 239ms/step - loss: 0.1564 - acc: 0.9689 - val_loss: 0.9732 - val_acc: 0.7929\n",
      "Epoch 20/100\n",
      "343/343 [==============================] - 83s 243ms/step - loss: 0.1509 - acc: 0.9685 - val_loss: 0.9297 - val_acc: 0.7689\n",
      "\n",
      "Epoch 00020: val_loss did not improve from 0.64118\n",
      "Epoch 21/100\n",
      "343/343 [==============================] - 86s 251ms/step - loss: 0.3972 - acc: 0.8412 - val_loss: 0.7198 - val_acc: 0.7115\n",
      "Restoring model weights from the end of the best epoch\n",
      "Epoch 00021: early stopping\n"
     ]
    }
   ],
   "source": [
    "data_gen_args = dict(featurewise_std_normalization=True)\n",
    "\n",
    "train_generator = trainGenerator(batch_size=64, train_path='E:\\\\deeplearning\\\\Hepatocarcinomes\\\\data\\\\5x\\\\training\\\\split64_image', image_folder='image_unet_train', mask_folder='mask_fcn_train', target_size = (64,64), image_color_mode = \"rgb\", aug_dict=data_gen_args, seed = 1, flag_multi_class=True)\n",
    "validation_generator = trainGenerator(batch_size=64, train_path='E:\\\\deeplearning\\\\Hepatocarcinomes\\\\data\\\\5x\\\\training\\\\split64_image', image_folder='image_unet_val', mask_folder='mask_fcn_val', target_size = (64,64), aug_dict=data_gen_args, image_color_mode = \"rgb\", seed = 1, flag_multi_class=True)\n",
    "\n",
    "csv_logger = CSVLogger('E:\\\\deeplearning\\\\Hepatocarcinomes\\\\models\\\\5x\\\\fcn_vgg16\\\\dense_lr3_64_ReLu_acc_training.csv', append=True)\n",
    "model_checkpoint = ModelCheckpoint('E:\\\\deeplearning\\\\Hepatocarcinomes\\\\models\\\\5x\\\\fcn_vgg16\\\\dense_lr3_64_ReLu_acc_weights.{epoch:02d}-{val_acc:.4f}.hdf5', monitor='val_loss',verbose=1, save_best_only=True, period=5)\n",
    "early_stop = EarlyStopping(monitor='val_acc', min_delta=0.001, patience=15, verbose=1, restore_best_weights=True)\n",
    "reduce_lr = ReduceLROnPlateau(monitor='val_acc', factor=0.2, min_delta=0.01, cooldown=3, patience=9, min_lr=0.00001, verbose=1)\n",
    "results = model.fit_generator(train_generator, steps_per_epoch=343,epochs=100, validation_data=validation_generator, validation_steps=68, callbacks=[csv_logger, model_checkpoint, early_stop, reduce_lr])\n",
    "csv_logger.csv_file.close()"
   ]
  },
  {
   "cell_type": "code",
   "execution_count": 9,
   "metadata": {},
   "outputs": [
    {
     "data": {
      "image/png": "[encoded data removed]",
      "text/plain": [
       "<Figure size 432x288 with 1 Axes>"
      ]
     },
     "metadata": {
      "needs_background": "light"
     },
     "output_type": "display_data"
    },
    {
     "data": {
      "image/png": "[encoded data removed]",
      "text/plain": [
       "<Figure size 432x288 with 1 Axes>"
      ]
     },
     "metadata": {
      "needs_background": "light"
     },
     "output_type": "display_data"
    }
   ],
   "source": [
    "#plot training results\n",
    "acc=results.history['acc']\n",
    "val_acc=results.history['val_acc']\n",
    "loss=results.history['loss']\n",
    "val_loss=results.history['val_loss']\n",
    "\n",
    "plt.figure(figsize=(10,10))\n",
    "plt.subplot(2,1,1)\n",
    "plt.ylabel('accuracy')\n",
    "# plt.ylim((0, 5))\n",
    "\n",
    "epochs=range(1, len(acc)+1)\n",
    "plt.plot(epochs,acc,'b--',label='acc')\n",
    "plt.plot(epochs, val_acc,'g',label='val_acc')\n",
    "index0=np.where(val_acc==np.amax(val_acc))\n",
    "for i in index0:\n",
    "    plt.text(epochs[int(i)], val_acc[int(i)], str((epochs[int(i)], val_acc[int(i)])),color='g')\n",
    "    \n",
    "plt.title('Training and validation preformance')\n",
    "plt.legend()\n",
    "\n",
    "plt.subplot(2,1,2)\n",
    "plt.xlabel('epochs')\n",
    "plt.ylabel('loss')\n",
    "# plt.ylim((0, 5))\n",
    "\n",
    "epochs=range(1, len(loss)+1)\n",
    "plt.plot(epochs,loss,'b--',label='loss')\n",
    "plt.plot(epochs, val_loss,'g',label='val_loss')\n",
    "for i in index0:\n",
    "    plt.text(epochs[int(i)], val_loss[int(i)], str((epochs[int(i)], val_loss[int(i)])),color='g')\n",
    "    \n",
    "plt.legend()\n",
    "plt.savefig(path1+'\\\\adam_64_lr4_training_validation_performance')\n",
    "plt.show()"
   ]
  },
  {
   "cell_type": "code",
   "execution_count": 10,
   "metadata": {},
   "outputs": [],
   "source": [
    "model.save('E:\\\\deeplearning\\\\Hepatocarcinomes\\\\models\\\\5x\\\\fcn_vgg16\\\\dense_lr3_64_ReLu_acc_best_model.hdf5')"
   ]
  },
  {
   "cell_type": "code",
   "execution_count": null,
   "metadata": {},
   "outputs": [],
   "source": []
  },
  {
   "cell_type": "code",
   "execution_count": null,
   "metadata": {},
   "outputs": [],
   "source": []
  }
 ],
 "metadata": {
  "anaconda-cloud": {},
  "kernelspec": {
   "display_name": "Python [conda env:r-tensorflow]",
   "language": "python",
   "name": "conda-env-r-tensorflow-py"
  },
  "language_info": {
   "codemirror_mode": {
    "name": "ipython",
    "version": 3
   },
   "file_extension": ".py",
   "mimetype": "text/x-python",
   "name": "python",
   "nbconvert_exporter": "python",
   "pygments_lexer": "ipython3",
   "version": "3.6.8"
  }
 },
 "nbformat": 4,
 "nbformat_minor": 2
}
