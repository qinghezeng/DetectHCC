{
 "cells": [
  {
   "cell_type": "markdown",
   "metadata": {},
   "source": [
    "## Build a full training set\n",
    "#### split 512x512 to 64x64\n",
    "#### remove background and blurred, using conv filter "
   ]
  },
  {
   "cell_type": "code",
   "execution_count": 1,
   "metadata": {},
   "outputs": [],
   "source": [
    "import os\n",
    "import cv2\n",
    "import numpy as np"
   ]
  },
  {
   "cell_type": "code",
   "execution_count": 2,
   "metadata": {},
   "outputs": [],
   "source": [
    "rootpath=\"E:\\\\deeplearning\\\\Hepatocarcinomes\\\\data\\\\5x\\\\training\\\\512_image_label_full\"\n",
    "#set the paths to save the 64x64 sutiles according to their labels.\n",
    "path_64_pos=\"E:\\\\deeplearning\\\\Hepatocarcinomes\\\\data\\\\5x\\\\training\\\\split64_image\\\\nor_full\"\n",
    "path_64_neg=\"E:\\\\deeplearning\\\\Hepatocarcinomes\\\\data\\\\5x\\\\training\\\\split64_image\\\\tum_full\""
   ]
  },
  {
   "cell_type": "code",
   "execution_count": 3,
   "metadata": {},
   "outputs": [],
   "source": [
    "limgs = []\n",
    "for root, folders, files in os.walk(rootpath, topdown=False):\n",
    "    for name in files:\n",
    "        if name.endswith('.tif'):\n",
    "            limgs.append(root+'\\\\'+name)\n",
    "# print(len(limgs))"
   ]
  },
  {
   "cell_type": "code",
   "execution_count": 4,
   "metadata": {},
   "outputs": [],
   "source": [
    "llabels = []\n",
    "for root, folders, files in os.walk(rootpath, topdown=False):\n",
    "    for name in files:\n",
    "        if name.endswith('.tiff'):\n",
    "            llabels.append(root+'\\\\'+name)\n",
    "# print(len(llabels))"
   ]
  },
  {
   "cell_type": "code",
   "execution_count": 5,
   "metadata": {},
   "outputs": [],
   "source": [
    "kernel = np.array(([-1, -1, -1],\n",
    "        [-1, 8, -1],\n",
    "        [-1, -1, -1]), np.float32)\n",
    "threshold = 200\n",
    "threshold_filter = 35"
   ]
  },
  {
   "cell_type": "code",
   "execution_count": 8,
   "metadata": {},
   "outputs": [
    {
     "name": "stderr",
     "output_type": "stream",
     "text": [
      "512x512 patch: 100%|███████████████| 233016/233016 [380:31:03<00:00,  3.87s/it]"
     ]
    }
   ],
   "source": [
    "n5kn = 0\n",
    "n5kp = 0\n",
    "os.mkdir(os.path.join(path_64_neg, str(n5kn).zfill(3)))\n",
    "os.mkdir(os.path.join(path_64_pos, str(n5kp).zfill(3)))\n",
    "\n",
    "from tqdm import tqdm\n",
    "pbar1 = tqdm(total=len(limgs), desc='512x512 patch', miniters=1, position=0)\n",
    "\n",
    "for i in range(len(limgs)):\n",
    "    pbar1.update()    \n",
    "    img = cv2.cvtColor(cv2.imread(limgs[i], -1), cv2.COLOR_BGR2RGB)\n",
    "    label = cv2.imread(llabels[i], -1)/255\n",
    "    nsub = 0\n",
    "    img_subtile = np.ndarray(shape=(64,64,64,3), dtype='uint8')\n",
    "    label_subtile = np.ndarray(shape=(64,64,64)) #already resize to 0-1, if set dtype to uint8, everything will be 0\n",
    "\n",
    "    for c in range(0, 511, 64):\n",
    "        c_64 = c + 64\n",
    "        for r in range(0, 511, 64):\n",
    "            r_64 = r + 64\n",
    "            img_subtile[nsub,:,:,:] = img[r:r_64,c:c_64,:]\n",
    "            label_subtile[nsub,:,:] = label[r:r_64,c:c_64]\n",
    "            nsub = nsub + 1\n",
    "\n",
    "    for j in range(nsub):\n",
    "        m_sub = np.mean(img_subtile[j,:,:,:])\n",
    "        y = cv2.filter2D(img_subtile[j,:,:,:], -1, kernel)\n",
    "        for a in range(y.shape[0]):\n",
    "            for b in range(y.shape[1]):\n",
    "                for c in range(y.shape[2]):\n",
    "                    if y[a,b,c] < 0:\n",
    "                        y[a,b,c] = 0\n",
    "                    if y[a,b,c] > 255:\n",
    "                        y[a,b,c] = 255\n",
    "        m_filtered_sub = np.mean(y)\n",
    "\n",
    "        if (m_sub < threshold) & (m_filtered_sub > threshold_filter):\n",
    "            if sum(sum(label_subtile[j,:,:] == 3/255)) > 3072:\n",
    "                nneg = len([x for x in os.listdir(os.path.join(path_64_neg, str(n5kn).zfill(3))) if x.endswith('.tif')])\n",
    "                if (nneg==5000):\n",
    "                    n5kn = n5kn + 1\n",
    "                    nneg = 0\n",
    "                    os.mkdir(os.path.join(path_64_neg, str(n5kn).zfill(3)))\n",
    "                nneg = str(nneg).zfill(4)\n",
    "                cv2.imwrite(os.path.join(path_64_neg, str(n5kn).zfill(3), 'tum_'+str(n5kn).zfill(3)+'_'+nneg+'.tif'), cv2.cvtColor(img_subtile[j,:,:,:], cv2.COLOR_RGB2BGR))\n",
    "            elif sum(sum(label_subtile[j,:,:] == 2/255)) > 3072:\n",
    "                npos = len([x for x in os.listdir(os.path.join(path_64_pos, str(n5kp).zfill(3))) if x.endswith('.tif')])\n",
    "                if (npos==5000):\n",
    "                    n5kp = n5kp + 1\n",
    "                    npos = 0\n",
    "                    os.mkdir(os.path.join(path_64_pos, str(n5kp).zfill(3)))\n",
    "                npos = str(npos).zfill(4)\n",
    "                cv2.imwrite(os.path.join(path_64_pos, str(n5kp).zfill(3), 'nor_'+str(n5kp).zfill(3)+'_'+npos+'.tif'), cv2.cvtColor(img_subtile[j,:,:,:], cv2.COLOR_RGB2BGR))\n",
    "\n",
    "# print(limg)\n",
    "# print(llabel)"
   ]
  },
  {
   "cell_type": "code",
   "execution_count": 6,
   "metadata": {},
   "outputs": [
    {
     "data": {
      "text/plain": [
       "233016"
      ]
     },
     "execution_count": 6,
     "metadata": {},
     "output_type": "execute_result"
    }
   ],
   "source": [
    "len(limgs)"
   ]
  },
  {
   "cell_type": "code",
   "execution_count": null,
   "metadata": {},
   "outputs": [],
   "source": []
  }
 ],
 "metadata": {
  "anaconda-cloud": {},
  "kernelspec": {
   "display_name": "Python [conda env:r-tensorflow]",
   "language": "python",
   "name": "conda-env-r-tensorflow-py"
  },
  "language_info": {
   "codemirror_mode": {
    "name": "ipython",
    "version": 3
   },
   "file_extension": ".py",
   "mimetype": "text/x-python",
   "name": "python",
   "nbconvert_exporter": "python",
   "pygments_lexer": "ipython3",
   "version": "3.6.8"
  }
 },
 "nbformat": 4,
 "nbformat_minor": 2
}
