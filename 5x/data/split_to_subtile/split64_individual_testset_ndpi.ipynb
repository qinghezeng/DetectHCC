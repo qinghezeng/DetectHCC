{
 "cells": [
  {
   "cell_type": "markdown",
   "metadata": {},
   "source": [
    "## Build a clean ndpi test set\n",
    "#### remove background and blurred, using conv filter "
   ]
  },
  {
   "cell_type": "code",
   "execution_count": 1,
   "metadata": {},
   "outputs": [],
   "source": [
    "import os\n",
    "import cv2\n",
    "import numpy as np"
   ]
  },
  {
   "cell_type": "code",
   "execution_count": 2,
   "metadata": {},
   "outputs": [],
   "source": [
    "rootpath=\"E:\\\\deeplearning\\\\Hepatocarcinomes\\\\data\\\\5x\\\\test_ndpi\"\n",
    "#set the paths to save the 64x64 sutiles according to their labels.\n",
    "path_64_pos=\"E:\\\\deeplearning\\\\Hepatocarcinomes\\\\data\\\\5x\\\\test_ndpi\\\\testset\\\\nor_test\"\n",
    "path_64_neg=\"E:\\\\deeplearning\\\\Hepatocarcinomes\\\\data\\\\5x\\\\test_ndpi\\\\testset\\\\tum_test\""
   ]
  },
  {
   "cell_type": "code",
   "execution_count": 3,
   "metadata": {},
   "outputs": [],
   "source": [
    "dirs = []\n",
    "for root, folders, files in os.walk(rootpath, topdown=False):\n",
    "    for name in folders:\n",
    "        if name.startswith('HMNT'):\n",
    "            dirs.append(root+'\\\\'+name)\n",
    "# print(dirs)"
   ]
  },
  {
   "cell_type": "code",
   "execution_count": 4,
   "metadata": {},
   "outputs": [],
   "source": [
    "kernel = np.array(([-1, -1, -1],\n",
    "        [-1, 8, -1],\n",
    "        [-1, -1, -1]), np.float32)\n",
    "threshold = 200\n",
    "threshold_filter = 15"
   ]
  },
  {
   "cell_type": "code",
   "execution_count": 7,
   "metadata": {},
   "outputs": [
    {
     "name": "stdout",
     "output_type": "stream",
     "text": [
      "E:\\deeplearning\\Hepatocarcinomes\\data\\5x\\test_ndpi\\HMNT0001\\512_image_label\n"
     ]
    },
    {
     "ename": "FileNotFoundError",
     "evalue": "[WinError 3] The system cannot find the path specified: 'E:\\\\deeplearning\\\\Hepatocarcinomes\\\\data\\\\5x\\\\test_ndpi\\\\testset\\\\nor_test'",
     "output_type": "error",
     "traceback": [
      "\u001b[1;31m---------------------------------------------------------------------------\u001b[0m",
      "\u001b[1;31mFileNotFoundError\u001b[0m                         Traceback (most recent call last)",
      "\u001b[1;32m<ipython-input-7-4e99bbad5d68>\u001b[0m in \u001b[0;36m<module>\u001b[1;34m\u001b[0m\n\u001b[0;32m     44\u001b[0m                     \u001b[0mcv2\u001b[0m\u001b[1;33m.\u001b[0m\u001b[0mimwrite\u001b[0m\u001b[1;33m(\u001b[0m\u001b[0mpath_64_neg\u001b[0m \u001b[1;33m+\u001b[0m \u001b[1;34m'\\\\tum_'\u001b[0m \u001b[1;33m+\u001b[0m \u001b[0mnneg\u001b[0m \u001b[1;33m+\u001b[0m \u001b[1;34m'.tif'\u001b[0m\u001b[1;33m,\u001b[0m \u001b[0mcv2\u001b[0m\u001b[1;33m.\u001b[0m\u001b[0mcvtColor\u001b[0m\u001b[1;33m(\u001b[0m\u001b[0mimg_subtile\u001b[0m\u001b[1;33m[\u001b[0m\u001b[0mj\u001b[0m\u001b[1;33m,\u001b[0m\u001b[1;33m:\u001b[0m\u001b[1;33m,\u001b[0m\u001b[1;33m:\u001b[0m\u001b[1;33m,\u001b[0m\u001b[1;33m:\u001b[0m\u001b[1;33m]\u001b[0m\u001b[1;33m,\u001b[0m \u001b[0mcv2\u001b[0m\u001b[1;33m.\u001b[0m\u001b[0mCOLOR_RGB2BGR\u001b[0m\u001b[1;33m)\u001b[0m\u001b[1;33m)\u001b[0m\u001b[1;33m\u001b[0m\u001b[1;33m\u001b[0m\u001b[0m\n\u001b[0;32m     45\u001b[0m                 \u001b[1;32melse\u001b[0m\u001b[1;33m:\u001b[0m\u001b[1;33m\u001b[0m\u001b[1;33m\u001b[0m\u001b[0m\n\u001b[1;32m---> 46\u001b[1;33m                     \u001b[0mnpos\u001b[0m \u001b[1;33m=\u001b[0m \u001b[0mlen\u001b[0m\u001b[1;33m(\u001b[0m\u001b[1;33m[\u001b[0m\u001b[0mx\u001b[0m \u001b[1;32mfor\u001b[0m \u001b[0mx\u001b[0m \u001b[1;32min\u001b[0m \u001b[0mos\u001b[0m\u001b[1;33m.\u001b[0m\u001b[0mlistdir\u001b[0m\u001b[1;33m(\u001b[0m\u001b[0mpath_64_pos\u001b[0m\u001b[1;33m)\u001b[0m \u001b[1;32mif\u001b[0m \u001b[0mx\u001b[0m\u001b[1;33m.\u001b[0m\u001b[0mendswith\u001b[0m\u001b[1;33m(\u001b[0m\u001b[1;34m'.tif'\u001b[0m\u001b[1;33m)\u001b[0m\u001b[1;33m]\u001b[0m\u001b[1;33m)\u001b[0m\u001b[1;33m\u001b[0m\u001b[1;33m\u001b[0m\u001b[0m\n\u001b[0m\u001b[0;32m     47\u001b[0m                     \u001b[0mnpos\u001b[0m \u001b[1;33m=\u001b[0m \u001b[0mstr\u001b[0m\u001b[1;33m(\u001b[0m\u001b[0mnpos\u001b[0m\u001b[1;33m)\u001b[0m\u001b[1;33m.\u001b[0m\u001b[0mzfill\u001b[0m\u001b[1;33m(\u001b[0m\u001b[1;36m10\u001b[0m\u001b[1;33m)\u001b[0m\u001b[1;33m\u001b[0m\u001b[1;33m\u001b[0m\u001b[0m\n\u001b[0;32m     48\u001b[0m                     \u001b[0mcv2\u001b[0m\u001b[1;33m.\u001b[0m\u001b[0mimwrite\u001b[0m\u001b[1;33m(\u001b[0m\u001b[0mpath_64_pos\u001b[0m \u001b[1;33m+\u001b[0m \u001b[1;34m'\\\\nor_'\u001b[0m \u001b[1;33m+\u001b[0m \u001b[0mnpos\u001b[0m \u001b[1;33m+\u001b[0m \u001b[1;34m'.tif'\u001b[0m\u001b[1;33m,\u001b[0m \u001b[0mcv2\u001b[0m\u001b[1;33m.\u001b[0m\u001b[0mcvtColor\u001b[0m\u001b[1;33m(\u001b[0m\u001b[0mimg_subtile\u001b[0m\u001b[1;33m[\u001b[0m\u001b[0mj\u001b[0m\u001b[1;33m,\u001b[0m\u001b[1;33m:\u001b[0m\u001b[1;33m,\u001b[0m\u001b[1;33m:\u001b[0m\u001b[1;33m,\u001b[0m\u001b[1;33m:\u001b[0m\u001b[1;33m]\u001b[0m\u001b[1;33m,\u001b[0m \u001b[0mcv2\u001b[0m\u001b[1;33m.\u001b[0m\u001b[0mCOLOR_RGB2BGR\u001b[0m\u001b[1;33m)\u001b[0m\u001b[1;33m)\u001b[0m\u001b[1;33m\u001b[0m\u001b[1;33m\u001b[0m\u001b[0m\n",
      "\u001b[1;31mFileNotFoundError\u001b[0m: [WinError 3] The system cannot find the path specified: 'E:\\\\deeplearning\\\\Hepatocarcinomes\\\\data\\\\5x\\\\test_ndpi\\\\testset\\\\nor_test'"
     ]
    }
   ],
   "source": [
    "for dir in dirs:\n",
    "    print(dir+'\\\\512_image_label')\n",
    "    \n",
    "    limg = []\n",
    "    llabel = []\n",
    "    for root, folders, files in os.walk(dir+'\\\\512_image_label', topdown=False):\n",
    "        for f in files:\n",
    "            if f.endswith('tif'):\n",
    "                limg.append(root+'\\\\'+f)\n",
    "            elif f.endswith('tiff'):\n",
    "                llabel.append(root+'\\\\'+f)\n",
    "                \n",
    "    for i in range(len(limg)):\n",
    "        img = cv2.cvtColor(cv2.imread(limg[i], -1), cv2.COLOR_BGR2RGB)\n",
    "        label = cv2.imread(llabel[i], -1)/255\n",
    "        nsub = 0\n",
    "        img_subtile = np.ndarray(shape=(64,64,64,3), dtype='uint8')\n",
    "        label_subtile = np.ndarray(shape=(64,64,64)) #already resize to 0-1, if set dtype to uint8, everything will be 0\n",
    "        \n",
    "        for c in range(0, 511, 64):\n",
    "            c_64 = c + 64\n",
    "            for r in range(0, 511, 64):\n",
    "                r_64 = r + 64\n",
    "                img_subtile[nsub,:,:,:] = img[r:r_64,c:c_64,:]\n",
    "                label_subtile[nsub,:,:] = label[r:r_64,c:c_64]\n",
    "                nsub = nsub + 1\n",
    "                \n",
    "        for j in range(nsub):\n",
    "            m_sub = np.mean(img_subtile[j,:,:,:])\n",
    "            y = cv2.filter2D(img_subtile[j,:,:,:], -1, kernel)\n",
    "            for a in range(y.shape[0]):\n",
    "                for b in range(y.shape[1]):\n",
    "                    for c in range(y.shape[2]):\n",
    "                        if y[a,b,c] < 0:\n",
    "                            y[a,b,c] = 0\n",
    "                        if y[a,b,c] > 255:\n",
    "                            y[a,b,c] = 255\n",
    "            m_filtered_sub = np.mean(y)\n",
    "            \n",
    "            if (m_sub < threshold) & (m_filtered_sub > threshold_filter):\n",
    "                if sum(sum(label_subtile[j,:,:] == 3/255)) > 2048:\n",
    "                    nneg = len([x for x in os.listdir(path_64_neg) if x.endswith('.tif')])\n",
    "                    nneg = str(nneg).zfill(10)\n",
    "                    cv2.imwrite(path_64_neg + '\\\\tum_' + nneg + '.tif', cv2.cvtColor(img_subtile[j,:,:,:], cv2.COLOR_RGB2BGR))\n",
    "                else:\n",
    "                    npos = len([x for x in os.listdir(path_64_pos) if x.endswith('.tif')])\n",
    "                    npos = str(npos).zfill(10)\n",
    "                    cv2.imwrite(path_64_pos + '\\\\nor_' + npos + '.tif', cv2.cvtColor(img_subtile[j,:,:,:], cv2.COLOR_RGB2BGR))\n",
    "                    \n",
    "# print(limg)\n",
    "# print(llabel)"
   ]
  },
  {
   "cell_type": "code",
   "execution_count": null,
   "metadata": {},
   "outputs": [],
   "source": []
  }
 ],
 "metadata": {
  "anaconda-cloud": {},
  "kernelspec": {
   "display_name": "Python [conda env:r-tensorflow]",
   "language": "python",
   "name": "conda-env-r-tensorflow-py"
  },
  "language_info": {
   "codemirror_mode": {
    "name": "ipython",
    "version": 3
   },
   "file_extension": ".py",
   "mimetype": "text/x-python",
   "name": "python",
   "nbconvert_exporter": "python",
   "pygments_lexer": "ipython3",
   "version": "3.6.8"
  }
 },
 "nbformat": 4,
 "nbformat_minor": 2
}
