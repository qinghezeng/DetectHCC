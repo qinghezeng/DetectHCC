{
 "cells": [
  {
   "cell_type": "markdown",
   "metadata": {},
   "source": [
    "For multi-class segmentation mask, to change object pixel from 255 to 1."
   ]
  },
  {
   "cell_type": "code",
   "execution_count": 37,
   "metadata": {},
   "outputs": [],
   "source": [
    "import cv2\n",
    "import numpy as np\n",
    "import os"
   ]
  },
  {
   "cell_type": "code",
   "execution_count": 67,
   "metadata": {},
   "outputs": [],
   "source": [
    "for root, dirs, files in os.walk('E:\\\\deeplearning\\\\Hepatocarcinomes\\\\data\\\\5x\\\\training\\\\split64_image\\\\mask_unet_train'):\n",
    "    for file in files:\n",
    "        mask255 = cv2.imread(os.path.join(root,file), -1)\n",
    "        mask255[mask255==255] = 1\n",
    "        n = str(len(os.listdir('E:\\\\deeplearning\\\\Hepatocarcinomes\\\\data\\\\5x\\\\training\\\\split64_image\\\\mask_fcn_train')))\n",
    "        cv2.imwrite('E:\\\\deeplearning\\\\Hepatocarcinomes\\\\data\\\\5x\\\\training\\\\split64_image\\\\mask_fcn_train\\\\'+n.zfill(5)+'.tiff', mask255)"
   ]
  },
  {
   "cell_type": "code",
   "execution_count": null,
   "metadata": {},
   "outputs": [],
   "source": []
  }
 ],
 "metadata": {
  "anaconda-cloud": {},
  "kernelspec": {
   "display_name": "Python [conda env:r-tensorflow]",
   "language": "python",
   "name": "conda-env-r-tensorflow-py"
  },
  "language_info": {
   "codemirror_mode": {
    "name": "ipython",
    "version": 3
   },
   "file_extension": ".py",
   "mimetype": "text/x-python",
   "name": "python",
   "nbconvert_exporter": "python",
   "pygments_lexer": "ipython3",
   "version": "3.6.8"
  }
 },
 "nbformat": 4,
 "nbformat_minor": 2
}
