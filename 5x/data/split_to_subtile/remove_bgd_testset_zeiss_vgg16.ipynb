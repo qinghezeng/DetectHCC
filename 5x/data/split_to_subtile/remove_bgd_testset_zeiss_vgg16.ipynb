{
 "cells": [
  {
   "cell_type": "markdown",
   "metadata": {},
   "source": [
    "## Build a clean zeiss training set for vgg16\n",
    "#### strictly remove background and blurred, using conv filter "
   ]
  },
  {
   "cell_type": "code",
   "execution_count": null,
   "metadata": {},
   "outputs": [],
   "source": [
    "import os\n",
    "import cv2\n",
    "import numpy as np"
   ]
  },
  {
   "cell_type": "code",
   "execution_count": null,
   "metadata": {},
   "outputs": [],
   "source": [
    "rootpath=\"E:\\\\deeplearning\\\\Hepatocarcinomes\\\\data\\\\5x\\\\test_zeiss\\\\testset\"\n",
    "#set the paths to save the 64x64 sutiles according to their labels.\n",
    "path_64_pos=rootpath + \"\\\\nor_strict\"\n",
    "path_64_neg=rootpath + \"\\\\tum_strict\""
   ]
  },
  {
   "cell_type": "code",
   "execution_count": null,
   "metadata": {},
   "outputs": [],
   "source": [
    "kernel = np.array(([-1, -1, -1],\n",
    "        [-1, 8, -1],\n",
    "        [-1, -1, -1]), np.float32)\n",
    "threshold = 200\n",
    "threshold_filter = 20"
   ]
  },
  {
   "cell_type": "code",
   "execution_count": null,
   "metadata": {},
   "outputs": [],
   "source": [
    "# don't need to change BGR to RGB, same results for these operations.\n",
    "# lpos = []\n",
    "lneg = []\n",
    "# for root, folders, files in os.walk(rootpath+'\\\\nor', topdown=False):\n",
    "#     for f in files:\n",
    "#         if f.endswith('tif'):\n",
    "#             lpos.append(root+'\\\\'+f)\n",
    "            \n",
    "for root, folders, files in os.walk(rootpath+'\\\\tum', topdown=False):\n",
    "    for f in files:\n",
    "        if f.endswith('tif'):\n",
    "            lneg.append(root+'\\\\'+f)\n",
    "\n",
    "# for i in range(len(lpos)):\n",
    "#     img = cv2.imread(lpos[i], -1)\n",
    "#     m_sub = np.mean(img)\n",
    "#     y = cv2.filter2D(img, -1, kernel)\n",
    "#     m_filtered = np.mean(y)\n",
    "\n",
    "#     if (m_sub < threshold) & (m_filtered > threshold_filter):\n",
    "#             npos = len([x for x in os.listdir(path_64_pos) if x.endswith('.tif')])\n",
    "#             npos = str(npos).zfill(10)\n",
    "#             cv2.imwrite(path_64_pos + '\\\\non_' + npos + '.tif', img)\n",
    "            \n",
    "for i in range(len(lneg)):\n",
    "    img = cv2.imread(lneg[i], -1)\n",
    "    m_sub = np.mean(img)\n",
    "    y = cv2.filter2D(img, -1, kernel)\n",
    "    m_filtered = np.mean(y)\n",
    "\n",
    "    if (m_sub < threshold) & (m_filtered > threshold_filter):\n",
    "            nneg = len([x for x in os.listdir(path_64_neg) if x.endswith('.tif')])\n",
    "            nneg = str(nneg).zfill(10)\n",
    "            cv2.imwrite(path_64_neg + '\\\\neg_' + nneg + '.tif', img)\n",
    "                    \n",
    "# print(limg)\n",
    "# print(llabel)"
   ]
  },
  {
   "cell_type": "code",
   "execution_count": null,
   "metadata": {},
   "outputs": [],
   "source": []
  }
 ],
 "metadata": {
  "anaconda-cloud": {},
  "kernelspec": {
   "display_name": "Python [conda env:r-tensorflow]",
   "language": "python",
   "name": "conda-env-r-tensorflow-py"
  },
  "language_info": {
   "codemirror_mode": {
    "name": "ipython",
    "version": 3
   },
   "file_extension": ".py",
   "mimetype": "text/x-python",
   "name": "python",
   "nbconvert_exporter": "python",
   "pygments_lexer": "ipython3",
   "version": "3.6.8"
  }
 },
 "nbformat": 4,
 "nbformat_minor": 2
}
