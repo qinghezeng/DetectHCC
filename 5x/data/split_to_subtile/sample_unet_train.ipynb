{
 "cells": [
  {
   "cell_type": "markdown",
   "metadata": {},
   "source": [
    "## Prepare training set for U-Net\n",
    "#### Sampling: 10k tum subtiles and masks (from 100k+ subtiles)\n",
    "#### Sampling:  5k non_tum subtiles and masks (from 100k+ subtiles)\n",
    "##### BGR to Grayscale"
   ]
  },
  {
   "cell_type": "code",
   "execution_count": 163,
   "metadata": {},
   "outputs": [],
   "source": [
    "import os\n",
    "from random import seed, sample\n",
    "import numpy as np\n",
    "import cv2\n",
    "from shutil import copy"
   ]
  },
  {
   "cell_type": "code",
   "execution_count": 169,
   "metadata": {},
   "outputs": [],
   "source": [
    "root_tum = 'E:\\\\deeplearning\\\\Hepatocarcinomes\\\\data\\\\5x\\\\training\\\\split64_image\\\\tum_100k+'\n",
    "tum_mask = 'E:\\\\deeplearning\\\\Hepatocarcinomes\\\\data\\\\5x\\\\training\\\\split64_image\\\\tum_image_mask_10k'\n",
    "root_non = 'E:\\\\deeplearning\\\\Hepatocarcinomes\\\\data\\\\5x\\\\training\\\\split64_image\\\\nor_100k+'\n",
    "non_mask = 'E:\\\\deeplearning\\\\Hepatocarcinomes\\\\data\\\\5x\\\\training\\\\split64_image\\\\non_image_mask_5k'"
   ]
  },
  {
   "cell_type": "code",
   "execution_count": null,
   "metadata": {},
   "outputs": [],
   "source": [
    "images = os.listdir(root_tum) \n",
    "seed(1)\n",
    "samples = sample(images, 10000)\n",
    "# print(samples)"
   ]
  },
  {
   "cell_type": "code",
   "execution_count": 162,
   "metadata": {},
   "outputs": [],
   "source": [
    "for sam in samples:\n",
    "    image = cv2.imread(root_tum + '\\\\' + sam)\n",
    "    n = str(len(os.listdir(tum_mask))//2)\n",
    "    cv2.imwrite(path_mask + '\\\\' + n.zfill(5) + '.tif', image)\n",
    "    image8b = cv2.cvtColor(image, cv2.COLOR_BGR2GRAY) #8 bit, 'uint8'. The same values for BGR and RGB \n",
    "    blur = cv2.GaussianBlur(image8b,(5,5),0)\n",
    "    ret,label = cv2.threshold(blur,200,255,cv2.THRESH_BINARY_INV)\n",
    "    cv2.imwrite(tum_mask + '\\\\' + n.zfill(5) + '.tiff', label)"
   ]
  },
  {
   "cell_type": "code",
   "execution_count": null,
   "metadata": {},
   "outputs": [],
   "source": [
    "images = os.listdir(root_non) \n",
    "seed(1)\n",
    "samples = sample(images, 5000)\n",
    "# print(samples)"
   ]
  },
  {
   "cell_type": "code",
   "execution_count": 190,
   "metadata": {},
   "outputs": [],
   "source": [
    "label = np.zeros((64,64), dtype='uint8')\n",
    "for sam in samples:\n",
    "    n = str(len(os.listdir(non_mask))//2)\n",
    "    copy(root_non + '\\\\' + sam, non_mask + '\\\\' + n.zfill(5) + '.tif')\n",
    "    cv2.imwrite(non_mask + '\\\\' + n.zfill(5) + '.tiff', label)"
   ]
  },
  {
   "cell_type": "code",
   "execution_count": 219,
   "metadata": {},
   "outputs": [],
   "source": [
    "images = []\n",
    "for root, dirs, files in os.walk(\"E:\\\\deeplearning\\\\Hepatocarcinomes\\\\data\\\\5x\\\\training\\\\split64_image\\\\non_image_mask_5k\"):\n",
    "    for file in files:\n",
    "        if file.endswith(\".tif\"):\n",
    "             images.append(os.path.join(root, file))\n",
    "seed(1)\n",
    "images = sample(images, 3000)\n",
    "# print(images)\n",
    "for image in images[0:2500]:\n",
    "    n = str(len(os.listdir('E:\\\\deeplearning\\\\Hepatocarcinomes\\\\data\\\\5x\\\\training\\\\split64_image\\\\image_unet_train')))\n",
    "    copy(image, 'E:\\\\deeplearning\\\\Hepatocarcinomes\\\\data\\\\5x\\\\training\\\\split64_image\\\\image_unet_train' + '\\\\non_' + n.zfill(5) + '.tif')\n",
    "for image in images[2500:3000]:\n",
    "    n = str(len(os.listdir('E:\\\\deeplearning\\\\Hepatocarcinomes\\\\data\\\\5x\\\\training\\\\split64_image\\\\image_unet_val')))\n",
    "    copy(image, 'E:\\\\deeplearning\\\\Hepatocarcinomes\\\\data\\\\5x\\\\training\\\\split64_image\\\\image_unet_val' + '\\\\non_' + n.zfill(5) + '.tif')"
   ]
  },
  {
   "cell_type": "code",
   "execution_count": 220,
   "metadata": {},
   "outputs": [],
   "source": [
    "images = []\n",
    "for root, dirs, files in os.walk(\"E:\\\\deeplearning\\\\Hepatocarcinomes\\\\data\\\\5x\\\\training\\\\split64_image\\\\non_image_mask_5k\"):\n",
    "    for file in files:\n",
    "        if file.endswith(\".tiff\"):\n",
    "             images.append(os.path.join(root, file))\n",
    "seed(1)\n",
    "images = sample(images, 3000)\n",
    "# print(images)\n",
    "for image in images[0:2500]:\n",
    "    n = str(len(os.listdir('E:\\\\deeplearning\\\\Hepatocarcinomes\\\\data\\\\5x\\\\training\\\\split64_image\\\\mask_unet_train')))\n",
    "    copy(image, 'E:\\\\deeplearning\\\\Hepatocarcinomes\\\\data\\\\5x\\\\training\\\\split64_image\\\\mask_unet_train' + '\\\\non_' + n.zfill(5) + '.tiff')\n",
    "for image in images[2500:3000]:\n",
    "    n = str(len(os.listdir('E:\\\\deeplearning\\\\Hepatocarcinomes\\\\data\\\\5x\\\\training\\\\split64_image\\\\mask_unet_val')))\n",
    "    copy(image, 'E:\\\\deeplearning\\\\Hepatocarcinomes\\\\data\\\\5x\\\\training\\\\split64_image\\\\mask_unet_val' + '\\\\non_' + n.zfill(5) + '.tiff')"
   ]
  },
  {
   "cell_type": "code",
   "execution_count": 221,
   "metadata": {},
   "outputs": [],
   "source": [
    "images = []\n",
    "for root, dirs, files in os.walk(\"E:\\\\deeplearning\\\\Hepatocarcinomes\\\\data\\\\5x\\\\training\\\\split64_image\\\\tum_image_mask_10k\"):\n",
    "    for file in files:\n",
    "        if file.endswith(\".tif\"):\n",
    "             images.append(os.path.join(root, file))\n",
    "seed(1)\n",
    "images = sample(images, 3600)\n",
    "# print(images)\n",
    "for image in images[0:3000]:\n",
    "    n = str(len(os.listdir('E:\\\\deeplearning\\\\Hepatocarcinomes\\\\data\\\\5x\\\\training\\\\split64_image\\\\image_unet_train')))\n",
    "    copy(image, 'E:\\\\deeplearning\\\\Hepatocarcinomes\\\\data\\\\5x\\\\training\\\\split64_image\\\\image_unet_train' + '\\\\tum_' + n.zfill(5) + '.tif')\n",
    "for image in images[3000:3600]:\n",
    "    n = str(len(os.listdir('E:\\\\deeplearning\\\\Hepatocarcinomes\\\\data\\\\5x\\\\training\\\\split64_image\\\\image_unet_val')))\n",
    "    copy(image, 'E:\\\\deeplearning\\\\Hepatocarcinomes\\\\data\\\\5x\\\\training\\\\split64_image\\\\image_unet_val' + '\\\\tum_' + n.zfill(5) + '.tif')"
   ]
  },
  {
   "cell_type": "code",
   "execution_count": null,
   "metadata": {},
   "outputs": [],
   "source": [
    "images = []\n",
    "for root, dirs, files in os.walk(\"E:\\\\deeplearning\\\\Hepatocarcinomes\\\\data\\\\5x\\\\training\\\\split64_image\\\\tum_image_mask_10k\"):\n",
    "    for file in files:\n",
    "        if file.endswith(\".tiff\"):\n",
    "             images.append(os.path.join(root, file))\n",
    "seed(1)\n",
    "images = sample(images, 3600)\n",
    "# print(images)\n",
    "for image in images[0:3000]:\n",
    "    n = str(len(os.listdir('E:\\\\deeplearning\\\\Hepatocarcinomes\\\\data\\\\5x\\\\training\\\\split64_image\\\\mask_unet_train')))\n",
    "    copy(image, 'E:\\\\deeplearning\\\\Hepatocarcinomes\\\\data\\\\5x\\\\training\\\\split64_image\\\\mask_unet_train' + '\\\\tum_' + n.zfill(5) + '.tiff')\n",
    "for image in images[3000:3600]:\n",
    "    n = str(len(os.listdir('E:\\\\deeplearning\\\\Hepatocarcinomes\\\\data\\\\5x\\\\training\\\\split64_image\\\\mask_unet_val')))\n",
    "    copy(image, 'E:\\\\deeplearning\\\\Hepatocarcinomes\\\\data\\\\5x\\\\training\\\\split64_image\\\\mask_unet_val' + '\\\\tum_' + n.zfill(5) + '.tiff')"
   ]
  },
  {
   "cell_type": "code",
   "execution_count": null,
   "metadata": {},
   "outputs": [],
   "source": []
  }
 ],
 "metadata": {
  "kernelspec": {
   "display_name": "Python [conda env:r-tensorflow]",
   "language": "python",
   "name": "conda-env-r-tensorflow-py"
  },
  "language_info": {
   "codemirror_mode": {
    "name": "ipython",
    "version": 3
   },
   "file_extension": ".py",
   "mimetype": "text/x-python",
   "name": "python",
   "nbconvert_exporter": "python",
   "pygments_lexer": "ipython3",
   "version": "3.6.8"
  }
 },
 "nbformat": 4,
 "nbformat_minor": 2
}
