{
 "cells": [
  {
   "cell_type": "code",
   "execution_count": 1,
   "metadata": {},
   "outputs": [],
   "source": [
    "import openslide\n",
    "from PIL import Image"
   ]
  },
  {
   "cell_type": "code",
   "execution_count": 2,
   "metadata": {},
   "outputs": [],
   "source": [
    "slide = openslide.OpenSlide(\"E:\\\\deeplearning\\\\Hepatocarcinomes\\\\slides_annotations_hammamatsu\\\\HMNT0050 - 2017-07-09 02.59.54.ndpi\")"
   ]
  },
  {
   "cell_type": "code",
   "execution_count": 8,
   "metadata": {},
   "outputs": [
    {
     "name": "stdout",
     "output_type": "stream",
     "text": [
      "<PIL.Image.Image image mode=RGBA size=1191x407 at 0x5098710>\n"
     ]
    }
   ],
   "source": [
    "print(slide.associated_images['macro'])"
   ]
  },
  {
   "cell_type": "code",
   "execution_count": null,
   "metadata": {},
   "outputs": [],
   "source": [
    "slide.associated_images[\"label\"] = im"
   ]
  },
  {
   "cell_type": "code",
   "execution_count": null,
   "metadata": {},
   "outputs": [],
   "source": [
    "im = Image.open(\"D:\\\\qinghe\\\\test\\\\heatmap\\\\post.tiff\")"
   ]
  },
  {
   "cell_type": "code",
   "execution_count": null,
   "metadata": {},
   "outputs": [],
   "source": [
    "NONHIER_0_VAL_3 = im\n",
    "NONHIER_0_VAL_3_SECTION = NONHIERLAYER_0_LEVEL_3_SECTION\n",
    "NONHIER_0_VAL_3_IMAGENUMBER_X = 1\n",
    "NONHIER_0_VAL_3_IMAGENUMBER_Y = 1"
   ]
  },
  {
   "cell_type": "code",
   "execution_count": 3,
   "metadata": {},
   "outputs": [
    {
     "name": "stdout",
     "output_type": "stream",
     "text": [
      "<_PropertyMap {'hamamatsu.AHEX[0]': '6036105CB41854311C4AB41350321857B4144C2A1844B40A504C106EB0324C3C0854AC1C444D0866AC2A443C0C51AC1944540C6BA82B483C084CAC1B4C451056AC1F48211032AC0254001C1AB11354151422B5105437184DB41354351C47B4130B9E', 'hamamatsu.AHEX[0].fluorescence': '00570063005B0047005700530047005F0057003F004F004700670073007B00530057005B00630067006F005300530057006F006B006B0053004B0057005F005B005F0037003300370017001F001F002F0027002300570053004F0053004F004F0F14', 'hamamatsu.AHEX[0].ploidy': '60230C57A41B581F1843A415581F184FA417541B143FA40B543F1067A035542F084B9C1D4C3F045F9C2D4833084B981B484B0863982B4C330047981B4C3B08539821481B042B9803550710179D15540F0C17A111582F10479C13542F103F9C13BFA6', 'hamamatsu.AHEX[1]': '683A1C5EBC196031284BBC145C312455B817582B2444B80C5C4D1C6EB833583A1852B41E504B1466B42A503F1852B01950551869B02A543D1449B41B58421C58B41F54221C32B4045C07281EB9115C1A2421BD0E603A284CB8165C392847B818F3C3', 'hamamatsu.AHEX[1].fluorescence': '00570067005F004F00570057004F005F00570047004F004B006B0077007F00570057005F0067006B006F005700570057006F006F006F0057004F0057005F005F005F003B00370037001F0027001F003700270027005B005700530057005300530FB0', 'hamamatsu.AHEX[1].ploidy': '6C271857A81D641F2447A8196023244FA819601B243FA80F603F1C67A8375C2F144FA41F5443105FA42F5433144BA01B544B1463A02B54331047A01D583B1453A021541B102FA00360002017A5135C13181BA90F60331C47A41360331C43A417A2DF', 'hamamatsu.AHEX[2]': '60230C57A41B581F1843A415581F184FA417541B143FA40B543F1067A035542F084B9C1D4C3F045F9C2D4833084B981B484B0863982B4C330047981B4C3B08539821481B042B9803550710179D15540F0C17A111582F10479C13542F103F9C13BFA6', 'hamamatsu.AHEX[2].fluorescence': '60230C57A41B581F1843A415581F184FA417541B143FA40B543F1067A035542F084B9C1D4C3F045F9C2D4833084B981B484B0863982B4C330047981B4C3B08539821481B042B9803550710179D15540F0C17A111582F10479C13542F103F9C13BFA6', 'hamamatsu.AHEX[2].ploidy': '60230C57A41B581F1843A415581F184FA417541B143FA40B543F1067A035542F084B9C1D4C3F045F9C2D4833084B981B484B0863982B4C330047981B4C3B08539821481B042B9803550710179D15540F0C17A111582F10479C13542F103F9C13BFA6', 'hamamatsu.Created': '2012/01/25', 'hamamatsu.MHLN[0].24bit': '_1357CJIOJKPOVjx', 'hamamatsu.MHLN[0].36bit': '_1357GGEOJKPOVjx', 'hamamatsu.MHLN[1].24bit': '_1357FHHOJKPOVjx', 'hamamatsu.MHLN[1].36bit': '_1359CKJOJKPOVjx', 'hamamatsu.MHLN[2].24bit': '_1357CJIOJKPOVjx', 'hamamatsu.MHLN[2].36bit': '_1357DEEOJKPOVjx', 'hamamatsu.Macro.S/N': '9Y0431', 'hamamatsu.NDP.S/N': '810305', 'hamamatsu.Objective.Lens.Magnificant': '35.16', 'hamamatsu.PSHV': '182', 'hamamatsu.PSHV.10x': '170', 'hamamatsu.PSHV.40x': '182', 'hamamatsu.PSHV.ploidy': '200', 'hamamatsu.PSHV.ploidy.10x': '140', 'hamamatsu.Product': 'C9600-12', 'hamamatsu.Reference': 'HMNT0050', 'hamamatsu.SourceLens': '40', 'hamamatsu.Updated': '2017/04/13', 'hamamatsu.XOffsetFromSlideCentre': '17626890', 'hamamatsu.YOffsetFromSlideCentre': '-192119', 'hamamatsu.YRNP[0]': '0,0,0,0', 'hamamatsu.YRNP[1]': '0,0,0,0', 'hamamatsu.YRNP[2]': '0,0,0,0', 'hamamatsu.calibration.version': '249', 'hamamatsu.ccd.height': '0', 'hamamatsu.ccd.width': '9373', 'hamamatsu.ccd.width.ploidy': '9302', 'hamamatsu.coarse.focus.pitch': '4870', 'hamamatsu.colorfilterID': '1', 'hamamatsu.cube.kind': '0', 'hamamatsu.exposure.barcode.macro': '510', 'hamamatsu.exposure.slide.darkfield.macro': '160', 'hamamatsu.exposure.slide.macro': '19', 'hamamatsu.fine.focus.pitch': '250', 'hamamatsu.focalplane.leftbottom': '100077,690008,108676', 'hamamatsu.focalplane.lefttop': '100077,490008,108268', 'hamamatsu.focalplane.rightbottom': '500077,690008,108545', 'hamamatsu.focalplane.righttop': '500077,490008,108152', 'hamamatsu.lane.shift.amount': '7', 'hamamatsu.roi.barcode.macro': '892,208,1199,612', 'hamamatsu.roi.slide.macro': '7,208,1198,615', 'hamamatsu.slant.leftbottom': '91280,690419,111224', 'hamamatsu.slant.lefttop': '91280,490419,110763', 'hamamatsu.slant.rightbottom': '491280,490419,110550', 'hamamatsu.slant.righttop': '491280,690419,110984', 'hamamatsu.slide.tickness': '0', 'hamamatsu.stage.center': '190077,590008', 'hamamatsu.system.version': '1.0', 'hamamatsu.target.white.intensity': '235', 'hamamatsu.valid.DDKP': '1', 'hamamatsu.valid.DLTP': '0', 'hamamatsu.valid.DSHP': '1', 'hamamatsu.variable.exposuretime': '0', 'hamamatsu.zCoarse[0]': '1,7392,0,100', 'hamamatsu.zCoarse[1]': '1,1946,0,100', 'hamamatsu.zCoarse[2]': '0,0,0,0', 'hamamatsu.zFine[0]': '1,295680,0,100', 'hamamatsu.zFine[1]': '1,77824,0,100', 'hamamatsu.zFine[2]': '0,0,0,0', 'openslide.level-count': '10', 'openslide.level[0].downsample': '1', 'openslide.level[0].height': '78848', 'openslide.level[0].tile-height': '8', 'openslide.level[0].tile-width': '3968', 'openslide.level[0].width': '103168', 'openslide.level[1].downsample': '2', 'openslide.level[1].height': '39424', 'openslide.level[1].tile-height': '4', 'openslide.level[1].tile-width': '1984', 'openslide.level[1].width': '51584', 'openslide.level[2].downsample': '4', 'openslide.level[2].height': '19712', 'openslide.level[2].tile-height': '2', 'openslide.level[2].tile-width': '992', 'openslide.level[2].width': '25792', 'openslide.level[3].downsample': '8', 'openslide.level[3].height': '9856', 'openslide.level[3].tile-height': '8', 'openslide.level[3].tile-width': '496', 'openslide.level[3].width': '12896', 'openslide.level[4].downsample': '16', 'openslide.level[4].height': '4928', 'openslide.level[4].tile-height': '4', 'openslide.level[4].tile-width': '248', 'openslide.level[4].width': '6448', 'openslide.level[5].downsample': '32', 'openslide.level[5].height': '2464', 'openslide.level[5].tile-height': '2', 'openslide.level[5].tile-width': '124', 'openslide.level[5].width': '3224', 'openslide.level[6].downsample': '64', 'openslide.level[6].height': '1232', 'openslide.level[6].tile-height': '1232', 'openslide.level[6].tile-width': '1612', 'openslide.level[6].width': '1612', 'openslide.level[7].downsample': '128', 'openslide.level[7].height': '616', 'openslide.level[7].tile-height': '616', 'openslide.level[7].tile-width': '806', 'openslide.level[7].width': '806', 'openslide.level[8].downsample': '256', 'openslide.level[8].height': '308', 'openslide.level[8].tile-height': '308', 'openslide.level[8].tile-width': '403', 'openslide.level[8].width': '403', 'openslide.level[9].downsample': '512.63681592039802', 'openslide.level[9].height': '154', 'openslide.level[9].tile-height': '154', 'openslide.level[9].tile-width': '201', 'openslide.level[9].width': '201', 'openslide.mpp-x': '0.2288329519450801', 'openslide.mpp-y': '0.2288329519450801', 'openslide.objective-power': '40', 'openslide.quickhash-1': '7ae5965846fca567e6f56ff6abfe8a02ca4102ecfd9b7942985cdd2074dccced', 'openslide.vendor': 'hamamatsu', 'tiff.DateTime': '2017:07:09 03:03:45', 'tiff.Make': 'Hamamatsu', 'tiff.Model': 'C9600-12', 'tiff.ResolutionUnit': 'centimeter', 'tiff.Software': 'NDP.scan 2.5.89', 'tiff.XResolution': '43700', 'tiff.YResolution': '43700'}>\n"
     ]
    }
   ],
   "source": [
    "print(slide.properties)"
   ]
  },
  {
   "cell_type": "code",
   "execution_count": 19,
   "metadata": {},
   "outputs": [
    {
     "name": "stdout",
     "output_type": "stream",
     "text": [
      "11368067\n"
     ]
    }
   ],
   "source": [
    "print(slide.properties['hamamatsu.XOffsetFromSlideCentre']) #nm"
   ]
  },
  {
   "cell_type": "code",
   "execution_count": 20,
   "metadata": {},
   "outputs": [
    {
     "name": "stdout",
     "output_type": "stream",
     "text": [
      "-64040\n"
     ]
    }
   ],
   "source": [
    "print(slide.properties['hamamatsu.YOffsetFromSlideCentre']) #opposite number to Visiopharm"
   ]
  },
  {
   "cell_type": "code",
   "execution_count": 1,
   "metadata": {},
   "outputs": [],
   "source": [
    "import SimpleITK as sitk"
   ]
  },
  {
   "cell_type": "code",
   "execution_count": 5,
   "metadata": {},
   "outputs": [
    {
     "ename": "RuntimeError",
     "evalue": "Exception thrown in SimpleITK ReadImage: C:\\d\\VS14-Win64-pkg\\SimpleITK\\Code\\IO\\src\\sitkImageReaderBase.cxx:107:\nsitk::ERROR: Unable to determine ImageIO reader for \"E:\\deeplearning\\Hepatocarcinomes\\HCC_zeiss_20-03-2019\\HMNT0050.czi\"",
     "output_type": "error",
     "traceback": [
      "\u001b[1;31m---------------------------------------------------------------------------\u001b[0m",
      "\u001b[1;31mRuntimeError\u001b[0m                              Traceback (most recent call last)",
      "\u001b[1;32m<ipython-input-5-21bd7b486bc9>\u001b[0m in \u001b[0;36m<module>\u001b[1;34m\u001b[0m\n\u001b[0;32m      1\u001b[0m \u001b[1;31m#fixedImage = sitk.ReadImage(\"E:\\deeplearning\\Hepatocarcinomes\\slides_annotations_hammamatsu\\HMNT0050 - 2017-07-09 02.59.54.ndpi\")\u001b[0m\u001b[1;33m\u001b[0m\u001b[1;33m\u001b[0m\u001b[1;33m\u001b[0m\u001b[0m\n\u001b[1;32m----> 2\u001b[1;33m \u001b[0mmovingImage\u001b[0m \u001b[1;33m=\u001b[0m \u001b[0msitk\u001b[0m\u001b[1;33m.\u001b[0m\u001b[0mReadImage\u001b[0m\u001b[1;33m(\u001b[0m\u001b[1;34m\"E:\\deeplearning\\Hepatocarcinomes\\HCC_zeiss_20-03-2019\\HMNT0050.czi\"\u001b[0m\u001b[1;33m)\u001b[0m\u001b[1;33m\u001b[0m\u001b[1;33m\u001b[0m\u001b[0m\n\u001b[0m\u001b[0;32m      3\u001b[0m \u001b[1;31m#resultImage = sitk.SimpleElastix(sitk.ReadImage(\"E:\\deeplearning\\Hepatocarcinomes\\slides_annotations_hammamatsu\\HMNT0050 - 2017-07-09 02.59.54.ndpi\"), sitk.ReadImage(\"E:\\deeplearning\\Hepatocarcinomes\\HCC_zeiss_20-03-2019\\HMNT0050.czi\"))\u001b[0m\u001b[1;33m\u001b[0m\u001b[1;33m\u001b[0m\u001b[1;33m\u001b[0m\u001b[0m\n",
      "\u001b[1;32mC:\\Program Files\\Anaconda3\\envs\\r-tensorflow\\lib\\site-packages\\SimpleITK\\SimpleITK.py\u001b[0m in \u001b[0;36mReadImage\u001b[1;34m(*args)\u001b[0m\n\u001b[0;32m   8874\u001b[0m \u001b[1;33m\u001b[0m\u001b[0m\n\u001b[0;32m   8875\u001b[0m     \"\"\"\n\u001b[1;32m-> 8876\u001b[1;33m     \u001b[1;32mreturn\u001b[0m \u001b[0m_SimpleITK\u001b[0m\u001b[1;33m.\u001b[0m\u001b[0mReadImage\u001b[0m\u001b[1;33m(\u001b[0m\u001b[1;33m*\u001b[0m\u001b[0margs\u001b[0m\u001b[1;33m)\u001b[0m\u001b[1;33m\u001b[0m\u001b[1;33m\u001b[0m\u001b[0m\n\u001b[0m\u001b[0;32m   8877\u001b[0m \u001b[1;32mclass\u001b[0m \u001b[0mImageViewer\u001b[0m\u001b[1;33m(\u001b[0m\u001b[0m_object\u001b[0m\u001b[1;33m)\u001b[0m\u001b[1;33m:\u001b[0m\u001b[1;33m\u001b[0m\u001b[1;33m\u001b[0m\u001b[0m\n\u001b[0;32m   8878\u001b[0m     \"\"\"\n",
      "\u001b[1;31mRuntimeError\u001b[0m: Exception thrown in SimpleITK ReadImage: C:\\d\\VS14-Win64-pkg\\SimpleITK\\Code\\IO\\src\\sitkImageReaderBase.cxx:107:\nsitk::ERROR: Unable to determine ImageIO reader for \"E:\\deeplearning\\Hepatocarcinomes\\HCC_zeiss_20-03-2019\\HMNT0050.czi\""
     ]
    }
   ],
   "source": [
    "#fixedImage = sitk.ReadImage(\"E:\\deeplearning\\Hepatocarcinomes\\slides_annotations_hammamatsu\\HMNT0050 - 2017-07-09 02.59.54.ndpi\")\n",
    "movingImage = sitk.ReadImage(\"E:\\deeplearning\\Hepatocarcinomes\\HCC_zeiss_20-03-2019\\HMNT0050.czi\")\n",
    "#resultImage = sitk.SimpleElastix(sitk.ReadImage(\"E:\\deeplearning\\Hepatocarcinomes\\slides_annotations_hammamatsu\\HMNT0050 - 2017-07-09 02.59.54.ndpi\"), sitk.ReadImage(\"E:\\deeplearning\\Hepatocarcinomes\\HCC_zeiss_20-03-2019\\HMNT0050.czi\"))"
   ]
  },
  {
   "cell_type": "code",
   "execution_count": 8,
   "metadata": {},
   "outputs": [
    {
     "ename": "AttributeError",
     "evalue": "'OpenSlide' object has no attribute 'stats'",
     "output_type": "error",
     "traceback": [
      "\u001b[1;31m---------------------------------------------------------------------------\u001b[0m",
      "\u001b[1;31mAttributeError\u001b[0m                            Traceback (most recent call last)",
      "\u001b[1;32m<ipython-input-8-311d4b8a3d37>\u001b[0m in \u001b[0;36m<module>\u001b[1;34m\u001b[0m\n\u001b[1;32m----> 1\u001b[1;33m \u001b[0mslide\u001b[0m\u001b[1;33m.\u001b[0m\u001b[0mstats\u001b[0m\u001b[1;33m(\u001b[0m\u001b[1;33m)\u001b[0m\u001b[1;33m\u001b[0m\u001b[1;33m\u001b[0m\u001b[0m\n\u001b[0m",
      "\u001b[1;31mAttributeError\u001b[0m: 'OpenSlide' object has no attribute 'stats'"
     ]
    }
   ],
   "source": [
    "slide.stats()"
   ]
  },
  {
   "cell_type": "code",
   "execution_count": null,
   "metadata": {},
   "outputs": [],
   "source": []
  }
 ],
 "metadata": {
  "anaconda-cloud": {},
  "kernelspec": {
   "display_name": "Python [conda env:r-tensorflow]",
   "language": "python",
   "name": "conda-env-r-tensorflow-py"
  },
  "language_info": {
   "codemirror_mode": {
    "name": "ipython",
    "version": 3
   },
   "file_extension": ".py",
   "mimetype": "text/x-python",
   "name": "python",
   "nbconvert_exporter": "python",
   "pygments_lexer": "ipython3",
   "version": "3.6.8"
  }
 },
 "nbformat": 4,
 "nbformat_minor": 2
}
