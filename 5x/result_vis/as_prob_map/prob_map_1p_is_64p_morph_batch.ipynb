{
 "cells": [
  {
   "cell_type": "markdown",
   "metadata": {},
   "source": [
    "Morphological post processing. Not used because of bad performance. Not suitable for 1 pixel as 64 pixels. Batch processing."
   ]
  },
  {
   "cell_type": "code",
   "execution_count": 6,
   "metadata": {},
   "outputs": [],
   "source": [
    "import os\n",
    "import cv2\n",
    "import numpy"
   ]
  },
  {
   "cell_type": "code",
   "execution_count": 7,
   "metadata": {},
   "outputs": [],
   "source": [
    "root = 'E:\\\\deeplearning\\\\data\\\\5x\\\\detector\\\\results'"
   ]
  },
  {
   "cell_type": "code",
   "execution_count": 8,
   "metadata": {},
   "outputs": [],
   "source": [
    "def get_slide_name(rootpath): \n",
    "    L=[] \n",
    "    dirs = os.listdir(rootpath)\n",
    "    for dir in dirs:\n",
    "        L.append(dir)\n",
    "    return L"
   ]
  },
  {
   "cell_type": "code",
   "execution_count": 9,
   "metadata": {},
   "outputs": [
    {
     "name": "stdout",
     "output_type": "stream",
     "text": [
      "['HMNT0001', 'HMNT0003_bis']\n"
     ]
    }
   ],
   "source": [
    "if __name__ == '__main__':\n",
    "    slide_names = get_slide_name(root)\n",
    "    for i in range(0):\n",
    "        slide_names.pop(0)\n",
    "    print(slide_names)\n",
    "    \n",
    "    for slide_name in slide_names:\n",
    "        \n",
    "        path = root + '\\\\' + slide_name + '\\\\results'\n",
    "        \n",
    "        img = cv2.imread(path + '\\\\prob_map_tum_8_subtile.tiff', -1) #grayscale\n",
    "        \n",
    "        ret , thresh1 = cv2.threshold(img,210,255,cv2.THRESH_BINARY)\n",
    "        \n",
    "        kernel = numpy.array(((1,1,1),(1,1,1),(1,1,1)), numpy.uint8)\n",
    "        thresh1 = cv2.erode(thresh1,kernel,iterations=1)\n",
    "        thresh1 = cv2.dilate(thresh1,kernel,iterations=1)\n",
    "        thresh1 = cv2.dilate(thresh1,kernel,iterations=1)\n",
    "        thresh1 = cv2.erode(thresh1,kernel,iterations=1)\n",
    "        \n",
    "        cv2.imwrite(root + '\\\\' + slide_name + '\\\\results\\\\prob_map_tum_8_subtile_post.tiff', thresh1)\n",
    "        \n",
    "        del(img)\n",
    "        "
   ]
  },
  {
   "cell_type": "code",
   "execution_count": null,
   "metadata": {},
   "outputs": [],
   "source": []
  }
 ],
 "metadata": {
  "anaconda-cloud": {},
  "kernelspec": {
   "display_name": "Python [conda env:r-tensorflow]",
   "language": "python",
   "name": "conda-env-r-tensorflow-py"
  },
  "language_info": {
   "codemirror_mode": {
    "name": "ipython",
    "version": 3
   },
   "file_extension": ".py",
   "mimetype": "text/x-python",
   "name": "python",
   "nbconvert_exporter": "python",
   "pygments_lexer": "ipython3",
   "version": "3.6.8"
  }
 },
 "nbformat": 4,
 "nbformat_minor": 2
}
