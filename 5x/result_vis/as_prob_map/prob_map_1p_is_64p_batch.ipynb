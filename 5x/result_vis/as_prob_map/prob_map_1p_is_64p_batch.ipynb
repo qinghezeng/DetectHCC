{
 "cells": [
  {
   "cell_type": "markdown",
   "metadata": {},
   "source": [
    "Post processing. Thresholding and blur filters. Batch processing."
   ]
  },
  {
   "cell_type": "code",
   "execution_count": 1,
   "metadata": {},
   "outputs": [],
   "source": [
    "import os\n",
    "from PIL import Image, ImageFilter"
   ]
  },
  {
   "cell_type": "code",
   "execution_count": 2,
   "metadata": {},
   "outputs": [],
   "source": [
    "root = 'E:\\\\deeplearning\\\\data\\\\5x\\\\detector\\\\train'"
   ]
  },
  {
   "cell_type": "code",
   "execution_count": 3,
   "metadata": {},
   "outputs": [],
   "source": [
    "def get_slide_name(rootpath): \n",
    "    L=[] \n",
    "    dirs = os.listdir(rootpath)\n",
    "    for dir in dirs:\n",
    "        L.append(dir)\n",
    "    return L"
   ]
  },
  {
   "cell_type": "code",
   "execution_count": 4,
   "metadata": {},
   "outputs": [
    {
     "name": "stdout",
     "output_type": "stream",
     "text": [
      "['HMNT0001', 'HMNT0003_bis', 'HMNT0004', 'HMNT0023', 'HMNT0024', 'HMNT0025_bis', 'HMNT0050_bis', 'HMNT0053', 'HMNT0055', 'HMNT0057', 'HMNT0060_bis', 'HMNT0061', 'HMNT0062', 'HMNT0064', 'HMNT0066_bis', 'HMNT0067_bis', 'HMNT0068', 'HMNT0070', 'HMNT0071', 'HMNT0072', 'HMNT0073_bis', 'HMNT0074', 'HMNT0075', 'HMNT0076_bis', 'HMNT0077_bis', 'HMNT0082_bis', 'HMNT0088', 'HMNT0090', 'HMNT0091_bis', 'HMNT0096_bis', 'HMNT0097_bis', 'HMNT0098', 'HMNT0099_bis', 'HMNT0100', 'HMNT0101', 'HMNT0102_bis', 'HMNT0104_bis', 'HMNT0106', 'HMNT0107', 'HMNT0109', 'HMNT0110', 'HMNT0111', 'HMNT0113_bis', 'HMNT0114_bis', 'HMNT0115', 'HMNT0116_bis', 'HMNT0117_bis', 'HMNT0118', 'HMNT0119_bis', 'HMNT0120_bis', 'HMNT0121', 'HMNT0122', 'HMNT0123', 'HMNT0124_bis', 'HMNT0125_bis', 'HMNT0126_bis', 'HMNT0127_bis', 'HMNT0128', 'HMNT0129_bis', 'HMNT0130', 'HMNT0131_bis', 'HMNT0132', 'HMNT0133', 'HMNT0134_bis', 'HMNT0135', 'HMNT0136', 'HMNT0137_bis', 'HMNT0144_bis', 'HMNT0145', 'HMNT0146_bis', 'HMNT0147', 'HMNT0148_bis', 'HMNT0149', 'HMNT0150_bis', 'HMNT0151_bis', 'HMNT0152', 'HMNT0153', 'HMNT0154', 'HMNT0155_bis', 'HMNT0156', 'HMNT0157_bis', 'HMNT0158', 'HMNT0161', 'HMNT0162', 'HMNT0167_bis', 'HMNT0168', 'HMNT0169_bis', 'HMNT0170', 'HMNT0171_bis', 'HMNT0172_bis', 'HMNT0173_bis', 'HMNT0174_bis', 'HMNT0179', 'HMNT0180_bis', 'HMNT0181_bis', 'HMNT0182_bis', 'HMNT0183', 'HMNT0184_bis', 'HMNT0185', 'HMNT0186_bis', 'HMNT0187', 'HMNT0188_bis', 'HMNT0191', 'HMNT0192', 'HMNT0193_bis', 'HMNT0196', 'HMNT0197', 'HMNT0198', 'HMNT0199', 'HMNT0201_bis', 'HMNT0203', 'HMNT0206', 'HMNT0207', 'HMNT0209', 'HMNT0210_bis', 'HMNT0211_bis', 'HMNT0212_bis', 'HMNT0219', 'HMNT0224', 'HMNT0225', 'HMNT0232', 'HMNT0234', 'HMNT0241', 'HMNT0242_bis', 'HMNT0245', 'HMNT0247', 'HMNT0248_bis', 'HMNT0249_bis', 'HMNT0253', 'HMNT0261', 'HMNT0263_bis', 'HMNT0264_bis', 'HMNT0269_bis', 'HMNT0270', 'HMNT0272', 'HMNT0278_bis', 'HMNT0279_bis', 'HMNT0280', 'HMNT0282', 'HMNT0283_bis', 'HMNT0309_bis', 'HMNT0312', 'HMNT0314_bis', 'HMNT0315_bis', 'HMNT0316_bis', 'HMNT0321_bis', 'HMNT0332', 'HMNT0334', 'HMNT0336_bis', 'HMNT0337']\n"
     ]
    },
    {
     "ename": "NameError",
     "evalue": "name 'img_post' is not defined",
     "output_type": "error",
     "traceback": [
      "\u001b[1;31m---------------------------------------------------------------------------\u001b[0m",
      "\u001b[1;31mNameError\u001b[0m                                 Traceback (most recent call last)",
      "\u001b[1;32m<ipython-input-4-799a87a2531a>\u001b[0m in \u001b[0;36m<module>\u001b[1;34m\u001b[0m\n\u001b[0;32m     14\u001b[0m \u001b[1;33m\u001b[0m\u001b[0m\n\u001b[0;32m     15\u001b[0m         \u001b[0mthreshold\u001b[0m \u001b[1;33m=\u001b[0m \u001b[1;36m180\u001b[0m\u001b[1;33m\u001b[0m\u001b[1;33m\u001b[0m\u001b[0m\n\u001b[1;32m---> 16\u001b[1;33m         \u001b[0mimg_post\u001b[0m \u001b[1;33m=\u001b[0m \u001b[0mimg_post\u001b[0m\u001b[1;33m.\u001b[0m\u001b[0mpoint\u001b[0m\u001b[1;33m(\u001b[0m\u001b[1;32mlambda\u001b[0m \u001b[0mp\u001b[0m\u001b[1;33m:\u001b[0m \u001b[0mp\u001b[0m \u001b[1;33m>\u001b[0m \u001b[0mthreshold\u001b[0m \u001b[1;32mand\u001b[0m \u001b[1;36m255\u001b[0m\u001b[1;33m)\u001b[0m\u001b[1;33m\u001b[0m\u001b[1;33m\u001b[0m\u001b[0m\n\u001b[0m\u001b[0;32m     17\u001b[0m \u001b[1;33m\u001b[0m\u001b[0m\n\u001b[0;32m     18\u001b[0m         \u001b[0mimg_post\u001b[0m \u001b[1;33m=\u001b[0m \u001b[0mimg\u001b[0m\u001b[1;33m.\u001b[0m\u001b[0mfilter\u001b[0m\u001b[1;33m(\u001b[0m\u001b[0mImageFilter\u001b[0m\u001b[1;33m.\u001b[0m\u001b[0mGaussianBlur\u001b[0m\u001b[1;33m(\u001b[0m\u001b[0mradius\u001b[0m\u001b[1;33m=\u001b[0m\u001b[1;36m0.2\u001b[0m\u001b[1;33m)\u001b[0m\u001b[1;33m)\u001b[0m\u001b[1;33m\u001b[0m\u001b[1;33m\u001b[0m\u001b[0m\n",
      "\u001b[1;31mNameError\u001b[0m: name 'img_post' is not defined"
     ]
    }
   ],
   "source": [
    "if __name__ == '__main__':\n",
    "    slide_names = get_slide_name(root)\n",
    "    for i in range(0):\n",
    "        slide_names.pop(0)\n",
    "    print(slide_names)\n",
    "    \n",
    "    for slide_name in slide_names:\n",
    "        \n",
    "        path = root + '\\\\' + slide_name + '\\\\results'\n",
    "        \n",
    "        img = cv2.imread(path + '\\\\prob_map_tum_8_subtile.tiff', -1)\n",
    "        \n",
    "#         img_post = img.filter(ImageFilter.SHARPEN)\n",
    "\n",
    "        threshold = 180 \n",
    "        img_post = img_post.point(lambda p: p > threshold and 255)\n",
    "        \n",
    "        img_post = img.filter(ImageFilter.GaussianBlur(radius=0.2))\n",
    "        \n",
    "        threshold = 150\n",
    "        img_post = img_post.point(lambda p: p > threshold and 255) \n",
    "        \n",
    "#         print(img_post.size)\n",
    "#         img_post = img_post.resize((img.size[0]*64, img.size[1]*64),  resample=Image.NEAREST)\n",
    "    \n",
    "#         img_post = img_post.filter(ImageFilter.MedianFilter(size=3))\n",
    "#         threshold = 20 \n",
    "#         img_post = img_post.point(lambda p: p > threshold and 255) \n",
    "\n",
    "#         img_post = img_post.filter(ImageFilter.MinFilter(21))\n",
    "#         img_post = img_post.filter(ImageFilter.MaxFilter(21))\n",
    "        \n",
    "        \n",
    "        img_post.save(root + '\\\\' + slide_name + '\\\\results\\\\prob_map_tum_8_subtile_post.tiff')\n",
    "        \n",
    "        del(img)\n",
    "        "
   ]
  },
  {
   "cell_type": "code",
   "execution_count": null,
   "metadata": {},
   "outputs": [],
   "source": []
  },
  {
   "cell_type": "code",
   "execution_count": null,
   "metadata": {},
   "outputs": [],
   "source": []
  },
  {
   "cell_type": "code",
   "execution_count": null,
   "metadata": {},
   "outputs": [],
   "source": []
  }
 ],
 "metadata": {
  "anaconda-cloud": {},
  "kernelspec": {
   "display_name": "Python [conda env:r-tensorflow]",
   "language": "python",
   "name": "conda-env-r-tensorflow-py"
  },
  "language_info": {
   "codemirror_mode": {
    "name": "ipython",
    "version": 3
   },
   "file_extension": ".py",
   "mimetype": "text/x-python",
   "name": "python",
   "nbconvert_exporter": "python",
   "pygments_lexer": "ipython3",
   "version": "3.6.8"
  }
 },
 "nbformat": 4,
 "nbformat_minor": 2
}
