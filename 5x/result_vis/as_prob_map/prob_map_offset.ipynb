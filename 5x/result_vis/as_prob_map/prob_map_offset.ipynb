{
 "cells": [
  {
   "cell_type": "code",
   "execution_count": 1,
   "metadata": {},
   "outputs": [],
   "source": [
    "from PIL import Image"
   ]
  },
  {
   "cell_type": "code",
   "execution_count": 25,
   "metadata": {},
   "outputs": [],
   "source": [
    "img = Image.open('E:\\\\deeplearning\\\\data\\\\5x\\\\detector\\\\results\\\\HMNT0001\\\\results\\\\prob_map_tum_8_subtile.tiff')"
   ]
  },
  {
   "cell_type": "code",
   "execution_count": 26,
   "metadata": {},
   "outputs": [
    {
     "name": "stdout",
     "output_type": "stream",
     "text": [
      "(240, 168)\n"
     ]
    }
   ],
   "source": [
    "print(img.size)"
   ]
  },
  {
   "cell_type": "code",
   "execution_count": 33,
   "metadata": {},
   "outputs": [],
   "source": [
    "# img_offset = Image.new('L', (271,226)) #HMNT0003_bis\n",
    "img_offset = Image.new('L', (440,169))"
   ]
  },
  {
   "cell_type": "code",
   "execution_count": 34,
   "metadata": {},
   "outputs": [],
   "source": [
    "# img_offset.paste(img, (0,25,208,225)) #HMNT0003_bis\n",
    "img_offset.paste(img, (199,0,439,168))"
   ]
  },
  {
   "cell_type": "code",
   "execution_count": 35,
   "metadata": {},
   "outputs": [],
   "source": [
    "# img_offset.save('E:\\\\deeplearning\\\\data\\\\5x\\\\detector\\\\results\\\\HMNT0003_bis\\\\results\\\\prob_map_tum_8_subtile_offset.tiff', dpi=(217.35, 218.05))\n",
    "img_offset.save('E:\\\\deeplearning\\\\data\\\\5x\\\\detector\\\\results\\\\HMNT0001\\\\results\\\\prob_map_tum_8_subtile_offset.tiff', dpi=(216.79296875, 216.792978671875))"
   ]
  },
  {
   "cell_type": "code",
   "execution_count": null,
   "metadata": {},
   "outputs": [],
   "source": []
  },
  {
   "cell_type": "code",
   "execution_count": null,
   "metadata": {},
   "outputs": [],
   "source": []
  },
  {
   "cell_type": "code",
   "execution_count": null,
   "metadata": {},
   "outputs": [],
   "source": []
  }
 ],
 "metadata": {
  "anaconda-cloud": {},
  "kernelspec": {
   "display_name": "Python [conda env:r-tensorflow]",
   "language": "python",
   "name": "conda-env-r-tensorflow-py"
  },
  "language_info": {
   "codemirror_mode": {
    "name": "ipython",
    "version": 3
   },
   "file_extension": ".py",
   "mimetype": "text/x-python",
   "name": "python",
   "nbconvert_exporter": "python",
   "pygments_lexer": "ipython3",
   "version": "3.6.8"
  }
 },
 "nbformat": 4,
 "nbformat_minor": 2
}
