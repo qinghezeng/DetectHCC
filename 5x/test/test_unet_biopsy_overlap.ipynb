{
 "cells": [
  {
   "cell_type": "markdown",
   "metadata": {},
   "source": [
    "## Test trained U-Net\n",
    "#### Use HCC-trained U-Net on biopsies"
   ]
  },
  {
   "cell_type": "code",
   "execution_count": 1,
   "metadata": {},
   "outputs": [
    {
     "name": "stderr",
     "output_type": "stream",
     "text": [
      "Using TensorFlow backend.\n"
     ]
    }
   ],
   "source": [
    "import os\n",
    "from random import sample, seed\n",
    "import cv2\n",
    "import numpy as np\n",
    "from keras.models import load_model\n",
    "import csv"
   ]
  },
  {
   "cell_type": "code",
   "execution_count": 2,
   "metadata": {},
   "outputs": [],
   "source": [
    "slide_name=\"R10_004_1- 2017-08-25\""
   ]
  },
  {
   "cell_type": "code",
   "execution_count": 3,
   "metadata": {},
   "outputs": [],
   "source": [
    "path=\"E:\\\\deeplearning\\\\Hepatocarcinomes\\\\data\\\\5x\\\\biopsy_HCC\"\n",
    "path1=path+'\\\\'+slide_name\n",
    "path=path1+\"\\\\512_image_label\"\n",
    "path2=path1+\"\\\\results\""
   ]
  },
  {
   "cell_type": "code",
   "execution_count": 4,
   "metadata": {},
   "outputs": [],
   "source": [
    "limg = []\n",
    "for root, dirs, files in os.walk(path):\n",
    "    for f in files:\n",
    "        if f.endswith('.tif'):\n",
    "            limg.append(root + '\\\\' + f)"
   ]
  },
  {
   "cell_type": "code",
   "execution_count": 5,
   "metadata": {},
   "outputs": [],
   "source": [
    "img = np.ndarray((len(limg)*64, 192, 192))"
   ]
  },
  {
   "cell_type": "code",
   "execution_count": 6,
   "metadata": {},
   "outputs": [],
   "source": [
    "for i in range(len(limg)):\n",
    "    image = cv2.imread(limg[i], 0)/255\n",
    "    reflect = cv2.copyMakeBorder(image,64,64,64,64,cv2.BORDER_REFLECT)\n",
    "    for j in range(8):\n",
    "        for k in range(8):\n",
    "            img[i*64+j*8+k,:,:] = reflect[k*64:k*64+192,j*64:j*64+192]"
   ]
  },
  {
   "cell_type": "code",
   "execution_count": 7,
   "metadata": {},
   "outputs": [],
   "source": [
    "model = load_model('E:\\\\deeplearning\\\\Hepatocarcinomes\\\\models\\\\5x\\\\unet\\\\2_best_model.hdf5')"
   ]
  },
  {
   "cell_type": "code",
   "execution_count": 8,
   "metadata": {},
   "outputs": [
    {
     "name": "stdout",
     "output_type": "stream",
     "text": [
      "__________________________________________________________________________________________________\n",
      "Layer (type)                    Output Shape         Param #     Connected to                     \n",
      "==================================================================================================\n",
      "input_1 (InputLayer)            (None, 256, 256, 1)  0                                            \n",
      "__________________________________________________________________________________________________\n",
      "conv2d_1 (Conv2D)               (None, 256, 256, 64) 640         input_1[0][0]                    \n",
      "__________________________________________________________________________________________________\n",
      "conv2d_2 (Conv2D)               (None, 256, 256, 64) 36928       conv2d_1[0][0]                   \n",
      "__________________________________________________________________________________________________\n",
      "max_pooling2d_1 (MaxPooling2D)  (None, 128, 128, 64) 0           conv2d_2[0][0]                   \n",
      "__________________________________________________________________________________________________\n",
      "conv2d_3 (Conv2D)               (None, 128, 128, 128 73856       max_pooling2d_1[0][0]            \n",
      "__________________________________________________________________________________________________\n",
      "conv2d_4 (Conv2D)               (None, 128, 128, 128 147584      conv2d_3[0][0]                   \n",
      "__________________________________________________________________________________________________\n",
      "max_pooling2d_2 (MaxPooling2D)  (None, 64, 64, 128)  0           conv2d_4[0][0]                   \n",
      "__________________________________________________________________________________________________\n",
      "conv2d_5 (Conv2D)               (None, 64, 64, 256)  295168      max_pooling2d_2[0][0]            \n",
      "__________________________________________________________________________________________________\n",
      "conv2d_6 (Conv2D)               (None, 64, 64, 256)  590080      conv2d_5[0][0]                   \n",
      "__________________________________________________________________________________________________\n",
      "max_pooling2d_3 (MaxPooling2D)  (None, 32, 32, 256)  0           conv2d_6[0][0]                   \n",
      "__________________________________________________________________________________________________\n",
      "conv2d_7 (Conv2D)               (None, 32, 32, 512)  1180160     max_pooling2d_3[0][0]            \n",
      "__________________________________________________________________________________________________\n",
      "conv2d_8 (Conv2D)               (None, 32, 32, 512)  2359808     conv2d_7[0][0]                   \n",
      "__________________________________________________________________________________________________\n",
      "max_pooling2d_4 (MaxPooling2D)  (None, 16, 16, 512)  0           conv2d_8[0][0]                   \n",
      "__________________________________________________________________________________________________\n",
      "conv2d_9 (Conv2D)               (None, 16, 16, 1024) 4719616     max_pooling2d_4[0][0]            \n",
      "__________________________________________________________________________________________________\n",
      "dropout_1 (Dropout)             (None, 16, 16, 1024) 0           conv2d_9[0][0]                   \n",
      "__________________________________________________________________________________________________\n",
      "conv2d_10 (Conv2D)              (None, 16, 16, 1024) 9438208     dropout_1[0][0]                  \n",
      "__________________________________________________________________________________________________\n",
      "up_sampling2d_1 (UpSampling2D)  (None, 32, 32, 1024) 0           conv2d_10[0][0]                  \n",
      "__________________________________________________________________________________________________\n",
      "conv2d_11 (Conv2D)              (None, 32, 32, 512)  2097664     up_sampling2d_1[0][0]            \n",
      "__________________________________________________________________________________________________\n",
      "concatenate_1 (Concatenate)     (None, 32, 32, 1024) 0           conv2d_8[0][0]                   \n",
      "                                                                 conv2d_11[0][0]                  \n",
      "__________________________________________________________________________________________________\n",
      "conv2d_12 (Conv2D)              (None, 32, 32, 512)  4719104     concatenate_1[0][0]              \n",
      "__________________________________________________________________________________________________\n",
      "conv2d_13 (Conv2D)              (None, 32, 32, 512)  2359808     conv2d_12[0][0]                  \n",
      "__________________________________________________________________________________________________\n",
      "up_sampling2d_2 (UpSampling2D)  (None, 64, 64, 512)  0           conv2d_13[0][0]                  \n",
      "__________________________________________________________________________________________________\n",
      "conv2d_14 (Conv2D)              (None, 64, 64, 256)  524544      up_sampling2d_2[0][0]            \n",
      "__________________________________________________________________________________________________\n",
      "concatenate_2 (Concatenate)     (None, 64, 64, 512)  0           conv2d_6[0][0]                   \n",
      "                                                                 conv2d_14[0][0]                  \n",
      "__________________________________________________________________________________________________\n",
      "conv2d_15 (Conv2D)              (None, 64, 64, 256)  1179904     concatenate_2[0][0]              \n",
      "__________________________________________________________________________________________________\n",
      "conv2d_16 (Conv2D)              (None, 64, 64, 256)  590080      conv2d_15[0][0]                  \n",
      "__________________________________________________________________________________________________\n",
      "up_sampling2d_3 (UpSampling2D)  (None, 128, 128, 256 0           conv2d_16[0][0]                  \n",
      "__________________________________________________________________________________________________\n",
      "conv2d_17 (Conv2D)              (None, 128, 128, 128 131200      up_sampling2d_3[0][0]            \n",
      "__________________________________________________________________________________________________\n",
      "concatenate_3 (Concatenate)     (None, 128, 128, 256 0           conv2d_4[0][0]                   \n",
      "                                                                 conv2d_17[0][0]                  \n",
      "__________________________________________________________________________________________________\n",
      "conv2d_18 (Conv2D)              (None, 128, 128, 128 295040      concatenate_3[0][0]              \n",
      "__________________________________________________________________________________________________\n",
      "conv2d_19 (Conv2D)              (None, 128, 128, 128 147584      conv2d_18[0][0]                  \n",
      "__________________________________________________________________________________________________\n",
      "up_sampling2d_4 (UpSampling2D)  (None, 256, 256, 128 0           conv2d_19[0][0]                  \n",
      "__________________________________________________________________________________________________\n",
      "conv2d_20 (Conv2D)              (None, 256, 256, 64) 32832       up_sampling2d_4[0][0]            \n",
      "__________________________________________________________________________________________________\n",
      "concatenate_4 (Concatenate)     (None, 256, 256, 128 0           conv2d_2[0][0]                   \n",
      "                                                                 conv2d_20[0][0]                  \n",
      "__________________________________________________________________________________________________\n",
      "conv2d_21 (Conv2D)              (None, 256, 256, 64) 73792       concatenate_4[0][0]              \n",
      "__________________________________________________________________________________________________\n",
      "conv2d_22 (Conv2D)              (None, 256, 256, 64) 36928       conv2d_21[0][0]                  \n",
      "__________________________________________________________________________________________________\n",
      "conv2d_23 (Conv2D)              (None, 256, 256, 1)  65          conv2d_22[0][0]                  \n",
      "==================================================================================================\n",
      "Total params: 31,030,593\n",
      "Trainable params: 31,030,593\n",
      "Non-trainable params: 0\n",
      "__________________________________________________________________________________________________\n"
     ]
    }
   ],
   "source": [
    "model.summary()"
   ]
  },
  {
   "cell_type": "code",
   "execution_count": 9,
   "metadata": {
    "scrolled": true
   },
   "outputs": [
    {
     "name": "stdout",
     "output_type": "stream",
     "text": [
      "33600/33600 [==============================] - 884s 26ms/step\n"
     ]
    }
   ],
   "source": [
    "def testGenerator(img,target_size = (256,256),flag_multi_class = False):\n",
    "    for i in range(img.shape[0]):\n",
    "        image = cv2.resize(img[i],target_size) #resize function only support float image\n",
    "#         print(img.shape)\n",
    "        image = np.reshape(image,image.shape+(1,)) if (not flag_multi_class) else image\n",
    "        image = np.reshape(image,(1,)+image.shape)\n",
    "#         print(img.shape)\n",
    "        yield image\n",
    "    \n",
    "preds = model.predict_generator(testGenerator(img),img.shape[0],verbose=1)"
   ]
  },
  {
   "cell_type": "code",
   "execution_count": 10,
   "metadata": {},
   "outputs": [],
   "source": [
    "# with open(path2+'\\\\vgg_dense_bn_prob.csv', 'w', newline='') as csvfile:\n",
    "#     writer = csv.writer(csvfile, delimiter=',')\n",
    "#     writer.writerow(['tum','nor'])\n",
    "#     writer.writerows(preds)\n",
    "#     for l in preds:\n",
    "#         writer.writerow(l)"
   ]
  },
  {
   "cell_type": "code",
   "execution_count": 16,
   "metadata": {},
   "outputs": [],
   "source": [
    "mask = np.ndarray((512, 512))\n",
    "for i,item in enumerate(preds):\n",
    "    res = item[:,:,0]\n",
    "    large = cv2.resize(res, (192, 192))\n",
    "    mask[i%64%8*64:(i%64%8+1)*64,i%64//8*64:(i%64//8+1)*64] = large[64:128,64:128]\n",
    "    if (i%64 == 63):\n",
    "        n = str(len(os.listdir(path2+'\\\\label_overlap')))\n",
    "        cv2.imwrite(path2+'\\\\label_overlap\\\\'+n.zfill(5)+'.tiff',mask*255)"
   ]
  },
  {
   "cell_type": "code",
   "execution_count": 12,
   "metadata": {},
   "outputs": [],
   "source": [
    "# fpr, tpr, thresholds  =  roc_curve(y_test, preds[:,0])\n",
    "# roc_auc = auc(fpr, tpr)\n",
    "# # worse example (use the line y=1-x)\n",
    "# # for i in range(len(fpr)):\n",
    "# #     if fpr[i] + tpr[i] >= 1:\n",
    "# #         i = i -1\n",
    "# #         break\n",
    "\n",
    "# # Normally, we use Youden's J statistic.\n",
    "# i = np.argmax(tpr - fpr)\n",
    "\n",
    "# # plt.plot(fpr,tpr) to draw. 'roc_auc' records the value of auc, which can be calculated by the auc() function.\n",
    "# plt.plot(fpr, tpr, lw=1, label='auc = %0.3f, tpr = %0.3f, tnr = %0.3f, thres = %0.3f' % ( roc_auc, tpr[i], 1-fpr[i], thresholds[i]))\n",
    "# # Draw diagonal\n",
    "# plt.plot([0, 1], [0, 1], '--', color=(0.6, 0.6, 0.6))\n",
    "# # Draw perfect preformance\n",
    "# # plt.plot([0, 0, 1], [0, 1, 1],\n",
    "# #          linestyle = ':',\n",
    "# #          color = 'black')\n",
    "\n",
    "# plt.xlim([-0.05, 1.05])\n",
    "# plt.ylim([-0.05, 1.05])\n",
    "# plt.xlabel('False Positive Rate (1 - Specificity)')\n",
    "# plt.ylabel('True Positive Rate (Sensitivity)')\n",
    "# plt.title('ROC curve of zeiss test set')\n",
    "# plt.legend(loc=\"lower right\")\n",
    "# #     plt.show()\n",
    "# plt.savefig(path2 + '//ROC.jpg')\n",
    "# plt. close() "
   ]
  },
  {
   "cell_type": "code",
   "execution_count": 13,
   "metadata": {},
   "outputs": [],
   "source": [
    "# post = np.ndarray((512, 512),dtype='uint')\n",
    "# for i,item in enumerate(preds):\n",
    "#     res = item[:,:,0]\n",
    "#     post[i%64%8*64:(i%64%8+1)*64,i%64//8*64:(i%64//8+1)*64] = cv2.resize(res, (64, 64))\n",
    "#     if (i%64 == 63):\n",
    "#         n = str(len(os.listdir(path2+'\\\\post')))\n",
    "#         blur = cv2.GaussianBlur(post,(5,5),0)*255\n",
    "# #         ret,post = cv2.threshold(blur,100,255,cv2.THRESH_TOZERO)\n",
    "#         for i in range(512):\n",
    "#             for j in range(512):\n",
    "#                 f = lambda x: 1 if x<=100 else 2 if x<=200 else 3\n",
    "#                 blur[i, j] = f(blur[i, j])\n",
    "#         cv2.imwrite(path2+'\\\\post\\\\'+n.zfill(5)+'.tiff',blur)"
   ]
  },
  {
   "cell_type": "code",
   "execution_count": 15,
   "metadata": {},
   "outputs": [
    {
     "data": {
      "text/plain": [
       "'E:\\\\deeplearning\\\\Hepatocarcinomes\\\\data\\\\5x\\\\biopsy_HCC\\\\R10_004_1- 2017-08-25\\\\results'"
      ]
     },
     "execution_count": 15,
     "metadata": {},
     "output_type": "execute_result"
    }
   ],
   "source": [
    "path2\n"
   ]
  },
  {
   "cell_type": "code",
   "execution_count": null,
   "metadata": {},
   "outputs": [],
   "source": []
  }
 ],
 "metadata": {
  "anaconda-cloud": {},
  "kernelspec": {
   "display_name": "Python [conda env:r-tensorflow]",
   "language": "python",
   "name": "conda-env-r-tensorflow-py"
  },
  "language_info": {
   "codemirror_mode": {
    "name": "ipython",
    "version": 3
   },
   "file_extension": ".py",
   "mimetype": "text/x-python",
   "name": "python",
   "nbconvert_exporter": "python",
   "pygments_lexer": "ipython3",
   "version": "3.6.8"
  }
 },
 "nbformat": 4,
 "nbformat_minor": 2
}
