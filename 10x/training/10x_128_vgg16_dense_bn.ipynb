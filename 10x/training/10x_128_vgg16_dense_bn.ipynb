{
 "cells": [
  {
   "cell_type": "code",
   "execution_count": 1,
   "metadata": {},
   "outputs": [
    {
     "name": "stderr",
     "output_type": "stream",
     "text": [
      "Using TensorFlow backend.\n"
     ]
    }
   ],
   "source": [
    "from glob import glob\n",
    "import os\n",
    "from random import seed, sample\n",
    "import numpy as np\n",
    "import cv2\n",
    "from sklearn.model_selection import train_test_split\n",
    "from keras.utils import to_categorical\n",
    "from keras.applications.vgg16 import VGG16\n",
    "from keras import layers, models\n",
    "from keras.optimizers import SGD, Adam\n",
    "from keras. callbacks import CSVLogger, ModelCheckpoint, EarlyStopping, ReduceLROnPlateau\n",
    "from matplotlib import pyplot as plt"
   ]
  },
  {
   "cell_type": "code",
   "execution_count": 2,
   "metadata": {},
   "outputs": [],
   "source": [
    "batch_size = 128\n",
    "epochs = 120\n",
    "amount = 100000"
   ]
  },
  {
   "cell_type": "code",
   "execution_count": 3,
   "metadata": {},
   "outputs": [],
   "source": [
    "path1 = 'E:\\\\deeplearning\\\\Hepatocarcinomes\\\\models\\\\10x\\\\vgg16_dense_bn'\n",
    "path = 'E:\\\\deeplearning\\\\Hepatocarcinomes\\\\data\\\\10x\\\\training\\\\split128_image'"
   ]
  },
  {
   "cell_type": "code",
   "execution_count": 4,
   "metadata": {},
   "outputs": [],
   "source": [
    "base_model = VGG16(include_top=False, weights='imagenet', input_tensor=None, input_shape=(128,128,3), pooling=None)"
   ]
  },
  {
   "cell_type": "code",
   "execution_count": 5,
   "metadata": {},
   "outputs": [],
   "source": [
    "x = base_model.output\n",
    "x = layers.Flatten()(x)\n",
    "x = layers.Dense(4096, use_bias=False)(x)\n",
    "x = layers.BatchNormalization()(x)\n",
    "x = layers.Activation('relu')(x)\n",
    "x = layers.Dropout(0.5)(x)\n",
    "x = layers.Dense(512, use_bias=False)(x)\n",
    "x = layers.BatchNormalization()(x)\n",
    "x = layers.Activation('relu')(x)\n",
    "x = layers.Dropout(0.5)(x)\n",
    "predictions = layers.Dense(2, activation = 'softmax')(x)"
   ]
  },
  {
   "cell_type": "code",
   "execution_count": 6,
   "metadata": {},
   "outputs": [
    {
     "name": "stderr",
     "output_type": "stream",
     "text": [
      "C:\\Program Files\\Anaconda3\\envs\\r-tensorflow\\lib\\site-packages\\ipykernel\\__main__.py:1: UserWarning: Update your `Model` call to the Keras 2 API: `Model(inputs=Tensor(\"in..., outputs=Tensor(\"de...)`\n",
      "  if __name__ == '__main__':\n"
     ]
    }
   ],
   "source": [
    "model = models.Model(input=base_model.input, output=predictions)"
   ]
  },
  {
   "cell_type": "code",
   "execution_count": 7,
   "metadata": {},
   "outputs": [],
   "source": [
    "# model.summary()"
   ]
  },
  {
   "cell_type": "code",
   "execution_count": 8,
   "metadata": {},
   "outputs": [],
   "source": [
    "# model.compile(optimizer = SGD(lr = 1e-2, decay=0.001, momentum=0.9), loss = 'categorical_crossentropy', metrics = ['accuracy'])"
   ]
  },
  {
   "cell_type": "code",
   "execution_count": 9,
   "metadata": {},
   "outputs": [],
   "source": [
    "model.compile(optimizer = Adam(lr = 1e-3), loss = 'categorical_crossentropy', metrics = ['accuracy'])"
   ]
  },
  {
   "cell_type": "code",
   "execution_count": 10,
   "metadata": {},
   "outputs": [
    {
     "name": "stdout",
     "output_type": "stream",
     "text": [
      "189505 142098\n"
     ]
    }
   ],
   "source": [
    "glob_tum_imgs = os.path.join(path, 'neg_tum_5k\\\\*\\\\*.tif')\n",
    "glob_nor_imgs = os.path.join(path, 'pos_nor_5k\\\\*\\\\*.tif')\n",
    "\n",
    "train_tum_paths = glob(glob_tum_imgs)\n",
    "train_nor_paths = glob(glob_nor_imgs)\n",
    "print(len(train_tum_paths), len(train_nor_paths))\n",
    "\n",
    "seed(1)\n",
    "train_tum_paths = sample(train_tum_paths, amount)\n",
    "train_nor_paths = sample(train_nor_paths, amount)\n",
    "# print(len(train_tum_paths), len(train_nor_paths))\n",
    "\n",
    "# Split the data into a train and validation set\n",
    "train_tum_paths, val_tum_paths = train_test_split(train_tum_paths, test_size=0.2)\n",
    "train_nor_paths, val_nor_paths = train_test_split(train_nor_paths, test_size=0.2)\n",
    "\n",
    "train_paths = train_nor_paths + train_tum_paths \n",
    "val_paths = val_nor_paths + val_tum_paths\n",
    "\n",
    "np.random.seed(1)\n",
    "np.random.shuffle(train_paths)\n",
    "np.random.shuffle(val_paths)\n",
    "# print(val_paths[:10])"
   ]
  },
  {
   "cell_type": "code",
   "execution_count": 11,
   "metadata": {},
   "outputs": [],
   "source": [
    "y_train = np.vstack((np.ones(int(amount*0.8), np.float32), np.zeros(int(amount*0.8), np.float32))) #pos is 0\n",
    "y_val = np.vstack((np.ones(int(amount*0.2), np.float32), np.zeros(int(amount*0.2), np.float32)))\n",
    "\n",
    "y_train = y_train.reshape(-1,1)\n",
    "y_val = y_val.reshape(-1,1)\n",
    "\n",
    "np.random.seed(1) \n",
    "np.random.shuffle(y_train)\n",
    "np.random.shuffle(y_val)\n",
    "\n",
    "y_train = to_categorical(y_train, 2)\n",
    "y_val = to_categorical(y_val, 2)\n",
    "\n",
    "# print(y_val[:10])"
   ]
  },
  {
   "cell_type": "code",
   "execution_count": 12,
   "metadata": {},
   "outputs": [],
   "source": [
    "# Write it like a normal function\n",
    "def image_gen(img_paths, y, img_size=(128, 128)):\n",
    "    # Iterate over all the image paths\n",
    "    for i in range(len(img_paths)):\n",
    "        \n",
    "        # Load the image and mask, and normalize it to 0-1 range\n",
    "        img = cv2.cvtColor(cv2.imread(img_paths[i], -1), cv2.COLOR_BGR2RGB)/255\n",
    "        label = y[i]\n",
    "        \n",
    "        # Yield the image mask pair\n",
    "        yield img, label\n",
    "        \n",
    "# Keras takes its input in batches \n",
    "# (i.e. a batch size of 32 would correspond to 32 images and 32 masks from the generator)\n",
    "# The generator should run forever\n",
    "def image_batch_generator(img_paths, y, batchsize=32):\n",
    "    while True:\n",
    "        ig = image_gen(img_paths, y)\n",
    "        batch_img, batch_label = [], []\n",
    "        \n",
    "        for img, label in ig:\n",
    "            # Add the image and label to the batch\n",
    "            batch_img.append(img)\n",
    "            batch_label.append(label)\n",
    "            # If we've reached our batchsize, yield the batch and reset\n",
    "            if len(batch_img) == batchsize:\n",
    "                yield np.stack(batch_img, axis=0), np.stack(batch_label, axis=0)\n",
    "                batch_img, batch_label = [], []\n",
    "        \n",
    "        # If we have an nonempty batch left, yield it out and reset\n",
    "        if len(batch_img) != 0:\n",
    "            yield np.stack(batch_img, axis=0), np.stack(batch_label, axis=0)\n",
    "            batch_img, batch_label = [], []    \n",
    "            \n",
    "# Create the train and validation generators\n",
    "traingen = image_batch_generator(train_paths, y_train, batchsize=batch_size)\n",
    "valgen = image_batch_generator(val_paths, y_val, batchsize=batch_size)"
   ]
  },
  {
   "cell_type": "code",
   "execution_count": 13,
   "metadata": {},
   "outputs": [
    {
     "name": "stdout",
     "output_type": "stream",
     "text": [
      "1250\n"
     ]
    }
   ],
   "source": [
    "print(int(amount*1.6)//128)"
   ]
  },
  {
   "cell_type": "code",
   "execution_count": 14,
   "metadata": {},
   "outputs": [
    {
     "name": "stdout",
     "output_type": "stream",
     "text": [
      "1250.0\n",
      "312.5\n",
      "Epoch 1/100\n",
      "1250/1250 [==============================] - 807s 645ms/step - loss: 0.4053 - acc: 0.8228 - val_loss: 0.5634 - val_acc: 0.7872\n",
      "Epoch 2/100\n",
      "1250/1250 [==============================] - 746s 597ms/step - loss: 0.2774 - acc: 0.8916 - val_loss: 0.5606 - val_acc: 0.8102\n",
      "Epoch 3/100\n",
      "1250/1250 [==============================] - 748s 598ms/step - loss: 0.2320 - acc: 0.9125 - val_loss: 0.6017 - val_acc: 0.8039\n",
      "\n",
      "Epoch 00003: val_loss improved from inf to 0.60167, saving model to E:\\deeplearning\\Hepatocarcinomes\\models\\10x\\vgg16_dense_bn\\adam_64_lr3_weights.03-0.8039.hdf5\n",
      "Epoch 4/100\n",
      "1250/1250 [==============================] - 757s 606ms/step - loss: 0.2021 - acc: 0.9242 - val_loss: 0.2640 - val_acc: 0.9017\n",
      "Epoch 5/100\n",
      "1250/1250 [==============================] - 753s 602ms/step - loss: 0.1828 - acc: 0.9327 - val_loss: 0.2081 - val_acc: 0.9227\n",
      "Epoch 6/100\n",
      "1250/1250 [==============================] - 747s 598ms/step - loss: 0.1648 - acc: 0.9405 - val_loss: 0.2031 - val_acc: 0.9266\n",
      "\n",
      "Epoch 00006: val_loss improved from 0.60167 to 0.20312, saving model to E:\\deeplearning\\Hepatocarcinomes\\models\\10x\\vgg16_dense_bn\\adam_64_lr3_weights.06-0.9266.hdf5\n",
      "Epoch 7/100\n",
      "1250/1250 [==============================] - 882s 706ms/step - loss: 0.1497 - acc: 0.9463 - val_loss: 0.1907 - val_acc: 0.9279\n",
      "Epoch 8/100\n",
      "1250/1250 [==============================] - 742s 593ms/step - loss: 0.1345 - acc: 0.9524 - val_loss: 0.1942 - val_acc: 0.9260\n",
      "Epoch 9/100\n",
      "1250/1250 [==============================] - 742s 594ms/step - loss: 0.1250 - acc: 0.9554 - val_loss: 0.2756 - val_acc: 0.9054\n",
      "\n",
      "Epoch 00009: val_loss did not improve from 0.20312\n",
      "Epoch 10/100\n",
      "1250/1250 [==============================] - 744s 596ms/step - loss: 0.1136 - acc: 0.9599 - val_loss: 0.4499 - val_acc: 0.8611\n",
      "Epoch 11/100\n",
      "1250/1250 [==============================] - 741s 593ms/step - loss: 0.1027 - acc: 0.9642 - val_loss: 0.2904 - val_acc: 0.9125\n",
      "Epoch 12/100\n",
      "1250/1250 [==============================] - 740s 592ms/step - loss: 0.0916 - acc: 0.9682 - val_loss: 0.2225 - val_acc: 0.9300\n",
      "\n",
      "Epoch 00012: val_loss did not improve from 0.20312\n",
      "Epoch 13/100\n",
      "1250/1250 [==============================] - 740s 592ms/step - loss: 0.0830 - acc: 0.9712 - val_loss: 0.2599 - val_acc: 0.9273\n",
      "Epoch 14/100\n",
      "1250/1250 [==============================] - 3134s 3s/step - loss: 0.0746 - acc: 0.9740 - val_loss: 0.2383 - val_acc: 0.9318\n",
      "Epoch 15/100\n",
      "1250/1250 [==============================] - 2575s 2s/step - loss: 0.0665 - acc: 0.9772 - val_loss: 0.3277 - val_acc: 0.9057\n",
      "\n",
      "Epoch 00015: val_loss did not improve from 0.20312\n",
      "\n",
      "Epoch 00015: ReduceLROnPlateau reducing learning rate to 0.00020000000949949026.\n",
      "Epoch 16/100\n",
      "1250/1250 [==============================] - 753s 602ms/step - loss: 0.0407 - acc: 0.9866 - val_loss: 0.2976 - val_acc: 0.9263\n",
      "Epoch 17/100\n",
      "1250/1250 [==============================] - 766s 613ms/step - loss: 0.0208 - acc: 0.9943 - val_loss: 0.3602 - val_acc: 0.9247\n",
      "Epoch 18/100\n",
      "1250/1250 [==============================] - 760s 608ms/step - loss: 0.0149 - acc: 0.9961 - val_loss: 0.3528 - val_acc: 0.9331\n",
      "\n",
      "Epoch 00018: val_loss did not improve from 0.20312\n",
      "Epoch 19/100\n",
      "1250/1250 [==============================] - 765s 612ms/step - loss: 0.0113 - acc: 0.9970 - val_loss: 0.3823 - val_acc: 0.9311\n",
      "Epoch 20/100\n",
      "1250/1250 [==============================] - 774s 619ms/step - loss: 0.0099 - acc: 0.9973 - val_loss: 0.4021 - val_acc: 0.9298\n",
      "Epoch 21/100\n",
      "1250/1250 [==============================] - 776s 621ms/step - loss: 0.0079 - acc: 0.9978 - val_loss: 0.4495 - val_acc: 0.9236\n",
      "\n",
      "Epoch 00021: val_loss did not improve from 0.20312\n",
      "Epoch 22/100\n",
      "1250/1250 [==============================] - 766s 613ms/step - loss: 0.0065 - acc: 0.9982 - val_loss: 0.4533 - val_acc: 0.9275\n",
      "Epoch 23/100\n",
      "1250/1250 [==============================] - 763s 610ms/step - loss: 0.0066 - acc: 0.9982 - val_loss: 0.4265 - val_acc: 0.9320\n",
      "Epoch 24/100\n",
      "1250/1250 [==============================] - 740s 592ms/step - loss: 0.0053 - acc: 0.9985 - val_loss: 0.4987 - val_acc: 0.9249\n",
      "\n",
      "Epoch 00024: val_loss did not improve from 0.20312\n",
      "Epoch 25/100\n",
      "1250/1250 [==============================] - 758s 607ms/step - loss: 0.0053 - acc: 0.9986 - val_loss: 0.4799 - val_acc: 0.9288\n",
      "\n",
      "Epoch 00025: ReduceLROnPlateau reducing learning rate to 4.0000001899898055e-05.\n",
      "Epoch 26/100\n",
      "1250/1250 [==============================] - 757s 605ms/step - loss: 0.0032 - acc: 0.9991 - val_loss: 0.4319 - val_acc: 0.9333\n",
      "Epoch 27/100\n",
      "1250/1250 [==============================] - 769s 615ms/step - loss: 0.0013 - acc: 0.9998 - val_loss: 0.4460 - val_acc: 0.9338\n",
      "\n",
      "Epoch 00027: val_loss did not improve from 0.20312\n",
      "Epoch 28/100\n",
      "1250/1250 [==============================] - 766s 613ms/step - loss: 9.8153e-04 - acc: 0.9999 - val_loss: 0.4700 - val_acc: 0.9335\n",
      "Epoch 29/100\n",
      "1250/1250 [==============================] - 1417s 1s/step - loss: 7.0942e-04 - acc: 0.9999 - val_loss: 0.4856 - val_acc: 0.9327\n",
      "Restoring model weights from the end of the best epoch\n",
      "Epoch 00029: early stopping\n"
     ]
    }
   ],
   "source": [
    "def calc_steps(data_len, batchsize):\n",
    "    print(data_len / batchsize)\n",
    "    if data_len%batchsize==0:\n",
    "        return (data_len // batchsize) \n",
    "    else:\n",
    "        return (data_len // batchsize - 1)\n",
    "\n",
    "# Calculate the steps per epoch\n",
    "train_steps = calc_steps(int(amount*1.6), batch_size)\n",
    "val_steps = calc_steps(int(amount*0.4), batch_size)\n",
    "\n",
    "csv_logger = CSVLogger(path1+'\\\\adam_64_lr3_training.csv', append=True)\n",
    "model_checkpoint = ModelCheckpoint(path1+'\\\\3_adam_64_lr3_weights.{epoch:02d}-{val_acc:.4f}.hdf5',verbose=1, save_best_only=True, save_weights_only=True)\n",
    "early_stop = EarlyStopping(patience=8, verbose=1, restore_best_weights=True)\n",
    "reduce_lr = ReduceLROnPlateau(factor=0.2, min_delta=0.005, cooldown=3, patience=8, verbose=1)\n",
    "# we could also set the parameter 'smax_queue_size' based on memory restriction\n",
    "results = model.fit_generator(traingen, train_steps, epochs=100, verbose=1, callbacks=[csv_logger, model_checkpoint, early_stop, reduce_lr], validation_data=valgen, validation_steps=val_steps)\n",
    "csv_logger.csv_file.close()"
   ]
  },
  {
   "cell_type": "code",
   "execution_count": 15,
   "metadata": {},
   "outputs": [
    {
     "data": {
      "image/png": "[encoded data removed]",
      "text/plain": [
       "<Figure size 720x720 with 2 Axes>"
      ]
     },
     "metadata": {
      "needs_background": "light"
     },
     "output_type": "display_data"
    }
   ],
   "source": [
    "#plot training results\n",
    "acc=results.history['acc']\n",
    "val_acc=results.history['val_acc']\n",
    "loss=results.history['loss']\n",
    "val_loss=results.history['val_loss']\n",
    "\n",
    "plt.figure(figsize=(10,10))\n",
    "plt.subplot(2,1,1)\n",
    "plt.ylabel('accuracy')\n",
    "# plt.ylim((0, 5))\n",
    "\n",
    "epochs=range(1, len(acc)+1)\n",
    "plt.plot(epochs,acc,'b--',label='acc')\n",
    "plt.plot(epochs, val_acc,'g',label='val_acc')\n",
    "index0=np.where(val_acc==np.amax(val_acc))[0]\n",
    "if(len(index0)>3):\n",
    "    for i in range(2):\n",
    "        plt.text(epochs[int(i)], val_acc[int(i)], str((epochs[int(i)], val_acc[int(i)])),color='g')\n",
    "else:\n",
    "    for i in index0:\n",
    "        plt.text(epochs[int(i)], val_acc[int(i)], str((epochs[int(i)], val_acc[int(i)])),color='g')\n",
    "    \n",
    "plt.title('Training and validation preformance')\n",
    "plt.legend()\n",
    "\n",
    "plt.subplot(2,1,2)\n",
    "plt.xlabel('epochs')\n",
    "plt.ylabel('loss')\n",
    "# plt.ylim((0, 5))\n",
    "\n",
    "epochs=range(1, len(loss)+1)\n",
    "plt.plot(epochs,loss,'b--',label='loss')\n",
    "plt.plot(epochs, val_loss,'g',label='val_loss')\n",
    "if(len(index0)>3):\n",
    "    for i in range(2):\n",
    "        plt.text(epochs[int(i)], val_loss[int(i)], str((epochs[int(i)], val_loss[int(i)])),color='g')\n",
    "else:\n",
    "    for i in index0:\n",
    "        plt.text(epochs[int(i)], val_loss[int(i)], str((epochs[int(i)], val_loss[int(i)])),color='g')\n",
    "    \n",
    "plt.legend()\n",
    "plt.savefig(path1+'\\\\adam_64_lr4_training_validation_performance')\n",
    "plt.show()"
   ]
  },
  {
   "cell_type": "code",
   "execution_count": 16,
   "metadata": {},
   "outputs": [],
   "source": [
    "model.save(path1 + '\\\\adam_64_lr3_best_model.hdf5')"
   ]
  },
  {
   "cell_type": "code",
   "execution_count": 17,
   "metadata": {},
   "outputs": [],
   "source": [
    "del(model)"
   ]
  },
  {
   "cell_type": "markdown",
   "metadata": {},
   "source": [
    "####best parameters:\n",
    "50k: batch_size=128, optimizer=Adam (lr=3)\n"
   ]
  },
  {
   "cell_type": "code",
   "execution_count": null,
   "metadata": {},
   "outputs": [],
   "source": []
  }
 ],
 "metadata": {
  "anaconda-cloud": {},
  "kernelspec": {
   "display_name": "Python [conda env:r-tensorflow]",
   "language": "python",
   "name": "conda-env-r-tensorflow-py"
  },
  "language_info": {
   "codemirror_mode": {
    "name": "ipython",
    "version": 3
   },
   "file_extension": ".py",
   "mimetype": "text/x-python",
   "name": "python",
   "nbconvert_exporter": "python",
   "pygments_lexer": "ipython3",
   "version": "3.6.8"
  }
 },
 "nbformat": 4,
 "nbformat_minor": 2
}
